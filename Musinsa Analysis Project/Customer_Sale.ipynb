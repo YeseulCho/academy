{
 "cells": [
  {
   "cell_type": "markdown",
   "metadata": {},
   "source": [
    "## Musinsa Customal's Viewpoint - Sale\n",
    "\n",
    "    작성자 : 조예슬\n",
    "    \n",
    "    상품의 할인율에 따른 고객의 상품 만족도 상관관계 알아보기\n",
    "    \n",
    "    - MySQL을 이용하여 데이터 전처리 진행\n",
    "    - 상품 랭킹에서 선정됐던 대분류 4가지(상의, 아우터, 바지, 스니커)의 고객의 만족도을 알아보고, 시각화시키기"
   ]
  },
  {
   "cell_type": "code",
   "execution_count": 2,
   "metadata": {},
   "outputs": [],
   "source": [
    "import numpy as np\n",
    "import pandas as pd\n",
    "import matplotlib as mpl\n",
    "import matplotlib.pyplot as plt                                                 # 실제로 그래프를 그려주는 애\n",
    "import seaborn as sns\n",
    "\n",
    "import matplotlib.font_manager as fm                                            # 한글폰트 안깨져서 나오게하기위해\n",
    "font_name = fm.FontProperties(fname=\"C:\\Windows/Fonts/malgun.ttf\").get_name()    # 폰트 지정\n",
    "plt.rc('font', family=font_name)                                                 # matplotlib내에 폰트 설정\n",
    "\n",
    "mpl.rcParams[\"axes.unicode_minus\"] = False        # 음수 설정, False로 지정하면 음수를 문자로 쓰지않고 숫자로 지정하겠다는 의미, 음수로 사용이 가능해진다.\n",
    "\n",
    "import MySQLdb"
   ]
  },
  {
   "cell_type": "code",
   "execution_count": 4,
   "metadata": {},
   "outputs": [],
   "source": [
    "config = {\"host\":\"192.168.0.44\", \"user\":\"musinsa\", \"password\":\"1111\", \"database\":\"PR_TEST\", \"charset\":'utf8'}\n",
    "conn = MySQLdb.connect(**config)"
   ]
  },
  {
   "cell_type": "code",
   "execution_count": 36,
   "metadata": {},
   "outputs": [
    {
     "data": {
      "text/html": [
       "<div>\n",
       "<style scoped>\n",
       "    .dataframe tbody tr th:only-of-type {\n",
       "        vertical-align: middle;\n",
       "    }\n",
       "\n",
       "    .dataframe tbody tr th {\n",
       "        vertical-align: top;\n",
       "    }\n",
       "\n",
       "    .dataframe thead th {\n",
       "        text-align: right;\n",
       "    }\n",
       "</style>\n",
       "<table border=\"1\" class=\"dataframe\">\n",
       "  <thead>\n",
       "    <tr style=\"text-align: right;\">\n",
       "      <th></th>\n",
       "      <th>MAJOR_CODE</th>\n",
       "      <th>SALE_PERCENT</th>\n",
       "      <th>SATISFACTION</th>\n",
       "    </tr>\n",
       "  </thead>\n",
       "  <tbody>\n",
       "    <tr>\n",
       "      <td>0</td>\n",
       "      <td>001</td>\n",
       "      <td>0.00</td>\n",
       "      <td>93.84</td>\n",
       "    </tr>\n",
       "    <tr>\n",
       "      <td>1</td>\n",
       "      <td>001</td>\n",
       "      <td>50.00</td>\n",
       "      <td>94.52</td>\n",
       "    </tr>\n",
       "    <tr>\n",
       "      <td>2</td>\n",
       "      <td>001</td>\n",
       "      <td>50.00</td>\n",
       "      <td>100.00</td>\n",
       "    </tr>\n",
       "    <tr>\n",
       "      <td>3</td>\n",
       "      <td>001</td>\n",
       "      <td>0.00</td>\n",
       "      <td>97.84</td>\n",
       "    </tr>\n",
       "    <tr>\n",
       "      <td>4</td>\n",
       "      <td>001</td>\n",
       "      <td>35.00</td>\n",
       "      <td>92.22</td>\n",
       "    </tr>\n",
       "    <tr>\n",
       "      <td>...</td>\n",
       "      <td>...</td>\n",
       "      <td>...</td>\n",
       "      <td>...</td>\n",
       "    </tr>\n",
       "    <tr>\n",
       "      <td>748</td>\n",
       "      <td>001</td>\n",
       "      <td>0.00</td>\n",
       "      <td>95.56</td>\n",
       "    </tr>\n",
       "    <tr>\n",
       "      <td>749</td>\n",
       "      <td>001</td>\n",
       "      <td>60.42</td>\n",
       "      <td>95.62</td>\n",
       "    </tr>\n",
       "    <tr>\n",
       "      <td>750</td>\n",
       "      <td>001</td>\n",
       "      <td>30.00</td>\n",
       "      <td>100.00</td>\n",
       "    </tr>\n",
       "    <tr>\n",
       "      <td>751</td>\n",
       "      <td>001</td>\n",
       "      <td>0.00</td>\n",
       "      <td>88.00</td>\n",
       "    </tr>\n",
       "    <tr>\n",
       "      <td>752</td>\n",
       "      <td>001</td>\n",
       "      <td>30.00</td>\n",
       "      <td>82.36</td>\n",
       "    </tr>\n",
       "  </tbody>\n",
       "</table>\n",
       "<p>753 rows × 3 columns</p>\n",
       "</div>"
      ],
      "text/plain": [
       "    MAJOR_CODE  SALE_PERCENT  SATISFACTION\n",
       "0          001          0.00         93.84\n",
       "1          001         50.00         94.52\n",
       "2          001         50.00        100.00\n",
       "3          001          0.00         97.84\n",
       "4          001         35.00         92.22\n",
       "..         ...           ...           ...\n",
       "748        001          0.00         95.56\n",
       "749        001         60.42         95.62\n",
       "750        001         30.00        100.00\n",
       "751        001          0.00         88.00\n",
       "752        001         30.00         82.36\n",
       "\n",
       "[753 rows x 3 columns]"
      ]
     },
     "execution_count": 36,
     "metadata": {},
     "output_type": "execute_result"
    }
   ],
   "source": [
    "# MAJOR_CODE = 1, 할인율 + 만족도 데이터 전처리 \n",
    "\n",
    "cursor = conn.cursor()  \n",
    "\n",
    "sql = \"\"\"SELECT CA.MAJOR_CODE, ROUND(((P.FIXED_PRICE - P.SALE_PRICE)/P.FIXED_PRICE)*100, 2) AS SALE, P.SATISFACTION\n",
    "FROM PRDT_INFO P, CATEGORY CA\n",
    "WHERE P.SUB_CODE = CA.SUB_CODE\n",
    "  AND CA.MAJOR_CODE = '001'\n",
    "HAVING P.SATISFACTION != 0\n",
    "ORDER BY CA.MAJOR_CODE ASC;\"\"\"\n",
    "                      \n",
    "cursor.execute(sql) \n",
    "\n",
    "arr = cursor.fetchall()\n",
    "\n",
    "sale1_columns = [\"MAJOR_CODE\", \"SALE_PERCENT\", \"SATISFACTION\"]\n",
    "\n",
    "sale1= pd.DataFrame(arr, columns=sale1_columns)\n",
    "\n",
    "# string -> float\n",
    "sale1[\"SALE_PERCENT\"] = sale1[\"SALE_PERCENT\"].astype(float)\n",
    "sale1[\"SATISFACTION\"] = sale1[\"SATISFACTION\"].astype(float)\n",
    "\n",
    "sale1"
   ]
  },
  {
   "cell_type": "code",
   "execution_count": 37,
   "metadata": {},
   "outputs": [
    {
     "data": {
      "text/plain": [
       "<seaborn.axisgrid.FacetGrid at 0x1d1fab322c8>"
      ]
     },
     "execution_count": 37,
     "metadata": {},
     "output_type": "execute_result"
    },
    {
     "data": {
      "image/png": "[encoded data removed]",
      "text/plain": [
       "<Figure size 360x360 with 1 Axes>"
      ]
     },
     "metadata": {
      "needs_background": "light"
     },
     "output_type": "display_data"
    }
   ],
   "source": [
    "# MAJOR_CODE = 1, 할인율 + 만족도 : 시각화\n",
    "sns.lmplot(y = \"SATISFACTION\", x = \"SALE_PERCENT\", data = sale1)"
   ]
  },
  {
   "cell_type": "code",
   "execution_count": 38,
   "metadata": {},
   "outputs": [
    {
     "data": {
      "text/plain": [
       "<matplotlib.axes._subplots.AxesSubplot at 0x1d1fabc9448>"
      ]
     },
     "execution_count": 38,
     "metadata": {},
     "output_type": "execute_result"
    },
    {
     "data": {
      "image/png": "[encoded data removed]",
      "text/plain": [
       "<Figure size 432x288 with 1 Axes>"
      ]
     },
     "metadata": {
      "needs_background": "light"
     },
     "output_type": "display_data"
    }
   ],
   "source": [
    "# MAJOR_CODE = 1, 할인율 구간별로 나누어 보기\n",
    "\n",
    "bins = [-1, 10, 20, 30, 40, 50, 60, 70, 80, 90, 100]\n",
    "labels = ['0%', '10%', '20%', '30%', '40%',\n",
    "          '50%', '60%', '70%', '80%', '90%']\n",
    "sale1[\"SALE_SPLIT\"] = pd.cut(sale1[\"SALE_PERCENT\"], bins=bins, labels=labels)\n",
    "\n",
    "sale1_b = sale1.pivot_table(\"SATISFACTION\", \"SALE_SPLIT\")\n",
    "sale1_b.plot()"
   ]
  },
  {
   "cell_type": "code",
   "execution_count": 39,
   "metadata": {},
   "outputs": [
    {
     "data": {
      "text/html": [
       "<div>\n",
       "<style scoped>\n",
       "    .dataframe tbody tr th:only-of-type {\n",
       "        vertical-align: middle;\n",
       "    }\n",
       "\n",
       "    .dataframe tbody tr th {\n",
       "        vertical-align: top;\n",
       "    }\n",
       "\n",
       "    .dataframe thead th {\n",
       "        text-align: right;\n",
       "    }\n",
       "</style>\n",
       "<table border=\"1\" class=\"dataframe\">\n",
       "  <thead>\n",
       "    <tr style=\"text-align: right;\">\n",
       "      <th></th>\n",
       "      <th>MAJOR_CODE</th>\n",
       "      <th>SALE_PERCENT</th>\n",
       "      <th>SATISFACTION</th>\n",
       "    </tr>\n",
       "  </thead>\n",
       "  <tbody>\n",
       "    <tr>\n",
       "      <td>0</td>\n",
       "      <td>002</td>\n",
       "      <td>23.26</td>\n",
       "      <td>92.50</td>\n",
       "    </tr>\n",
       "    <tr>\n",
       "      <td>1</td>\n",
       "      <td>002</td>\n",
       "      <td>50.00</td>\n",
       "      <td>80.00</td>\n",
       "    </tr>\n",
       "    <tr>\n",
       "      <td>2</td>\n",
       "      <td>002</td>\n",
       "      <td>20.00</td>\n",
       "      <td>88.34</td>\n",
       "    </tr>\n",
       "    <tr>\n",
       "      <td>3</td>\n",
       "      <td>002</td>\n",
       "      <td>50.00</td>\n",
       "      <td>95.56</td>\n",
       "    </tr>\n",
       "    <tr>\n",
       "      <td>4</td>\n",
       "      <td>002</td>\n",
       "      <td>40.08</td>\n",
       "      <td>93.14</td>\n",
       "    </tr>\n",
       "    <tr>\n",
       "      <td>...</td>\n",
       "      <td>...</td>\n",
       "      <td>...</td>\n",
       "      <td>...</td>\n",
       "    </tr>\n",
       "    <tr>\n",
       "      <td>389</td>\n",
       "      <td>002</td>\n",
       "      <td>50.00</td>\n",
       "      <td>100.00</td>\n",
       "    </tr>\n",
       "    <tr>\n",
       "      <td>390</td>\n",
       "      <td>002</td>\n",
       "      <td>0.00</td>\n",
       "      <td>94.34</td>\n",
       "    </tr>\n",
       "    <tr>\n",
       "      <td>391</td>\n",
       "      <td>002</td>\n",
       "      <td>30.00</td>\n",
       "      <td>94.82</td>\n",
       "    </tr>\n",
       "    <tr>\n",
       "      <td>392</td>\n",
       "      <td>002</td>\n",
       "      <td>0.00</td>\n",
       "      <td>90.78</td>\n",
       "    </tr>\n",
       "    <tr>\n",
       "      <td>393</td>\n",
       "      <td>002</td>\n",
       "      <td>0.00</td>\n",
       "      <td>91.02</td>\n",
       "    </tr>\n",
       "  </tbody>\n",
       "</table>\n",
       "<p>394 rows × 3 columns</p>\n",
       "</div>"
      ],
      "text/plain": [
       "    MAJOR_CODE  SALE_PERCENT  SATISFACTION\n",
       "0          002         23.26         92.50\n",
       "1          002         50.00         80.00\n",
       "2          002         20.00         88.34\n",
       "3          002         50.00         95.56\n",
       "4          002         40.08         93.14\n",
       "..         ...           ...           ...\n",
       "389        002         50.00        100.00\n",
       "390        002          0.00         94.34\n",
       "391        002         30.00         94.82\n",
       "392        002          0.00         90.78\n",
       "393        002          0.00         91.02\n",
       "\n",
       "[394 rows x 3 columns]"
      ]
     },
     "execution_count": 39,
     "metadata": {},
     "output_type": "execute_result"
    }
   ],
   "source": [
    "# MAJOR_CODE = 2, 할인율 + 만족도 데이터 전처리 \n",
    "\n",
    "cursor = conn.cursor()  \n",
    "\n",
    "sql = \"\"\"SELECT CA.MAJOR_CODE, ROUND(((P.FIXED_PRICE - P.SALE_PRICE)/P.FIXED_PRICE)*100, 2) AS SALE, P.SATISFACTION\n",
    "FROM PRDT_INFO P, CATEGORY CA\n",
    "WHERE P.SUB_CODE = CA.SUB_CODE\n",
    "  AND CA.MAJOR_CODE = '002'\n",
    "HAVING P.SATISFACTION != 0\n",
    "ORDER BY CA.MAJOR_CODE ASC;\"\"\"\n",
    "                      \n",
    "cursor.execute(sql) \n",
    "\n",
    "arr = cursor.fetchall()\n",
    "\n",
    "sale2_columns = [\"MAJOR_CODE\", \"SALE_PERCENT\", \"SATISFACTION\"]\n",
    "\n",
    "sale2= pd.DataFrame(arr, columns=sale2_columns)\n",
    "\n",
    "# string -> float\n",
    "sale2[\"SALE_PERCENT\"] = sale2[\"SALE_PERCENT\"].astype(float)\n",
    "sale2[\"SATISFACTION\"] = sale2[\"SATISFACTION\"].astype(float)\n",
    "\n",
    "sale2"
   ]
  },
  {
   "cell_type": "code",
   "execution_count": 40,
   "metadata": {},
   "outputs": [
    {
     "data": {
      "text/plain": [
       "<seaborn.axisgrid.FacetGrid at 0x1d1fac29a88>"
      ]
     },
     "execution_count": 40,
     "metadata": {},
     "output_type": "execute_result"
    },
    {
     "data": {
      "image/png": "[encoded data removed]",
      "text/plain": [
       "<Figure size 360x360 with 1 Axes>"
      ]
     },
     "metadata": {
      "needs_background": "light"
     },
     "output_type": "display_data"
    }
   ],
   "source": [
    "# MAJOR_CODE = 2, 할인율 + 만족도 : 시각화\n",
    "sns.lmplot(y = \"SATISFACTION\", x = \"SALE_PERCENT\", data = sale2)"
   ]
  },
  {
   "cell_type": "code",
   "execution_count": 41,
   "metadata": {},
   "outputs": [
    {
     "data": {
      "text/plain": [
       "<matplotlib.axes._subplots.AxesSubplot at 0x1d1fac7bf48>"
      ]
     },
     "execution_count": 41,
     "metadata": {},
     "output_type": "execute_result"
    },
    {
     "data": {
      "image/png": "[encoded data removed]",
      "text/plain": [
       "<Figure size 432x288 with 1 Axes>"
      ]
     },
     "metadata": {
      "needs_background": "light"
     },
     "output_type": "display_data"
    }
   ],
   "source": [
    "# MAJOR_CODE = 2, 할인율 구간별로 나누어 보기\n",
    "\n",
    "bins = [-1, 10, 20, 30, 40, 50, 60, 70, 80, 90, 100]\n",
    "labels = ['0%', '10%', '20%', '30%', '40%',\n",
    "          '50%', '60%', '70%', '80%', '90%']\n",
    "sale2[\"SALE_SPLIT\"] = pd.cut(sale2[\"SALE_PERCENT\"], bins=bins, labels=labels)\n",
    "\n",
    "sale2_b = sale2.pivot_table(\"SATISFACTION\", \"SALE_SPLIT\")\n",
    "sale2_b.plot()"
   ]
  },
  {
   "cell_type": "code",
   "execution_count": 45,
   "metadata": {},
   "outputs": [
    {
     "data": {
      "text/html": [
       "<div>\n",
       "<style scoped>\n",
       "    .dataframe tbody tr th:only-of-type {\n",
       "        vertical-align: middle;\n",
       "    }\n",
       "\n",
       "    .dataframe tbody tr th {\n",
       "        vertical-align: top;\n",
       "    }\n",
       "\n",
       "    .dataframe thead th {\n",
       "        text-align: right;\n",
       "    }\n",
       "</style>\n",
       "<table border=\"1\" class=\"dataframe\">\n",
       "  <thead>\n",
       "    <tr style=\"text-align: right;\">\n",
       "      <th></th>\n",
       "      <th>MAJOR_CODE</th>\n",
       "      <th>SALE_PERCENT</th>\n",
       "      <th>SATISFACTION</th>\n",
       "    </tr>\n",
       "  </thead>\n",
       "  <tbody>\n",
       "    <tr>\n",
       "      <td>0</td>\n",
       "      <td>003</td>\n",
       "      <td>20.07</td>\n",
       "      <td>93.34</td>\n",
       "    </tr>\n",
       "    <tr>\n",
       "      <td>1</td>\n",
       "      <td>003</td>\n",
       "      <td>20.00</td>\n",
       "      <td>92.56</td>\n",
       "    </tr>\n",
       "    <tr>\n",
       "      <td>2</td>\n",
       "      <td>003</td>\n",
       "      <td>20.00</td>\n",
       "      <td>92.34</td>\n",
       "    </tr>\n",
       "    <tr>\n",
       "      <td>3</td>\n",
       "      <td>003</td>\n",
       "      <td>20.00</td>\n",
       "      <td>60.00</td>\n",
       "    </tr>\n",
       "    <tr>\n",
       "      <td>4</td>\n",
       "      <td>003</td>\n",
       "      <td>30.34</td>\n",
       "      <td>100.00</td>\n",
       "    </tr>\n",
       "    <tr>\n",
       "      <td>...</td>\n",
       "      <td>...</td>\n",
       "      <td>...</td>\n",
       "      <td>...</td>\n",
       "    </tr>\n",
       "    <tr>\n",
       "      <td>334</td>\n",
       "      <td>003</td>\n",
       "      <td>30.00</td>\n",
       "      <td>80.00</td>\n",
       "    </tr>\n",
       "    <tr>\n",
       "      <td>335</td>\n",
       "      <td>003</td>\n",
       "      <td>0.00</td>\n",
       "      <td>95.00</td>\n",
       "    </tr>\n",
       "    <tr>\n",
       "      <td>336</td>\n",
       "      <td>003</td>\n",
       "      <td>0.00</td>\n",
       "      <td>96.00</td>\n",
       "    </tr>\n",
       "    <tr>\n",
       "      <td>337</td>\n",
       "      <td>003</td>\n",
       "      <td>0.00</td>\n",
       "      <td>80.00</td>\n",
       "    </tr>\n",
       "    <tr>\n",
       "      <td>338</td>\n",
       "      <td>003</td>\n",
       "      <td>30.00</td>\n",
       "      <td>100.00</td>\n",
       "    </tr>\n",
       "  </tbody>\n",
       "</table>\n",
       "<p>339 rows × 3 columns</p>\n",
       "</div>"
      ],
      "text/plain": [
       "    MAJOR_CODE  SALE_PERCENT  SATISFACTION\n",
       "0          003         20.07         93.34\n",
       "1          003         20.00         92.56\n",
       "2          003         20.00         92.34\n",
       "3          003         20.00         60.00\n",
       "4          003         30.34        100.00\n",
       "..         ...           ...           ...\n",
       "334        003         30.00         80.00\n",
       "335        003          0.00         95.00\n",
       "336        003          0.00         96.00\n",
       "337        003          0.00         80.00\n",
       "338        003         30.00        100.00\n",
       "\n",
       "[339 rows x 3 columns]"
      ]
     },
     "execution_count": 45,
     "metadata": {},
     "output_type": "execute_result"
    }
   ],
   "source": [
    "# MAJOR_CODE = 3, 할인율 + 만족도 데이터 전처리 \n",
    "\n",
    "cursor = conn.cursor()  \n",
    "\n",
    "sql = \"\"\"SELECT CA.MAJOR_CODE, ROUND(((P.FIXED_PRICE - P.SALE_PRICE)/P.FIXED_PRICE)*100, 2) AS SALE, P.SATISFACTION\n",
    "FROM PRDT_INFO P, CATEGORY CA\n",
    "WHERE P.SUB_CODE = CA.SUB_CODE\n",
    "  AND CA.MAJOR_CODE = '003'\n",
    "HAVING P.SATISFACTION != 0\n",
    "ORDER BY CA.MAJOR_CODE ASC;\"\"\"\n",
    "                      \n",
    "cursor.execute(sql) \n",
    "\n",
    "arr = cursor.fetchall()\n",
    "\n",
    "sale3_columns = [\"MAJOR_CODE\", \"SALE_PERCENT\", \"SATISFACTION\"]\n",
    "\n",
    "sale3= pd.DataFrame(arr, columns=sale3_columns)\n",
    "\n",
    "# string -> float\n",
    "sale3[\"SALE_PERCENT\"] = sale3[\"SALE_PERCENT\"].astype(float)\n",
    "sale3[\"SATISFACTION\"] = sale3[\"SATISFACTION\"].astype(float)\n",
    "\n",
    "sale3"
   ]
  },
  {
   "cell_type": "code",
   "execution_count": 46,
   "metadata": {},
   "outputs": [
    {
     "data": {
      "text/plain": [
       "<seaborn.axisgrid.FacetGrid at 0x1d1fa38f088>"
      ]
     },
     "execution_count": 46,
     "metadata": {},
     "output_type": "execute_result"
    },
    {
     "data": {
      "image/png": "[encoded data removed]",
      "text/plain": [
       "<Figure size 360x360 with 1 Axes>"
      ]
     },
     "metadata": {
      "needs_background": "light"
     },
     "output_type": "display_data"
    }
   ],
   "source": [
    "# MAJOR_CODE = 3, 할인율 + 만족도 : 시각화\n",
    "sns.lmplot(y = \"SATISFACTION\", x = \"SALE_PERCENT\", data = sale3)"
   ]
  },
  {
   "cell_type": "code",
   "execution_count": 47,
   "metadata": {},
   "outputs": [
    {
     "data": {
      "text/plain": [
       "<matplotlib.axes._subplots.AxesSubplot at 0x1d1fa4b3c08>"
      ]
     },
     "execution_count": 47,
     "metadata": {},
     "output_type": "execute_result"
    },
    {
     "data": {
      "image/png": "[encoded data removed]",
      "text/plain": [
       "<Figure size 432x288 with 1 Axes>"
      ]
     },
     "metadata": {
      "needs_background": "light"
     },
     "output_type": "display_data"
    }
   ],
   "source": [
    "# MAJOR_CODE = 3, 할인율 구간별로 나누어 보기\n",
    "\n",
    "bins = [-1, 10, 20, 30, 40, 50, 60, 70, 80, 90, 100]\n",
    "labels = ['0%', '10%', '20%', '30%', '40%',\n",
    "          '50%', '60%', '70%', '80%', '90%']\n",
    "sale3[\"SALE_SPLIT\"] = pd.cut(sale3[\"SALE_PERCENT\"], bins=bins, labels=labels)\n",
    "\n",
    "sale3_b = sale3.pivot_table(\"SATISFACTION\", \"SALE_SPLIT\")\n",
    "sale3_b.plot()"
   ]
  },
  {
   "cell_type": "code",
   "execution_count": 5,
   "metadata": {},
   "outputs": [
    {
     "data": {
      "text/html": [
       "<div>\n",
       "<style scoped>\n",
       "    .dataframe tbody tr th:only-of-type {\n",
       "        vertical-align: middle;\n",
       "    }\n",
       "\n",
       "    .dataframe tbody tr th {\n",
       "        vertical-align: top;\n",
       "    }\n",
       "\n",
       "    .dataframe thead th {\n",
       "        text-align: right;\n",
       "    }\n",
       "</style>\n",
       "<table border=\"1\" class=\"dataframe\">\n",
       "  <thead>\n",
       "    <tr style=\"text-align: right;\">\n",
       "      <th></th>\n",
       "      <th>MAJOR_CODE</th>\n",
       "      <th>SALE_PERCENT</th>\n",
       "      <th>SATISFACTION</th>\n",
       "    </tr>\n",
       "  </thead>\n",
       "  <tbody>\n",
       "    <tr>\n",
       "      <td>0</td>\n",
       "      <td>018</td>\n",
       "      <td>0.00</td>\n",
       "      <td>94.58</td>\n",
       "    </tr>\n",
       "    <tr>\n",
       "      <td>1</td>\n",
       "      <td>018</td>\n",
       "      <td>20.00</td>\n",
       "      <td>83.34</td>\n",
       "    </tr>\n",
       "    <tr>\n",
       "      <td>2</td>\n",
       "      <td>018</td>\n",
       "      <td>47.97</td>\n",
       "      <td>93.64</td>\n",
       "    </tr>\n",
       "    <tr>\n",
       "      <td>3</td>\n",
       "      <td>018</td>\n",
       "      <td>0.00</td>\n",
       "      <td>80.00</td>\n",
       "    </tr>\n",
       "    <tr>\n",
       "      <td>4</td>\n",
       "      <td>018</td>\n",
       "      <td>23.33</td>\n",
       "      <td>85.00</td>\n",
       "    </tr>\n",
       "    <tr>\n",
       "      <td>...</td>\n",
       "      <td>...</td>\n",
       "      <td>...</td>\n",
       "      <td>...</td>\n",
       "    </tr>\n",
       "    <tr>\n",
       "      <td>88</td>\n",
       "      <td>018</td>\n",
       "      <td>27.37</td>\n",
       "      <td>91.42</td>\n",
       "    </tr>\n",
       "    <tr>\n",
       "      <td>89</td>\n",
       "      <td>018</td>\n",
       "      <td>0.00</td>\n",
       "      <td>94.80</td>\n",
       "    </tr>\n",
       "    <tr>\n",
       "      <td>90</td>\n",
       "      <td>018</td>\n",
       "      <td>20.00</td>\n",
       "      <td>94.80</td>\n",
       "    </tr>\n",
       "    <tr>\n",
       "      <td>91</td>\n",
       "      <td>018</td>\n",
       "      <td>0.00</td>\n",
       "      <td>94.34</td>\n",
       "    </tr>\n",
       "    <tr>\n",
       "      <td>92</td>\n",
       "      <td>018</td>\n",
       "      <td>0.00</td>\n",
       "      <td>92.80</td>\n",
       "    </tr>\n",
       "  </tbody>\n",
       "</table>\n",
       "<p>93 rows × 3 columns</p>\n",
       "</div>"
      ],
      "text/plain": [
       "   MAJOR_CODE  SALE_PERCENT  SATISFACTION\n",
       "0         018          0.00         94.58\n",
       "1         018         20.00         83.34\n",
       "2         018         47.97         93.64\n",
       "3         018          0.00         80.00\n",
       "4         018         23.33         85.00\n",
       "..        ...           ...           ...\n",
       "88        018         27.37         91.42\n",
       "89        018          0.00         94.80\n",
       "90        018         20.00         94.80\n",
       "91        018          0.00         94.34\n",
       "92        018          0.00         92.80\n",
       "\n",
       "[93 rows x 3 columns]"
      ]
     },
     "execution_count": 5,
     "metadata": {},
     "output_type": "execute_result"
    }
   ],
   "source": [
    "# MAJOR_CODE = 18, 할인율 + 만족도 데이터 전처리 \n",
    "\n",
    "cursor = conn.cursor()  \n",
    "\n",
    "sql = \"\"\"SELECT CA.MAJOR_CODE, ROUND(((P.FIXED_PRICE - P.SALE_PRICE)/P.FIXED_PRICE)*100, 2) AS SALE, P.SATISFACTION\n",
    "FROM PRDT_INFO P, CATEGORY CA\n",
    "WHERE P.SUB_CODE = CA.SUB_CODE\n",
    "  AND CA.MAJOR_CODE = '018'\n",
    "HAVING P.SATISFACTION != 0\n",
    "ORDER BY CA.MAJOR_CODE ASC;\"\"\"\n",
    "                      \n",
    "cursor.execute(sql) \n",
    "\n",
    "arr = cursor.fetchall()\n",
    "\n",
    "sale18_columns = [\"MAJOR_CODE\", \"SALE_PERCENT\", \"SATISFACTION\"]\n",
    "\n",
    "sale18= pd.DataFrame(arr, columns=sale18_columns)\n",
    "\n",
    "# string -> float\n",
    "sale18[\"SALE_PERCENT\"] = sale18[\"SALE_PERCENT\"].astype(float)\n",
    "sale18[\"SATISFACTION\"] = sale18[\"SATISFACTION\"].astype(float)\n",
    "\n",
    "sale18"
   ]
  },
  {
   "cell_type": "code",
   "execution_count": 6,
   "metadata": {},
   "outputs": [
    {
     "data": {
      "text/plain": [
       "<seaborn.axisgrid.FacetGrid at 0x290c6c29948>"
      ]
     },
     "execution_count": 6,
     "metadata": {},
     "output_type": "execute_result"
    },
    {
     "data": {
      "image/png": "[encoded data removed]",
      "text/plain": [
       "<Figure size 360x360 with 1 Axes>"
      ]
     },
     "metadata": {
      "needs_background": "light"
     },
     "output_type": "display_data"
    }
   ],
   "source": [
    "# MAJOR_CODE = 18, 할인율 + 만족도 : 시각화\n",
    "sns.lmplot(y = \"SATISFACTION\", x = \"SALE_PERCENT\", data = sale18)"
   ]
  },
  {
   "cell_type": "code",
   "execution_count": 8,
   "metadata": {},
   "outputs": [
    {
     "data": {
      "text/plain": [
       "<matplotlib.axes._subplots.AxesSubplot at 0x290c8194648>"
      ]
     },
     "execution_count": 8,
     "metadata": {},
     "output_type": "execute_result"
    },
    {
     "data": {
      "image/png": "[encoded data removed]",
      "text/plain": [
       "<Figure size 432x288 with 1 Axes>"
      ]
     },
     "metadata": {
      "needs_background": "light"
     },
     "output_type": "display_data"
    }
   ],
   "source": [
    "# MAJOR_CODE = 18, 할인율 구간별로 나누어 보기\n",
    "\n",
    "bins = [-1, 10, 20, 30, 40, 50, 60, 70, 80, 90, 100]\n",
    "labels = ['0%', '10%', '20%', '30%', '40%',\n",
    "          '50%', '60%', '70%', '80%', '90%']\n",
    "sale18[\"SALE_SPLIT\"] = pd.cut(sale18[\"SALE_PERCENT\"], bins=bins, labels=labels)\n",
    "\n",
    "sale18_b = sale18.pivot_table(\"SATISFACTION\", \"SALE_SPLIT\")\n",
    "sale18_b.plot()"
   ]
  },
  {
   "cell_type": "markdown",
   "metadata": {},
   "source": [
    "### 최종 결론\n",
    "\n",
    "    할인율에 따라 고객의 만족도는 큰차이를 보이지 않음\n",
    "    고객은 자신의 선택에 대체적으로 만족하는 것 같음"
   ]
  }
 ],
 "metadata": {
  "kernelspec": {
   "display_name": "Python 3",
   "language": "python",
   "name": "python3"
  },
  "language_info": {
   "codemirror_mode": {
    "name": "ipython",
    "version": 3
   },
   "file_extension": ".py",
   "mimetype": "text/x-python",
   "name": "python",
   "nbconvert_exporter": "python",
   "pygments_lexer": "ipython3",
   "version": "3.7.4"
  }
 },
 "nbformat": 4,
 "nbformat_minor": 2
}

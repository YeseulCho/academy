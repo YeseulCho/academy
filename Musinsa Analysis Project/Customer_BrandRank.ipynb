{
 "cells": [
  {
   "cell_type": "markdown",
   "metadata": {},
   "source": [
    "## Musinsa Customal's Viewpoint - Brand Ranking\n",
    "\n",
    "    작성자 : 조예슬\n",
    "    \n",
    "    소비자들의 조회수, 판매수가 높을 수록 관심이 높다고 판단\n",
    "    브랜드 랭킹이 소비자 관심에 미치는 영향은 어떤지 알아보기\n",
    "    \n",
    "    - MySQL을 이용하여 데이터 전처리 진행\n",
    "    - 브랜드 랭킹에 따라 상품들의 조회수, 판매수 평균 내고, 시각화 시키기"
   ]
  },
  {
   "cell_type": "code",
   "execution_count": 1,
   "metadata": {},
   "outputs": [],
   "source": [
    "import numpy as np\n",
    "import pandas as pd\n",
    "import matplotlib as mpl\n",
    "import matplotlib.pyplot as plt                                                 # 실제로 그래프를 그려주는 애\n",
    "import seaborn as sns\n",
    "\n",
    "import matplotlib.font_manager as fm                                            # 한글폰트 안깨져서 나오게하기위해\n",
    "font_name = fm.FontProperties(fname=\"C:\\Windows/Fonts/malgun.ttf\").get_name()    # 폰트 지정\n",
    "plt.rc('font', family=font_name)                                                 # matplotlib내에 폰트 설정\n",
    "\n",
    "mpl.rcParams[\"axes.unicode_minus\"] = False        # 음수 설정, False로 지정하면 음수를 문자로 쓰지않고 숫자로 지정하겠다는 의미, 음수로 사용이 가능해진다.\n",
    "\n",
    "import MySQLdb"
   ]
  },
  {
   "cell_type": "code",
   "execution_count": 3,
   "metadata": {},
   "outputs": [],
   "source": [
    "config = {\"host\":\"192.168.0.31\", \"user\":\"musinsa\", \"password\":\"1111\", \"database\":\"PR_TEST\", \"charset\":'utf8'}\n",
    "conn = MySQLdb.connect(**config)"
   ]
  },
  {
   "cell_type": "code",
   "execution_count": 40,
   "metadata": {},
   "outputs": [
    {
     "data": {
      "text/html": [
       "<div>\n",
       "<style scoped>\n",
       "    .dataframe tbody tr th:only-of-type {\n",
       "        vertical-align: middle;\n",
       "    }\n",
       "\n",
       "    .dataframe tbody tr th {\n",
       "        vertical-align: top;\n",
       "    }\n",
       "\n",
       "    .dataframe thead th {\n",
       "        text-align: right;\n",
       "    }\n",
       "</style>\n",
       "<table border=\"1\" class=\"dataframe\">\n",
       "  <thead>\n",
       "    <tr style=\"text-align: right;\">\n",
       "      <th></th>\n",
       "      <th>RANK_RANGE</th>\n",
       "      <th>RANK_SORT</th>\n",
       "      <th>BRD_RANK</th>\n",
       "      <th>BRD_CODE</th>\n",
       "      <th>LOAD_DATE</th>\n",
       "    </tr>\n",
       "  </thead>\n",
       "  <tbody>\n",
       "    <tr>\n",
       "      <td>0</td>\n",
       "      <td>1d</td>\n",
       "      <td>pop</td>\n",
       "      <td>1.0</td>\n",
       "      <td>musinsastandard</td>\n",
       "      <td>2020-01-12 23:43:42</td>\n",
       "    </tr>\n",
       "    <tr>\n",
       "      <td>1</td>\n",
       "      <td>1d</td>\n",
       "      <td>pop</td>\n",
       "      <td>2.0</td>\n",
       "      <td>covernat</td>\n",
       "      <td>2020-01-12 23:43:42</td>\n",
       "    </tr>\n",
       "    <tr>\n",
       "      <td>2</td>\n",
       "      <td>1d</td>\n",
       "      <td>pop</td>\n",
       "      <td>3.0</td>\n",
       "      <td>adidas</td>\n",
       "      <td>2020-01-12 23:43:42</td>\n",
       "    </tr>\n",
       "    <tr>\n",
       "      <td>3</td>\n",
       "      <td>1d</td>\n",
       "      <td>pop</td>\n",
       "      <td>4.0</td>\n",
       "      <td>thisisneverthat</td>\n",
       "      <td>2020-01-12 23:43:42</td>\n",
       "    </tr>\n",
       "    <tr>\n",
       "      <td>4</td>\n",
       "      <td>1d</td>\n",
       "      <td>pop</td>\n",
       "      <td>5.0</td>\n",
       "      <td>nike</td>\n",
       "      <td>2020-01-12 23:43:42</td>\n",
       "    </tr>\n",
       "  </tbody>\n",
       "</table>\n",
       "</div>"
      ],
      "text/plain": [
       "  RANK_RANGE RANK_SORT  BRD_RANK         BRD_CODE           LOAD_DATE\n",
       "0         1d       pop       1.0  musinsastandard 2020-01-12 23:43:42\n",
       "1         1d       pop       2.0         covernat 2020-01-12 23:43:42\n",
       "2         1d       pop       3.0           adidas 2020-01-12 23:43:42\n",
       "3         1d       pop       4.0  thisisneverthat 2020-01-12 23:43:42\n",
       "4         1d       pop       5.0             nike 2020-01-12 23:43:42"
      ]
     },
     "execution_count": 40,
     "metadata": {},
     "output_type": "execute_result"
    }
   ],
   "source": [
    "# 브랜드 랭킹 데이터 전처리 \n",
    "\n",
    "cursor = conn.cursor()  \n",
    "\n",
    "sql = \"\"\"SELECT BR.RANK_RANGE, BR.RANK_SORT, BR.BRD_RANK, BR.BRD_CODE, BR.LOAD_DATE\n",
    "FROM BRAND_RANK BR\n",
    "WHERE RANK_RANGE = \"1d\" AND RANK_SORT = \"pop\";\"\"\"\n",
    "                      \n",
    "cursor.execute(sql) \n",
    "\n",
    "arr = cursor.fetchall()\n",
    "\n",
    "rank_columns = [\"RANK_RANGE\", \"RANK_SORT\", \"BRD_RANK\", \"BRD_CODE\", \"LOAD_DATE\"]\n",
    "\n",
    "RANK= pd.DataFrame(arr, columns=rank_columns)\n",
    "\n",
    "# string -> float\n",
    "RANK[\"BRD_RANK\"] = RANK[\"BRD_RANK\"].astype(float)\n",
    "\n",
    "RANK.head(5)"
   ]
  },
  {
   "cell_type": "code",
   "execution_count": 6,
   "metadata": {},
   "outputs": [
    {
     "data": {
      "text/html": [
       "<div>\n",
       "<style scoped>\n",
       "    .dataframe tbody tr th:only-of-type {\n",
       "        vertical-align: middle;\n",
       "    }\n",
       "\n",
       "    .dataframe tbody tr th {\n",
       "        vertical-align: top;\n",
       "    }\n",
       "\n",
       "    .dataframe thead th {\n",
       "        text-align: right;\n",
       "    }\n",
       "</style>\n",
       "<table border=\"1\" class=\"dataframe\">\n",
       "  <thead>\n",
       "    <tr style=\"text-align: right;\">\n",
       "      <th></th>\n",
       "      <th>BRD_RANK</th>\n",
       "    </tr>\n",
       "    <tr>\n",
       "      <th>BRD_CODE</th>\n",
       "      <th></th>\n",
       "    </tr>\n",
       "  </thead>\n",
       "  <tbody>\n",
       "    <tr>\n",
       "      <td>1507</td>\n",
       "      <td>77.43</td>\n",
       "    </tr>\n",
       "    <tr>\n",
       "      <td>2365</td>\n",
       "      <td>99.00</td>\n",
       "    </tr>\n",
       "    <tr>\n",
       "      <td>247seoul</td>\n",
       "      <td>74.71</td>\n",
       "    </tr>\n",
       "    <tr>\n",
       "      <td>5252byoioi</td>\n",
       "      <td>49.29</td>\n",
       "    </tr>\n",
       "    <tr>\n",
       "      <td>86road</td>\n",
       "      <td>73.71</td>\n",
       "    </tr>\n",
       "  </tbody>\n",
       "</table>\n",
       "</div>"
      ],
      "text/plain": [
       "            BRD_RANK\n",
       "BRD_CODE            \n",
       "1507           77.43\n",
       "2365           99.00\n",
       "247seoul       74.71\n",
       "5252byoioi     49.29\n",
       "86road         73.71"
      ]
     },
     "execution_count": 6,
     "metadata": {},
     "output_type": "execute_result"
    }
   ],
   "source": [
    "# RANK 평균 나타내기\n",
    "RANK_MEAN = (RANK.groupby(RANK.BRD_CODE).mean()).round(2)\n",
    "RANK_MEAN.head(5)"
   ]
  },
  {
   "cell_type": "code",
   "execution_count": 7,
   "metadata": {},
   "outputs": [
    {
     "data": {
      "text/html": [
       "<div>\n",
       "<style scoped>\n",
       "    .dataframe tbody tr th:only-of-type {\n",
       "        vertical-align: middle;\n",
       "    }\n",
       "\n",
       "    .dataframe tbody tr th {\n",
       "        vertical-align: top;\n",
       "    }\n",
       "\n",
       "    .dataframe thead th {\n",
       "        text-align: right;\n",
       "    }\n",
       "</style>\n",
       "<table border=\"1\" class=\"dataframe\">\n",
       "  <thead>\n",
       "    <tr style=\"text-align: right;\">\n",
       "      <th></th>\n",
       "      <th>BRD_NAME</th>\n",
       "      <th>BRD_CODE</th>\n",
       "    </tr>\n",
       "  </thead>\n",
       "  <tbody>\n",
       "    <tr>\n",
       "      <td>0</td>\n",
       "      <td>AAC</td>\n",
       "      <td>doubleac</td>\n",
       "    </tr>\n",
       "    <tr>\n",
       "      <td>1</td>\n",
       "      <td>AGNEL</td>\n",
       "      <td>agnel</td>\n",
       "    </tr>\n",
       "    <tr>\n",
       "      <td>2</td>\n",
       "      <td>ACOTEDEMOI</td>\n",
       "      <td>acotedemoi</td>\n",
       "    </tr>\n",
       "    <tr>\n",
       "      <td>3</td>\n",
       "      <td>ANATECH</td>\n",
       "      <td>anatech</td>\n",
       "    </tr>\n",
       "    <tr>\n",
       "      <td>4</td>\n",
       "      <td>ANALOG MOOD</td>\n",
       "      <td>analogmood</td>\n",
       "    </tr>\n",
       "    <tr>\n",
       "      <td>5</td>\n",
       "      <td>AGNESB</td>\n",
       "      <td>agnesbeyewear</td>\n",
       "    </tr>\n",
       "    <tr>\n",
       "      <td>6</td>\n",
       "      <td>ANELLO</td>\n",
       "      <td>anello</td>\n",
       "    </tr>\n",
       "    <tr>\n",
       "      <td>7</td>\n",
       "      <td>ANONIMO-A</td>\n",
       "      <td>anonimoa</td>\n",
       "    </tr>\n",
       "    <tr>\n",
       "      <td>8</td>\n",
       "      <td>ANOMIE COMPLEX</td>\n",
       "      <td>anomiecomplex</td>\n",
       "    </tr>\n",
       "    <tr>\n",
       "      <td>9</td>\n",
       "      <td>ANOBLIR</td>\n",
       "      <td>anoblir</td>\n",
       "    </tr>\n",
       "  </tbody>\n",
       "</table>\n",
       "</div>"
      ],
      "text/plain": [
       "         BRD_NAME       BRD_CODE\n",
       "0             AAC       doubleac\n",
       "1           AGNEL          agnel\n",
       "2      ACOTEDEMOI     acotedemoi\n",
       "3         ANATECH        anatech\n",
       "4     ANALOG MOOD     analogmood\n",
       "5          AGNESB  agnesbeyewear\n",
       "6          ANELLO         anello\n",
       "7       ANONIMO-A       anonimoa\n",
       "8  ANOMIE COMPLEX  anomiecomplex\n",
       "9         ANOBLIR        anoblir"
      ]
     },
     "execution_count": 7,
     "metadata": {},
     "output_type": "execute_result"
    }
   ],
   "source": [
    "# BRAND_LIST 데이터 전처리 \n",
    "\n",
    "cursor = conn.cursor()  \n",
    "\n",
    "sql = \"\"\"SELECT BL.BRD_NAME_ENG, BL.BRD_CODE\n",
    "FROM BRAND_LIST BL;\"\"\"\n",
    "                      \n",
    "cursor.execute(sql) \n",
    "\n",
    "arr = cursor.fetchall()\n",
    "\n",
    "BLIST_columns = [\"BRD_NAME\", \"BRD_CODE\"]\n",
    "\n",
    "BLIST= pd.DataFrame(arr, columns=BLIST_columns)\n",
    "\n",
    "BLIST.head(10)\n"
   ]
  },
  {
   "cell_type": "code",
   "execution_count": 8,
   "metadata": {},
   "outputs": [
    {
     "data": {
      "text/html": [
       "<div>\n",
       "<style scoped>\n",
       "    .dataframe tbody tr th:only-of-type {\n",
       "        vertical-align: middle;\n",
       "    }\n",
       "\n",
       "    .dataframe tbody tr th {\n",
       "        vertical-align: top;\n",
       "    }\n",
       "\n",
       "    .dataframe thead th {\n",
       "        text-align: right;\n",
       "    }\n",
       "</style>\n",
       "<table border=\"1\" class=\"dataframe\">\n",
       "  <thead>\n",
       "    <tr style=\"text-align: right;\">\n",
       "      <th></th>\n",
       "      <th>BRD_NAME</th>\n",
       "      <th>PRDT_CODE</th>\n",
       "    </tr>\n",
       "  </thead>\n",
       "  <tbody>\n",
       "    <tr>\n",
       "      <td>0</td>\n",
       "      <td>ROMANTIC CROWN</td>\n",
       "      <td>1149744</td>\n",
       "    </tr>\n",
       "    <tr>\n",
       "      <td>1</td>\n",
       "      <td>THISISNEVERTHAT</td>\n",
       "      <td>960950</td>\n",
       "    </tr>\n",
       "    <tr>\n",
       "      <td>2</td>\n",
       "      <td>CARHARTT</td>\n",
       "      <td>1220317</td>\n",
       "    </tr>\n",
       "    <tr>\n",
       "      <td>3</td>\n",
       "      <td>DIAMOND LAYLA</td>\n",
       "      <td>1150429</td>\n",
       "    </tr>\n",
       "    <tr>\n",
       "      <td>4</td>\n",
       "      <td>WKNDRS</td>\n",
       "      <td>713621</td>\n",
       "    </tr>\n",
       "  </tbody>\n",
       "</table>\n",
       "</div>"
      ],
      "text/plain": [
       "          BRD_NAME PRDT_CODE\n",
       "0   ROMANTIC CROWN   1149744\n",
       "1  THISISNEVERTHAT    960950\n",
       "2         CARHARTT   1220317\n",
       "3    DIAMOND LAYLA   1150429\n",
       "4           WKNDRS    713621"
      ]
     },
     "execution_count": 8,
     "metadata": {},
     "output_type": "execute_result"
    }
   ],
   "source": [
    "# PRDT_INFO 데이터 전처리 \n",
    "\n",
    "cursor = conn.cursor()  \n",
    "\n",
    "sql = \"\"\"SELECT P.BRD_NAME_KOR, P.PRDT_CODE\n",
    "FROM PRDT_INFO P;\"\"\"\n",
    "                      \n",
    "cursor.execute(sql) \n",
    "\n",
    "arr = cursor.fetchall()\n",
    "\n",
    "PINFO_columns = [\"BRD_NAME\", \"PRDT_CODE\"]\n",
    "\n",
    "PINFO= pd.DataFrame(arr, columns=PINFO_columns)\n",
    "\n",
    "PINFO.head(5)\n"
   ]
  },
  {
   "cell_type": "code",
   "execution_count": 9,
   "metadata": {},
   "outputs": [
    {
     "data": {
      "text/html": [
       "<div>\n",
       "<style scoped>\n",
       "    .dataframe tbody tr th:only-of-type {\n",
       "        vertical-align: middle;\n",
       "    }\n",
       "\n",
       "    .dataframe tbody tr th {\n",
       "        vertical-align: top;\n",
       "    }\n",
       "\n",
       "    .dataframe thead th {\n",
       "        text-align: right;\n",
       "    }\n",
       "</style>\n",
       "<table border=\"1\" class=\"dataframe\">\n",
       "  <thead>\n",
       "    <tr style=\"text-align: right;\">\n",
       "      <th></th>\n",
       "      <th>PRDT_CODE</th>\n",
       "      <th>VIEW_CNT</th>\n",
       "      <th>PUR_CNT</th>\n",
       "    </tr>\n",
       "  </thead>\n",
       "  <tbody>\n",
       "    <tr>\n",
       "      <td>0</td>\n",
       "      <td>1000048</td>\n",
       "      <td>1363.0</td>\n",
       "      <td>308.0</td>\n",
       "    </tr>\n",
       "    <tr>\n",
       "      <td>1</td>\n",
       "      <td>1000112</td>\n",
       "      <td>983.0</td>\n",
       "      <td>149.0</td>\n",
       "    </tr>\n",
       "    <tr>\n",
       "      <td>2</td>\n",
       "      <td>1000149</td>\n",
       "      <td>136.0</td>\n",
       "      <td>41.0</td>\n",
       "    </tr>\n",
       "    <tr>\n",
       "      <td>3</td>\n",
       "      <td>1000153</td>\n",
       "      <td>561.0</td>\n",
       "      <td>42.0</td>\n",
       "    </tr>\n",
       "    <tr>\n",
       "      <td>4</td>\n",
       "      <td>1000154</td>\n",
       "      <td>209.0</td>\n",
       "      <td>43.0</td>\n",
       "    </tr>\n",
       "  </tbody>\n",
       "</table>\n",
       "</div>"
      ],
      "text/plain": [
       "  PRDT_CODE  VIEW_CNT  PUR_CNT\n",
       "0   1000048    1363.0    308.0\n",
       "1   1000112     983.0    149.0\n",
       "2   1000149     136.0     41.0\n",
       "3   1000153     561.0     42.0\n",
       "4   1000154     209.0     43.0"
      ]
     },
     "execution_count": 9,
     "metadata": {},
     "output_type": "execute_result"
    }
   ],
   "source": [
    "# 상품별 조회수, 구매수 데이터 전처리 \n",
    "cursor = conn.cursor()  \n",
    "\n",
    "sql = \"\"\"SELECT PPV.PRDT_CODE, PPV.VIEW_CNT, PPC.PUR_CNT\n",
    "FROM PRDT_PAGEVIEW PPV INNER JOIN PRDT_PURCHASE PPC\n",
    "ON PPV.PRDT_CODE = PPC.PRDT_CODE;\"\"\"\n",
    "                      \n",
    "cursor.execute(sql) \n",
    "\n",
    "arr = cursor.fetchall()\n",
    "\n",
    "PRDT_VP_columns = [\"PRDT_CODE\", \"VIEW_CNT\", \"PUR_CNT\"]\n",
    "\n",
    "PRDT_VP= pd.DataFrame(arr, columns=PRDT_VP_columns)\n",
    "\n",
    "# string -> float\n",
    "PRDT_VP[\"VIEW_CNT\"] = PRDT_VP[\"VIEW_CNT\"].astype(float)\n",
    "PRDT_VP[\"PUR_CNT\"] = PRDT_VP[\"PUR_CNT\"].astype(float)\n",
    "\n",
    "PRDT_VP.head(5)"
   ]
  },
  {
   "cell_type": "code",
   "execution_count": 10,
   "metadata": {},
   "outputs": [
    {
     "data": {
      "text/html": [
       "<div>\n",
       "<style scoped>\n",
       "    .dataframe tbody tr th:only-of-type {\n",
       "        vertical-align: middle;\n",
       "    }\n",
       "\n",
       "    .dataframe tbody tr th {\n",
       "        vertical-align: top;\n",
       "    }\n",
       "\n",
       "    .dataframe thead th {\n",
       "        text-align: right;\n",
       "    }\n",
       "</style>\n",
       "<table border=\"1\" class=\"dataframe\">\n",
       "  <thead>\n",
       "    <tr style=\"text-align: right;\">\n",
       "      <th></th>\n",
       "      <th>BRD_CODE</th>\n",
       "      <th>BRD_RANK</th>\n",
       "      <th>BRD_NAME</th>\n",
       "    </tr>\n",
       "  </thead>\n",
       "  <tbody>\n",
       "    <tr>\n",
       "      <td>0</td>\n",
       "      <td>1507</td>\n",
       "      <td>77.43</td>\n",
       "      <td>IL-O-GONG-CHIL</td>\n",
       "    </tr>\n",
       "    <tr>\n",
       "      <td>1</td>\n",
       "      <td>2365</td>\n",
       "      <td>99.00</td>\n",
       "      <td>23.65</td>\n",
       "    </tr>\n",
       "    <tr>\n",
       "      <td>2</td>\n",
       "      <td>247seoul</td>\n",
       "      <td>74.71</td>\n",
       "      <td>247 SEOUL</td>\n",
       "    </tr>\n",
       "    <tr>\n",
       "      <td>3</td>\n",
       "      <td>5252byoioi</td>\n",
       "      <td>49.29</td>\n",
       "      <td>5252BYOIOI</td>\n",
       "    </tr>\n",
       "    <tr>\n",
       "      <td>4</td>\n",
       "      <td>86road</td>\n",
       "      <td>73.71</td>\n",
       "      <td>86ROAD</td>\n",
       "    </tr>\n",
       "  </tbody>\n",
       "</table>\n",
       "</div>"
      ],
      "text/plain": [
       "     BRD_CODE  BRD_RANK        BRD_NAME\n",
       "0        1507     77.43  IL-O-GONG-CHIL\n",
       "1        2365     99.00           23.65\n",
       "2    247seoul     74.71       247 SEOUL\n",
       "3  5252byoioi     49.29      5252BYOIOI\n",
       "4      86road     73.71          86ROAD"
      ]
     },
     "execution_count": 10,
     "metadata": {},
     "output_type": "execute_result"
    }
   ],
   "source": [
    "B_R_L = pd.merge(RANK_MEAN, BLIST, on=\"BRD_CODE\", how=\"outer\")\n",
    "B_R_L.head(5)"
   ]
  },
  {
   "cell_type": "code",
   "execution_count": 11,
   "metadata": {},
   "outputs": [
    {
     "data": {
      "text/html": [
       "<div>\n",
       "<style scoped>\n",
       "    .dataframe tbody tr th:only-of-type {\n",
       "        vertical-align: middle;\n",
       "    }\n",
       "\n",
       "    .dataframe tbody tr th {\n",
       "        vertical-align: top;\n",
       "    }\n",
       "\n",
       "    .dataframe thead th {\n",
       "        text-align: right;\n",
       "    }\n",
       "</style>\n",
       "<table border=\"1\" class=\"dataframe\">\n",
       "  <thead>\n",
       "    <tr style=\"text-align: right;\">\n",
       "      <th></th>\n",
       "      <th>VIEW_CNT</th>\n",
       "      <th>PUR_CNT</th>\n",
       "    </tr>\n",
       "    <tr>\n",
       "      <th>BRD_NAME</th>\n",
       "      <th></th>\n",
       "      <th></th>\n",
       "    </tr>\n",
       "  </thead>\n",
       "  <tbody>\n",
       "    <tr>\n",
       "      <td></td>\n",
       "      <td>0.00</td>\n",
       "      <td>0.00</td>\n",
       "    </tr>\n",
       "    <tr>\n",
       "      <td>(407)HAUS</td>\n",
       "      <td>0.00</td>\n",
       "      <td>0.00</td>\n",
       "    </tr>\n",
       "    <tr>\n",
       "      <td>090FACTORY</td>\n",
       "      <td>0.00</td>\n",
       "      <td>0.00</td>\n",
       "    </tr>\n",
       "    <tr>\n",
       "      <td>1'SOFT</td>\n",
       "      <td>1121.00</td>\n",
       "      <td>0.00</td>\n",
       "    </tr>\n",
       "    <tr>\n",
       "      <td>100%</td>\n",
       "      <td>31.00</td>\n",
       "      <td>0.00</td>\n",
       "    </tr>\n",
       "    <tr>\n",
       "      <td>1000V</td>\n",
       "      <td>0.00</td>\n",
       "      <td>0.00</td>\n",
       "    </tr>\n",
       "    <tr>\n",
       "      <td>108SEOUL</td>\n",
       "      <td>62.05</td>\n",
       "      <td>4.37</td>\n",
       "    </tr>\n",
       "    <tr>\n",
       "      <td>1159STUDIO</td>\n",
       "      <td>299.25</td>\n",
       "      <td>0.00</td>\n",
       "    </tr>\n",
       "    <tr>\n",
       "      <td>12</td>\n",
       "      <td>0.00</td>\n",
       "      <td>0.00</td>\n",
       "    </tr>\n",
       "    <tr>\n",
       "      <td>134MM</td>\n",
       "      <td>35.32</td>\n",
       "      <td>0.00</td>\n",
       "    </tr>\n",
       "  </tbody>\n",
       "</table>\n",
       "</div>"
      ],
      "text/plain": [
       "            VIEW_CNT  PUR_CNT\n",
       "BRD_NAME                     \n",
       "                0.00     0.00\n",
       "(407)HAUS       0.00     0.00\n",
       "090FACTORY      0.00     0.00\n",
       "1'SOFT       1121.00     0.00\n",
       "100%           31.00     0.00\n",
       "1000V           0.00     0.00\n",
       "108SEOUL       62.05     4.37\n",
       "1159STUDIO    299.25     0.00\n",
       "12              0.00     0.00\n",
       "134MM          35.32     0.00"
      ]
     },
     "execution_count": 11,
     "metadata": {},
     "output_type": "execute_result"
    }
   ],
   "source": [
    "# BRAND 상품들 조회수, 판매수 평균내기\n",
    "\n",
    "BRAND_VP = pd.merge(PINFO, PRDT_VP, on = \"PRDT_CODE\", how=\"outer\")\n",
    "\n",
    "B_VP_MEAN = BRAND_VP.groupby(\"BRD_NAME\").mean().round(2)\n",
    "B_VP_MEAN.fillna(0, inplace=True)\n",
    "B_VP_MEAN.head(10)"
   ]
  },
  {
   "cell_type": "code",
   "execution_count": 12,
   "metadata": {},
   "outputs": [
    {
     "data": {
      "text/html": [
       "<div>\n",
       "<style scoped>\n",
       "    .dataframe tbody tr th:only-of-type {\n",
       "        vertical-align: middle;\n",
       "    }\n",
       "\n",
       "    .dataframe tbody tr th {\n",
       "        vertical-align: top;\n",
       "    }\n",
       "\n",
       "    .dataframe thead th {\n",
       "        text-align: right;\n",
       "    }\n",
       "</style>\n",
       "<table border=\"1\" class=\"dataframe\">\n",
       "  <thead>\n",
       "    <tr style=\"text-align: right;\">\n",
       "      <th></th>\n",
       "      <th>BRD_CODE</th>\n",
       "      <th>BRD_RANK</th>\n",
       "      <th>BRD_NAME</th>\n",
       "      <th>VIEW_CNT</th>\n",
       "      <th>PUR_CNT</th>\n",
       "    </tr>\n",
       "  </thead>\n",
       "  <tbody>\n",
       "    <tr>\n",
       "      <td>75</td>\n",
       "      <td>musinsastandard</td>\n",
       "      <td>1.00</td>\n",
       "      <td>MUSINSA STANDARD</td>\n",
       "      <td>9669.08</td>\n",
       "      <td>156338.74</td>\n",
       "    </tr>\n",
       "    <tr>\n",
       "      <td>25</td>\n",
       "      <td>covernat</td>\n",
       "      <td>2.29</td>\n",
       "      <td>COVERNAT</td>\n",
       "      <td>9042.19</td>\n",
       "      <td>0.00</td>\n",
       "    </tr>\n",
       "    <tr>\n",
       "      <td>8</td>\n",
       "      <td>adidas</td>\n",
       "      <td>3.29</td>\n",
       "      <td>ADIDAS</td>\n",
       "      <td>7218.45</td>\n",
       "      <td>47717.26</td>\n",
       "    </tr>\n",
       "    <tr>\n",
       "      <td>80</td>\n",
       "      <td>nike</td>\n",
       "      <td>5.43</td>\n",
       "      <td>NIKE</td>\n",
       "      <td>2392.77</td>\n",
       "      <td>305.66</td>\n",
       "    </tr>\n",
       "    <tr>\n",
       "      <td>107</td>\n",
       "      <td>thisisneverthat</td>\n",
       "      <td>5.57</td>\n",
       "      <td>THISISNEVERTHAT</td>\n",
       "      <td>5179.60</td>\n",
       "      <td>0.00</td>\n",
       "    </tr>\n",
       "  </tbody>\n",
       "</table>\n",
       "</div>"
      ],
      "text/plain": [
       "            BRD_CODE  BRD_RANK          BRD_NAME  VIEW_CNT    PUR_CNT\n",
       "75   musinsastandard      1.00  MUSINSA STANDARD   9669.08  156338.74\n",
       "25          covernat      2.29          COVERNAT   9042.19       0.00\n",
       "8             adidas      3.29            ADIDAS   7218.45   47717.26\n",
       "80              nike      5.43              NIKE   2392.77     305.66\n",
       "107  thisisneverthat      5.57   THISISNEVERTHAT   5179.60       0.00"
      ]
     },
     "execution_count": 12,
     "metadata": {},
     "output_type": "execute_result"
    }
   ],
   "source": [
    "Total = pd.merge(B_R_L, B_VP_MEAN, on = \"BRD_NAME\")\n",
    "Total.sort_values(by=\"BRD_RANK\", ascending=True).head(5)"
   ]
  },
  {
   "cell_type": "code",
   "execution_count": 13,
   "metadata": {},
   "outputs": [
    {
     "data": {
      "text/plain": [
       "<seaborn.axisgrid.FacetGrid at 0x1e78a44a848>"
      ]
     },
     "execution_count": 13,
     "metadata": {},
     "output_type": "execute_result"
    },
    {
     "data": {
      "image/png": "[encoded data removed]",
      "text/plain": [
       "<Figure size 360x360 with 1 Axes>"
      ]
     },
     "metadata": {
      "needs_background": "light"
     },
     "output_type": "display_data"
    }
   ],
   "source": [
    "# 브랜드 랭킹에 따른 조회수 시각화\n",
    "sns.lmplot(x = \"BRD_RANK\", y = \"VIEW_CNT\", data = Total)"
   ]
  },
  {
   "cell_type": "code",
   "execution_count": 15,
   "metadata": {},
   "outputs": [
    {
     "data": {
      "text/plain": [
       "<matplotlib.axes._subplots.AxesSubplot at 0x1e78b802148>"
      ]
     },
     "execution_count": 15,
     "metadata": {},
     "output_type": "execute_result"
    },
    {
     "data": {
      "image/png": "[encoded data removed]",
      "text/plain": [
       "<Figure size 432x288 with 1 Axes>"
      ]
     },
     "metadata": {
      "needs_background": "light"
     },
     "output_type": "display_data"
    }
   ],
   "source": [
    "# 브랜드 랭킹에 따른 조회수 시각화 : 정규분포\n",
    "sns.distplot(Total[\"VIEW_CNT\"])"
   ]
  },
  {
   "cell_type": "code",
   "execution_count": 16,
   "metadata": {},
   "outputs": [
    {
     "data": {
      "text/html": [
       "<div>\n",
       "<style scoped>\n",
       "    .dataframe tbody tr th:only-of-type {\n",
       "        vertical-align: middle;\n",
       "    }\n",
       "\n",
       "    .dataframe tbody tr th {\n",
       "        vertical-align: top;\n",
       "    }\n",
       "\n",
       "    .dataframe thead th {\n",
       "        text-align: right;\n",
       "    }\n",
       "</style>\n",
       "<table border=\"1\" class=\"dataframe\">\n",
       "  <thead>\n",
       "    <tr style=\"text-align: right;\">\n",
       "      <th></th>\n",
       "      <th>BRD_CODE</th>\n",
       "      <th>BRD_RANK</th>\n",
       "      <th>BRD_NAME</th>\n",
       "      <th>VIEW_CNT</th>\n",
       "      <th>PUR_CNT</th>\n",
       "    </tr>\n",
       "  </thead>\n",
       "  <tbody>\n",
       "    <tr>\n",
       "      <td>75</td>\n",
       "      <td>musinsastandard</td>\n",
       "      <td>1.00</td>\n",
       "      <td>MUSINSA STANDARD</td>\n",
       "      <td>9669.08</td>\n",
       "      <td>156338.74</td>\n",
       "    </tr>\n",
       "    <tr>\n",
       "      <td>25</td>\n",
       "      <td>covernat</td>\n",
       "      <td>2.29</td>\n",
       "      <td>COVERNAT</td>\n",
       "      <td>9042.19</td>\n",
       "      <td>0.00</td>\n",
       "    </tr>\n",
       "    <tr>\n",
       "      <td>8</td>\n",
       "      <td>adidas</td>\n",
       "      <td>3.29</td>\n",
       "      <td>ADIDAS</td>\n",
       "      <td>7218.45</td>\n",
       "      <td>47717.26</td>\n",
       "    </tr>\n",
       "    <tr>\n",
       "      <td>80</td>\n",
       "      <td>nike</td>\n",
       "      <td>5.43</td>\n",
       "      <td>NIKE</td>\n",
       "      <td>2392.77</td>\n",
       "      <td>305.66</td>\n",
       "    </tr>\n",
       "    <tr>\n",
       "      <td>107</td>\n",
       "      <td>thisisneverthat</td>\n",
       "      <td>5.57</td>\n",
       "      <td>THISISNEVERTHAT</td>\n",
       "      <td>5179.60</td>\n",
       "      <td>0.00</td>\n",
       "    </tr>\n",
       "  </tbody>\n",
       "</table>\n",
       "</div>"
      ],
      "text/plain": [
       "            BRD_CODE  BRD_RANK          BRD_NAME  VIEW_CNT    PUR_CNT\n",
       "75   musinsastandard      1.00  MUSINSA STANDARD   9669.08  156338.74\n",
       "25          covernat      2.29          COVERNAT   9042.19       0.00\n",
       "8             adidas      3.29            ADIDAS   7218.45   47717.26\n",
       "80              nike      5.43              NIKE   2392.77     305.66\n",
       "107  thisisneverthat      5.57   THISISNEVERTHAT   5179.60       0.00"
      ]
     },
     "execution_count": 16,
     "metadata": {},
     "output_type": "execute_result"
    }
   ],
   "source": [
    "# 정규분포 보고 버릴건 버리자 VIEW_CNT : 40000 -> 13000\n",
    "Total_V = Total.loc[Total[\"VIEW_CNT\"] < 13000]\n",
    "Total_V.sort_values(by=\"BRD_RANK\", ascending=True).head(5)"
   ]
  },
  {
   "cell_type": "code",
   "execution_count": 17,
   "metadata": {},
   "outputs": [
    {
     "data": {
      "text/plain": [
       "<seaborn.axisgrid.FacetGrid at 0x1e78b840588>"
      ]
     },
     "execution_count": 17,
     "metadata": {},
     "output_type": "execute_result"
    },
    {
     "data": {
      "image/png": "[encoded data removed]",
      "text/plain": [
       "<Figure size 360x360 with 1 Axes>"
      ]
     },
     "metadata": {
      "needs_background": "light"
     },
     "output_type": "display_data"
    }
   ],
   "source": [
    "# 브랜드 랭킹에 따른 조회수 시각화 : VIEW_CNT : 40000 -> 13000\n",
    "sns.lmplot(x = \"BRD_RANK\", y = \"VIEW_CNT\", data = Total_V)"
   ]
  },
  {
   "cell_type": "code",
   "execution_count": 18,
   "metadata": {},
   "outputs": [
    {
     "data": {
      "text/html": [
       "<div>\n",
       "<style scoped>\n",
       "    .dataframe tbody tr th:only-of-type {\n",
       "        vertical-align: middle;\n",
       "    }\n",
       "\n",
       "    .dataframe tbody tr th {\n",
       "        vertical-align: top;\n",
       "    }\n",
       "\n",
       "    .dataframe thead th {\n",
       "        text-align: right;\n",
       "    }\n",
       "</style>\n",
       "<table border=\"1\" class=\"dataframe\">\n",
       "  <thead>\n",
       "    <tr style=\"text-align: right;\">\n",
       "      <th></th>\n",
       "      <th>BRD_CODE</th>\n",
       "      <th>BRD_RANK</th>\n",
       "      <th>BRD_NAME</th>\n",
       "      <th>VIEW_CNT</th>\n",
       "      <th>PUR_CNT</th>\n",
       "    </tr>\n",
       "  </thead>\n",
       "  <tbody>\n",
       "    <tr>\n",
       "      <td>75</td>\n",
       "      <td>musinsastandard</td>\n",
       "      <td>1.00</td>\n",
       "      <td>MUSINSA STANDARD</td>\n",
       "      <td>9669.08</td>\n",
       "      <td>156338.74</td>\n",
       "    </tr>\n",
       "    <tr>\n",
       "      <td>25</td>\n",
       "      <td>covernat</td>\n",
       "      <td>2.29</td>\n",
       "      <td>COVERNAT</td>\n",
       "      <td>9042.19</td>\n",
       "      <td>0.00</td>\n",
       "    </tr>\n",
       "    <tr>\n",
       "      <td>8</td>\n",
       "      <td>adidas</td>\n",
       "      <td>3.29</td>\n",
       "      <td>ADIDAS</td>\n",
       "      <td>7218.45</td>\n",
       "      <td>47717.26</td>\n",
       "    </tr>\n",
       "    <tr>\n",
       "      <td>80</td>\n",
       "      <td>nike</td>\n",
       "      <td>5.43</td>\n",
       "      <td>NIKE</td>\n",
       "      <td>2392.77</td>\n",
       "      <td>305.66</td>\n",
       "    </tr>\n",
       "    <tr>\n",
       "      <td>107</td>\n",
       "      <td>thisisneverthat</td>\n",
       "      <td>5.57</td>\n",
       "      <td>THISISNEVERTHAT</td>\n",
       "      <td>5179.60</td>\n",
       "      <td>0.00</td>\n",
       "    </tr>\n",
       "  </tbody>\n",
       "</table>\n",
       "</div>"
      ],
      "text/plain": [
       "            BRD_CODE  BRD_RANK          BRD_NAME  VIEW_CNT    PUR_CNT\n",
       "75   musinsastandard      1.00  MUSINSA STANDARD   9669.08  156338.74\n",
       "25          covernat      2.29          COVERNAT   9042.19       0.00\n",
       "8             adidas      3.29            ADIDAS   7218.45   47717.26\n",
       "80              nike      5.43              NIKE   2392.77     305.66\n",
       "107  thisisneverthat      5.57   THISISNEVERTHAT   5179.60       0.00"
      ]
     },
     "execution_count": 18,
     "metadata": {},
     "output_type": "execute_result"
    }
   ],
   "source": [
    "# 랭킹 구간별로 나눠보기 : RANK : 0 - 50\n",
    "Total_V2 = Total_V.loc[Total_V[\"BRD_RANK\"] < 50]\n",
    "Total_V2.sort_values(by=\"BRD_RANK\", ascending=True).head(5)"
   ]
  },
  {
   "cell_type": "code",
   "execution_count": 19,
   "metadata": {},
   "outputs": [
    {
     "data": {
      "text/plain": [
       "<seaborn.axisgrid.FacetGrid at 0x1e78b7f57c8>"
      ]
     },
     "execution_count": 19,
     "metadata": {},
     "output_type": "execute_result"
    },
    {
     "data": {
      "image/png": "[encoded data removed]",
      "text/plain": [
       "<Figure size 360x360 with 1 Axes>"
      ]
     },
     "metadata": {
      "needs_background": "light"
     },
     "output_type": "display_data"
    }
   ],
   "source": [
    "# 브랜드 랭킹에 따른 조회수 시각화 :  RANK : 0 - 50\n",
    "sns.lmplot(x = \"BRD_RANK\", y = \"VIEW_CNT\", data = Total_V2)"
   ]
  },
  {
   "cell_type": "code",
   "execution_count": 24,
   "metadata": {},
   "outputs": [
    {
     "data": {
      "text/html": [
       "<div>\n",
       "<style scoped>\n",
       "    .dataframe tbody tr th:only-of-type {\n",
       "        vertical-align: middle;\n",
       "    }\n",
       "\n",
       "    .dataframe tbody tr th {\n",
       "        vertical-align: top;\n",
       "    }\n",
       "\n",
       "    .dataframe thead th {\n",
       "        text-align: right;\n",
       "    }\n",
       "</style>\n",
       "<table border=\"1\" class=\"dataframe\">\n",
       "  <thead>\n",
       "    <tr style=\"text-align: right;\">\n",
       "      <th></th>\n",
       "      <th>BRD_CODE</th>\n",
       "      <th>BRD_RANK</th>\n",
       "      <th>BRD_NAME</th>\n",
       "      <th>VIEW_CNT</th>\n",
       "      <th>PUR_CNT</th>\n",
       "    </tr>\n",
       "  </thead>\n",
       "  <tbody>\n",
       "    <tr>\n",
       "      <td>73</td>\n",
       "      <td>modified</td>\n",
       "      <td>50.43</td>\n",
       "      <td>MODIFIED</td>\n",
       "      <td>5124.31</td>\n",
       "      <td>231999.22</td>\n",
       "    </tr>\n",
       "    <tr>\n",
       "      <td>94</td>\n",
       "      <td>romanticcrown</td>\n",
       "      <td>50.71</td>\n",
       "      <td>ROMANTIC CROWN</td>\n",
       "      <td>2945.82</td>\n",
       "      <td>7906.30</td>\n",
       "    </tr>\n",
       "    <tr>\n",
       "      <td>111</td>\n",
       "      <td>twn</td>\n",
       "      <td>52.29</td>\n",
       "      <td>TWN</td>\n",
       "      <td>2386.03</td>\n",
       "      <td>4962.28</td>\n",
       "    </tr>\n",
       "    <tr>\n",
       "      <td>70</td>\n",
       "      <td>minav</td>\n",
       "      <td>53.00</td>\n",
       "      <td>MINAV</td>\n",
       "      <td>3542.14</td>\n",
       "      <td>599.17</td>\n",
       "    </tr>\n",
       "    <tr>\n",
       "      <td>28</td>\n",
       "      <td>diamondlayla</td>\n",
       "      <td>56.00</td>\n",
       "      <td>DIAMOND LAYLA</td>\n",
       "      <td>9168.15</td>\n",
       "      <td>40775.30</td>\n",
       "    </tr>\n",
       "  </tbody>\n",
       "</table>\n",
       "</div>"
      ],
      "text/plain": [
       "          BRD_CODE  BRD_RANK        BRD_NAME  VIEW_CNT    PUR_CNT\n",
       "73        modified     50.43        MODIFIED   5124.31  231999.22\n",
       "94   romanticcrown     50.71  ROMANTIC CROWN   2945.82    7906.30\n",
       "111            twn     52.29             TWN   2386.03    4962.28\n",
       "70           minav     53.00           MINAV   3542.14     599.17\n",
       "28    diamondlayla     56.00   DIAMOND LAYLA   9168.15   40775.30"
      ]
     },
     "execution_count": 24,
     "metadata": {},
     "output_type": "execute_result"
    }
   ],
   "source": [
    "# 랭킹 구간별로 나눠보기 : RANK : 50 - 100\n",
    "Total_V3 = Total_V.loc[Total_V[\"BRD_RANK\"] >= 50]\n",
    "Total_V3.sort_values(by=\"BRD_RANK\", ascending=True).head(5)"
   ]
  },
  {
   "cell_type": "code",
   "execution_count": 25,
   "metadata": {},
   "outputs": [
    {
     "data": {
      "text/plain": [
       "<seaborn.axisgrid.FacetGrid at 0x1e78b929c08>"
      ]
     },
     "execution_count": 25,
     "metadata": {},
     "output_type": "execute_result"
    },
    {
     "data": {
      "image/png": "[encoded data removed]",
      "text/plain": [
       "<Figure size 360x360 with 1 Axes>"
      ]
     },
     "metadata": {
      "needs_background": "light"
     },
     "output_type": "display_data"
    }
   ],
   "source": [
    "# 브랜드 랭킹에 따른 조회수 시각화 :  RANK : 50 - 100\n",
    "sns.lmplot(x = \"BRD_RANK\", y = \"VIEW_CNT\", data = Total_V3)"
   ]
  },
  {
   "cell_type": "code",
   "execution_count": 26,
   "metadata": {},
   "outputs": [
    {
     "name": "stderr",
     "output_type": "stream",
     "text": [
      "C:\\ana\\lib\\site-packages\\ipykernel_launcher.py:3: SettingWithCopyWarning: \n",
      "A value is trying to be set on a copy of a slice from a DataFrame\n",
      "\n",
      "See the caveats in the documentation: http://pandas.pydata.org/pandas-docs/stable/user_guide/indexing.html#returning-a-view-versus-a-copy\n",
      "  This is separate from the ipykernel package so we can avoid doing imports until\n"
     ]
    },
    {
     "data": {
      "text/html": [
       "<div>\n",
       "<style scoped>\n",
       "    .dataframe tbody tr th:only-of-type {\n",
       "        vertical-align: middle;\n",
       "    }\n",
       "\n",
       "    .dataframe tbody tr th {\n",
       "        vertical-align: top;\n",
       "    }\n",
       "\n",
       "    .dataframe thead th {\n",
       "        text-align: right;\n",
       "    }\n",
       "</style>\n",
       "<table border=\"1\" class=\"dataframe\">\n",
       "  <thead>\n",
       "    <tr style=\"text-align: right;\">\n",
       "      <th></th>\n",
       "      <th>BRD_CODE</th>\n",
       "      <th>BRD_RANK</th>\n",
       "      <th>BRD_NAME</th>\n",
       "      <th>VIEW_CNT</th>\n",
       "      <th>PUR_CNT</th>\n",
       "    </tr>\n",
       "  </thead>\n",
       "  <tbody>\n",
       "    <tr>\n",
       "      <td>75</td>\n",
       "      <td>musinsastandard</td>\n",
       "      <td>1.00</td>\n",
       "      <td>MUSINSA STANDARD</td>\n",
       "      <td>9669.08</td>\n",
       "      <td>156338.74</td>\n",
       "    </tr>\n",
       "    <tr>\n",
       "      <td>8</td>\n",
       "      <td>adidas</td>\n",
       "      <td>3.29</td>\n",
       "      <td>ADIDAS</td>\n",
       "      <td>7218.45</td>\n",
       "      <td>47717.26</td>\n",
       "    </tr>\n",
       "    <tr>\n",
       "      <td>80</td>\n",
       "      <td>nike</td>\n",
       "      <td>5.43</td>\n",
       "      <td>NIKE</td>\n",
       "      <td>2392.77</td>\n",
       "      <td>305.66</td>\n",
       "    </tr>\n",
       "    <tr>\n",
       "      <td>116</td>\n",
       "      <td>vans</td>\n",
       "      <td>7.29</td>\n",
       "      <td>VANS</td>\n",
       "      <td>3303.52</td>\n",
       "      <td>148548.89</td>\n",
       "    </tr>\n",
       "    <tr>\n",
       "      <td>31</td>\n",
       "      <td>drawfit</td>\n",
       "      <td>7.57</td>\n",
       "      <td>DRAW FIT</td>\n",
       "      <td>7989.70</td>\n",
       "      <td>485.22</td>\n",
       "    </tr>\n",
       "    <tr>\n",
       "      <td>...</td>\n",
       "      <td>...</td>\n",
       "      <td>...</td>\n",
       "      <td>...</td>\n",
       "      <td>...</td>\n",
       "      <td>...</td>\n",
       "    </tr>\n",
       "    <tr>\n",
       "      <td>69</td>\n",
       "      <td>mignonneuf</td>\n",
       "      <td>97.00</td>\n",
       "      <td>MIGNONNEUF</td>\n",
       "      <td>3518.96</td>\n",
       "      <td>573.11</td>\n",
       "    </tr>\n",
       "    <tr>\n",
       "      <td>115</td>\n",
       "      <td>urbanstoff</td>\n",
       "      <td>97.25</td>\n",
       "      <td>URBANSTOFF</td>\n",
       "      <td>3144.63</td>\n",
       "      <td>194.43</td>\n",
       "    </tr>\n",
       "    <tr>\n",
       "      <td>10</td>\n",
       "      <td>ambler</td>\n",
       "      <td>97.75</td>\n",
       "      <td>AMBLER</td>\n",
       "      <td>9642.61</td>\n",
       "      <td>650.56</td>\n",
       "    </tr>\n",
       "    <tr>\n",
       "      <td>1</td>\n",
       "      <td>2365</td>\n",
       "      <td>99.00</td>\n",
       "      <td>23.65</td>\n",
       "      <td>4660.57</td>\n",
       "      <td>835.71</td>\n",
       "    </tr>\n",
       "    <tr>\n",
       "      <td>36</td>\n",
       "      <td>ezkaton</td>\n",
       "      <td>99.50</td>\n",
       "      <td>EZKATON</td>\n",
       "      <td>2702.33</td>\n",
       "      <td>292.75</td>\n",
       "    </tr>\n",
       "  </tbody>\n",
       "</table>\n",
       "<p>105 rows × 5 columns</p>\n",
       "</div>"
      ],
      "text/plain": [
       "            BRD_CODE  BRD_RANK          BRD_NAME  VIEW_CNT    PUR_CNT\n",
       "75   musinsastandard      1.00  MUSINSA STANDARD   9669.08  156338.74\n",
       "8             adidas      3.29            ADIDAS   7218.45   47717.26\n",
       "80              nike      5.43              NIKE   2392.77     305.66\n",
       "116             vans      7.29              VANS   3303.52  148548.89\n",
       "31           drawfit      7.57          DRAW FIT   7989.70     485.22\n",
       "..               ...       ...               ...       ...        ...\n",
       "69        mignonneuf     97.00        MIGNONNEUF   3518.96     573.11\n",
       "115       urbanstoff     97.25        URBANSTOFF   3144.63     194.43\n",
       "10            ambler     97.75            AMBLER   9642.61     650.56\n",
       "1               2365     99.00             23.65   4660.57     835.71\n",
       "36           ezkaton     99.50           EZKATON   2702.33     292.75\n",
       "\n",
       "[105 rows x 5 columns]"
      ]
     },
     "execution_count": 26,
     "metadata": {},
     "output_type": "execute_result"
    }
   ],
   "source": [
    "# PUR_CNT 0인거 제외시키기\n",
    "Total_Z = Total.loc[Total[\"PUR_CNT\"] != 0]\n",
    "Total_Z.dropna(inplace=True)\n",
    "\n",
    "Total_Z.sort_values(by=\"BRD_RANK\", ascending=True)\n"
   ]
  },
  {
   "cell_type": "code",
   "execution_count": 27,
   "metadata": {},
   "outputs": [
    {
     "data": {
      "text/plain": [
       "<seaborn.axisgrid.FacetGrid at 0x1e78b971848>"
      ]
     },
     "execution_count": 27,
     "metadata": {},
     "output_type": "execute_result"
    },
    {
     "data": {
      "image/png": "[encoded data removed]",
      "text/plain": [
       "<Figure size 360x360 with 1 Axes>"
      ]
     },
     "metadata": {
      "needs_background": "light"
     },
     "output_type": "display_data"
    }
   ],
   "source": [
    "# 브랜드 랭킹에 따른 판매량 시각화\n",
    "sns.lmplot(x = \"BRD_RANK\", y = \"PUR_CNT\", data = Total_Z)"
   ]
  },
  {
   "cell_type": "code",
   "execution_count": 28,
   "metadata": {},
   "outputs": [
    {
     "data": {
      "text/plain": [
       "<matplotlib.axes._subplots.AxesSubplot at 0x1e78b9f6508>"
      ]
     },
     "execution_count": 28,
     "metadata": {},
     "output_type": "execute_result"
    },
    {
     "data": {
      "image/png": "[encoded data removed]",
      "text/plain": [
       "<Figure size 432x288 with 1 Axes>"
      ]
     },
     "metadata": {
      "needs_background": "light"
     },
     "output_type": "display_data"
    }
   ],
   "source": [
    "# 브랜드 랭킹에 따른 판매량 시각화 : 정규분포\n",
    "sns.distplot(Total_Z[\"PUR_CNT\"])"
   ]
  },
  {
   "cell_type": "code",
   "execution_count": 32,
   "metadata": {},
   "outputs": [
    {
     "data": {
      "text/html": [
       "<div>\n",
       "<style scoped>\n",
       "    .dataframe tbody tr th:only-of-type {\n",
       "        vertical-align: middle;\n",
       "    }\n",
       "\n",
       "    .dataframe tbody tr th {\n",
       "        vertical-align: top;\n",
       "    }\n",
       "\n",
       "    .dataframe thead th {\n",
       "        text-align: right;\n",
       "    }\n",
       "</style>\n",
       "<table border=\"1\" class=\"dataframe\">\n",
       "  <thead>\n",
       "    <tr style=\"text-align: right;\">\n",
       "      <th></th>\n",
       "      <th>BRD_CODE</th>\n",
       "      <th>BRD_RANK</th>\n",
       "      <th>BRD_NAME</th>\n",
       "      <th>VIEW_CNT</th>\n",
       "      <th>PUR_CNT</th>\n",
       "    </tr>\n",
       "  </thead>\n",
       "  <tbody>\n",
       "    <tr>\n",
       "      <td>16</td>\n",
       "      <td>brenson</td>\n",
       "      <td>13.57</td>\n",
       "      <td>BRENSON</td>\n",
       "      <td>40252.00</td>\n",
       "      <td>3840.50</td>\n",
       "    </tr>\n",
       "    <tr>\n",
       "      <td>19</td>\n",
       "      <td>carhartt</td>\n",
       "      <td>14.57</td>\n",
       "      <td>CARHARTT</td>\n",
       "      <td>3063.99</td>\n",
       "      <td>1775.77</td>\n",
       "    </tr>\n",
       "    <tr>\n",
       "      <td>113</td>\n",
       "      <td>uniformbridge</td>\n",
       "      <td>19.86</td>\n",
       "      <td>UNIFORM BRIDGE</td>\n",
       "      <td>4065.42</td>\n",
       "      <td>2342.89</td>\n",
       "    </tr>\n",
       "    <tr>\n",
       "      <td>37</td>\n",
       "      <td>fatalism</td>\n",
       "      <td>21.57</td>\n",
       "      <td>FATALISM</td>\n",
       "      <td>10367.58</td>\n",
       "      <td>3092.00</td>\n",
       "    </tr>\n",
       "    <tr>\n",
       "      <td>99</td>\n",
       "      <td>sevenselah</td>\n",
       "      <td>23.00</td>\n",
       "      <td>SEVENSELAH</td>\n",
       "      <td>9977.80</td>\n",
       "      <td>5809.27</td>\n",
       "    </tr>\n",
       "  </tbody>\n",
       "</table>\n",
       "</div>"
      ],
      "text/plain": [
       "          BRD_CODE  BRD_RANK        BRD_NAME  VIEW_CNT  PUR_CNT\n",
       "16         brenson     13.57         BRENSON  40252.00  3840.50\n",
       "19        carhartt     14.57        CARHARTT   3063.99  1775.77\n",
       "113  uniformbridge     19.86  UNIFORM BRIDGE   4065.42  2342.89\n",
       "37        fatalism     21.57        FATALISM  10367.58  3092.00\n",
       "99      sevenselah     23.00      SEVENSELAH   9977.80  5809.27"
      ]
     },
     "execution_count": 32,
     "metadata": {},
     "output_type": "execute_result"
    }
   ],
   "source": [
    "# 정규분포 보고 버릴건 버리자 버리자 : PUR_CNT : 3500000 -> 20000\n",
    "Total_P = Total.loc[(Total[\"PUR_CNT\"] < 13000) & (Total[\"PUR_CNT\"] > 500)]\n",
    "Total_P.sort_values(by=\"BRD_RANK\", ascending=True).head(5)"
   ]
  },
  {
   "cell_type": "code",
   "execution_count": 33,
   "metadata": {},
   "outputs": [
    {
     "data": {
      "text/plain": [
       "<matplotlib.axes._subplots.AxesSubplot at 0x1e78bb0fe88>"
      ]
     },
     "execution_count": 33,
     "metadata": {},
     "output_type": "execute_result"
    },
    {
     "data": {
      "image/png": "[encoded data removed]",
      "text/plain": [
       "<Figure size 432x288 with 1 Axes>"
      ]
     },
     "metadata": {
      "needs_background": "light"
     },
     "output_type": "display_data"
    }
   ],
   "source": [
    "# 브랜드 랭킹에 따른 판매량 시각화 : 정규분포\n",
    "sns.distplot(Total_P[\"PUR_CNT\"])"
   ]
  },
  {
   "cell_type": "code",
   "execution_count": 34,
   "metadata": {},
   "outputs": [
    {
     "data": {
      "text/plain": [
       "<seaborn.axisgrid.FacetGrid at 0x1e78bb54288>"
      ]
     },
     "execution_count": 34,
     "metadata": {},
     "output_type": "execute_result"
    },
    {
     "data": {
      "image/png": "[encoded data removed]",
      "text/plain": [
       "<Figure size 360x360 with 1 Axes>"
      ]
     },
     "metadata": {
      "needs_background": "light"
     },
     "output_type": "display_data"
    }
   ],
   "source": [
    "# 브랜드 랭킹에 따른 판매량 시각화 : PUR_CNT : 3500000 -> 13000\n",
    "sns.lmplot(x = \"BRD_RANK\", y = \"PUR_CNT\", data = Total_P)"
   ]
  },
  {
   "cell_type": "code",
   "execution_count": 35,
   "metadata": {},
   "outputs": [
    {
     "data": {
      "text/html": [
       "<div>\n",
       "<style scoped>\n",
       "    .dataframe tbody tr th:only-of-type {\n",
       "        vertical-align: middle;\n",
       "    }\n",
       "\n",
       "    .dataframe tbody tr th {\n",
       "        vertical-align: top;\n",
       "    }\n",
       "\n",
       "    .dataframe thead th {\n",
       "        text-align: right;\n",
       "    }\n",
       "</style>\n",
       "<table border=\"1\" class=\"dataframe\">\n",
       "  <thead>\n",
       "    <tr style=\"text-align: right;\">\n",
       "      <th></th>\n",
       "      <th>BRD_CODE</th>\n",
       "      <th>BRD_RANK</th>\n",
       "      <th>BRD_NAME</th>\n",
       "      <th>VIEW_CNT</th>\n",
       "      <th>PUR_CNT</th>\n",
       "    </tr>\n",
       "  </thead>\n",
       "  <tbody>\n",
       "    <tr>\n",
       "      <td>16</td>\n",
       "      <td>brenson</td>\n",
       "      <td>13.57</td>\n",
       "      <td>BRENSON</td>\n",
       "      <td>40252.00</td>\n",
       "      <td>3840.50</td>\n",
       "    </tr>\n",
       "    <tr>\n",
       "      <td>19</td>\n",
       "      <td>carhartt</td>\n",
       "      <td>14.57</td>\n",
       "      <td>CARHARTT</td>\n",
       "      <td>3063.99</td>\n",
       "      <td>1775.77</td>\n",
       "    </tr>\n",
       "    <tr>\n",
       "      <td>113</td>\n",
       "      <td>uniformbridge</td>\n",
       "      <td>19.86</td>\n",
       "      <td>UNIFORM BRIDGE</td>\n",
       "      <td>4065.42</td>\n",
       "      <td>2342.89</td>\n",
       "    </tr>\n",
       "    <tr>\n",
       "      <td>37</td>\n",
       "      <td>fatalism</td>\n",
       "      <td>21.57</td>\n",
       "      <td>FATALISM</td>\n",
       "      <td>10367.58</td>\n",
       "      <td>3092.00</td>\n",
       "    </tr>\n",
       "    <tr>\n",
       "      <td>99</td>\n",
       "      <td>sevenselah</td>\n",
       "      <td>23.00</td>\n",
       "      <td>SEVENSELAH</td>\n",
       "      <td>9977.80</td>\n",
       "      <td>5809.27</td>\n",
       "    </tr>\n",
       "  </tbody>\n",
       "</table>\n",
       "</div>"
      ],
      "text/plain": [
       "          BRD_CODE  BRD_RANK        BRD_NAME  VIEW_CNT  PUR_CNT\n",
       "16         brenson     13.57         BRENSON  40252.00  3840.50\n",
       "19        carhartt     14.57        CARHARTT   3063.99  1775.77\n",
       "113  uniformbridge     19.86  UNIFORM BRIDGE   4065.42  2342.89\n",
       "37        fatalism     21.57        FATALISM  10367.58  3092.00\n",
       "99      sevenselah     23.00      SEVENSELAH   9977.80  5809.27"
      ]
     },
     "execution_count": 35,
     "metadata": {},
     "output_type": "execute_result"
    }
   ],
   "source": [
    "# 랭킹 구간별로 나눠보기 : RANK : 0 - 50\n",
    "Total_P2 = Total_P.loc[Total_P[\"BRD_RANK\"] < 50]\n",
    "Total_P2.sort_values(by=\"BRD_RANK\", ascending=True).head(5)"
   ]
  },
  {
   "cell_type": "code",
   "execution_count": 36,
   "metadata": {},
   "outputs": [
    {
     "data": {
      "text/plain": [
       "<seaborn.axisgrid.FacetGrid at 0x1e78bbc9fc8>"
      ]
     },
     "execution_count": 36,
     "metadata": {},
     "output_type": "execute_result"
    },
    {
     "data": {
      "image/png": "[encoded data removed]",
      "text/plain": [
       "<Figure size 360x360 with 1 Axes>"
      ]
     },
     "metadata": {
      "needs_background": "light"
     },
     "output_type": "display_data"
    }
   ],
   "source": [
    "# 브랜드 랭킹에 따른 조회수 시각화 :  RANK : 0 - 50\n",
    "sns.lmplot(x = \"BRD_RANK\", y = \"PUR_CNT\", data = Total_P2)"
   ]
  },
  {
   "cell_type": "code",
   "execution_count": 37,
   "metadata": {},
   "outputs": [
    {
     "data": {
      "text/html": [
       "<div>\n",
       "<style scoped>\n",
       "    .dataframe tbody tr th:only-of-type {\n",
       "        vertical-align: middle;\n",
       "    }\n",
       "\n",
       "    .dataframe tbody tr th {\n",
       "        vertical-align: top;\n",
       "    }\n",
       "\n",
       "    .dataframe thead th {\n",
       "        text-align: right;\n",
       "    }\n",
       "</style>\n",
       "<table border=\"1\" class=\"dataframe\">\n",
       "  <thead>\n",
       "    <tr style=\"text-align: right;\">\n",
       "      <th></th>\n",
       "      <th>BRD_CODE</th>\n",
       "      <th>BRD_RANK</th>\n",
       "      <th>BRD_NAME</th>\n",
       "      <th>VIEW_CNT</th>\n",
       "      <th>PUR_CNT</th>\n",
       "    </tr>\n",
       "  </thead>\n",
       "  <tbody>\n",
       "    <tr>\n",
       "      <td>94</td>\n",
       "      <td>romanticcrown</td>\n",
       "      <td>50.71</td>\n",
       "      <td>ROMANTIC CROWN</td>\n",
       "      <td>2945.82</td>\n",
       "      <td>7906.30</td>\n",
       "    </tr>\n",
       "    <tr>\n",
       "      <td>111</td>\n",
       "      <td>twn</td>\n",
       "      <td>52.29</td>\n",
       "      <td>TWN</td>\n",
       "      <td>2386.03</td>\n",
       "      <td>4962.28</td>\n",
       "    </tr>\n",
       "    <tr>\n",
       "      <td>70</td>\n",
       "      <td>minav</td>\n",
       "      <td>53.00</td>\n",
       "      <td>MINAV</td>\n",
       "      <td>3542.14</td>\n",
       "      <td>599.17</td>\n",
       "    </tr>\n",
       "    <tr>\n",
       "      <td>27</td>\n",
       "      <td>customade</td>\n",
       "      <td>58.14</td>\n",
       "      <td>CUSTOMADE</td>\n",
       "      <td>13112.64</td>\n",
       "      <td>1126.00</td>\n",
       "    </tr>\n",
       "    <tr>\n",
       "      <td>64</td>\n",
       "      <td>mahagrid</td>\n",
       "      <td>59.43</td>\n",
       "      <td>MAHAGRID</td>\n",
       "      <td>5287.58</td>\n",
       "      <td>10805.28</td>\n",
       "    </tr>\n",
       "  </tbody>\n",
       "</table>\n",
       "</div>"
      ],
      "text/plain": [
       "          BRD_CODE  BRD_RANK        BRD_NAME  VIEW_CNT   PUR_CNT\n",
       "94   romanticcrown     50.71  ROMANTIC CROWN   2945.82   7906.30\n",
       "111            twn     52.29             TWN   2386.03   4962.28\n",
       "70           minav     53.00           MINAV   3542.14    599.17\n",
       "27       customade     58.14       CUSTOMADE  13112.64   1126.00\n",
       "64        mahagrid     59.43        MAHAGRID   5287.58  10805.28"
      ]
     },
     "execution_count": 37,
     "metadata": {},
     "output_type": "execute_result"
    }
   ],
   "source": [
    "# 랭킹 구간별로 나눠보기 : RANK : 50 - 100\n",
    "Total_P3 = Total_P.loc[Total_P[\"BRD_RANK\"] >= 50]\n",
    "Total_P3.sort_values(by=\"BRD_RANK\", ascending=True).head(5)"
   ]
  },
  {
   "cell_type": "code",
   "execution_count": 38,
   "metadata": {},
   "outputs": [
    {
     "data": {
      "text/plain": [
       "<seaborn.axisgrid.FacetGrid at 0x1e78bbffc48>"
      ]
     },
     "execution_count": 38,
     "metadata": {},
     "output_type": "execute_result"
    },
    {
     "data": {
      "image/png": "[encoded data removed]",
      "text/plain": [
       "<Figure size 360x360 with 1 Axes>"
      ]
     },
     "metadata": {
      "needs_background": "light"
     },
     "output_type": "display_data"
    }
   ],
   "source": [
    "# 브랜드 랭킹에 따른 조회수 시각화 :  RANK : 50 - 100\n",
    "sns.lmplot(x = \"BRD_RANK\", y = \"PUR_CNT\", data = Total_P3)"
   ]
  },
  {
   "cell_type": "markdown",
   "metadata": {},
   "source": [
    "### 최종 결론\n",
    "\n",
    "    브랜드 랭킹이 높으면 구매수가 높음을 알 수 있음\n",
    "    하지만 브랜드 랭킹이 높기에 구매수가 높은건지\n",
    "    구매수가 높기에 브랜드 랭킹이 높은건지\n",
    "    어떤 것이 원인이고 결과인지 우리가 가지고있는 자료만 가지고서는 한계가 있음"
   ]
  }
 ],
 "metadata": {
  "kernelspec": {
   "display_name": "Python 3",
   "language": "python",
   "name": "python3"
  },
  "language_info": {
   "codemirror_mode": {
    "name": "ipython",
    "version": 3
   },
   "file_extension": ".py",
   "mimetype": "text/x-python",
   "name": "python",
   "nbconvert_exporter": "python",
   "pygments_lexer": "ipython3",
   "version": "3.7.4"
  }
 },
 "nbformat": 4,
 "nbformat_minor": 2
}

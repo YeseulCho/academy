{
 "cells": [
  {
   "cell_type": "markdown",
   "metadata": {},
   "source": [
    "## Musinsa Customal's Viewpoint - Delivery Date\n",
    "\n",
    "    작성자 : 조예슬\n",
    "    \n",
    "    상품 배송소요일에 따른 고객의 상품 만족도 상관관계 알아보기\n",
    "    \n",
    "    - MySQL을 이용하여 데이터 전처리 진행\n",
    "    - 상품 랭킹에서 선정됐던 대분류 4가지(상의, 아우터, 바지, 스니커)의 고객의 만족도을 알아보고, 시각화시키기"
   ]
  },
  {
   "cell_type": "code",
   "execution_count": 2,
   "metadata": {},
   "outputs": [],
   "source": [
    "import numpy as np\n",
    "import pandas as pd\n",
    "import matplotlib as mpl\n",
    "import matplotlib.pyplot as plt                                                 # 실제로 그래프를 그려주는 애\n",
    "import seaborn as sns\n",
    "\n",
    "import matplotlib.font_manager as fm                                            # 한글폰트 안깨져서 나오게하기위해\n",
    "font_name = fm.FontProperties(fname=\"C:\\Windows/Fonts/malgun.ttf\").get_name()    # 폰트 지정\n",
    "plt.rc('font', family=font_name)                                                 # matplotlib내에 폰트 설정\n",
    "\n",
    "mpl.rcParams[\"axes.unicode_minus\"] = False        # 음수 설정, False로 지정하면 음수를 문자로 쓰지않고 숫자로 지정하겠다는 의미, 음수로 사용이 가능해진다.\n",
    "\n",
    "import MySQLdb"
   ]
  },
  {
   "cell_type": "code",
   "execution_count": 4,
   "metadata": {},
   "outputs": [],
   "source": [
    "config = {\"host\":\"192.168.0.44\", \"user\":\"musinsa\", \"password\":\"1111\", \"database\":\"PR_TEST\", \"charset\":'utf8'}\n",
    "conn = MySQLdb.connect(**config)"
   ]
  },
  {
   "cell_type": "code",
   "execution_count": 5,
   "metadata": {},
   "outputs": [
    {
     "data": {
      "text/html": [
       "<div>\n",
       "<style scoped>\n",
       "    .dataframe tbody tr th:only-of-type {\n",
       "        vertical-align: middle;\n",
       "    }\n",
       "\n",
       "    .dataframe tbody tr th {\n",
       "        vertical-align: top;\n",
       "    }\n",
       "\n",
       "    .dataframe thead th {\n",
       "        text-align: right;\n",
       "    }\n",
       "</style>\n",
       "<table border=\"1\" class=\"dataframe\">\n",
       "  <thead>\n",
       "    <tr style=\"text-align: right;\">\n",
       "      <th></th>\n",
       "      <th>MAJOR_CODE</th>\n",
       "      <th>AVG_DELDATE</th>\n",
       "      <th>SATISFACTION</th>\n",
       "    </tr>\n",
       "  </thead>\n",
       "  <tbody>\n",
       "    <tr>\n",
       "      <td>489</td>\n",
       "      <td>001</td>\n",
       "      <td>3.6</td>\n",
       "      <td>70.00</td>\n",
       "    </tr>\n",
       "    <tr>\n",
       "      <td>712</td>\n",
       "      <td>001</td>\n",
       "      <td>3.3</td>\n",
       "      <td>92.22</td>\n",
       "    </tr>\n",
       "    <tr>\n",
       "      <td>87</td>\n",
       "      <td>001</td>\n",
       "      <td>2.8</td>\n",
       "      <td>97.50</td>\n",
       "    </tr>\n",
       "    <tr>\n",
       "      <td>717</td>\n",
       "      <td>001</td>\n",
       "      <td>2.5</td>\n",
       "      <td>100.00</td>\n",
       "    </tr>\n",
       "    <tr>\n",
       "      <td>598</td>\n",
       "      <td>001</td>\n",
       "      <td>2.5</td>\n",
       "      <td>90.00</td>\n",
       "    </tr>\n",
       "    <tr>\n",
       "      <td>...</td>\n",
       "      <td>...</td>\n",
       "      <td>...</td>\n",
       "      <td>...</td>\n",
       "    </tr>\n",
       "    <tr>\n",
       "      <td>642</td>\n",
       "      <td>001</td>\n",
       "      <td>0.9</td>\n",
       "      <td>88.00</td>\n",
       "    </tr>\n",
       "    <tr>\n",
       "      <td>447</td>\n",
       "      <td>001</td>\n",
       "      <td>0.9</td>\n",
       "      <td>90.70</td>\n",
       "    </tr>\n",
       "    <tr>\n",
       "      <td>454</td>\n",
       "      <td>001</td>\n",
       "      <td>0.9</td>\n",
       "      <td>94.78</td>\n",
       "    </tr>\n",
       "    <tr>\n",
       "      <td>696</td>\n",
       "      <td>001</td>\n",
       "      <td>0.9</td>\n",
       "      <td>100.00</td>\n",
       "    </tr>\n",
       "    <tr>\n",
       "      <td>424</td>\n",
       "      <td>001</td>\n",
       "      <td>0.9</td>\n",
       "      <td>100.00</td>\n",
       "    </tr>\n",
       "  </tbody>\n",
       "</table>\n",
       "<p>753 rows × 3 columns</p>\n",
       "</div>"
      ],
      "text/plain": [
       "    MAJOR_CODE  AVG_DELDATE  SATISFACTION\n",
       "489        001          3.6         70.00\n",
       "712        001          3.3         92.22\n",
       "87         001          2.8         97.50\n",
       "717        001          2.5        100.00\n",
       "598        001          2.5         90.00\n",
       "..         ...          ...           ...\n",
       "642        001          0.9         88.00\n",
       "447        001          0.9         90.70\n",
       "454        001          0.9         94.78\n",
       "696        001          0.9        100.00\n",
       "424        001          0.9        100.00\n",
       "\n",
       "[753 rows x 3 columns]"
      ]
     },
     "execution_count": 5,
     "metadata": {},
     "output_type": "execute_result"
    }
   ],
   "source": [
    "# MAJOR_CODE = 1, 배송소요일 + 만족도 데이터 전처리 \n",
    "\n",
    "cursor = conn.cursor()  \n",
    "\n",
    "sql = \"\"\"SELECT CA.MAJOR_CODE, P.AVG_DELDATE, P.SATISFACTION\n",
    "FROM PRDT_INFO P, CATEGORY CA\n",
    "WHERE P.SUB_CODE = CA.SUB_CODE\n",
    "  AND CA.MAJOR_CODE = '001'\n",
    "HAVING P.SATISFACTION != 0\n",
    "ORDER BY CA.MAJOR_CODE ASC;\"\"\"\n",
    "                      \n",
    "cursor.execute(sql) \n",
    "\n",
    "arr = cursor.fetchall()\n",
    "\n",
    "sat1_columns = [\"MAJOR_CODE\", \"AVG_DELDATE\", \"SATISFACTION\"]\n",
    "\n",
    "sat1= pd.DataFrame(arr, columns=sat1_columns)\n",
    "\n",
    "# string -> float\n",
    "sat1[\"AVG_DELDATE\"] = sat1[\"AVG_DELDATE\"].astype(float)\n",
    "sat1[\"SATISFACTION\"] = sat1[\"SATISFACTION\"].astype(float)\n",
    "\n",
    "sat1.sort_values(by=\"AVG_DELDATE\", ascending=False)"
   ]
  },
  {
   "cell_type": "code",
   "execution_count": 6,
   "metadata": {},
   "outputs": [
    {
     "data": {
      "text/plain": [
       "<seaborn.axisgrid.FacetGrid at 0x1fa1df2dc08>"
      ]
     },
     "execution_count": 6,
     "metadata": {},
     "output_type": "execute_result"
    },
    {
     "data": {
      "image/png": "[encoded data removed]",
      "text/plain": [
       "<Figure size 360x360 with 1 Axes>"
      ]
     },
     "metadata": {
      "needs_background": "light"
     },
     "output_type": "display_data"
    }
   ],
   "source": [
    "# MAJOR_CODE = 1, 배송소요일 + 만족도 : 시각화\n",
    "sns.lmplot( x = \"AVG_DELDATE\", y = \"SATISFACTION\", data = sat1)"
   ]
  },
  {
   "cell_type": "code",
   "execution_count": 9,
   "metadata": {},
   "outputs": [
    {
     "data": {
      "text/plain": [
       "<matplotlib.axes._subplots.AxesSubplot at 0x1fa1f3734c8>"
      ]
     },
     "execution_count": 9,
     "metadata": {},
     "output_type": "execute_result"
    },
    {
     "data": {
      "image/png": "[encoded data removed]",
      "text/plain": [
       "<Figure size 432x288 with 1 Axes>"
      ]
     },
     "metadata": {
      "needs_background": "light"
     },
     "output_type": "display_data"
    }
   ],
   "source": [
    "# MAJOR_CODE = 1, 구간별로 나누어 보기\n",
    "\n",
    "bins = [-1, 1.0, 1.5, 2.0, 2.5, 3.0, 3.5, 4.0]\n",
    "labels = ['0일', '1.0일', '1.5일', '2.0일', '2.5일',\n",
    "          '3.0일', '3.5일']\n",
    "sat1[\"DELDATE_SPLIT\"] = pd.cut(sat1[\"AVG_DELDATE\"], bins=bins, labels=labels)\n",
    "\n",
    "sat1_b = sat1.pivot_table(\"SATISFACTION\", \"DELDATE_SPLIT\")\n",
    "sat1_b.plot()"
   ]
  },
  {
   "cell_type": "code",
   "execution_count": 10,
   "metadata": {},
   "outputs": [
    {
     "data": {
      "text/html": [
       "<div>\n",
       "<style scoped>\n",
       "    .dataframe tbody tr th:only-of-type {\n",
       "        vertical-align: middle;\n",
       "    }\n",
       "\n",
       "    .dataframe tbody tr th {\n",
       "        vertical-align: top;\n",
       "    }\n",
       "\n",
       "    .dataframe thead th {\n",
       "        text-align: right;\n",
       "    }\n",
       "</style>\n",
       "<table border=\"1\" class=\"dataframe\">\n",
       "  <thead>\n",
       "    <tr style=\"text-align: right;\">\n",
       "      <th></th>\n",
       "      <th>MAJOR_CODE</th>\n",
       "      <th>AVG_DELDATE</th>\n",
       "      <th>SATISFACTION</th>\n",
       "    </tr>\n",
       "  </thead>\n",
       "  <tbody>\n",
       "    <tr>\n",
       "      <td>345</td>\n",
       "      <td>002</td>\n",
       "      <td>3.3</td>\n",
       "      <td>100.00</td>\n",
       "    </tr>\n",
       "    <tr>\n",
       "      <td>200</td>\n",
       "      <td>002</td>\n",
       "      <td>3.3</td>\n",
       "      <td>92.30</td>\n",
       "    </tr>\n",
       "    <tr>\n",
       "      <td>328</td>\n",
       "      <td>002</td>\n",
       "      <td>3.2</td>\n",
       "      <td>93.88</td>\n",
       "    </tr>\n",
       "    <tr>\n",
       "      <td>294</td>\n",
       "      <td>002</td>\n",
       "      <td>3.1</td>\n",
       "      <td>96.48</td>\n",
       "    </tr>\n",
       "    <tr>\n",
       "      <td>7</td>\n",
       "      <td>002</td>\n",
       "      <td>2.5</td>\n",
       "      <td>96.00</td>\n",
       "    </tr>\n",
       "    <tr>\n",
       "      <td>...</td>\n",
       "      <td>...</td>\n",
       "      <td>...</td>\n",
       "      <td>...</td>\n",
       "    </tr>\n",
       "    <tr>\n",
       "      <td>165</td>\n",
       "      <td>002</td>\n",
       "      <td>0.9</td>\n",
       "      <td>100.00</td>\n",
       "    </tr>\n",
       "    <tr>\n",
       "      <td>182</td>\n",
       "      <td>002</td>\n",
       "      <td>0.9</td>\n",
       "      <td>100.00</td>\n",
       "    </tr>\n",
       "    <tr>\n",
       "      <td>195</td>\n",
       "      <td>002</td>\n",
       "      <td>0.9</td>\n",
       "      <td>83.54</td>\n",
       "    </tr>\n",
       "    <tr>\n",
       "      <td>297</td>\n",
       "      <td>002</td>\n",
       "      <td>0.9</td>\n",
       "      <td>100.00</td>\n",
       "    </tr>\n",
       "    <tr>\n",
       "      <td>258</td>\n",
       "      <td>002</td>\n",
       "      <td>0.8</td>\n",
       "      <td>100.00</td>\n",
       "    </tr>\n",
       "  </tbody>\n",
       "</table>\n",
       "<p>394 rows × 3 columns</p>\n",
       "</div>"
      ],
      "text/plain": [
       "    MAJOR_CODE  AVG_DELDATE  SATISFACTION\n",
       "345        002          3.3        100.00\n",
       "200        002          3.3         92.30\n",
       "328        002          3.2         93.88\n",
       "294        002          3.1         96.48\n",
       "7          002          2.5         96.00\n",
       "..         ...          ...           ...\n",
       "165        002          0.9        100.00\n",
       "182        002          0.9        100.00\n",
       "195        002          0.9         83.54\n",
       "297        002          0.9        100.00\n",
       "258        002          0.8        100.00\n",
       "\n",
       "[394 rows x 3 columns]"
      ]
     },
     "execution_count": 10,
     "metadata": {},
     "output_type": "execute_result"
    }
   ],
   "source": [
    "# MAJOR_CODE = 2, 배송소요일 + 만족도 데이터 전처리 \n",
    "\n",
    "cursor = conn.cursor()  \n",
    "\n",
    "sql = \"\"\"SELECT CA.MAJOR_CODE, P.AVG_DELDATE, P.SATISFACTION\n",
    "FROM PRDT_INFO P, CATEGORY CA\n",
    "WHERE P.SUB_CODE = CA.SUB_CODE\n",
    "  AND CA.MAJOR_CODE = '002'\n",
    "HAVING P.SATISFACTION != 0\n",
    "ORDER BY CA.MAJOR_CODE ASC;\"\"\"\n",
    "                      \n",
    "cursor.execute(sql) \n",
    "\n",
    "arr = cursor.fetchall()\n",
    "\n",
    "sat2_columns = [\"MAJOR_CODE\", \"AVG_DELDATE\", \"SATISFACTION\"]\n",
    "\n",
    "sat2= pd.DataFrame(arr, columns=sat2_columns)\n",
    "\n",
    "# string -> float\n",
    "sat2[\"AVG_DELDATE\"] = sat2[\"AVG_DELDATE\"].astype(float)\n",
    "sat2[\"SATISFACTION\"] = sat2[\"SATISFACTION\"].astype(float)\n",
    "\n",
    "sat2.sort_values(by=\"AVG_DELDATE\", ascending=False)"
   ]
  },
  {
   "cell_type": "code",
   "execution_count": 11,
   "metadata": {},
   "outputs": [
    {
     "data": {
      "text/plain": [
       "<seaborn.axisgrid.FacetGrid at 0x1fa1f3de4c8>"
      ]
     },
     "execution_count": 11,
     "metadata": {},
     "output_type": "execute_result"
    },
    {
     "data": {
      "image/png": "[encoded data removed]",
      "text/plain": [
       "<Figure size 360x360 with 1 Axes>"
      ]
     },
     "metadata": {
      "needs_background": "light"
     },
     "output_type": "display_data"
    }
   ],
   "source": [
    "# MAJOR_CODE = 2, 배송소요일 + 만족도 : 시각화\n",
    "sns.lmplot( x = \"AVG_DELDATE\", y = \"SATISFACTION\", data = sat2)"
   ]
  },
  {
   "cell_type": "code",
   "execution_count": null,
   "metadata": {},
   "outputs": [],
   "source": [
    "sat2 = sat2.loc[sat2[\"SATISFACTION\"] < 70]"
   ]
  },
  {
   "cell_type": "code",
   "execution_count": 12,
   "metadata": {},
   "outputs": [
    {
     "data": {
      "text/plain": [
       "<matplotlib.axes._subplots.AxesSubplot at 0x1fa1df763c8>"
      ]
     },
     "execution_count": 12,
     "metadata": {},
     "output_type": "execute_result"
    },
    {
     "data": {
      "image/png": "[encoded data removed]",
      "text/plain": [
       "<Figure size 432x288 with 1 Axes>"
      ]
     },
     "metadata": {
      "needs_background": "light"
     },
     "output_type": "display_data"
    }
   ],
   "source": [
    "# MAJOR_CODE = 2, 구간별로 나누어 보기\n",
    "\n",
    "bins = [-1, 1.0, 1.5, 2.0, 2.5, 3.0, 3.5, 4.0]\n",
    "labels = ['0일', '1.0일', '1.5일', '2.0일', '2.5일',\n",
    "          '3.0일', '3.5일']\n",
    "sat2[\"DELDATE_SPLIT\"] = pd.cut(sat2[\"AVG_DELDATE\"], bins=bins, labels=labels)\n",
    "\n",
    "sat2_b = sat2.pivot_table(\"SATISFACTION\", \"DELDATE_SPLIT\")\n",
    "sat2_b.plot()"
   ]
  },
  {
   "cell_type": "code",
   "execution_count": 13,
   "metadata": {},
   "outputs": [
    {
     "data": {
      "text/html": [
       "<div>\n",
       "<style scoped>\n",
       "    .dataframe tbody tr th:only-of-type {\n",
       "        vertical-align: middle;\n",
       "    }\n",
       "\n",
       "    .dataframe tbody tr th {\n",
       "        vertical-align: top;\n",
       "    }\n",
       "\n",
       "    .dataframe thead th {\n",
       "        text-align: right;\n",
       "    }\n",
       "</style>\n",
       "<table border=\"1\" class=\"dataframe\">\n",
       "  <thead>\n",
       "    <tr style=\"text-align: right;\">\n",
       "      <th></th>\n",
       "      <th>MAJOR_CODE</th>\n",
       "      <th>AVG_DELDATE</th>\n",
       "      <th>SATISFACTION</th>\n",
       "    </tr>\n",
       "  </thead>\n",
       "  <tbody>\n",
       "    <tr>\n",
       "      <td>120</td>\n",
       "      <td>003</td>\n",
       "      <td>2.5</td>\n",
       "      <td>80.00</td>\n",
       "    </tr>\n",
       "    <tr>\n",
       "      <td>279</td>\n",
       "      <td>003</td>\n",
       "      <td>2.4</td>\n",
       "      <td>95.00</td>\n",
       "    </tr>\n",
       "    <tr>\n",
       "      <td>267</td>\n",
       "      <td>003</td>\n",
       "      <td>2.3</td>\n",
       "      <td>80.00</td>\n",
       "    </tr>\n",
       "    <tr>\n",
       "      <td>29</td>\n",
       "      <td>003</td>\n",
       "      <td>2.3</td>\n",
       "      <td>95.00</td>\n",
       "    </tr>\n",
       "    <tr>\n",
       "      <td>204</td>\n",
       "      <td>003</td>\n",
       "      <td>2.3</td>\n",
       "      <td>100.00</td>\n",
       "    </tr>\n",
       "    <tr>\n",
       "      <td>...</td>\n",
       "      <td>...</td>\n",
       "      <td>...</td>\n",
       "      <td>...</td>\n",
       "    </tr>\n",
       "    <tr>\n",
       "      <td>81</td>\n",
       "      <td>003</td>\n",
       "      <td>1.0</td>\n",
       "      <td>90.00</td>\n",
       "    </tr>\n",
       "    <tr>\n",
       "      <td>23</td>\n",
       "      <td>003</td>\n",
       "      <td>1.0</td>\n",
       "      <td>100.00</td>\n",
       "    </tr>\n",
       "    <tr>\n",
       "      <td>82</td>\n",
       "      <td>003</td>\n",
       "      <td>0.9</td>\n",
       "      <td>90.00</td>\n",
       "    </tr>\n",
       "    <tr>\n",
       "      <td>112</td>\n",
       "      <td>003</td>\n",
       "      <td>0.8</td>\n",
       "      <td>85.72</td>\n",
       "    </tr>\n",
       "    <tr>\n",
       "      <td>275</td>\n",
       "      <td>003</td>\n",
       "      <td>0.8</td>\n",
       "      <td>94.00</td>\n",
       "    </tr>\n",
       "  </tbody>\n",
       "</table>\n",
       "<p>339 rows × 3 columns</p>\n",
       "</div>"
      ],
      "text/plain": [
       "    MAJOR_CODE  AVG_DELDATE  SATISFACTION\n",
       "120        003          2.5         80.00\n",
       "279        003          2.4         95.00\n",
       "267        003          2.3         80.00\n",
       "29         003          2.3         95.00\n",
       "204        003          2.3        100.00\n",
       "..         ...          ...           ...\n",
       "81         003          1.0         90.00\n",
       "23         003          1.0        100.00\n",
       "82         003          0.9         90.00\n",
       "112        003          0.8         85.72\n",
       "275        003          0.8         94.00\n",
       "\n",
       "[339 rows x 3 columns]"
      ]
     },
     "execution_count": 13,
     "metadata": {},
     "output_type": "execute_result"
    }
   ],
   "source": [
    "# MAJOR_CODE = 3, 배송소요일 + 만족도 데이터 전처리 \n",
    "\n",
    "cursor = conn.cursor()  \n",
    "\n",
    "sql = \"\"\"SELECT CA.MAJOR_CODE, P.AVG_DELDATE, P.SATISFACTION\n",
    "FROM PRDT_INFO P, CATEGORY CA\n",
    "WHERE P.SUB_CODE = CA.SUB_CODE\n",
    "  AND CA.MAJOR_CODE = '003'\n",
    "HAVING P.SATISFACTION != 0\n",
    "ORDER BY CA.MAJOR_CODE ASC;\"\"\"\n",
    "                      \n",
    "cursor.execute(sql) \n",
    "\n",
    "arr = cursor.fetchall()\n",
    "\n",
    "sat3_columns = [\"MAJOR_CODE\", \"AVG_DELDATE\", \"SATISFACTION\"]\n",
    "\n",
    "sat3= pd.DataFrame(arr, columns=sat3_columns)\n",
    "\n",
    "# string -> float\n",
    "sat3[\"AVG_DELDATE\"] = sat3[\"AVG_DELDATE\"].astype(float)\n",
    "sat3[\"SATISFACTION\"] = sat3[\"SATISFACTION\"].astype(float)\n",
    "\n",
    "sat3.sort_values(by=\"AVG_DELDATE\", ascending=False)"
   ]
  },
  {
   "cell_type": "code",
   "execution_count": 14,
   "metadata": {},
   "outputs": [
    {
     "data": {
      "text/plain": [
       "<seaborn.axisgrid.FacetGrid at 0x1fa1f4d6d48>"
      ]
     },
     "execution_count": 14,
     "metadata": {},
     "output_type": "execute_result"
    },
    {
     "data": {
      "image/png": "[encoded data removed]",
      "text/plain": [
       "<Figure size 360x360 with 1 Axes>"
      ]
     },
     "metadata": {
      "needs_background": "light"
     },
     "output_type": "display_data"
    }
   ],
   "source": [
    "# MAJOR_CODE = 2, 배송소요일 + 만족도 : 시각화\n",
    "sns.lmplot( x = \"AVG_DELDATE\", y = \"SATISFACTION\", data = sat3)"
   ]
  },
  {
   "cell_type": "code",
   "execution_count": 15,
   "metadata": {},
   "outputs": [
    {
     "data": {
      "text/plain": [
       "<matplotlib.axes._subplots.AxesSubplot at 0x1fa1f4d2548>"
      ]
     },
     "execution_count": 15,
     "metadata": {},
     "output_type": "execute_result"
    },
    {
     "data": {
      "image/png": "[encoded data removed]",
      "text/plain": [
       "<Figure size 432x288 with 1 Axes>"
      ]
     },
     "metadata": {
      "needs_background": "light"
     },
     "output_type": "display_data"
    }
   ],
   "source": [
    "# MAJOR_CODE = 3, 구간별로 나누어 보기\n",
    "\n",
    "bins = [-1, 1.0, 1.5, 2.0, 2.5, 3.0, 3.5, 4.0]\n",
    "labels = ['0일', '1.0일', '1.5일', '2.0일', '2.5일',\n",
    "          '3.0일', '3.5일']\n",
    "sat3[\"DELDATE_SPLIT\"] = pd.cut(sat3[\"AVG_DELDATE\"], bins=bins, labels=labels)\n",
    "\n",
    "sat3_b = sat3.pivot_table(\"SATISFACTION\", \"DELDATE_SPLIT\")\n",
    "sat3_b.plot()"
   ]
  },
  {
   "cell_type": "code",
   "execution_count": 19,
   "metadata": {},
   "outputs": [
    {
     "data": {
      "text/html": [
       "<div>\n",
       "<style scoped>\n",
       "    .dataframe tbody tr th:only-of-type {\n",
       "        vertical-align: middle;\n",
       "    }\n",
       "\n",
       "    .dataframe tbody tr th {\n",
       "        vertical-align: top;\n",
       "    }\n",
       "\n",
       "    .dataframe thead th {\n",
       "        text-align: right;\n",
       "    }\n",
       "</style>\n",
       "<table border=\"1\" class=\"dataframe\">\n",
       "  <thead>\n",
       "    <tr style=\"text-align: right;\">\n",
       "      <th></th>\n",
       "      <th>MAJOR_CODE</th>\n",
       "      <th>AVG_DELDATE</th>\n",
       "      <th>SATISFACTION</th>\n",
       "    </tr>\n",
       "  </thead>\n",
       "  <tbody>\n",
       "    <tr>\n",
       "      <td>77</td>\n",
       "      <td>018</td>\n",
       "      <td>8.3</td>\n",
       "      <td>95.00</td>\n",
       "    </tr>\n",
       "    <tr>\n",
       "      <td>27</td>\n",
       "      <td>018</td>\n",
       "      <td>3.9</td>\n",
       "      <td>81.82</td>\n",
       "    </tr>\n",
       "    <tr>\n",
       "      <td>0</td>\n",
       "      <td>018</td>\n",
       "      <td>2.0</td>\n",
       "      <td>94.58</td>\n",
       "    </tr>\n",
       "    <tr>\n",
       "      <td>51</td>\n",
       "      <td>018</td>\n",
       "      <td>2.0</td>\n",
       "      <td>94.40</td>\n",
       "    </tr>\n",
       "    <tr>\n",
       "      <td>88</td>\n",
       "      <td>018</td>\n",
       "      <td>2.0</td>\n",
       "      <td>91.42</td>\n",
       "    </tr>\n",
       "    <tr>\n",
       "      <td>...</td>\n",
       "      <td>...</td>\n",
       "      <td>...</td>\n",
       "      <td>...</td>\n",
       "    </tr>\n",
       "    <tr>\n",
       "      <td>24</td>\n",
       "      <td>018</td>\n",
       "      <td>1.1</td>\n",
       "      <td>20.00</td>\n",
       "    </tr>\n",
       "    <tr>\n",
       "      <td>68</td>\n",
       "      <td>018</td>\n",
       "      <td>1.1</td>\n",
       "      <td>97.78</td>\n",
       "    </tr>\n",
       "    <tr>\n",
       "      <td>55</td>\n",
       "      <td>018</td>\n",
       "      <td>1.0</td>\n",
       "      <td>95.58</td>\n",
       "    </tr>\n",
       "    <tr>\n",
       "      <td>1</td>\n",
       "      <td>018</td>\n",
       "      <td>1.0</td>\n",
       "      <td>83.34</td>\n",
       "    </tr>\n",
       "    <tr>\n",
       "      <td>3</td>\n",
       "      <td>018</td>\n",
       "      <td>NaN</td>\n",
       "      <td>80.00</td>\n",
       "    </tr>\n",
       "  </tbody>\n",
       "</table>\n",
       "<p>93 rows × 3 columns</p>\n",
       "</div>"
      ],
      "text/plain": [
       "   MAJOR_CODE  AVG_DELDATE  SATISFACTION\n",
       "77        018          8.3         95.00\n",
       "27        018          3.9         81.82\n",
       "0         018          2.0         94.58\n",
       "51        018          2.0         94.40\n",
       "88        018          2.0         91.42\n",
       "..        ...          ...           ...\n",
       "24        018          1.1         20.00\n",
       "68        018          1.1         97.78\n",
       "55        018          1.0         95.58\n",
       "1         018          1.0         83.34\n",
       "3         018          NaN         80.00\n",
       "\n",
       "[93 rows x 3 columns]"
      ]
     },
     "execution_count": 19,
     "metadata": {},
     "output_type": "execute_result"
    }
   ],
   "source": [
    "# MAJOR_CODE = 18, 배송소요일 + 만족도 데이터 전처리 \n",
    "\n",
    "cursor = conn.cursor()  \n",
    "\n",
    "sql = \"\"\"SELECT CA.MAJOR_CODE, P.AVG_DELDATE, P.SATISFACTION\n",
    "FROM PRDT_INFO P, CATEGORY CA\n",
    "WHERE P.SUB_CODE = CA.SUB_CODE\n",
    "  AND CA.MAJOR_CODE = '018'\n",
    "HAVING P.SATISFACTION != 0\n",
    "ORDER BY CA.MAJOR_CODE ASC;\"\"\"\n",
    "                      \n",
    "cursor.execute(sql) \n",
    "\n",
    "arr = cursor.fetchall()\n",
    "\n",
    "sat18_columns = [\"MAJOR_CODE\", \"AVG_DELDATE\", \"SATISFACTION\"]\n",
    "\n",
    "sat18= pd.DataFrame(arr, columns=sat18_columns)\n",
    "\n",
    "# string -> float\n",
    "\n",
    "sat18[\"SATISFACTION\"] = sat18[\"SATISFACTION\"].astype(float)\n",
    "sat18[\"AVG_DELDATE\"] = pd.to_numeric(sat18[\"AVG_DELDATE\"], errors='coerce')\n",
    "\n",
    "sat18.sort_values(by=\"AVG_DELDATE\", ascending=False)"
   ]
  },
  {
   "cell_type": "code",
   "execution_count": 20,
   "metadata": {},
   "outputs": [
    {
     "data": {
      "text/plain": [
       "<seaborn.axisgrid.FacetGrid at 0x1fa1f740708>"
      ]
     },
     "execution_count": 20,
     "metadata": {},
     "output_type": "execute_result"
    },
    {
     "data": {
      "image/png": "[encoded data removed]",
      "text/plain": [
       "<Figure size 360x360 with 1 Axes>"
      ]
     },
     "metadata": {
      "needs_background": "light"
     },
     "output_type": "display_data"
    }
   ],
   "source": [
    "# MAJOR_CODE = 2, 배송소요일 + 만족도 : 시각화\n",
    "sns.lmplot( x = \"AVG_DELDATE\", y = \"SATISFACTION\", data = sat18)"
   ]
  },
  {
   "cell_type": "code",
   "execution_count": 21,
   "metadata": {},
   "outputs": [
    {
     "data": {
      "text/plain": [
       "<matplotlib.axes._subplots.AxesSubplot at 0x1fa1f54a4c8>"
      ]
     },
     "execution_count": 21,
     "metadata": {},
     "output_type": "execute_result"
    },
    {
     "data": {
      "image/png": "[encoded data removed]",
      "text/plain": [
       "<Figure size 432x288 with 1 Axes>"
      ]
     },
     "metadata": {
      "needs_background": "light"
     },
     "output_type": "display_data"
    }
   ],
   "source": [
    "# MAJOR_CODE = 3, 구간별로 나누어 보기\n",
    "\n",
    "bins = [-1, 1.0, 1.5, 2.0, 2.5, 3.0, 3.5, 4.0]\n",
    "labels = ['0일', '1.0일', '1.5일', '2.0일', '2.5일',\n",
    "          '3.0일', '3.5일']\n",
    "sat18[\"DELDATE_SPLIT\"] = pd.cut(sat18[\"AVG_DELDATE\"], bins=bins, labels=labels)\n",
    "\n",
    "sat18_b = sat18.pivot_table(\"SATISFACTION\", \"DELDATE_SPLIT\")\n",
    "sat18_b.plot()"
   ]
  },
  {
   "cell_type": "code",
   "execution_count": 23,
   "metadata": {},
   "outputs": [
    {
     "data": {
      "text/html": [
       "<div>\n",
       "<style scoped>\n",
       "    .dataframe tbody tr th:only-of-type {\n",
       "        vertical-align: middle;\n",
       "    }\n",
       "\n",
       "    .dataframe tbody tr th {\n",
       "        vertical-align: top;\n",
       "    }\n",
       "\n",
       "    .dataframe thead th {\n",
       "        text-align: right;\n",
       "    }\n",
       "</style>\n",
       "<table border=\"1\" class=\"dataframe\">\n",
       "  <thead>\n",
       "    <tr style=\"text-align: right;\">\n",
       "      <th></th>\n",
       "      <th>MAJOR_CODE</th>\n",
       "      <th>AVG_DELDATE</th>\n",
       "      <th>SATISFACTION</th>\n",
       "    </tr>\n",
       "  </thead>\n",
       "  <tbody>\n",
       "    <tr>\n",
       "      <td>1651</td>\n",
       "      <td>005</td>\n",
       "      <td>9.4</td>\n",
       "      <td>99.02</td>\n",
       "    </tr>\n",
       "    <tr>\n",
       "      <td>1658</td>\n",
       "      <td>005</td>\n",
       "      <td>9.0</td>\n",
       "      <td>98.18</td>\n",
       "    </tr>\n",
       "    <tr>\n",
       "      <td>1956</td>\n",
       "      <td>018</td>\n",
       "      <td>8.3</td>\n",
       "      <td>95.00</td>\n",
       "    </tr>\n",
       "    <tr>\n",
       "      <td>1635</td>\n",
       "      <td>005</td>\n",
       "      <td>8.2</td>\n",
       "      <td>96.66</td>\n",
       "    </tr>\n",
       "    <tr>\n",
       "      <td>1649</td>\n",
       "      <td>005</td>\n",
       "      <td>8.2</td>\n",
       "      <td>100.00</td>\n",
       "    </tr>\n",
       "    <tr>\n",
       "      <td>...</td>\n",
       "      <td>...</td>\n",
       "      <td>...</td>\n",
       "      <td>...</td>\n",
       "    </tr>\n",
       "    <tr>\n",
       "      <td>1011</td>\n",
       "      <td>002</td>\n",
       "      <td>0.8</td>\n",
       "      <td>100.00</td>\n",
       "    </tr>\n",
       "    <tr>\n",
       "      <td>1259</td>\n",
       "      <td>003</td>\n",
       "      <td>0.8</td>\n",
       "      <td>85.72</td>\n",
       "    </tr>\n",
       "    <tr>\n",
       "      <td>1588</td>\n",
       "      <td>004</td>\n",
       "      <td>0.7</td>\n",
       "      <td>100.00</td>\n",
       "    </tr>\n",
       "    <tr>\n",
       "      <td>1489</td>\n",
       "      <td>004</td>\n",
       "      <td>0.6</td>\n",
       "      <td>80.00</td>\n",
       "    </tr>\n",
       "    <tr>\n",
       "      <td>1882</td>\n",
       "      <td>018</td>\n",
       "      <td>NaN</td>\n",
       "      <td>80.00</td>\n",
       "    </tr>\n",
       "  </tbody>\n",
       "</table>\n",
       "<p>1974 rows × 3 columns</p>\n",
       "</div>"
      ],
      "text/plain": [
       "     MAJOR_CODE  AVG_DELDATE  SATISFACTION\n",
       "1651        005          9.4         99.02\n",
       "1658        005          9.0         98.18\n",
       "1956        018          8.3         95.00\n",
       "1635        005          8.2         96.66\n",
       "1649        005          8.2        100.00\n",
       "...         ...          ...           ...\n",
       "1011        002          0.8        100.00\n",
       "1259        003          0.8         85.72\n",
       "1588        004          0.7        100.00\n",
       "1489        004          0.6         80.00\n",
       "1882        018          NaN         80.00\n",
       "\n",
       "[1974 rows x 3 columns]"
      ]
     },
     "execution_count": 23,
     "metadata": {},
     "output_type": "execute_result"
    }
   ],
   "source": [
    "# 전체, 배송소요일 + 만족도 데이터 전처리 \n",
    "\n",
    "cursor = conn.cursor()  \n",
    "\n",
    "sql = \"\"\"SELECT CA.MAJOR_CODE, P.AVG_DELDATE, P.SATISFACTION\n",
    "FROM PRDT_INFO P, CATEGORY CA\n",
    "WHERE P.SUB_CODE = CA.SUB_CODE\n",
    "HAVING P.SATISFACTION != 0\n",
    "ORDER BY CA.MAJOR_CODE ASC;\"\"\"\n",
    "                      \n",
    "cursor.execute(sql) \n",
    "\n",
    "arr = cursor.fetchall()\n",
    "\n",
    "satt_columns = [\"MAJOR_CODE\", \"AVG_DELDATE\", \"SATISFACTION\"]\n",
    "\n",
    "satt= pd.DataFrame(arr, columns=satt_columns)\n",
    "\n",
    "# string -> float\n",
    "\n",
    "satt[\"SATISFACTION\"] = satt[\"SATISFACTION\"].astype(float)\n",
    "satt[\"AVG_DELDATE\"] = pd.to_numeric(satt[\"AVG_DELDATE\"], errors='coerce')\n",
    "\n",
    "satt.sort_values(by=\"AVG_DELDATE\", ascending=False)"
   ]
  },
  {
   "cell_type": "code",
   "execution_count": 24,
   "metadata": {},
   "outputs": [
    {
     "data": {
      "text/plain": [
       "<seaborn.axisgrid.FacetGrid at 0x1fa1f821708>"
      ]
     },
     "execution_count": 24,
     "metadata": {},
     "output_type": "execute_result"
    },
    {
     "data": {
      "image/png": "[encoded data removed]",
      "text/plain": [
       "<Figure size 360x360 with 1 Axes>"
      ]
     },
     "metadata": {
      "needs_background": "light"
     },
     "output_type": "display_data"
    }
   ],
   "source": [
    "# MAJOR_CODE = 2, 배송소요일 + 만족도 : 시각화\n",
    "sns.lmplot( x = \"AVG_DELDATE\", y = \"SATISFACTION\", data = satt)"
   ]
  },
  {
   "cell_type": "code",
   "execution_count": 25,
   "metadata": {},
   "outputs": [
    {
     "data": {
      "text/plain": [
       "<matplotlib.axes._subplots.AxesSubplot at 0x1fa1f97d348>"
      ]
     },
     "execution_count": 25,
     "metadata": {},
     "output_type": "execute_result"
    },
    {
     "data": {
      "image/png": "[encoded data removed]",
      "text/plain": [
       "<Figure size 432x288 with 1 Axes>"
      ]
     },
     "metadata": {
      "needs_background": "light"
     },
     "output_type": "display_data"
    }
   ],
   "source": [
    "# MAJOR_CODE = 3, 구간별로 나누어 보기\n",
    "\n",
    "bins = [-1, 1.0, 1.5, 2.0, 2.5, 3.0, 3.5, 4.0]\n",
    "labels = ['0일', '1.0일', '1.5일', '2.0일', '2.5일',\n",
    "          '3.0일', '3.5일']\n",
    "satt[\"DELDATE_SPLIT\"] = pd.cut(satt[\"AVG_DELDATE\"], bins=bins, labels=labels)\n",
    "\n",
    "satt_b = satt.pivot_table(\"SATISFACTION\", \"DELDATE_SPLIT\")\n",
    "satt_b.plot()"
   ]
  },
  {
   "cell_type": "markdown",
   "metadata": {},
   "source": [
    "### 최종 결론\n",
    "\n",
    "    상의 구매시에 배송소요일이 3일 이상 넘어 갈때에 고객의 만족도는 감소하는 경향을 보인다.\n",
    "    이를 제외하고는 배송소요일에 따라 고객의 만족도는 큰 차이를 보이지 않음"
   ]
  }
 ],
 "metadata": {
  "kernelspec": {
   "display_name": "Python 3",
   "language": "python",
   "name": "python3"
  },
  "language_info": {
   "codemirror_mode": {
    "name": "ipython",
    "version": 3
   },
   "file_extension": ".py",
   "mimetype": "text/x-python",
   "name": "python",
   "nbconvert_exporter": "python",
   "pygments_lexer": "ipython3",
   "version": "3.7.4"
  }
 },
 "nbformat": 4,
 "nbformat_minor": 2
}

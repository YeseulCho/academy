{
 "cells": [
  {
   "cell_type": "markdown",
   "metadata": {},
   "source": [
    "# Regular Expression : 정규 표현식\n",
    "\n",
    "    - http://docs.python.org/3/library/re.html\n",
    "    \n",
    "---\n",
    "\n",
    "    - 반복\n",
    "        * : 0회 이상\n",
    "        + : 1회 이상\n",
    "        ? : 0회 또는 1회  ex) a?b = ab, acb, ~~\n",
    "        {m} : m회 반복  ex) a{10} = aaaaaaaaaa\n",
    "        {m, n} : m회 부터 n회까지 반복\n",
    "        \n",
    "    - 매칭 메타문자\n",
    "        . : 줄바꿈 문자를 제외한 모든 문자와 매치\n",
    "        ^ : 문자열의 시작과 매치\n",
    "        $ : 문자열의 마지막과 매치\n",
    "        [ ] : 문자집합 중 한 문자를 의미\n",
    "        | : \"또는(or)\"의 의미\n",
    "        { } : 정규식을 그룹으로 묶음\n",
    "        \n",
    "    - 특수 문자(\\문자)\n",
    "        \\d : 모든 숫자와 매치\n",
    "        \\D : 숫자가 아닌 문자와 매치\n",
    "        \\s : 공백문자와 매치\n",
    "        \\S : 공백문자가 아닌 모든 것과 매치\n",
    "        \\w : 숫자 또는 문자와 매치\n",
    "        \\W : 숫자 또는 문자가 아닌 모든 문자와 매치\n",
    "        \n",
    "    - Python에서 제공하는 메서드\n",
    "       compile() : 정규표현식 객체를 생성(패턴 정의)\n",
    "       match() : 문자열의 처음부터 정규식과 매치되는지 조사\n",
    "       search() : 문자열 전체를 검색하여 정규식과 매치되는지 조사\n",
    "       split() : 문자열 분리 \n",
    "       findall() : 정규식과 매치되는 모든 문자열을 리스트로 리턴\n",
    "       finditer() : 정규식과 매치되는 모든 문자열을 반복 가능한 객체로 리턴\n",
    "       sub() : 변경, 교체\n",
    "       ...\n",
    "       \n",
    "       "
   ]
  },
  {
   "cell_type": "code",
   "execution_count": 2,
   "metadata": {},
   "outputs": [],
   "source": [
    "import re"
   ]
  },
  {
   "cell_type": "code",
   "execution_count": 8,
   "metadata": {},
   "outputs": [
    {
     "name": "stdout",
     "output_type": "stream",
     "text": [
      "<re.Match object; span=(0, 1), match='a'>\n",
      "None\n",
      "<re.Match object; span=(0, 1), match='c'>\n"
     ]
    }
   ],
   "source": [
    "p = re.compile(\"[abc]\")  # 객체 만들기 # [ ] : 매칭되는 한글자를 찾아준다.\n",
    "\n",
    "print(p.match(\"a\")) # 매칭 O\n",
    "print(p.match(\"x\")) # 매칭 X\n",
    "print(p.match(\"c\")) # 매칭 O"
   ]
  },
  {
   "cell_type": "code",
   "execution_count": 11,
   "metadata": {},
   "outputs": [
    {
     "name": "stdout",
     "output_type": "stream",
     "text": [
      "<re.Match object; span=(0, 1), match='w'>\n",
      "None\n"
     ]
    }
   ],
   "source": [
    "p = re.compile(\"[a-z]\")  # - : 범위 지정 / a부터 z까지 매칭되는 하나의 문자 찾아줌\n",
    "\n",
    "print(p.match(\"w\")) # 매칭 O\n",
    "print(p.match(\"A\")) # 매칭 X, 대문자ㄴㄴ"
   ]
  },
  {
   "cell_type": "code",
   "execution_count": 14,
   "metadata": {},
   "outputs": [
    {
     "name": "stdout",
     "output_type": "stream",
     "text": [
      "<re.Match object; span=(0, 3), match='abc'>\n",
      "<re.Match object; span=(0, 6), match='nnnnnn'>\n"
     ]
    }
   ],
   "source": [
    "p = re.compile(\"[a-z]*\") # * : 반복기회 / 0번이상 와도됨\n",
    "\n",
    "print(p.match(\"abc\")) # 매칭 3번 가능\n",
    "print(p.match(\"nnnnnn\")) "
   ]
  },
  {
   "cell_type": "code",
   "execution_count": 15,
   "metadata": {},
   "outputs": [
    {
     "name": "stdout",
     "output_type": "stream",
     "text": [
      "<re.Match object; span=(0, 3), match='abc'>\n"
     ]
    }
   ],
   "source": [
    "p = re.compile(\"[a-z]{3}\") # 3번까지 매칭 가능\n",
    "\n",
    "print(p.match(\"abcdsdfklejfsfje\"))  # 아무리 많은 문자를 지정하더라도 얘가 찾을수 있는건 딱 3개까지만 찾을수있다. "
   ]
  },
  {
   "cell_type": "code",
   "execution_count": 19,
   "metadata": {},
   "outputs": [
    {
     "name": "stdout",
     "output_type": "stream",
     "text": [
      "None\n",
      "<re.Match object; span=(0, 5), match='3 abc'>\n",
      "<re.Match object; span=(0, 5), match='3 abc'>\n"
     ]
    }
   ],
   "source": [
    "p = re.compile(\"[0-9] [a-z]+\") # 한자리 숫자가 반드시와야함\n",
    "\n",
    "print(p.match(\"abc\")) # 하나의 숫자가 없어서 못찾음\n",
    "print(p.match(\"3 abc\")) # 매칭 O\n",
    "print(p.match(\"3 abc p\")) # 3 abc까지만 찾을 수 있음"
   ]
  },
  {
   "cell_type": "code",
   "execution_count": 21,
   "metadata": {},
   "outputs": [
    {
     "name": "stdout",
     "output_type": "stream",
     "text": [
      "<re.Match object; span=(0, 7), match='3 abc p'>\n",
      "<re.Match object; span=(0, 7), match='3 abc p'>\n"
     ]
    }
   ],
   "source": [
    "p = re.compile(\"[0-9] [a-z]+ .\") # . : 줄바꿈을 제외한 어떤 한 문자가 와도 찾겠다\n",
    "\n",
    "print(p.match(\"3 abc p\")) # 매칭 O\n",
    "print(p.match(\"3 abc pp\")) # 매칭 X"
   ]
  },
  {
   "cell_type": "code",
   "execution_count": 22,
   "metadata": {},
   "outputs": [
    {
     "name": "stdout",
     "output_type": "stream",
     "text": [
      "<re.Match object; span=(0, 11), match='3 abc pㄴㄷㄹp'>\n"
     ]
    }
   ],
   "source": [
    "p = re.compile(\"[0-9] [a-z]+ .+\") # .+ : 한글자 이상 올수있도록\n",
    "\n",
    "print(p.match(\"3 abc pㄴㄷㄹp\")) "
   ]
  },
  {
   "cell_type": "code",
   "execution_count": 33,
   "metadata": {},
   "outputs": [
    {
     "name": "stdout",
     "output_type": "stream",
     "text": [
      "False\n",
      "True\n"
     ]
    }
   ],
   "source": [
    "print(bool(re.match(\"[0-9]*th\", \"abc\"))) # 즉시 필요한 데이터 만들기 / 반드시 뒤에 th가 와야함 / bool :T or F\n",
    "print(bool(re.match(\"[0-9]*th\", \"35th\"))) # 숫자 *로 여러개 올수있다 / 숫자 뒤에 반드시 th가 와야함\n"
   ]
  },
  {
   "cell_type": "code",
   "execution_count": 34,
   "metadata": {},
   "outputs": [
    {
     "name": "stdout",
     "output_type": "stream",
     "text": [
      "False\n",
      "True\n"
     ]
    }
   ],
   "source": [
    "print(bool(re.match(\"[0-9]*th\", \"               35th\"))) # 시작부터 공백으로 시작하면 안됨, 주어진 조건은 시작부터 숫자가 위치해야한다 / match는 처음부터 일치해야함\n",
    "print(bool(re.search(\"[0-9]*th\", \"               35th\"))) # search는 어딘가에서 조건 성립하면 됨"
   ]
  },
  {
   "cell_type": "code",
   "execution_count": 41,
   "metadata": {},
   "outputs": [
    {
     "data": {
      "text/plain": [
       "True"
      ]
     },
     "execution_count": 41,
     "metadata": {},
     "output_type": "execute_result"
    }
   ],
   "source": [
    "bool(re.match(\"[0-9]{3}-\\d{3,4}-\\d{4}\", \"010-111-1234\")) # [0-9]{3} : 0부터 9까지 3자리가 와야함 / \\d[3,4] : 숫자가 3자리에서 4자리까지 올수 있게, 띄어쓰기 있으면 안됨[3, 4]"
   ]
  },
  {
   "cell_type": "code",
   "execution_count": 44,
   "metadata": {},
   "outputs": [
    {
     "name": "stdout",
     "output_type": "stream",
     "text": [
      "['life', 'is', 'too', 'short']\n",
      "<callable_iterator object at 0x00000000051A2D08>\n",
      "<re.Match object; span=(0, 4), match='life'>\n",
      "<re.Match object; span=(10, 12), match='is'>\n",
      "<re.Match object; span=(17, 20), match='too'>\n",
      "<re.Match object; span=(24, 29), match='short'>\n"
     ]
    }
   ],
   "source": [
    "p = re.compile(\"[a-z]+\")\n",
    "\n",
    "m = p.findall(\"life 3333 is 222 too 10 short\") \n",
    "print(m)  # findall : 문자에 해당하는것만 뽑아서 리스트로 묶어서 전달\n",
    "\n",
    "n = p.finditer(\"life 3333 is 222 too 10 short\")\n",
    "print(n) # 반복문을 돌릴수있는 객체로 나옴\n",
    "\n",
    "for i in n:\n",
    "    print(i)  # 하나씩 꺼내서 쓸수있도록 해줌"
   ]
  },
  {
   "cell_type": "code",
   "execution_count": 49,
   "metadata": {},
   "outputs": [
    {
     "name": "stdout",
     "output_type": "stream",
     "text": [
      "['1', '2', '3', '4', '5', '5', '5', '6']\n",
      "['1234', '555', '6']\n",
      "['12', '34', '55']\n",
      "['123', '555']\n"
     ]
    }
   ],
   "source": [
    "data = \"1234 abc가나다ABC_555_6\"\n",
    "\n",
    "print(re.findall(\"[0-9]\", data)) # data에서 0-9까지의 패턴을 찾겠다. / data안에서 숫자 다 골라옴\n",
    "print(re.findall(\"[0-9]+\", data)) # 한개이상의 숫자가 올 수 있다.\n",
    "print(re.findall(\"[0-9]{2}\", data)) # 두자리 연속적인걸로 찾아주겠다 / 따로 떨어져있는 애들은 안나옴\n",
    "print(re.findall(\"[0-9]{2,3}\", data))"
   ]
  },
  {
   "cell_type": "code",
   "execution_count": 56,
   "metadata": {},
   "outputs": [
    {
     "name": "stdout",
     "output_type": "stream",
     "text": [
      "['abc', 'mbc']\n",
      "['1']\n",
      "['234 abc가나다ABC_555_6 mbc air air']\n",
      "['abc', 'air', 'air']\n",
      "['air']\n"
     ]
    }
   ],
   "source": [
    "data = \"1234 abc가나다ABC_555_6 mbc air air\"\n",
    "\n",
    "print(re.findall(\".bc\", data))  # . : enter키를 제외한 모든 문자 가져옴/ bc로 끝나는\n",
    "print(re.findall(\"^1+\", data)) # ^ : 기호 안에서 사용되면 시작문자 지정 , 반드시 1로 시작해야함\n",
    "print(re.findall(\"[^1]+\", data)) # [^] 대괄호 안에서 사용하면 제외, 1을 제외한 나머지는 다 나오게됨\n",
    "print(re.findall(\"a..\", data)) # a로 시작하고 뒤에 2글자 오고\n",
    "print(re.findall(\"air$\", data)) # $ : 문자열의 끝 나타냄, 마지막 글자가 air로 끝나는거 찾겠다"
   ]
  },
  {
   "cell_type": "code",
   "execution_count": 59,
   "metadata": {},
   "outputs": [
    {
     "name": "stdout",
     "output_type": "stream",
     "text": [
      "['8', '0', '1', '0', '0', '5', '0']\n",
      "['80', '10', '50']\n",
      "['80', '10', '50']\n"
     ]
    }
   ],
   "source": [
    "data = \"tom 80, james 100, oscar 50\"\n",
    "print(re.findall(\"\\d\", data)) # 숫자만 뽑아오겠다. 한자리씩만 뽑아옴\n",
    "print(re.findall(\"\\d\\d\", data)) \n",
    "print(re.findall(\"\\d{2}\", data)) "
   ]
  },
  {
   "cell_type": "code",
   "execution_count": 64,
   "metadata": {},
   "outputs": [
    {
     "name": "stdout",
     "output_type": "stream",
     "text": [
      "['mbc', 'kbs sbs:ytn']\n",
      "['mbc', 'kbs', 'sbs', 'ytn']\n"
     ]
    }
   ],
   "source": [
    "print(\"mbc,kbs sbs:ytn\".split(\",\")) # split 1개만 지정 가능함 / 한계가 있음\n",
    "\n",
    "print(re.split(\"\\W+\", \"mbc,kbs sbs:ytn\")) # \\W : 특수문자들과 매치, + : 여러개"
   ]
  },
  {
   "cell_type": "code",
   "execution_count": 65,
   "metadata": {},
   "outputs": [
    {
     "name": "stdout",
     "output_type": "stream",
     "text": [
      "888 abc가나다ABC_888\n"
     ]
    }
   ],
   "source": [
    "m = re.sub(\"[0-9]+\", \"888\", \"1234 abc가나다ABC_567\") # 숫자를 찾아서 숫자에 해당하는 자리에 888로 교체하겠다.\n",
    "print(m)"
   ]
  },
  {
   "cell_type": "code",
   "execution_count": null,
   "metadata": {},
   "outputs": [],
   "source": [
    "\"\"\"\n",
    "1. \\w\n",
    "2. [0-9a-zA-Z]\n",
    "\n",
    "동일한 표현\n",
    "\"\"\""
   ]
  },
  {
   "cell_type": "code",
   "execution_count": null,
   "metadata": {},
   "outputs": [],
   "source": []
  },
  {
   "cell_type": "code",
   "execution_count": null,
   "metadata": {},
   "outputs": [],
   "source": []
  },
  {
   "cell_type": "code",
   "execution_count": null,
   "metadata": {},
   "outputs": [],
   "source": []
  },
  {
   "cell_type": "code",
   "execution_count": null,
   "metadata": {},
   "outputs": [],
   "source": []
  },
  {
   "cell_type": "code",
   "execution_count": null,
   "metadata": {},
   "outputs": [],
   "source": []
  },
  {
   "cell_type": "code",
   "execution_count": null,
   "metadata": {},
   "outputs": [],
   "source": []
  },
  {
   "cell_type": "code",
   "execution_count": null,
   "metadata": {},
   "outputs": [],
   "source": []
  },
  {
   "cell_type": "code",
   "execution_count": null,
   "metadata": {},
   "outputs": [],
   "source": []
  },
  {
   "cell_type": "code",
   "execution_count": null,
   "metadata": {},
   "outputs": [],
   "source": []
  },
  {
   "cell_type": "code",
   "execution_count": null,
   "metadata": {},
   "outputs": [],
   "source": []
  },
  {
   "cell_type": "code",
   "execution_count": null,
   "metadata": {},
   "outputs": [],
   "source": []
  },
  {
   "cell_type": "code",
   "execution_count": null,
   "metadata": {},
   "outputs": [],
   "source": []
  },
  {
   "cell_type": "code",
   "execution_count": null,
   "metadata": {},
   "outputs": [],
   "source": []
  },
  {
   "cell_type": "code",
   "execution_count": null,
   "metadata": {},
   "outputs": [],
   "source": []
  },
  {
   "cell_type": "code",
   "execution_count": null,
   "metadata": {},
   "outputs": [],
   "source": []
  },
  {
   "cell_type": "code",
   "execution_count": null,
   "metadata": {},
   "outputs": [],
   "source": []
  },
  {
   "cell_type": "code",
   "execution_count": null,
   "metadata": {},
   "outputs": [],
   "source": []
  }
 ],
 "metadata": {
  "kernelspec": {
   "display_name": "Python 3",
   "language": "python",
   "name": "python3"
  },
  "language_info": {
   "codemirror_mode": {
    "name": "ipython",
    "version": 3
   },
   "file_extension": ".py",
   "mimetype": "text/x-python",
   "name": "python",
   "nbconvert_exporter": "python",
   "pygments_lexer": "ipython3",
   "version": "3.7.4"
  }
 },
 "nbformat": 4,
 "nbformat_minor": 2
}

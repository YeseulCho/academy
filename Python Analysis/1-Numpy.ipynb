{
 "cells": [
  {
   "cell_type": "markdown",
   "metadata": {},
   "source": [
    "# 특징\n",
    "---\n",
    "    1) 벡터 및 행렬 연산과 관련된 편리한 기능을 제공\n",
    "    2) list와 거의 동일하지만 numpy배열의 특징을 갖는다.\n",
    "        - 배열 : 모든 원소가 같은 자료형이어야 한다. 원소의 갯수를 바꿀 수 없다.\n",
    "    3) 빠른 속도를 지원\n",
    "    4) 벡터화 연산, 배열 인덱싱을 통한 질의 가능\n",
    "    5) http://www.numpy.org"
   ]
  },
  {
   "cell_type": "code",
   "execution_count": 1,
   "metadata": {},
   "outputs": [],
   "source": [
    "import numpy as np"
   ]
  },
  {
   "cell_type": "markdown",
   "metadata": {},
   "source": [
    "## 1차원 배열"
   ]
  },
  {
   "cell_type": "code",
   "execution_count": 8,
   "metadata": {},
   "outputs": [
    {
     "name": "stdout",
     "output_type": "stream",
     "text": [
      "[1, 2, 3, 4, 5, 10, 20, '가나다']\n",
      "<class 'list'>\n"
     ]
    }
   ],
   "source": [
    "a1 = [1, 2, 3, 4, 5, 10, 20, \"가나다\"]           # 리스트는 나열 가능함 \n",
    "print(a1)                                        # 자기의 자료형을 고대로 가지고 있음\n",
    "print(type(a1))                                  # 아직 list 상태"
   ]
  },
  {
   "cell_type": "code",
   "execution_count": 7,
   "metadata": {},
   "outputs": [
    {
     "name": "stdout",
     "output_type": "stream",
     "text": [
      "['1' '2' '3' '4' '5' '10' '20' '가나다']\n",
      "<class 'numpy.ndarray'>\n",
      "(8,)\n"
     ]
    }
   ],
   "source": [
    "a2 = np.array([1, 2, 3, 4, 5, 10, 20, \"가나다\"])         # 배열은 다른 형식이 들어가면 안된다.\n",
    "print(a2)                                                # 다 문자열로 바뀜 (다른 형식이 들어가면 안된다)\n",
    "print(type(a2))                                          # ndarray(n-dimension) : 4차원의 배열이다.\n",
    "print(a2.shape)                                          # 정보의 크기 / 결과로 나오는 ','의 갯수가 차원의 갯수를 알려줌"
   ]
  },
  {
   "cell_type": "code",
   "execution_count": 23,
   "metadata": {},
   "outputs": [
    {
     "name": "stdout",
     "output_type": "stream",
     "text": [
      "[0, 1, 2, 3, 4, 5, 6, 7, 8, 9, 0, 1, 2, 3, 4, 5, 6, 7, 8, 9]\n",
      "[ 0  2  4  6  8 10 12 14 16 18]\n",
      "[-2 -1  0  1  2  3  4  5  6  7]\n",
      "------------------------------------\n",
      "0 1\n"
     ]
    }
   ],
   "source": [
    "# 벡터화 연산                                 # 크기와 방향을 갖고 있는 것 /각각을 숫자로 보는 것\n",
    "data = [0, 1, 2, 3, 4, 5, 6, 7, 8, 9]\n",
    "print(data * 2)                              # 벡터X, 각각을 숫자로 보지않고 하나의 덩어리로 봄\n",
    "# print(data - 2)                            # 벡터X\n",
    "\n",
    "data2 = np.array(data)                       # 벡터. 각각의 숫자로 뽑아 연산을 진행함\n",
    "print(data2 * 2)                             # 벡터\n",
    "print(data2 - 2)                             # 벡터\n",
    "print(\"------------------------------------\")\n",
    "print(data[0], data[1])                       # 1차원은 바로 값을 꺼내올수 있었다."
   ]
  },
  {
   "cell_type": "markdown",
   "metadata": {},
   "source": [
    "## 2차원 배열"
   ]
  },
  {
   "cell_type": "code",
   "execution_count": 30,
   "metadata": {},
   "outputs": [
    {
     "name": "stdout",
     "output_type": "stream",
     "text": [
      "[[0 1 2]\n",
      " [3 4 5]]\n",
      "(2, 3)\n",
      "------------------------------------\n",
      "[0 1 2]\n",
      "0\n",
      "2\n",
      "3\n"
     ]
    }
   ],
   "source": [
    "arr = np.array([[0, 1, 2],\n",
    "                [3, 4, 5]])      # 1차원 배열을 [] 하나로 묶어준걸 2차원이라함\n",
    "print(arr)                       # 배열 모양으로 나오게 됨\n",
    "print(arr.shape)                 # 2행 3열짜리 문자 배열임을 알려줌\n",
    "print(\"------------------------------------\")\n",
    "print(arr[0])                    # 2차원에서 arr[0]으로 입력하면 첫번째 행에 대한 값이 다 나옴\n",
    "print(arr[0][0])                 # 처음 [0]은 1행, 두번째 [0]은 1행의 1열을 나타냄 \n",
    "print(len(arr))                  # 행의 갯수 물어보는 것\n",
    "print(len(arr[0]))               # 1행의 열의 갯수 물어보는 것"
   ]
  },
  {
   "cell_type": "markdown",
   "metadata": {},
   "source": [
    "## 3차원 배열"
   ]
  },
  {
   "cell_type": "code",
   "execution_count": 39,
   "metadata": {},
   "outputs": [
    {
     "name": "stdout",
     "output_type": "stream",
     "text": [
      "[[[ 1  2  3  4]\n",
      "  [ 5  6  7  8]\n",
      "  [ 9 10 11 12]]\n",
      "\n",
      " [[ 1  2  3  4]\n",
      "  [ 5  6  7  8]\n",
      "  [ 9 10 11 12]]]\n",
      "---------------------------\n",
      "[[ 1  2  3  4]\n",
      " [ 5  6  7  8]\n",
      " [ 9 10 11 12]]\n",
      "---------------------------\n",
      "[1 2 3 4]\n",
      "---------------------------\n",
      "1\n",
      "---------------------------\n",
      "(2, 3, 4)\n",
      "3\n",
      "2 3 4\n"
     ]
    }
   ],
   "source": [
    "arr = np.array([[[1, 2, 3, 4],[5, 6, 7, 8],[9, 10, 11, 12]], \n",
    "               [[1, 2, 3, 4],[5, 6, 7, 8],[9, 10, 11, 12]]])              # 3차원 배열(앞에 대괄호의 수에 따라 차원의 수를 알 수 있다.)\n",
    "\n",
    "print(arr)                                          # 전체 2차원 배열을 가리키는 주소\n",
    "print(\"---------------------------\")\n",
    "print(arr[0])                                       # 첫번째 2차원 배열\n",
    "print(\"---------------------------\")\n",
    "print(arr[0][0])                                    # 2차원의 1열\n",
    "print(\"---------------------------\")\n",
    "print(arr[0][0][0])                                 # 1열의 1번째\n",
    "print(\"---------------------------\")\n",
    "print(arr.shape)                                    # 2면 3행 4열\n",
    "print(arr.ndim)                                     # 차원의 수\n",
    "print(len(arr), len(arr[0]), len(arr[0][0]))        # 몇면인지/ 1면은 몇행인지/ 1면 1행은 몇열인지"
   ]
  },
  {
   "cell_type": "code",
   "execution_count": 46,
   "metadata": {},
   "outputs": [
    {
     "name": "stdout",
     "output_type": "stream",
     "text": [
      "3\n",
      "(1, 1, 1)\n"
     ]
    }
   ],
   "source": [
    "nd = np.array([[[1]]])         # '1' 0차원, '[1]' 1차원, '[[1]]' 2차원(1행1열짜리), '[[[1]]]' 3차원 (1행 1열이 1개있는)\n",
    "print(nd.ndim)\n",
    "print(nd.shape)"
   ]
  },
  {
   "cell_type": "markdown",
   "metadata": {},
   "source": [
    "## 배열의 인덱싱(배열에 접근하는 방법)"
   ]
  },
  {
   "cell_type": "code",
   "execution_count": 49,
   "metadata": {},
   "outputs": [
    {
     "name": "stdout",
     "output_type": "stream",
     "text": [
      "2 4\n"
     ]
    }
   ],
   "source": [
    "arr = np.array([0, 1, 2, 3, 4])               # 1차원 배열\n",
    "print(arr[2], arr[-1])                        # 앞에서 2번째/ 뒤에서 1번째"
   ]
  },
  {
   "cell_type": "code",
   "execution_count": 55,
   "metadata": {},
   "outputs": [
    {
     "name": "stdout",
     "output_type": "stream",
     "text": [
      "2 2 4 5\n"
     ]
    }
   ],
   "source": [
    "arr2 = np.array([[0, 1, 2],\n",
    "                 [3, 4, 5]])       # 2차원 배열\n",
    "print(arr2[0][2], arr2[0, 2], arr2[1, 1], arr2[-1, -1])                   # 1번째 행의 2번째 열 / 한번에 작성하는 방법"
   ]
  },
  {
   "cell_type": "code",
   "execution_count": 92,
   "metadata": {},
   "outputs": [
    {
     "name": "stdout",
     "output_type": "stream",
     "text": [
      "[0 2 4 6 8]\n",
      "[0 1 0 1 0 1 0 1 0 1]\n",
      "[ True False  True False  True False  True False  True False]\n",
      "[0 2 4 6 8]\n",
      "[0 3 6 9]\n",
      "[1 5 9]\n",
      "[9]\n"
     ]
    }
   ],
   "source": [
    "# fancy indexing\n",
    "\n",
    "arr1 = np.array([i for i in range(10)])                 # [0, 1, 2, 3, 4, 5, 6, 7, 8 ,9]  # 0 - 9까지 1차원배열이 만들어짐\n",
    "idx = np.array([True, False, True, False, True, False, True, False, True, False])\n",
    "\n",
    "print(arr1[idx])                # arr1과 idx가 1대1로 연산된것. True값만 뽑아냈다.\n",
    "print(arr1 % 2)\n",
    "print(arr1 % 2 == 0)\n",
    "print(arr1[arr1%2 == 0])\n",
    "\n",
    "# arr1에서 3의 배수를 찾아라\n",
    "print(arr1[arr1 % 3 == 0])\n",
    "\n",
    "# arr1에서 4로 나누면 1이 남는 수를 찾아라\n",
    "print(arr1[arr1 % 4 == 1])\n",
    "\n",
    "# arr1에서 3으로 나누면 나눠지고 4로 나누면 1이 남는 수를 찾아라\n",
    "print(arr1[(arr1 % 3 == 0) & (arr1 % 4 == 1)])"
   ]
  },
  {
   "cell_type": "markdown",
   "metadata": {},
   "source": [
    "## 배열의 슬라이싱"
   ]
  },
  {
   "cell_type": "code",
   "execution_count": 97,
   "metadata": {},
   "outputs": [
    {
     "name": "stdout",
     "output_type": "stream",
     "text": [
      "[0 1 2 3]\n",
      "-----------------------\n",
      "[0 1]\n",
      "-----------------------\n",
      "[[4 5]\n",
      " [8 9]]\n",
      "-----------------------\n",
      "[[0 1]\n",
      " [4 5]]\n",
      "-----------------------\n",
      "[[ 8  9 10 11]\n",
      " [ 0  1  2  3]]\n"
     ]
    }
   ],
   "source": [
    "arr = np.array([[0, 1, 2, 3],\n",
    "                [4, 5, 6, 7],\n",
    "                [8, 9, 10, 11]])\n",
    "\n",
    "print(arr[0, :])           # 0번째행의 전체열 가져오겠다\n",
    "print(\"-----------------------\")\n",
    "\n",
    "print(arr[0, 0:2])         # 0번째행의 2번째 전까지\n",
    "print(\"-----------------------\")\n",
    "\n",
    "print(arr[1:3, 0:2])       # 1, 2번째 행(→)의  0, 1번째 열(↓) 가져오겠다 \n",
    "print(\"-----------------------\")\n",
    "\n",
    "print(arr[:2, :2])\n",
    "print(\"-----------------------\")\n",
    "\n",
    "print(arr[[2, 0], :])    # 원하는 행의 순서를 지정할 수 있다"
   ]
  },
  {
   "cell_type": "markdown",
   "metadata": {},
   "source": [
    "## Numpy 자료형\n",
    "\n",
    "    - b : 불리언\n",
    "    - i : 정수                 ex) i8 : 8자릿수까지 지정 가능\n",
    "    - u : 부호없는 정수\n",
    "    - f : 부동소수점\n",
    "    - c : 복소수\n",
    "    - O(대문자 O) : 객체\n",
    "    - S : 바이트 문자열        ex) S24 : 1바이트를 한글자로 해서 24자 까지 쓸 수 있다.\n",
    "    - U : 유니코드 문자열"
   ]
  },
  {
   "cell_type": "code",
   "execution_count": 101,
   "metadata": {},
   "outputs": [
    {
     "name": "stdout",
     "output_type": "stream",
     "text": [
      "int32\n",
      "float64\n",
      "float64\n"
     ]
    }
   ],
   "source": [
    "arr = np.array([1, 2, 3])\n",
    "print(arr.dtype)\n",
    "\n",
    "arr = np.array([1.0, 2.0, 3.0])\n",
    "print(arr.dtype)\n",
    "\n",
    "arr = np.array([1, 2, 3.0])       # int와 float 섞어서 쓰면 큰거 따라감 / 배열은 다른 형식끼리 섞일수없다.\n",
    "print(arr.dtype)                  # 여기선 3.0이 제일 커서 float으로 나타남"
   ]
  },
  {
   "cell_type": "code",
   "execution_count": 107,
   "metadata": {},
   "outputs": [
    {
     "name": "stdout",
     "output_type": "stream",
     "text": [
      "float32\n",
      "3.0\n",
      "-------------------------\n",
      "<U1\n",
      "12\n"
     ]
    }
   ],
   "source": [
    "arr = np.array([1, 2, 3], dtype = \"f\")  # 정수형을 입력했지만 실수형이 되도록 걸어주면, 실수형이 됨 \n",
    "print(arr.dtype)\n",
    "print(arr[0] + arr[1])        # 정수형으로 보이지만 위에 실수형으로(dtype = \"f\") 조건을 걸었기에 실수형을 가진 결과가 나타남\n",
    "\n",
    "print(\"-------------------------\")\n",
    "\n",
    "arr = np.array([1, 2, 3], dtype = \"U\")  # 정수형을 입력했지만 유니코드가 되게함 \n",
    "print(arr.dtype)\n",
    "print(arr[0] + arr[1])   "
   ]
  },
  {
   "cell_type": "markdown",
   "metadata": {},
   "source": [
    "## 배열 생성"
   ]
  },
  {
   "cell_type": "code",
   "execution_count": 31,
   "metadata": {},
   "outputs": [
    {
     "name": "stdout",
     "output_type": "stream",
     "text": [
      "<class 'numpy.ndarray'>\n",
      "float64\n",
      "[0. 0. 0. 0. 0.]\n",
      "----------------------------------------\n",
      "<class 'numpy.ndarray'>\n",
      "int32\n",
      "[0 0 0 0 0]\n",
      "----------------------------------------\n",
      "<class 'numpy.ndarray'>\n",
      "<U4\n",
      "['' '' '' '' '']\n",
      "['abc' 'abcd' 'ABCD' '' '']\n",
      "----------------------------------------\n",
      "[[0. 0. 0.]\n",
      " [0. 0. 0.]]\n",
      "----------------------------------------\n",
      "[[[1. 1. 1. 1.]\n",
      "  [1. 1. 1. 1.]\n",
      "  [1. 1. 1. 1.]]\n",
      "\n",
      " [[1. 1. 1. 1.]\n",
      "  [1. 1. 1. 1.]\n",
      "  [1. 1. 1. 1.]]]\n",
      "----------------------------------------\n",
      "[[0. 0. 0.]\n",
      " [0. 0. 0.]]\n",
      "[[1. 1. 1.]\n",
      " [1. 1. 1.]]\n",
      "----------------------------------------\n",
      "[[3.72684122e-316 3.16202013e-322 0.00000000e+000]\n",
      " [0.00000000e+000 0.00000000e+000 4.00869307e+174]\n",
      " [1.43797853e-051 1.33892999e-075 7.56096680e-067]\n",
      " [1.02348419e+166 5.49255360e+170 1.31398980e-047]]\n",
      "----------------------------------------\n",
      "[0 1 2 3 4 5 6 7 8 9]\n",
      "[ 3  5  7  9 11 13 15 17 19]\n",
      "----------------------------------------\n",
      "[  0.  25.  50.  75. 100.]\n"
     ]
    }
   ],
   "source": [
    "arr = np.zeros(5)\n",
    "print(type(arr))\n",
    "print(arr.dtype)\n",
    "print(arr)                                            # 실수형임을 알수있음\n",
    "print(\"----------------------------------------\")\n",
    "\n",
    "arr = np.zeros(5, dtype=\"i\")                         # 정수형으로 바꿔주고 싶으면 dtype으로 바꿔주자\n",
    "print(type(arr))\n",
    "print(arr.dtype)\n",
    "print(arr)    \n",
    "print(\"----------------------------------------\")\n",
    "\n",
    "arr = np.zeros(5, dtype=\"U4\")                       # 유니코드 문자를 4글자 까지만 처리하겠다는 의미\n",
    "print(type(arr))\n",
    "print(arr.dtype)\n",
    "print(arr)                                           # 문자열 공백으로 5개가 만들어짐\n",
    "arr[0] = 'abc'\n",
    "arr[1] = 'abcd'\n",
    "arr[2] = 'ABCDE'                                     # 5번째 글자인 E는 쓰여지지않음\n",
    "print(arr)\n",
    "print(\"----------------------------------------\")\n",
    "\n",
    "arr = np.zeros((2, 3))                               # 2행 3열 만들기\n",
    "print(arr)\n",
    "print(\"----------------------------------------\")\n",
    "\n",
    "arr = np.ones((2, 3, 4))                             # 3차원 # ones 는 '1'로 채워준다\n",
    "print(arr)\n",
    "print(\"----------------------------------------\")\n",
    "\n",
    "arr = np.zeros((2, 3))                               # 2행 3열\n",
    "arr2 = np.ones_like(arr)                             # 이미 만들어진 배열(2행 3열)과 같은 형식을 취하나 1로 채워줌 \n",
    "print(arr)\n",
    "print(arr2)\n",
    "print(\"----------------------------------------\")\n",
    "\n",
    "arr = np.empty((4, 3))                               # 별도의 초기화를 갖지 않음(기존에 갖고있던 값을 사용하겠다), 비워두겠다는 의미가 아님, 임의의 값으로 활용 가능\n",
    "print(arr)\n",
    "print(\"----------------------------------------\")\n",
    "\n",
    "arr = np.arange(10)                                  # for 구문의 range와 사용법 비슷\n",
    "print(arr)\n",
    "print(np.arange(3, 21, 2))                           # 3 시작, 21 마지막, 2 얼만큼 증가시킬것인지\n",
    "print(\"----------------------------------------\")\n",
    "\n",
    "arr = np.linspace(0, 100, 5)                        # 강제적으로 .을 넣고 싶을때 # 0 시작 100 마지막까지 5등분 시키기\n",
    "print(arr)"
   ]
  },
  {
   "cell_type": "markdown",
   "metadata": {},
   "source": [
    "## 전치 연산(Transpose)\n",
    "\n",
    "    - 행과 열을 바꿔주기 ex) 1행 2열 -> 2행 1열"
   ]
  },
  {
   "cell_type": "code",
   "execution_count": 34,
   "metadata": {},
   "outputs": [
    {
     "name": "stdout",
     "output_type": "stream",
     "text": [
      "[[1 2 3]\n",
      " [4 5 6]]\n",
      "[[1 4]\n",
      " [2 5]\n",
      " [3 6]]\n"
     ]
    }
   ],
   "source": [
    "arr = np.array([[1, 2, 3], [4, 5, 6]])\n",
    "print(arr)\n",
    "print(arr.T)                               # 행과 열의 변화가 일어남을 알수있다"
   ]
  },
  {
   "cell_type": "markdown",
   "metadata": {},
   "source": [
    "## 배열의 크기 변형 : reshape(), flatten(), ravel()\n",
    "\n",
    "    flatten, ravel은 다차원을 일차원으로 만들어주는 역할"
   ]
  },
  {
   "cell_type": "code",
   "execution_count": 50,
   "metadata": {},
   "outputs": [
    {
     "name": "stdout",
     "output_type": "stream",
     "text": [
      "[ 0  1  2  3  4  5  6  7  8  9 10 11]\n",
      "(12,)\n",
      "----------------------------------------------------\n",
      "[[ 0  1  2  3]\n",
      " [ 4  5  6  7]\n",
      " [ 8  9 10 11]]\n",
      "(3, 4)\n",
      "----------------------------------------------------\n",
      "[[ 0  1  2  3]\n",
      " [ 4  5  6  7]\n",
      " [ 8  9 10 11]]\n",
      "(3, 4)\n",
      "----------------------------------------------------\n",
      "[[ 0  1  2  3]\n",
      " [ 4  5  6  7]\n",
      " [ 8  9 10 11]]\n",
      "(3, 4)\n",
      "----------------------------------------------------\n",
      "[[[ 0  1  2]\n",
      "  [ 3  4  5]]\n",
      "\n",
      " [[ 6  7  8]\n",
      "  [ 9 10 11]]]\n",
      "(2, 2, 3)\n",
      "----------------------------------------------------\n",
      "[[[ 0  1  2]\n",
      "  [ 3  4  5]]\n",
      "\n",
      " [[ 6  7  8]\n",
      "  [ 9 10 11]]]\n",
      "(2, 2, 3)\n",
      "----------------------------------------------------\n",
      "[[[ 0  1  2]\n",
      "  [ 3  4  5]]\n",
      "\n",
      " [[ 6  7  8]\n",
      "  [ 9 10 11]]]\n",
      "(2, 2, 3)\n",
      "----------------------------------------------------\n",
      "[ 0  1  2  3  4  5  6  7  8  9 10 11]\n",
      "[ 0  1  2  3  4  5  6  7  8  9 10 11]\n"
     ]
    }
   ],
   "source": [
    "arr = np.arange(12)\n",
    "print(arr)\n",
    "print(arr.shape)\n",
    "print(\"----------------------------------------------------\")\n",
    "arr1 = arr.reshape(3, 4)\n",
    "print(arr1)\n",
    "print(arr1.shape)\n",
    "print(\"----------------------------------------------------\")\n",
    "arr2 = arr.reshape(3, -1)                                     # -1 : 그냥 알아서 개수를 채우기위한 간략한 표현법\n",
    "print(arr2)\n",
    "print(arr2.shape)\n",
    "print(\"----------------------------------------------------\")\n",
    "arr2 = arr.reshape(-1, 4)                                     # 12개 배열되어있고 4열 지정하면 당연히 행은 3열이 나올수밖에 없으니 그냥 알아서 채우라고 -1 써줌\n",
    "print(arr2)\n",
    "print(arr2.shape)\n",
    "print(\"----------------------------------------------------\")\n",
    "arr3 = arr.reshape(2, 2, 3)\n",
    "print(arr3)\n",
    "print(arr3.shape)\n",
    "print(\"----------------------------------------------------\")\n",
    "arr3 = arr.reshape(2, 2, -1)\n",
    "print(arr3)\n",
    "print(arr3.shape)\n",
    "print(\"----------------------------------------------------\")\n",
    "arr3 = arr.reshape(2, -1, 3)\n",
    "print(arr3)\n",
    "print(arr3.shape)\n",
    "print(\"----------------------------------------------------\")\n",
    "print(arr3.flatten())                                         # arr3 다시 1차원으로 되돌리기 \n",
    "print(arr3.ravel())                                           # arr3 다시 1차원으로 되돌리기 "
   ]
  },
  {
   "cell_type": "markdown",
   "metadata": {},
   "source": [
    "## 배열 연결(병합) : stack, hstack, vstack, dstack, tile"
   ]
  },
  {
   "cell_type": "code",
   "execution_count": 54,
   "metadata": {},
   "outputs": [
    {
     "name": "stdout",
     "output_type": "stream",
     "text": [
      "[[1. 1. 1. 1. 1.]\n",
      " [1. 1. 1. 1. 1.]]\n"
     ]
    }
   ],
   "source": [
    "arr1 = np.ones((2, 3))\n",
    "arr2 = np.ones((2, 2))\n",
    "\n",
    "arr3 = np.hstack([arr1, arr2])                   # 두개의 배열이 옆으로 합쳐진 것을 볼 수 있다 # horizental stack\n",
    "print(arr3)\n",
    "\n",
    "# arr4 = np.vstack([arr1, arr2])                   # 기준이 같아야한다 같지않으면 error 뜸 # vertical stack\n",
    "# print(arr4)\n",
    "\n",
    "# dstack : dimension 차원을 연결해서 확장시켜주는 함수"
   ]
  },
  {
   "cell_type": "code",
   "execution_count": 56,
   "metadata": {},
   "outputs": [
    {
     "name": "stdout",
     "output_type": "stream",
     "text": [
      "[[[1. 0.]\n",
      "  [1. 0.]\n",
      "  [1. 0.]\n",
      "  [1. 0.]]\n",
      "\n",
      " [[1. 0.]\n",
      "  [1. 0.]\n",
      "  [1. 0.]\n",
      "  [1. 0.]]\n",
      "\n",
      " [[1. 0.]\n",
      "  [1. 0.]\n",
      "  [1. 0.]\n",
      "  [1. 0.]]]\n",
      "(3, 4, 2)\n"
     ]
    }
   ],
   "source": [
    "# 3 * 4 * 2 \n",
    "arr1 = np.ones((3, 4))\n",
    "arr2 = np.zeros((3, 4))\n",
    "\n",
    "arr3 = np.dstack([arr1, arr2])                 # 마지막 자리에 차원을 배치\n",
    "print(arr3)\n",
    "print(arr3.shape)"
   ]
  },
  {
   "cell_type": "code",
   "execution_count": 60,
   "metadata": {},
   "outputs": [
    {
     "name": "stdout",
     "output_type": "stream",
     "text": [
      "[[[1. 1. 1. 1.]\n",
      "  [1. 1. 1. 1.]\n",
      "  [1. 1. 1. 1.]]\n",
      "\n",
      " [[0. 0. 0. 0.]\n",
      "  [0. 0. 0. 0.]\n",
      "  [0. 0. 0. 0.]]]\n",
      "(2, 3, 4)\n",
      "------------------------------------------\n",
      "[[[1. 1. 1. 1.]\n",
      "  [1. 1. 1. 1.]\n",
      "  [1. 1. 1. 1.]]\n",
      "\n",
      " [[0. 0. 0. 0.]\n",
      "  [0. 0. 0. 0.]\n",
      "  [0. 0. 0. 0.]]]\n",
      "(2, 3, 4)\n",
      "------------------------------------------\n",
      "[[[1. 1. 1. 1.]\n",
      "  [0. 0. 0. 0.]]\n",
      "\n",
      " [[1. 1. 1. 1.]\n",
      "  [0. 0. 0. 0.]]\n",
      "\n",
      " [[1. 1. 1. 1.]\n",
      "  [0. 0. 0. 0.]]]\n",
      "(3, 2, 4)\n"
     ]
    }
   ],
   "source": [
    "arr1 = np.ones((3, 4))\n",
    "arr2 = np.zeros((3, 4))\n",
    "\n",
    "arr3 = np.stack([arr1, arr2])                    # 첫번재 자리에서 차원이 나옴\n",
    "print(arr3)\n",
    "print(arr3.shape)\n",
    "print(\"------------------------------------------\")\n",
    "arr4 = np.stack([arr1, arr2], axis=0)            # axis=0 : 첫번째 위치에서 차원을 증가 시키겠다\n",
    "print(arr4)\n",
    "print(arr4.shape)\n",
    "print(\"------------------------------------------\")\n",
    "arr5 = np.stack([arr1, arr2], axis=1)            # axis=1 : 두번째 위치에서 차원을 증가 시키겠다\n",
    "print(arr5)\n",
    "print(arr5.shape)"
   ]
  },
  {
   "cell_type": "code",
   "execution_count": 63,
   "metadata": {},
   "outputs": [
    {
     "name": "stdout",
     "output_type": "stream",
     "text": [
      "[[0 1 2 0 1 2]\n",
      " [3 4 5 3 4 5]]\n",
      "-------------------------------\n",
      "[[0 1 2 0 1 2]\n",
      " [3 4 5 3 4 5]\n",
      " [0 1 2 0 1 2]\n",
      " [3 4 5 3 4 5]\n",
      " [0 1 2 0 1 2]\n",
      " [3 4 5 3 4 5]]\n"
     ]
    }
   ],
   "source": [
    "arr = np.array(([0, 1, 2,], [3, 4, 5]))\n",
    "\n",
    "print(np.tile(arr, 2))                         # 두번 반복해서 붙여주겠다는 의미\n",
    "print(\"-------------------------------\")\n",
    "print(np.tile(arr, (3, 2)))                   # 3행 2열로 반복해서 붙여주겠다는 의미"
   ]
  },
  {
   "cell_type": "markdown",
   "metadata": {},
   "source": [
    "## 2차원 그리드 포인트 생성 : meshgrid()"
   ]
  },
  {
   "cell_type": "code",
   "execution_count": 72,
   "metadata": {},
   "outputs": [
    {
     "name": "stdout",
     "output_type": "stream",
     "text": [
      "[0 1 2]\n",
      "[0 1 2 3 4]\n",
      "-----------------------------------\n",
      "[[0 1 2]\n",
      " [0 1 2]\n",
      " [0 1 2]\n",
      " [0 1 2]\n",
      " [0 1 2]]\n",
      "-----------------------------------\n",
      "[[0 0 0]\n",
      " [1 1 1]\n",
      " [2 2 2]\n",
      " [3 3 3]\n",
      " [4 4 4]]\n",
      "[[(0, 0), (1, 0), (2, 0)], [(0, 1), (1, 1), (2, 1)], [(0, 2), (1, 2), (2, 2)], [(0, 3), (1, 3), (2, 3)], [(0, 4), (1, 4), (2, 4)]]\n"
     ]
    },
    {
     "data": {
      "text/plain": [
       "<matplotlib.collections.PathCollection at 0x7a3a848>"
      ]
     },
     "execution_count": 72,
     "metadata": {},
     "output_type": "execute_result"
    },
    {
     "data": {
      "image/png": "[encoded data removed]",
      "text/plain": [
       "<Figure size 432x288 with 1 Axes>"
      ]
     },
     "metadata": {
      "needs_background": "light"
     },
     "output_type": "display_data"
    }
   ],
   "source": [
    "x = np.arange(3)\n",
    "print(x)\n",
    "\n",
    "y = np.arange(5)\n",
    "print(y)\n",
    "print(\"-----------------------------------\")\n",
    "X, Y = np.meshgrid(x, y)                             # 서로 매칭시키기\n",
    "print(X)\n",
    "print(\"-----------------------------------\")\n",
    "print(Y)\n",
    "\n",
    "Z = [list(zip(x, y)) for x, y in zip(X, Y)]      # zip : X, Y 하나씩 꺼내서 tuple로 묶어주는 함수\n",
    "print(Z)\n",
    "\n",
    "import matplotlib.pylab as plt                              # 산포도 형식으로 작성\n",
    "plt.scatter(X, Y)"
   ]
  },
  {
   "cell_type": "markdown",
   "metadata": {},
   "source": [
    "## 브로드 캐스팅(BroadCasting) ★TEST★\n",
    "\n",
    "    - 크기가 서로 다른 행렬(벡터)끼리 연산을 가능하게 하는 것"
   ]
  },
  {
   "cell_type": "code",
   "execution_count": 85,
   "metadata": {},
   "outputs": [
    {
     "name": "stdout",
     "output_type": "stream",
     "text": [
      "[0, 1, 2, 3, 4]\n",
      "[[0], [1], [2], [3], [4]]\n",
      "[range(0, 3), range(1, 4), range(2, 5), range(3, 6), range(4, 7)]\n",
      "[[0 1 2]\n",
      " [1 2 3]\n",
      " [2 3 4]\n",
      " [3 4 5]\n",
      " [4 5 6]]\n",
      "---------------------------------------------------------\n",
      "[0 1 2 3 4]\n",
      "[1 2]\n",
      "[0 1 2 3 4]\n",
      "[[0]\n",
      " [1]\n",
      " [2]\n",
      " [3]\n",
      " [4]]\n"
     ]
    }
   ],
   "source": [
    "print([i for i in range(5)])\n",
    "print([[i] for i in range(5)])\n",
    "print([range(7)[i:i+3] for i in range(5)])\n",
    "print(np.vstack([range(7)[i:i+3] for i in range(5)]))\n",
    "print(\"---------------------------------------------------------\")\n",
    "print(np.arange(5))\n",
    "print(np.arange(5)[1:3])\n",
    "print(np.arange(5)[:])\n",
    "print(np.arange(5)[:, np.newaxis])        # newaxis : 데이터는 그냥 두고 차원만 늘려주기"
   ]
  },
  {
   "cell_type": "code",
   "execution_count": 87,
   "metadata": {},
   "outputs": [
    {
     "name": "stdout",
     "output_type": "stream",
     "text": [
      "[[ 0  1  2]\n",
      " [ 2  3  4]\n",
      " [ 4  5  6]\n",
      " [ 6  7  8]\n",
      " [ 8  9 10]]\n",
      "[[0 2 4]\n",
      " [1 3 5]\n",
      " [2 4 6]\n",
      " [3 5 7]\n",
      " [4 6 8]]\n"
     ]
    }
   ],
   "source": [
    "x = np.vstack([range(7)[i:i+3] for i in range(5)])\n",
    "y = np.arange(5)[:, np.newaxis]\n",
    "\n",
    "print(x+y)\n",
    "\n",
    "y = np.arange(3)\n",
    "print(x + y)"
   ]
  },
  {
   "cell_type": "markdown",
   "metadata": {},
   "source": [
    "## 차원 축소(dimension reduction) 연산\n",
    "\n",
    "    - 최대값/최소값 : min, max, argmin, argmax\n",
    "    - 대표값 : sum, mean, median, std, var\n",
    "    - 불리언 : all, any"
   ]
  },
  {
   "cell_type": "code",
   "execution_count": 43,
   "metadata": {},
   "outputs": [
    {
     "name": "stdout",
     "output_type": "stream",
     "text": [
      "0\n",
      "1\n"
     ]
    }
   ],
   "source": [
    "x = np.array([1, 3, 2])\n",
    "result = np.argmin(x)                   # 최소값의 위치\n",
    "print(result)\n",
    "\n",
    "result = np.argmax(x)                   # 최대값의 위치\n",
    "print(result)"
   ]
  },
  {
   "cell_type": "code",
   "execution_count": 93,
   "metadata": {},
   "outputs": [
    {
     "name": "stdout",
     "output_type": "stream",
     "text": [
      "True\n",
      "False\n"
     ]
    }
   ],
   "source": [
    "print(np.any([True, True, False]))\n",
    "print(np.all([True, True, False]))"
   ]
  },
  {
   "cell_type": "code",
   "execution_count": 98,
   "metadata": {},
   "outputs": [
    {
     "name": "stdout",
     "output_type": "stream",
     "text": [
      "6\n",
      "열 합계: [3 3]\n",
      "행 합계: [2 4]\n"
     ]
    }
   ],
   "source": [
    "x = np.array([[1, 1], \n",
    "              [2, 2]])\n",
    "\n",
    "print(x.sum())          # 이건 그냥 모든 것의 합계\n",
    "print(\"열 합계:\", x.sum(axis=0))\n",
    "print(\"행 합계:\", x.sum(axis=1))"
   ]
  },
  {
   "cell_type": "markdown",
   "metadata": {},
   "source": [
    "# 기술 통계 \n",
    "\n",
    "    - len()\n",
    "    - mean() : 평균\n",
    "    - var() : 분산\n",
    "    - std() : 표준편차\n",
    "    - max()\n",
    "    - min()\n",
    "    - median() : 중앙값\n",
    "    - percentile() : 사분위수 ex) 데이터 4등분으로 나눠서 데이터가 어느 부분에 많이 모여있는지 쉽게 파악하는 용도"
   ]
  },
  {
   "cell_type": "code",
   "execution_count": 41,
   "metadata": {},
   "outputs": [
    {
     "name": "stdout",
     "output_type": "stream",
     "text": [
      "최소값: -24.0\n",
      "최대값: 23.0\n",
      "1사분위: 0.0\n",
      "2사분위: 5.0\n",
      "3사분위: 10.0\n"
     ]
    }
   ],
   "source": [
    "x = np.array([18,   5,  10,  23,  19,  -8,  10,   0,   0,   5,   2,  15,   8,\n",
    "              2,   5,   4,  15,  -1,   4,  -7, -24,   7,   9,  -6,  23, -13])\n",
    "\n",
    "print(\"최소값:\", np.percentile(x, 0)) \n",
    "print(\"최대값:\", np.percentile(x, 100)) \n",
    "print(\"1사분위:\", np.percentile(x, 25))\n",
    "print(\"2사분위:\", np.percentile(x, 50))\n",
    "print(\"3사분위:\", np.percentile(x, 75))"
   ]
  },
  {
   "cell_type": "code",
   "execution_count": 42,
   "metadata": {},
   "outputs": [
    {
     "data": {
      "text/plain": [
       "DescribeResult(nobs=26, minmax=(-24, 23), mean=4.8076923076923075, variance=119.84153846153846, skewness=-0.4762339485461929, kurtosis=0.37443381660038977)"
      ]
     },
     "execution_count": 42,
     "metadata": {},
     "output_type": "execute_result"
    }
   ],
   "source": [
    "from scipy.stats import describe\n",
    "\n",
    "describe(x)"
   ]
  },
  {
   "cell_type": "markdown",
   "metadata": {},
   "source": [
    "## 정렬"
   ]
  },
  {
   "cell_type": "code",
   "execution_count": 39,
   "metadata": {},
   "outputs": [
    {
     "name": "stdout",
     "output_type": "stream",
     "text": [
      "[[ 4  3  5  7]\n",
      " [ 1 12 11  9]\n",
      " [ 2 15  1 14]]\n",
      "---------------------------------\n",
      "[[ 3  4  5  7]\n",
      " [ 1  9 11 12]\n",
      " [ 1  2 14 15]]\n"
     ]
    }
   ],
   "source": [
    "arr = np.array([[4, 3, 5, 7], \n",
    "                [1, 12, 11, 9], \n",
    "                [2, 15, 1, 14]])\n",
    "np.sort(arr)\n",
    "\n",
    "# 정렬된게 별도로 따로 보관되는 거지 원본이 바뀌는게 아님\n",
    "np.sort(arr, axis=1)     # 행 기준으로 열이 바뀜\n",
    "np.sort(arr, axis=0)     # 열 기준으로 행이 바뀜\n",
    "\n",
    "print(arr)               # 원본이 바뀌지 않은 것을 알 수 있음\n",
    "print(\"---------------------------------\")\n",
    "\n",
    "# 원본 정렬 시키기1\n",
    "# arr = np.sort(arr)\n",
    "# print(arr)\n",
    "\n",
    "# 원본 정렬 시키기2 # in-place\n",
    "arr.sort()\n",
    "print(arr)"
   ]
  },
  {
   "cell_type": "code",
   "execution_count": 38,
   "metadata": {},
   "outputs": [
    {
     "name": "stdout",
     "output_type": "stream",
     "text": [
      "[2 3 1 0]\n",
      "[12 25 38 42]\n"
     ]
    }
   ],
   "source": [
    "# argsort\n",
    "arr = np.array([42, 38, 12, 25])\n",
    "idx = np.argsort(arr)\n",
    "print(idx)                          # 값이 낮은 순으로 인덱스 번호 알려줌\n",
    "print(arr[idx])"
   ]
  },
  {
   "cell_type": "markdown",
   "metadata": {},
   "source": [
    "## 난수\n",
    "\n",
    "    - rand() : 0 ~ 1 사이의 균일 분포\n",
    "    - randn() : 가우시안 표준 정규 분포 \n",
    "    - randint() : 균일 분포의 정수 난수"
   ]
  },
  {
   "cell_type": "code",
   "execution_count": 128,
   "metadata": {},
   "outputs": [
    {
     "data": {
      "text/plain": [
       "array([[0.13026303, 0.27993547, 0.56339121, 0.25301388, 0.16869954],\n",
       "       [0.44003254, 0.23635016, 0.93444266, 0.38939536, 0.37966748],\n",
       "       [0.17563421, 0.08641301, 0.27452044, 0.79893913, 0.07649021]])"
      ]
     },
     "execution_count": 128,
     "metadata": {},
     "output_type": "execute_result"
    }
   ],
   "source": [
    "np.random.rand(10)\n",
    "np.random.rand(3, 5)                    # 3행 5열로 랜덤하게 뽑아줌"
   ]
  },
  {
   "cell_type": "code",
   "execution_count": 149,
   "metadata": {},
   "outputs": [
    {
     "data": {
      "text/plain": [
       "array([[16, 18, 14, 13],\n",
       "       [14, 17, 14, 12],\n",
       "       [15, 15, 16, 19]])"
      ]
     },
     "execution_count": 149,
     "metadata": {},
     "output_type": "execute_result"
    }
   ],
   "source": [
    "np.random.randint(10)                  # 0부터 9사이에서 정수 랜덤하게 뽑아줌\n",
    "np.random.randint(11, 20)              # 11부터 19사이의 정수 뽑아줌\n",
    "np.random.randint(11, 20, size=100)    # 11부터 19사이의 정수 100개 뽑아줌\n",
    "np.random.randint(11, 20, size=(3, 4)) # 11부터 19사이의 정수 3행 4열로 뽑아줌"
   ]
  },
  {
   "cell_type": "code",
   "execution_count": 154,
   "metadata": {},
   "outputs": [
    {
     "data": {
      "text/plain": [
       "array([0.77132064, 0.02075195, 0.63364823, 0.74880388, 0.49850701])"
      ]
     },
     "execution_count": 154,
     "metadata": {},
     "output_type": "execute_result"
    }
   ],
   "source": [
    "# 재현성(똑같은 결과 다시 보여주기)을 위해서\n",
    "np.random.seed(10)\n",
    "np.random.rand(5)                       # seed : 처음 랜덤값을 fix시켜줌"
   ]
  },
  {
   "cell_type": "code",
   "execution_count": 157,
   "metadata": {},
   "outputs": [
    {
     "name": "stdout",
     "output_type": "stream",
     "text": [
      "[0 1 2 3 4 5 6 7 8 9]\n",
      "[0 7 5 2 3 9 6 4 8 1]\n"
     ]
    }
   ],
   "source": [
    "# 데이터의 순서 바꾸기\n",
    "x = np.arange(10)\n",
    "print(x)                               # 처음에는 0 - 9 까지의 수가 나옴\n",
    "\n",
    "np.random.shuffle(x)                   # 0 - 9 안에서 무작위로 섞어주기\n",
    "print(x)"
   ]
  },
  {
   "cell_type": "code",
   "execution_count": 169,
   "metadata": {},
   "outputs": [
    {
     "data": {
      "text/plain": [
       "array([3, 3, 2, 3, 3, 2, 3, 2, 3, 3], dtype=int64)"
      ]
     },
     "execution_count": 169,
     "metadata": {},
     "output_type": "execute_result"
    }
   ],
   "source": [
    "# 샘플링 : 복원(default), 비복원 : replace = True(default) or False\n",
    "\n",
    "np.random.choice(5, 5)                               # 복원 : 중복된 수가 나옴 / (범위, 횟수) 5개 중에 5번 뽑기 \n",
    "np.random.choice(5, 3)                               # 복원\n",
    "\n",
    "np.random.choice(5, 5, replace=False)               # 비복원 : 절대로 같은 값을 뽑지 않음\n",
    "\n",
    "np.random.choice(5, 10, p=[0.1, 0, 0.3, 0.6, 0])     #p(=probability), 0은 10퍼, 1은 0퍼, 2는 30퍼, 3은 60퍼, 4는 0퍼로 조작"
   ]
  },
  {
   "cell_type": "markdown",
   "metadata": {},
   "source": [
    "## 정수형 데이터 카운팅 : unique, bincount"
   ]
  },
  {
   "cell_type": "code",
   "execution_count": 176,
   "metadata": {},
   "outputs": [
    {
     "name": "stdout",
     "output_type": "stream",
     "text": [
      "5\n",
      "['a' 'b' 'c']\n",
      "['a' 'b' 'c']\n",
      "[2 2 1]\n"
     ]
    }
   ],
   "source": [
    "arr = np.array(['a', 'b', 'b', 'c', 'a'])\n",
    "\n",
    "print(len(arr))\n",
    "print(np.unique(arr))                                    # 중복된거 제외시키고 알려줌\n",
    "\n",
    "index, count = np.unique(arr, return_counts=True)\n",
    "print(index)\n",
    "print(count)                                             # 각각의 문자가 몇개를 가지고있는지 알려줌     "
   ]
  },
  {
   "cell_type": "code",
   "execution_count": 177,
   "metadata": {},
   "outputs": [
    {
     "name": "stdout",
     "output_type": "stream",
     "text": [
      "[0 2 3 1 0 0]\n"
     ]
    }
   ],
   "source": [
    "# bincount : 발생하지 않은 사건에 대해서도 카운팅\n",
    "\n",
    "arr = np.array([1, 1, 2, 2, 2, 3])\n",
    "print(np.bincount(arr, minlength=6))    # 최소길이 6으로 잡고 0이 나온 횟수 0번, 1은 2번, 2는 3번, 3은 1번 등등\n",
    "                                        # 즉, 발생하지 않는 사건에 대해서도 count할 수 있다. ex) 4가 0번있다고 세줌"
   ]
  },
  {
   "cell_type": "markdown",
   "metadata": {},
   "source": [
    "## 실습\n",
    "\n",
    "    - https://grouplens.org\n",
    "    - https://grouplens.org/datasets/movielens/\n",
    "        Older Dataset에서 Movielens 1M Dataset 받기 : ml-1mzip (size: 6 MB.checksum)"
   ]
  },
  {
   "cell_type": "code",
   "execution_count": 50,
   "metadata": {},
   "outputs": [
    {
     "name": "stdout",
     "output_type": "stream",
     "text": [
      "[[        1      1193         5 978300760]\n",
      " [        1       661         3 978302109]\n",
      " [        1       914         3 978301968]\n",
      " ...\n",
      " [     6040       562         5 956704746]\n",
      " [     6040      1096         4 956715648]\n",
      " [     6040      1097         4 956715569]]\n",
      "(1000209, 4)\n"
     ]
    }
   ],
   "source": [
    "data = np.loadtxt(\"data/ml-1m/ratings.dat\", delimiter=\"::\", dtype=np.int64)   # dtype 데이터 정수형으로 처리하기\n",
    "print(data)\n",
    "print(data.shape)"
   ]
  },
  {
   "cell_type": "code",
   "execution_count": 187,
   "metadata": {},
   "outputs": [
    {
     "data": {
      "text/plain": [
       "array([[        1,      1193,         5, 978300760],\n",
       "       [        1,       661,         3, 978302109],\n",
       "       [        1,       914,         3, 978301968],\n",
       "       [        1,      3408,         4, 978300275],\n",
       "       [        1,      2355,         5, 978824291],\n",
       "       [        1,      1197,         3, 978302268],\n",
       "       [        1,      1287,         5, 978302039],\n",
       "       [        1,      2804,         5, 978300719],\n",
       "       [        1,       594,         4, 978302268],\n",
       "       [        1,       919,         4, 978301368],\n",
       "       [        1,       595,         5, 978824268],\n",
       "       [        1,       938,         4, 978301752],\n",
       "       [        1,      2398,         4, 978302281],\n",
       "       [        1,      2918,         4, 978302124],\n",
       "       [        1,      1035,         5, 978301753],\n",
       "       [        1,      2791,         4, 978302188],\n",
       "       [        1,      2687,         3, 978824268],\n",
       "       [        1,      2018,         4, 978301777],\n",
       "       [        1,      3105,         5, 978301713],\n",
       "       [        1,      2797,         4, 978302039],\n",
       "       [        1,      2321,         3, 978302205]], dtype=int64)"
      ]
     },
     "execution_count": 187,
     "metadata": {},
     "output_type": "execute_result"
    }
   ],
   "source": [
    "# 1행부터 20까지 출력\n",
    "data[:21, :]"
   ]
  },
  {
   "cell_type": "code",
   "execution_count": 190,
   "metadata": {},
   "outputs": [
    {
     "data": {
      "text/plain": [
       "array([[   1,  720],\n",
       "       [   1, 1270],\n",
       "       [   1,  527],\n",
       "       [   1, 2340],\n",
       "       [   1,   48],\n",
       "       [   1, 1097],\n",
       "       [   1, 1721],\n",
       "       [   1, 1545],\n",
       "       [   1,  745],\n",
       "       [   1, 2294]], dtype=int64)"
      ]
     },
     "execution_count": 190,
     "metadata": {},
     "output_type": "execute_result"
    }
   ],
   "source": [
    "# 21행부터 30행까지 출력(userid와 movieid만 출력)\n",
    "data[21:31, 0:2]"
   ]
  },
  {
   "cell_type": "code",
   "execution_count": 202,
   "metadata": {},
   "outputs": [
    {
     "name": "stdout",
     "output_type": "stream",
     "text": [
      "3.581564453029317\n",
      "3.581564453029317\n"
     ]
    }
   ],
   "source": [
    "# 전체 평점 평균\n",
    "print(data[:, 2].mean())\n",
    "print(np.mean(data[:, 2]))"
   ]
  },
  {
   "cell_type": "code",
   "execution_count": 4,
   "metadata": {},
   "outputs": [
    {
     "name": "stdout",
     "output_type": "stream",
     "text": [
      "id: [2951] , 평점평균: 4.230769230769231\n",
      "id: [354] , 평점평균: 3.586206896551724\n",
      "id: [5871] , 평점평균: 4.17\n",
      "id: [1515] , 평점평균: 3.75\n",
      "id: [5481] , 평점평균: 3.425925925925926\n",
      "id: [3826] , 평점평균: 3.857142857142857\n",
      "id: [1213] , 평점평균: 4.041666666666667\n",
      "id: [5216] , 평점평균: 3.3\n",
      "id: [2477] , 평점평균: 4.475409836065574\n",
      "id: [2563] , 평점평균: 2.962962962962963\n"
     ]
    }
   ],
   "source": [
    "# 사용자별 평점 평균(10명만 출력)\n",
    "\n",
    "# 중복 제거한 후 회원 알아보기\n",
    "index, count = np.unique(data[:,0], return_counts=True)\n",
    "\n",
    "# 회원 id 최대값, 최소값 설정\n",
    "min = np.percentile(index,0)\n",
    "max = np.percentile(index,100)\n",
    "\n",
    "# 랜덤으로 회원 10명의 평점평균 구하기\n",
    "for b in range(0, 10):\n",
    "    b = np.random.randint(min, max, size=1)\n",
    "    for v in b:\n",
    "        v = data[data[:,0]==b, 2].mean()\n",
    "        print(\"id:\", b, \", 평점평균:\", v)"
   ]
  },
  {
   "cell_type": "code",
   "execution_count": 31,
   "metadata": {},
   "outputs": [
    {
     "name": "stdout",
     "output_type": "stream",
     "text": [
      "(6040,)\n",
      "결과 :  [[1, 4.188679245283019], [2, 3.7131782945736433], [3, 3.9019607843137254], [4, 4.190476190476191], [5, 3.1464646464646466], [6, 3.9014084507042255], [7, 4.32258064516129], [8, 3.884892086330935], [9, 3.7358490566037736], [10, 4.114713216957606]]\n",
      "--------------------------------------------\n",
      "(6040, 2)\n",
      "<class 'numpy.ndarray'>\n"
     ]
    }
   ],
   "source": [
    "# 사용자별 평점 평균(10명만 출력) - 쌤\n",
    "\n",
    "user_id = np.unique(data[:,0])\n",
    "print(user_id.shape)\n",
    "\n",
    "mean_values = []\n",
    "for id in user_id:\n",
    "    data_for_user = data[data[:,0] == id, :]     # 해당 아이디의 모든 데이터 가져옴\n",
    "    value = data_for_user[:, 2].mean()           # 각 사용자의 평점 평균을 가져옴   # fancy indexing \n",
    "    mean_values.append([id, value])              # 아이디하고 평점 평균 같이 가져오도록\n",
    "    \n",
    "print(\"결과 : \", mean_values[:10])\n",
    "\n",
    "print(\"--------------------------------------------\")\n",
    "arr_mean_values = np.array(mean_values)                     # 리스트 형태 배열로 바꾸기\n",
    "print(arr_mean_values.shape)\n",
    "print(type(arr_mean_values))\n"
   ]
  },
  {
   "cell_type": "code",
   "execution_count": 55,
   "metadata": {},
   "outputs": [
    {
     "name": "stdout",
     "output_type": "stream",
     "text": [
      "[283.           4.96296296]\n",
      "4.962962962962963\n"
     ]
    }
   ],
   "source": [
    "# 최고 평점 구하기 - 쌤\n",
    "\n",
    "print(np.argmax(arr[:, 1]))      #282\n",
    "print(arr_mean_values[282])\n",
    "\n",
    "print(np.max(arr_mean_values[:, 1]))\n",
    "\n",
    "print(np.argsort(arr[:, 1])[::-1])       # argsort 내림차순"
   ]
  },
  {
   "cell_type": "code",
   "execution_count": 37,
   "metadata": {},
   "outputs": [],
   "source": [
    "# 결과값 파일로 저장\n",
    "\n",
    "np.savetxt(\"data\\ml-1m\\id_rations.csv\", arr_mean_values, fmt=\"%.1f\", delimiter=',')"
   ]
  },
  {
   "cell_type": "code",
   "execution_count": null,
   "metadata": {},
   "outputs": [],
   "source": []
  },
  {
   "cell_type": "code",
   "execution_count": 62,
   "metadata": {},
   "outputs": [
    {
     "data": {
      "text/plain": [
       "[1, 3, 5]"
      ]
     },
     "execution_count": 62,
     "metadata": {},
     "output_type": "execute_result"
    }
   ],
   "source": [
    "# :: (Extended Slices)\n",
    "\n",
    "arr = range(10)\n",
    "list(arr)                # 리스트로 한번 감싸줘야? 데이터를 뽑아 올 수 있다\n",
    "\n",
    "list(arr[::2])           # 처음부터 끝까지 2간격으로 접근\n",
    "list(arr[1::2])          # 인덱스가 1부터 2간격으로, 시작 위치 지정\n",
    "list(arr[::-1])          # 역순, 오 -> 왼 , 진행방향으로 사용할수있다\n",
    "list(arr[::-2])          # 역순, 2칸 간격\n",
    "list(arr[3::-1])         # 시작 위치 3부터 1씩 작아지기\n",
    "list(arr[1:6:2])         # 1부터 6까지 2씩 증가"
   ]
  },
  {
   "cell_type": "code",
   "execution_count": null,
   "metadata": {},
   "outputs": [],
   "source": []
  },
  {
   "cell_type": "code",
   "execution_count": null,
   "metadata": {},
   "outputs": [],
   "source": []
  },
  {
   "cell_type": "code",
   "execution_count": null,
   "metadata": {},
   "outputs": [],
   "source": []
  },
  {
   "cell_type": "code",
   "execution_count": null,
   "metadata": {},
   "outputs": [],
   "source": []
  }
 ],
 "metadata": {
  "kernelspec": {
   "display_name": "Python 3",
   "language": "python",
   "name": "python3"
  },
  "language_info": {
   "codemirror_mode": {
    "name": "ipython",
    "version": 3
   },
   "file_extension": ".py",
   "mimetype": "text/x-python",
   "name": "python",
   "nbconvert_exporter": "python",
   "pygments_lexer": "ipython3",
   "version": "3.7.4"
  }
 },
 "nbformat": 4,
 "nbformat_minor": 2
}

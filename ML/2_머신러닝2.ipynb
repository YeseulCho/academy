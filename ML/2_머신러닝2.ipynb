{
 "cells": [
  {
   "cell_type": "code",
   "execution_count": 1,
   "metadata": {},
   "outputs": [
    {
     "name": "stderr",
     "output_type": "stream",
     "text": [
      "C:\\Users\\acorn\\Anaconda3\\lib\\site-packages\\sklearn\\externals\\six.py:31: DeprecationWarning: The module is deprecated in version 0.21 and will be removed in version 0.23 since we've dropped support for Python 2.7. Please rely on the official version of six (https://pypi.org/project/six/).\n",
      "  \"(https://pypi.org/project/six/).\", DeprecationWarning)\n",
      "C:\\Users\\acorn\\Anaconda3\\lib\\site-packages\\sklearn\\externals\\joblib\\__init__.py:15: DeprecationWarning: sklearn.externals.joblib is deprecated in 0.21 and will be removed in 0.23. Please import this functionality directly from joblib, which can be installed with: pip install joblib. If this warning is raised when loading pickled models, you may need to re-serialize those models with scikit-learn 0.21+.\n",
      "  warnings.warn(msg, category=DeprecationWarning)\n"
     ]
    }
   ],
   "source": [
    "import numpy as np\n",
    "import pandas as pd\n",
    "import matplotlib as mpl\n",
    "import matplotlib.pyplot as plt                                                 # 실제로 그래프를 그려주는 애\n",
    "import seaborn as sns\n",
    "\n",
    "import matplotlib.font_manager as fm                                            # 한글폰트 안깨져서 나오게하기위해\n",
    "font_name = fm.FontProperties(fname=\"C:\\Windows/Fonts/malgun.ttf\").get_name()    # 폰트 지정\n",
    "plt.rc('font', family=font_name)                                                 # matplotlib내에 폰트 설정\n",
    "\n",
    "mpl.rcParams[\"axes.unicode_minus\"] = False        # 음수 설정, False로 지정하면 음수를 문자로 쓰지않고 숫자로 지정하겠다는 의미, 음수로 사용이 가능해진다.\n",
    "\n",
    "# mglearn\n",
    "# pip install mglearn\n",
    "import mglearn\n",
    "\n",
    "from sklearn.model_selection import train_test_split"
   ]
  },
  {
   "cell_type": "markdown",
   "metadata": {},
   "source": [
    "#  선형 회귀(선형 모델)\n",
    "\n",
    "y = w[0] * x[0] + w[1] * x[1] + ... + b\n",
    "\n",
    "w(가중치, 기울기) = 모델 파라미터 : 스스로 학습하여 찾음"
   ]
  },
  {
   "cell_type": "code",
   "execution_count": null,
   "metadata": {},
   "outputs": [],
   "source": [
    "# 선형회귀 방식 샘플\n",
    "mglearn.plots.plot_linear_regression_wave()\n",
    "\n",
    "# 나타나는 점들 훈련용 실제 데이터, 선은 예측선, 선 : 입력된 데이터의 차이, 평균제곱오차(MSE : mean square error)\n",
    "# 학습에 의해 찾은 최적의 결과값 : w[0]: 0.393906  b: -0.031804\n",
    "# KNN보다 단순한 형태인 직선을 갖는다 (but 차원이 높아지면 KNN에서 할수없었던 경계면을 만들어줌  = 초평면 hyperplane)\n",
    "# 2, 3 차원에서는 경계면을 갖는 형태 "
   ]
  },
  {
   "cell_type": "code",
   "execution_count": 4,
   "metadata": {},
   "outputs": [],
   "source": [
    "# 선형회귀 구현할 메서드\n",
    "from sklearn.linear_model import LinearRegression\n",
    "\n",
    "# 데이터 불러오기\n",
    "X, y = mglearn.datasets.make_wave(n_samples=60)\n",
    "\n",
    "# 훈련용, 테스트용 나누기 \n",
    "X_train, X_test, y_train, y_test = train_test_split(X, y, random_state=42) "
   ]
  },
  {
   "cell_type": "code",
   "execution_count": null,
   "metadata": {},
   "outputs": [],
   "source": [
    "# 선형회귀 \n",
    "lr = LinearRegression() # 선형회귀 이웃의 개수 홀수로 직접 지정 할 수 없다(하이퍼파라미터 없음) / 직접 제어 불가 / 선능대로 사용해야함 \n",
    "\n",
    "# 준비\n",
    "lr.fit(X_train, y_train)"
   ]
  },
  {
   "cell_type": "code",
   "execution_count": null,
   "metadata": {},
   "outputs": [],
   "source": [
    "dir(lr)\n",
    "\n",
    "# coef 가중치(=기울기) 저장 intercept 절편 저장\n",
    "print(\"가중치 : {}, 절편 : {}\".format(lr.coef_, lr.intercept_))\n",
    "\n",
    "print(\"훈련 점수 : \",lr.score(X_train, y_train)) # 0.67 <- 훈련점수 그리 좋진않다.. 그러나 테스트 점수가 좋으면된다\n",
    "print(\"테스트 점수 : \",lr.score(X_test, y_test)) # 0.66 <- 얘도 뭐.. 샘플 개수가 적어서 그런가보당...ㅎ"
   ]
  },
  {
   "cell_type": "code",
   "execution_count": null,
   "metadata": {},
   "outputs": [],
   "source": [
    "# 주제 : 전기생산량과 소비량\n",
    "# 귀무가설 : 전기 생산량과 전기 소비량간의 상관관계가 없다\n",
    "# 대립가설 : 전기 생산량과 전기 소비량간의 상관관계가 있다\n",
    "\n",
    "# 월별 전기 사용량(백만 kwh)\n",
    "y = [2.48, 2.27, 2.47, 2.77, 2.98, 3.05, 3.18, 3.46, 3.03, 3.25, 2.67, 2.53]\n",
    "\n",
    "# 월별 전기 생산금액(억원)\n",
    "X = [3.52, 2.58, 3.31, 4.07, 4.62, 3.98, 4.29, 4.83, 3.71, 4.61, 3.90, 3.20]\n",
    "\n",
    "# 생산량 4일때 사용량은 얼마인가?"
   ]
  },
  {
   "cell_type": "code",
   "execution_count": null,
   "metadata": {},
   "outputs": [],
   "source": [
    "# 관계 검정\n",
    "\n",
    "# R과 비슷한 패키지 지니고 있는 애 / 통계기반 객체 가지고있음\n",
    "from scipy import stats\n",
    "\n",
    "result = stats.linregress(X, y) #  pvalue=9.238421943157891e-05 관계가 있다\n",
    "result"
   ]
  },
  {
   "cell_type": "code",
   "execution_count": null,
   "metadata": {},
   "outputs": [],
   "source": [
    "# fit 훈련데이터 넘길때 입력형식은 shape이 2차원이여야한다 but X값은 현재 list 형식. 형식을 바꿔줘야한다\n",
    "num = np.array(X) # list -> 배열로 바꿔주기\n",
    "num = num.reshape(-1, 1)\n",
    "lr2 = LinearRegression().fit(num, y) \n",
    "\n",
    "print(lr2.coef_, lr2.intercept_) \n",
    "# 위에서 stats를 통해 구한것과 같은 값이 나온것을 볼수있다 # 평균제곱오차라는 같은 알고리즘으로 풀었기때문에 가능\n",
    "# 대신 stats는 통계분석에 가까운 정보를 더 많이 제공한다 \n",
    "# coef_ : 가중치(w), 계수  라고 말하자"
   ]
  },
  {
   "cell_type": "code",
   "execution_count": null,
   "metadata": {},
   "outputs": [],
   "source": [
    "# 그래프 그리기\n",
    "slope, intercept, r_value, p_value, stderr = stats.linregress(X, y)\n",
    "\n",
    "# 산포도\n",
    "plt.scatter(X, y) # 뚜렷한 양의 상관관계 나타냄\n",
    "plt.plot(np.array(X), slope*np.array(X)+intercept) \\\n",
    "# np.array(X) : X자리 : plot은 배열로 넘겨줘야한다\n",
    "# slope*np.array(X)+intercept : Y 자리 : wx + b"
   ]
  },
  {
   "cell_type": "code",
   "execution_count": null,
   "metadata": {},
   "outputs": [],
   "source": [
    "# 생산량 4일때의 사용량 궁금했으니 \n",
    "result = slope * 4 + intercept\n",
    "print(\"결과 : \", result)"
   ]
  },
  {
   "cell_type": "code",
   "execution_count": null,
   "metadata": {},
   "outputs": [],
   "source": [
    "# 고차원 특성에 대한 과대적합\n",
    "X, y = mglearn.datasets.load_extended_boston()\n",
    "X.shape\n",
    "X_train, X_test, y_train, y_test = train_test_split(X, y, random_state=0)"
   ]
  },
  {
   "cell_type": "code",
   "execution_count": null,
   "metadata": {},
   "outputs": [],
   "source": [
    "# 선형회귀 \n",
    "lr = LinearRegression().fit(X_train, y_train)"
   ]
  },
  {
   "cell_type": "code",
   "execution_count": null,
   "metadata": {},
   "outputs": [],
   "source": [
    "print(\"훈련 점수 : \",lr.score(X_train, y_train)) # 0.95 -> 오.. 결과 좋음 \n",
    "print(\"테스트 점수 : \",lr.score(X_test, y_test)) # 0.61 -> 음.. 훈련에만 적합한 과대적합 현상 나타남"
   ]
  },
  {
   "cell_type": "markdown",
   "metadata": {},
   "source": [
    "### 릿지(Ridge) 회귀 모델\n",
    "과대적합을 해결하기위한 모델 \n",
    "\n",
    "라쏘, 엘라스틱(릿지 + 라쏘) 등등 있음 \n",
    " \n",
    "- L2 규제(Regularization) : L2 norm의 과대적합 제어하기 위해 패널티 주는거 / 기본 값에 알파값 더해주기..\n",
    "        1/n ∑(y-y')^2 + α∑(w^2)  \n",
    "      알파 = 가중치의 어떤 값을 계산해서 특성에 어떻게 영향을 미치게 할것인지 계산하는것 \n",
    "      \n",
    "- MSE항에 Penalty항 추가 \n",
    "- 알파를 크게 하면 Penalty의 효과가 커지고(=가중치 감소), 작게 하면 그 반대가 된다. "
   ]
  },
  {
   "cell_type": "code",
   "execution_count": 40,
   "metadata": {},
   "outputs": [
    {
     "name": "stdout",
     "output_type": "stream",
     "text": [
      "훈련 점수 :  0.885796658517094\n",
      "테스트 점수 :  0.7527683481744755\n"
     ]
    }
   ],
   "source": [
    "# 릿지 불러오기\n",
    "from sklearn.linear_model import Ridge\n",
    "\n",
    "ridge = Ridge().fit(X_train, y_train) # alpha의 기본값 = 1.0 / 알파값 조절에 따라 성능이 변경됨 \n",
    "print(\"훈련 점수 : \",ridge.score(X_train, y_train)) \n",
    "print(\"테스트 점수 : \",ridge.score(X_test, y_test)) \n",
    "# 위에 선형회귀와 비교했을때 테스트 점수가 75%로 더 큰 값이 나왔으므로 이 데이터는 릿지회귀모델을 사용해야함"
   ]
  },
  {
   "cell_type": "code",
   "execution_count": null,
   "metadata": {},
   "outputs": [],
   "source": [
    "# 알파값을 높게 줘보자아아아아ㅏ\n",
    "\n",
    "ridge10 = Ridge(alpha=10).fit(X_train, y_train) # alpha = 10.0 \n",
    "print(\"훈련 점수 : \",ridge10.score(X_train, y_train)) # 알파값 높였더니 훈련값 10%나 낮아짐\n",
    "print(\"테스트 점수 : \",ridge10.score(X_test, y_test)) # 테스트 점수도 낮아짐\n",
    "# 알파값 조절을 통해서 어떤 알파값이 가장 적절한지 알아볼수있음 \n",
    "# alpha=10 은 규제를 너무 강하게 한것으로 볼 수 있다 \n",
    "# 적당히 조절해주는게 필요해요......\n"
   ]
  },
  {
   "cell_type": "code",
   "execution_count": null,
   "metadata": {},
   "outputs": [],
   "source": [
    "# 알파값을 낮게 줘보자아아아아ㅏ\n",
    "\n",
    "ridge01 = Ridge(alpha=0.1).fit(X_train, y_train) # alpha = 0.1\n",
    "print(\"훈련 점수 : \",ridge01.score(X_train, y_train)) # 훈련값이 확 높아짐을 볼수있음 \n",
    "print(\"테스트 점수 : \",ridge01.score(X_test, y_test))"
   ]
  },
  {
   "cell_type": "code",
   "execution_count": null,
   "metadata": {},
   "outputs": [],
   "source": [
    "plt.plot(ridge10.coef_, '^', label=\"Ridge alpha=10\")\n",
    "plt.plot(ridge.coef_, 's', label=\"Ridge alpha=1\")\n",
    "plt.plot(ridge01.coef_, 'v', label=\"Ridge alpha=0.1\")\n",
    "\n",
    "plt.plot(lr.coef_, 'o', label=\"LinearRegression\")\n",
    "plt.xlabel(\"계수 목록\")\n",
    "plt.ylabel(\"계수 크기\")\n",
    "plt.hlines(0, 0, len(lr.coef_))\n",
    "plt.ylim(-25, 25)\n",
    "plt.legend()\n",
    "\n",
    "# 규제를 강하게 했을때는 0에 가깝게 모여있음을 확인할수 있따\n",
    "# linearRegression 은 프레임 밖으로 넘어가있는것도 볼수있네.....하하항한허망허ㅣㄴㅁㄹㄴㅇㄹ 집가고싶다"
   ]
  },
  {
   "cell_type": "code",
   "execution_count": null,
   "metadata": {},
   "outputs": [],
   "source": [
    "# 알파값을 1.0으로 고정시킨 상태에서 데이터의 크기 조절\n",
    "\n",
    "mglearn.plots.plot_ridge_n_samples()\n",
    "# x축 : 데이터 개수 / y축 : 설명계수, 성능\n",
    "# 훈련데이터셋이 가장 좋음을 볼수있다\n",
    "# 훈련 ridge와 linear 비교해보면 훈련 linear이 좋음. 거의 100% 에서 시작하는데 \n",
    "# test에서 보면 ridge가 훨신 좋음, linear은 데이터가 400개 이상 넘을때부터 훈련이 시작됨을 볼수있음 -> 극단적\n",
    "# test ridge는 데이터 수가 적어도 훈련하는데 있어 큰 영향을 받지않음을 볼수있다 \n",
    "# 처음에는 차이가 많이 났지만 마지막으로가면 test ridge나 linear값이나 같아짐을 볼수잇다\n",
    "# 즉, 데이터가 많아질수록 성능은 좋아진다 어떤 방법을 쓰느냐가 상관없어진다 \n",
    "# 데이터의 크기가 머신러닝의 힘이다. 다다익선^^\n",
    "\n",
    "# training linear 데이터가 많아질수록 과대적합이 줄어듦을 볼수있다. \n",
    "# 데이터가 많아지면 과대적합 현상도 자연스럽게 해결되는 양상을 보여준다 \n",
    "\n",
    "# 그냥 결론은 데이터가 많으면 모든게 다 해결되니까 데이터 많이 가져다 써라!!!!!!!!!!"
   ]
  },
  {
   "cell_type": "markdown",
   "metadata": {},
   "source": [
    "### 라쏘(Lasso) 회귀 모델\n",
    "\n",
    "- L1 규제 사용\n",
    "        1/n ∑(y-y')^2 + α∑(w^2) + α∑(|w|)\n",
    "        가중치가 0이면 특성을 아예 제거할수있다\n",
    "        \n",
    "- 알파를 쿠게 하면 패널티의 효과가 커지고 적게하면 그 반대가 된다.\n",
    "- 특성 선택이 자동으로 이루어진다.\n"
   ]
  },
  {
   "cell_type": "code",
   "execution_count": null,
   "metadata": {},
   "outputs": [],
   "source": [
    "from sklearn.linear_model import Lasso\n",
    "\n",
    "lasso = Lasso().fit(X_train, y_train) # alpha의 기본값 = 1.0\n",
    "print(\"훈련 점수 : \",lasso.score(X_train, y_train)) \n",
    "print(\"테스트 점수 : \",lasso.score(X_test, y_test)) \n",
    "print(\"사용한 특성의 수 : \", np.sum(lasso.coef_ != 0)) \n",
    "# 특성 = columns / 104개의 특성 중에 lasso.coef_ != 0이 아닌것 4개만 사용했음을 알수있다 "
   ]
  },
  {
   "cell_type": "code",
   "execution_count": null,
   "metadata": {},
   "outputs": [],
   "source": [
    "# alpha 값 낮추기 = 규제를 풀어준것\n",
    "\n",
    "lasso001 = Lasso(alpha=0.01, max_iter = 100000).fit(X_train, y_train) # 알파값을 낮추면 반복횟수가 늘어나야함\n",
    "print(\"훈련 점수 : \",lasso001.score(X_train, y_train)) \n",
    "print(\"테스트 점수 : \",lasso001.score(X_test, y_test)) \n",
    "print(\"사용한 특성의 수 : \", np.sum(lasso001.coef_ != 0)) \n",
    "# 특성도 늘어나고 성능도 좋아짐을 볼수있다"
   ]
  },
  {
   "cell_type": "code",
   "execution_count": null,
   "metadata": {},
   "outputs": [],
   "source": [
    "# alpha 값 낮추기 = 규제를 풀어준것\n",
    "\n",
    "lasso00001 = Lasso(alpha=0.0001, max_iter = 100000).fit(X_train, y_train) # 알파값을 낮추면 반복횟수가 늘어나야함\n",
    "print(\"훈련 점수 : \",lasso00001.score(X_train, y_train)) \n",
    "print(\"테스트 점수 : \",lasso00001.score(X_test, y_test)) \n",
    "print(\"사용한 특성의 수 : \", np.sum(lasso00001.coef_ != 0)) \n",
    "# 거의 모든 특성을 쓰게되었고 training 성능도 좋아졌지만 test 성능이 낮아짐을 볼수있다\n",
    "# 과대적합 현상 나타남 "
   ]
  },
  {
   "cell_type": "markdown",
   "metadata": {},
   "source": [
    "### ElasticNet : Ridge + Lasso\n",
    "\n",
    "    elastic : 릿지나 라쏘의 성질을 다 합한것이기 때문에 성능이 가장좋다 \n",
    "    but 그만큼 복잡하고 시간이 많이 걸린다 / 두개를 조정해야하기 때문에 제어하기 어려움 "
   ]
  },
  {
   "cell_type": "markdown",
   "metadata": {},
   "source": [
    "### Boston sample을 이용한 다중 선형 회귀"
   ]
  },
  {
   "cell_type": "code",
   "execution_count": 2,
   "metadata": {},
   "outputs": [
    {
     "name": "stdout",
     "output_type": "stream",
     "text": [
      "['CRIM' 'ZN' 'INDUS' 'CHAS' 'NOX' 'RM' 'AGE' 'DIS' 'RAD' 'TAX' 'PTRATIO'\n",
      " 'B' 'LSTAT']\n",
      "[24.  21.6 34.7 33.4 36.2 28.7 22.9 27.1 16.5 18.9 15.  18.9 21.7 20.4\n",
      " 18.2 19.9 23.1 17.5 20.2 18.2 13.6 19.6 15.2 14.5 15.6 13.9 16.6 14.8\n",
      " 18.4 21.  12.7 14.5 13.2 13.1 13.5 18.9 20.  21.  24.7 30.8 34.9 26.6\n",
      " 25.3 24.7 21.2 19.3 20.  16.6 14.4 19.4 19.7 20.5 25.  23.4 18.9 35.4\n",
      " 24.7 31.6 23.3 19.6 18.7 16.  22.2 25.  33.  23.5 19.4 22.  17.4 20.9\n",
      " 24.2 21.7 22.8 23.4 24.1 21.4 20.  20.8 21.2 20.3 28.  23.9 24.8 22.9\n",
      " 23.9 26.6 22.5 22.2 23.6 28.7 22.6 22.  22.9 25.  20.6 28.4 21.4 38.7\n",
      " 43.8 33.2 27.5 26.5 18.6 19.3 20.1 19.5 19.5 20.4 19.8 19.4 21.7 22.8\n",
      " 18.8 18.7 18.5 18.3 21.2 19.2 20.4 19.3 22.  20.3 20.5 17.3 18.8 21.4\n",
      " 15.7 16.2 18.  14.3 19.2 19.6 23.  18.4 15.6 18.1 17.4 17.1 13.3 17.8\n",
      " 14.  14.4 13.4 15.6 11.8 13.8 15.6 14.6 17.8 15.4 21.5 19.6 15.3 19.4\n",
      " 17.  15.6 13.1 41.3 24.3 23.3 27.  50.  50.  50.  22.7 25.  50.  23.8\n",
      " 23.8 22.3 17.4 19.1 23.1 23.6 22.6 29.4 23.2 24.6 29.9 37.2 39.8 36.2\n",
      " 37.9 32.5 26.4 29.6 50.  32.  29.8 34.9 37.  30.5 36.4 31.1 29.1 50.\n",
      " 33.3 30.3 34.6 34.9 32.9 24.1 42.3 48.5 50.  22.6 24.4 22.5 24.4 20.\n",
      " 21.7 19.3 22.4 28.1 23.7 25.  23.3 28.7 21.5 23.  26.7 21.7 27.5 30.1\n",
      " 44.8 50.  37.6 31.6 46.7 31.5 24.3 31.7 41.7 48.3 29.  24.  25.1 31.5\n",
      " 23.7 23.3 22.  20.1 22.2 23.7 17.6 18.5 24.3 20.5 24.5 26.2 24.4 24.8\n",
      " 29.6 42.8 21.9 20.9 44.  50.  36.  30.1 33.8 43.1 48.8 31.  36.5 22.8\n",
      " 30.7 50.  43.5 20.7 21.1 25.2 24.4 35.2 32.4 32.  33.2 33.1 29.1 35.1\n",
      " 45.4 35.4 46.  50.  32.2 22.  20.1 23.2 22.3 24.8 28.5 37.3 27.9 23.9\n",
      " 21.7 28.6 27.1 20.3 22.5 29.  24.8 22.  26.4 33.1 36.1 28.4 33.4 28.2\n",
      " 22.8 20.3 16.1 22.1 19.4 21.6 23.8 16.2 17.8 19.8 23.1 21.  23.8 23.1\n",
      " 20.4 18.5 25.  24.6 23.  22.2 19.3 22.6 19.8 17.1 19.4 22.2 20.7 21.1\n",
      " 19.5 18.5 20.6 19.  18.7 32.7 16.5 23.9 31.2 17.5 17.2 23.1 24.5 26.6\n",
      " 22.9 24.1 18.6 30.1 18.2 20.6 17.8 21.7 22.7 22.6 25.  19.9 20.8 16.8\n",
      " 21.9 27.5 21.9 23.1 50.  50.  50.  50.  50.  13.8 13.8 15.  13.9 13.3\n",
      " 13.1 10.2 10.4 10.9 11.3 12.3  8.8  7.2 10.5  7.4 10.2 11.5 15.1 23.2\n",
      "  9.7 13.8 12.7 13.1 12.5  8.5  5.   6.3  5.6  7.2 12.1  8.3  8.5  5.\n",
      " 11.9 27.9 17.2 27.5 15.  17.2 17.9 16.3  7.   7.2  7.5 10.4  8.8  8.4\n",
      " 16.7 14.2 20.8 13.4 11.7  8.3 10.2 10.9 11.   9.5 14.5 14.1 16.1 14.3\n",
      " 11.7 13.4  9.6  8.7  8.4 12.8 10.5 17.1 18.4 15.4 10.8 11.8 14.9 12.6\n",
      " 14.1 13.  13.4 15.2 16.1 17.8 14.9 14.1 12.7 13.5 14.9 20.  16.4 17.7\n",
      " 19.5 20.2 21.4 19.9 19.  19.1 19.1 20.1 19.9 19.6 23.2 29.8 13.8 13.3\n",
      " 16.7 12.  14.6 21.4 23.  23.7 25.  21.8 20.6 21.2 19.1 20.6 15.2  7.\n",
      "  8.1 13.6 20.1 21.8 24.5 23.1 19.7 18.3 21.2 17.5 16.8 22.4 20.6 23.9\n",
      " 22.  11.9]\n"
     ]
    }
   ],
   "source": [
    "from sklearn.datasets import load_boston\n",
    "\n",
    "# 보스톤 집값에 미치는 영향 알아보기 \n",
    "boston = load_boston()\n",
    "\n",
    "# 크기\n",
    "boston.data.shape\n",
    "\n",
    "print(boston.feature_names) # 컬럼들 이름 보기 / RM : 방개수 \n",
    "\n",
    "print(boston.target) # 실제 집값 알아보기...."
   ]
  },
  {
   "cell_type": "code",
   "execution_count": 5,
   "metadata": {},
   "outputs": [
    {
     "data": {
      "text/plain": [
       "array([-1.08011358e-01,  4.64204584e-02,  2.05586264e-02,  2.68673382e+00,\n",
       "       -1.77666112e+01,  3.80986521e+00,  6.92224640e-04, -1.47556685e+00,\n",
       "        3.06049479e-01, -1.23345939e-02, -9.52747232e-01,  9.31168327e-03,\n",
       "       -5.24758378e-01])"
      ]
     },
     "execution_count": 5,
     "metadata": {},
     "output_type": "execute_result"
    }
   ],
   "source": [
    "model_boston = LinearRegression().fit(boston.data, boston.target)\n",
    "\n",
    "# 가중치 확인\n",
    "model_boston.coef_ # 13개 특성에 해당하는 가중치값\n"
   ]
  },
  {
   "cell_type": "code",
   "execution_count": 6,
   "metadata": {},
   "outputs": [
    {
     "data": {
      "text/plain": [
       "Text(0.5, 1.0, '집값 예측치와 실제 집값의 관계')"
      ]
     },
     "execution_count": 6,
     "metadata": {},
     "output_type": "execute_result"
    },
    {
     "data": {
      "image/png": "[encoded data removed]",
      "text/plain": [
       "<Figure size 432x288 with 1 Axes>"
      ]
     },
     "metadata": {
      "needs_background": "light"
     },
     "output_type": "display_data"
    }
   ],
   "source": [
    "# 관계검정\n",
    "\n",
    "# 훈련받은걸로 예측해보장... 원래는 테스트용으로 넘겨줘야하는데\n",
    "pred = model_boston.predict(boston.data)\n",
    "\n",
    "# 실제 집값\n",
    "plt.scatter(boston.target, pred)\n",
    "plt.xlabel(\"실제집값\")\n",
    "plt.ylabel(\"예측집값\")\n",
    "plt.title(\"집값 예측치와 실제 집값의 관계\")"
   ]
  },
  {
   "cell_type": "code",
   "execution_count": 7,
   "metadata": {},
   "outputs": [
    {
     "name": "stderr",
     "output_type": "stream",
     "text": [
      "C:\\Users\\acorn\\Anaconda3\\lib\\site-packages\\seaborn\\axisgrid.py:2065: UserWarning: The `size` parameter has been renamed to `height`; pleaes update your code.\n",
      "  warnings.warn(msg, UserWarning)\n"
     ]
    },
    {
     "data": {
      "text/plain": [
       "<seaborn.axisgrid.PairGrid at 0xc3e5a08>"
      ]
     },
     "execution_count": 7,
     "metadata": {},
     "output_type": "execute_result"
    },
    {
     "data": {
      "image/png": "[encoded data removed]",
      "text/plain": [
       "<Figure size 720x720 with 30 Axes>"
      ]
     },
     "metadata": {
      "needs_background": "light"
     },
     "output_type": "display_data"
    }
   ],
   "source": [
    "# 어떤 변수가 집값에 가장 큰 영향을 미칠지 알아보기 - 그래프(정성적 확인)\n",
    "\n",
    "# seaborn의 pairplot\n",
    "df = pd.DataFrame(boston.data, columns=[boston.feature_names])\n",
    "df.head(10)\n",
    "\n",
    "# 평균집값\n",
    "df[\"MEDV\"] = boston.target\n",
    "df.head(10)\n",
    "\n",
    "cols = [\"LSTAT\", \"INDUS\", \"NOX\", \"RM\", \"MEDV\"] # 컬럼 4개뽑아서 집값과 어느정도 관계있는지 알아보자\n",
    "sns.pairplot(df[cols], size=2)\n",
    "\n",
    "# NOX, RM 는 관계가 없는 걸로 알수있다\n",
    "# RM은 집값에 큰영향을 미친다"
   ]
  },
  {
   "cell_type": "code",
   "execution_count": 10,
   "metadata": {},
   "outputs": [
    {
     "data": {
      "text/plain": [
       "<matplotlib.axes._subplots.AxesSubplot at 0xf13a808>"
      ]
     },
     "execution_count": 10,
     "metadata": {},
     "output_type": "execute_result"
    },
    {
     "data": {
      "image/png": "[encoded data removed]",
      "text/plain": [
       "<Figure size 432x288 with 2 Axes>"
      ]
     },
     "metadata": {
      "needs_background": "light"
     },
     "output_type": "display_data"
    }
   ],
   "source": [
    "# 어떤 변수가 집값에 가장 큰 영향을 미칠지 알아보기 - 수치(정량적 확인)\n",
    "\n",
    "# seaborn의 heatmap 이용\n",
    "# 상관계수 구해주기\n",
    "cc = np.corrcoef(df[cols].values.T) # column계수의 값들만 뽑아오기\n",
    "sns.heatmap(cc, yticklabels=cols, xticklabels=cols, annot=True, square=True,\n",
    "           annot_kws={\"size\":15})"
   ]
  },
  {
   "cell_type": "code",
   "execution_count": 58,
   "metadata": {},
   "outputs": [
    {
     "name": "stdout",
     "output_type": "stream",
     "text": [
      "[[9.10210898]] [-34.67062078]\n",
      "방이 [5]개인 주택 가격은 약 [10840]달러이다. \n"
     ]
    }
   ],
   "source": [
    "# 방이 5개일때 집값은 ?달러 인가?\n",
    "\n",
    "X = df[[\"RM\"]].values # 입력값 2차원으로 맞춰주기\n",
    "y = df[[\"MEDV\"]].values # 2차원 dataframe\n",
    "\n",
    "lr = LinearRegression().fit(X, y)\n",
    "print(lr.coef_, lr.intercept_)\n",
    "\n",
    "house_val = lr.predict(np.array([[5]]))\n",
    "print(\"방이 [%d]개인 주택 가격은 약 [%.f]달러이다. \" %(5, house_val*1000))"
   ]
  },
  {
   "cell_type": "code",
   "execution_count": null,
   "metadata": {},
   "outputs": [],
   "source": [
    "# train test 사용해서 적절한 alpha값 찾아서 *-/*/*-/*-/-*-*/*-/*-/ 해보기!!!!!!!!!!!"
   ]
  },
  {
   "cell_type": "code",
   "execution_count": 59,
   "metadata": {},
   "outputs": [
    {
     "name": "stdout",
     "output_type": "stream",
     "text": [
      "훈련 점수 :  0.48689351384859914\n",
      "테스트 점수 :  0.4725972743191255\n"
     ]
    }
   ],
   "source": [
    "X_train, X_test, y_train, y_test = train_test_split(X, y, random_state=0)\n",
    "\n",
    "print(\"훈련 점수 : \",lr.score(X_train, y_train))\n",
    "print(\"테스트 점수 : \",lr.score(X_test, y_test))"
   ]
  },
  {
   "cell_type": "code",
   "execution_count": 60,
   "metadata": {},
   "outputs": [
    {
     "name": "stdout",
     "output_type": "stream",
     "text": [
      "훈련 점수 :  0.487506080183735\n",
      "테스트 점수 :  0.46842523320821605\n"
     ]
    }
   ],
   "source": [
    "ridge = Ridge().fit(X_train, y_train) \n",
    "print(\"훈련 점수 : \",ridge.score(X_train, y_train)) \n",
    "print(\"테스트 점수 : \",ridge.score(X_test, y_test)) "
   ]
  },
  {
   "cell_type": "code",
   "execution_count": 61,
   "metadata": {},
   "outputs": [
    {
     "name": "stdout",
     "output_type": "stream",
     "text": [
      "훈련 점수 :  0.4875205319526087\n",
      "테스트 점수 :  0.46795436996593376\n"
     ]
    }
   ],
   "source": [
    "ridge001 = Ridge(alpha=0.1).fit(X_train, y_train) \n",
    "print(\"훈련 점수 : \",ridge001.score(X_train, y_train)) \n",
    "print(\"테스트 점수 : \",ridge001.score(X_test, y_test)) "
   ]
  },
  {
   "cell_type": "markdown",
   "metadata": {},
   "source": [
    "## 분류형 선형모델\n",
    "\n",
    "+ 로지스틱 회귀분석\n",
    "    - 로지스틱 loss(cost) function\n",
    "    \n",
    "    이진분류에 대한것을 S자 곡선으로 꺾은것(Sigmoid function)\n",
    "    \n",
    "    1/ (1 + e^-w)\n",
    "    \n",
    "    \n",
    "+ SVM에서 제공하는 선형모델\n",
    "    - 교차 엔트로피 loss(cost) function\n",
    "    "
   ]
  },
  {
   "cell_type": "code",
   "execution_count": 66,
   "metadata": {},
   "outputs": [
    {
     "data": {
      "text/plain": [
       "[<matplotlib.lines.Line2D at 0x119bc6c8>]"
      ]
     },
     "execution_count": 66,
     "metadata": {},
     "output_type": "execute_result"
    },
    {
     "data": {
      "image/png": "[encoded data removed]",
      "text/plain": [
       "<Figure size 432x288 with 1 Axes>"
      ]
     },
     "metadata": {
      "needs_background": "light"
     },
     "output_type": "display_data"
    }
   ],
   "source": [
    "# sigmoid 그래프 그리기\n",
    "\n",
    "def sigmoid(x):\n",
    "    # 담을 리스트 변수 준비\n",
    "    result = []\n",
    "    for i in x:\n",
    "        result.append(1/(1+np.exp(-i)))\n",
    "        \n",
    "    return result\n",
    "\n",
    "x = np.linspace(-8, 8, 100) # 가중치 100개 만들기 / 난수\n",
    "sig = sigmoid(x)\n",
    "\n",
    "plt.plot(x, sig)"
   ]
  },
  {
   "cell_type": "code",
   "execution_count": 72,
   "metadata": {},
   "outputs": [
    {
     "data": {
      "text/plain": [
       "[<matplotlib.lines.Line2D at 0xebaca48>]"
      ]
     },
     "execution_count": 72,
     "metadata": {},
     "output_type": "execute_result"
    },
    {
     "data": {
      "image/png": "[encoded data removed]",
      "text/plain": [
       "<Figure size 432x288 with 1 Axes>"
      ]
     },
     "metadata": {
      "needs_background": "light"
     },
     "output_type": "display_data"
    }
   ],
   "source": [
    "# 임의의 데이터 준비\n",
    "x = np.linspace(-5, 5, 1000)\n",
    "plt.plot(x, 1/(1+np.exp(-x)))\n",
    "\n",
    "# 계속 미분하다보면 값이 약해져서 \n",
    "# 범위를 좀더 늘려서 (sigmoid의 범위는 0 - 1까지 이므로)\n",
    "# hyperbolic tan = tanh\n",
    "plt.plot(x, np.tanh(x)) # 일반적인 sigmoid 보다 범위가 늘어남 "
   ]
  },
  {
   "cell_type": "code",
   "execution_count": 74,
   "metadata": {},
   "outputs": [],
   "source": [
    "from sklearn.linear_model import LogisticRegression\n",
    "from sklearn.svm import LinearSVC"
   ]
  },
  {
   "cell_type": "code",
   "execution_count": 75,
   "metadata": {},
   "outputs": [
    {
     "name": "stderr",
     "output_type": "stream",
     "text": [
      "C:\\Users\\acorn\\Anaconda3\\lib\\site-packages\\sklearn\\utils\\deprecation.py:85: DeprecationWarning: Function make_blobs is deprecated; Please import make_blobs directly from scikit-learn\n",
      "  warnings.warn(msg, category=DeprecationWarning)\n",
      "C:\\Users\\acorn\\Anaconda3\\lib\\site-packages\\sklearn\\svm\\base.py:929: ConvergenceWarning: Liblinear failed to converge, increase the number of iterations.\n",
      "  \"the number of iterations.\", ConvergenceWarning)\n",
      "C:\\Users\\acorn\\Anaconda3\\lib\\site-packages\\sklearn\\linear_model\\logistic.py:432: FutureWarning: Default solver will be changed to 'lbfgs' in 0.22. Specify a solver to silence this warning.\n",
      "  FutureWarning)\n"
     ]
    },
    {
     "data": {
      "image/png": "[encoded data removed]",
      "text/plain": [
       "<Figure size 720x216 with 2 Axes>"
      ]
     },
     "metadata": {},
     "output_type": "display_data"
    }
   ],
   "source": [
    "X, y = mglearn.datasets.make_forge()\n",
    "fig, axes = plt.subplots(1, 2, figsize=(10, 3))\n",
    "\n",
    "for model, ax in zip([LinearSVC(), LogisticRegression()], axes):\n",
    "    clf = model.fit(X, y)\n",
    "    \n",
    "    mglearn.plots.plot_2d_separator(clf, X, fill=False, eps=0.5, ax=ax, alpha=.7)\n",
    "    mglearn.discrete_scatter(X[:, 0], X[:, 1], y, ax=ax)\n",
    "    \n",
    "    ax.set_title(\"{}\".format(clf.__class__.__name__))\n",
    "    ax.set_xlabel(\"특성 0\")\n",
    "    ax.set_ylabel(\"특성 1\")\n",
    "    \n",
    "# 비슷한 결과를 나타냄\n",
    "# 경계선이 조금 다름을 볼수있음 \n",
    "# LinearSVC 경계선과 데이터 거리가 멀다 \n",
    "# LogisticRegression 경계선과 데이터 거리가 가까움\n"
   ]
  },
  {
   "cell_type": "code",
   "execution_count": 76,
   "metadata": {},
   "outputs": [
    {
     "data": {
      "image/png": "[encoded data removed]",
      "text/plain": [
       "<Figure size 864x288 with 3 Axes>"
      ]
     },
     "metadata": {},
     "output_type": "display_data"
    }
   ],
   "source": [
    "# C값을 조정함에 따라서 어떻게 달라지는지 알아보기 \n",
    "mglearn.plots.plot_linear_svc_regularization()\n",
    "\n",
    "# C = 1000 현재 데이터에 최적화해서 그려주게되면 분류자체가 한쪽에 편중되게 그려진다 \n",
    "# C = 1000 -> 모델이 복잡해짐, 훈련용 데이터에 적합하게됨\n",
    "# C값을 높게 줬을때 훈련 데이터에 치중됨  -> 과대적합\n",
    "# C값이 낮을수록 일반화에 가까워짐 "
   ]
  },
  {
   "cell_type": "code",
   "execution_count": 7,
   "metadata": {},
   "outputs": [],
   "source": [
    "# 유방암 데이터 샘플\n",
    "from sklearn.datasets import load_breast_cancer\n",
    "\n",
    "cancer = load_breast_cancer() # dict로 묶여있음 / data : 데이터 / target : 정답 / target names : 정답에 대한 설명\n",
    "\n",
    "X_train, X_test, y_train, y_test = train_test_split(cancer.data, cancer.target, random_state=42, \n",
    "                                                   stratify=cancer.target) # stratify=cancer.target : 비율 맞춰주기  "
   ]
  },
  {
   "cell_type": "code",
   "execution_count": 15,
   "metadata": {},
   "outputs": [
    {
     "name": "stdout",
     "output_type": "stream",
     "text": [
      "훈련 점수 :  0.9553990610328639\n",
      "테스트 점수 :  0.958041958041958\n"
     ]
    }
   ],
   "source": [
    "from sklearn.linear_model import LogisticRegression\n",
    "from sklearn.svm import LinearSVC\n",
    "\n",
    "# 기본 상태로 훈련, 테스트 점수 알아보기\n",
    "\n",
    "logreg = LogisticRegression(penalty=\"l2\").fit(X_train, y_train) # c =1 로 세팅되어져있는 상태 # penalty=\"l2\" : L2 norm 기본값 지정 \n",
    "\n",
    "print(\"훈련 점수 : \",logreg.score(X_train, y_train)) # 95% \n",
    "print(\"테스트 점수 : \",logreg.score(X_test, y_test)) # 95% 훈련과 테스트 비슷하면 과소적합을 의심해볼수있지만, %값이 높기때문에.. 뭐.. 괜찮음"
   ]
  },
  {
   "cell_type": "code",
   "execution_count": 11,
   "metadata": {},
   "outputs": [
    {
     "name": "stdout",
     "output_type": "stream",
     "text": [
      "훈련 점수 :  0.971830985915493\n",
      "테스트 점수 :  0.965034965034965\n"
     ]
    },
    {
     "name": "stderr",
     "output_type": "stream",
     "text": [
      "C:\\Users\\acorn\\Anaconda3\\lib\\site-packages\\sklearn\\linear_model\\logistic.py:432: FutureWarning: Default solver will be changed to 'lbfgs' in 0.22. Specify a solver to silence this warning.\n",
      "  FutureWarning)\n"
     ]
    }
   ],
   "source": [
    "# C값 증가시켜 훈련, 테스트 점수 알아보기 # C값은 10배 단위로 증가시키면 좋다 \n",
    "\n",
    "logreg100 = LogisticRegression(C=100).fit(X_train, y_train) # C = 100\n",
    "\n",
    "print(\"훈련 점수 : \",logreg100.score(X_train, y_train)) # C=1 일때보다 더 높은 값을 가짐. 훈련데이터에 더 적합한 값을 지니기 시작.\n",
    "print(\"테스트 점수 : \",logreg100.score(X_test, y_test)) # but 테스트 값도 더 높아짐을 보아 C값이 높을수록 좋은거 \n",
    "# C값이 높을수록 규제가 약해진걸로 볼수있다 / 즉, 규제를 한다는건 C값이 약하게 주는것"
   ]
  },
  {
   "cell_type": "code",
   "execution_count": 13,
   "metadata": {},
   "outputs": [
    {
     "name": "stdout",
     "output_type": "stream",
     "text": [
      "훈련 점수 :  0.9342723004694836\n",
      "테스트 점수 :  0.9300699300699301\n"
     ]
    },
    {
     "name": "stderr",
     "output_type": "stream",
     "text": [
      "C:\\Users\\acorn\\Anaconda3\\lib\\site-packages\\sklearn\\linear_model\\logistic.py:432: FutureWarning: Default solver will be changed to 'lbfgs' in 0.22. Specify a solver to silence this warning.\n",
      "  FutureWarning)\n"
     ]
    }
   ],
   "source": [
    "# C값 감소시켜 훈련, 테스트 점수 알아보기\n",
    "\n",
    "logreg001 = LogisticRegression(C=0.01).fit(X_train, y_train) # C = 0.01\n",
    "\n",
    "print(\"훈련 점수 : \",logreg001.score(X_train, y_train)) # 훈련점수가 나빠짐 = 일반화됨, 규제함 \n",
    "print(\"테스트 점수 : \",logreg001.score(X_test, y_test)) "
   ]
  },
  {
   "cell_type": "code",
   "execution_count": 17,
   "metadata": {},
   "outputs": [
    {
     "name": "stdout",
     "output_type": "stream",
     "text": [
      "훈련 점수 :  0.960093896713615\n",
      "테스트 점수 :  0.958041958041958\n"
     ]
    },
    {
     "name": "stderr",
     "output_type": "stream",
     "text": [
      "C:\\Users\\acorn\\Anaconda3\\lib\\site-packages\\sklearn\\linear_model\\logistic.py:432: FutureWarning: Default solver will be changed to 'lbfgs' in 0.22. Specify a solver to silence this warning.\n",
      "  FutureWarning)\n",
      "C:\\Users\\acorn\\Anaconda3\\lib\\site-packages\\sklearn\\svm\\base.py:929: ConvergenceWarning: Liblinear failed to converge, increase the number of iterations.\n",
      "  \"the number of iterations.\", ConvergenceWarning)\n"
     ]
    }
   ],
   "source": [
    "# L1 norm을 쓸것인지 L2 norm을 쓸것인지 지정 가능 / penalty 사용하는것에 따라 값이 달라질수있다 / penalty는 그냥.. 규제방식의 차이 \n",
    "# 기본값은 L2 norm\n",
    "# L1 norm : Lasso / L2 norm : Ridge\n",
    "\n",
    "# C = 1 , penalty = L1 norm 인 상태\n",
    "\n",
    "logreg_l1 = LogisticRegression(penalty=\"l1\").fit(X_train, y_train) # c =1 로 세팅되어져있는 상태 # penalty=\"l1\" : L1 norm \n",
    "\n",
    "print(\"훈련 점수 : \",logreg_l1.score(X_train, y_train)) # 96% \n",
    "print(\"테스트 점수 : \",logreg_l1.score(X_test, y_test))"
   ]
  },
  {
   "cell_type": "code",
   "execution_count": 18,
   "metadata": {},
   "outputs": [
    {
     "name": "stdout",
     "output_type": "stream",
     "text": [
      "훈련 점수 :  0.9859154929577465\n",
      "테스트 점수 :  0.9790209790209791\n"
     ]
    },
    {
     "name": "stderr",
     "output_type": "stream",
     "text": [
      "C:\\Users\\acorn\\Anaconda3\\lib\\site-packages\\sklearn\\linear_model\\logistic.py:432: FutureWarning: Default solver will be changed to 'lbfgs' in 0.22. Specify a solver to silence this warning.\n",
      "  FutureWarning)\n"
     ]
    }
   ],
   "source": [
    "# C = 100 , penalty = L1 norm 인 상태\n",
    "\n",
    "logreg100_L1 = LogisticRegression(C=100, penalty=\"l1\").fit(X_train, y_train) # C = 100\n",
    "\n",
    "print(\"훈련 점수 : \",logreg100_L1.score(X_train, y_train)) # L2 : 97% 였는데 1% 더 증가함 \n",
    "print(\"테스트 점수 : \",logreg100_L1.score(X_test, y_test)) # L2 : 96% 였는데 1% 더 증가함 "
   ]
  },
  {
   "cell_type": "code",
   "execution_count": 19,
   "metadata": {},
   "outputs": [
    {
     "name": "stdout",
     "output_type": "stream",
     "text": [
      "훈련 점수 :  0.9178403755868545\n",
      "테스트 점수 :  0.9300699300699301\n"
     ]
    },
    {
     "name": "stderr",
     "output_type": "stream",
     "text": [
      "C:\\Users\\acorn\\Anaconda3\\lib\\site-packages\\sklearn\\linear_model\\logistic.py:432: FutureWarning: Default solver will be changed to 'lbfgs' in 0.22. Specify a solver to silence this warning.\n",
      "  FutureWarning)\n"
     ]
    }
   ],
   "source": [
    "# C = 0.01 , penalty = L1 norm 인 상태\n",
    "\n",
    "logreg001_L1 = LogisticRegression(C=0.01, penalty=\"l1\").fit(X_train, y_train) # C = 0.01\n",
    "\n",
    "print(\"훈련 점수 : \",logreg001_L1.score(X_train, y_train)) # L2 : 93% 였는데 감소함\n",
    "print(\"테스트 점수 : \",logreg001_L1.score(X_test, y_test)) # L2 : 93% "
   ]
  },
  {
   "cell_type": "markdown",
   "metadata": {},
   "source": [
    "## 다중 클래스 분류"
   ]
  },
  {
   "cell_type": "code",
   "execution_count": 21,
   "metadata": {},
   "outputs": [],
   "source": [
    "# 앞에꺼는 두개중에 하나 선택하는 이진분류\n",
    "# 세개의 값이 있다면 두개씩 두개씩 해서 이진분류를 여러번 수행했다.\n",
    "# 대부분의 분석 시스템은 이진분류 방식 \n",
    "\n",
    "# but logistic 회귀분석은 다중분류(여러개중에 하나 선택) 실행 가능 "
   ]
  },
  {
   "cell_type": "code",
   "execution_count": 26,
   "metadata": {},
   "outputs": [
    {
     "data": {
      "text/plain": [
       "<matplotlib.legend.Legend at 0xd45b4c8>"
      ]
     },
     "execution_count": 26,
     "metadata": {},
     "output_type": "execute_result"
    },
    {
     "data": {
      "image/png": "[encoded data removed]",
      "text/plain": [
       "<Figure size 432x288 with 1 Axes>"
      ]
     },
     "metadata": {
      "needs_background": "light"
     },
     "output_type": "display_data"
    }
   ],
   "source": [
    "# 다중분류 샘플 \n",
    "from sklearn.datasets import make_blobs\n",
    "\n",
    "X, y = make_blobs(random_state=42)\n",
    "mglearn.discrete_scatter(X[:, 0], X[:,1], y) # 두가지 특성에 의해서 3가지로 분류됨\n",
    "\n",
    "plt.xlabel(\"특성 0\")\n",
    "plt.ylabel(\"특성 1\")\n",
    "plt.legend([\"클래스 0\", \"클래스 1\", \"클래스 2\"])"
   ]
  },
  {
   "cell_type": "code",
   "execution_count": 29,
   "metadata": {},
   "outputs": [
    {
     "name": "stdout",
     "output_type": "stream",
     "text": [
      "(3, 2)\n",
      "(3,)\n"
     ]
    }
   ],
   "source": [
    "linear_svm = LinearSVC().fit(X, y)\n",
    "\n",
    "print(linear_svm.coef_.shape) # 가중치 크기 / 3행 2열 / 3개의 종류에 대해 2개의 특성을 지닌다 \n",
    "print(linear_svm.intercept_.shape) # 절편 크기 / 클래스에 따른 종류"
   ]
  },
  {
   "cell_type": "code",
   "execution_count": 30,
   "metadata": {},
   "outputs": [
    {
     "data": {
      "text/plain": [
       "<matplotlib.legend.Legend at 0xd471788>"
      ]
     },
     "execution_count": 30,
     "metadata": {},
     "output_type": "execute_result"
    },
    {
     "data": {
      "image/png": "[encoded data removed]",
      "text/plain": [
       "<Figure size 432x288 with 1 Axes>"
      ]
     },
     "metadata": {
      "needs_background": "light"
     },
     "output_type": "display_data"
    }
   ],
   "source": [
    "mglearn.discrete_scatter(X[:, 0], X[:, 1], y)\n",
    "line = np.linspace(-15, 15)\n",
    "for coef, intercept, color in zip(linear_svm.coef_, linear_svm.intercept_, mglearn.cm3.colors):\n",
    "    plt.plot(line, -(line * coef[0] + intercept) / coef[1], c=color)\n",
    "    \n",
    "plt.ylim(-10, 15)\n",
    "plt.xlim(-10, 8)\n",
    "plt.xlabel(\"특성 0\")\n",
    "plt.ylabel(\"특성 1\")\n",
    "plt.legend([\"클래스 0\", \"클래스 1\", \"클래스 2\", \"클래스 0 경계\", \"클래스 1 경계\", \"클래스 2 경계\"], loc=(1.01, 0.3))\n",
    "\n",
    "# 각각 두번씩 이진분류를 3번시킨 결과 "
   ]
  },
  {
   "cell_type": "code",
   "execution_count": 35,
   "metadata": {},
   "outputs": [
    {
     "data": {
      "text/plain": [
       "<matplotlib.legend.Legend at 0xf95d8c8>"
      ]
     },
     "execution_count": 35,
     "metadata": {},
     "output_type": "execute_result"
    },
    {
     "data": {
      "image/png": "[encoded data removed]",
      "text/plain": [
       "<Figure size 432x288 with 1 Axes>"
      ]
     },
     "metadata": {},
     "output_type": "display_data"
    }
   ],
   "source": [
    "# 분류영역에 따라 색을 칠하자아아아\n",
    "mglearn.plots.plot_2d_classification(linear_svm, X, fill=True, alpha=.3) # fill = True : 색칠하기 / alpha =.3 : 투명도\n",
    "\n",
    "mglearn.discrete_scatter(X[:, 0], X[:, 1], y)\n",
    "line = np.linspace(-15, 15)\n",
    "for coef, intercept, color in zip(linear_svm.coef_, linear_svm.intercept_, mglearn.cm3.colors):\n",
    "    plt.plot(line, -(line * coef[0] + intercept) / coef[1], c=color)\n",
    "    \n",
    "plt.ylim(-10, 15)\n",
    "plt.xlim(-10, 8)\n",
    "plt.xlabel(\"특성 0\")\n",
    "plt.ylabel(\"특성 1\")\n",
    "plt.legend([\"클래스 0\", \"클래스 1\", \"클래스 2\", \"클래스 0 경계\", \"클래스 1 경계\", \"클래스 2 경계\"], loc=(1.01, 0.3))"
   ]
  },
  {
   "cell_type": "markdown",
   "metadata": {},
   "source": [
    "## 적합도 검정\n",
    "\n",
    "+ Accuracy\n",
    "+ Precision\n",
    "+ Recall\n",
    "+ F1 Score"
   ]
  },
  {
   "cell_type": "code",
   "execution_count": null,
   "metadata": {},
   "outputs": [],
   "source": [
    "# 분류 검증 분야\n",
    "\n",
    "# 암환자인가 아닌가 판단 = 이진분류\n",
    "\n",
    "#---------------------------------\n",
    "# 1000        정상판정     암판정\n",
    "#---------------------------------\n",
    "# 정상환자     988(TN)      2(FP)\n",
    "# 암환자         1(FN)      9(TP)\n",
    "#---------------------------------\n",
    "\n",
    "# 1000명중 정상환자만 골라냈을때 98.8% but 암환자의 data는 가져오지 못함. 이진법의 한계? 측정도구가 정확도로만 측정해서는 안된다\n",
    "# 정상환자 990, 암환자 10 데이터의 개수가 unbalance하다 / 그렇기에 여기서 정상환자만 보고서 정확도를 판단한다는것은 옳지않다\n",
    "# 편향될 수 밖에 없다 / 무엇을 기준으로 두느냐에 따라 평가가 달라질 수 있다 \n",
    "# 그렇기때문에 적합도 검정 진행함(Precision, Recall : 다른방향으로 측정하기 / 몇개 틀렸는지 보는 관점 -> F1 Score = Precision + Recall)\n",
    "\n",
    "# Index(정상환자, 암환자) : 실제입력값 / Column(정상판정, 암판정) : 예측값\n",
    "# 목적수단이 암환자를 검출하는 것이기 때문에 positive가 암환자 \n",
    "# TN(True Negative) : 음성을 음성이라고 잘 판단함 / TP(True Positive) : 양성을 양성이라고 잘 판단함\n",
    "# FN(False Negative) : 암환자인데 정상으로 판단 / FP(False Positive) : 정상인데 암환자로 판단\n",
    "\n",
    "# 데이터가 불균형하기 때문에 잘한쪽만 보면 안됨, 못한 쪽도 봐야함\n",
    "\n",
    "# Accuracy : (TN + TP) / all : 전체중에 True값이 몇개인가 / 대신 암환자의 검출 목적 상실됨\n",
    "# Precision(→) : TP / (TP + FP) : Positive중 True값이 몇개인가\n",
    "# Recall(↓) : TP / (TP + FN) : 암환자들중에 True값이 몇개인가 \n",
    "# -> 암검출을 얼마나 잘했는가에 대해서 알아보기\n",
    "# https://towardsdatascience.com/precision-vs-recall-386cf9f89488       참고! \n",
    "\n",
    "# 이모든것을 종합해서 보여주는 것이 => F1 score"
   ]
  },
  {
   "cell_type": "code",
   "execution_count": null,
   "metadata": {},
   "outputs": [],
   "source": [
    "# confusion_matrix.pdf\n",
    "\n",
    "# column : 예측값 / index : 지정값 / Precision(→)  / Recall(↓) \n",
    "# 대각선 : 잘맞춘값들\n",
    "# D,B의 1 = FP"
   ]
  },
  {
   "cell_type": "code",
   "execution_count": 49,
   "metadata": {},
   "outputs": [
    {
     "data": {
      "text/plain": [
       "<matplotlib.axes._subplots.AxesSubplot at 0xe2f6f48>"
      ]
     },
     "execution_count": 49,
     "metadata": {},
     "output_type": "execute_result"
    },
    {
     "data": {
      "image/png": "[encoded data removed]",
      "text/plain": [
       "<Figure size 432x360 with 2 Axes>"
      ]
     },
     "metadata": {
      "needs_background": "light"
     },
     "output_type": "display_data"
    }
   ],
   "source": [
    "# Confusion matrix without confusion\n",
    "\n",
    "arr = [[5, 0, 0, 0], \n",
    "       [0, 10, 0, 0], \n",
    "       [0, 0, 15, 0],\n",
    "       [0, 0, 0, 5]]\n",
    "\n",
    "df_cm = pd.DataFrame(arr, index=[i for i in \"ABCD\"], columns=[i for i in \"ABCD\"])\n",
    "df_cm\n",
    "\n",
    "plt.figure(figsize=(6, 5))\n",
    "sns.heatmap(df_cm, annot=True)"
   ]
  },
  {
   "cell_type": "code",
   "execution_count": 59,
   "metadata": {},
   "outputs": [
    {
     "data": {
      "text/html": [
       "<div>\n",
       "<style scoped>\n",
       "    .dataframe tbody tr th:only-of-type {\n",
       "        vertical-align: middle;\n",
       "    }\n",
       "\n",
       "    .dataframe tbody tr th {\n",
       "        vertical-align: top;\n",
       "    }\n",
       "\n",
       "    .dataframe thead th {\n",
       "        text-align: right;\n",
       "    }\n",
       "</style>\n",
       "<table border=\"1\" class=\"dataframe\">\n",
       "  <thead>\n",
       "    <tr style=\"text-align: right;\">\n",
       "      <th></th>\n",
       "      <th>A</th>\n",
       "      <th>B</th>\n",
       "      <th>C</th>\n",
       "      <th>D</th>\n",
       "    </tr>\n",
       "  </thead>\n",
       "  <tbody>\n",
       "    <tr>\n",
       "      <td>A</td>\n",
       "      <td>9</td>\n",
       "      <td>1</td>\n",
       "      <td>0</td>\n",
       "      <td>0</td>\n",
       "    </tr>\n",
       "    <tr>\n",
       "      <td>B</td>\n",
       "      <td>1</td>\n",
       "      <td>15</td>\n",
       "      <td>3</td>\n",
       "      <td>1</td>\n",
       "    </tr>\n",
       "    <tr>\n",
       "      <td>C</td>\n",
       "      <td>5</td>\n",
       "      <td>0</td>\n",
       "      <td>24</td>\n",
       "      <td>1</td>\n",
       "    </tr>\n",
       "    <tr>\n",
       "      <td>D</td>\n",
       "      <td>0</td>\n",
       "      <td>4</td>\n",
       "      <td>1</td>\n",
       "      <td>15</td>\n",
       "    </tr>\n",
       "  </tbody>\n",
       "</table>\n",
       "</div>"
      ],
      "text/plain": [
       "   A   B   C   D\n",
       "A  9   1   0   0\n",
       "B  1  15   3   1\n",
       "C  5   0  24   1\n",
       "D  0   4   1  15"
      ]
     },
     "execution_count": 59,
     "metadata": {},
     "output_type": "execute_result"
    }
   ],
   "source": [
    "# Confusion matrix with confusion\n",
    "# Confusion matrix without normalization\n",
    "\n",
    "arr = [[9, 1, 0, 0], \n",
    "       [1, 15, 3, 1], \n",
    "       [5, 0, 24, 1],\n",
    "       [0, 4, 1, 15]]\n",
    "\n",
    "df_cm = pd.DataFrame(arr, index=[i for i in \"ABCD\"], columns=[i for i in \"ABCD\"])\n",
    "df_cm\n",
    "\n",
    "# A 10개중 9개\n",
    "# B 20개중 15개\n",
    "# C 30개중 24개\n",
    "# D 20개중 15개\n",
    "# -> 개수가 다 다르므로 normalization 해줘야한다 "
   ]
  },
  {
   "cell_type": "code",
   "execution_count": 60,
   "metadata": {},
   "outputs": [
    {
     "data": {
      "text/plain": [
       "array([[0.9       , 0.1       , 0.        , 0.        ],\n",
       "       [0.05      , 0.75      , 0.15      , 0.05      ],\n",
       "       [0.16666667, 0.        , 0.8       , 0.03333333],\n",
       "       [0.        , 0.2       , 0.05      , 0.75      ]])"
      ]
     },
     "execution_count": 60,
     "metadata": {},
     "output_type": "execute_result"
    }
   ],
   "source": [
    "# 정규화\n",
    "\n",
    "total = np.sum(arr, axis=1) # 행기준\n",
    "total\n",
    "\n",
    "# 전체개수로 나눠주기\n",
    "arr = arr / total[:, None] # None : 특정위치로 제한하지않음\n",
    "arr\n",
    "\n",
    "# confusion_matrix.pdf파일 p.4 -> True Negative for A : A가 아닌것을 보고 A가 아니라고 잘 판정한것\n",
    "# confusion_matrix.pdf파일 p.4 -> False Positive for A : A인데 다르게 맞춘것들\n",
    "# confusion_matrix.pdf파일 p.5 -> False Negative for A : A가 아닌데 A라고 맞춘것들\n",
    "\n",
    "# confusion_matrix.pdf파일 p.6\n",
    "# Model1 : ABCD의 총개수가 10개씩으로 같으니 Accuracy로 판단해도됨...............음......그러 ㅎ구나..ㅎ\n",
    "# Model2 : ABCD의 총개수가 다를땐 Accuracy만 보면 안된다 \n",
    "\n",
    "# confusion_matrix.pdf파일 p.7\n",
    "# 조화평균 : h를 가지고 평균구하기\n",
    "# Precision 0.492\n",
    "# Recall 0.775\n",
    "# Precision, Recall 값 이용해서 F1 Score 측정하면 0.601"
   ]
  },
  {
   "cell_type": "code",
   "execution_count": 63,
   "metadata": {},
   "outputs": [
    {
     "data": {
      "text/plain": [
       "array([[2, 0, 0],\n",
       "       [0, 0, 1],\n",
       "       [1, 0, 2]], dtype=int64)"
      ]
     },
     "execution_count": 63,
     "metadata": {},
     "output_type": "execute_result"
    }
   ],
   "source": [
    "# 샘플 준비\n",
    "from sklearn.metrics import confusion_matrix\n",
    "\n",
    "y_true = [2, 0, 2, 2, 0, 1] # 실제값\n",
    "y_pred = [0, 0, 2, 2, 0, 2] # 예측값\n",
    "\n",
    "confusion_matrix(y_true, y_pred) # 총 4개 잘 맞춤 "
   ]
  },
  {
   "cell_type": "code",
   "execution_count": 68,
   "metadata": {},
   "outputs": [
    {
     "data": {
      "text/plain": [
       "array([[3, 1],\n",
       "       [0, 2]], dtype=int64)"
      ]
     },
     "execution_count": 68,
     "metadata": {},
     "output_type": "execute_result"
    }
   ],
   "source": [
    "# 샘플 준비\n",
    "y_true = [1, 0, 1, 1, 0, 1] # 실제값\n",
    "y_pred = [0, 0, 1, 1, 0, 1] # 예측값\n",
    "\n",
    "confusion_matrix(y_true, y_pred, labels=[1, 0]) # labels=[1, 0] : 인덱스 순서 바꿔주기 1, 0 "
   ]
  },
  {
   "cell_type": "code",
   "execution_count": 72,
   "metadata": {},
   "outputs": [
    {
     "name": "stdout",
     "output_type": "stream",
     "text": [
      "              precision    recall  f1-score   support\n",
      "\n",
      "     class 0       0.75      0.60      0.67         5\n",
      "     class 1       0.33      0.50      0.40         2\n",
      "\n",
      "    accuracy                           0.57         7\n",
      "   macro avg       0.54      0.55      0.53         7\n",
      "weighted avg       0.63      0.57      0.59         7\n",
      "\n"
     ]
    }
   ],
   "source": [
    "# 레포트처럼 요약해서 나타내줌\n",
    "from sklearn.metrics import classification_report\n",
    "# https://datascienceschool.net/view-notebook/731e0d2ef52c41c686ba53dcaf346f32/     참고\n",
    "\n",
    "y_true = [0, 0, 0, 1, 1, 0, 0]\n",
    "y_pred = [0, 0, 0, 0, 1, 1, 1]\n",
    "\n",
    "print(classification_report(y_true, y_pred, target_names=[\"class 0\", \"class 1\"]))\n",
    "# 자세한 계산결과까지 뽑아줌 "
   ]
  },
  {
   "cell_type": "code",
   "execution_count": 76,
   "metadata": {},
   "outputs": [],
   "source": [
    "# ROC curve(AOC)\n",
    "# 커브가 y쪽에 가깝게 휘어져있으면 좋은 성능을 갖는거라 볼수있음 \n",
    "\n",
    "# 내가 원하는 분류 샘플 만드는거\n",
    "from sklearn.datasets import make_classification\n",
    "\n",
    "X, y = make_classification(n_samples=1000, n_features=2, n_informative=2, n_redundant=0,\n",
    "                          random_state=0)"
   ]
  },
  {
   "cell_type": "code",
   "execution_count": 77,
   "metadata": {},
   "outputs": [
    {
     "name": "stderr",
     "output_type": "stream",
     "text": [
      "C:\\Users\\acorn\\Anaconda3\\lib\\site-packages\\sklearn\\linear_model\\logistic.py:432: FutureWarning: Default solver will be changed to 'lbfgs' in 0.22. Specify a solver to silence this warning.\n",
      "  FutureWarning)\n"
     ]
    }
   ],
   "source": [
    "model = LogisticRegression().fit(X, y)"
   ]
  },
  {
   "cell_type": "code",
   "execution_count": 78,
   "metadata": {},
   "outputs": [],
   "source": [
    "y_hat = model.predict(X)"
   ]
  },
  {
   "cell_type": "code",
   "execution_count": 79,
   "metadata": {},
   "outputs": [
    {
     "name": "stdout",
     "output_type": "stream",
     "text": [
      "[0 1 1 1 1 1 0 1 1 0 1 1 1 0 0 0 1 1 1 1 0 0 0 0 1 0 0 1 0 1 0 1 1 1 1 0 1\n",
      " 0 0 1]\n",
      "[0 1 1 1 1 1 0 1 1 0 1 1 1 0 0 0 1 1 1 1 0 0 0 0 0 0 0 1 0 1 0 1 1 1 1 0 1\n",
      " 0 0 1]\n"
     ]
    }
   ],
   "source": [
    "print(y_hat[:40]) # 예측\n",
    "print(y[:40]) # 실측"
   ]
  },
  {
   "cell_type": "code",
   "execution_count": 81,
   "metadata": {},
   "outputs": [
    {
     "data": {
      "text/plain": [
       "array([[477,  20],\n",
       "       [ 29, 474]], dtype=int64)"
      ]
     },
     "execution_count": 81,
     "metadata": {},
     "output_type": "execute_result"
    }
   ],
   "source": [
    "# 몇개가 맞았고 틀렸는지 confusion_matrix로 봐보기\n",
    "confusion_matrix(y, y_hat) # 0을 0이라고 맞춘게 477, 1을 1이라고 맞춘게 474"
   ]
  },
  {
   "cell_type": "code",
   "execution_count": 82,
   "metadata": {},
   "outputs": [
    {
     "name": "stdout",
     "output_type": "stream",
     "text": [
      "              precision    recall  f1-score   support\n",
      "\n",
      "     class 0       0.94      0.96      0.95       497\n",
      "     class 1       0.96      0.94      0.95       503\n",
      "\n",
      "    accuracy                           0.95      1000\n",
      "   macro avg       0.95      0.95      0.95      1000\n",
      "weighted avg       0.95      0.95      0.95      1000\n",
      "\n"
     ]
    }
   ],
   "source": [
    "print(classification_report(y, y_hat, target_names=[\"class 0\", \"class 1\"]))"
   ]
  },
  {
   "cell_type": "code",
   "execution_count": 88,
   "metadata": {},
   "outputs": [
    {
     "data": {
      "text/plain": [
       "Text(0, 0.5, 'True Positive Rate(Recall)')"
      ]
     },
     "execution_count": 88,
     "metadata": {},
     "output_type": "execute_result"
    },
    {
     "data": {
      "image/png": "[encoded data removed]",
      "text/plain": [
       "<Figure size 432x288 with 1 Axes>"
      ]
     },
     "metadata": {
      "needs_background": "light"
     },
     "output_type": "display_data"
    }
   ],
   "source": [
    "# 성능을 면적으로 나타내기\n",
    "from sklearn.metrics import roc_curve\n",
    "\n",
    "fpr, tpr, thresholds = roc_curve(y, model.decision_function(X))\n",
    "# 면적이 작을수록 성능이 떨어짐\n",
    "# y축에 가까워질수록 면적이 커짐 = 성능이 좋아짐 \n",
    "\n",
    "plt.plot(fpr, tpr, \"o\", label=\"Logistic Regression\")\n",
    "# curve선 자체가 y축에 상당히 가까움을 볼수있다 즉, 성능이 좋다 \n",
    "\n",
    "plt.plot([0, 1], [0, 1], \"k--\", label=\"random guess\")\n",
    "# 클래스 분류 2중분류이므로 [0, 1] / 다중분류 사용ㄴㄴ\n",
    "\n",
    "plt.xlabel(\"False Positive Rate(fall-out)\") # Precision = fall-out : 양성으로 잘못판단했다는 의미 \n",
    "plt.ylabel(\"True Positive Rate(Recall)\")"
   ]
  },
  {
   "cell_type": "markdown",
   "metadata": {},
   "source": [
    "### 사례1 : 타이타닉 예제\n",
    "\n",
    "+ 성능을 제대로 측정했는지에 대한 관점"
   ]
  },
  {
   "cell_type": "code",
   "execution_count": 131,
   "metadata": {},
   "outputs": [
    {
     "data": {
      "text/html": [
       "<div>\n",
       "<style scoped>\n",
       "    .dataframe tbody tr th:only-of-type {\n",
       "        vertical-align: middle;\n",
       "    }\n",
       "\n",
       "    .dataframe tbody tr th {\n",
       "        vertical-align: top;\n",
       "    }\n",
       "\n",
       "    .dataframe thead th {\n",
       "        text-align: right;\n",
       "    }\n",
       "</style>\n",
       "<table border=\"1\" class=\"dataframe\">\n",
       "  <thead>\n",
       "    <tr style=\"text-align: right;\">\n",
       "      <th></th>\n",
       "      <th>PassengerId</th>\n",
       "      <th>Survived</th>\n",
       "      <th>Pclass</th>\n",
       "      <th>Name</th>\n",
       "      <th>Sex</th>\n",
       "      <th>Age</th>\n",
       "      <th>SibSp</th>\n",
       "      <th>Parch</th>\n",
       "      <th>Ticket</th>\n",
       "      <th>Fare</th>\n",
       "      <th>Cabin</th>\n",
       "      <th>Embarked</th>\n",
       "    </tr>\n",
       "  </thead>\n",
       "  <tbody>\n",
       "    <tr>\n",
       "      <td>0</td>\n",
       "      <td>1</td>\n",
       "      <td>0</td>\n",
       "      <td>3</td>\n",
       "      <td>Braund, Mr. Owen Harris</td>\n",
       "      <td>male</td>\n",
       "      <td>22.0</td>\n",
       "      <td>1</td>\n",
       "      <td>0</td>\n",
       "      <td>A/5 21171</td>\n",
       "      <td>7.2500</td>\n",
       "      <td>NaN</td>\n",
       "      <td>S</td>\n",
       "    </tr>\n",
       "    <tr>\n",
       "      <td>1</td>\n",
       "      <td>2</td>\n",
       "      <td>1</td>\n",
       "      <td>1</td>\n",
       "      <td>Cumings, Mrs. John Bradley (Florence Briggs Th...</td>\n",
       "      <td>female</td>\n",
       "      <td>38.0</td>\n",
       "      <td>1</td>\n",
       "      <td>0</td>\n",
       "      <td>PC 17599</td>\n",
       "      <td>71.2833</td>\n",
       "      <td>C85</td>\n",
       "      <td>C</td>\n",
       "    </tr>\n",
       "    <tr>\n",
       "      <td>2</td>\n",
       "      <td>3</td>\n",
       "      <td>1</td>\n",
       "      <td>3</td>\n",
       "      <td>Heikkinen, Miss. Laina</td>\n",
       "      <td>female</td>\n",
       "      <td>26.0</td>\n",
       "      <td>0</td>\n",
       "      <td>0</td>\n",
       "      <td>STON/O2. 3101282</td>\n",
       "      <td>7.9250</td>\n",
       "      <td>NaN</td>\n",
       "      <td>S</td>\n",
       "    </tr>\n",
       "    <tr>\n",
       "      <td>3</td>\n",
       "      <td>4</td>\n",
       "      <td>1</td>\n",
       "      <td>1</td>\n",
       "      <td>Futrelle, Mrs. Jacques Heath (Lily May Peel)</td>\n",
       "      <td>female</td>\n",
       "      <td>35.0</td>\n",
       "      <td>1</td>\n",
       "      <td>0</td>\n",
       "      <td>113803</td>\n",
       "      <td>53.1000</td>\n",
       "      <td>C123</td>\n",
       "      <td>S</td>\n",
       "    </tr>\n",
       "    <tr>\n",
       "      <td>4</td>\n",
       "      <td>5</td>\n",
       "      <td>0</td>\n",
       "      <td>3</td>\n",
       "      <td>Allen, Mr. William Henry</td>\n",
       "      <td>male</td>\n",
       "      <td>35.0</td>\n",
       "      <td>0</td>\n",
       "      <td>0</td>\n",
       "      <td>373450</td>\n",
       "      <td>8.0500</td>\n",
       "      <td>NaN</td>\n",
       "      <td>S</td>\n",
       "    </tr>\n",
       "  </tbody>\n",
       "</table>\n",
       "</div>"
      ],
      "text/plain": [
       "   PassengerId  Survived  Pclass  \\\n",
       "0            1         0       3   \n",
       "1            2         1       1   \n",
       "2            3         1       3   \n",
       "3            4         1       1   \n",
       "4            5         0       3   \n",
       "\n",
       "                                                Name     Sex   Age  SibSp  \\\n",
       "0                            Braund, Mr. Owen Harris    male  22.0      1   \n",
       "1  Cumings, Mrs. John Bradley (Florence Briggs Th...  female  38.0      1   \n",
       "2                             Heikkinen, Miss. Laina  female  26.0      0   \n",
       "3       Futrelle, Mrs. Jacques Heath (Lily May Peel)  female  35.0      1   \n",
       "4                           Allen, Mr. William Henry    male  35.0      0   \n",
       "\n",
       "   Parch            Ticket     Fare Cabin Embarked  \n",
       "0      0         A/5 21171   7.2500   NaN        S  \n",
       "1      0          PC 17599  71.2833   C85        C  \n",
       "2      0  STON/O2. 3101282   7.9250   NaN        S  \n",
       "3      0            113803  53.1000  C123        S  \n",
       "4      0            373450   8.0500   NaN        S  "
      ]
     },
     "execution_count": 131,
     "metadata": {},
     "output_type": "execute_result"
    }
   ],
   "source": [
    "# 데이터를 불러오자요오오오오\n",
    "df = pd.read_csv(\"data/train.csv\")\n",
    "df.head()\n",
    "# Survived : 종속변수 / 나머지는 다 독립변수 \n",
    "# Pclass : 객실등급 / SibSp : 동승자수 / Parch : 배우자 or 부모님 / Cabin : 객실번호 / Embarked : 정박지명 "
   ]
  },
  {
   "cell_type": "code",
   "execution_count": 132,
   "metadata": {},
   "outputs": [],
   "source": [
    "# 전처리 : 기계에게는 숫자로 바꿔줘야함 \n",
    "# 그렇기에 전처리가 필요없는 컬럼만 따로 준비해주자 \n",
    "\n",
    "cols_to_keep = [\"Survived\", \"Age\", \"Fare\"]"
   ]
  },
  {
   "cell_type": "code",
   "execution_count": 133,
   "metadata": {},
   "outputs": [
    {
     "data": {
      "text/html": [
       "<div>\n",
       "<style scoped>\n",
       "    .dataframe tbody tr th:only-of-type {\n",
       "        vertical-align: middle;\n",
       "    }\n",
       "\n",
       "    .dataframe tbody tr th {\n",
       "        vertical-align: top;\n",
       "    }\n",
       "\n",
       "    .dataframe thead th {\n",
       "        text-align: right;\n",
       "    }\n",
       "</style>\n",
       "<table border=\"1\" class=\"dataframe\">\n",
       "  <thead>\n",
       "    <tr style=\"text-align: right;\">\n",
       "      <th></th>\n",
       "      <th>Pclass_1</th>\n",
       "      <th>Pclass_2</th>\n",
       "      <th>Pclass_3</th>\n",
       "    </tr>\n",
       "  </thead>\n",
       "  <tbody>\n",
       "    <tr>\n",
       "      <td>0</td>\n",
       "      <td>0</td>\n",
       "      <td>0</td>\n",
       "      <td>1</td>\n",
       "    </tr>\n",
       "    <tr>\n",
       "      <td>1</td>\n",
       "      <td>1</td>\n",
       "      <td>0</td>\n",
       "      <td>0</td>\n",
       "    </tr>\n",
       "    <tr>\n",
       "      <td>2</td>\n",
       "      <td>0</td>\n",
       "      <td>0</td>\n",
       "      <td>1</td>\n",
       "    </tr>\n",
       "    <tr>\n",
       "      <td>3</td>\n",
       "      <td>1</td>\n",
       "      <td>0</td>\n",
       "      <td>0</td>\n",
       "    </tr>\n",
       "    <tr>\n",
       "      <td>4</td>\n",
       "      <td>0</td>\n",
       "      <td>0</td>\n",
       "      <td>1</td>\n",
       "    </tr>\n",
       "  </tbody>\n",
       "</table>\n",
       "</div>"
      ],
      "text/plain": [
       "   Pclass_1  Pclass_2  Pclass_3\n",
       "0         0         0         1\n",
       "1         1         0         0\n",
       "2         0         0         1\n",
       "3         1         0         0\n",
       "4         0         0         1"
      ]
     },
     "execution_count": 133,
     "metadata": {},
     "output_type": "execute_result"
    }
   ],
   "source": [
    "# Pclass 숫자가 갖는 크기의 의미를 없애야한다 / 의미없는 값으로 풀어버려야함 \n",
    "# 그렇게 해주는 함수 불러오기\n",
    "\n",
    "dummy_class = pd.get_dummies(df[\"Pclass\"], prefix=\"Pclass\") # prefix : 컬럼의 이름을 구분할수있도록 \n",
    "dummy_class.head()"
   ]
  },
  {
   "cell_type": "code",
   "execution_count": 134,
   "metadata": {},
   "outputs": [
    {
     "data": {
      "text/html": [
       "<div>\n",
       "<style scoped>\n",
       "    .dataframe tbody tr th:only-of-type {\n",
       "        vertical-align: middle;\n",
       "    }\n",
       "\n",
       "    .dataframe tbody tr th {\n",
       "        vertical-align: top;\n",
       "    }\n",
       "\n",
       "    .dataframe thead th {\n",
       "        text-align: right;\n",
       "    }\n",
       "</style>\n",
       "<table border=\"1\" class=\"dataframe\">\n",
       "  <thead>\n",
       "    <tr style=\"text-align: right;\">\n",
       "      <th></th>\n",
       "      <th>Sex_female</th>\n",
       "      <th>Sex_male</th>\n",
       "    </tr>\n",
       "  </thead>\n",
       "  <tbody>\n",
       "    <tr>\n",
       "      <td>0</td>\n",
       "      <td>0</td>\n",
       "      <td>1</td>\n",
       "    </tr>\n",
       "    <tr>\n",
       "      <td>1</td>\n",
       "      <td>1</td>\n",
       "      <td>0</td>\n",
       "    </tr>\n",
       "    <tr>\n",
       "      <td>2</td>\n",
       "      <td>1</td>\n",
       "      <td>0</td>\n",
       "    </tr>\n",
       "    <tr>\n",
       "      <td>3</td>\n",
       "      <td>1</td>\n",
       "      <td>0</td>\n",
       "    </tr>\n",
       "    <tr>\n",
       "      <td>4</td>\n",
       "      <td>0</td>\n",
       "      <td>1</td>\n",
       "    </tr>\n",
       "    <tr>\n",
       "      <td>...</td>\n",
       "      <td>...</td>\n",
       "      <td>...</td>\n",
       "    </tr>\n",
       "    <tr>\n",
       "      <td>886</td>\n",
       "      <td>0</td>\n",
       "      <td>1</td>\n",
       "    </tr>\n",
       "    <tr>\n",
       "      <td>887</td>\n",
       "      <td>1</td>\n",
       "      <td>0</td>\n",
       "    </tr>\n",
       "    <tr>\n",
       "      <td>888</td>\n",
       "      <td>1</td>\n",
       "      <td>0</td>\n",
       "    </tr>\n",
       "    <tr>\n",
       "      <td>889</td>\n",
       "      <td>0</td>\n",
       "      <td>1</td>\n",
       "    </tr>\n",
       "    <tr>\n",
       "      <td>890</td>\n",
       "      <td>0</td>\n",
       "      <td>1</td>\n",
       "    </tr>\n",
       "  </tbody>\n",
       "</table>\n",
       "<p>891 rows × 2 columns</p>\n",
       "</div>"
      ],
      "text/plain": [
       "     Sex_female  Sex_male\n",
       "0             0         1\n",
       "1             1         0\n",
       "2             1         0\n",
       "3             1         0\n",
       "4             0         1\n",
       "..          ...       ...\n",
       "886           0         1\n",
       "887           1         0\n",
       "888           1         0\n",
       "889           0         1\n",
       "890           0         1\n",
       "\n",
       "[891 rows x 2 columns]"
      ]
     },
     "execution_count": 134,
     "metadata": {},
     "output_type": "execute_result"
    }
   ],
   "source": [
    "# 성별도 전처리 진행\n",
    "dummy_sex = pd.get_dummies(df[\"Sex\"], prefix=\"Sex\")\n",
    "dummy_sex\n",
    "\n",
    "# dummies 무조건 종류에 따라 컬럼으로 나눠버린다 "
   ]
  },
  {
   "cell_type": "code",
   "execution_count": 135,
   "metadata": {},
   "outputs": [
    {
     "data": {
      "text/html": [
       "<div>\n",
       "<style scoped>\n",
       "    .dataframe tbody tr th:only-of-type {\n",
       "        vertical-align: middle;\n",
       "    }\n",
       "\n",
       "    .dataframe tbody tr th {\n",
       "        vertical-align: top;\n",
       "    }\n",
       "\n",
       "    .dataframe thead th {\n",
       "        text-align: right;\n",
       "    }\n",
       "</style>\n",
       "<table border=\"1\" class=\"dataframe\">\n",
       "  <thead>\n",
       "    <tr style=\"text-align: right;\">\n",
       "      <th></th>\n",
       "      <th>Survived</th>\n",
       "      <th>Age</th>\n",
       "      <th>Fare</th>\n",
       "      <th>Pclass_1</th>\n",
       "      <th>Pclass_2</th>\n",
       "      <th>Pclass_3</th>\n",
       "    </tr>\n",
       "  </thead>\n",
       "  <tbody>\n",
       "    <tr>\n",
       "      <td>0</td>\n",
       "      <td>0</td>\n",
       "      <td>22.0</td>\n",
       "      <td>7.2500</td>\n",
       "      <td>0</td>\n",
       "      <td>0</td>\n",
       "      <td>1</td>\n",
       "    </tr>\n",
       "    <tr>\n",
       "      <td>1</td>\n",
       "      <td>1</td>\n",
       "      <td>38.0</td>\n",
       "      <td>71.2833</td>\n",
       "      <td>1</td>\n",
       "      <td>0</td>\n",
       "      <td>0</td>\n",
       "    </tr>\n",
       "    <tr>\n",
       "      <td>2</td>\n",
       "      <td>1</td>\n",
       "      <td>26.0</td>\n",
       "      <td>7.9250</td>\n",
       "      <td>0</td>\n",
       "      <td>0</td>\n",
       "      <td>1</td>\n",
       "    </tr>\n",
       "    <tr>\n",
       "      <td>3</td>\n",
       "      <td>1</td>\n",
       "      <td>35.0</td>\n",
       "      <td>53.1000</td>\n",
       "      <td>1</td>\n",
       "      <td>0</td>\n",
       "      <td>0</td>\n",
       "    </tr>\n",
       "    <tr>\n",
       "      <td>4</td>\n",
       "      <td>0</td>\n",
       "      <td>35.0</td>\n",
       "      <td>8.0500</td>\n",
       "      <td>0</td>\n",
       "      <td>0</td>\n",
       "      <td>1</td>\n",
       "    </tr>\n",
       "  </tbody>\n",
       "</table>\n",
       "</div>"
      ],
      "text/plain": [
       "   Survived   Age     Fare  Pclass_1  Pclass_2  Pclass_3\n",
       "0         0  22.0   7.2500         0         0         1\n",
       "1         1  38.0  71.2833         1         0         0\n",
       "2         1  26.0   7.9250         0         0         1\n",
       "3         1  35.0  53.1000         1         0         0\n",
       "4         0  35.0   8.0500         0         0         1"
      ]
     },
     "execution_count": 135,
     "metadata": {},
     "output_type": "execute_result"
    }
   ],
   "source": [
    "df1 = df[cols_to_keep].join(dummy_class.loc[:, \"Pclass_1\":])\n",
    "df1.head()"
   ]
  },
  {
   "cell_type": "code",
   "execution_count": 136,
   "metadata": {},
   "outputs": [
    {
     "data": {
      "text/html": [
       "<div>\n",
       "<style scoped>\n",
       "    .dataframe tbody tr th:only-of-type {\n",
       "        vertical-align: middle;\n",
       "    }\n",
       "\n",
       "    .dataframe tbody tr th {\n",
       "        vertical-align: top;\n",
       "    }\n",
       "\n",
       "    .dataframe thead th {\n",
       "        text-align: right;\n",
       "    }\n",
       "</style>\n",
       "<table border=\"1\" class=\"dataframe\">\n",
       "  <thead>\n",
       "    <tr style=\"text-align: right;\">\n",
       "      <th></th>\n",
       "      <th>Survived</th>\n",
       "      <th>Age</th>\n",
       "      <th>Fare</th>\n",
       "      <th>Pclass_1</th>\n",
       "      <th>Pclass_2</th>\n",
       "      <th>Pclass_3</th>\n",
       "      <th>Sex_male</th>\n",
       "    </tr>\n",
       "  </thead>\n",
       "  <tbody>\n",
       "    <tr>\n",
       "      <td>0</td>\n",
       "      <td>0</td>\n",
       "      <td>22.0</td>\n",
       "      <td>7.2500</td>\n",
       "      <td>0</td>\n",
       "      <td>0</td>\n",
       "      <td>1</td>\n",
       "      <td>1</td>\n",
       "    </tr>\n",
       "    <tr>\n",
       "      <td>1</td>\n",
       "      <td>1</td>\n",
       "      <td>38.0</td>\n",
       "      <td>71.2833</td>\n",
       "      <td>1</td>\n",
       "      <td>0</td>\n",
       "      <td>0</td>\n",
       "      <td>0</td>\n",
       "    </tr>\n",
       "    <tr>\n",
       "      <td>2</td>\n",
       "      <td>1</td>\n",
       "      <td>26.0</td>\n",
       "      <td>7.9250</td>\n",
       "      <td>0</td>\n",
       "      <td>0</td>\n",
       "      <td>1</td>\n",
       "      <td>0</td>\n",
       "    </tr>\n",
       "    <tr>\n",
       "      <td>3</td>\n",
       "      <td>1</td>\n",
       "      <td>35.0</td>\n",
       "      <td>53.1000</td>\n",
       "      <td>1</td>\n",
       "      <td>0</td>\n",
       "      <td>0</td>\n",
       "      <td>0</td>\n",
       "    </tr>\n",
       "    <tr>\n",
       "      <td>4</td>\n",
       "      <td>0</td>\n",
       "      <td>35.0</td>\n",
       "      <td>8.0500</td>\n",
       "      <td>0</td>\n",
       "      <td>0</td>\n",
       "      <td>1</td>\n",
       "      <td>1</td>\n",
       "    </tr>\n",
       "  </tbody>\n",
       "</table>\n",
       "</div>"
      ],
      "text/plain": [
       "   Survived   Age     Fare  Pclass_1  Pclass_2  Pclass_3  Sex_male\n",
       "0         0  22.0   7.2500         0         0         1         1\n",
       "1         1  38.0  71.2833         1         0         0         0\n",
       "2         1  26.0   7.9250         0         0         1         0\n",
       "3         1  35.0  53.1000         1         0         0         0\n",
       "4         0  35.0   8.0500         0         0         1         1"
      ]
     },
     "execution_count": 136,
     "metadata": {},
     "output_type": "execute_result"
    }
   ],
   "source": [
    "df1 = df1.join(dummy_sex.loc[:, \"Sex_male\"])\n",
    "df1.head()"
   ]
  },
  {
   "cell_type": "code",
   "execution_count": 137,
   "metadata": {},
   "outputs": [
    {
     "data": {
      "text/plain": [
       "Index(['Age', 'Fare', 'Pclass_1', 'Pclass_2', 'Pclass_3', 'Sex_male'], dtype='object')"
      ]
     },
     "execution_count": 137,
     "metadata": {},
     "output_type": "execute_result"
    }
   ],
   "source": [
    "# Survived를 제외한 나머지 컬럼 추출\n",
    "train_cols = df1.columns[1:] \n",
    "train_cols"
   ]
  },
  {
   "cell_type": "code",
   "execution_count": 138,
   "metadata": {},
   "outputs": [],
   "source": [
    "# 결측치 확인\n",
    "np.isnan(df1[train_cols])\n",
    "\n",
    "# 결측치 처리\n",
    "#--------------\n",
    "\n",
    "# 결측치 삭제하는 방법\n",
    "# df1[train_cols] = df1[train_cols].dropna(axis=0)\n",
    "# df1[\"Survived\"] = df1[\"Survived\"].dropna(axis=0)\n",
    "\n",
    "# 결측치 0으로 대체\n",
    "df1[train_cols] = df1[train_cols].fillna(0)\n",
    "df1[\"Survived\"] = df1[\"Survived\"].fillna(0)\n",
    "\n",
    "# => 지금까지 sklearn에 있는걸로 했다"
   ]
  },
  {
   "cell_type": "code",
   "execution_count": 139,
   "metadata": {},
   "outputs": [
    {
     "name": "stdout",
     "output_type": "stream",
     "text": [
      "Optimization terminated successfully.\n",
      "         Current function value: 0.458488\n",
      "         Iterations 6\n"
     ]
    },
    {
     "data": {
      "text/html": [
       "<table class=\"simpletable\">\n",
       "<tr>\n",
       "        <td>Model:</td>              <td>Logit</td>      <td>Pseudo R-squared:</td>    <td>0.311</td>  \n",
       "</tr>\n",
       "<tr>\n",
       "  <td>Dependent Variable:</td>     <td>Survived</td>           <td>AIC:</td>         <td>829.0250</td> \n",
       "</tr>\n",
       "<tr>\n",
       "         <td>Date:</td>        <td>2020-02-13 14:57</td>       <td>BIC:</td>         <td>857.7791</td> \n",
       "</tr>\n",
       "<tr>\n",
       "   <td>No. Observations:</td>         <td>891</td>        <td>Log-Likelihood:</td>    <td>-408.51</td> \n",
       "</tr>\n",
       "<tr>\n",
       "       <td>Df Model:</td>              <td>5</td>            <td>LL-Null:</td>        <td>-593.33</td> \n",
       "</tr>\n",
       "<tr>\n",
       "     <td>Df Residuals:</td>           <td>885</td>         <td>LLR p-value:</td>    <td>1.0371e-77</td>\n",
       "</tr>\n",
       "<tr>\n",
       "      <td>Converged:</td>           <td>1.0000</td>           <td>Scale:</td>         <td>1.0000</td>  \n",
       "</tr>\n",
       "<tr>\n",
       "    <td>No. Iterations:</td>        <td>6.0000</td>              <td></td>               <td></td>     \n",
       "</tr>\n",
       "</table>\n",
       "<table class=\"simpletable\">\n",
       "<tr>\n",
       "      <td></td>      <th>Coef.</th>  <th>Std.Err.</th>     <th>z</th>     <th>P>|z|</th> <th>[0.025</th>  <th>0.975]</th> \n",
       "</tr>\n",
       "<tr>\n",
       "  <th>Age</th>      <td>-0.0159</td>  <td>0.0053</td>   <td>-2.9843</td> <td>0.0028</td> <td>-0.0264</td> <td>-0.0055</td>\n",
       "</tr>\n",
       "<tr>\n",
       "  <th>Fare</th>     <td>0.0015</td>   <td>0.0021</td>   <td>0.7370</td>  <td>0.4611</td> <td>-0.0026</td> <td>0.0056</td> \n",
       "</tr>\n",
       "<tr>\n",
       "  <th>Pclass_1</th> <td>2.6932</td>   <td>0.3372</td>   <td>7.9875</td>  <td>0.0000</td> <td>2.0323</td>  <td>3.3540</td> \n",
       "</tr>\n",
       "<tr>\n",
       "  <th>Pclass_2</th> <td>1.8519</td>   <td>0.2670</td>   <td>6.9358</td>  <td>0.0000</td> <td>1.3286</td>  <td>2.3752</td> \n",
       "</tr>\n",
       "<tr>\n",
       "  <th>Pclass_3</th> <td>0.6215</td>   <td>0.1808</td>   <td>3.4377</td>  <td>0.0006</td> <td>0.2672</td>  <td>0.9758</td> \n",
       "</tr>\n",
       "<tr>\n",
       "  <th>Sex_male</th> <td>-2.6151</td>  <td>0.1860</td>  <td>-14.0594</td> <td>0.0000</td> <td>-2.9797</td> <td>-2.2505</td>\n",
       "</tr>\n",
       "</table>"
      ],
      "text/plain": [
       "<class 'statsmodels.iolib.summary2.Summary'>\n",
       "\"\"\"\n",
       "                         Results: Logit\n",
       "=================================================================\n",
       "Model:              Logit            Pseudo R-squared: 0.311     \n",
       "Dependent Variable: Survived         AIC:              829.0250  \n",
       "Date:               2020-02-13 14:57 BIC:              857.7791  \n",
       "No. Observations:   891              Log-Likelihood:   -408.51   \n",
       "Df Model:           5                LL-Null:          -593.33   \n",
       "Df Residuals:       885              LLR p-value:      1.0371e-77\n",
       "Converged:          1.0000           Scale:            1.0000    \n",
       "No. Iterations:     6.0000                                       \n",
       "------------------------------------------------------------------\n",
       "              Coef.   Std.Err.     z      P>|z|    [0.025   0.975]\n",
       "------------------------------------------------------------------\n",
       "Age          -0.0159    0.0053   -2.9843  0.0028  -0.0264  -0.0055\n",
       "Fare          0.0015    0.0021    0.7370  0.4611  -0.0026   0.0056\n",
       "Pclass_1      2.6932    0.3372    7.9875  0.0000   2.0323   3.3540\n",
       "Pclass_2      1.8519    0.2670    6.9358  0.0000   1.3286   2.3752\n",
       "Pclass_3      0.6215    0.1808    3.4377  0.0006   0.2672   0.9758\n",
       "Sex_male     -2.6151    0.1860  -14.0594  0.0000  -2.9797  -2.2505\n",
       "=================================================================\n",
       "\n",
       "\"\"\""
      ]
     },
     "execution_count": 139,
     "metadata": {},
     "output_type": "execute_result"
    }
   ],
   "source": [
    "# 분석한 결과에 대해 통계자료 쉽게 뽑아내는 패키지 \n",
    "import statsmodels.api as sm\n",
    "\n",
    "# 통계자료 자세하게 뽑아줌\n",
    "model = sm.Logit(df1[\"Survived\"], df1[train_cols]).fit() # 종속변수, 독립변수 \n",
    "model.summary2()\n",
    "\n",
    "\n",
    "# 독립변수에 따른 생존률 알아보기 \n",
    "# Age.Coef_ : 음수값 : 나이가 많을수록 생존을 못하고있음을 알려줌  / 어릴수록 생존률 높음\n",
    "# Fare.Coef_ : 양수값 : 요금이 높을수록 생존률이 더 높음을 알수있다 \n",
    "# Pclass_1.Coef_ : 1 > 2 > 3 : 1등급 객실 승객들의 생존률이 높음을 알수있다\n",
    "# Sex_male.Coef_ : 음수값 : 여성의 생존률이 더 높음"
   ]
  },
  {
   "cell_type": "code",
   "execution_count": 141,
   "metadata": {},
   "outputs": [
    {
     "name": "stderr",
     "output_type": "stream",
     "text": [
      "C:\\Users\\acorn\\Anaconda3\\lib\\site-packages\\sklearn\\linear_model\\logistic.py:432: FutureWarning: Default solver will be changed to 'lbfgs' in 0.22. Specify a solver to silence this warning.\n",
      "  FutureWarning)\n"
     ]
    }
   ],
   "source": [
    "# 훈련시키기\n",
    "model2 = LogisticRegression().fit(df1[train_cols], df1[\"Survived\"])"
   ]
  },
  {
   "cell_type": "code",
   "execution_count": 144,
   "metadata": {},
   "outputs": [
    {
     "data": {
      "text/html": [
       "<div>\n",
       "<style scoped>\n",
       "    .dataframe tbody tr th:only-of-type {\n",
       "        vertical-align: middle;\n",
       "    }\n",
       "\n",
       "    .dataframe tbody tr th {\n",
       "        vertical-align: top;\n",
       "    }\n",
       "\n",
       "    .dataframe thead th {\n",
       "        text-align: right;\n",
       "    }\n",
       "</style>\n",
       "<table border=\"1\" class=\"dataframe\">\n",
       "  <thead>\n",
       "    <tr style=\"text-align: right;\">\n",
       "      <th></th>\n",
       "      <th>Survived</th>\n",
       "      <th>Age</th>\n",
       "      <th>Fare</th>\n",
       "      <th>Pclass_1</th>\n",
       "      <th>Pclass_2</th>\n",
       "      <th>Pclass_3</th>\n",
       "      <th>Sex_male</th>\n",
       "      <th>predict</th>\n",
       "    </tr>\n",
       "  </thead>\n",
       "  <tbody>\n",
       "    <tr>\n",
       "      <td>0</td>\n",
       "      <td>0</td>\n",
       "      <td>22.0</td>\n",
       "      <td>7.2500</td>\n",
       "      <td>0</td>\n",
       "      <td>0</td>\n",
       "      <td>1</td>\n",
       "      <td>1</td>\n",
       "      <td>0</td>\n",
       "    </tr>\n",
       "    <tr>\n",
       "      <td>1</td>\n",
       "      <td>1</td>\n",
       "      <td>38.0</td>\n",
       "      <td>71.2833</td>\n",
       "      <td>1</td>\n",
       "      <td>0</td>\n",
       "      <td>0</td>\n",
       "      <td>0</td>\n",
       "      <td>1</td>\n",
       "    </tr>\n",
       "    <tr>\n",
       "      <td>2</td>\n",
       "      <td>1</td>\n",
       "      <td>26.0</td>\n",
       "      <td>7.9250</td>\n",
       "      <td>0</td>\n",
       "      <td>0</td>\n",
       "      <td>1</td>\n",
       "      <td>0</td>\n",
       "      <td>1</td>\n",
       "    </tr>\n",
       "    <tr>\n",
       "      <td>3</td>\n",
       "      <td>1</td>\n",
       "      <td>35.0</td>\n",
       "      <td>53.1000</td>\n",
       "      <td>1</td>\n",
       "      <td>0</td>\n",
       "      <td>0</td>\n",
       "      <td>0</td>\n",
       "      <td>1</td>\n",
       "    </tr>\n",
       "    <tr>\n",
       "      <td>4</td>\n",
       "      <td>0</td>\n",
       "      <td>35.0</td>\n",
       "      <td>8.0500</td>\n",
       "      <td>0</td>\n",
       "      <td>0</td>\n",
       "      <td>1</td>\n",
       "      <td>1</td>\n",
       "      <td>0</td>\n",
       "    </tr>\n",
       "    <tr>\n",
       "      <td>5</td>\n",
       "      <td>0</td>\n",
       "      <td>0.0</td>\n",
       "      <td>8.4583</td>\n",
       "      <td>0</td>\n",
       "      <td>0</td>\n",
       "      <td>1</td>\n",
       "      <td>1</td>\n",
       "      <td>0</td>\n",
       "    </tr>\n",
       "    <tr>\n",
       "      <td>6</td>\n",
       "      <td>0</td>\n",
       "      <td>54.0</td>\n",
       "      <td>51.8625</td>\n",
       "      <td>1</td>\n",
       "      <td>0</td>\n",
       "      <td>0</td>\n",
       "      <td>1</td>\n",
       "      <td>0</td>\n",
       "    </tr>\n",
       "    <tr>\n",
       "      <td>7</td>\n",
       "      <td>0</td>\n",
       "      <td>2.0</td>\n",
       "      <td>21.0750</td>\n",
       "      <td>0</td>\n",
       "      <td>0</td>\n",
       "      <td>1</td>\n",
       "      <td>1</td>\n",
       "      <td>0</td>\n",
       "    </tr>\n",
       "    <tr>\n",
       "      <td>8</td>\n",
       "      <td>1</td>\n",
       "      <td>27.0</td>\n",
       "      <td>11.1333</td>\n",
       "      <td>0</td>\n",
       "      <td>0</td>\n",
       "      <td>1</td>\n",
       "      <td>0</td>\n",
       "      <td>1</td>\n",
       "    </tr>\n",
       "    <tr>\n",
       "      <td>9</td>\n",
       "      <td>1</td>\n",
       "      <td>14.0</td>\n",
       "      <td>30.0708</td>\n",
       "      <td>0</td>\n",
       "      <td>1</td>\n",
       "      <td>0</td>\n",
       "      <td>0</td>\n",
       "      <td>1</td>\n",
       "    </tr>\n",
       "    <tr>\n",
       "      <td>10</td>\n",
       "      <td>1</td>\n",
       "      <td>4.0</td>\n",
       "      <td>16.7000</td>\n",
       "      <td>0</td>\n",
       "      <td>0</td>\n",
       "      <td>1</td>\n",
       "      <td>0</td>\n",
       "      <td>1</td>\n",
       "    </tr>\n",
       "    <tr>\n",
       "      <td>11</td>\n",
       "      <td>1</td>\n",
       "      <td>58.0</td>\n",
       "      <td>26.5500</td>\n",
       "      <td>1</td>\n",
       "      <td>0</td>\n",
       "      <td>0</td>\n",
       "      <td>0</td>\n",
       "      <td>1</td>\n",
       "    </tr>\n",
       "    <tr>\n",
       "      <td>12</td>\n",
       "      <td>0</td>\n",
       "      <td>20.0</td>\n",
       "      <td>8.0500</td>\n",
       "      <td>0</td>\n",
       "      <td>0</td>\n",
       "      <td>1</td>\n",
       "      <td>1</td>\n",
       "      <td>0</td>\n",
       "    </tr>\n",
       "    <tr>\n",
       "      <td>13</td>\n",
       "      <td>0</td>\n",
       "      <td>39.0</td>\n",
       "      <td>31.2750</td>\n",
       "      <td>0</td>\n",
       "      <td>0</td>\n",
       "      <td>1</td>\n",
       "      <td>1</td>\n",
       "      <td>0</td>\n",
       "    </tr>\n",
       "    <tr>\n",
       "      <td>14</td>\n",
       "      <td>0</td>\n",
       "      <td>14.0</td>\n",
       "      <td>7.8542</td>\n",
       "      <td>0</td>\n",
       "      <td>0</td>\n",
       "      <td>1</td>\n",
       "      <td>0</td>\n",
       "      <td>1</td>\n",
       "    </tr>\n",
       "  </tbody>\n",
       "</table>\n",
       "</div>"
      ],
      "text/plain": [
       "    Survived   Age     Fare  Pclass_1  Pclass_2  Pclass_3  Sex_male  predict\n",
       "0          0  22.0   7.2500         0         0         1         1        0\n",
       "1          1  38.0  71.2833         1         0         0         0        1\n",
       "2          1  26.0   7.9250         0         0         1         0        1\n",
       "3          1  35.0  53.1000         1         0         0         0        1\n",
       "4          0  35.0   8.0500         0         0         1         1        0\n",
       "5          0   0.0   8.4583         0         0         1         1        0\n",
       "6          0  54.0  51.8625         1         0         0         1        0\n",
       "7          0   2.0  21.0750         0         0         1         1        0\n",
       "8          1  27.0  11.1333         0         0         1         0        1\n",
       "9          1  14.0  30.0708         0         1         0         0        1\n",
       "10         1   4.0  16.7000         0         0         1         0        1\n",
       "11         1  58.0  26.5500         1         0         0         0        1\n",
       "12         0  20.0   8.0500         0         0         1         1        0\n",
       "13         0  39.0  31.2750         0         0         1         1        0\n",
       "14         0  14.0   7.8542         0         0         1         0        1"
      ]
     },
     "execution_count": 144,
     "metadata": {},
     "output_type": "execute_result"
    }
   ],
   "source": [
    "# 훈련받은 데이터로 예측값 넣기\n",
    "df1[\"predict\"] = model2.predict(df1[train_cols])\n",
    "df1.head(15)\n",
    "\n",
    "# Survived 실제값 / predict 예측값 -> 비교해보기\n",
    "# 훈련받은걸로 test해도 틀린값이 있음을 볼수있다 "
   ]
  },
  {
   "cell_type": "code",
   "execution_count": 146,
   "metadata": {},
   "outputs": [
    {
     "data": {
      "text/plain": [
       "array([[242, 100],\n",
       "       [ 91, 458]], dtype=int64)"
      ]
     },
     "execution_count": 146,
     "metadata": {},
     "output_type": "execute_result"
    }
   ],
   "source": [
    "# confusion_matrix로 몇개를 맞췄고 틀렸는지 알아보기\n",
    "confusion_matrix(df1[\"Survived\"], df1[\"predict\"], labels=[1, 0])"
   ]
  },
  {
   "cell_type": "code",
   "execution_count": 149,
   "metadata": {},
   "outputs": [
    {
     "name": "stdout",
     "output_type": "stream",
     "text": [
      "정확도 :  0.7856341189674523\n",
      "정확도 :  0.7856341189674523\n"
     ]
    }
   ],
   "source": [
    "# Accuracy 정확도\n",
    "print(\"정확도 : \", model2.score(df1[train_cols], df1[\"Survived\"]))\n",
    "print(\"정확도 : \", (242+458)/(242+100+91+458))\n",
    "  # Accuracy만 보고 판단하면 안된다... 왜? 음.....음...\n",
    "  # 모.. 같은 개수가 아니라서 Accuracy만 봐서는 안된다...그래서 classification_report 사용해보자.."
   ]
  },
  {
   "cell_type": "code",
   "execution_count": 151,
   "metadata": {},
   "outputs": [
    {
     "name": "stdout",
     "output_type": "stream",
     "text": [
      "              precision    recall  f1-score   support\n",
      "\n",
      "     class 0       0.82      0.83      0.83       549\n",
      "     class 1       0.73      0.71      0.72       342\n",
      "\n",
      "    accuracy                           0.79       891\n",
      "   macro avg       0.77      0.77      0.77       891\n",
      "weighted avg       0.78      0.79      0.79       891\n",
      "\n"
     ]
    }
   ],
   "source": [
    "print(classification_report(df1[\"Survived\"], df1[\"predict\"], target_names=[\"class 0\", \"class 1\"]))\n",
    "# 그렇지만... classification_report로 뽑아도 accuracy는 79%이다!!!!!!!!!!"
   ]
  },
  {
   "cell_type": "code",
   "execution_count": 154,
   "metadata": {},
   "outputs": [
    {
     "data": {
      "text/plain": [
       "Text(0, 0.5, 'True Positive Rate(Recall)')"
      ]
     },
     "execution_count": 154,
     "metadata": {},
     "output_type": "execute_result"
    },
    {
     "data": {
      "image/png": "[encoded data removed]",
      "text/plain": [
       "<Figure size 432x288 with 1 Axes>"
      ]
     },
     "metadata": {
      "needs_background": "light"
     },
     "output_type": "display_data"
    }
   ],
   "source": [
    "# 성능을 면적으로 나타내기\n",
    "from sklearn.metrics import roc_curve\n",
    "\n",
    "fpr, tpr, thresholds = roc_curve(df1[\"Survived\"], model2.decision_function(df1[train_cols]))\n",
    "\n",
    "plt.plot(fpr, tpr, \"o\", label=\"Logistic Regression\")\n",
    "\n",
    "plt.plot([0, 1], [0, 1], \"k--\", label=\"random guess\")\n",
    "# 클래스 분류 2중분류(죽었는지 살았는지)이므로 [0, 1] / 다중분류 사용ㄴㄴ\n",
    "\n",
    "plt.xlabel(\"False Positive Rate(fall-out)\") # Precision = fall-out : 양성으로 잘못판단했다는 의미 \n",
    "plt.ylabel(\"True Positive Rate(Recall)\")"
   ]
  },
  {
   "cell_type": "markdown",
   "metadata": {},
   "source": [
    "### 사례2 : Cancer\n",
    "+ 좋은 성능을 낼 방법에 대한 관점"
   ]
  },
  {
   "cell_type": "code",
   "execution_count": 172,
   "metadata": {},
   "outputs": [],
   "source": [
    "# 유방암 데이터 가져오기\n",
    "from sklearn.datasets import load_breast_cancer\n",
    "cancer = load_breast_cancer()"
   ]
  },
  {
   "cell_type": "code",
   "execution_count": 173,
   "metadata": {},
   "outputs": [
    {
     "data": {
      "text/html": [
       "<div>\n",
       "<style scoped>\n",
       "    .dataframe tbody tr th:only-of-type {\n",
       "        vertical-align: middle;\n",
       "    }\n",
       "\n",
       "    .dataframe tbody tr th {\n",
       "        vertical-align: top;\n",
       "    }\n",
       "\n",
       "    .dataframe thead th {\n",
       "        text-align: right;\n",
       "    }\n",
       "</style>\n",
       "<table border=\"1\" class=\"dataframe\">\n",
       "  <thead>\n",
       "    <tr style=\"text-align: right;\">\n",
       "      <th></th>\n",
       "      <th>mean radius</th>\n",
       "      <th>mean texture</th>\n",
       "      <th>mean perimeter</th>\n",
       "      <th>mean area</th>\n",
       "      <th>mean smoothness</th>\n",
       "      <th>mean compactness</th>\n",
       "      <th>mean concavity</th>\n",
       "      <th>mean concave points</th>\n",
       "      <th>mean symmetry</th>\n",
       "      <th>mean fractal dimension</th>\n",
       "      <th>...</th>\n",
       "      <th>worst radius</th>\n",
       "      <th>worst texture</th>\n",
       "      <th>worst perimeter</th>\n",
       "      <th>worst area</th>\n",
       "      <th>worst smoothness</th>\n",
       "      <th>worst compactness</th>\n",
       "      <th>worst concavity</th>\n",
       "      <th>worst concave points</th>\n",
       "      <th>worst symmetry</th>\n",
       "      <th>worst fractal dimension</th>\n",
       "    </tr>\n",
       "  </thead>\n",
       "  <tbody>\n",
       "    <tr>\n",
       "      <td>0</td>\n",
       "      <td>17.99</td>\n",
       "      <td>10.38</td>\n",
       "      <td>122.80</td>\n",
       "      <td>1001.0</td>\n",
       "      <td>0.11840</td>\n",
       "      <td>0.27760</td>\n",
       "      <td>0.3001</td>\n",
       "      <td>0.14710</td>\n",
       "      <td>0.2419</td>\n",
       "      <td>0.07871</td>\n",
       "      <td>...</td>\n",
       "      <td>25.38</td>\n",
       "      <td>17.33</td>\n",
       "      <td>184.60</td>\n",
       "      <td>2019.0</td>\n",
       "      <td>0.1622</td>\n",
       "      <td>0.6656</td>\n",
       "      <td>0.7119</td>\n",
       "      <td>0.2654</td>\n",
       "      <td>0.4601</td>\n",
       "      <td>0.11890</td>\n",
       "    </tr>\n",
       "    <tr>\n",
       "      <td>1</td>\n",
       "      <td>20.57</td>\n",
       "      <td>17.77</td>\n",
       "      <td>132.90</td>\n",
       "      <td>1326.0</td>\n",
       "      <td>0.08474</td>\n",
       "      <td>0.07864</td>\n",
       "      <td>0.0869</td>\n",
       "      <td>0.07017</td>\n",
       "      <td>0.1812</td>\n",
       "      <td>0.05667</td>\n",
       "      <td>...</td>\n",
       "      <td>24.99</td>\n",
       "      <td>23.41</td>\n",
       "      <td>158.80</td>\n",
       "      <td>1956.0</td>\n",
       "      <td>0.1238</td>\n",
       "      <td>0.1866</td>\n",
       "      <td>0.2416</td>\n",
       "      <td>0.1860</td>\n",
       "      <td>0.2750</td>\n",
       "      <td>0.08902</td>\n",
       "    </tr>\n",
       "    <tr>\n",
       "      <td>2</td>\n",
       "      <td>19.69</td>\n",
       "      <td>21.25</td>\n",
       "      <td>130.00</td>\n",
       "      <td>1203.0</td>\n",
       "      <td>0.10960</td>\n",
       "      <td>0.15990</td>\n",
       "      <td>0.1974</td>\n",
       "      <td>0.12790</td>\n",
       "      <td>0.2069</td>\n",
       "      <td>0.05999</td>\n",
       "      <td>...</td>\n",
       "      <td>23.57</td>\n",
       "      <td>25.53</td>\n",
       "      <td>152.50</td>\n",
       "      <td>1709.0</td>\n",
       "      <td>0.1444</td>\n",
       "      <td>0.4245</td>\n",
       "      <td>0.4504</td>\n",
       "      <td>0.2430</td>\n",
       "      <td>0.3613</td>\n",
       "      <td>0.08758</td>\n",
       "    </tr>\n",
       "    <tr>\n",
       "      <td>3</td>\n",
       "      <td>11.42</td>\n",
       "      <td>20.38</td>\n",
       "      <td>77.58</td>\n",
       "      <td>386.1</td>\n",
       "      <td>0.14250</td>\n",
       "      <td>0.28390</td>\n",
       "      <td>0.2414</td>\n",
       "      <td>0.10520</td>\n",
       "      <td>0.2597</td>\n",
       "      <td>0.09744</td>\n",
       "      <td>...</td>\n",
       "      <td>14.91</td>\n",
       "      <td>26.50</td>\n",
       "      <td>98.87</td>\n",
       "      <td>567.7</td>\n",
       "      <td>0.2098</td>\n",
       "      <td>0.8663</td>\n",
       "      <td>0.6869</td>\n",
       "      <td>0.2575</td>\n",
       "      <td>0.6638</td>\n",
       "      <td>0.17300</td>\n",
       "    </tr>\n",
       "    <tr>\n",
       "      <td>4</td>\n",
       "      <td>20.29</td>\n",
       "      <td>14.34</td>\n",
       "      <td>135.10</td>\n",
       "      <td>1297.0</td>\n",
       "      <td>0.10030</td>\n",
       "      <td>0.13280</td>\n",
       "      <td>0.1980</td>\n",
       "      <td>0.10430</td>\n",
       "      <td>0.1809</td>\n",
       "      <td>0.05883</td>\n",
       "      <td>...</td>\n",
       "      <td>22.54</td>\n",
       "      <td>16.67</td>\n",
       "      <td>152.20</td>\n",
       "      <td>1575.0</td>\n",
       "      <td>0.1374</td>\n",
       "      <td>0.2050</td>\n",
       "      <td>0.4000</td>\n",
       "      <td>0.1625</td>\n",
       "      <td>0.2364</td>\n",
       "      <td>0.07678</td>\n",
       "    </tr>\n",
       "  </tbody>\n",
       "</table>\n",
       "<p>5 rows × 30 columns</p>\n",
       "</div>"
      ],
      "text/plain": [
       "   mean radius  mean texture  mean perimeter  mean area  mean smoothness  \\\n",
       "0        17.99         10.38          122.80     1001.0          0.11840   \n",
       "1        20.57         17.77          132.90     1326.0          0.08474   \n",
       "2        19.69         21.25          130.00     1203.0          0.10960   \n",
       "3        11.42         20.38           77.58      386.1          0.14250   \n",
       "4        20.29         14.34          135.10     1297.0          0.10030   \n",
       "\n",
       "   mean compactness  mean concavity  mean concave points  mean symmetry  \\\n",
       "0           0.27760          0.3001              0.14710         0.2419   \n",
       "1           0.07864          0.0869              0.07017         0.1812   \n",
       "2           0.15990          0.1974              0.12790         0.2069   \n",
       "3           0.28390          0.2414              0.10520         0.2597   \n",
       "4           0.13280          0.1980              0.10430         0.1809   \n",
       "\n",
       "   mean fractal dimension  ...  worst radius  worst texture  worst perimeter  \\\n",
       "0                 0.07871  ...         25.38          17.33           184.60   \n",
       "1                 0.05667  ...         24.99          23.41           158.80   \n",
       "2                 0.05999  ...         23.57          25.53           152.50   \n",
       "3                 0.09744  ...         14.91          26.50            98.87   \n",
       "4                 0.05883  ...         22.54          16.67           152.20   \n",
       "\n",
       "   worst area  worst smoothness  worst compactness  worst concavity  \\\n",
       "0      2019.0            0.1622             0.6656           0.7119   \n",
       "1      1956.0            0.1238             0.1866           0.2416   \n",
       "2      1709.0            0.1444             0.4245           0.4504   \n",
       "3       567.7            0.2098             0.8663           0.6869   \n",
       "4      1575.0            0.1374             0.2050           0.4000   \n",
       "\n",
       "   worst concave points  worst symmetry  worst fractal dimension  \n",
       "0                0.2654          0.4601                  0.11890  \n",
       "1                0.1860          0.2750                  0.08902  \n",
       "2                0.2430          0.3613                  0.08758  \n",
       "3                0.2575          0.6638                  0.17300  \n",
       "4                0.1625          0.2364                  0.07678  \n",
       "\n",
       "[5 rows x 30 columns]"
      ]
     },
     "execution_count": 173,
     "metadata": {},
     "output_type": "execute_result"
    }
   ],
   "source": [
    "# 데이터프레임형식으로 만들기 \n",
    "data = pd.DataFrame(cancer.data, columns=cancer.feature_names)\n",
    "data.head()"
   ]
  },
  {
   "cell_type": "code",
   "execution_count": 174,
   "metadata": {},
   "outputs": [
    {
     "data": {
      "text/html": [
       "<div>\n",
       "<style scoped>\n",
       "    .dataframe tbody tr th:only-of-type {\n",
       "        vertical-align: middle;\n",
       "    }\n",
       "\n",
       "    .dataframe tbody tr th {\n",
       "        vertical-align: top;\n",
       "    }\n",
       "\n",
       "    .dataframe thead th {\n",
       "        text-align: right;\n",
       "    }\n",
       "</style>\n",
       "<table border=\"1\" class=\"dataframe\">\n",
       "  <thead>\n",
       "    <tr style=\"text-align: right;\">\n",
       "      <th></th>\n",
       "      <th>mean radius</th>\n",
       "      <th>mean texture</th>\n",
       "      <th>mean perimeter</th>\n",
       "      <th>mean area</th>\n",
       "      <th>mean smoothness</th>\n",
       "      <th>mean compactness</th>\n",
       "      <th>mean concavity</th>\n",
       "      <th>mean concave points</th>\n",
       "      <th>mean symmetry</th>\n",
       "      <th>mean fractal dimension</th>\n",
       "      <th>...</th>\n",
       "      <th>worst texture</th>\n",
       "      <th>worst perimeter</th>\n",
       "      <th>worst area</th>\n",
       "      <th>worst smoothness</th>\n",
       "      <th>worst compactness</th>\n",
       "      <th>worst concavity</th>\n",
       "      <th>worst concave points</th>\n",
       "      <th>worst symmetry</th>\n",
       "      <th>worst fractal dimension</th>\n",
       "      <th>class</th>\n",
       "    </tr>\n",
       "  </thead>\n",
       "  <tbody>\n",
       "    <tr>\n",
       "      <td>564</td>\n",
       "      <td>21.56</td>\n",
       "      <td>22.39</td>\n",
       "      <td>142.00</td>\n",
       "      <td>1479.0</td>\n",
       "      <td>0.11100</td>\n",
       "      <td>0.11590</td>\n",
       "      <td>0.24390</td>\n",
       "      <td>0.13890</td>\n",
       "      <td>0.1726</td>\n",
       "      <td>0.05623</td>\n",
       "      <td>...</td>\n",
       "      <td>26.40</td>\n",
       "      <td>166.10</td>\n",
       "      <td>2027.0</td>\n",
       "      <td>0.14100</td>\n",
       "      <td>0.21130</td>\n",
       "      <td>0.4107</td>\n",
       "      <td>0.2216</td>\n",
       "      <td>0.2060</td>\n",
       "      <td>0.07115</td>\n",
       "      <td>0</td>\n",
       "    </tr>\n",
       "    <tr>\n",
       "      <td>565</td>\n",
       "      <td>20.13</td>\n",
       "      <td>28.25</td>\n",
       "      <td>131.20</td>\n",
       "      <td>1261.0</td>\n",
       "      <td>0.09780</td>\n",
       "      <td>0.10340</td>\n",
       "      <td>0.14400</td>\n",
       "      <td>0.09791</td>\n",
       "      <td>0.1752</td>\n",
       "      <td>0.05533</td>\n",
       "      <td>...</td>\n",
       "      <td>38.25</td>\n",
       "      <td>155.00</td>\n",
       "      <td>1731.0</td>\n",
       "      <td>0.11660</td>\n",
       "      <td>0.19220</td>\n",
       "      <td>0.3215</td>\n",
       "      <td>0.1628</td>\n",
       "      <td>0.2572</td>\n",
       "      <td>0.06637</td>\n",
       "      <td>0</td>\n",
       "    </tr>\n",
       "    <tr>\n",
       "      <td>566</td>\n",
       "      <td>16.60</td>\n",
       "      <td>28.08</td>\n",
       "      <td>108.30</td>\n",
       "      <td>858.1</td>\n",
       "      <td>0.08455</td>\n",
       "      <td>0.10230</td>\n",
       "      <td>0.09251</td>\n",
       "      <td>0.05302</td>\n",
       "      <td>0.1590</td>\n",
       "      <td>0.05648</td>\n",
       "      <td>...</td>\n",
       "      <td>34.12</td>\n",
       "      <td>126.70</td>\n",
       "      <td>1124.0</td>\n",
       "      <td>0.11390</td>\n",
       "      <td>0.30940</td>\n",
       "      <td>0.3403</td>\n",
       "      <td>0.1418</td>\n",
       "      <td>0.2218</td>\n",
       "      <td>0.07820</td>\n",
       "      <td>0</td>\n",
       "    </tr>\n",
       "    <tr>\n",
       "      <td>567</td>\n",
       "      <td>20.60</td>\n",
       "      <td>29.33</td>\n",
       "      <td>140.10</td>\n",
       "      <td>1265.0</td>\n",
       "      <td>0.11780</td>\n",
       "      <td>0.27700</td>\n",
       "      <td>0.35140</td>\n",
       "      <td>0.15200</td>\n",
       "      <td>0.2397</td>\n",
       "      <td>0.07016</td>\n",
       "      <td>...</td>\n",
       "      <td>39.42</td>\n",
       "      <td>184.60</td>\n",
       "      <td>1821.0</td>\n",
       "      <td>0.16500</td>\n",
       "      <td>0.86810</td>\n",
       "      <td>0.9387</td>\n",
       "      <td>0.2650</td>\n",
       "      <td>0.4087</td>\n",
       "      <td>0.12400</td>\n",
       "      <td>0</td>\n",
       "    </tr>\n",
       "    <tr>\n",
       "      <td>568</td>\n",
       "      <td>7.76</td>\n",
       "      <td>24.54</td>\n",
       "      <td>47.92</td>\n",
       "      <td>181.0</td>\n",
       "      <td>0.05263</td>\n",
       "      <td>0.04362</td>\n",
       "      <td>0.00000</td>\n",
       "      <td>0.00000</td>\n",
       "      <td>0.1587</td>\n",
       "      <td>0.05884</td>\n",
       "      <td>...</td>\n",
       "      <td>30.37</td>\n",
       "      <td>59.16</td>\n",
       "      <td>268.6</td>\n",
       "      <td>0.08996</td>\n",
       "      <td>0.06444</td>\n",
       "      <td>0.0000</td>\n",
       "      <td>0.0000</td>\n",
       "      <td>0.2871</td>\n",
       "      <td>0.07039</td>\n",
       "      <td>1</td>\n",
       "    </tr>\n",
       "  </tbody>\n",
       "</table>\n",
       "<p>5 rows × 31 columns</p>\n",
       "</div>"
      ],
      "text/plain": [
       "     mean radius  mean texture  mean perimeter  mean area  mean smoothness  \\\n",
       "564        21.56         22.39          142.00     1479.0          0.11100   \n",
       "565        20.13         28.25          131.20     1261.0          0.09780   \n",
       "566        16.60         28.08          108.30      858.1          0.08455   \n",
       "567        20.60         29.33          140.10     1265.0          0.11780   \n",
       "568         7.76         24.54           47.92      181.0          0.05263   \n",
       "\n",
       "     mean compactness  mean concavity  mean concave points  mean symmetry  \\\n",
       "564           0.11590         0.24390              0.13890         0.1726   \n",
       "565           0.10340         0.14400              0.09791         0.1752   \n",
       "566           0.10230         0.09251              0.05302         0.1590   \n",
       "567           0.27700         0.35140              0.15200         0.2397   \n",
       "568           0.04362         0.00000              0.00000         0.1587   \n",
       "\n",
       "     mean fractal dimension  ...  worst texture  worst perimeter  worst area  \\\n",
       "564                 0.05623  ...          26.40           166.10      2027.0   \n",
       "565                 0.05533  ...          38.25           155.00      1731.0   \n",
       "566                 0.05648  ...          34.12           126.70      1124.0   \n",
       "567                 0.07016  ...          39.42           184.60      1821.0   \n",
       "568                 0.05884  ...          30.37            59.16       268.6   \n",
       "\n",
       "     worst smoothness  worst compactness  worst concavity  \\\n",
       "564           0.14100            0.21130           0.4107   \n",
       "565           0.11660            0.19220           0.3215   \n",
       "566           0.11390            0.30940           0.3403   \n",
       "567           0.16500            0.86810           0.9387   \n",
       "568           0.08996            0.06444           0.0000   \n",
       "\n",
       "     worst concave points  worst symmetry  worst fractal dimension  class  \n",
       "564                0.2216          0.2060                  0.07115      0  \n",
       "565                0.1628          0.2572                  0.06637      0  \n",
       "566                0.1418          0.2218                  0.07820      0  \n",
       "567                0.2650          0.4087                  0.12400      0  \n",
       "568                0.0000          0.2871                  0.07039      1  \n",
       "\n",
       "[5 rows x 31 columns]"
      ]
     },
     "execution_count": 174,
     "metadata": {},
     "output_type": "execute_result"
    }
   ],
   "source": [
    "# column추가 \n",
    "data[\"class\"] = pd.Series(cancer.target, dtype=\"category\")\n",
    "data.tail()"
   ]
  },
  {
   "cell_type": "code",
   "execution_count": 175,
   "metadata": {},
   "outputs": [],
   "source": [
    "# 독립, 종속 변수 지정 \n",
    "X = data.loc[:, \"mean radius\":\"worst fractal dimension\"]\n",
    "y = data[\"class\"]"
   ]
  },
  {
   "cell_type": "code",
   "execution_count": 176,
   "metadata": {},
   "outputs": [
    {
     "name": "stdout",
     "output_type": "stream",
     "text": [
      "(426, 30) (143, 30)\n"
     ]
    }
   ],
   "source": [
    "# train, test 분리 시키기 \n",
    "X_train, X_test, y_train, y_test = train_test_split(X, y, test_size=0.25, random_state=0)\n",
    "print(X_train.shape, X_test.shape)"
   ]
  },
  {
   "cell_type": "code",
   "execution_count": 177,
   "metadata": {},
   "outputs": [
    {
     "name": "stderr",
     "output_type": "stream",
     "text": [
      "C:\\Users\\acorn\\Anaconda3\\lib\\site-packages\\sklearn\\linear_model\\logistic.py:432: FutureWarning: Default solver will be changed to 'lbfgs' in 0.22. Specify a solver to silence this warning.\n",
      "  FutureWarning)\n"
     ]
    }
   ],
   "source": [
    "# 훈련시키기\n",
    "log_reg = LogisticRegression().fit(X_train, y_train)"
   ]
  },
  {
   "cell_type": "code",
   "execution_count": 179,
   "metadata": {},
   "outputs": [
    {
     "name": "stdout",
     "output_type": "stream",
     "text": [
      "                            OLS Regression Results                            \n",
      "==============================================================================\n",
      "Dep. Variable:                  class   R-squared:                       0.774\n",
      "Model:                            OLS   Adj. R-squared:                  0.762\n",
      "Method:                 Least Squares   F-statistic:                     61.53\n",
      "Date:                Thu, 13 Feb 2020   Prob (F-statistic):          6.05e-153\n",
      "Time:                        15:44:56   Log-Likelihood:                 29.650\n",
      "No. Observations:                 569   AIC:                             2.699\n",
      "Df Residuals:                     538   BIC:                             137.4\n",
      "Df Model:                          30                                         \n",
      "Covariance Type:            nonrobust                                         \n",
      "===========================================================================================\n",
      "                              coef    std err          t      P>|t|      [0.025      0.975]\n",
      "-------------------------------------------------------------------------------------------\n",
      "const                       3.0218      0.428      7.060      0.000       2.181       3.863\n",
      "mean radius                 0.2178      0.174      1.255      0.210      -0.123       0.559\n",
      "mean texture               -0.0045      0.008     -0.572      0.567      -0.020       0.011\n",
      "mean perimeter             -0.0237      0.025     -0.946      0.345      -0.073       0.026\n",
      "mean area                  -0.0003      0.001     -0.605      0.545      -0.001       0.001\n",
      "mean smoothness            -0.0847      2.017     -0.042      0.967      -4.047       3.878\n",
      "mean compactness            4.2220      1.334      3.166      0.002       1.602       6.842\n",
      "mean concavity             -1.3980      1.046     -1.337      0.182      -3.452       0.656\n",
      "mean concave points        -2.1418      1.979     -1.082      0.280      -6.030       1.746\n",
      "mean symmetry              -0.1027      0.743     -0.138      0.890      -1.562       1.356\n",
      "mean fractal dimension     -0.0333      5.572     -0.006      0.995     -10.979      10.913\n",
      "radius error               -0.4350      0.310     -1.401      0.162      -1.045       0.175\n",
      "texture error               0.0068      0.037      0.183      0.855      -0.066       0.079\n",
      "perimeter error             0.0225      0.041      0.548      0.584      -0.058       0.103\n",
      "area error                  0.0009      0.001      0.660      0.509      -0.002       0.004\n",
      "smoothness error          -15.8543      6.625     -2.393      0.017     -28.868      -2.841\n",
      "compactness error          -0.0649      2.169     -0.030      0.976      -4.327       4.197\n",
      "concavity error             3.5655      1.301      2.741      0.006       1.010       6.121\n",
      "concave points error      -10.5680      5.452     -1.938      0.053     -21.278       0.142\n",
      "symmetry error             -1.6973      2.728     -0.622      0.534      -7.055       3.661\n",
      "fractal dimension error     7.1464     11.676      0.612      0.541     -15.791      30.083\n",
      "worst radius               -0.1952      0.058     -3.367      0.001      -0.309      -0.081\n",
      "worst texture              -0.0072      0.007     -1.030      0.303      -0.021       0.006\n",
      "worst perimeter             0.0024      0.006      0.410      0.682      -0.009       0.014\n",
      "worst area                  0.0010      0.000      3.163      0.002       0.000       0.002\n",
      "worst smoothness           -0.5429      1.435     -0.378      0.705      -3.361       2.275\n",
      "worst compactness          -0.0672      0.383     -0.175      0.861      -0.820       0.685\n",
      "worst concavity            -0.3812      0.269     -1.419      0.156      -0.909       0.146\n",
      "worst concave points       -0.4643      0.914     -0.508      0.612      -2.260       1.332\n",
      "worst symmetry             -0.5568      0.494     -1.126      0.260      -1.528       0.414\n",
      "worst fractal dimension    -4.3035      2.383     -1.806      0.072      -8.985       0.378\n",
      "==============================================================================\n",
      "Omnibus:                       32.654   Durbin-Watson:                   1.794\n",
      "Prob(Omnibus):                  0.000   Jarque-Bera (JB):               36.690\n",
      "Skew:                          -0.603   Prob(JB):                     1.08e-08\n",
      "Kurtosis:                       3.302   Cond. No.                     1.54e+06\n",
      "==============================================================================\n",
      "\n",
      "Warnings:\n",
      "[1] Standard Errors assume that the covariance matrix of the errors is correctly specified.\n",
      "[2] The condition number is large, 1.54e+06. This might indicate that there are\n",
      "strong multicollinearity or other numerical problems.\n"
     ]
    }
   ],
   "source": [
    "X2 = sm.add_constant(X) # 현재 입력값 상수로 바꾸기\n",
    "model = sm.OLS(y, X2).fit()\n",
    "print(model.summary()) # 선형모델 공식을 이용해 나온 통계자료는 모..동일하다.....ㅎ\n",
    "# 30개의 column이 있기에 어떤게 제일 영향있는지 알아볼수있음 \n",
    "# P-value값 중점적으로 보기 why?"
   ]
  },
  {
   "cell_type": "code",
   "execution_count": 180,
   "metadata": {},
   "outputs": [
    {
     "name": "stdout",
     "output_type": "stream",
     "text": [
      "정확도 :  0.958041958041958\n"
     ]
    }
   ],
   "source": [
    "from sklearn import metrics\n",
    "\n",
    "# 전체를 가지고 정확도 측정하기\n",
    "y_pred = log_reg.predict(X_test)\n",
    "print(\"정확도 : \", metrics.accuracy_score(y_test, y_pred)) # 96%의 정확도 나옴 "
   ]
  },
  {
   "cell_type": "code",
   "execution_count": 181,
   "metadata": {},
   "outputs": [
    {
     "data": {
      "text/plain": [
       "array([[52,  1],\n",
       "       [ 5, 85]], dtype=int64)"
      ]
     },
     "execution_count": 181,
     "metadata": {},
     "output_type": "execute_result"
    }
   ],
   "source": [
    "cnt = metrics.confusion_matrix(y_test, y_pred)\n",
    "cnt"
   ]
  },
  {
   "cell_type": "code",
   "execution_count": null,
   "metadata": {},
   "outputs": [],
   "source": []
  },
  {
   "cell_type": "code",
   "execution_count": null,
   "metadata": {},
   "outputs": [],
   "source": []
  },
  {
   "cell_type": "code",
   "execution_count": 183,
   "metadata": {},
   "outputs": [],
   "source": [
    "# p-value < 0.05 인거 X 에 넣기 = 관계가 많은것, 영향력이 높은거 가져오기\n",
    "# 독립, 종속 변수 만들기 \n",
    "X = data[[\"mean compactness\", \"smoothness error\", \"concavity error\", \"worst radius\", \"worst area\"]]\n",
    "y = data[[\"class\"]]"
   ]
  },
  {
   "cell_type": "code",
   "execution_count": 184,
   "metadata": {},
   "outputs": [],
   "source": [
    "# train, test 분리 시키기 \n",
    "X_train, X_test, y_train, y_test = train_test_split(X, y, test_size=0.25, random_state=0)"
   ]
  },
  {
   "cell_type": "code",
   "execution_count": 186,
   "metadata": {},
   "outputs": [
    {
     "name": "stderr",
     "output_type": "stream",
     "text": [
      "C:\\Users\\acorn\\Anaconda3\\lib\\site-packages\\sklearn\\linear_model\\logistic.py:432: FutureWarning: Default solver will be changed to 'lbfgs' in 0.22. Specify a solver to silence this warning.\n",
      "  FutureWarning)\n",
      "C:\\Users\\acorn\\Anaconda3\\lib\\site-packages\\sklearn\\utils\\validation.py:724: DataConversionWarning: A column-vector y was passed when a 1d array was expected. Please change the shape of y to (n_samples, ), for example using ravel().\n",
      "  y = column_or_1d(y, warn=True)\n"
     ]
    }
   ],
   "source": [
    "# 훈련시키기\n",
    "log_reg = LogisticRegression().fit(X_train, y_train)"
   ]
  },
  {
   "cell_type": "code",
   "execution_count": 187,
   "metadata": {},
   "outputs": [
    {
     "name": "stdout",
     "output_type": "stream",
     "text": [
      "                            OLS Regression Results                            \n",
      "==============================================================================\n",
      "Dep. Variable:                  class   R-squared:                       0.681\n",
      "Model:                            OLS   Adj. R-squared:                  0.678\n",
      "Method:                 Least Squares   F-statistic:                     239.8\n",
      "Date:                Thu, 13 Feb 2020   Prob (F-statistic):          6.37e-137\n",
      "Time:                        15:58:17   Log-Likelihood:                -69.240\n",
      "No. Observations:                 569   AIC:                             150.5\n",
      "Df Residuals:                     563   BIC:                             176.5\n",
      "Df Model:                           5                                         \n",
      "Covariance Type:            nonrobust                                         \n",
      "====================================================================================\n",
      "                       coef    std err          t      P>|t|      [0.025      0.975]\n",
      "------------------------------------------------------------------------------------\n",
      "const                2.9459      0.145     20.373      0.000       2.662       3.230\n",
      "mean compactness    -1.8144      0.325     -5.575      0.000      -2.454      -1.175\n",
      "smoothness error   -18.9853      4.436     -4.280      0.000     -27.698     -10.272\n",
      "concavity error      0.2791      0.481      0.580      0.562      -0.666       1.224\n",
      "worst radius        -0.1696      0.015    -11.417      0.000      -0.199      -0.140\n",
      "worst area           0.0009      0.000      7.113      0.000       0.001       0.001\n",
      "==============================================================================\n",
      "Omnibus:                       20.352   Durbin-Watson:                   1.760\n",
      "Prob(Omnibus):                  0.000   Jarque-Bera (JB):               21.684\n",
      "Skew:                          -0.475   Prob(JB):                     1.96e-05\n",
      "Kurtosis:                       3.109   Cond. No.                     4.04e+05\n",
      "==============================================================================\n",
      "\n",
      "Warnings:\n",
      "[1] Standard Errors assume that the covariance matrix of the errors is correctly specified.\n",
      "[2] The condition number is large, 4.04e+05. This might indicate that there are\n",
      "strong multicollinearity or other numerical problems.\n"
     ]
    },
    {
     "name": "stderr",
     "output_type": "stream",
     "text": [
      "C:\\Users\\acorn\\Anaconda3\\lib\\site-packages\\numpy\\core\\fromnumeric.py:2389: FutureWarning: Method .ptp is deprecated and will be removed in a future version. Use numpy.ptp instead.\n",
      "  return ptp(axis=axis, out=out, **kwargs)\n"
     ]
    }
   ],
   "source": [
    "X2 = sm.add_constant(X) # 현재 입력값 상수로 바꾸기\n",
    "model = sm.OLS(y, X2).fit()\n",
    "print(model.summary()) # 선형모델 공식을 이용해 나온 통계자료는 모..동일하다.....ㅎ\n",
    "# 30개의 column이 있기에 어떤게 제일 영향있는지 알아볼수있음 \n",
    "# P-value값 중점적으로 보기 why?"
   ]
  },
  {
   "cell_type": "code",
   "execution_count": 189,
   "metadata": {},
   "outputs": [
    {
     "name": "stdout",
     "output_type": "stream",
     "text": [
      "정확도 :  0.9230769230769231\n"
     ]
    }
   ],
   "source": [
    "# 전체를 가지고 정확도 측정하기\n",
    "y_pred = log_reg.predict(X_test)\n",
    "print(\"정확도 : \", metrics.accuracy_score(y_test, y_pred)) \n",
    "# 92%의 정확도 나옴 # 제일 의미있는 column들 모아서 했는데 전체 모아서 한것 보다 낮은 정확도를 가짐 \n",
    "# 이럴땐 L2 규제를 쓰는게 좋음 "
   ]
  },
  {
   "cell_type": "code",
   "execution_count": null,
   "metadata": {},
   "outputs": [],
   "source": []
  },
  {
   "cell_type": "code",
   "execution_count": null,
   "metadata": {},
   "outputs": [],
   "source": []
  },
  {
   "cell_type": "code",
   "execution_count": 191,
   "metadata": {},
   "outputs": [],
   "source": [
    "# p-value 많이 큰거 가져오기 = 관계가 많이 없는 column들 가져오기 \n",
    "# 독립, 종속 변수 만들기 \n",
    "X = data[[\"mean texture\", \"mean smoothness\", \"mean fractal dimension\", \"mean symmetry\", \"texture error\"]]\n",
    "y = data[[\"class\"]]"
   ]
  },
  {
   "cell_type": "code",
   "execution_count": 192,
   "metadata": {},
   "outputs": [],
   "source": [
    "# train, test 분리 시키기 \n",
    "X_train, X_test, y_train, y_test = train_test_split(X, y, test_size=0.25, random_state=0)"
   ]
  },
  {
   "cell_type": "code",
   "execution_count": 193,
   "metadata": {},
   "outputs": [
    {
     "name": "stderr",
     "output_type": "stream",
     "text": [
      "C:\\Users\\acorn\\Anaconda3\\lib\\site-packages\\sklearn\\linear_model\\logistic.py:432: FutureWarning: Default solver will be changed to 'lbfgs' in 0.22. Specify a solver to silence this warning.\n",
      "  FutureWarning)\n",
      "C:\\Users\\acorn\\Anaconda3\\lib\\site-packages\\sklearn\\utils\\validation.py:724: DataConversionWarning: A column-vector y was passed when a 1d array was expected. Please change the shape of y to (n_samples, ), for example using ravel().\n",
      "  y = column_or_1d(y, warn=True)\n"
     ]
    }
   ],
   "source": [
    "# 훈련시키기\n",
    "log_reg = LogisticRegression().fit(X_train, y_train)"
   ]
  },
  {
   "cell_type": "code",
   "execution_count": 194,
   "metadata": {},
   "outputs": [
    {
     "name": "stdout",
     "output_type": "stream",
     "text": [
      "                            OLS Regression Results                            \n",
      "==============================================================================\n",
      "Dep. Variable:                  class   R-squared:                       0.429\n",
      "Model:                            OLS   Adj. R-squared:                  0.424\n",
      "Method:                 Least Squares   F-statistic:                     84.55\n",
      "Date:                Thu, 13 Feb 2020   Prob (F-statistic):           3.39e-66\n",
      "Time:                        16:08:27   Log-Likelihood:                -234.52\n",
      "No. Observations:                 569   AIC:                             481.0\n",
      "Df Residuals:                     563   BIC:                             507.1\n",
      "Df Model:                           5                                         \n",
      "Covariance Type:            nonrobust                                         \n",
      "==========================================================================================\n",
      "                             coef    std err          t      P>|t|      [0.025      0.975]\n",
      "------------------------------------------------------------------------------------------\n",
      "const                      2.2599      0.165     13.699      0.000       1.936       2.584\n",
      "mean texture              -0.0518      0.004    -13.095      0.000      -0.060      -0.044\n",
      "mean smoothness          -15.0487      1.470    -10.240      0.000     -17.935     -12.162\n",
      "mean fractal dimension    21.3020      2.830      7.528      0.000      15.744      26.860\n",
      "mean symmetry             -4.0195      0.701     -5.731      0.000      -5.397      -2.642\n",
      "texture error              0.1704      0.031      5.490      0.000       0.109       0.231\n",
      "==============================================================================\n",
      "Omnibus:                       41.204   Durbin-Watson:                   1.747\n",
      "Prob(Omnibus):                  0.000   Jarque-Bera (JB):               15.452\n",
      "Skew:                          -0.110   Prob(JB):                     0.000441\n",
      "Kurtosis:                       2.223   Cond. No.                     3.76e+03\n",
      "==============================================================================\n",
      "\n",
      "Warnings:\n",
      "[1] Standard Errors assume that the covariance matrix of the errors is correctly specified.\n",
      "[2] The condition number is large, 3.76e+03. This might indicate that there are\n",
      "strong multicollinearity or other numerical problems.\n"
     ]
    },
    {
     "name": "stderr",
     "output_type": "stream",
     "text": [
      "C:\\Users\\acorn\\Anaconda3\\lib\\site-packages\\numpy\\core\\fromnumeric.py:2389: FutureWarning: Method .ptp is deprecated and will be removed in a future version. Use numpy.ptp instead.\n",
      "  return ptp(axis=axis, out=out, **kwargs)\n"
     ]
    }
   ],
   "source": [
    "X2 = sm.add_constant(X) # 현재 입력값 상수로 바꾸기\n",
    "model = sm.OLS(y, X2).fit()\n",
    "print(model.summary()) # 선형모델 공식을 이용해 나온 통계자료는 모..동일하다.....ㅎ\n",
    "# 30개의 column이 있기에 어떤게 제일 영향있는지 알아볼수있음 \n",
    "# P-value값 중점적으로 보기 why?"
   ]
  },
  {
   "cell_type": "code",
   "execution_count": 195,
   "metadata": {},
   "outputs": [
    {
     "name": "stdout",
     "output_type": "stream",
     "text": [
      "정확도 :  0.7202797202797203\n"
     ]
    }
   ],
   "source": [
    "# 전체를 가지고 정확도 측정하기\n",
    "y_pred = log_reg.predict(X_test)\n",
    "print(\"정확도 : \", metrics.accuracy_score(y_test, y_pred)) \n",
    "# 72%의 정확도 나옴 \n",
    "# 30개의 column전부다 유방암에 영향이 있음을 알려줌 "
   ]
  },
  {
   "cell_type": "code",
   "execution_count": null,
   "metadata": {},
   "outputs": [],
   "source": []
  }
 ],
 "metadata": {
  "kernelspec": {
   "display_name": "Python 3",
   "language": "python",
   "name": "python3"
  },
  "language_info": {
   "codemirror_mode": {
    "name": "ipython",
    "version": 3
   },
   "file_extension": ".py",
   "mimetype": "text/x-python",
   "name": "python",
   "nbconvert_exporter": "python",
   "pygments_lexer": "ipython3",
   "version": "3.7.4"
  }
 },
 "nbformat": 4,
 "nbformat_minor": 2
}

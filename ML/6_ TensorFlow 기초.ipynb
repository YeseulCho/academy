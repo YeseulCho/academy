{
 "cells": [
  {
   "cell_type": "markdown",
   "metadata": {},
   "source": [
    "# TensorFlow\n",
    "\n",
    "- 구글에서 만든 오픈소스 머신러닝 프레임워크\n",
    "- 다양한 언어를 제공하며 파이썬이 가장 많이 사용됨\n",
    "- 기본적으로 텐서를 활용한 그래프 수치 연산을 하는 도구\n",
    "- http://www.tensorflow.org\n",
    "- 설치\n",
    "    + pip install tensorflow\n",
    "    + pip install tensorflow==1.15.0\n",
    "    + conda install tensorflow==1.15.0\n",
    "    \n",
    "- 가상 환경 준비\n",
    "    + conda create -n 가상환경명\n",
    "        conda create -n tf1 python=3.7 anaconda\n",
    "        \n",
    "    + activate 가상환경명\n",
    "    + deactivate\n",
    "        \n",
    "- 머신러닝 프레임워크 종류들\n",
    "    Theamo\n",
    "    Pytorch\n",
    "    Torch\n",
    "    Caffe\n",
    "    Keras\n",
    "    \n",
    "+ hunkim.github.io/ml/    - 딥러닝의 기본 개념과 문제, 강의슬라이드 보기 \n",
    "    + Activation Functions \n",
    "                \n",
    "    + Backpropagation\n",
    "        : 틀린 이유를 미분으로 알아내고 다시 학습하여 정답을 출력하는 방식  "
   ]
  },
  {
   "cell_type": "code",
   "execution_count": null,
   "metadata": {},
   "outputs": [],
   "source": [
    "# 도스창에\n",
    "# conda create -n tf1 python=3.7 anaconda\n",
    "# activate tf1\n",
    "# conda install tensorflow==1.15.0\n",
    "# jupyter notebook\n",
    "# 해서 다시 jupyter notebook 들어와서\n",
    "# 밑에 import 시키기"
   ]
  },
  {
   "cell_type": "code",
   "execution_count": 2,
   "metadata": {},
   "outputs": [
    {
     "name": "stdout",
     "output_type": "stream",
     "text": [
      "1.15.0\n",
      "3.7.6 (default, Jan  8 2020, 20:23:39) [MSC v.1916 64 bit (AMD64)]\n"
     ]
    }
   ],
   "source": [
    "import tensorflow as tf\n",
    "print(tf.__version__)\n",
    "\n",
    "import sys\n",
    "print(sys.version)"
   ]
  },
  {
   "cell_type": "markdown",
   "metadata": {},
   "source": [
    "## 기본 용어\n",
    "- 그래프 : 수학적인 의미에서 노드와 엣지로 구성된 기하 모형\n",
    "- 노드(node) : 연산 및 데이터를 정의\n",
    "- 엣지(edge) : 노드를 연결하는 것(데이터의 흐름)\n",
    "- 텐서(tensor) : 다차원 데이터 배열\n",
    "- 세션(session) : 그래프를 실행시키기 위해서 필요한 객체"
   ]
  },
  {
   "cell_type": "code",
   "execution_count": 3,
   "metadata": {},
   "outputs": [],
   "source": [
    "import tensorflow as tf\n",
    "import numpy as np"
   ]
  },
  {
   "cell_type": "markdown",
   "metadata": {},
   "source": [
    "### 텐서"
   ]
  },
  {
   "cell_type": "code",
   "execution_count": 7,
   "metadata": {},
   "outputs": [
    {
     "data": {
      "text/plain": [
       "0"
      ]
     },
     "execution_count": 7,
     "metadata": {},
     "output_type": "execute_result"
    }
   ],
   "source": [
    "# 스칼라(0D 텐서)\n",
    "x = np.array(10)\n",
    "x\n",
    "x.ndim"
   ]
  },
  {
   "cell_type": "code",
   "execution_count": 11,
   "metadata": {},
   "outputs": [
    {
     "data": {
      "text/plain": [
       "dtype('int32')"
      ]
     },
     "execution_count": 11,
     "metadata": {},
     "output_type": "execute_result"
    }
   ],
   "source": [
    "# 벡터(1D 텐서)\n",
    "# x = np.array([10])\n",
    "x = np.array([10, 2, 7, 9, 21])\n",
    "x\n",
    "x.ndim\n",
    "x.shape\n",
    "x.dtype"
   ]
  },
  {
   "cell_type": "code",
   "execution_count": 16,
   "metadata": {},
   "outputs": [
    {
     "data": {
      "text/plain": [
       "dtype('int32')"
      ]
     },
     "execution_count": 16,
     "metadata": {},
     "output_type": "execute_result"
    }
   ],
   "source": [
    "# 행렬(2D 텐서)\n",
    "x = np.array([[1, 2, 3, 4], [5, 6, 7, 8], [9, 10, 11, 12]])\n",
    "x\n",
    "x.ndim\n",
    "x.shape\n",
    "x.dtype"
   ]
  },
  {
   "cell_type": "code",
   "execution_count": 20,
   "metadata": {},
   "outputs": [],
   "source": [
    "# 3D 텐서, 고차원 텐서\n",
    "# 딥러닝에서는 0D ~ 4D 까지 주로 사용\n",
    "# 이미지 다룰 때에는 주로 4D 사용\n",
    "# 동영상을 다룰 때에는 5D 텐서까지 사용\n",
    "\n",
    "# 핵심속성\n",
    "    # 1. 축의 개수(rank) : ndim\n",
    "    # 2. 크기 : shape\n",
    "    # 3. 타입 : dtype"
   ]
  },
  {
   "cell_type": "markdown",
   "metadata": {},
   "source": [
    "### 기본 구성 요소\n",
    "\n",
    "- placeholder()\n",
    "\n",
    "- constant()  :  함수\n",
    "\n",
    "    tf.constant(\n",
    "        value,\n",
    "        dtype=None,\n",
    "        shape=None,\n",
    "        name='Const',\n",
    "        verify_shape=False)\n",
    "\n",
    "- Variable() : Class\n",
    "\n",
    "    __init__(\n",
    "        initial_value=None,\n",
    "        trainable=None,\n",
    "        collections=None,\n",
    "        validate_shape=True,\n",
    "        caching_device=None,\n",
    "        name=None,\n",
    "        variable_def=None,\n",
    "        dtype=None,\n",
    "        expected_shape=None,\n",
    "        import_scope=None,\n",
    "        constraint=None,\n",
    "        use_resource=None,\n",
    "        synchronization=tf.VariableSynchronization.AUTO,\n",
    "        aggregation=tf.VariableAggregation.NONE,\n",
    "        shape=None )"
   ]
  },
  {
   "cell_type": "code",
   "execution_count": null,
   "metadata": {},
   "outputs": [],
   "source": []
  },
  {
   "cell_type": "code",
   "execution_count": null,
   "metadata": {},
   "outputs": [],
   "source": []
  },
  {
   "cell_type": "markdown",
   "metadata": {},
   "source": [
    "### constant\n",
    "\n",
    "- 절대 변하지 않는 상수를 의미\n",
    "- 자체적으로 그래프를 갖는다\n",
    "- 메서드"
   ]
  },
  {
   "cell_type": "code",
   "execution_count": 30,
   "metadata": {},
   "outputs": [
    {
     "name": "stdout",
     "output_type": "stream",
     "text": [
      "Tensor(\"Const_13:0\", shape=(), dtype=int32)\n",
      "Tensor(\"Const_14:0\", shape=(), dtype=int32)\n",
      "Tensor(\"Add_3:0\", shape=(), dtype=int32)\n"
     ]
    }
   ],
   "source": [
    "a = tf.constant(10)\n",
    "print(a)\n",
    "# tensor 객체일뿐, 10을 저장한게 아니다 10을 저장할 공간만 준비된 것 \n",
    "\n",
    "b = tf.constant(20)\n",
    "print(b)\n",
    "# tensor 객체일뿐, 공간만 준비됨\n",
    "\n",
    "c = tf.add(a, b)\n",
    "print(c)\n",
    "# 두개의 tensor를 더해서 c에 들어가라\n",
    "# but, 계산 결과값은 나오지않고 준비만 되어있는 상태\n",
    "\n",
    "#     \"\"\"\n",
    "#     10 --\n",
    "#         |\n",
    "#         + = 30  # node : 3개(10, 20, +) / edge : 2개의 연결선(10하고 +연결선, 20하고 +연결선) \n",
    "#         |\n",
    "#     20 --\n",
    "#     \"\"\"\n",
    "#\n",
    "# Session : 계획만 세워둔 것을 실행시키는 공간"
   ]
  },
  {
   "cell_type": "code",
   "execution_count": 35,
   "metadata": {},
   "outputs": [
    {
     "data": {
      "text/plain": [
       "30"
      ]
     },
     "execution_count": 35,
     "metadata": {},
     "output_type": "execute_result"
    }
   ],
   "source": [
    "# 공간생성\n",
    "sess = tf.Session()\n",
    "\n",
    "# 확인\n",
    "sess.run(a)\n",
    "sess.run(b)\n",
    "sess.run(c)\n",
    "\n",
    "# a, b 실행할 필요없이 c 만 실행해도 됨\n",
    "# 최종적으로 끝나는 노드만 실행시켜주면 그 앞에 있던 노드 다 실행시켜준다 \n",
    "# -> constant의 역할\n",
    "\n",
    "# Tensor Board : Tensor 그래프들 시각화 시켜줌"
   ]
  },
  {
   "cell_type": "code",
   "execution_count": 37,
   "metadata": {},
   "outputs": [
    {
     "data": {
      "text/plain": [
       "<tensorflow.python.summary.writer.writer.FileWriter at 0x166c518fc08>"
      ]
     },
     "execution_count": 37,
     "metadata": {},
     "output_type": "execute_result"
    }
   ],
   "source": [
    "# Tensor Board\n",
    "\n",
    "tf.summary.FileWriter(\"log_dir\", graph=sess.graph)\n",
    "# 이거 실행시키면 AI 폴더내에 log_dir 폴더 생성됨\n",
    "# 도스창 AI 폴더로 이동시키기\n",
    "# cd C:\\YS\\pythonwork\\AI\n",
    "# activate tf1\n",
    "# tensorboard --logdir=log_dir\n",
    "# 하면 화면에  http://localhost:6006/   이런 주소가 뜸\n",
    "# 이거 chrome 에 실행시켜주면\n",
    "# tensor 그래프들 시각화 된거 뜸"
   ]
  },
  {
   "cell_type": "code",
   "execution_count": 40,
   "metadata": {},
   "outputs": [],
   "source": [
    "# session 작업 닫기\n",
    "sess.close()"
   ]
  },
  {
   "cell_type": "code",
   "execution_count": null,
   "metadata": {},
   "outputs": [],
   "source": []
  },
  {
   "cell_type": "code",
   "execution_count": 45,
   "metadata": {},
   "outputs": [
    {
     "data": {
      "text/plain": [
       "<tensorflow.python.summary.writer.writer.FileWriter at 0x166c56abe08>"
      ]
     },
     "execution_count": 45,
     "metadata": {},
     "output_type": "execute_result"
    }
   ],
   "source": [
    "# (5 + 2) * 3\n",
    "# node, edge 준비 \n",
    "a = tf.constant([5])\n",
    "b = tf.constant([2])\n",
    "c = tf.add(a, b)\n",
    "d = tf.constant([3])\n",
    "e = tf.multiply(c, d)\n",
    "\n",
    "# session 준비\n",
    "sess = tf.Session()\n",
    "sess.run(e)\n",
    "\n",
    "# 그래프 시각화\n",
    "tf.summary.FileWriter(\"log_dir2\", graph=sess.graph)"
   ]
  },
  {
   "cell_type": "code",
   "execution_count": 46,
   "metadata": {},
   "outputs": [],
   "source": [
    "# session 작업 닫기\n",
    "sess.close()"
   ]
  },
  {
   "cell_type": "code",
   "execution_count": null,
   "metadata": {},
   "outputs": [],
   "source": []
  },
  {
   "cell_type": "code",
   "execution_count": null,
   "metadata": {},
   "outputs": [],
   "source": []
  },
  {
   "cell_type": "markdown",
   "metadata": {},
   "source": [
    "### Variable\n",
    "\n",
    "    - 객체로 정의되어 있다\n",
    "    - weight(가중치)를 저장하는 변수\n",
    "    - 사용 전에 반드시 초기화(initialize_all_variables() 호출)"
   ]
  },
  {
   "cell_type": "code",
   "execution_count": 47,
   "metadata": {},
   "outputs": [
    {
     "name": "stdout",
     "output_type": "stream",
     "text": [
      "Tensor(\"add_8:0\", shape=(1,), dtype=int32)\n"
     ]
    }
   ],
   "source": [
    "# 준비\n",
    "v1 = tf.Variable(initial_value=[5])\n",
    "v2 = tf.Variable([3])\n",
    "v3 = tf.Variable([2])\n",
    "\n",
    "v4 = v1 + v2 + v3\n",
    "print(v4)\n",
    "\n",
    "# session 준비\n",
    "sess = tf.Session()\n",
    "sess.run(tf.initialize_all_variables())\n",
    "sess.run(v4)\n",
    "\n",
    "# 그래프 시각화\n",
    "tf.summary.FileWriter(\"log_dir3\", graph=sess.graph)"
   ]
  },
  {
   "cell_type": "code",
   "execution_count": 53,
   "metadata": {},
   "outputs": [],
   "source": [
    "# session 작업 닫기\n",
    "sess.close()"
   ]
  },
  {
   "cell_type": "code",
   "execution_count": null,
   "metadata": {},
   "outputs": [],
   "source": []
  },
  {
   "cell_type": "code",
   "execution_count": null,
   "metadata": {},
   "outputs": [],
   "source": []
  },
  {
   "cell_type": "markdown",
   "metadata": {},
   "source": [
    "### placeholder\n",
    "\n",
    "    - 그래프를 만들지 않는다.\n",
    "    - 입력된 데이터를 텐서와 매핑하는 역할"
   ]
  },
  {
   "cell_type": "code",
   "execution_count": 56,
   "metadata": {},
   "outputs": [
    {
     "data": {
      "text/plain": [
       "<tensorflow.python.summary.writer.writer.FileWriter at 0x166c8421488>"
      ]
     },
     "execution_count": 56,
     "metadata": {},
     "output_type": "execute_result"
    }
   ],
   "source": [
    "# 변수 \n",
    "v1 = 5\n",
    "v2 = 3\n",
    "v3 = 2\n",
    "\n",
    "p1 = tf.placeholder(dtype=tf.float32)\n",
    "p2 = tf.placeholder(dtype=tf.float32)\n",
    "p3 = tf.placeholder(dtype=tf.float32)\n",
    "\n",
    "result = p1 + p2 + p3\n",
    "\n",
    "# session 준비\n",
    "sess = tf.Session()\n",
    "sess.run(result, feed_dict={p1:v1, p2:v2, p3:v3}) # feed_dict : data를 dict형으로 주겠다는 의미\n",
    "# placeholder는 미리 값을 정해놓지 않고 나중에 필요할때 정해줌\n",
    "\n",
    "# 그래프 시각화\n",
    "tf.summary.FileWriter(\"log_dir4\", graph=sess.graph)"
   ]
  },
  {
   "cell_type": "code",
   "execution_count": null,
   "metadata": {},
   "outputs": [],
   "source": []
  },
  {
   "cell_type": "code",
   "execution_count": 58,
   "metadata": {},
   "outputs": [],
   "source": [
    "# 구구단 프로그램\n",
    "def gugu(dan):\n",
    "    left = tf.placeholder(tf.int32)  # 몇단을 집어넣을지 모르니 placeholder\n",
    "    right = tf.placeholder(tf.int32)\n",
    "    calc = tf.multiply(left, right)\n",
    "    \n",
    "    # session 필요한거 with문으로 작성(따로 close해주지 않아도 되서)\n",
    "    with tf.Session() as sess :\n",
    "        for i in range(1, 10) :\n",
    "            result = sess.run(calc, feed_dict={left:dan, right:i})\n",
    "            print(\"{} + {} = {}\".format(dan, i, result))"
   ]
  },
  {
   "cell_type": "code",
   "execution_count": 59,
   "metadata": {},
   "outputs": [
    {
     "name": "stdout",
     "output_type": "stream",
     "text": [
      "7 + 1 = 7\n",
      "7 + 2 = 14\n",
      "7 + 3 = 21\n",
      "7 + 4 = 28\n",
      "7 + 5 = 35\n",
      "7 + 6 = 42\n",
      "7 + 7 = 49\n",
      "7 + 8 = 56\n",
      "7 + 9 = 63\n"
     ]
    }
   ],
   "source": [
    "gugu(7)"
   ]
  },
  {
   "cell_type": "code",
   "execution_count": null,
   "metadata": {},
   "outputs": [],
   "source": []
  },
  {
   "cell_type": "code",
   "execution_count": null,
   "metadata": {},
   "outputs": [],
   "source": []
  },
  {
   "cell_type": "code",
   "execution_count": null,
   "metadata": {},
   "outputs": [],
   "source": []
  },
  {
   "cell_type": "code",
   "execution_count": null,
   "metadata": {},
   "outputs": [],
   "source": []
  },
  {
   "cell_type": "code",
   "execution_count": null,
   "metadata": {},
   "outputs": [],
   "source": []
  },
  {
   "cell_type": "code",
   "execution_count": null,
   "metadata": {},
   "outputs": [],
   "source": []
  },
  {
   "cell_type": "code",
   "execution_count": null,
   "metadata": {},
   "outputs": [],
   "source": []
  },
  {
   "cell_type": "code",
   "execution_count": null,
   "metadata": {},
   "outputs": [],
   "source": []
  },
  {
   "cell_type": "code",
   "execution_count": null,
   "metadata": {},
   "outputs": [],
   "source": []
  },
  {
   "cell_type": "code",
   "execution_count": null,
   "metadata": {},
   "outputs": [],
   "source": []
  },
  {
   "cell_type": "code",
   "execution_count": null,
   "metadata": {},
   "outputs": [],
   "source": []
  }
 ],
 "metadata": {
  "kernelspec": {
   "display_name": "Python 3",
   "language": "python",
   "name": "python3"
  },
  "language_info": {
   "codemirror_mode": {
    "name": "ipython",
    "version": 3
   },
   "file_extension": ".py",
   "mimetype": "text/x-python",
   "name": "python",
   "nbconvert_exporter": "python",
   "pygments_lexer": "ipython3",
   "version": "3.7.6"
  }
 },
 "nbformat": 4,
 "nbformat_minor": 2
}

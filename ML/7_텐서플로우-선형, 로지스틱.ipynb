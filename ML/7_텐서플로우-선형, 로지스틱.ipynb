{
 "cells": [
  {
   "cell_type": "code",
   "execution_count": 1,
   "metadata": {},
   "outputs": [],
   "source": [
    "import tensorflow as tf\n",
    "import numpy as np\n",
    "import pandas as pd\n",
    "import matplotlib.pylab as plt\n",
    "import sys"
   ]
  },
  {
   "cell_type": "code",
   "execution_count": 2,
   "metadata": {},
   "outputs": [],
   "source": [
    "# http://hunkim.github.io/ml/   -   Linear Regression의 개념 비디오 강의슬라이드, 실습슬라이드 참고"
   ]
  },
  {
   "cell_type": "markdown",
   "metadata": {},
   "source": [
    "## 단순 선형 회귀 모델"
   ]
  },
  {
   "cell_type": "code",
   "execution_count": 10,
   "metadata": {
    "scrolled": true
   },
   "outputs": [
    {
     "name": "stdout",
     "output_type": "stream",
     "text": [
      "74.666664\n",
      "70.98\n",
      "67.386665\n",
      "63.88667\n",
      "60.479992\n",
      "57.166668\n",
      "53.946674\n",
      "50.819996\n",
      "47.78667\n",
      "44.84666\n",
      "42.0\n",
      "39.246666\n",
      "36.586662\n",
      "34.020004\n",
      "31.546667\n",
      "29.166666\n",
      "26.88\n",
      "24.686666\n",
      "22.58667\n",
      "20.58\n",
      "18.666666\n",
      "16.846666\n",
      "15.12\n",
      "13.486667\n",
      "11.946668\n",
      "10.5\n",
      "9.146666\n",
      "7.886667\n",
      "6.72\n",
      "5.646666\n",
      "4.6666665\n",
      "3.78\n",
      "2.986667\n",
      "2.2866664\n",
      "1.68\n",
      "1.1666666\n",
      "0.7466666\n",
      "0.42000008\n",
      "0.18666662\n",
      "0.04666671\n",
      "0.0\n",
      "0.04666671\n",
      "0.18666674\n",
      "0.41999987\n",
      "0.7466665\n",
      "1.1666666\n",
      "1.6800003\n",
      "2.2866673\n",
      "2.986666\n",
      "3.7799995\n",
      "4.6666665\n",
      "5.646666\n",
      "6.720001\n",
      "7.8866653\n",
      "9.146668\n",
      "10.5\n",
      "11.946666\n",
      "13.486669\n",
      "15.119998\n",
      "16.84667\n",
      "18.666666\n",
      "20.579996\n",
      "22.58667\n",
      "24.686666\n",
      "26.880005\n",
      "29.166666\n",
      "31.546661\n",
      "34.020004\n",
      "36.586662\n",
      "39.24667\n",
      "42.0\n",
      "44.84666\n",
      "47.786663\n",
      "50.820007\n",
      "53.946674\n",
      "57.166668\n",
      "60.479992\n",
      "63.886658\n",
      "67.386665\n",
      "70.98\n"
     ]
    },
    {
     "data": {
      "image/png": "[encoded data removed]",
      "text/plain": [
       "<Figure size 432x288 with 1 Axes>"
      ]
     },
     "metadata": {
      "needs_background": "light"
     },
     "output_type": "display_data"
    }
   ],
   "source": [
    "# 데이터 준비\n",
    "x_train = [1, 2, 3] # 입력값\n",
    "y_train = [1, 2, 3] # 결과값\n",
    "\n",
    "# wx + b = y  \n",
    "# x_train, y_train 값에 위의 식이 적합하려면\n",
    "# w = 1, b = 0의 값이 나와야한다\n",
    "# tensorflow는 이 값을 찾아줌\n",
    "\n",
    "W = tf.placeholder(tf.float32)\n",
    "\n",
    "# 가설 준비(Wx + b)\n",
    "hypot = W * x_train # 가중치 기준으로 준비하기, b는 일단 제외시켜보자\n",
    "\n",
    "# 비용함수 준비 # 실습슬라이드 p.7 중간식 참고\n",
    "cost = tf.reduce_mean(tf.square(hypot - y_train))   \n",
    "# tf.square : 제곱 / tf.reduce_mean : 전체데이터 평균 구해줌\n",
    "# --------------------- 텐서플로우의 그래프 완성 --------------------- # \n",
    "\n",
    "\n",
    "# 비용함수를 그래프로 그리기\n",
    "sess = tf.Session()\n",
    "\n",
    "cost_val=[]\n",
    "\n",
    "for i in range(-30, 50) :\n",
    "    cost_result = sess.run(cost, feed_dict={W:i*0.1}) \n",
    "    # cost : 최종값만 입력하면 앞에 다 처리됨\n",
    "    # feed_dict={W:i*0.1} : hypot에 입력값은 준비가 되었는데 W값은 뭔지 모름 / W에 i*0.1 씩 학습시키겠다\n",
    "    \n",
    "    print(cost_result) \n",
    "    # cost_result : W가 찾고자하는 비용 최저점 찾기  \n",
    "    \n",
    "    cost_val.append(cost_result)\n",
    "    \n",
    "# 그래프 \n",
    "plt.plot(cost_val)\n",
    "# 경사하강(Gradient Descent)\n",
    "# learning rate\n",
    "    \n",
    "sess.close()"
   ]
  },
  {
   "cell_type": "code",
   "execution_count": null,
   "metadata": {},
   "outputs": [],
   "source": []
  },
  {
   "cell_type": "code",
   "execution_count": null,
   "metadata": {},
   "outputs": [],
   "source": []
  },
  {
   "cell_type": "markdown",
   "metadata": {},
   "source": [
    "### 경사하강 알고리즘을 이용한 가중치 학습"
   ]
  },
  {
   "cell_type": "code",
   "execution_count": 51,
   "metadata": {},
   "outputs": [
    {
     "name": "stdout",
     "output_type": "stream",
     "text": [
      "step : 0, cost : 31.310312271118164, W : [-0.0237335]\n",
      "step : 1, cost : 13.515498161315918, W : [0.4540088]\n",
      "step : 2, cost : 7.087120056152344, W : [0.7088047]\n",
      "step : 3, cost : 4.529674053192139, W : [0.84469587]\n",
      "step : 4, cost : 3.4134607315063477, W : [0.9171711]\n",
      "step : 5, cost : 2.888620376586914, W : [0.9558246]\n",
      "step : 6, cost : 2.628751277923584, W : [0.9764398]\n",
      "step : 7, cost : 2.495856523513794, W : [0.98743457]\n",
      "step : 8, cost : 2.426600694656372, W : [0.9932984]\n",
      "step : 9, cost : 2.3901262283325195, W : [0.9964258]\n",
      "step : 10, cost : 2.3708040714263916, W : [0.9980938]\n",
      "step : 11, cost : 2.3605360984802246, W : [0.9989834]\n",
      "step : 12, cost : 2.3550703525543213, W : [0.9994578]\n",
      "step : 13, cost : 2.352158784866333, W : [0.9997108]\n",
      "step : 14, cost : 2.3506064414978027, W : [0.99984574]\n",
      "step : 15, cost : 2.3497791290283203, W : [0.99991775]\n",
      "step : 16, cost : 2.349337577819824, W : [0.99995613]\n",
      "step : 17, cost : 2.349102258682251, W : [0.9999766]\n",
      "step : 18, cost : 2.3489768505096436, W : [0.9999875]\n",
      "step : 19, cost : 2.348910093307495, W : [0.9999933]\n",
      "step : 20, cost : 2.34887433052063, W : [0.9999964]\n"
     ]
    }
   ],
   "source": [
    "# 데이터 준비\n",
    "x_train = [1, 2, 3] # 입력값\n",
    "y_train = [1, 2, 3] # 결과값\n",
    "\n",
    "W = tf.Variable(tf.random.normal([1]), dtype=tf.float32, name=\"Weight\")\n",
    "# tf.random.normal([1]) : 랜덤값 지정 / name=\"Weight\" : 변수 이름지정\n",
    "b = tf.Variable(tf.random.normal([1]), dtype=tf.float32, name=\"bias\")\n",
    "\n",
    "# 가설 준비(기본 단순 선형 모델)\n",
    "hypothesis = W * x_train + b\n",
    "\n",
    "# 비용함수 준비 # 실습슬라이드 p.7 중간식 참고\n",
    "cost = tf.reduce_mean(tf.square(hypothesis - y_train))   \n",
    "\n",
    "# 최저비용학습을 위한 경사 하강 알고리즘(Gradient Descent Algorithm)\n",
    "    # Linear Regression cost 함수 최소화 강의슬라이드 참고\n",
    "    # Gradient descent algorithm(p.17) 공식\n",
    "learning_rate = 0.1\n",
    "gradient = tf.reduce_mean((W * x_train - y_train)*x_train)\n",
    "descent = W - learning_rate * gradient\n",
    "update = W.assign(descent)\n",
    "# 알파값(learning_rate)은 파라미터 값, cost 줄이는 gradient 선택하기 \n",
    "# tensorflow에는 같은 변수에 바로 할당(W = W.ksjfkdf)할수없어서 assign 사용\n",
    "\n",
    "##################### Graph 작업 완료\n",
    "\n",
    "sess = tf.Session()\n",
    "sess.run(tf.global_variables_initializer())\n",
    "\n",
    "for step in range(21) :\n",
    "    _, c, w = sess.run([update, cost, W])\n",
    "    # 제일 마지막 단계 update만 넣어주면 나머진 다 알아서 실행된다요오오오오오오옹로오\n",
    "    # 근데 cost랑 W 값 궁금하니까 얘네도 return해주세요 \n",
    "    #  _, c, w : update는 제외하고 c, w 값만 받아보자\n",
    "    print(\"step : {}, cost : {}, W : {}\".format(step, c, w))\n",
    "    \n",
    "sess.close()"
   ]
  },
  {
   "cell_type": "code",
   "execution_count": null,
   "metadata": {},
   "outputs": [],
   "source": []
  },
  {
   "cell_type": "code",
   "execution_count": 50,
   "metadata": {
    "scrolled": true
   },
   "outputs": [
    {
     "name": "stdout",
     "output_type": "stream",
     "text": [
      "step : 0, cost : 22.773441314697266, W : [0.69332623]\n",
      "step : 1, cost : 5.273974418640137, W : [0.92333156]\n",
      "step : 2, cost : 2.882951021194458, W : [0.9808329]\n",
      "step : 3, cost : 2.4091854095458984, W : [0.9952082]\n",
      "step : 4, cost : 2.2984933853149414, W : [0.99880207]\n",
      "step : 5, cost : 2.2713046073913574, W : [0.99970055]\n",
      "step : 6, cost : 2.2645373344421387, W : [0.99992514]\n",
      "step : 7, cost : 2.262847900390625, W : [0.9999813]\n",
      "step : 8, cost : 2.262425422668457, W : [0.99999535]\n",
      "step : 9, cost : 2.262319564819336, W : [0.9999988]\n",
      "step : 10, cost : 2.262293815612793, W : [0.9999997]\n",
      "step : 11, cost : 2.262287139892578, W : [0.99999994]\n",
      "step : 12, cost : 2.2622852325439453, W : [1.]\n",
      "step : 13, cost : 2.262284755706787, W : [1.]\n",
      "step : 14, cost : 2.262284755706787, W : [1.]\n",
      "step : 15, cost : 2.262284755706787, W : [1.]\n",
      "step : 16, cost : 2.262284755706787, W : [1.]\n",
      "step : 17, cost : 2.262284755706787, W : [1.]\n",
      "step : 18, cost : 2.262284755706787, W : [1.]\n",
      "step : 19, cost : 2.262284755706787, W : [1.]\n",
      "step : 20, cost : 2.262284755706787, W : [1.]\n",
      "step : 21, cost : 2.262284755706787, W : [1.]\n",
      "step : 22, cost : 2.262284755706787, W : [1.]\n",
      "step : 23, cost : 2.262284755706787, W : [1.]\n",
      "step : 24, cost : 2.262284755706787, W : [1.]\n",
      "step : 25, cost : 2.262284755706787, W : [1.]\n",
      "step : 26, cost : 2.262284755706787, W : [1.]\n",
      "step : 27, cost : 2.262284755706787, W : [1.]\n",
      "step : 28, cost : 2.262284755706787, W : [1.]\n",
      "step : 29, cost : 2.262284755706787, W : [1.]\n",
      "step : 30, cost : 2.262284755706787, W : [1.]\n",
      "step : 31, cost : 2.262284755706787, W : [1.]\n",
      "step : 32, cost : 2.262284755706787, W : [1.]\n",
      "step : 33, cost : 2.262284755706787, W : [1.]\n",
      "step : 34, cost : 2.262284755706787, W : [1.]\n",
      "step : 35, cost : 2.262284755706787, W : [1.]\n",
      "step : 36, cost : 2.262284755706787, W : [1.]\n",
      "step : 37, cost : 2.262284755706787, W : [1.]\n",
      "step : 38, cost : 2.262284755706787, W : [1.]\n",
      "step : 39, cost : 2.262284755706787, W : [1.]\n",
      "step : 40, cost : 2.262284755706787, W : [1.]\n",
      "step : 41, cost : 2.262284755706787, W : [1.]\n",
      "step : 42, cost : 2.262284755706787, W : [1.]\n",
      "step : 43, cost : 2.262284755706787, W : [1.]\n",
      "step : 44, cost : 2.262284755706787, W : [1.]\n",
      "step : 45, cost : 2.262284755706787, W : [1.]\n",
      "step : 46, cost : 2.262284755706787, W : [1.]\n",
      "step : 47, cost : 2.262284755706787, W : [1.]\n",
      "step : 48, cost : 2.262284755706787, W : [1.]\n",
      "step : 49, cost : 2.262284755706787, W : [1.]\n",
      "step : 50, cost : 2.262284755706787, W : [1.]\n",
      "step : 51, cost : 2.262284755706787, W : [1.]\n",
      "step : 52, cost : 2.262284755706787, W : [1.]\n",
      "step : 53, cost : 2.262284755706787, W : [1.]\n",
      "step : 54, cost : 2.262284755706787, W : [1.]\n",
      "step : 55, cost : 2.262284755706787, W : [1.]\n",
      "step : 56, cost : 2.262284755706787, W : [1.]\n",
      "step : 57, cost : 2.262284755706787, W : [1.]\n",
      "step : 58, cost : 2.262284755706787, W : [1.]\n",
      "step : 59, cost : 2.262284755706787, W : [1.]\n",
      "step : 60, cost : 2.262284755706787, W : [1.]\n",
      "step : 61, cost : 2.262284755706787, W : [1.]\n",
      "step : 62, cost : 2.262284755706787, W : [1.]\n",
      "step : 63, cost : 2.262284755706787, W : [1.]\n",
      "step : 64, cost : 2.262284755706787, W : [1.]\n",
      "step : 65, cost : 2.262284755706787, W : [1.]\n",
      "step : 66, cost : 2.262284755706787, W : [1.]\n",
      "step : 67, cost : 2.262284755706787, W : [1.]\n",
      "step : 68, cost : 2.262284755706787, W : [1.]\n",
      "step : 69, cost : 2.262284755706787, W : [1.]\n",
      "step : 70, cost : 2.262284755706787, W : [1.]\n",
      "step : 71, cost : 2.262284755706787, W : [1.]\n",
      "step : 72, cost : 2.262284755706787, W : [1.]\n",
      "step : 73, cost : 2.262284755706787, W : [1.]\n",
      "step : 74, cost : 2.262284755706787, W : [1.]\n",
      "step : 75, cost : 2.262284755706787, W : [1.]\n",
      "step : 76, cost : 2.262284755706787, W : [1.]\n",
      "step : 77, cost : 2.262284755706787, W : [1.]\n",
      "step : 78, cost : 2.262284755706787, W : [1.]\n",
      "step : 79, cost : 2.262284755706787, W : [1.]\n",
      "step : 80, cost : 2.262284755706787, W : [1.]\n",
      "step : 81, cost : 2.262284755706787, W : [1.]\n",
      "step : 82, cost : 2.262284755706787, W : [1.]\n",
      "step : 83, cost : 2.262284755706787, W : [1.]\n",
      "step : 84, cost : 2.262284755706787, W : [1.]\n",
      "step : 85, cost : 2.262284755706787, W : [1.]\n",
      "step : 86, cost : 2.262284755706787, W : [1.]\n",
      "step : 87, cost : 2.262284755706787, W : [1.]\n",
      "step : 88, cost : 2.262284755706787, W : [1.]\n",
      "step : 89, cost : 2.262284755706787, W : [1.]\n",
      "step : 90, cost : 2.262284755706787, W : [1.]\n",
      "step : 91, cost : 2.262284755706787, W : [1.]\n",
      "step : 92, cost : 2.262284755706787, W : [1.]\n",
      "step : 93, cost : 2.262284755706787, W : [1.]\n",
      "step : 94, cost : 2.262284755706787, W : [1.]\n",
      "step : 95, cost : 2.262284755706787, W : [1.]\n",
      "step : 96, cost : 2.262284755706787, W : [1.]\n",
      "step : 97, cost : 2.262284755706787, W : [1.]\n",
      "step : 98, cost : 2.262284755706787, W : [1.]\n",
      "step : 99, cost : 2.262284755706787, W : [1.]\n"
     ]
    }
   ],
   "source": [
    "# x_train, y_train 제대로 주어지지 않은 상태에서 데이터 예측\n",
    "\n",
    "# 데이터 준비\n",
    "x_train = tf.placeholder(tf.float32, shape=[None]) # shape : 몇개 데이터 넘겨줄지 알려줘야함 / None 1차원으로 넘겨줌\n",
    "y_train = tf.placeholder(tf.float32, shape=[None])\n",
    "\n",
    "W = tf.Variable(tf.random.normal([1]), dtype=tf.float32, name=\"Weight\")\n",
    "b = tf.Variable(tf.random.normal([1]), dtype=tf.float32, name=\"bias\")\n",
    "\n",
    "# 가설 준비(기본 단순 선형 모델)\n",
    "hypothesis = W * x_train + b\n",
    "\n",
    "# 비용함수 준비 # 실습슬라이드 p.7 중간식 참고\n",
    "cost = tf.reduce_mean(tf.square(hypothesis - y_train))   \n",
    "\n",
    "# 최저비용학습을 위한 경사 하강 알고리즘(Gradient Descent Algorithm)\n",
    "    # Linear Regression cost 함수 최소화 강의슬라이드 참고\n",
    "    # Gradient descent algorithm(p.17) 공식\n",
    "learning_rate = 0.1\n",
    "gradient = tf.reduce_mean((W * x_train - y_train)*x_train)\n",
    "descent = W - learning_rate * gradient\n",
    "update = W.assign(descent)\n",
    "# 알파값(learning_rate)은 파라미터 값, cost 줄이는 gradient 선택하기 \n",
    "# tensorflow에는 같은 변수에 바로 할당(W = W.ksjfkdf)할수없어서 assign 사용\n",
    "\n",
    "##################### Graph 작업 완료\n",
    "\n",
    "sess = tf.Session()\n",
    "sess.run(tf.global_variables_initializer())\n",
    "\n",
    "for step in range(100) :\n",
    "    _, c, w = sess.run([update, cost, W], feed_dict={x_train:[1, 2, 3, 4], y_train:[1, 2, 3, 4]}) # x_train에는 4개의 값 넘겨주기 \n",
    "    # 제일 마지막 단계 update만 넣어주면 나머진 다 알아서 실행된다요오오오오오오옹로오\n",
    "    # 근데 cost랑 W 값 궁금하니까 얘네도 return해주세요 \n",
    "    #  _, c, w : update는 제외하고 c, w 값만 받아보자\n",
    "    print(\"step : {}, cost : {}, W : {}\".format(step, c, w))\n",
    "    \n",
    "sess.close()"
   ]
  },
  {
   "cell_type": "code",
   "execution_count": null,
   "metadata": {},
   "outputs": [],
   "source": []
  },
  {
   "cell_type": "code",
   "execution_count": 48,
   "metadata": {},
   "outputs": [
    {
     "name": "stdout",
     "output_type": "stream",
     "text": [
      "step : 0, cost : 1.1947587728500366, W : [0.66248393]\n",
      "step : 1, cost : 0.8296979665756226, W : [0.7123737]\n",
      "step : 2, cost : 0.5763856768608093, W : [0.7539509]\n",
      "step : 3, cost : 0.4006136655807495, W : [0.7886038]\n",
      "step : 4, cost : 0.27864524722099304, W : [0.81748873]\n",
      "step : 5, cost : 0.19400988519191742, W : [0.84156895]\n",
      "step : 6, cost : 0.13527919352054596, W : [0.8616468]\n",
      "step : 7, cost : 0.09452325850725174, W : [0.87839055]\n",
      "step : 8, cost : 0.06623974442481995, W : [0.8923571]\n",
      "step : 9, cost : 0.04661041498184204, W : [0.9040101]\n",
      "step : 10, cost : 0.03298626095056534, W : [0.913736]\n",
      "step : 11, cost : 0.023528777062892914, W : [0.9218564]\n",
      "step : 12, cost : 0.016962707042694092, W : [0.92863953]\n",
      "step : 13, cost : 0.012402765452861786, W : [0.9343086]\n",
      "step : 14, cost : 0.009234962053596973, W : [0.93904954]\n",
      "step : 15, cost : 0.007033143192529678, W : [0.9430174]\n",
      "step : 16, cost : 0.005501613020896912, W : [0.9463412]\n",
      "step : 17, cost : 0.004435183946043253, W : [0.94912845]\n",
      "step : 18, cost : 0.0036915361415594816, W : [0.9514687]\n",
      "step : 19, cost : 0.0031718448735773563, W : [0.95343655]\n",
      "step : 20, cost : 0.0028076008893549442, W : [0.9550941]\n"
     ]
    }
   ],
   "source": [
    "# 경사하강알고리즘 자체를 해주는 객체 사용\n",
    "\n",
    "# 데이터 준비\n",
    "x_train = tf.placeholder(tf.float32, shape=[None]) # shape : 몇개 데이터 넘겨줄지 알려줘야함 / None 1차원으로 넘겨줌\n",
    "y_train = tf.placeholder(tf.float32, shape=[None])\n",
    "\n",
    "W = tf.Variable(tf.random.normal([1]), dtype=tf.float32, name=\"Weight\")\n",
    "b = tf.Variable(tf.random.normal([1]), dtype=tf.float32, name=\"bias\")\n",
    "\n",
    "# 가설 준비(기본 단순 선형 모델)\n",
    "hypothesis = W * x_train + b\n",
    "\n",
    "# 비용함수 준비 # 실습슬라이드 p.7 중간식 참고\n",
    "cost = tf.reduce_mean(tf.square(hypothesis - y_train))   \n",
    "\n",
    "# 최저비용학습을 위한 경사 하강 알고리즘(Gradient Descent Algorithm)\n",
    "optimizer = tf.train.GradientDescentOptimizer(learning_rate=0.01)\n",
    "train = optimizer.minimize(cost)# minimize 에 가설 공식 넣어주면 됨\n",
    "\n",
    "##################### Graph 작업 완료\n",
    "\n",
    "sess = tf.Session()\n",
    "sess.run(tf.global_variables_initializer())\n",
    "\n",
    "for step in range(21) :\n",
    "    _, c, w = sess.run([train, cost, W], feed_dict={x_train:[1, 2, 3, 4], y_train:[1, 2, 3, 4]}) # x_train에는 4개의 값 넘겨주기 \n",
    "    # 제일 마지막 단계 update만 넣어주면 나머진 다 알아서 실행된다요오오오오오오옹로오\n",
    "    # 근데 cost랑 W 값 궁금하니까 얘네도 return해주세요 \n",
    "    #  _, c, w : update는 제외하고 c, w 값만 받아보자\n",
    "    print(\"step : {}, cost : {}, W : {}\".format(step, c, w))\n",
    "    \n",
    "sess.close()"
   ]
  },
  {
   "cell_type": "code",
   "execution_count": null,
   "metadata": {},
   "outputs": [],
   "source": []
  },
  {
   "cell_type": "code",
   "execution_count": 65,
   "metadata": {
    "collapsed": true
   },
   "outputs": [
    {
     "name": "stdout",
     "output_type": "stream",
     "text": [
      "step : 0, cost : 9.969096183776855, W : [0.3778319], bias : [0.7219428]\n",
      "step : 100, cost : 0.003398333443328738, W : [1.037719], bias : [0.9638223]\n",
      "step : 200, cost : 0.0017262387555092573, W : [1.026883], bias : [1.0029436]\n",
      "step : 300, cost : 0.0008768863044679165, W : [1.01916], bias : [1.030826]\n",
      "step : 400, cost : 0.00044543101103045046, W : [1.0136558], bias : [1.0506982]\n",
      "step : 500, cost : 0.000226268355618231, W : [1.0097327], bias : [1.0648613]\n",
      "step : 600, cost : 0.0001149408271885477, W : [1.0069369], bias : [1.0749557]\n",
      "step : 700, cost : 5.838323340867646e-05, W : [1.0049438], bias : [1.0821508]\n",
      "step : 800, cost : 2.9657454433618113e-05, W : [1.0035236], bias : [1.0872784]\n",
      "step : 900, cost : 1.5063315004226752e-05, W : [1.0025114], bias : [1.0909333]\n",
      "step : 1000, cost : 7.651731721125543e-06, W : [1.0017899], bias : [1.0935379]\n",
      "step : 1100, cost : 3.8863063309690915e-06, W : [1.0012757], bias : [1.0953946]\n",
      "step : 1200, cost : 1.9740641619137023e-06, W : [1.0009092], bias : [1.0967176]\n",
      "step : 1300, cost : 1.0033041917267838e-06, W : [1.0006481], bias : [1.0976601]\n",
      "step : 1400, cost : 5.095937467558542e-07, W : [1.000462], bias : [1.098332]\n",
      "step : 1500, cost : 2.591003180896223e-07, W : [1.0003295], bias : [1.0988107]\n",
      "step : 1600, cost : 1.317547457801993e-07, W : [1.0002348], bias : [1.0991518]\n",
      "step : 1700, cost : 6.703245247763334e-08, W : [1.0001675], bias : [1.0993949]\n",
      "step : 1800, cost : 3.4100320789320904e-08, W : [1.0001196], bias : [1.0995685]\n",
      "step : 1900, cost : 1.7435240806662478e-08, W : [1.0000854], bias : [1.0996917]\n"
     ]
    }
   ],
   "source": [
    "# 데이터 준비\n",
    "x_train = tf.placeholder(tf.float32, shape=[None]) # shape : 몇개 데이터 넘겨줄지 알려줘야함 / None 1차원으로 넘겨줌\n",
    "y_train = tf.placeholder(tf.float32, shape=[None])\n",
    "\n",
    "W = tf.Variable(tf.random.normal([1]), dtype=tf.float32, name=\"Weight\")\n",
    "b = tf.Variable(tf.random.normal([1]), dtype=tf.float32, name=\"bias\")\n",
    "\n",
    "# 가설 준비(기본 단순 선형 모델)\n",
    "hypothesis = W * x_train + b\n",
    "\n",
    "# 비용함수 준비 # 실습슬라이드 p.7 중간식 참고\n",
    "cost = tf.reduce_mean(tf.square(hypothesis - y_train))   \n",
    "\n",
    "# 최저비용학습을 위한 경사 하강 알고리즘(Gradient Descent Algorithm)\n",
    "optimizer = tf.train.GradientDescentOptimizer(learning_rate=0.01)\n",
    "train = optimizer.minimize(cost) # minimize 에 가설 공식 넣어주면 됨\n",
    "\n",
    "##################### Graph 작업 완료\n",
    "\n",
    "sess = tf.Session()\n",
    "sess.run(tf.global_variables_initializer())\n",
    "\n",
    "for step in range(2000) :\n",
    "    _, curr_c, curr_w, curr_b = sess.run([train, cost, W, b], feed_dict={x_train:[1, 2, 3, 4, 5],\n",
    "                                                    y_train:[2.1, 3.1, 4.1, 5.1, 6.1]}) # x_train에는 4개의 값 넘겨주기 \n",
    "    \n",
    "    if step % 100 == 0: # 2000번 너무 많으니까 걍 100번에 한번 찍히도록\n",
    "        print(\"step : {}, cost : {}, W : {}, bias : {}\".format(step, curr_c, curr_w, curr_b))\n",
    "        \n",
    "# session 계속 훈련시키기"
   ]
  },
  {
   "cell_type": "code",
   "execution_count": 66,
   "metadata": {},
   "outputs": [
    {
     "name": "stdout",
     "output_type": "stream",
     "text": [
      "[28.101427]\n",
      "[3.5999317 4.800005 ]\n"
     ]
    }
   ],
   "source": [
    "# testing\n",
    "print(sess.run(hypothesis, feed_dict={x_train:[27]}))\n",
    "print(sess.run(hypothesis, feed_dict={x_train:[2.5, 3.7]}))\n",
    "\n",
    "sess.close()"
   ]
  },
  {
   "cell_type": "code",
   "execution_count": 157,
   "metadata": {
    "scrolled": true
   },
   "outputs": [
    {
     "name": "stdout",
     "output_type": "stream",
     "text": [
      "step : 0, hypothesis : [-0.7621369 -0.918597  -1.0750571 -1.2315173 -1.3879775 -1.5444376\n",
      " -1.7008977], cost : 13455145984.0\n",
      "step : 500, hypothesis : [ 29443.41   54486.055  79528.7   104571.34  129613.984 154656.64\n",
      " 179699.28 ], cost : 10400110.0\n",
      "step : 1000, hypothesis : [ 29028.521  54176.156  79323.8   104471.42  129619.06  154766.7\n",
      " 179914.33 ], cost : 9835889.0\n",
      "step : 1500, hypothesis : [ 28686.2    53920.453  79154.71  104388.96  129623.21  154857.47\n",
      " 180091.72 ], cost : 9451773.0\n",
      "step : 2000, hypothesis : [ 28403.76  53709.48  79015.2  104320.92 129626.64 154932.38 180238.1 ], cost : 9190289.0\n",
      "step : 2500, hypothesis : [ 28170.723  53535.406  78900.086 104264.77  129629.46  154994.14\n",
      " 180358.83 ], cost : 9012278.0\n",
      "step : 3000, hypothesis : [ 27978.453  53391.785  78805.12  104218.445 129631.77  155045.12\n",
      " 180458.45 ], cost : 8891104.0\n",
      "step : 3500, hypothesis : [ 27819.82   53273.293  78726.766 104180.24  129633.72  155087.19\n",
      " 180540.67 ], cost : 8808604.0\n",
      "step : 4000, hypothesis : [ 27688.934  53175.523  78662.11  104148.7   129635.3   155121.88\n",
      " 180608.47 ], cost : 8752441.0\n",
      "step : 4500, hypothesis : [ 27580.951  53094.875  78608.8   104122.72  129636.64  155150.56\n",
      " 180664.48 ], cost : 8714209.0\n",
      "step : 5000, hypothesis : [ 27491.842  53028.297  78564.75  104101.2   129637.66  155174.12\n",
      " 180710.58 ], cost : 8688185.0\n",
      "step : 5500, hypothesis : [ 27418.332  52973.4    78528.46  104083.52  129638.586 155193.66\n",
      " 180748.72 ], cost : 8670461.0\n",
      "step : 6000, hypothesis : [ 27357.674  52928.086  78498.49  104068.91  129639.32  155209.73\n",
      " 180780.16 ], cost : 8658397.0\n",
      "step : 6500, hypothesis : [ 27307.637  52890.715  78473.79  104056.87  129639.945 155223.03\n",
      " 180806.11 ], cost : 8650183.0\n",
      "step : 7000, hypothesis : [ 27266.354  52859.89   78453.42  104046.96  129640.5   155234.03\n",
      " 180827.58 ], cost : 8644589.0\n",
      "step : 7500, hypothesis : [ 27232.254  52834.39   78436.52  104038.66  129640.79  155242.94\n",
      " 180845.06 ], cost : 8640782.0\n",
      "step : 8000, hypothesis : [ 27204.164  52813.44   78422.72  104031.99  129641.266 155250.55\n",
      " 180859.81 ], cost : 8638186.0\n",
      "step : 8500, hypothesis : [ 27180.957  52796.098  78411.234 104026.375 129641.516 155256.64\n",
      " 180871.78 ], cost : 8636416.0\n",
      "step : 9000, hypothesis : [ 27161.816  52781.8    78401.78  104021.766 129641.75  155261.73\n",
      " 180881.72 ], cost : 8635220.0\n",
      "step : 9500, hypothesis : [ 27146.041  52770.03   78394.02  104018.016 129642.01  155265.98\n",
      " 180889.98 ], cost : 8634399.0\n"
     ]
    }
   ],
   "source": [
    "# 아래의 데이터를 가지고 하루 8시간을 일했을 때 매출액이 얼마인지 예측하시오.\n",
    "x_data = [1, 2, 3, 4, 5, 6, 7] # 7시간 일했을때까지\n",
    "y_data = [25000, 55000, 75000, 110000, 128000, 155000, 180000] # 각각의 매출액이 얼마인가\n",
    "\n",
    "X = tf.placeholder(tf.float32, shape=[None])\n",
    "y = tf.placeholder(tf.float32, shape=[None])\n",
    "\n",
    "W = tf.Variable(tf.random.normal([1]), dtype=tf.float32, name=\"Weight\")\n",
    "b = tf.Variable(tf.random.normal([1]), dtype=tf.float32, name=\"bias\")\n",
    "\n",
    "hypo = W * X + b\n",
    "\n",
    "cost = tf.reduce_mean(tf.square(hypo - y))\n",
    "\n",
    "optimizer = tf.train.GradientDescentOptimizer(learning_rate=0.001)\n",
    "train = optimizer.minimize(cost)\n",
    "\n",
    "sess = tf.Session()\n",
    "sess.run(tf.global_variables_initializer())\n",
    "\n",
    "for step in range(10000) :\n",
    "    _, curr_h, curr_c = sess.run([train, hypo, cost], feed_dict={X:x_data, y:y_data})\n",
    "    \n",
    "    if step % 500 == 0:        \n",
    "        print(\"step : {}, hypothesis : {}, cost : {}\".format(step, curr_h, curr_c))"
   ]
  },
  {
   "cell_type": "code",
   "execution_count": 159,
   "metadata": {},
   "outputs": [
    {
     "name": "stdout",
     "output_type": "stream",
     "text": [
      "[206523.78]\n"
     ]
    }
   ],
   "source": [
    "# 8시간 일했을 때의 매출액 알기\n",
    "print(sess.run(hypo, feed_dict={X:[8]}))\n",
    "\n",
    "sess.close()"
   ]
  },
  {
   "cell_type": "code",
   "execution_count": null,
   "metadata": {},
   "outputs": [],
   "source": []
  },
  {
   "cell_type": "code",
   "execution_count": null,
   "metadata": {},
   "outputs": [],
   "source": []
  },
  {
   "cell_type": "markdown",
   "metadata": {},
   "source": [
    "### 다중 선형 회귀모델"
   ]
  },
  {
   "cell_type": "code",
   "execution_count": null,
   "metadata": {},
   "outputs": [],
   "source": [
    "# 여러개의 입력의 Linear Regression  강의슬라이드, lab슬라이드 참고"
   ]
  },
  {
   "cell_type": "code",
   "execution_count": 93,
   "metadata": {},
   "outputs": [],
   "source": [
    "x1_data = [73., 93., 89., 96., 73.]\n",
    "x2_data = [80., 88., 91., 98., 66.]\n",
    "x3_data = [75., 93., 90., 100., 70.]\n",
    "y_data = [152., 185., 180., 196., 142.]"
   ]
  },
  {
   "cell_type": "code",
   "execution_count": 94,
   "metadata": {},
   "outputs": [
    {
     "name": "stdout",
     "output_type": "stream",
     "text": [
      "step : 0, cost : 3160.19189453125, hypothesis : [196.37163 247.84644 238.23853 259.26968 191.8765 ]\n",
      "step : 100, cost : 10.93991470336914, hypothesis : [146.71205 187.91507 179.31421 195.08775 146.11546]\n",
      "step : 200, cost : 10.373735427856445, hypothesis : [146.83801 187.82875 179.35283 195.11542 146.00243]\n",
      "step : 300, cost : 9.837379455566406, hypothesis : [146.96062 187.74472 179.39043 195.14233 145.89241]\n",
      "step : 400, cost : 9.329366683959961, hypothesis : [147.07994 187.66295 179.42702 195.16853 145.78535]\n",
      "step : 500, cost : 8.84810733795166, hypothesis : [147.19608 187.58334 179.46265 195.19398 145.68114]\n",
      "step : 600, cost : 8.392243385314941, hypothesis : [147.30911 187.50586 179.4973  195.21878 145.57973]\n",
      "step : 700, cost : 7.960448265075684, hypothesis : [147.41914 187.4305  179.53107 195.2429  145.48103]\n",
      "step : 800, cost : 7.55142068862915, hypothesis : [147.52625 187.35712 179.56392 195.2664  145.38501]\n",
      "step : 900, cost : 7.163971900939941, hypothesis : [147.63046 187.28569 179.59589 195.28922 145.29152]\n",
      "step : 1000, cost : 6.796971321105957, hypothesis : [147.7319  187.21619 179.62701 195.31145 145.20055]\n",
      "step : 1100, cost : 6.449307918548584, hypothesis : [147.83064 187.14851 179.65729 195.33307 145.11201]\n",
      "step : 1200, cost : 6.120002746582031, hypothesis : [147.92674 187.08267 179.68677 195.3541  145.02585]\n",
      "step : 1300, cost : 5.808054447174072, hypothesis : [148.02028 187.01859 179.71545 195.37457 144.94199]\n",
      "step : 1400, cost : 5.512570858001709, hypothesis : [148.11131 186.95619 179.7434  195.39449 144.86038]\n",
      "step : 1500, cost : 5.232680320739746, hypothesis : [148.1999  186.89548 179.77057 195.41386 144.78094]\n",
      "step : 1600, cost : 4.967539310455322, hypothesis : [148.28616 186.8364  179.79704 195.43272 144.70366]\n",
      "step : 1700, cost : 4.7164082527160645, hypothesis : [148.37009 186.77888 179.82277 195.45105 144.62842]\n",
      "step : 1800, cost : 4.478509902954102, hypothesis : [148.4518  186.72292 179.84785 195.4689  144.55522]\n",
      "step : 1900, cost : 4.253139972686768, hypothesis : [148.53131 186.66841 179.87224 195.48628 144.48396]\n"
     ]
    }
   ],
   "source": [
    "# 단순하게 처리하는 경우\n",
    "\n",
    "X1 = tf.placeholder(tf.float32, shape=[None])\n",
    "X2 = tf.placeholder(tf.float32, shape=[None])\n",
    "X3 = tf.placeholder(tf.float32, shape=[None])\n",
    "y = tf.placeholder(tf.float32, shape=[None])\n",
    "\n",
    "W1 = tf.Variable(tf.random_normal([1]))\n",
    "W2 = tf.Variable(tf.random_normal([1]))\n",
    "W3 = tf.Variable(tf.random_normal([1]))\n",
    "b = tf.Variable(tf.random_normal([1]))\n",
    "\n",
    "# 가설 설정\n",
    "hypothesis = W1*X1 + W2*X2 + W3*X3 + b\n",
    "\n",
    "# 비용함수\n",
    "cost = tf.reduce_mean(tf.square(hypothesis - y))\n",
    "\n",
    "# 최소 비용 계산\n",
    "train = tf.train.GradientDescentOptimizer(learning_rate=1e-5).minimize(cost)\n",
    "\n",
    "##################### Graph 작업 완료\n",
    "\n",
    "with tf.Session() as sess : \n",
    "    sess.run(tf.global_variables_initializer())\n",
    "    for step in range(2000) :\n",
    "        _, hy, co = sess.run([train, hypothesis, cost], feed_dict={X1:x1_data, X2:x2_data, X3:x3_data, y:y_data})\n",
    "        if step % 100 == 0: \n",
    "            print(\"step : {}, cost : {}, hypothesis : {}\".format(step, co, hy))\n",
    "            # hypothesis 결과값이 실제 결과값 y_data 와 비슷한지 알아보기"
   ]
  },
  {
   "cell_type": "code",
   "execution_count": null,
   "metadata": {},
   "outputs": [],
   "source": []
  },
  {
   "cell_type": "code",
   "execution_count": 87,
   "metadata": {
    "scrolled": true
   },
   "outputs": [
    {
     "name": "stdout",
     "output_type": "stream",
     "text": [
      "step : 0, cost : 60519.35546875, hypothesis : [[-68.44322 ]\n",
      " [-76.32652 ]\n",
      " [-78.084915]\n",
      " [-87.8255  ]\n",
      " [-54.32952 ]]\n",
      "step : 100, cost : 4.92209005355835, hypothesis : [[149.90068]\n",
      " [185.97198]\n",
      " [180.43182]\n",
      " [193.69054]\n",
      " [145.70654]]\n",
      "step : 200, cost : 4.732911586761475, hypothesis : [[149.9697 ]\n",
      " [185.92413]\n",
      " [180.45229]\n",
      " [193.71077]\n",
      " [145.63913]]\n",
      "step : 300, cost : 4.553365707397461, hypothesis : [[150.03683]\n",
      " [185.87756]\n",
      " [180.47215]\n",
      " [193.73058]\n",
      " [145.57344]]\n",
      "step : 400, cost : 4.3830342292785645, hypothesis : [[150.10211]\n",
      " [185.83228]\n",
      " [180.49146]\n",
      " [193.74994]\n",
      " [145.50945]]\n",
      "step : 500, cost : 4.221369743347168, hypothesis : [[150.16557]\n",
      " [185.78821]\n",
      " [180.5102 ]\n",
      " [193.7689 ]\n",
      " [145.44708]]\n",
      "step : 600, cost : 4.0679030418396, hypothesis : [[150.22726]\n",
      " [185.74535]\n",
      " [180.52838]\n",
      " [193.78746]\n",
      " [145.38628]]\n",
      "step : 700, cost : 3.922281265258789, hypothesis : [[150.28728]\n",
      " [185.70369]\n",
      " [180.5461 ]\n",
      " [193.80565]\n",
      " [145.32707]]\n",
      "step : 800, cost : 3.784053087234497, hypothesis : [[150.3456 ]\n",
      " [185.66316]\n",
      " [180.56328]\n",
      " [193.82344]\n",
      " [145.26936]]\n",
      "step : 900, cost : 3.652791976928711, hypothesis : [[150.40233]\n",
      " [185.62373]\n",
      " [180.57997]\n",
      " [193.84087]\n",
      " [145.21312]]\n",
      "step : 1000, cost : 3.5281829833984375, hypothesis : [[150.45747]\n",
      " [185.5854 ]\n",
      " [180.59618]\n",
      " [193.85793]\n",
      " [145.15831]]\n",
      "step : 1100, cost : 3.4098713397979736, hypothesis : [[150.51108]\n",
      " [185.54811]\n",
      " [180.61191]\n",
      " [193.87463]\n",
      " [145.1049 ]]\n",
      "step : 1200, cost : 3.2974905967712402, hypothesis : [[150.56319]\n",
      " [185.51186]\n",
      " [180.62721]\n",
      " [193.89102]\n",
      " [145.05284]]\n",
      "step : 1300, cost : 3.1907572746276855, hypothesis : [[150.61386]\n",
      " [185.47658]\n",
      " [180.64203]\n",
      " [193.90703]\n",
      " [145.00209]]\n",
      "step : 1400, cost : 3.0893492698669434, hypothesis : [[150.6631 ]\n",
      " [185.44228]\n",
      " [180.65643]\n",
      " [193.92273]\n",
      " [144.9526 ]]\n",
      "step : 1500, cost : 2.993046283721924, hypothesis : [[150.71097]\n",
      " [185.40894]\n",
      " [180.67041]\n",
      " [193.93811]\n",
      " [144.9044 ]]\n",
      "step : 1600, cost : 2.9015238285064697, hypothesis : [[150.75752]\n",
      " [185.37651]\n",
      " [180.684  ]\n",
      " [193.9532 ]\n",
      " [144.85742]]\n",
      "step : 1700, cost : 2.814513683319092, hypothesis : [[150.80275]\n",
      " [185.34494]\n",
      " [180.69716]\n",
      " [193.96797]\n",
      " [144.81158]]\n",
      "step : 1800, cost : 2.7318599224090576, hypothesis : [[150.84671]\n",
      " [185.31429]\n",
      " [180.70996]\n",
      " [193.98248]\n",
      " [144.76695]]\n",
      "step : 1900, cost : 2.6532700061798096, hypothesis : [[150.88943]\n",
      " [185.28445]\n",
      " [180.72238]\n",
      " [193.99667]\n",
      " [144.7234 ]]\n",
      "step : 2000, cost : 2.5785603523254395, hypothesis : [[150.93098]\n",
      " [185.25546]\n",
      " [180.73444]\n",
      " [194.01059]\n",
      " [144.68097]]\n"
     ]
    }
   ],
   "source": [
    "### Matrix로 처리하는 경우\n",
    "\n",
    "x_data = [[73., 80., 75.], [93., 88., 93.],\n",
    "         [89., 91., 90.], [96., 98., 100.], [73., 66., 70.]]\n",
    "y_data = [[152.], [185.], [180.], [196.], [142.]]\n",
    "\n",
    "X = tf.placeholder(tf.float32, shape=[None, 3]) # ?개로 입력되서 3개로 나옴\n",
    "y = tf.placeholder(tf.float32, shape=[None, 1])\n",
    "\n",
    "W = tf.Variable(tf.random_normal([3, 1])) # 위에 X에 5,3 행렬에서 가져올거 3 ([5, 3] * [3, 1])\n",
    "b = tf.Variable(tf.random_normal([1])) # 마지막 y로 출력하는 개수 1 (위에 [3, 1]에서의 1)\n",
    "\n",
    "# 가설 설정\n",
    "hypothesis = tf.matmul(X, W) + b # X, W 행렬곱으로 계산하기\n",
    "\n",
    "# 비용함수\n",
    "cost = tf.reduce_mean(tf.square(hypothesis - y))\n",
    "\n",
    "# 최소 비용 계산\n",
    "train = tf.train.GradientDescentOptimizer(learning_rate=1e-5).minimize(cost)\n",
    "\n",
    "##################### Graph 작업 완료\n",
    "\n",
    "with tf.Session() as sess : \n",
    "    sess.run(tf.global_variables_initializer())\n",
    "    for step in range(2001) :\n",
    "        _, hy, co = sess.run([train, hypothesis, cost], feed_dict={X:x_data, y:y_data})\n",
    "        \n",
    "        if step % 100 == 0: \n",
    "            print(\"step : {}, cost : {}, hypothesis : {}\".format(step, co, hy))\n",
    "            # hypothesis 결과값이 실제 결과값 y_data 와 비슷한지 알아보기"
   ]
  },
  {
   "cell_type": "code",
   "execution_count": null,
   "metadata": {},
   "outputs": [],
   "source": []
  },
  {
   "cell_type": "code",
   "execution_count": null,
   "metadata": {},
   "outputs": [],
   "source": []
  },
  {
   "cell_type": "markdown",
   "metadata": {},
   "source": [
    "## DASK\n",
    "    - 가상 데이터프레임\n",
    "    - 병렬처리용 작업 스케줄러"
   ]
  },
  {
   "cell_type": "code",
   "execution_count": 97,
   "metadata": {},
   "outputs": [
    {
     "name": "stdout",
     "output_type": "stream",
     "text": [
      "Writing data/sample1.csv\n"
     ]
    }
   ],
   "source": [
    "# 파일 생성 & 저장\n",
    "\n",
    "%%writefile \"data/sample1.csv\"\n",
    "c1, c2, c3\n",
    "1, 1.11, one\n",
    "2, 2.22, two\n",
    "3, 3.33, three"
   ]
  },
  {
   "cell_type": "code",
   "execution_count": 101,
   "metadata": {},
   "outputs": [
    {
     "data": {
      "text/plain": [
       "2.22"
      ]
     },
     "execution_count": 101,
     "metadata": {},
     "output_type": "execute_result"
    }
   ],
   "source": [
    "# 파일 가져오기\n",
    "\n",
    "df1 = pd.read_csv(\"data/sample1.csv\")\n",
    "df1 # 자동적으로 dataframe형식으로 가져옴 \n",
    "\n",
    "\n",
    "df1[\" c2\"].mean() # 컬럼이름앞에 공백있음"
   ]
  },
  {
   "cell_type": "code",
   "execution_count": null,
   "metadata": {},
   "outputs": [],
   "source": []
  },
  {
   "cell_type": "code",
   "execution_count": 103,
   "metadata": {},
   "outputs": [
    {
     "data": {
      "text/html": [
       "<div><strong>Dask DataFrame Structure:</strong></div>\n",
       "<div>\n",
       "<style scoped>\n",
       "    .dataframe tbody tr th:only-of-type {\n",
       "        vertical-align: middle;\n",
       "    }\n",
       "\n",
       "    .dataframe tbody tr th {\n",
       "        vertical-align: top;\n",
       "    }\n",
       "\n",
       "    .dataframe thead th {\n",
       "        text-align: right;\n",
       "    }\n",
       "</style>\n",
       "<table border=\"1\" class=\"dataframe\">\n",
       "  <thead>\n",
       "    <tr style=\"text-align: right;\">\n",
       "      <th></th>\n",
       "      <th>c1</th>\n",
       "      <th>c2</th>\n",
       "      <th>c3</th>\n",
       "    </tr>\n",
       "    <tr>\n",
       "      <th>npartitions=1</th>\n",
       "      <th></th>\n",
       "      <th></th>\n",
       "      <th></th>\n",
       "    </tr>\n",
       "  </thead>\n",
       "  <tbody>\n",
       "    <tr>\n",
       "      <th></th>\n",
       "      <td>int64</td>\n",
       "      <td>float64</td>\n",
       "      <td>object</td>\n",
       "    </tr>\n",
       "    <tr>\n",
       "      <th></th>\n",
       "      <td>...</td>\n",
       "      <td>...</td>\n",
       "      <td>...</td>\n",
       "    </tr>\n",
       "  </tbody>\n",
       "</table>\n",
       "</div>\n",
       "<div>Dask Name: from-delayed, 3 tasks</div>"
      ],
      "text/plain": [
       "Dask DataFrame Structure:\n",
       "                  c1       c2      c3\n",
       "npartitions=1                        \n",
       "               int64  float64  object\n",
       "                 ...      ...     ...\n",
       "Dask Name: from-delayed, 3 tasks"
      ]
     },
     "execution_count": 103,
     "metadata": {},
     "output_type": "execute_result"
    }
   ],
   "source": [
    "# dask를 이용해보자\n",
    "import dask.dataframe as dd\n",
    "\n",
    "df2 = dd.read_csv(\"data/sample1.csv\")\n",
    "df2 # 실제 데이터 값은 안올라오고 틀만 나타남 / Dask Name: from-delayed, 3 tasks : 데이터를 한번에 불러오고있지 않고있어요..."
   ]
  },
  {
   "cell_type": "code",
   "execution_count": 105,
   "metadata": {},
   "outputs": [
    {
     "name": "stderr",
     "output_type": "stream",
     "text": [
      "C:\\Users\\acorn\\AppData\\Local\\Continuum\\anaconda3\\envs\\tf1\\lib\\site-packages\\dask\\dataframe\\core.py:5916: UserWarning: Insufficient elements for `head`. 5 elements requested, only 3 elements available. Try passing larger `npartitions` to `head`.\n",
      "  warnings.warn(msg.format(n, len(r)))\n"
     ]
    },
    {
     "data": {
      "text/html": [
       "<div>\n",
       "<style scoped>\n",
       "    .dataframe tbody tr th:only-of-type {\n",
       "        vertical-align: middle;\n",
       "    }\n",
       "\n",
       "    .dataframe tbody tr th {\n",
       "        vertical-align: top;\n",
       "    }\n",
       "\n",
       "    .dataframe thead th {\n",
       "        text-align: right;\n",
       "    }\n",
       "</style>\n",
       "<table border=\"1\" class=\"dataframe\">\n",
       "  <thead>\n",
       "    <tr style=\"text-align: right;\">\n",
       "      <th></th>\n",
       "      <th>c1</th>\n",
       "      <th>c2</th>\n",
       "      <th>c3</th>\n",
       "    </tr>\n",
       "  </thead>\n",
       "  <tbody>\n",
       "    <tr>\n",
       "      <th>0</th>\n",
       "      <td>1</td>\n",
       "      <td>1.11</td>\n",
       "      <td>one</td>\n",
       "    </tr>\n",
       "    <tr>\n",
       "      <th>1</th>\n",
       "      <td>2</td>\n",
       "      <td>2.22</td>\n",
       "      <td>two</td>\n",
       "    </tr>\n",
       "    <tr>\n",
       "      <th>2</th>\n",
       "      <td>3</td>\n",
       "      <td>3.33</td>\n",
       "      <td>three</td>\n",
       "    </tr>\n",
       "  </tbody>\n",
       "</table>\n",
       "</div>"
      ],
      "text/plain": [
       "   c1    c2      c3\n",
       "0   1  1.11     one\n",
       "1   2  2.22     two\n",
       "2   3  3.33   three"
      ]
     },
     "execution_count": 105,
     "metadata": {},
     "output_type": "execute_result"
    }
   ],
   "source": [
    "df2.head() # 필요할때 데이터를 가져와서 쓸수있게끔 해줘요..."
   ]
  },
  {
   "cell_type": "code",
   "execution_count": 109,
   "metadata": {},
   "outputs": [
    {
     "data": {
      "text/plain": [
       "2.22"
      ]
     },
     "execution_count": 109,
     "metadata": {},
     "output_type": "execute_result"
    }
   ],
   "source": [
    "df2[\" c2\"].mean() # 객체는 생성되어있는데 값이 보이진 않아요...\n",
    "df2[\" c2\"].mean().compute() # 값을 보고싶다면 compute!!!"
   ]
  },
  {
   "cell_type": "code",
   "execution_count": 111,
   "metadata": {},
   "outputs": [],
   "source": [
    "df3 = dd.read_csv(\"data/crime.csv\", dtype=str, error_bad_lines=False, warn_bad_lines=False) "
   ]
  },
  {
   "cell_type": "code",
   "execution_count": 116,
   "metadata": {},
   "outputs": [
    {
     "name": "stdout",
     "output_type": "stream",
     "text": [
      "[########################################] | 100% Completed |  0.9s\n",
      "[########################################] | 100% Completed |  1.0s\n"
     ]
    },
    {
     "data": {
      "text/plain": [
       "ID                            171179\n",
       "Case Number                   171179\n",
       "Date                          171179\n",
       "Block                         171179\n",
       "IUCR                          171179\n",
       "Primary Type                  171179\n",
       "Description                   171179\n",
       "Location Description          170591\n",
       "Arrest                        171179\n",
       "Domestic                      171179\n",
       "Beat                          171178\n",
       "District                      171178\n",
       "Ward                          171171\n",
       "Community Area                171178\n",
       "FBI Code                      171178\n",
       "X Coordinate                  170221\n",
       "Y Coordinate                  170221\n",
       "Year                          171178\n",
       "Updated On                    171178\n",
       "Latitude                      170221\n",
       "Longitude                     170221\n",
       "Location                      170221\n",
       "Historical Wards 2003-2015    169683\n",
       "Zip Codes                     170221\n",
       "Community Areas               169754\n",
       "Census Tracts                 169770\n",
       "Wards                         169755\n",
       "Boundaries - ZIP Codes        169755\n",
       "Police Districts              169769\n",
       "Police Beats                  169769\n",
       "dtype: int64"
      ]
     },
     "execution_count": 116,
     "metadata": {},
     "output_type": "execute_result"
    }
   ],
   "source": [
    "df3\n",
    "df3.tail()\n",
    "df3.count().compute() # 전체데이터 개수 확인"
   ]
  },
  {
   "cell_type": "code",
   "execution_count": 117,
   "metadata": {},
   "outputs": [],
   "source": [
    "from dask.diagnostics import ProgressBar\n",
    "pbar = ProgressBar()\n",
    "pbar.register()"
   ]
  },
  {
   "cell_type": "code",
   "execution_count": 118,
   "metadata": {},
   "outputs": [
    {
     "name": "stdout",
     "output_type": "stream",
     "text": [
      "[########################################] | 100% Completed |  1.3s\n",
      "[########################################] | 100% Completed |  1.4s\n",
      "Wall time: 1.45 s\n"
     ]
    },
    {
     "data": {
      "text/plain": [
       "ID                            228750\n",
       "Case Number                   228750\n",
       "Date                          228750\n",
       "Block                         228750\n",
       "IUCR                          228750\n",
       "Primary Type                  228750\n",
       "Description                   228749\n",
       "Location Description          227938\n",
       "Arrest                        228749\n",
       "Domestic                      228749\n",
       "Beat                          228749\n",
       "District                      228749\n",
       "Ward                          228742\n",
       "Community Area                228748\n",
       "FBI Code                      228749\n",
       "X Coordinate                  226295\n",
       "Y Coordinate                  226295\n",
       "Year                          228749\n",
       "Updated On                    228749\n",
       "Latitude                      226295\n",
       "Longitude                     226295\n",
       "Location                      226295\n",
       "Historical Wards 2003-2015    225562\n",
       "Zip Codes                     226295\n",
       "Community Areas               225654\n",
       "Census Tracts                 225696\n",
       "Wards                         225656\n",
       "Boundaries - ZIP Codes        225655\n",
       "Police Districts              225682\n",
       "Police Beats                  225682\n",
       "dtype: int64"
      ]
     },
     "execution_count": 118,
     "metadata": {},
     "output_type": "execute_result"
    }
   ],
   "source": [
    "%%time\n",
    "df3.count().compute()"
   ]
  },
  {
   "cell_type": "code",
   "execution_count": 119,
   "metadata": {},
   "outputs": [
    {
     "name": "stdout",
     "output_type": "stream",
     "text": [
      "[########################################] | 100% Completed |  2.1s\n",
      "[########################################] | 100% Completed |  2.2s\n",
      "Wall time: 2.25 s\n"
     ]
    },
    {
     "data": {
      "text/plain": [
       "ID                            241329\n",
       "Case Number                   241329\n",
       "Date                          241329\n",
       "Block                         241329\n",
       "IUCR                          241329\n",
       "Primary Type                  241329\n",
       "Description                   241329\n",
       "Location Description          240475\n",
       "Arrest                        241329\n",
       "Domestic                      241329\n",
       "Beat                          241329\n",
       "District                      241329\n",
       "Ward                          241321\n",
       "Community Area                241328\n",
       "FBI Code                      241329\n",
       "X Coordinate                  238643\n",
       "Y Coordinate                  238643\n",
       "Year                          241329\n",
       "Updated On                    241329\n",
       "Latitude                      238643\n",
       "Longitude                     238643\n",
       "Location                      238643\n",
       "Historical Wards 2003-2015    237868\n",
       "Zip Codes                     238643\n",
       "Community Areas               237965\n",
       "Census Tracts                 238014\n",
       "Wards                         237967\n",
       "Boundaries - ZIP Codes        237966\n",
       "Police Districts              237994\n",
       "Police Beats                  237994\n",
       "dtype: int64"
      ]
     },
     "execution_count": 119,
     "metadata": {},
     "output_type": "execute_result"
    }
   ],
   "source": [
    "%%time\n",
    "df3.count().compute(scheduler=\"processes\", num_workers=4)"
   ]
  },
  {
   "cell_type": "code",
   "execution_count": 121,
   "metadata": {},
   "outputs": [
    {
     "name": "stdout",
     "output_type": "stream",
     "text": [
      "[########################################] | 100% Completed |  0.1s\n",
      "[########################################] | 100% Completed |  0.2s\n"
     ]
    },
    {
     "data": {
      "text/plain": [
       "0    3\n",
       "1    6\n",
       "2    9\n",
       "Name: c1, dtype: int64"
      ]
     },
     "execution_count": 121,
     "metadata": {},
     "output_type": "execute_result"
    }
   ],
   "source": [
    "(df2[\"c1\"] * 3).compute()"
   ]
  },
  {
   "cell_type": "code",
   "execution_count": 122,
   "metadata": {},
   "outputs": [],
   "source": [
    "df2 = df2.assign(c1=df2[\"c1\"]-3)"
   ]
  },
  {
   "cell_type": "code",
   "execution_count": 123,
   "metadata": {},
   "outputs": [
    {
     "name": "stdout",
     "output_type": "stream",
     "text": [
      "[########################################] | 100% Completed |  0.1s\n"
     ]
    },
    {
     "name": "stderr",
     "output_type": "stream",
     "text": [
      "C:\\Users\\acorn\\AppData\\Local\\Continuum\\anaconda3\\envs\\tf1\\lib\\site-packages\\dask\\dataframe\\core.py:5916: UserWarning: Insufficient elements for `head`. 5 elements requested, only 3 elements available. Try passing larger `npartitions` to `head`.\n",
      "  warnings.warn(msg.format(n, len(r)))\n"
     ]
    },
    {
     "name": "stdout",
     "output_type": "stream",
     "text": [
      "[########################################] | 100% Completed |  0.2s\n"
     ]
    },
    {
     "data": {
      "text/html": [
       "<div>\n",
       "<style scoped>\n",
       "    .dataframe tbody tr th:only-of-type {\n",
       "        vertical-align: middle;\n",
       "    }\n",
       "\n",
       "    .dataframe tbody tr th {\n",
       "        vertical-align: top;\n",
       "    }\n",
       "\n",
       "    .dataframe thead th {\n",
       "        text-align: right;\n",
       "    }\n",
       "</style>\n",
       "<table border=\"1\" class=\"dataframe\">\n",
       "  <thead>\n",
       "    <tr style=\"text-align: right;\">\n",
       "      <th></th>\n",
       "      <th>c1</th>\n",
       "      <th>c2</th>\n",
       "      <th>c3</th>\n",
       "    </tr>\n",
       "  </thead>\n",
       "  <tbody>\n",
       "    <tr>\n",
       "      <th>0</th>\n",
       "      <td>-2</td>\n",
       "      <td>1.11</td>\n",
       "      <td>one</td>\n",
       "    </tr>\n",
       "    <tr>\n",
       "      <th>1</th>\n",
       "      <td>-1</td>\n",
       "      <td>2.22</td>\n",
       "      <td>two</td>\n",
       "    </tr>\n",
       "    <tr>\n",
       "      <th>2</th>\n",
       "      <td>0</td>\n",
       "      <td>3.33</td>\n",
       "      <td>three</td>\n",
       "    </tr>\n",
       "  </tbody>\n",
       "</table>\n",
       "</div>"
      ],
      "text/plain": [
       "   c1    c2      c3\n",
       "0  -2  1.11     one\n",
       "1  -1  2.22     two\n",
       "2   0  3.33   three"
      ]
     },
     "execution_count": 123,
     "metadata": {},
     "output_type": "execute_result"
    }
   ],
   "source": [
    "df2.head()"
   ]
  },
  {
   "cell_type": "code",
   "execution_count": 126,
   "metadata": {},
   "outputs": [
    {
     "name": "stdout",
     "output_type": "stream",
     "text": [
      "[########################################] | 100% Completed |  0.1s\n"
     ]
    },
    {
     "name": "stderr",
     "output_type": "stream",
     "text": [
      "C:\\Users\\acorn\\AppData\\Local\\Continuum\\anaconda3\\envs\\tf1\\lib\\site-packages\\dask\\dataframe\\core.py:5916: UserWarning: Insufficient elements for `head`. 5 elements requested, only 3 elements available. Try passing larger `npartitions` to `head`.\n",
      "  warnings.warn(msg.format(n, len(r)))\n"
     ]
    },
    {
     "name": "stdout",
     "output_type": "stream",
     "text": [
      "[########################################] | 100% Completed |  0.2s\n"
     ]
    },
    {
     "data": {
      "text/html": [
       "<div>\n",
       "<style scoped>\n",
       "    .dataframe tbody tr th:only-of-type {\n",
       "        vertical-align: middle;\n",
       "    }\n",
       "\n",
       "    .dataframe tbody tr th {\n",
       "        vertical-align: top;\n",
       "    }\n",
       "\n",
       "    .dataframe thead th {\n",
       "        text-align: right;\n",
       "    }\n",
       "</style>\n",
       "<table border=\"1\" class=\"dataframe\">\n",
       "  <thead>\n",
       "    <tr style=\"text-align: right;\">\n",
       "      <th></th>\n",
       "      <th>c1</th>\n",
       "      <th>c2</th>\n",
       "      <th>c3</th>\n",
       "      <th>title</th>\n",
       "    </tr>\n",
       "  </thead>\n",
       "  <tbody>\n",
       "    <tr>\n",
       "      <th>0</th>\n",
       "      <td>-2</td>\n",
       "      <td>1.11</td>\n",
       "      <td>one</td>\n",
       "      <td>-2%</td>\n",
       "    </tr>\n",
       "    <tr>\n",
       "      <th>1</th>\n",
       "      <td>-1</td>\n",
       "      <td>2.22</td>\n",
       "      <td>two</td>\n",
       "      <td>-1%</td>\n",
       "    </tr>\n",
       "    <tr>\n",
       "      <th>2</th>\n",
       "      <td>0</td>\n",
       "      <td>3.33</td>\n",
       "      <td>three</td>\n",
       "      <td>0%</td>\n",
       "    </tr>\n",
       "  </tbody>\n",
       "</table>\n",
       "</div>"
      ],
      "text/plain": [
       "   c1    c2      c3 title\n",
       "0  -2  1.11     one   -2%\n",
       "1  -1  2.22     two   -1%\n",
       "2   0  3.33   three    0%"
      ]
     },
     "execution_count": 126,
     "metadata": {},
     "output_type": "execute_result"
    }
   ],
   "source": [
    "# 새로운 컬럼 추가\n",
    "df2 = df2.assign(title=df2[\"c1\"].astype(str) + \"%\")\n",
    "df2.head()"
   ]
  },
  {
   "cell_type": "code",
   "execution_count": null,
   "metadata": {},
   "outputs": [],
   "source": [
    "# 복수 데이터"
   ]
  },
  {
   "cell_type": "code",
   "execution_count": 127,
   "metadata": {},
   "outputs": [
    {
     "name": "stdout",
     "output_type": "stream",
     "text": [
      "Writing data/sample2.csv\n"
     ]
    }
   ],
   "source": [
    "%%writefile 'data/sample2.csv'\n",
    "c1, c2, c3\n",
    "4, 4.11, one\n",
    "5, 5.22, two\n",
    "6, 6.33, three"
   ]
  },
  {
   "cell_type": "code",
   "execution_count": 128,
   "metadata": {},
   "outputs": [
    {
     "name": "stdout",
     "output_type": "stream",
     "text": [
      "[########################################] | 100% Completed |  0.1s\n",
      "[########################################] | 100% Completed |  0.2s\n"
     ]
    },
    {
     "data": {
      "text/plain": [
       "c1     6\n",
       " c2    6\n",
       " c3    6\n",
       "dtype: int64"
      ]
     },
     "execution_count": 128,
     "metadata": {},
     "output_type": "execute_result"
    }
   ],
   "source": [
    "# 복수데이터\n",
    "df4 = dd.read_csv(\"data/sample*.csv\")\n",
    "df4.count().compute()"
   ]
  },
  {
   "cell_type": "code",
   "execution_count": null,
   "metadata": {},
   "outputs": [],
   "source": []
  },
  {
   "cell_type": "code",
   "execution_count": null,
   "metadata": {},
   "outputs": [],
   "source": []
  },
  {
   "cell_type": "markdown",
   "metadata": {},
   "source": [
    "## Queue Runner"
   ]
  },
  {
   "cell_type": "code",
   "execution_count": 135,
   "metadata": {},
   "outputs": [],
   "source": [
    "filename_queue = tf.train.string_input_producer([\"data/data-01-test-score1.csv\"])\n",
    "key, value = tf.TextLineReader().read(filename_queue)\n",
    "xy = tf.decode_csv(value, record_defaults=[[0,], [0,], [0,], [0,]])"
   ]
  },
  {
   "cell_type": "code",
   "execution_count": 136,
   "metadata": {},
   "outputs": [
    {
     "data": {
      "text/plain": [
       "[<tf.Tensor 'DecodeCSV_1:0' shape=() dtype=int32>,\n",
       " <tf.Tensor 'DecodeCSV_1:1' shape=() dtype=int32>,\n",
       " <tf.Tensor 'DecodeCSV_1:2' shape=() dtype=int32>,\n",
       " <tf.Tensor 'DecodeCSV_1:3' shape=() dtype=int32>]"
      ]
     },
     "execution_count": 136,
     "metadata": {},
     "output_type": "execute_result"
    }
   ],
   "source": [
    "xy"
   ]
  },
  {
   "cell_type": "markdown",
   "metadata": {},
   "source": [
    "### tf.train.batch\n",
    "\n",
    "    - Batch : 전체 데이터 일괄처리 (메모리 충분할시에 사용)\n",
    "    - Stochastic : 한개의 데이터\n",
    "    - Mini Batch : Batch와 Stochastic의 절충안 (적당한 개수 지정)\n",
    "    \n",
    "    + epoch : 전체 셋에 대해 한 번 학습을 완료한 상태"
   ]
  },
  {
   "cell_type": "code",
   "execution_count": 146,
   "metadata": {},
   "outputs": [],
   "source": [
    "train_x_batch, train_y_batch = tf.train.batch([xy[0:-1], xy[-1:]], batch_size=10) \n",
    "# xy[0:-1] : 0부터 마지막까지 / 독립변수,  xy[-1:] : 뒤에서부터 / 종속변수"
   ]
  },
  {
   "cell_type": "code",
   "execution_count": 147,
   "metadata": {},
   "outputs": [],
   "source": [
    "# 훈련\n",
    "X = tf.placeholder(tf.float32, shape=[None, 3]) \n",
    "    # ?개의 데이터(몇개가 들어올지 모르니)가 3개의 특성으로 나누어지기\n",
    "y = tf.placeholder(tf.float32, shape=[None, 1])\n",
    "\n",
    "W = tf.Variable(tf.random_normal([3, 1])) \n",
    "b = tf.Variable(tf.random_normal([1])) # W에서 출력의 개수 \n",
    "\n",
    "# 가설\n",
    "hypothesis = tf.matmul(X, W) + b\n",
    "cost = tf.reduce_mean(tf.square(hypothesis-y))\n",
    "\n",
    "train = tf.train.GradientDescentOptimizer(learning_rate=1e-5).minimize(cost)"
   ]
  },
  {
   "cell_type": "code",
   "execution_count": 149,
   "metadata": {},
   "outputs": [
    {
     "name": "stdout",
     "output_type": "stream",
     "text": [
      "당신의 성적은 : [[195.84616]]\n",
      "다른사람의 성적은 : [[187.08548]\n",
      " [169.91528]]\n"
     ]
    }
   ],
   "source": [
    "with tf.Session() as sess:\n",
    "    sess.run(tf.global_variables_initializer())\n",
    "    \n",
    "    coord = tf.train.Coordinator()\n",
    "    threads = tf.train.start_queue_runners(sess=sess, coord=coord)\n",
    "    \n",
    "    for step in range(2001) :\n",
    "        x_batch, y_batch =  sess.run([train_x_batch, train_y_batch])\n",
    "        sess.run(train, feed_dict={X:x_batch, y:y_batch})\n",
    "        \n",
    "    coord.request_stop()\n",
    "    coord.join(threads)\n",
    "    # thread : 프로세스 안에서 실행되는 작업 단위\n",
    "    # multi thread : 동시에 여러개의 thread 실행\n",
    "    # scheduling : 여러개의 thread를 어떤 순서에 의해 동시에 실행할것인지 결정하는것\n",
    "    #            : 여러 thread들이 아주 짧은 시간동안 번갈아가면서 thread의 run()메소드를 조금씩 실행하는거\n",
    "    # join : thread 여러개 시행될때 끝나지 않은 thread를 기다렸다가 같이 끝나게 하는 메서드\n",
    "    \n",
    "    print(\"당신의 성적은 :\", sess.run(hypothesis, feed_dict={X:[[100, 70, 101]]}))\n",
    "    print(\"다른사람의 성적은 :\", sess.run(hypothesis, feed_dict={X:[[60, 70, 110], [90, 100, 80]]}))"
   ]
  },
  {
   "cell_type": "code",
   "execution_count": null,
   "metadata": {},
   "outputs": [],
   "source": []
  },
  {
   "cell_type": "code",
   "execution_count": null,
   "metadata": {},
   "outputs": [],
   "source": []
  },
  {
   "cell_type": "markdown",
   "metadata": {},
   "source": [
    "### 로지스틱 회귀모델\n",
    "http://hunkim.github.io/ml/lec5.pdf  logistic 강의 슬라이드 참고\n",
    "\n",
    "Logistic Hypothesis 공식(=sigmoid 공식): H(X) = 1/(1+e^(-WX))\n",
    "\n",
    "Cost function 공식 : C(H(x), y) = -ylog(H(x)) - (1-y)log(1-H(x))"
   ]
  },
  {
   "cell_type": "code",
   "execution_count": 169,
   "metadata": {},
   "outputs": [],
   "source": [
    "x_data = [[1, 2], [2, 3], [3, 1], [4, 3], [5, 3], [6, 2]]\n",
    "y_data = [[0], [0], [0], [1], [1], [1]]"
   ]
  },
  {
   "cell_type": "code",
   "execution_count": 176,
   "metadata": {},
   "outputs": [],
   "source": [
    "# 그래프 작업\n",
    "X = tf.placeholder(tf.float32, shape=[None, 2]) # x_data 6개에 2개씩 묶여있으므로\n",
    "y = tf.placeholder(tf.float32, shape=[None, 1])\n",
    "\n",
    "W = tf.Variable(tf.random_normal([2, 1]))\n",
    "b = tf.Variable(tf.random_normal([1]))\n",
    "\n",
    "# 가설 설정\n",
    "hypothesis = tf.sigmoid(tf.matmul(X, W) + b) # 선형회귀 공식에 sigmoid 함수 감싸주기 \n",
    "\n",
    "# 비용 함수\n",
    "cost = -tf.reduce_mean(y*tf.log(hypothesis) + (1-y)*tf.log(1-hypothesis))\n",
    "\n",
    "# 최소비용\n",
    "train = tf.train.GradientDescentOptimizer(learning_rate=0.01).minimize(cost)"
   ]
  },
  {
   "cell_type": "code",
   "execution_count": 177,
   "metadata": {},
   "outputs": [],
   "source": [
    "# 그래프 실행\n",
    "sess = tf.Session()\n",
    "sess.run(tf.global_variables_initializer())\n",
    "for step in range(10001):\n",
    "    sess.run(train, feed_dict={X:x_data, y:y_data})"
   ]
  },
  {
   "cell_type": "code",
   "execution_count": 178,
   "metadata": {},
   "outputs": [],
   "source": [
    "# 정확도 검증\n",
    "pred = tf.cast(hypothesis > 0.5, dtype=tf.float32) \n",
    "accuracy = tf.reduce_mean(tf.cast(tf.equal(pred, y), dtype=tf.float32))"
   ]
  },
  {
   "cell_type": "code",
   "execution_count": 180,
   "metadata": {},
   "outputs": [
    {
     "name": "stdout",
     "output_type": "stream",
     "text": [
      "가설 :  [[0.02220011]\n",
      " [0.1453554 ]\n",
      " [0.26093423]\n",
      " [0.8022406 ]\n",
      " [0.95195085]\n",
      " [0.98439515]] \n",
      "예측 : [[0.]\n",
      " [0.]\n",
      " [0.]\n",
      " [1.]\n",
      " [1.]\n",
      " [1.]] \n",
      "정확도 : 1.0\n"
     ]
    }
   ],
   "source": [
    "h, p, a = sess.run([hypothesis, pred, accuracy], feed_dict={X:x_data, y:y_data})\n",
    "print(\"가설 : \", h, \"\\n예측 :\", p, \"\\n정확도 :\", a)"
   ]
  },
  {
   "cell_type": "code",
   "execution_count": null,
   "metadata": {},
   "outputs": [],
   "source": []
  },
  {
   "cell_type": "code",
   "execution_count": null,
   "metadata": {},
   "outputs": [],
   "source": []
  },
  {
   "cell_type": "code",
   "execution_count": null,
   "metadata": {},
   "outputs": [],
   "source": []
  },
  {
   "cell_type": "code",
   "execution_count": null,
   "metadata": {},
   "outputs": [],
   "source": []
  },
  {
   "cell_type": "code",
   "execution_count": null,
   "metadata": {},
   "outputs": [],
   "source": []
  },
  {
   "cell_type": "code",
   "execution_count": null,
   "metadata": {},
   "outputs": [],
   "source": []
  }
 ],
 "metadata": {
  "kernelspec": {
   "display_name": "Python 3",
   "language": "python",
   "name": "python3"
  },
  "language_info": {
   "codemirror_mode": {
    "name": "ipython",
    "version": 3
   },
   "file_extension": ".py",
   "mimetype": "text/x-python",
   "name": "python",
   "nbconvert_exporter": "python",
   "pygments_lexer": "ipython3",
   "version": "3.7.6"
  }
 },
 "nbformat": 4,
 "nbformat_minor": 4
}

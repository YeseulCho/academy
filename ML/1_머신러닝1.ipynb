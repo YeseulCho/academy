{
 "cells": [
  {
   "cell_type": "markdown",
   "metadata": {},
   "source": [
    "# 종류\n",
    "-------------------------\n",
    "\n",
    "## 1. 지도\n",
    "\n",
    "#### 1) Regression\n",
    "+ 선형 회귀\n",
    "            \n",
    "#### 2) Classification\n",
    "+ 로지스틱 선형 회귀\n",
    "+ KNN\n",
    "+ Decision Tree\n",
    "+ Random Forest\n",
    "+ SVM\n",
    "+ Naive Bayes\n",
    "\n",
    "##### -> Regression, Classification 분류 기준 : 결과값으로 판단\n",
    "+ Regression : 실수형 : 구간안에서 수치 예측 \n",
    "+ Classification : 이진분류, 다형분류 : 결과자체가 무엇을 선택해야하는지에대한 이상값\n",
    "\n",
    "\n",
    "## 2. 비지도\n",
    "\n",
    "#### 1) Clustering\n",
    "+ K-means\n",
    "\n",
    "## 3. 인공신경망(Artificial Neural Network)\n",
    "+ 다층 퍼셉트론\n",
    "+ 텐서플로우 사용"
   ]
  },
  {
   "cell_type": "code",
   "execution_count": 22,
   "metadata": {},
   "outputs": [],
   "source": [
    "import numpy as np\n",
    "import pandas as pd\n",
    "import matplotlib as mpl\n",
    "import matplotlib.pyplot as plt                                                 # 실제로 그래프를 그려주는 애\n",
    "import seaborn as sns\n",
    "\n",
    "import matplotlib.font_manager as fm                                            # 한글폰트 안깨져서 나오게하기위해\n",
    "font_name = fm.FontProperties(fname=\"C:\\Windows/Fonts/malgun.ttf\").get_name()    # 폰트 지정\n",
    "plt.rc('font', family=font_name)                                                 # matplotlib내에 폰트 설정\n",
    "\n",
    "mpl.rcParams[\"axes.unicode_minus\"] = False        # 음수 설정, False로 지정하면 음수를 문자로 쓰지않고 숫자로 지정하겠다는 의미, 음수로 사용이 가능해진다.\n",
    "\n",
    "# mglearn\n",
    "# pip install mglearn\n",
    "import mglearn\n",
    "\n",
    "from sklearn.model_selection import train_test_split"
   ]
  },
  {
   "cell_type": "markdown",
   "metadata": {},
   "source": [
    "### 샘플 소개 "
   ]
  },
  {
   "cell_type": "code",
   "execution_count": 25,
   "metadata": {},
   "outputs": [
    {
     "name": "stderr",
     "output_type": "stream",
     "text": [
      "C:\\Users\\acorn\\Anaconda3\\lib\\site-packages\\sklearn\\utils\\deprecation.py:85: DeprecationWarning: Function make_blobs is deprecated; Please import make_blobs directly from scikit-learn\n",
      "  warnings.warn(msg, category=DeprecationWarning)\n"
     ]
    },
    {
     "data": {
      "text/plain": [
       "(26, 2)"
      ]
     },
     "execution_count": 25,
     "metadata": {},
     "output_type": "execute_result"
    },
    {
     "data": {
      "image/png": "[encoded data removed]",
      "text/plain": [
       "<Figure size 432x288 with 1 Axes>"
      ]
     },
     "metadata": {
      "needs_background": "light"
     },
     "output_type": "display_data"
    }
   ],
   "source": [
    "# 이진 분류 데이터셋\n",
    "X, y = mglearn.datasets.make_forge() \n",
    "# 두번째 array는 첫번째 array에 대한 정답 ex) 첫번째 [9.96 , 4.59]는 답이 1이다 \n",
    "# X에는 2차원 배열, y에는 1차원배열 # X 두 점 을 가지므로 산포도 형태로 가져오자아아아\n",
    "\n",
    "# 변수 확인\n",
    "X\n",
    "y\n",
    "\n",
    "# 그래프 그리기\n",
    "mglearn.discrete_scatter(X[:,0], X[:,1], y)\n",
    "# X[:,0] x좌표,  X[:,1] y좌표로 찍히고, 정답(1, 0)에 따라 나뉜 형태\n",
    "plt.legend([\"클래스 0\", \"클래스 1\"], loc=4)\n",
    "plt.xlabel(\"첫번째 특성\")\n",
    "plt.ylabel(\"두번째 특성\")\n",
    "\n",
    "# 데이터의 크기 알아내기\n",
    "X.shape # 26개 2차원 배열\n"
   ]
  },
  {
   "cell_type": "code",
   "execution_count": 26,
   "metadata": {},
   "outputs": [
    {
     "data": {
      "text/plain": [
       "(-3, 3)"
      ]
     },
     "execution_count": 26,
     "metadata": {},
     "output_type": "execute_result"
    },
    {
     "data": {
      "image/png": "[encoded data removed]",
      "text/plain": [
       "<Figure size 432x288 with 1 Axes>"
      ]
     },
     "metadata": {
      "needs_background": "light"
     },
     "output_type": "display_data"
    }
   ],
   "source": [
    "# 회귀 분석용 샘플\n",
    "X, y = mglearn.datasets.make_wave(n_samples=40) # 2차원 배열 40개 만들기\n",
    "\n",
    "# 그래프 \n",
    "plt.plot(X, y, 'o') # 'o' 점의 모양\n",
    "plt.xlabel(\"특성\")\n",
    "plt.ylabel(\"타겟\")\n",
    "plt.ylim(-3, 3)"
   ]
  },
  {
   "cell_type": "code",
   "execution_count": 64,
   "metadata": {},
   "outputs": [
    {
     "name": "stdout",
     "output_type": "stream",
     "text": [
      "<class 'sklearn.utils.Bunch'>\n"
     ]
    }
   ],
   "source": [
    "# python에서 machine learning 맡은 package\n",
    "# 유방암 데이터 샘플\n",
    "from sklearn.datasets import load_breast_cancer\n",
    "\n",
    "cancer = load_breast_cancer() # dict로 묶여있음 / data : 데이터 / target : 정답 / target names : 정답에 대한 설명\n",
    "cancer.keys() # 키 살펴보기 \n",
    "\n",
    "# 각 값들 알아보기\n",
    "cancer.data # 데이터\n",
    "cancer.target # 정답\n",
    "cancer.target_names # 정답에 대한 설명\n",
    "cancer.DESCR # 데이터에 대한 컬럼 설명\n",
    "\n",
    "# type 확인\n",
    "print(type(cancer)) # Bunch라는 class 타입"
   ]
  },
  {
   "cell_type": "code",
   "execution_count": 28,
   "metadata": {},
   "outputs": [
    {
     "data": {
      "text/plain": [
       "(506, 13)"
      ]
     },
     "execution_count": 28,
     "metadata": {},
     "output_type": "execute_result"
    }
   ],
   "source": [
    "from sklearn.datasets import load_boston\n",
    "\n",
    "# 보스톤 집값에 미치는 영향 알아보기 \n",
    "boston = load_boston()\n",
    "\n",
    "# 크기\n",
    "boston.data.shape"
   ]
  },
  {
   "cell_type": "markdown",
   "metadata": {},
   "source": [
    "### 일반화, 과대적합(Overfitting), 과소적합(Underfitting)\n",
    "\n",
    "    데이터 훈련용, 테스트용 으로 구별(7:3) \n",
    "    테스트용은 절대적으로 blind시키다가 훈련용이 완벽히 다 끝나면 사용\n",
    "    데이터량 많을수록 학습 정확도 증가 \n",
    "    \n",
    "    + 과대적합 : 훈련세트의 각 샘플에 너무 가깝게 맞춰져 있어서 복잡한 모델을 만드는 것  \n",
    "               : 훈련용의 정확도는 높지만 테스트용의 정확도가 낮은것\n",
    "                 훈련용 데이터에 너무 세밀하게 맞춤. 훈련용 데이터에 최적화되게 복잡한 모델을 가지고 있는 현상\n",
    "               : 해결방안 : 단순하게 학습할수있도록 조정 -> 일반화 과정 : 훈련받았을때처럼 똑같은 성능이 유지되도록 \n",
    "           \n",
    "    + 과소적합 : 너무 간단한 모델이 선택되는 것\n",
    "               : 모델을 너무 단순하게 만들어 의미없는 결과를 도출해냄  \n",
    "\n",
    "    + 일반화 : 처음보는 데이터에 대해서 정확하게 예측할 수 있는 것\n",
    "\n",
    "    + 하이퍼파라미터 : 기계가 스스로 학습 할 수 없는 데이터, 결국 사람이 직접 조절해줘야하는 값들 \n"
   ]
  },
  {
   "cell_type": "markdown",
   "metadata": {},
   "source": [
    "## KNN(K-Nearest Neighbors)\n",
    "가장 가까운 이웃을 몇개 사용하는가\n",
    "\n",
    "    1) 특징\n",
    "            - 이해하기 쉽고 직관적인 모델 \n",
    "            - 더 복잡한 알고리즘을 적용하기 전에 시도해 볼 수 있는 알고리즘 \n",
    "            - 훈련셋이 너무 크면 예측이 느려짐 \n",
    "            \n",
    "    2) 파라미터\n",
    "            - 이웃의 개수(k)\n",
    "            - 데이터 사이의 거리를 재는 방법 : L2 norm\n",
    "            \n",
    "    Measure(측정) : 거리 : L1 Norm : 거리의 합(직선X, 가로 세로의 합 = 맨하탄 방식 )\n",
    "                         : L2 Norm : 직선(피타고라스의 정리 이용 sqrt(밑변^2 + 높이^2) = 유클리드 방식)\n",
    "                                     KNN, Kmeans 에서 많이 사용"
   ]
  },
  {
   "cell_type": "code",
   "execution_count": 29,
   "metadata": {},
   "outputs": [
    {
     "name": "stderr",
     "output_type": "stream",
     "text": [
      "C:\\Users\\acorn\\Anaconda3\\lib\\site-packages\\sklearn\\utils\\deprecation.py:85: DeprecationWarning: Function make_blobs is deprecated; Please import make_blobs directly from scikit-learn\n",
      "  warnings.warn(msg, category=DeprecationWarning)\n"
     ]
    },
    {
     "data": {
      "image/png": "[encoded data removed]",
      "text/plain": [
       "<Figure size 432x288 with 1 Axes>"
      ]
     },
     "metadata": {
      "needs_background": "light"
     },
     "output_type": "display_data"
    }
   ],
   "source": [
    "mglearn.plots.plot_knn_classification(n_neighbors=1)  # n_neighbors=1 이웃의 개수 1개로 두겠다 \n",
    "\n",
    "# 이진데이터(●, ▲), 새로운 데이터(=테스트용, ★)\n",
    "# 새로운 데이터를 ●, ▲ 어떤 것으로 대입시킬지?\n",
    "# 제일 가까운 애로 분류하자  ->  측정도구(Measure) : 거리 : L2 Norm 방식으로 측정\n",
    "# 그래서 가까운 이웃들 선으로 연결시켜놓고, 연결된 애들 모양 따라가면됨"
   ]
  },
  {
   "cell_type": "code",
   "execution_count": 30,
   "metadata": {},
   "outputs": [
    {
     "name": "stderr",
     "output_type": "stream",
     "text": [
      "C:\\Users\\acorn\\Anaconda3\\lib\\site-packages\\sklearn\\utils\\deprecation.py:85: DeprecationWarning: Function make_blobs is deprecated; Please import make_blobs directly from scikit-learn\n",
      "  warnings.warn(msg, category=DeprecationWarning)\n"
     ]
    },
    {
     "data": {
      "image/png": "[encoded data removed]",
      "text/plain": [
       "<Figure size 432x288 with 1 Axes>"
      ]
     },
     "metadata": {
      "needs_background": "light"
     },
     "output_type": "display_data"
    }
   ],
   "source": [
    "mglearn.plots.plot_knn_classification(n_neighbors=3) # n_neighbors=3 이웃의 개수 3개로 두겠다 \n",
    "# 제일 가까운 애들 세명 고르고\n",
    "# 투표 방식으로 최종 선택\n",
    "# 그렇기에 이웃의 개수는 거의 홀수개로 지정 \n",
    "\n",
    "# 내가 이웃의 개수를 직접 지정해주는것 -> 하이퍼파라미터 "
   ]
  },
  {
   "cell_type": "markdown",
   "metadata": {},
   "source": [
    "### L1 norm, L2 norm"
   ]
  },
  {
   "cell_type": "code",
   "execution_count": 31,
   "metadata": {},
   "outputs": [
    {
     "name": "stdout",
     "output_type": "stream",
     "text": [
      "   move_1  move_2  move_3\n",
      "0       0       1       0\n",
      "1       1      -2       1\n",
      "2      -3       1       2\n",
      "-----------------------------------\n",
      "[[ 0  1  0]\n",
      " [ 1 -2  1]\n",
      " [-3  1  2]]\n",
      "-----------------------------------\n"
     ]
    },
    {
     "data": {
      "text/plain": [
       "array([1., 4., 6.])"
      ]
     },
     "execution_count": 31,
     "metadata": {},
     "output_type": "execute_result"
    }
   ],
   "source": [
    "# 주사위 게임(-3 ~ 3)\n",
    "\n",
    "# L1 norm, L2 norm 계산시에 사용할 것  \n",
    "from numpy import linalg\n",
    "\n",
    "# 3명의 사람이 주사위 3번 던진 결과 df 만들기\n",
    "df = pd.DataFrame(np.random.randint(low=-3, high=3, size=(3, 3)))\n",
    "df.columns = [\"move_1\", \"move_2\", \"move_3\"]\n",
    "df.head()\n",
    "print(df)\n",
    "print(\"-----------------------------------\")\n",
    "\n",
    "# 누가 제일 많이 걸었는가?  : L1 norm 사용\n",
    "## 값들 뽑아오기\n",
    "movements = df.values\n",
    "movements\n",
    "print(movements)\n",
    "print(\"-----------------------------------\")\n",
    "\n",
    "## 걸은 수 더하기 \n",
    "linalg.norm(movements, ord=1, axis=1) # ord=1 순서, L1 norm 을 쓰겠다, aixs=1 : 행방향 "
   ]
  },
  {
   "cell_type": "code",
   "execution_count": 32,
   "metadata": {},
   "outputs": [
    {
     "data": {
      "text/html": [
       "<div>\n",
       "<style scoped>\n",
       "    .dataframe tbody tr th:only-of-type {\n",
       "        vertical-align: middle;\n",
       "    }\n",
       "\n",
       "    .dataframe tbody tr th {\n",
       "        vertical-align: top;\n",
       "    }\n",
       "\n",
       "    .dataframe thead th {\n",
       "        text-align: right;\n",
       "    }\n",
       "</style>\n",
       "<table border=\"1\" class=\"dataframe\">\n",
       "  <thead>\n",
       "    <tr style=\"text-align: right;\">\n",
       "      <th></th>\n",
       "      <th>x</th>\n",
       "      <th>y</th>\n",
       "    </tr>\n",
       "  </thead>\n",
       "  <tbody>\n",
       "    <tr>\n",
       "      <td>0</td>\n",
       "      <td>2</td>\n",
       "      <td>8</td>\n",
       "    </tr>\n",
       "    <tr>\n",
       "      <td>1</td>\n",
       "      <td>3</td>\n",
       "      <td>3</td>\n",
       "    </tr>\n",
       "    <tr>\n",
       "      <td>2</td>\n",
       "      <td>4</td>\n",
       "      <td>1</td>\n",
       "    </tr>\n",
       "  </tbody>\n",
       "</table>\n",
       "</div>"
      ],
      "text/plain": [
       "   x  y\n",
       "0  2  8\n",
       "1  3  3\n",
       "2  4  1"
      ]
     },
     "execution_count": 32,
     "metadata": {},
     "output_type": "execute_result"
    }
   ],
   "source": [
    "df = pd.DataFrame(np.random.randint(low=1, high=10, size=(3,2)))\n",
    "df.columns=[\"x\", \"y\"]\n",
    "df"
   ]
  },
  {
   "cell_type": "code",
   "execution_count": 33,
   "metadata": {},
   "outputs": [
    {
     "data": {
      "text/plain": [
       "<seaborn.axisgrid.FacetGrid at 0xe2d04c8>"
      ]
     },
     "execution_count": 33,
     "metadata": {},
     "output_type": "execute_result"
    },
    {
     "data": {
      "image/png": "[encoded data removed]",
      "text/plain": [
       "<Figure size 360x360 with 1 Axes>"
      ]
     },
     "metadata": {
      "needs_background": "light"
     },
     "output_type": "display_data"
    }
   ],
   "source": [
    "# 그래프 \n",
    "sns.lmplot(\"x\", \"y\", data=df, fit_reg=False, scatter_kws={\"s\":200}) # fit_reg=False : 회귀선 필요없을시, scatter_kws={\"s\":200} : 점 사이즈 "
   ]
  },
  {
   "cell_type": "code",
   "execution_count": 34,
   "metadata": {},
   "outputs": [
    {
     "name": "stdout",
     "output_type": "stream",
     "text": [
      "[[2 8]\n",
      " [3 3]\n",
      " [4 1]]\n",
      "--------------------\n"
     ]
    },
    {
     "data": {
      "text/plain": [
       "array([8.24621125, 4.24264069, 4.12310563])"
      ]
     },
     "execution_count": 34,
     "metadata": {},
     "output_type": "execute_result"
    }
   ],
   "source": [
    "# 값 모으기\n",
    "data_points = df.values\n",
    "print(data_points)\n",
    "print(\"--------------------\")\n",
    "\n",
    "# L2 norm 2차원 좌표에서 거리구할때 많이 사용 # 원점으로 부터의 직선 거리 \n",
    "linalg.norm(data_points, ord=2, axis=1)"
   ]
  },
  {
   "cell_type": "markdown",
   "metadata": {},
   "source": [
    "### KNN 구현"
   ]
  },
  {
   "cell_type": "code",
   "execution_count": 36,
   "metadata": {},
   "outputs": [
    {
     "name": "stdout",
     "output_type": "stream",
     "text": [
      "(19, 2) (7, 2) [0 0 1 1 0 1 0 1 1 1 0 1 0 0 0 1 0 1 0] [1 0 1 0 1 1 0]\n"
     ]
    },
    {
     "name": "stderr",
     "output_type": "stream",
     "text": [
      "C:\\Users\\acorn\\Anaconda3\\lib\\site-packages\\sklearn\\utils\\deprecation.py:85: DeprecationWarning: Function make_blobs is deprecated; Please import make_blobs directly from scikit-learn\n",
      "  warnings.warn(msg, category=DeprecationWarning)\n"
     ]
    }
   ],
   "source": [
    "# 훈련시킬 준비 과정 \n",
    "X, y = mglearn.datasets.make_forge()\n",
    "X_train, X_test, y_train, y_test = train_test_split(X, y, random_state=0) \n",
    "  # random_state=0 고정값으로 만들기 / 가장 기본 작업/ test용은 train용 다 확인 완료하기 전까지 보지말것\n",
    "print(X_train.shape, X_test.shape, y_train, y_test)"
   ]
  },
  {
   "cell_type": "code",
   "execution_count": 51,
   "metadata": {},
   "outputs": [
    {
     "data": {
      "text/plain": [
       "KNeighborsClassifier(algorithm='auto', leaf_size=30, metric='minkowski',\n",
       "                     metric_params=None, n_jobs=None, n_neighbors=3, p=2,\n",
       "                     weights='uniform')"
      ]
     },
     "execution_count": 51,
     "metadata": {},
     "output_type": "execute_result"
    }
   ],
   "source": [
    "# KNN 알고리즘으로 기계훈련 시켜주는거 선언해오기 \n",
    "from sklearn.neighbors import KNeighborsClassifier\n",
    "\n",
    "# 알고리즘 준비(어떤 방법으로 훈련할것인지 정해놓은거)\n",
    "clf = KNeighborsClassifier(n_neighbors = 3) \n",
    "\n",
    "# 실제 훈련 매서드\n",
    "clf.fit(X_train, y_train) # 데이터와 정답을 알려주고 훈련을 해라.. 라는 의미 \n"
   ]
  },
  {
   "cell_type": "code",
   "execution_count": 52,
   "metadata": {},
   "outputs": [
    {
     "data": {
      "text/plain": [
       "0.8571428571428571"
      ]
     },
     "execution_count": 52,
     "metadata": {},
     "output_type": "execute_result"
    }
   ],
   "source": [
    "# 학습(훈련) 결과 테스트 \n",
    "clf.predict(X_test)  # 예측한다는 함수 / 7개 데이터로 예측한 결과 아래의 데이터로 예측할수있다 # 새로운데이터가 주어지면 여기에 넣어주면 된다 그럼 적어도 86% 성공률을 뽑아낼수있음 \n",
    "\n",
    "# 테스트 정확도 측정\n",
    "clf.score(X_test, y_test) # 테스트한 결과(X_test)와 정답(y_test)을 비교해서 평균내서 백분율로 나타내줌"
   ]
  },
  {
   "cell_type": "markdown",
   "metadata": {},
   "source": [
    "### KNN 분석"
   ]
  },
  {
   "cell_type": "code",
   "execution_count": 59,
   "metadata": {},
   "outputs": [
    {
     "name": "stdout",
     "output_type": "stream",
     "text": [
      "1\n",
      "AxesSubplot(0.125,0.125;0.227941x0.755)\n",
      "3\n",
      "AxesSubplot(0.398529,0.125;0.227941x0.755)\n",
      "9\n",
      "AxesSubplot(0.672059,0.125;0.227941x0.755)\n"
     ]
    },
    {
     "data": {
      "image/png": "[encoded data removed]",
      "text/plain": [
       "<Figure size 720x216 with 3 Axes>"
      ]
     },
     "metadata": {},
     "output_type": "display_data"
    }
   ],
   "source": [
    "# 이웃 개수(k)에 따른 성능 차이 알아보기 \n",
    "\n",
    "# 그래프 3개 그리기 (k = 1, 3, 9)\n",
    "fig, axes = plt.subplots(1, 3, figsize=(10, 3)) # axes 각 그래프에 대한 축의 위치값이 들어가있음 \n",
    "\n",
    "# n_neigh 에는 1, 3, 9 / ax 는 각그래프의 위치값이 들어가게 됨 \n",
    "for n_neigh, ax in zip([1, 3, 9], axes):\n",
    "    print(n_neigh)\n",
    "    print(ax)\n",
    "    clf = KNeighborsClassifier(n_neighbors=n_neigh).fit(X, y) # 첫번째 훈련결과 첫번째 그래프에 찍고 ~~ 등등 \n",
    "    mglearn.discrete_scatter(X[:, 0], X[:,1], y, ax=ax) # 산포도로 그려보기 \n",
    "    mglearn.plots.plot_2d_separator(clf, X, fill=True, ax=ax) # 경계선을 그려주는 함수 # fill=True 배경색 채우기 \n",
    "    # 이웃개수가 적을수록(k=1) 너무 훈련데이터에만 집중되어있는 것을 볼수있다 / 각각의 값에 기준선이 다 따라다니고 있음을 볼수있다 \n",
    "    # 이웃개수가 많을수록(k=9) 선이 직선에 가까워지고 단순한 모습임을 볼수있다 \n",
    "    # 너무 복잡하지도 않으면서 너무 단순하지도 않은 형태를 갖는 k값이 무엇인지 잘 알아야한다 \n",
    "    \n",
    "    ax.set_title(\"{} 이웃\".format(n_neigh))"
   ]
  },
  {
   "cell_type": "code",
   "execution_count": 65,
   "metadata": {},
   "outputs": [
    {
     "name": "stdout",
     "output_type": "stream",
     "text": [
      "(426, 30) (143, 30)\n"
     ]
    }
   ],
   "source": [
    "# 유방암 데이터 샘플\n",
    "from sklearn.datasets import load_breast_cancer\n",
    "cancer = load_breast_cancer() \n",
    "\n",
    "# 데이터 개수 확인 \n",
    "cancer.data.shape\n",
    "\n",
    "# 어떤 데이터를 가지고 판단할 것인지에 따라 클래스 지정이 달라짐\n",
    "# 위 데이터는 병이 있을 경우 양성클래스, 병이 없을 경우 음성클래스 로 나뉜다 \n",
    "\n",
    "# 훈련시킬 준비 과정 \n",
    "X_train, X_test, y_train, y_test = train_test_split(cancer.data, cancer.target, random_state=66,\n",
    "                                                   stratify=cancer.target)\n",
    "   # stratify : 계층, 실제 데이터에 있는 비율을 훈련용과 테스트용에 똑같이 지정해주는것\n",
    "    \n",
    "#훈련용, 테스트용 몇개씩 나뉘어졌는지 살펴보자아아아아아아\n",
    "print(X_train.shape, X_test.shape) "
   ]
  },
  {
   "cell_type": "code",
   "execution_count": 76,
   "metadata": {},
   "outputs": [
    {
     "name": "stdout",
     "output_type": "stream",
     "text": [
      "1.0\n",
      "0.9020979020979021\n"
     ]
    }
   ],
   "source": [
    "# 이웃의 개수에 따라 정확도 비교해보기 \n",
    "\n",
    "clf = KNeighborsClassifier(n_neighbors=1)\n",
    "clf.fit(X_train, y_train)\n",
    "\n",
    "# 훈련 세트의 정확도 \n",
    "print(clf.score(X_train, y_train)) \n",
    "\n",
    "# 테스트 세트의 정확도\n",
    "print(clf.score(X_test, y_test))\n",
    "\n",
    "# n_neighbors = 1일때 train = 1, test = 0.9 / 새로운 데이터에는 적응을 못하는 '과대적합' 생성"
   ]
  },
  {
   "cell_type": "code",
   "execution_count": 83,
   "metadata": {},
   "outputs": [
    {
     "name": "stdout",
     "output_type": "stream",
     "text": [
      "0.8881118881118881\n"
     ]
    },
    {
     "data": {
      "image/png": "[encoded data removed]",
      "text/plain": [
       "<Figure size 432x288 with 1 Axes>"
      ]
     },
     "metadata": {
      "needs_background": "light"
     },
     "output_type": "display_data"
    }
   ],
   "source": [
    "# 반복문을 돌려 이웃의 개수에 따라 정확도 비교해보기 \n",
    "\n",
    "# 반복문 결과물 변수 설정\n",
    "train_acc = []\n",
    "test_acc = []\n",
    "\n",
    "for n_neigh in range(1, 11):\n",
    "    clf = KNeighborsClassifier(n_neighbors=n_neigh)\n",
    "    clf.fit(X_train, y_train)\n",
    "\n",
    "    # 훈련 세트의 정확도 \n",
    "    train_acc.append(clf.score(X_train, y_train))\n",
    "\n",
    "    # 테스트 세트의 정확도\n",
    "    test_acc.append(clf.score(X_test, y_test))\n",
    "    \n",
    "# for문을 토대로 그래프 그리기\n",
    "\n",
    "plt.plot(range(1, 11), train_acc, label=\"훈련 정확도\") \n",
    "# 이웃이 늘어날수록 정확도가 나빠지는 현상을 볼 수 있음 \n",
    "\n",
    "plt.plot(range(1, 11), test_acc, label=\"테스트 정확도\") \n",
    "# k = 6일때 가장 적절함을 보인다 (과대적합이 적다)\n",
    "\n",
    "plt.ylabel(\"정확도\")\n",
    "plt.xlabel(\"이웃의 개수\")\n",
    "plt.legend()\n",
    "\n",
    "# 그래프에서 두번재 값이 제일 낮아서 얼마나왔는지 궁금해서 찍어봄.....\n",
    "print(test_acc[1])"
   ]
  },
  {
   "cell_type": "markdown",
   "metadata": {},
   "source": [
    "### 회귀분석을 위한 KNN\n",
    "(분류 알고리즘이지만 회귀 알고리즘으로도 사용 가능)"
   ]
  },
  {
   "cell_type": "code",
   "execution_count": 88,
   "metadata": {},
   "outputs": [
    {
     "data": {
      "image/png": "[encoded data removed]",
      "text/plain": [
       "<Figure size 720x432 with 1 Axes>"
      ]
     },
     "metadata": {
      "needs_background": "light"
     },
     "output_type": "display_data"
    }
   ],
   "source": [
    "mglearn.plots.plot_knn_regression(n_neighbors=3)\n",
    "# 새로운 3개의 데이터(★) 가장 가까운 이웃과 연결되어있음\n",
    "# 연결된 이웃들(n_neighbors)의 평균값을 예측값으로 지정 \n",
    "# 분류 알고리즘이지만 연결된 이웃들의 평균값을 사용하여 회귀 알고리즘으로도 사용 가능"
   ]
  },
  {
   "cell_type": "code",
   "execution_count": 95,
   "metadata": {},
   "outputs": [
    {
     "name": "stdout",
     "output_type": "stream",
     "text": [
      "(30, 1) (10, 1)\n"
     ]
    }
   ],
   "source": [
    "# 회귀 분석용 샘플\n",
    "X, y = mglearn.datasets.make_wave(n_samples=40) # 2차원 배열 40개 만들기\n",
    "\n",
    "# 훈련시킬 준비 과정 (test, train 나누기)\n",
    "X_train, X_test, y_train, y_test = train_test_split(X, y, random_state=0)\n",
    "\n",
    "# 훈련용, 테스트용 몇개씩 나눠졌는지 알아보기 \n",
    "print(X_train.shape, X_test.shape)"
   ]
  },
  {
   "cell_type": "code",
   "execution_count": 93,
   "metadata": {},
   "outputs": [
    {
     "data": {
      "text/plain": [
       "KNeighborsRegressor(algorithm='auto', leaf_size=30, metric='minkowski',\n",
       "                    metric_params=None, n_jobs=None, n_neighbors=3, p=2,\n",
       "                    weights='uniform')"
      ]
     },
     "execution_count": 93,
     "metadata": {},
     "output_type": "execute_result"
    }
   ],
   "source": [
    "# 추가\n",
    "from sklearn.neighbors import KNeighborsRegressor\n",
    "\n",
    "reg = KNeighborsRegressor(n_neighbors=3)\n",
    "\n",
    "# 훈련\n",
    "reg.fit(X_train, y_train)"
   ]
  },
  {
   "cell_type": "code",
   "execution_count": 97,
   "metadata": {},
   "outputs": [
    {
     "name": "stdout",
     "output_type": "stream",
     "text": [
      "테스트 세트 예측 :  [-0.05396539  0.35686046  1.13671923 -1.89415682 -1.13881398 -1.63113382\n",
      "  0.35686046  0.91241374 -0.44680446 -1.13881398]\n"
     ]
    }
   ],
   "source": [
    "print(\"테스트 세트 예측 : \", reg.predict(X_test))"
   ]
  },
  {
   "cell_type": "code",
   "execution_count": 99,
   "metadata": {},
   "outputs": [
    {
     "name": "stdout",
     "output_type": "stream",
     "text": [
      "설명계수(R^2) :  0.8344172446249604\n"
     ]
    }
   ],
   "source": [
    "# 회귀분석에서의 정확도는 어느정도 관계에 영향을 미치는지가 중요\n",
    "# 설명계수 R^2 이 중요\n",
    "print(\"설명계수(R^2) : \", reg.score(X_test, y_test)) # 연관성 중요 0.83 정도면 연관성 좋은거래여......"
   ]
  },
  {
   "cell_type": "code",
   "execution_count": null,
   "metadata": {},
   "outputs": [],
   "source": []
  },
  {
   "cell_type": "code",
   "execution_count": null,
   "metadata": {},
   "outputs": [],
   "source": []
  },
  {
   "cell_type": "markdown",
   "metadata": {},
   "source": [
    "### KNeighborsRegressor  분석"
   ]
  },
  {
   "cell_type": "code",
   "execution_count": 118,
   "metadata": {},
   "outputs": [
    {
     "data": {
      "image/png": "[encoded data removed]",
      "text/plain": [
       "<Figure size 1080x288 with 3 Axes>"
      ]
     },
     "metadata": {
      "needs_background": "light"
     },
     "output_type": "display_data"
    }
   ],
   "source": [
    "# 이웃의 개수에 따라 복잡도가 어떻게 나눠지는지 확인해보기\n",
    "\n",
    "# 그래프 3개 그리기 (k = 1, 3, 9)\n",
    "fig, axes = plt.subplots(1, 3, figsize=(15, 4)) # axes 각 그래프에 대한 축의 위치값이 들어가있음 \n",
    "\n",
    "# 연속적인 범위 지정(-3부터 3까지 1000개의 그래프)\n",
    "line = np.linspace(-3, 3, 1000).reshape(-1, 1)\n",
    "\n",
    "# n_neigh 에는 1, 3, 9 / ax 는 각그래프의 위치값이 들어가게 됨 \n",
    "for n_neigh, ax in zip([1, 3, 9], axes):\n",
    "    reg = KNeighborsRegressor(n_neighbors=n_neigh).fit(X_train, y_train)\n",
    "    \n",
    "    # 회귀분석이므로 연속적인 선그래프 그리기\n",
    "    ax.plot(line, reg.predict(line))\n",
    "    # 그래프를 통해 이웃의 개수에 따라 복잡도가 결정됨을 볼수있다\n",
    "    # 이웃의 개수가 증가할수록 단순해짐\n",
    "    \n",
    "    ax.plot(X_train, y_train, \"^\", c=mglearn.cm2(0), markersize=8) # \"\" 모양 지정, \n",
    "    ax.plot(X_test, y_test, \"v\", c=mglearn.cm2(1), markersize=8)\n",
    "    \n",
    "    ax.set_title(\"{0} 이웃의 훈련 스코어 : {1:.2f}, 테스트 스코어 : {2:.2f}\".format(n_neigh,\n",
    "                 reg.score(X_train, y_train), reg.score(X_test, y_test)))"
   ]
  },
  {
   "cell_type": "code",
   "execution_count": 102,
   "metadata": {
    "collapsed": true
   },
   "outputs": [
    {
     "data": {
      "text/plain": [
       "array([[-3.        ],\n",
       "       [-2.99399399],\n",
       "       [-2.98798799],\n",
       "       [-2.98198198],\n",
       "       [-2.97597598],\n",
       "       [-2.96996997],\n",
       "       [-2.96396396],\n",
       "       [-2.95795796],\n",
       "       [-2.95195195],\n",
       "       [-2.94594595],\n",
       "       [-2.93993994],\n",
       "       [-2.93393393],\n",
       "       [-2.92792793],\n",
       "       [-2.92192192],\n",
       "       [-2.91591592],\n",
       "       [-2.90990991],\n",
       "       [-2.9039039 ],\n",
       "       [-2.8978979 ],\n",
       "       [-2.89189189],\n",
       "       [-2.88588589],\n",
       "       [-2.87987988],\n",
       "       [-2.87387387],\n",
       "       [-2.86786787],\n",
       "       [-2.86186186],\n",
       "       [-2.85585586],\n",
       "       [-2.84984985],\n",
       "       [-2.84384384],\n",
       "       [-2.83783784],\n",
       "       [-2.83183183],\n",
       "       [-2.82582583],\n",
       "       [-2.81981982],\n",
       "       [-2.81381381],\n",
       "       [-2.80780781],\n",
       "       [-2.8018018 ],\n",
       "       [-2.7957958 ],\n",
       "       [-2.78978979],\n",
       "       [-2.78378378],\n",
       "       [-2.77777778],\n",
       "       [-2.77177177],\n",
       "       [-2.76576577],\n",
       "       [-2.75975976],\n",
       "       [-2.75375375],\n",
       "       [-2.74774775],\n",
       "       [-2.74174174],\n",
       "       [-2.73573574],\n",
       "       [-2.72972973],\n",
       "       [-2.72372372],\n",
       "       [-2.71771772],\n",
       "       [-2.71171171],\n",
       "       [-2.70570571],\n",
       "       [-2.6996997 ],\n",
       "       [-2.69369369],\n",
       "       [-2.68768769],\n",
       "       [-2.68168168],\n",
       "       [-2.67567568],\n",
       "       [-2.66966967],\n",
       "       [-2.66366366],\n",
       "       [-2.65765766],\n",
       "       [-2.65165165],\n",
       "       [-2.64564565],\n",
       "       [-2.63963964],\n",
       "       [-2.63363363],\n",
       "       [-2.62762763],\n",
       "       [-2.62162162],\n",
       "       [-2.61561562],\n",
       "       [-2.60960961],\n",
       "       [-2.6036036 ],\n",
       "       [-2.5975976 ],\n",
       "       [-2.59159159],\n",
       "       [-2.58558559],\n",
       "       [-2.57957958],\n",
       "       [-2.57357357],\n",
       "       [-2.56756757],\n",
       "       [-2.56156156],\n",
       "       [-2.55555556],\n",
       "       [-2.54954955],\n",
       "       [-2.54354354],\n",
       "       [-2.53753754],\n",
       "       [-2.53153153],\n",
       "       [-2.52552553],\n",
       "       [-2.51951952],\n",
       "       [-2.51351351],\n",
       "       [-2.50750751],\n",
       "       [-2.5015015 ],\n",
       "       [-2.4954955 ],\n",
       "       [-2.48948949],\n",
       "       [-2.48348348],\n",
       "       [-2.47747748],\n",
       "       [-2.47147147],\n",
       "       [-2.46546547],\n",
       "       [-2.45945946],\n",
       "       [-2.45345345],\n",
       "       [-2.44744745],\n",
       "       [-2.44144144],\n",
       "       [-2.43543544],\n",
       "       [-2.42942943],\n",
       "       [-2.42342342],\n",
       "       [-2.41741742],\n",
       "       [-2.41141141],\n",
       "       [-2.40540541],\n",
       "       [-2.3993994 ],\n",
       "       [-2.39339339],\n",
       "       [-2.38738739],\n",
       "       [-2.38138138],\n",
       "       [-2.37537538],\n",
       "       [-2.36936937],\n",
       "       [-2.36336336],\n",
       "       [-2.35735736],\n",
       "       [-2.35135135],\n",
       "       [-2.34534535],\n",
       "       [-2.33933934],\n",
       "       [-2.33333333],\n",
       "       [-2.32732733],\n",
       "       [-2.32132132],\n",
       "       [-2.31531532],\n",
       "       [-2.30930931],\n",
       "       [-2.3033033 ],\n",
       "       [-2.2972973 ],\n",
       "       [-2.29129129],\n",
       "       [-2.28528529],\n",
       "       [-2.27927928],\n",
       "       [-2.27327327],\n",
       "       [-2.26726727],\n",
       "       [-2.26126126],\n",
       "       [-2.25525526],\n",
       "       [-2.24924925],\n",
       "       [-2.24324324],\n",
       "       [-2.23723724],\n",
       "       [-2.23123123],\n",
       "       [-2.22522523],\n",
       "       [-2.21921922],\n",
       "       [-2.21321321],\n",
       "       [-2.20720721],\n",
       "       [-2.2012012 ],\n",
       "       [-2.1951952 ],\n",
       "       [-2.18918919],\n",
       "       [-2.18318318],\n",
       "       [-2.17717718],\n",
       "       [-2.17117117],\n",
       "       [-2.16516517],\n",
       "       [-2.15915916],\n",
       "       [-2.15315315],\n",
       "       [-2.14714715],\n",
       "       [-2.14114114],\n",
       "       [-2.13513514],\n",
       "       [-2.12912913],\n",
       "       [-2.12312312],\n",
       "       [-2.11711712],\n",
       "       [-2.11111111],\n",
       "       [-2.10510511],\n",
       "       [-2.0990991 ],\n",
       "       [-2.09309309],\n",
       "       [-2.08708709],\n",
       "       [-2.08108108],\n",
       "       [-2.07507508],\n",
       "       [-2.06906907],\n",
       "       [-2.06306306],\n",
       "       [-2.05705706],\n",
       "       [-2.05105105],\n",
       "       [-2.04504505],\n",
       "       [-2.03903904],\n",
       "       [-2.03303303],\n",
       "       [-2.02702703],\n",
       "       [-2.02102102],\n",
       "       [-2.01501502],\n",
       "       [-2.00900901],\n",
       "       [-2.003003  ],\n",
       "       [-1.996997  ],\n",
       "       [-1.99099099],\n",
       "       [-1.98498498],\n",
       "       [-1.97897898],\n",
       "       [-1.97297297],\n",
       "       [-1.96696697],\n",
       "       [-1.96096096],\n",
       "       [-1.95495495],\n",
       "       [-1.94894895],\n",
       "       [-1.94294294],\n",
       "       [-1.93693694],\n",
       "       [-1.93093093],\n",
       "       [-1.92492492],\n",
       "       [-1.91891892],\n",
       "       [-1.91291291],\n",
       "       [-1.90690691],\n",
       "       [-1.9009009 ],\n",
       "       [-1.89489489],\n",
       "       [-1.88888889],\n",
       "       [-1.88288288],\n",
       "       [-1.87687688],\n",
       "       [-1.87087087],\n",
       "       [-1.86486486],\n",
       "       [-1.85885886],\n",
       "       [-1.85285285],\n",
       "       [-1.84684685],\n",
       "       [-1.84084084],\n",
       "       [-1.83483483],\n",
       "       [-1.82882883],\n",
       "       [-1.82282282],\n",
       "       [-1.81681682],\n",
       "       [-1.81081081],\n",
       "       [-1.8048048 ],\n",
       "       [-1.7987988 ],\n",
       "       [-1.79279279],\n",
       "       [-1.78678679],\n",
       "       [-1.78078078],\n",
       "       [-1.77477477],\n",
       "       [-1.76876877],\n",
       "       [-1.76276276],\n",
       "       [-1.75675676],\n",
       "       [-1.75075075],\n",
       "       [-1.74474474],\n",
       "       [-1.73873874],\n",
       "       [-1.73273273],\n",
       "       [-1.72672673],\n",
       "       [-1.72072072],\n",
       "       [-1.71471471],\n",
       "       [-1.70870871],\n",
       "       [-1.7027027 ],\n",
       "       [-1.6966967 ],\n",
       "       [-1.69069069],\n",
       "       [-1.68468468],\n",
       "       [-1.67867868],\n",
       "       [-1.67267267],\n",
       "       [-1.66666667],\n",
       "       [-1.66066066],\n",
       "       [-1.65465465],\n",
       "       [-1.64864865],\n",
       "       [-1.64264264],\n",
       "       [-1.63663664],\n",
       "       [-1.63063063],\n",
       "       [-1.62462462],\n",
       "       [-1.61861862],\n",
       "       [-1.61261261],\n",
       "       [-1.60660661],\n",
       "       [-1.6006006 ],\n",
       "       [-1.59459459],\n",
       "       [-1.58858859],\n",
       "       [-1.58258258],\n",
       "       [-1.57657658],\n",
       "       [-1.57057057],\n",
       "       [-1.56456456],\n",
       "       [-1.55855856],\n",
       "       [-1.55255255],\n",
       "       [-1.54654655],\n",
       "       [-1.54054054],\n",
       "       [-1.53453453],\n",
       "       [-1.52852853],\n",
       "       [-1.52252252],\n",
       "       [-1.51651652],\n",
       "       [-1.51051051],\n",
       "       [-1.5045045 ],\n",
       "       [-1.4984985 ],\n",
       "       [-1.49249249],\n",
       "       [-1.48648649],\n",
       "       [-1.48048048],\n",
       "       [-1.47447447],\n",
       "       [-1.46846847],\n",
       "       [-1.46246246],\n",
       "       [-1.45645646],\n",
       "       [-1.45045045],\n",
       "       [-1.44444444],\n",
       "       [-1.43843844],\n",
       "       [-1.43243243],\n",
       "       [-1.42642643],\n",
       "       [-1.42042042],\n",
       "       [-1.41441441],\n",
       "       [-1.40840841],\n",
       "       [-1.4024024 ],\n",
       "       [-1.3963964 ],\n",
       "       [-1.39039039],\n",
       "       [-1.38438438],\n",
       "       [-1.37837838],\n",
       "       [-1.37237237],\n",
       "       [-1.36636637],\n",
       "       [-1.36036036],\n",
       "       [-1.35435435],\n",
       "       [-1.34834835],\n",
       "       [-1.34234234],\n",
       "       [-1.33633634],\n",
       "       [-1.33033033],\n",
       "       [-1.32432432],\n",
       "       [-1.31831832],\n",
       "       [-1.31231231],\n",
       "       [-1.30630631],\n",
       "       [-1.3003003 ],\n",
       "       [-1.29429429],\n",
       "       [-1.28828829],\n",
       "       [-1.28228228],\n",
       "       [-1.27627628],\n",
       "       [-1.27027027],\n",
       "       [-1.26426426],\n",
       "       [-1.25825826],\n",
       "       [-1.25225225],\n",
       "       [-1.24624625],\n",
       "       [-1.24024024],\n",
       "       [-1.23423423],\n",
       "       [-1.22822823],\n",
       "       [-1.22222222],\n",
       "       [-1.21621622],\n",
       "       [-1.21021021],\n",
       "       [-1.2042042 ],\n",
       "       [-1.1981982 ],\n",
       "       [-1.19219219],\n",
       "       [-1.18618619],\n",
       "       [-1.18018018],\n",
       "       [-1.17417417],\n",
       "       [-1.16816817],\n",
       "       [-1.16216216],\n",
       "       [-1.15615616],\n",
       "       [-1.15015015],\n",
       "       [-1.14414414],\n",
       "       [-1.13813814],\n",
       "       [-1.13213213],\n",
       "       [-1.12612613],\n",
       "       [-1.12012012],\n",
       "       [-1.11411411],\n",
       "       [-1.10810811],\n",
       "       [-1.1021021 ],\n",
       "       [-1.0960961 ],\n",
       "       [-1.09009009],\n",
       "       [-1.08408408],\n",
       "       [-1.07807808],\n",
       "       [-1.07207207],\n",
       "       [-1.06606607],\n",
       "       [-1.06006006],\n",
       "       [-1.05405405],\n",
       "       [-1.04804805],\n",
       "       [-1.04204204],\n",
       "       [-1.03603604],\n",
       "       [-1.03003003],\n",
       "       [-1.02402402],\n",
       "       [-1.01801802],\n",
       "       [-1.01201201],\n",
       "       [-1.00600601],\n",
       "       [-1.        ],\n",
       "       [-0.99399399],\n",
       "       [-0.98798799],\n",
       "       [-0.98198198],\n",
       "       [-0.97597598],\n",
       "       [-0.96996997],\n",
       "       [-0.96396396],\n",
       "       [-0.95795796],\n",
       "       [-0.95195195],\n",
       "       [-0.94594595],\n",
       "       [-0.93993994],\n",
       "       [-0.93393393],\n",
       "       [-0.92792793],\n",
       "       [-0.92192192],\n",
       "       [-0.91591592],\n",
       "       [-0.90990991],\n",
       "       [-0.9039039 ],\n",
       "       [-0.8978979 ],\n",
       "       [-0.89189189],\n",
       "       [-0.88588589],\n",
       "       [-0.87987988],\n",
       "       [-0.87387387],\n",
       "       [-0.86786787],\n",
       "       [-0.86186186],\n",
       "       [-0.85585586],\n",
       "       [-0.84984985],\n",
       "       [-0.84384384],\n",
       "       [-0.83783784],\n",
       "       [-0.83183183],\n",
       "       [-0.82582583],\n",
       "       [-0.81981982],\n",
       "       [-0.81381381],\n",
       "       [-0.80780781],\n",
       "       [-0.8018018 ],\n",
       "       [-0.7957958 ],\n",
       "       [-0.78978979],\n",
       "       [-0.78378378],\n",
       "       [-0.77777778],\n",
       "       [-0.77177177],\n",
       "       [-0.76576577],\n",
       "       [-0.75975976],\n",
       "       [-0.75375375],\n",
       "       [-0.74774775],\n",
       "       [-0.74174174],\n",
       "       [-0.73573574],\n",
       "       [-0.72972973],\n",
       "       [-0.72372372],\n",
       "       [-0.71771772],\n",
       "       [-0.71171171],\n",
       "       [-0.70570571],\n",
       "       [-0.6996997 ],\n",
       "       [-0.69369369],\n",
       "       [-0.68768769],\n",
       "       [-0.68168168],\n",
       "       [-0.67567568],\n",
       "       [-0.66966967],\n",
       "       [-0.66366366],\n",
       "       [-0.65765766],\n",
       "       [-0.65165165],\n",
       "       [-0.64564565],\n",
       "       [-0.63963964],\n",
       "       [-0.63363363],\n",
       "       [-0.62762763],\n",
       "       [-0.62162162],\n",
       "       [-0.61561562],\n",
       "       [-0.60960961],\n",
       "       [-0.6036036 ],\n",
       "       [-0.5975976 ],\n",
       "       [-0.59159159],\n",
       "       [-0.58558559],\n",
       "       [-0.57957958],\n",
       "       [-0.57357357],\n",
       "       [-0.56756757],\n",
       "       [-0.56156156],\n",
       "       [-0.55555556],\n",
       "       [-0.54954955],\n",
       "       [-0.54354354],\n",
       "       [-0.53753754],\n",
       "       [-0.53153153],\n",
       "       [-0.52552553],\n",
       "       [-0.51951952],\n",
       "       [-0.51351351],\n",
       "       [-0.50750751],\n",
       "       [-0.5015015 ],\n",
       "       [-0.4954955 ],\n",
       "       [-0.48948949],\n",
       "       [-0.48348348],\n",
       "       [-0.47747748],\n",
       "       [-0.47147147],\n",
       "       [-0.46546547],\n",
       "       [-0.45945946],\n",
       "       [-0.45345345],\n",
       "       [-0.44744745],\n",
       "       [-0.44144144],\n",
       "       [-0.43543544],\n",
       "       [-0.42942943],\n",
       "       [-0.42342342],\n",
       "       [-0.41741742],\n",
       "       [-0.41141141],\n",
       "       [-0.40540541],\n",
       "       [-0.3993994 ],\n",
       "       [-0.39339339],\n",
       "       [-0.38738739],\n",
       "       [-0.38138138],\n",
       "       [-0.37537538],\n",
       "       [-0.36936937],\n",
       "       [-0.36336336],\n",
       "       [-0.35735736],\n",
       "       [-0.35135135],\n",
       "       [-0.34534535],\n",
       "       [-0.33933934],\n",
       "       [-0.33333333],\n",
       "       [-0.32732733],\n",
       "       [-0.32132132],\n",
       "       [-0.31531532],\n",
       "       [-0.30930931],\n",
       "       [-0.3033033 ],\n",
       "       [-0.2972973 ],\n",
       "       [-0.29129129],\n",
       "       [-0.28528529],\n",
       "       [-0.27927928],\n",
       "       [-0.27327327],\n",
       "       [-0.26726727],\n",
       "       [-0.26126126],\n",
       "       [-0.25525526],\n",
       "       [-0.24924925],\n",
       "       [-0.24324324],\n",
       "       [-0.23723724],\n",
       "       [-0.23123123],\n",
       "       [-0.22522523],\n",
       "       [-0.21921922],\n",
       "       [-0.21321321],\n",
       "       [-0.20720721],\n",
       "       [-0.2012012 ],\n",
       "       [-0.1951952 ],\n",
       "       [-0.18918919],\n",
       "       [-0.18318318],\n",
       "       [-0.17717718],\n",
       "       [-0.17117117],\n",
       "       [-0.16516517],\n",
       "       [-0.15915916],\n",
       "       [-0.15315315],\n",
       "       [-0.14714715],\n",
       "       [-0.14114114],\n",
       "       [-0.13513514],\n",
       "       [-0.12912913],\n",
       "       [-0.12312312],\n",
       "       [-0.11711712],\n",
       "       [-0.11111111],\n",
       "       [-0.10510511],\n",
       "       [-0.0990991 ],\n",
       "       [-0.09309309],\n",
       "       [-0.08708709],\n",
       "       [-0.08108108],\n",
       "       [-0.07507508],\n",
       "       [-0.06906907],\n",
       "       [-0.06306306],\n",
       "       [-0.05705706],\n",
       "       [-0.05105105],\n",
       "       [-0.04504505],\n",
       "       [-0.03903904],\n",
       "       [-0.03303303],\n",
       "       [-0.02702703],\n",
       "       [-0.02102102],\n",
       "       [-0.01501502],\n",
       "       [-0.00900901],\n",
       "       [-0.003003  ],\n",
       "       [ 0.003003  ],\n",
       "       [ 0.00900901],\n",
       "       [ 0.01501502],\n",
       "       [ 0.02102102],\n",
       "       [ 0.02702703],\n",
       "       [ 0.03303303],\n",
       "       [ 0.03903904],\n",
       "       [ 0.04504505],\n",
       "       [ 0.05105105],\n",
       "       [ 0.05705706],\n",
       "       [ 0.06306306],\n",
       "       [ 0.06906907],\n",
       "       [ 0.07507508],\n",
       "       [ 0.08108108],\n",
       "       [ 0.08708709],\n",
       "       [ 0.09309309],\n",
       "       [ 0.0990991 ],\n",
       "       [ 0.10510511],\n",
       "       [ 0.11111111],\n",
       "       [ 0.11711712],\n",
       "       [ 0.12312312],\n",
       "       [ 0.12912913],\n",
       "       [ 0.13513514],\n",
       "       [ 0.14114114],\n",
       "       [ 0.14714715],\n",
       "       [ 0.15315315],\n",
       "       [ 0.15915916],\n",
       "       [ 0.16516517],\n",
       "       [ 0.17117117],\n",
       "       [ 0.17717718],\n",
       "       [ 0.18318318],\n",
       "       [ 0.18918919],\n",
       "       [ 0.1951952 ],\n",
       "       [ 0.2012012 ],\n",
       "       [ 0.20720721],\n",
       "       [ 0.21321321],\n",
       "       [ 0.21921922],\n",
       "       [ 0.22522523],\n",
       "       [ 0.23123123],\n",
       "       [ 0.23723724],\n",
       "       [ 0.24324324],\n",
       "       [ 0.24924925],\n",
       "       [ 0.25525526],\n",
       "       [ 0.26126126],\n",
       "       [ 0.26726727],\n",
       "       [ 0.27327327],\n",
       "       [ 0.27927928],\n",
       "       [ 0.28528529],\n",
       "       [ 0.29129129],\n",
       "       [ 0.2972973 ],\n",
       "       [ 0.3033033 ],\n",
       "       [ 0.30930931],\n",
       "       [ 0.31531532],\n",
       "       [ 0.32132132],\n",
       "       [ 0.32732733],\n",
       "       [ 0.33333333],\n",
       "       [ 0.33933934],\n",
       "       [ 0.34534535],\n",
       "       [ 0.35135135],\n",
       "       [ 0.35735736],\n",
       "       [ 0.36336336],\n",
       "       [ 0.36936937],\n",
       "       [ 0.37537538],\n",
       "       [ 0.38138138],\n",
       "       [ 0.38738739],\n",
       "       [ 0.39339339],\n",
       "       [ 0.3993994 ],\n",
       "       [ 0.40540541],\n",
       "       [ 0.41141141],\n",
       "       [ 0.41741742],\n",
       "       [ 0.42342342],\n",
       "       [ 0.42942943],\n",
       "       [ 0.43543544],\n",
       "       [ 0.44144144],\n",
       "       [ 0.44744745],\n",
       "       [ 0.45345345],\n",
       "       [ 0.45945946],\n",
       "       [ 0.46546547],\n",
       "       [ 0.47147147],\n",
       "       [ 0.47747748],\n",
       "       [ 0.48348348],\n",
       "       [ 0.48948949],\n",
       "       [ 0.4954955 ],\n",
       "       [ 0.5015015 ],\n",
       "       [ 0.50750751],\n",
       "       [ 0.51351351],\n",
       "       [ 0.51951952],\n",
       "       [ 0.52552553],\n",
       "       [ 0.53153153],\n",
       "       [ 0.53753754],\n",
       "       [ 0.54354354],\n",
       "       [ 0.54954955],\n",
       "       [ 0.55555556],\n",
       "       [ 0.56156156],\n",
       "       [ 0.56756757],\n",
       "       [ 0.57357357],\n",
       "       [ 0.57957958],\n",
       "       [ 0.58558559],\n",
       "       [ 0.59159159],\n",
       "       [ 0.5975976 ],\n",
       "       [ 0.6036036 ],\n",
       "       [ 0.60960961],\n",
       "       [ 0.61561562],\n",
       "       [ 0.62162162],\n",
       "       [ 0.62762763],\n",
       "       [ 0.63363363],\n",
       "       [ 0.63963964],\n",
       "       [ 0.64564565],\n",
       "       [ 0.65165165],\n",
       "       [ 0.65765766],\n",
       "       [ 0.66366366],\n",
       "       [ 0.66966967],\n",
       "       [ 0.67567568],\n",
       "       [ 0.68168168],\n",
       "       [ 0.68768769],\n",
       "       [ 0.69369369],\n",
       "       [ 0.6996997 ],\n",
       "       [ 0.70570571],\n",
       "       [ 0.71171171],\n",
       "       [ 0.71771772],\n",
       "       [ 0.72372372],\n",
       "       [ 0.72972973],\n",
       "       [ 0.73573574],\n",
       "       [ 0.74174174],\n",
       "       [ 0.74774775],\n",
       "       [ 0.75375375],\n",
       "       [ 0.75975976],\n",
       "       [ 0.76576577],\n",
       "       [ 0.77177177],\n",
       "       [ 0.77777778],\n",
       "       [ 0.78378378],\n",
       "       [ 0.78978979],\n",
       "       [ 0.7957958 ],\n",
       "       [ 0.8018018 ],\n",
       "       [ 0.80780781],\n",
       "       [ 0.81381381],\n",
       "       [ 0.81981982],\n",
       "       [ 0.82582583],\n",
       "       [ 0.83183183],\n",
       "       [ 0.83783784],\n",
       "       [ 0.84384384],\n",
       "       [ 0.84984985],\n",
       "       [ 0.85585586],\n",
       "       [ 0.86186186],\n",
       "       [ 0.86786787],\n",
       "       [ 0.87387387],\n",
       "       [ 0.87987988],\n",
       "       [ 0.88588589],\n",
       "       [ 0.89189189],\n",
       "       [ 0.8978979 ],\n",
       "       [ 0.9039039 ],\n",
       "       [ 0.90990991],\n",
       "       [ 0.91591592],\n",
       "       [ 0.92192192],\n",
       "       [ 0.92792793],\n",
       "       [ 0.93393393],\n",
       "       [ 0.93993994],\n",
       "       [ 0.94594595],\n",
       "       [ 0.95195195],\n",
       "       [ 0.95795796],\n",
       "       [ 0.96396396],\n",
       "       [ 0.96996997],\n",
       "       [ 0.97597598],\n",
       "       [ 0.98198198],\n",
       "       [ 0.98798799],\n",
       "       [ 0.99399399],\n",
       "       [ 1.        ],\n",
       "       [ 1.00600601],\n",
       "       [ 1.01201201],\n",
       "       [ 1.01801802],\n",
       "       [ 1.02402402],\n",
       "       [ 1.03003003],\n",
       "       [ 1.03603604],\n",
       "       [ 1.04204204],\n",
       "       [ 1.04804805],\n",
       "       [ 1.05405405],\n",
       "       [ 1.06006006],\n",
       "       [ 1.06606607],\n",
       "       [ 1.07207207],\n",
       "       [ 1.07807808],\n",
       "       [ 1.08408408],\n",
       "       [ 1.09009009],\n",
       "       [ 1.0960961 ],\n",
       "       [ 1.1021021 ],\n",
       "       [ 1.10810811],\n",
       "       [ 1.11411411],\n",
       "       [ 1.12012012],\n",
       "       [ 1.12612613],\n",
       "       [ 1.13213213],\n",
       "       [ 1.13813814],\n",
       "       [ 1.14414414],\n",
       "       [ 1.15015015],\n",
       "       [ 1.15615616],\n",
       "       [ 1.16216216],\n",
       "       [ 1.16816817],\n",
       "       [ 1.17417417],\n",
       "       [ 1.18018018],\n",
       "       [ 1.18618619],\n",
       "       [ 1.19219219],\n",
       "       [ 1.1981982 ],\n",
       "       [ 1.2042042 ],\n",
       "       [ 1.21021021],\n",
       "       [ 1.21621622],\n",
       "       [ 1.22222222],\n",
       "       [ 1.22822823],\n",
       "       [ 1.23423423],\n",
       "       [ 1.24024024],\n",
       "       [ 1.24624625],\n",
       "       [ 1.25225225],\n",
       "       [ 1.25825826],\n",
       "       [ 1.26426426],\n",
       "       [ 1.27027027],\n",
       "       [ 1.27627628],\n",
       "       [ 1.28228228],\n",
       "       [ 1.28828829],\n",
       "       [ 1.29429429],\n",
       "       [ 1.3003003 ],\n",
       "       [ 1.30630631],\n",
       "       [ 1.31231231],\n",
       "       [ 1.31831832],\n",
       "       [ 1.32432432],\n",
       "       [ 1.33033033],\n",
       "       [ 1.33633634],\n",
       "       [ 1.34234234],\n",
       "       [ 1.34834835],\n",
       "       [ 1.35435435],\n",
       "       [ 1.36036036],\n",
       "       [ 1.36636637],\n",
       "       [ 1.37237237],\n",
       "       [ 1.37837838],\n",
       "       [ 1.38438438],\n",
       "       [ 1.39039039],\n",
       "       [ 1.3963964 ],\n",
       "       [ 1.4024024 ],\n",
       "       [ 1.40840841],\n",
       "       [ 1.41441441],\n",
       "       [ 1.42042042],\n",
       "       [ 1.42642643],\n",
       "       [ 1.43243243],\n",
       "       [ 1.43843844],\n",
       "       [ 1.44444444],\n",
       "       [ 1.45045045],\n",
       "       [ 1.45645646],\n",
       "       [ 1.46246246],\n",
       "       [ 1.46846847],\n",
       "       [ 1.47447447],\n",
       "       [ 1.48048048],\n",
       "       [ 1.48648649],\n",
       "       [ 1.49249249],\n",
       "       [ 1.4984985 ],\n",
       "       [ 1.5045045 ],\n",
       "       [ 1.51051051],\n",
       "       [ 1.51651652],\n",
       "       [ 1.52252252],\n",
       "       [ 1.52852853],\n",
       "       [ 1.53453453],\n",
       "       [ 1.54054054],\n",
       "       [ 1.54654655],\n",
       "       [ 1.55255255],\n",
       "       [ 1.55855856],\n",
       "       [ 1.56456456],\n",
       "       [ 1.57057057],\n",
       "       [ 1.57657658],\n",
       "       [ 1.58258258],\n",
       "       [ 1.58858859],\n",
       "       [ 1.59459459],\n",
       "       [ 1.6006006 ],\n",
       "       [ 1.60660661],\n",
       "       [ 1.61261261],\n",
       "       [ 1.61861862],\n",
       "       [ 1.62462462],\n",
       "       [ 1.63063063],\n",
       "       [ 1.63663664],\n",
       "       [ 1.64264264],\n",
       "       [ 1.64864865],\n",
       "       [ 1.65465465],\n",
       "       [ 1.66066066],\n",
       "       [ 1.66666667],\n",
       "       [ 1.67267267],\n",
       "       [ 1.67867868],\n",
       "       [ 1.68468468],\n",
       "       [ 1.69069069],\n",
       "       [ 1.6966967 ],\n",
       "       [ 1.7027027 ],\n",
       "       [ 1.70870871],\n",
       "       [ 1.71471471],\n",
       "       [ 1.72072072],\n",
       "       [ 1.72672673],\n",
       "       [ 1.73273273],\n",
       "       [ 1.73873874],\n",
       "       [ 1.74474474],\n",
       "       [ 1.75075075],\n",
       "       [ 1.75675676],\n",
       "       [ 1.76276276],\n",
       "       [ 1.76876877],\n",
       "       [ 1.77477477],\n",
       "       [ 1.78078078],\n",
       "       [ 1.78678679],\n",
       "       [ 1.79279279],\n",
       "       [ 1.7987988 ],\n",
       "       [ 1.8048048 ],\n",
       "       [ 1.81081081],\n",
       "       [ 1.81681682],\n",
       "       [ 1.82282282],\n",
       "       [ 1.82882883],\n",
       "       [ 1.83483483],\n",
       "       [ 1.84084084],\n",
       "       [ 1.84684685],\n",
       "       [ 1.85285285],\n",
       "       [ 1.85885886],\n",
       "       [ 1.86486486],\n",
       "       [ 1.87087087],\n",
       "       [ 1.87687688],\n",
       "       [ 1.88288288],\n",
       "       [ 1.88888889],\n",
       "       [ 1.89489489],\n",
       "       [ 1.9009009 ],\n",
       "       [ 1.90690691],\n",
       "       [ 1.91291291],\n",
       "       [ 1.91891892],\n",
       "       [ 1.92492492],\n",
       "       [ 1.93093093],\n",
       "       [ 1.93693694],\n",
       "       [ 1.94294294],\n",
       "       [ 1.94894895],\n",
       "       [ 1.95495495],\n",
       "       [ 1.96096096],\n",
       "       [ 1.96696697],\n",
       "       [ 1.97297297],\n",
       "       [ 1.97897898],\n",
       "       [ 1.98498498],\n",
       "       [ 1.99099099],\n",
       "       [ 1.996997  ],\n",
       "       [ 2.003003  ],\n",
       "       [ 2.00900901],\n",
       "       [ 2.01501502],\n",
       "       [ 2.02102102],\n",
       "       [ 2.02702703],\n",
       "       [ 2.03303303],\n",
       "       [ 2.03903904],\n",
       "       [ 2.04504505],\n",
       "       [ 2.05105105],\n",
       "       [ 2.05705706],\n",
       "       [ 2.06306306],\n",
       "       [ 2.06906907],\n",
       "       [ 2.07507508],\n",
       "       [ 2.08108108],\n",
       "       [ 2.08708709],\n",
       "       [ 2.09309309],\n",
       "       [ 2.0990991 ],\n",
       "       [ 2.10510511],\n",
       "       [ 2.11111111],\n",
       "       [ 2.11711712],\n",
       "       [ 2.12312312],\n",
       "       [ 2.12912913],\n",
       "       [ 2.13513514],\n",
       "       [ 2.14114114],\n",
       "       [ 2.14714715],\n",
       "       [ 2.15315315],\n",
       "       [ 2.15915916],\n",
       "       [ 2.16516517],\n",
       "       [ 2.17117117],\n",
       "       [ 2.17717718],\n",
       "       [ 2.18318318],\n",
       "       [ 2.18918919],\n",
       "       [ 2.1951952 ],\n",
       "       [ 2.2012012 ],\n",
       "       [ 2.20720721],\n",
       "       [ 2.21321321],\n",
       "       [ 2.21921922],\n",
       "       [ 2.22522523],\n",
       "       [ 2.23123123],\n",
       "       [ 2.23723724],\n",
       "       [ 2.24324324],\n",
       "       [ 2.24924925],\n",
       "       [ 2.25525526],\n",
       "       [ 2.26126126],\n",
       "       [ 2.26726727],\n",
       "       [ 2.27327327],\n",
       "       [ 2.27927928],\n",
       "       [ 2.28528529],\n",
       "       [ 2.29129129],\n",
       "       [ 2.2972973 ],\n",
       "       [ 2.3033033 ],\n",
       "       [ 2.30930931],\n",
       "       [ 2.31531532],\n",
       "       [ 2.32132132],\n",
       "       [ 2.32732733],\n",
       "       [ 2.33333333],\n",
       "       [ 2.33933934],\n",
       "       [ 2.34534535],\n",
       "       [ 2.35135135],\n",
       "       [ 2.35735736],\n",
       "       [ 2.36336336],\n",
       "       [ 2.36936937],\n",
       "       [ 2.37537538],\n",
       "       [ 2.38138138],\n",
       "       [ 2.38738739],\n",
       "       [ 2.39339339],\n",
       "       [ 2.3993994 ],\n",
       "       [ 2.40540541],\n",
       "       [ 2.41141141],\n",
       "       [ 2.41741742],\n",
       "       [ 2.42342342],\n",
       "       [ 2.42942943],\n",
       "       [ 2.43543544],\n",
       "       [ 2.44144144],\n",
       "       [ 2.44744745],\n",
       "       [ 2.45345345],\n",
       "       [ 2.45945946],\n",
       "       [ 2.46546547],\n",
       "       [ 2.47147147],\n",
       "       [ 2.47747748],\n",
       "       [ 2.48348348],\n",
       "       [ 2.48948949],\n",
       "       [ 2.4954955 ],\n",
       "       [ 2.5015015 ],\n",
       "       [ 2.50750751],\n",
       "       [ 2.51351351],\n",
       "       [ 2.51951952],\n",
       "       [ 2.52552553],\n",
       "       [ 2.53153153],\n",
       "       [ 2.53753754],\n",
       "       [ 2.54354354],\n",
       "       [ 2.54954955],\n",
       "       [ 2.55555556],\n",
       "       [ 2.56156156],\n",
       "       [ 2.56756757],\n",
       "       [ 2.57357357],\n",
       "       [ 2.57957958],\n",
       "       [ 2.58558559],\n",
       "       [ 2.59159159],\n",
       "       [ 2.5975976 ],\n",
       "       [ 2.6036036 ],\n",
       "       [ 2.60960961],\n",
       "       [ 2.61561562],\n",
       "       [ 2.62162162],\n",
       "       [ 2.62762763],\n",
       "       [ 2.63363363],\n",
       "       [ 2.63963964],\n",
       "       [ 2.64564565],\n",
       "       [ 2.65165165],\n",
       "       [ 2.65765766],\n",
       "       [ 2.66366366],\n",
       "       [ 2.66966967],\n",
       "       [ 2.67567568],\n",
       "       [ 2.68168168],\n",
       "       [ 2.68768769],\n",
       "       [ 2.69369369],\n",
       "       [ 2.6996997 ],\n",
       "       [ 2.70570571],\n",
       "       [ 2.71171171],\n",
       "       [ 2.71771772],\n",
       "       [ 2.72372372],\n",
       "       [ 2.72972973],\n",
       "       [ 2.73573574],\n",
       "       [ 2.74174174],\n",
       "       [ 2.74774775],\n",
       "       [ 2.75375375],\n",
       "       [ 2.75975976],\n",
       "       [ 2.76576577],\n",
       "       [ 2.77177177],\n",
       "       [ 2.77777778],\n",
       "       [ 2.78378378],\n",
       "       [ 2.78978979],\n",
       "       [ 2.7957958 ],\n",
       "       [ 2.8018018 ],\n",
       "       [ 2.80780781],\n",
       "       [ 2.81381381],\n",
       "       [ 2.81981982],\n",
       "       [ 2.82582583],\n",
       "       [ 2.83183183],\n",
       "       [ 2.83783784],\n",
       "       [ 2.84384384],\n",
       "       [ 2.84984985],\n",
       "       [ 2.85585586],\n",
       "       [ 2.86186186],\n",
       "       [ 2.86786787],\n",
       "       [ 2.87387387],\n",
       "       [ 2.87987988],\n",
       "       [ 2.88588589],\n",
       "       [ 2.89189189],\n",
       "       [ 2.8978979 ],\n",
       "       [ 2.9039039 ],\n",
       "       [ 2.90990991],\n",
       "       [ 2.91591592],\n",
       "       [ 2.92192192],\n",
       "       [ 2.92792793],\n",
       "       [ 2.93393393],\n",
       "       [ 2.93993994],\n",
       "       [ 2.94594595],\n",
       "       [ 2.95195195],\n",
       "       [ 2.95795796],\n",
       "       [ 2.96396396],\n",
       "       [ 2.96996997],\n",
       "       [ 2.97597598],\n",
       "       [ 2.98198198],\n",
       "       [ 2.98798799],\n",
       "       [ 2.99399399],\n",
       "       [ 3.        ]])"
      ]
     },
     "execution_count": 102,
     "metadata": {},
     "output_type": "execute_result"
    }
   ],
   "source": [
    "# 연속적인 범위 지정(-3부터 3까지 1000개의 그래프)\n",
    "# 임의의 난수, 무의미한 값들 1000개 테스트 하기 \n",
    "# 이걸 데이터로 넘겨주려면 2차원으로 넘겨줘야함 -> 구조변경해야함 (reshape 사용)\n",
    "line = np.linspace(-3, 3, 1000).reshape(-1, 1)\n",
    "line"
   ]
  },
  {
   "cell_type": "code",
   "execution_count": null,
   "metadata": {},
   "outputs": [],
   "source": []
  },
  {
   "cell_type": "code",
   "execution_count": null,
   "metadata": {},
   "outputs": [],
   "source": []
  },
  {
   "cell_type": "markdown",
   "metadata": {},
   "source": [
    "### iris를 이용한 사례"
   ]
  },
  {
   "cell_type": "code",
   "execution_count": 130,
   "metadata": {},
   "outputs": [
    {
     "name": "stdout",
     "output_type": "stream",
     "text": [
      "dict_keys(['data', 'target', 'target_names', 'DESCR', 'feature_names', 'filename'])\n",
      "['setosa' 'versicolor' 'virginica']\n",
      "['sepal length (cm)', 'sepal width (cm)', 'petal length (cm)', 'petal width (cm)']\n",
      "(112, 4) (38, 4) (112,) (38,)\n"
     ]
    }
   ],
   "source": [
    "# 데이터 불러오기\n",
    "from sklearn.datasets import load_iris\n",
    "iris = load_iris()\n",
    "print(iris.keys())\n",
    "print(iris.target_names) # 품종이름\n",
    "print(iris.feature_names)\n",
    "\n",
    "# 테스트용 훈련용 나누기 \n",
    "X_train, X_test, y_train, y_test = train_test_split(iris[\"data\"], iris.target, random_state=0)\n",
    "print(X_train.shape, X_test.shape, y_train.shape, y_test.shape) # X는 2차원배열 y(정답)는 1차원 배열"
   ]
  },
  {
   "cell_type": "code",
   "execution_count": 143,
   "metadata": {},
   "outputs": [
    {
     "data": {
      "text/plain": [
       "array([[<matplotlib.axes._subplots.AxesSubplot object at 0x0000000015194B48>,\n",
       "        <matplotlib.axes._subplots.AxesSubplot object at 0x00000000154E8108>,\n",
       "        <matplotlib.axes._subplots.AxesSubplot object at 0x00000000152C7748>,\n",
       "        <matplotlib.axes._subplots.AxesSubplot object at 0x0000000015300188>],\n",
       "       [<matplotlib.axes._subplots.AxesSubplot object at 0x0000000015337B48>,\n",
       "        <matplotlib.axes._subplots.AxesSubplot object at 0x0000000015372548>,\n",
       "        <matplotlib.axes._subplots.AxesSubplot object at 0x00000000153A6EC8>,\n",
       "        <matplotlib.axes._subplots.AxesSubplot object at 0x00000000153E1B88>],\n",
       "       [<matplotlib.axes._subplots.AxesSubplot object at 0x00000000153EB788>,\n",
       "        <matplotlib.axes._subplots.AxesSubplot object at 0x0000000015425948>,\n",
       "        <matplotlib.axes._subplots.AxesSubplot object at 0x000000001548AEC8>,\n",
       "        <matplotlib.axes._subplots.AxesSubplot object at 0x0000000015663F48>],\n",
       "       [<matplotlib.axes._subplots.AxesSubplot object at 0x00000000156A1088>,\n",
       "        <matplotlib.axes._subplots.AxesSubplot object at 0x00000000156DA1C8>,\n",
       "        <matplotlib.axes._subplots.AxesSubplot object at 0x00000000157132C8>,\n",
       "        <matplotlib.axes._subplots.AxesSubplot object at 0x000000001574A3C8>]],\n",
       "      dtype=object)"
      ]
     },
     "execution_count": 143,
     "metadata": {},
     "output_type": "execute_result"
    },
    {
     "data": {
      "image/png": "[encoded data removed]",
      "text/plain": [
       "<Figure size 720x720 with 16 Axes>"
      ]
     },
     "metadata": {
      "needs_background": "light"
     },
     "output_type": "display_data"
    }
   ],
   "source": [
    "iris_df = pd.DataFrame(X_train, columns=iris.feature_names)\n",
    "\n",
    "# 판다스 객체에서 사용하는것이라 dataframe 형태로 넘겨주기 \n",
    "pd.plotting.scatter_matrix(iris_df, figsize=(10, 10), marker=\"o\", c=y_train, s=60, alpha=.8, \\\n",
    "                          cmap=mglearn.cm3, hist_kwds={\"bins\":20}) # c=y_train : 품종별로 색 다르게 하기 / cmap : 색상 뚜렷이\n",
    "\n",
    "# sepal length + sepal width 세 품종 분류 하기 힘듦\n",
    "# petal width + petal length 세 품종을 가장 잘 분류해줌\n",
    "# 어떤 특성이 가장 큰 영향을 주는지 알아보자\n"
   ]
  },
  {
   "cell_type": "code",
   "execution_count": 153,
   "metadata": {},
   "outputs": [
    {
     "data": {
      "text/plain": [
       "(112, 4)"
      ]
     },
     "execution_count": 153,
     "metadata": {},
     "output_type": "execute_result"
    }
   ],
   "source": [
    "# KNN 분류 알고리즘 : 가장 가까운 이웃으로 분류하는 방법\n",
    "\n",
    "knn = KNeighborsClassifier(n_neighbors=3)\n",
    "knn.fit(X_train, y_train) # X, y 같이 넣어서 훈련시키자...\n",
    "X_train.shape # 2 차원으로 맞춰주기 "
   ]
  },
  {
   "cell_type": "code",
   "execution_count": 152,
   "metadata": {},
   "outputs": [
    {
     "name": "stdout",
     "output_type": "stream",
     "text": [
      "정확도 : 0.9736842105263158\n",
      "정확도 : 0.9736842105263158\n"
     ]
    }
   ],
   "source": [
    "# 예측\n",
    "pred = knn.predict(X_test) # 예측이니까 y는 주지 않고 X_test만 주기 \n",
    "pred \n",
    "\n",
    "# 정확도 확인\n",
    "print(\"정확도 :\", knn.score(X_test, y_test)) # 97% 의 높은 정확도를 보여줌 # 거리 측정만으로도 좋은 성적을 낼수있넹....ㅎ\n",
    "print(\"정확도 :\", np.mean(pred == y_test)) # 위에 꺼랑 같은 의미임.."
   ]
  },
  {
   "cell_type": "code",
   "execution_count": 157,
   "metadata": {},
   "outputs": [
    {
     "name": "stdout",
     "output_type": "stream",
     "text": [
      "['setosa']\n"
     ]
    }
   ],
   "source": [
    "# 꽃받침(Sepal)의 길이가 5cm, 폭 2.9cm, 꽃잎(Petal)의 길이 1cm, 폭 0.2cm 인 붓꽃의 품종은?\n",
    "\n",
    "x_new = np.array([[5, 2.9, 1, 0.2]]) # X_train 이 2차원 배열이므로 [[]]\n",
    "pred = knn.predict(x_new)\n",
    "pred # 0 번째에 있다고 알려줌\n",
    "print(iris.target_names[pred]) # 이런 특징을 갖는 품종은 setosa 라고 알려줌. 아까 97%의 정확도를 보여줬으니 맞을 것이다....."
   ]
  },
  {
   "cell_type": "code",
   "execution_count": null,
   "metadata": {},
   "outputs": [],
   "source": []
  },
  {
   "cell_type": "code",
   "execution_count": null,
   "metadata": {},
   "outputs": [],
   "source": []
  },
  {
   "cell_type": "markdown",
   "metadata": {},
   "source": [
    "### 영화 분류 프로그램 만들기\n",
    "knn.pdf 참고 / \n",
    "데이터의 kick count와 kiss count를 통해 영화가 Action인지 Romantic인지 예측하기 "
   ]
  },
  {
   "cell_type": "code",
   "execution_count": 210,
   "metadata": {},
   "outputs": [],
   "source": [
    "# dict를 sort해주기 위해 불러오기\n",
    "import operator\n",
    "\n",
    "# 데이터 준비해주는 함수 만들기\n",
    "def createDataSet():\n",
    "    group = np.array([[1.0, 2.0], [1.0, 4.0], [4.0, 2.0], [4.0, 2.0]]) # [x좌표, y좌표]\n",
    "    label = [\"Action\", \"Action\", \"Romance\", \"Romance\"]\n",
    "    return group, label    \n",
    "\n",
    "# L2 norm 방식으로 거리 계산하는 함수\n",
    "def calcDistance(x_new, data):\n",
    "    # 데이터 개수 \n",
    "    datasize = data.shape[0] # X.shape (4, 2) 2차원 배열\n",
    "    diffMat = np.tile(x_new, (datasize, 1)) - data # 현재 x_new 데이터를 4행 2열로 반복 해주겠다 # 2차원 배열을 이용한 거리의 차이 \n",
    "    \n",
    "    # L2 norm 공식 적용(피타고라스 정리)\n",
    "    sqDiffMat = diffMat**2 # 제곱\n",
    "    sqDistance = sqDiffMat.sum(axis=1) # 행기준\n",
    "    distance = sqDistance**0.5 \n",
    "    \n",
    "    sortedDistance = distance.argsort() # 인덱스 위치 알려주는..\n",
    "    return sortedDistance\n",
    "    \n",
    "# 다수결에 따라 결과 선출하기 위한 최종목표 함수 \n",
    "def findMajorityClass(x_new, target, k, sortedDistance):\n",
    "    classCount = {} # 키와 값을 각각의 클래스와 개수로 나타낼 변수 준비 # {\"Action\":0, ,,,}  등의 형태로.. \n",
    "    \n",
    "    # 이웃의 개수만큼 반복 돌리기\n",
    "    for i in range(k):\n",
    "        votelabel = target[sortedDistance[i]]\n",
    "        \n",
    "        # Action의 값 2, Romance 값 1 로 나오도록 하기\n",
    "        classCount[votelabel] = classCount.get(votelabel, 0) + 1 # get : 키값 뽑아오기, 값이 없을경우 0으로 대체 # 왜 +1....???ㅎㅎㅎ\n",
    "                \n",
    "        # sorted 이용하여 dict에 해당하는 변수명 넣어주기 \n",
    "        return sorted(classCount.items(), key=operator.itemgetter(1), reverse=True) \n",
    "        \n",
    "# 분류 함수 \n",
    "def classify(x_new, data, target, k):\n",
    "    sortedDistance = calcDistance(x_new, data) # 새로운 데이터와 기존 데이터와의 거리 계산하기 # [0, 1, 3, 2]\n",
    "    sortedDistanceCount = findMajorityClass(x_new, target, k, sortedDistance) # 다수결의 원칙에 의해 어느 그룹인지 선택할수있음\n",
    "    \n",
    "    return sortedDistanceCount"
   ]
  },
  {
   "cell_type": "code",
   "execution_count": null,
   "metadata": {},
   "outputs": [],
   "source": [
    "##### 은주언니꺼!!!!\n",
    "def creatDataSet():\n",
    "    group = np.array([[1.0, 2.0], [1.0, 4.0] , [4.0, 1.0], [4.0, 2.0]]) # 앞 두개는 액션 / 뒤 두개는 로맨스로 분류\n",
    "    label = [\"Action\", \"Action\", \"Romance\", \"Romance\"]\n",
    "    return group, label\n",
    "\n",
    "\n",
    "# 거리계산 함수\n",
    "def calcDistance(x_new, data):\n",
    "    # 데이터 갯수\n",
    "    dataSize = data.shape[0]\n",
    "    diffMat = np.tile(x_new, (dataSize, 1)) - data # x_new를 4행(dataSize) 1열로 찍고 - data\n",
    "    \n",
    "    # L2 norm 공식 적용\n",
    "    sqDiffMat = diffMat**2 # 제곱\n",
    "    sqDistance = sqDiffMat.sum(axis=1) # 2차원 배열이기 때문에 행 기준으로 합계\n",
    "    distance = sqDistance**0.5 # 제곱근\n",
    "    print(distance)\n",
    "    \n",
    "    # 정렬을 시켜줄건데...\n",
    "    sortedDistance = distance.argsort()\n",
    "    return sortedDistance    \n",
    "\n",
    "\n",
    "# 다수결에 해서 어느 그룹인지 선택하는 함수\n",
    "def findMajorityClass(x_new, target, k, sortedDistance):\n",
    "    classCount = {}\n",
    "    \n",
    "    # 이웃의 갯수만큼 반복\n",
    "    for i in range(k):\n",
    "        voteLabel = target[sortedDistance[i]]\n",
    "#         print(\"voteLabel\", voteLabel)\n",
    "#         print(\"이게 뭔데1\", classCount.get(voteLabel, 0))\n",
    "        classCount[voteLabel] = classCount.get(voteLabel, 0) + 1\n",
    "#         print(\"이게 뭔데2\", classCount.get(voteLabel, 0))\n",
    "#         print(classCount)\n",
    "        \n",
    "    return sorted(classCount.items(), key=operator.itemgetter(1), reverse=True)\n",
    "\n",
    "\n",
    "def classify(x_new, data, target, k): # 새로 입력될 데이터, 실제영화데이터, 정답, 이웃의 갯수\n",
    "    # 거리 결과값 받을 변수\n",
    "    sortedDistance = calcDistance(x_new, data) # [0 1 3 2] → 거리 계산한 결과값을 돌려받쥬\n",
    "    # 다수결에 해서 어느 그룹인지 선택할 수 있도록\n",
    "    sortedDistanceCount = findMajorityClass(x_new, target, k, sortedDistance)\n",
    "    \n",
    "    return sortedDistanceCount"
   ]
  },
  {
   "cell_type": "code",
   "execution_count": 212,
   "metadata": {},
   "outputs": [
    {
     "name": "stdout",
     "output_type": "stream",
     "text": [
      "결과는 Action 영화다\n"
     ]
    }
   ],
   "source": [
    "# 함수 대입 \n",
    "X, y = createDataSet()\n",
    "\n",
    "# 이 x, y 좌표를 갖는 것은 어떤 영화인가?\n",
    "result = classify([2.0, 3.0], X, y, 3) # x_new, data, target, k # X 값에서 거리가 얼마나 차이 나느냐에 따라 영화 분류해줌 \n",
    "print(\"결과는 {} 영화다\".format(result[0][0]))\n"
   ]
  },
  {
   "cell_type": "code",
   "execution_count": 178,
   "metadata": {},
   "outputs": [
    {
     "data": {
      "text/plain": [
       "array([[0, 1, 0, 1, 0, 1],\n",
       "       [2, 3, 2, 3, 2, 3],\n",
       "       [0, 1, 0, 1, 0, 1],\n",
       "       [2, 3, 2, 3, 2, 3]])"
      ]
     },
     "execution_count": 178,
     "metadata": {},
     "output_type": "execute_result"
    }
   ],
   "source": [
    "# tile\n",
    "\n",
    "A = 1   # 스칼라\n",
    "B = np.array([0, 1])   # 1차원 배열\n",
    "C = np.array([[0, 1], [2, 3]])   # 2차원 배열\n",
    "\n",
    "np.tile(A, 3) # 하나의 값이 타일을 붙이듯이 3번 반복해준다\n",
    "np.tile(B, 3) # 1차원 배열 3번 반복\n",
    "np.tile(C, 3) # 각각 3번 반복\n",
    "\n",
    "np.tile(A, (2, 3)) # A의 값으로 2행 3열의 형태 만듦\n",
    "np.tile(B, (2, 3))\n",
    "np.tile(C, (2, 3))"
   ]
  },
  {
   "cell_type": "code",
   "execution_count": 201,
   "metadata": {},
   "outputs": [
    {
     "data": {
      "text/plain": [
       "[(0, 0), (1, 2), (2, 1), (3, 4), (4, 3)]"
      ]
     },
     "execution_count": 201,
     "metadata": {},
     "output_type": "execute_result"
    }
   ],
   "source": [
    "# dict를 정렬 (리스트나 튜플로 바꿔서 정렬하기) (dict자체에는 정렬기능이 없으므로 operator를 사용해줘야함)\n",
    "import operator\n",
    "\n",
    "x = {\"1\":2, \"3\":4, \"4\":3, \"2\":1, \"0\":0} # 값으로 sort 할것인지 key로 sort 할것인지 정하기 \n",
    "\n",
    "# 값으로 sort\n",
    "sorted(x.items(), key=operator.itemgetter(1))\n",
    "\n",
    "# 키로 sort\n",
    "x = {1:2, 3:4, 4:3, 2:1, 0:0}\n",
    "sorted(x.items(), key=operator.itemgetter(0)) # operator를 이용하여 dict를 sort 하면 된다 "
   ]
  },
  {
   "cell_type": "code",
   "execution_count": null,
   "metadata": {},
   "outputs": [],
   "source": []
  },
  {
   "cell_type": "code",
   "execution_count": null,
   "metadata": {},
   "outputs": [],
   "source": []
  },
  {
   "cell_type": "code",
   "execution_count": null,
   "metadata": {},
   "outputs": [],
   "source": []
  },
  {
   "cell_type": "code",
   "execution_count": null,
   "metadata": {},
   "outputs": [],
   "source": []
  },
  {
   "cell_type": "code",
   "execution_count": null,
   "metadata": {},
   "outputs": [],
   "source": []
  },
  {
   "cell_type": "code",
   "execution_count": null,
   "metadata": {},
   "outputs": [],
   "source": []
  },
  {
   "cell_type": "code",
   "execution_count": null,
   "metadata": {},
   "outputs": [],
   "source": []
  }
 ],
 "metadata": {
  "kernelspec": {
   "display_name": "Python 3",
   "language": "python",
   "name": "python3"
  },
  "language_info": {
   "codemirror_mode": {
    "name": "ipython",
    "version": 3
   },
   "file_extension": ".py",
   "mimetype": "text/x-python",
   "name": "python",
   "nbconvert_exporter": "python",
   "pygments_lexer": "ipython3",
   "version": "3.7.4"
  }
 },
 "nbformat": 4,
 "nbformat_minor": 2
}

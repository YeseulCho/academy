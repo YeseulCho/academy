{
 "cells": [
  {
   "cell_type": "code",
   "execution_count": 1,
   "metadata": {},
   "outputs": [],
   "source": [
    "import tensorflow as tf\n",
    "import numpy as np\n",
    "import pandas as pd\n",
    "import matplotlib.pylab as plt\n",
    "import sys"
   ]
  },
  {
   "cell_type": "code",
   "execution_count": 6,
   "metadata": {},
   "outputs": [
    {
     "data": {
      "text/plain": [
       "<matplotlib.image.AxesImage at 0x1ea001f4ac8>"
      ]
     },
     "execution_count": 6,
     "metadata": {},
     "output_type": "execute_result"
    },
    {
     "data": {
      "image/png": "[encoded data removed]",
      "text/plain": [
       "<Figure size 432x288 with 1 Axes>"
      ]
     },
     "metadata": {
      "needs_background": "light"
     },
     "output_type": "display_data"
    }
   ],
   "source": [
    "# 3*3*1 이미지 준비, 2*2*1 필터 준비\n",
    "image = np.array([[[[1], [2], [3]],\n",
    "                  [[4], [5], [6]],\n",
    "                  [[7], [8], [9]]]], dtype=np.float32)\n",
    "\n",
    "image.shape\n",
    "plt.imshow(image.reshape(3, 3), cmap=\"Greys\") # 숫자를 받아들여서 바로 이미지화 시켜줌 # BUT 이미지 2차원으로 넘겨줘야함\n",
    "\n",
    "\"\"\"\n",
    "아래 그래프의 정사각형 하나당 \n",
    "    1  2  3\n",
    "    4  5  6\n",
    "    7  8  9     의 값이 들어가있음 \n",
    "\n",
    "여기서 2*2 필터의 가중치값이 1이라면 '1*1 + 1*2 + 1*4 + 1*5 ' 로 계산\n",
    "\"\"\""
   ]
  },
  {
   "cell_type": "code",
   "execution_count": 14,
   "metadata": {},
   "outputs": [
    {
     "name": "stdout",
     "output_type": "stream",
     "text": [
      "shape: (1, 2, 2, 1)\n",
      "축의 방향을 바꿈: [[[[12.]\n",
      "   [16.]]\n",
      "\n",
      "  [[24.]\n",
      "   [28.]]]]\n",
      "차원 변경: [[12. 16.]\n",
      " [24. 28.]]\n"
     ]
    },
    {
     "data": {
      "image/png": "[encoded data removed]",
      "text/plain": [
       "<Figure size 432x288 with 1 Axes>"
      ]
     },
     "metadata": {
      "needs_background": "light"
     },
     "output_type": "display_data"
    }
   ],
   "source": [
    "## padding 없이 convolution layer 추출\n",
    "\n",
    "# filter 만들기\n",
    "filter = tf.constant([[[[1.]], [[1.]]],\n",
    "                     [[[1.]], [[1.]]]])\n",
    "filter.shape\n",
    "\n",
    "\n",
    "# CNN \n",
    "conv2d = tf.nn.conv2d(image, filter, strides=[1, 1, 1, 1], padding=\"VALID\")\n",
    "# 원본이미지, filter, stride(가로세로 한칸씩 이동한다) 가운데 두값이 실제값 양옆은 항상1\n",
    "#  padding=\"VALID\" : padding 없이\n",
    "\n",
    "\n",
    "# 세션 만들어주기\n",
    "sess = tf.Session()\n",
    "conv2d_img = sess.run(conv2d)\n",
    "\n",
    "\n",
    "# shape 확인\n",
    "print(\"shape:\", conv2d_img.shape) # 원본 이미지에 filter로 특징을 뽑아낸 이미지는 2*2 의 결과로 나타남\n",
    "\n",
    "\n",
    "# 특징 뽑아내기\n",
    "conv2d_img = np.swapaxes(conv2d_img, 0, 3)\n",
    "print(\"축의 방향을 바꿈:\", conv2d_img)\n",
    "\n",
    "for i, one_img in enumerate(conv2d_img):\n",
    "    print(\"차원 변경:\", one_img.reshape(2, 2))\n",
    "    plt.subplot(1, 2, i+1)\n",
    "    plt.imshow(one_img.reshape(2,2), cmap=\"Greys\") # 차원 변경한 값의 형태로 그래프에 나타남\n",
    "    \n",
    "sess.close()"
   ]
  },
  {
   "cell_type": "code",
   "execution_count": 15,
   "metadata": {},
   "outputs": [
    {
     "name": "stdout",
     "output_type": "stream",
     "text": [
      "shape: (1, 3, 3, 1)\n",
      "축의 방향을 바꿈: [[[[12.]\n",
      "   [16.]\n",
      "   [ 9.]]\n",
      "\n",
      "  [[24.]\n",
      "   [28.]\n",
      "   [15.]]\n",
      "\n",
      "  [[15.]\n",
      "   [17.]\n",
      "   [ 9.]]]]\n",
      "차원 변경: [[12. 16.  9.]\n",
      " [24. 28. 15.]\n",
      " [15. 17.  9.]]\n"
     ]
    },
    {
     "data": {
      "image/png": "[encoded data removed]",
      "text/plain": [
       "<Figure size 432x288 with 1 Axes>"
      ]
     },
     "metadata": {
      "needs_background": "light"
     },
     "output_type": "display_data"
    }
   ],
   "source": [
    "## padding을 이용한 convolution layer 추출\n",
    "\n",
    "# filter 만들기\n",
    "filter = tf.constant([[[[1.]], [[1.]]],\n",
    "                     [[[1.]], [[1.]]]])\n",
    "filter.shape\n",
    "\n",
    "\n",
    "# CNN \n",
    "conv2d = tf.nn.conv2d(image, filter, strides=[1, 1, 1, 1], padding=\"SAME\")\n",
    "# padding=\"SAME\" : 원본과 똑같은 크기로 패딩을 추가해주겠다\n",
    "\"\"\"\n",
    "    0  0  0  0  0\n",
    "    0  1  2  3  0\n",
    "    0  4  5  6  0\n",
    "    0  7  8  9  0   으로 padding 채운 후 \n",
    "    0  0  0  0  0\n",
    "\n",
    "filter(2*2)는 padding으로 채운 부분까지 계산하여 convolution layer 추출한다\n",
    "\"\"\"\n",
    "\n",
    "\n",
    "# 세션 만들어주기\n",
    "sess = tf.Session()\n",
    "conv2d_img = sess.run(conv2d)\n",
    "\n",
    "\n",
    "# shape 확인\n",
    "print(\"shape:\", conv2d_img.shape) # 원본 이미지에 filter로 특징을 뽑아낸 이미지는 2*2 의 결과로 나타남\n",
    "\n",
    "\n",
    "# 특징 뽑아내기\n",
    "conv2d_img = np.swapaxes(conv2d_img, 0, 3)\n",
    "print(\"축의 방향을 바꿈:\", conv2d_img)\n",
    "\n",
    "for i, one_img in enumerate(conv2d_img):\n",
    "    print(\"차원 변경:\", one_img.reshape(3, 3))\n",
    "    plt.subplot(1, 2, i+1)\n",
    "    plt.imshow(one_img.reshape(3,3), cmap=\"Greys\") # 차원 변경한 값의 형태로 그래프에 나타남\n",
    "    \n",
    "sess.close()"
   ]
  },
  {
   "cell_type": "code",
   "execution_count": 16,
   "metadata": {},
   "outputs": [
    {
     "name": "stdout",
     "output_type": "stream",
     "text": [
      "shape: (1, 3, 3, 3)\n",
      "축의 방향을 바꿈: [[[[ 12.]\n",
      "   [ 16.]\n",
      "   [  9.]]\n",
      "\n",
      "  [[ 24.]\n",
      "   [ 28.]\n",
      "   [ 15.]]\n",
      "\n",
      "  [[ 15.]\n",
      "   [ 17.]\n",
      "   [  9.]]]\n",
      "\n",
      "\n",
      " [[[120.]\n",
      "   [160.]\n",
      "   [ 90.]]\n",
      "\n",
      "  [[240.]\n",
      "   [280.]\n",
      "   [150.]]\n",
      "\n",
      "  [[150.]\n",
      "   [170.]\n",
      "   [ 90.]]]\n",
      "\n",
      "\n",
      " [[[-12.]\n",
      "   [-16.]\n",
      "   [ -9.]]\n",
      "\n",
      "  [[-24.]\n",
      "   [-28.]\n",
      "   [-15.]]\n",
      "\n",
      "  [[-15.]\n",
      "   [-17.]\n",
      "   [ -9.]]]]\n",
      "차원 변경: [[12. 16.  9.]\n",
      " [24. 28. 15.]\n",
      " [15. 17.  9.]]\n",
      "차원 변경: [[120. 160.  90.]\n",
      " [240. 280. 150.]\n",
      " [150. 170.  90.]]\n",
      "차원 변경: [[-12. -16.  -9.]\n",
      " [-24. -28. -15.]\n",
      " [-15. -17.  -9.]]\n"
     ]
    },
    {
     "data": {
      "image/png": "[encoded data removed]",
      "text/plain": [
       "<Figure size 432x288 with 3 Axes>"
      ]
     },
     "metadata": {
      "needs_background": "light"
     },
     "output_type": "display_data"
    }
   ],
   "source": [
    "## 3개의 필터 사용(2*2*1*3)\n",
    "\n",
    "# filter 만들기\n",
    "filter = tf.constant([[[[1., 10, -1]], [[1., 10, -1]]],\n",
    "                     [[[1., 10, -1]], [[1., 10, -1]]]])\n",
    "filter.shape\n",
    "\n",
    "\n",
    "# CNN \n",
    "conv2d = tf.nn.conv2d(image, filter, strides=[1, 1, 1, 1], padding=\"SAME\")\n",
    "# padding=\"SAME\" : 원본과 똑같은 크기로 패딩을 추가해주겠다\n",
    "\"\"\"\n",
    "    0  0  0  0  0\n",
    "    0  1  2  3  0\n",
    "    0  4  5  6  0\n",
    "    0  7  8  9  0   으로 padding 채운 후  \n",
    "    0  0  0  0  0\n",
    "\n",
    "filter(2*2)는 padding으로 채운 부분까지 계산하여 convolution layer 추출한다\n",
    "\"\"\"\n",
    "\n",
    "\n",
    "\n",
    "# 세션 만들어주기\n",
    "sess = tf.Session()\n",
    "conv2d_img = sess.run(conv2d)\n",
    "\n",
    "\n",
    "# shape 확인\n",
    "print(\"shape:\", conv2d_img.shape) # 원본 이미지에 filter로 특징을 뽑아낸 이미지는 2*2 의 결과로 나타남\n",
    "\n",
    "\n",
    "# 특징 뽑아내기\n",
    "conv2d_img = np.swapaxes(conv2d_img, 0, 3)\n",
    "print(\"축의 방향을 바꿈:\", conv2d_img)\n",
    "\n",
    "for i, one_img in enumerate(conv2d_img):\n",
    "    print(\"차원 변경:\", one_img.reshape(3, 3))\n",
    "    plt.subplot(1, 3, i+1)\n",
    "    plt.imshow(one_img.reshape(3,3), cmap=\"Greys\") # 차원 변경한 값의 형태로 그래프에 나타남\n",
    "    \n",
    "sess.close()\n",
    "\n",
    "# 각각의 영역을 filter를 이용해서 추출해내기\n",
    "#  따로따로 읽어들여서 나중에 한장의 이미지로 나타냄\n"
   ]
  },
  {
   "cell_type": "code",
   "execution_count": 20,
   "metadata": {},
   "outputs": [
    {
     "name": "stdout",
     "output_type": "stream",
     "text": [
      "(1, 1, 1, 1)\n",
      "[[[[4]]]]\n"
     ]
    }
   ],
   "source": [
    "## MaxPooling(2*2)\n",
    "\n",
    "# filter 만들기\n",
    "\n",
    "image2 = tf.constant([[[[4], [3]],\n",
    "                      [[2], [1]]]])\n",
    "\n",
    "# 최대값이 어떻게 추출되는지 알아보기\n",
    "pool = tf.nn.max_pool(image2, ksize=[1, 2, 2, 1], strides=[1, 1, 1, 1], padding=\"VALID\") # 2*2짜리의 커널 크기 지정\n",
    "\n",
    "# 세션\n",
    "sess = tf.Session()\n",
    "\n",
    "# 결과값\n",
    "p = sess.run(pool)\n",
    "print(p.shape)\n",
    "print(p) # 1*1 이미지로 추출됨 # 가중치 값이 따로 필요없음 # 필터를 덮어놓은 위치에서 가장 큰값을 골라내면 됨 \n",
    "\n",
    "sess.close()"
   ]
  },
  {
   "cell_type": "code",
   "execution_count": null,
   "metadata": {},
   "outputs": [],
   "source": []
  },
  {
   "cell_type": "code",
   "execution_count": null,
   "metadata": {},
   "outputs": [],
   "source": []
  },
  {
   "cell_type": "markdown",
   "metadata": {},
   "source": [
    "## MNIST를 이용한 CNN\n",
    "Lab11-CNN.pdf 슬라이드 참고"
   ]
  },
  {
   "cell_type": "code",
   "execution_count": 2,
   "metadata": {
    "collapsed": true
   },
   "outputs": [
    {
     "name": "stdout",
     "output_type": "stream",
     "text": [
      "WARNING:tensorflow:From <ipython-input-2-56b35f4548e8>:3: read_data_sets (from tensorflow.contrib.learn.python.learn.datasets.mnist) is deprecated and will be removed in a future version.\n",
      "Instructions for updating:\n",
      "Please use alternatives such as official/mnist/dataset.py from tensorflow/models.\n",
      "WARNING:tensorflow:From C:\\Users\\acorn\\AppData\\Local\\Continuum\\anaconda3\\envs\\tf1\\lib\\site-packages\\tensorflow_core\\contrib\\learn\\python\\learn\\datasets\\mnist.py:260: maybe_download (from tensorflow.contrib.learn.python.learn.datasets.base) is deprecated and will be removed in a future version.\n",
      "Instructions for updating:\n",
      "Please write your own downloading logic.\n",
      "WARNING:tensorflow:From C:\\Users\\acorn\\AppData\\Local\\Continuum\\anaconda3\\envs\\tf1\\lib\\site-packages\\tensorflow_core\\contrib\\learn\\python\\learn\\datasets\\mnist.py:262: extract_images (from tensorflow.contrib.learn.python.learn.datasets.mnist) is deprecated and will be removed in a future version.\n",
      "Instructions for updating:\n",
      "Please use tf.data to implement this functionality.\n",
      "Extracting data/MNIST_data/train-images-idx3-ubyte.gz\n",
      "WARNING:tensorflow:From C:\\Users\\acorn\\AppData\\Local\\Continuum\\anaconda3\\envs\\tf1\\lib\\site-packages\\tensorflow_core\\contrib\\learn\\python\\learn\\datasets\\mnist.py:267: extract_labels (from tensorflow.contrib.learn.python.learn.datasets.mnist) is deprecated and will be removed in a future version.\n",
      "Instructions for updating:\n",
      "Please use tf.data to implement this functionality.\n",
      "Extracting data/MNIST_data/train-labels-idx1-ubyte.gz\n",
      "WARNING:tensorflow:From C:\\Users\\acorn\\AppData\\Local\\Continuum\\anaconda3\\envs\\tf1\\lib\\site-packages\\tensorflow_core\\contrib\\learn\\python\\learn\\datasets\\mnist.py:110: dense_to_one_hot (from tensorflow.contrib.learn.python.learn.datasets.mnist) is deprecated and will be removed in a future version.\n",
      "Instructions for updating:\n",
      "Please use tf.one_hot on tensors.\n",
      "Extracting data/MNIST_data/t10k-images-idx3-ubyte.gz\n",
      "Extracting data/MNIST_data/t10k-labels-idx1-ubyte.gz\n",
      "WARNING:tensorflow:From C:\\Users\\acorn\\AppData\\Local\\Continuum\\anaconda3\\envs\\tf1\\lib\\site-packages\\tensorflow_core\\contrib\\learn\\python\\learn\\datasets\\mnist.py:290: DataSet.__init__ (from tensorflow.contrib.learn.python.learn.datasets.mnist) is deprecated and will be removed in a future version.\n",
      "Instructions for updating:\n",
      "Please use alternatives such as official/mnist/dataset.py from tensorflow/models.\n"
     ]
    }
   ],
   "source": [
    "# 데이터 준비\n",
    "from tensorflow.examples.tutorials.mnist import input_data\n",
    "mnist = input_data.read_data_sets(\"data/MNIST_data/\", one_hot=True)"
   ]
  },
  {
   "cell_type": "code",
   "execution_count": 3,
   "metadata": {},
   "outputs": [
    {
     "data": {
      "text/plain": [
       "<matplotlib.image.AxesImage at 0x270a4a74208>"
      ]
     },
     "execution_count": 3,
     "metadata": {},
     "output_type": "execute_result"
    },
    {
     "data": {
      "image/png": "[encoded data removed]",
      "text/plain": [
       "<Figure size 432x288 with 1 Axes>"
      ]
     },
     "metadata": {
      "needs_background": "light"
     },
     "output_type": "display_data"
    }
   ],
   "source": [
    "# 데이터 확인\n",
    "img = mnist.train.images[0] # 첫번째 이미지 뽑아오기\n",
    "img.shape # 한장불러오면 일차원배열\n",
    "\n",
    "plt.imshow(img.reshape(28, 28), cmap=\"gray\")"
   ]
  },
  {
   "cell_type": "code",
   "execution_count": 4,
   "metadata": {},
   "outputs": [],
   "source": [
    "# 입력값 준비\n",
    "X = tf.placeholder(tf.float32, shape=[None, 28*28])\n",
    "y = tf.placeholder(tf.float32, shape=[None, 10])"
   ]
  },
  {
   "cell_type": "code",
   "execution_count": 5,
   "metadata": {},
   "outputs": [],
   "source": [
    "# 첫 번째 Convolution Layer 준비\n",
    "# 필터 : 크기 3*3, 개수 32, 색상수 1\n",
    "\n",
    "X_img = tf.reshape(X, [-1, 28, 28, 1])\n",
    "    # [-1, 28, 28, 1] : 사용할 개수, -1이면 개수 상관 없다는 뜻 / 가로 / 세로 / 색상수-> 4차원으로 맞춰줘야함\n",
    "W1 = tf.Variable(tf.random_normal([3, 3, 1, 32], stddev=0.01))\n",
    "    # [3, 3, 1, 32] : 가로 / 세로 / 색상수 / 개수 # stddev=0.01 : 랜덤값의 범위 표준편차 범위 안에서 뽑아짐    \n",
    "\n",
    "# 한번만 실행하도록 shell 따로 만들어서 준비하기"
   ]
  },
  {
   "cell_type": "code",
   "execution_count": 6,
   "metadata": {},
   "outputs": [
    {
     "name": "stdout",
     "output_type": "stream",
     "text": [
      "Tensor(\"Conv2D:0\", shape=(?, 28, 28, 32), dtype=float32)\n",
      "Tensor(\"Relu:0\", shape=(?, 28, 28, 32), dtype=float32)\n",
      "Tensor(\"MaxPool:0\", shape=(?, 14, 14, 32), dtype=float32)\n"
     ]
    }
   ],
   "source": [
    "# Convolutional layer1(가중치 연산해서 뽑아냄)\n",
    "L1 = tf.nn.conv2d(X_img, W1, strides=[1, 1, 1, 1], padding=\"SAME\")\n",
    "print(L1) # convolutional layer 로 뽑았을때결과에 대한 크기 \n",
    "\n",
    "# MAX Pooling 넣기전에 relu 에 통과시켜보기\n",
    "L1 = tf.nn.relu(L1)\n",
    "print(L1) # 분류값 알아내기\n",
    "\n",
    "# Pooling layer1(큰 값 뽑아내기 때문에 따로 가중치값 뽑아낼 필요 없음)\n",
    "L1 = tf.nn.max_pool(L1, ksize=[1, 2, 2, 1], strides=[1, 2, 2, 1], padding=\"SAME\")\n",
    "    # 입력할 이미지 / 필터 크기(가운데 있는 두개의 값이 실제값) / strides 몇칸씩 움직일것인지, 2칸씩 움직이게되면 좀 줄어들것 / padding 할거다\n",
    "print(L1) # 14*14 이미지가 주어짐"
   ]
  },
  {
   "cell_type": "code",
   "execution_count": 7,
   "metadata": {},
   "outputs": [],
   "source": [
    "# 두 번째 Convolution Layer 준비 - 특징 또 뽑기 / 중요한 특징을 더 뽑아내기\n",
    "# 필터 : 크기 3*3, 개수 64, 색상수 1\n",
    "\n",
    "# 데이터는 이미 있으니\n",
    "# 필터만 준비\n",
    "W2 = tf.Variable(tf.random_normal([3, 3, 32, 64], stddev=0.01))\n",
    "    # 1장의 이미지를 32조각(위에 maxpool결과값)으로 가져왔으니 32장으로 보기 이걸 다시 64개로 쪼개겠다"
   ]
  },
  {
   "cell_type": "code",
   "execution_count": 8,
   "metadata": {},
   "outputs": [
    {
     "name": "stdout",
     "output_type": "stream",
     "text": [
      "Tensor(\"Conv2D_1:0\", shape=(?, 14, 14, 64), dtype=float32)\n",
      "Tensor(\"Relu_1:0\", shape=(?, 14, 14, 64), dtype=float32)\n",
      "Tensor(\"MaxPool_1:0\", shape=(?, 7, 7, 64), dtype=float32)\n"
     ]
    }
   ],
   "source": [
    "# Convolutional layer2\n",
    "L2 = tf.nn.conv2d(L1, W2, strides=[1, 1, 1, 1], padding=\"SAME\")\n",
    "print(L2)\n",
    "\n",
    "# MAX Pooling 넣기전에 relu 에 통과시켜보기\n",
    "L2 = tf.nn.relu(L2)\n",
    "print(L2) \n",
    "\n",
    "# Pooling layer1\n",
    "L2 = tf.nn.max_pool(L2, ksize=[1, 2, 2, 1], strides=[1, 2, 2, 1], padding=\"SAME\")\n",
    "print(L2) # 7*7 이미지로가 절반으로 줄어든것을 볼수있다 # 한장의 이미지를 64개로 쪼개놓은것"
   ]
  },
  {
   "cell_type": "code",
   "execution_count": 9,
   "metadata": {},
   "outputs": [
    {
     "name": "stdout",
     "output_type": "stream",
     "text": [
      "WARNING:tensorflow:From <ipython-input-9-562308e20156>:17: softmax_cross_entropy_with_logits (from tensorflow.python.ops.nn_ops) is deprecated and will be removed in a future version.\n",
      "Instructions for updating:\n",
      "\n",
      "Future major versions of TensorFlow will allow gradients to flow\n",
      "into the labels input on backprop by default.\n",
      "\n",
      "See `tf.nn.softmax_cross_entropy_with_logits_v2`.\n",
      "\n",
      "Epoch : 0001 cost : 0.738878985\n",
      "Epoch : 0002 cost : 0.153591779\n",
      "Epoch : 0003 cost : 0.106411161\n",
      "Epoch : 0004 cost : 0.083966346\n",
      "Epoch : 0005 cost : 0.070054032\n",
      "Epoch : 0006 cost : 0.062735030\n",
      "Epoch : 0007 cost : 0.054976204\n",
      "Epoch : 0008 cost : 0.049074804\n",
      "Epoch : 0009 cost : 0.044645795\n",
      "Epoch : 0010 cost : 0.042102311\n",
      "Epoch : 0011 cost : 0.037113254\n",
      "Epoch : 0012 cost : 0.034654723\n",
      "Epoch : 0013 cost : 0.032430345\n",
      "Epoch : 0014 cost : 0.030715532\n",
      "Epoch : 0015 cost : 0.027444974\n",
      "훈련 종료\n"
     ]
    }
   ],
   "source": [
    "# Fully connected layer 작성(Dense Layer)\n",
    "learning_rate = 0.001\n",
    "training_epochs = 15\n",
    "batch_size = 500\n",
    "\n",
    "# tensor graph 작성\n",
    "#---------------------\n",
    "\n",
    "# 입력 데이터 준비\n",
    "L2 = tf.reshape(L2, [-1, 7*7*64]) # 2차원으로 바꿔주기\n",
    "\n",
    "W3 = tf.Variable(tf.random_normal([7*7*64, 10]))  # 크기 / 출력개수 10개 \n",
    "b = tf.Variable(tf.random_normal([10]))\n",
    "\n",
    "# 비율 계산\n",
    "logit = tf.matmul(L2, W3) + b\n",
    "cost = tf.reduce_mean(tf.nn.softmax_cross_entropy_with_logits(logits=logit, labels=y))\n",
    "\n",
    "# 최저 비용 구하기\n",
    "train = tf.train.AdamOptimizer(learning_rate=learning_rate).minimize(cost)\n",
    "\n",
    "# tensor graph 실행\n",
    "#-----------------------\n",
    "sess = tf.Session()\n",
    "sess.run(tf.global_variables_initializer())\n",
    "    \n",
    "for epoch in range(training_epochs):\n",
    "    fetal_batch = int(mnist.train.num_examples/batch_size)\n",
    "    avg_cost = 0\n",
    "        \n",
    "    for i in range(fetal_batch):\n",
    "        batch_xs, batch_ys = mnist.train.next_batch(batch_size)\n",
    "        _, c = sess.run([train, cost], feed_dict={X:batch_xs, y:batch_ys})\n",
    "        avg_cost += c/fetal_batch\n",
    "            \n",
    "    print(\"Epoch :\", \"%04d\"%(epoch+1), \"cost :\", \"{:.9f}\".format(avg_cost))\n",
    "    \n",
    "print(\"훈련 종료\")"
   ]
  },
  {
   "cell_type": "code",
   "execution_count": 10,
   "metadata": {},
   "outputs": [
    {
     "name": "stdout",
     "output_type": "stream",
     "text": [
      "정확도 :  0.9833\n"
     ]
    }
   ],
   "source": [
    "# 정확도 알아보기 \n",
    "\n",
    "correct_predict = tf.equal(tf.argmax(logit, 1), tf.argmax(y,1))\n",
    "accuracy = tf.reduce_mean(tf.cast(correct_predict, tf.float32))\n",
    "print(\"정확도 : \", sess.run(accuracy, feed_dict={X:mnist.test.images, y:mnist.test.labels}))\n",
    "sess.close()\n",
    "\n",
    "# 기본 성능 98%"
   ]
  },
  {
   "cell_type": "code",
   "execution_count": null,
   "metadata": {},
   "outputs": [],
   "source": []
  },
  {
   "cell_type": "code",
   "execution_count": null,
   "metadata": {},
   "outputs": [],
   "source": []
  },
  {
   "cell_type": "markdown",
   "metadata": {},
   "source": [
    "## 교통 표지판 인식\n",
    "\n",
    "http://benchmark.ini.rub.de/?section=gtsrb&subsection=dataset\n",
    "\n",
    "downloads - this link - GTSRB_Final_Test_GT.zip, GTSRB_Final_Test_Images.zip, GTSRB_Final_Training_Images.zip 3개 다운받기\n",
    "\n",
    "\n",
    "이미지(32 * 32) -> Convolution Layer1 -> Max Pooling -> Convolution Layer2 -> Max Pooling -> FC"
   ]
  },
  {
   "cell_type": "markdown",
   "metadata": {},
   "source": [
    "### 이미지 전처리"
   ]
  },
  {
   "cell_type": "code",
   "execution_count": 2,
   "metadata": {},
   "outputs": [],
   "source": [
    "# 이미지 전처리를 위한 패키지\n",
    "import glob # 파일 여러개 동시에 불러올 때\n",
    "from skimage.color import rgb2lab # rgb색상을 흑백으로 바꿔줌\n",
    "from skimage.transform import resize \n",
    "from collections import namedtuple\n",
    "\n",
    "# 랜덤값 고정\n",
    "np.random.seed(101)"
   ]
  },
  {
   "cell_type": "code",
   "execution_count": 3,
   "metadata": {},
   "outputs": [],
   "source": [
    "# 필요한 상수 정의\n",
    "N_CLASSES = 43               # 최종 출력개수\n",
    "RESIZED_IMAGE = (32, 32)     # 사이즈"
   ]
  },
  {
   "cell_type": "code",
   "execution_count": 4,
   "metadata": {},
   "outputs": [],
   "source": [
    "Dataset = namedtuple(\"Dataset\", [\"X\", \"y\"]) # namedtuple : 수정불가 / 변수 안전하게 보관 가능"
   ]
  },
  {
   "cell_type": "code",
   "execution_count": 5,
   "metadata": {},
   "outputs": [],
   "source": [
    "# 데이터 불러오기\n",
    "def to_tf_format(imgs):\n",
    "    return np.stack([img[:, :, np.newaxis] for img in imgs]).astype(np.float32) # 차원 늘려주기\n",
    "        \n",
    "## ppm형식 파일 불러오는 함수 : 쓰기좋은 형태로 전처리 다한 상태로 파일 불러오도록 함수 작성하기 \n",
    "def read_dataset_ppm(rootpath, n_labels, resize_to):\n",
    "    images = []\n",
    "    labels = []\n",
    "    \n",
    "    # 사진 파일 불러오기\n",
    "    for c in range(n_labels): # Final_Training - Images 폴더 개수 43개 이므로 n_labels = 43\n",
    "        full_path = rootpath + \"/\" + format(c, \"05d\") + \"/\"\n",
    "            # 폴더명을 어떻게 지정해주냐에 따라 파일불러오는 방식의 여부가 달라짐 # 이거는 5자리 숫자여서 불러오기 편하다~~\n",
    "        \n",
    "        # 이미지 숫자로 바꿔주기 \n",
    "        for img_name in glob.glob(full_path + \"*.ppm\") :\n",
    "            img = plt.imread(img_name).astype(np.float32)\n",
    "                # imshow( 숫자를 이미지로 ) imread(이미지를 숫자로 바꿔주는애)\n",
    "            \n",
    "            # img rgb색상에서 lab 색상으로 변환 \n",
    "            img = rgb2lab(img/255.0)[:, :, 0]\n",
    "                # rgb는 255개씩이므로 255로 나눠줌 # [:, :, 0] 3차원으로만들어주기\n",
    "            \n",
    "            # 크기 맞춰주기\n",
    "            if resize_to:\n",
    "                img = resize(img, resize_to)\n",
    "                    # resize ; 이미지 사이즈 한번에 줄여주기\n",
    "                    \n",
    "            # labeling(one-hot) : 교통표지판의 답을 뭐라고 할 것인가\n",
    "            # one hot encoding 한곳에만 값 주어주기 ex) 세번째 사진이면 0 0 1 0 0 0 0 0 0 0 .....\n",
    "            label = np.zeros((n_labels), dtype=np.float32)\n",
    "            label[c] = 1.0\n",
    "            \n",
    "            images.append(img.astype(np.float32))\n",
    "            labels.append(label)\n",
    "            \n",
    "    return Dataset(X=to_tf_format(images), y=np.matrix(labels).astype(np.float32))\n",
    "            # 위에 namedtuple로 만들어놓은거 # 미리 2차원으로 담아서 넣어두기"
   ]
  },
  {
   "cell_type": "code",
   "execution_count": 6,
   "metadata": {},
   "outputs": [],
   "source": [
    "# 데이터 보기\n",
    "dataset = read_dataset_ppm(\"data/traffic/GTSRB/Final_Training/Images\", N_CLASSES, RESIZED_IMAGE)\n",
    "    # 상위폴더(Images) 까지 지정해주면 그 안에있는 모든 폴더와 파일 가져옴\n",
    "# print(dataset.X.shape) # (39209, 32, 32, 1)  # 32*32에 색상 1 \n",
    "# print(dataset.y.shape) # (39209, 43)"
   ]
  },
  {
   "cell_type": "code",
   "execution_count": 7,
   "metadata": {},
   "outputs": [
    {
     "name": "stdout",
     "output_type": "stream",
     "text": [
      "[[1. 0. 0. 0. 0. 0. 0. 0. 0. 0. 0. 0. 0. 0. 0. 0. 0. 0. 0. 0. 0. 0. 0. 0.\n",
      "  0. 0. 0. 0. 0. 0. 0. 0. 0. 0. 0. 0. 0. 0. 0. 0. 0. 0. 0.]]\n",
      "[[0. 0. 0. 0. 0. 0. 0. 0. 0. 0. 0. 0. 0. 0. 0. 0. 0. 0. 0. 0. 0. 0. 0. 0.\n",
      "  0. 0. 0. 0. 0. 0. 0. 0. 0. 0. 0. 0. 0. 0. 0. 0. 0. 0. 1.]]\n"
     ]
    },
    {
     "data": {
      "text/plain": [
       "<matplotlib.image.AxesImage at 0x1f5573d4ac8>"
      ]
     },
     "execution_count": 7,
     "metadata": {},
     "output_type": "execute_result"
    },
    {
     "data": {
      "image/png": "[encoded data removed]",
      "text/plain": [
       "<Figure size 432x288 with 1 Axes>"
      ]
     },
     "metadata": {
      "needs_background": "light"
     },
     "output_type": "display_data"
    }
   ],
   "source": [
    "# 확인하기\n",
    "\n",
    "# one hot 레이블 확인\n",
    "## 첫번째 폴더의 첫번째 이미지\n",
    "print(dataset.y[0, :]) # 첫번째 데이터이니까 첫번째에만 1써져있고 나머지는 다 0~~~~~~~~~\n",
    "plt.imshow(dataset.X[0, :, :, :].reshape(RESIZED_IMAGE))\n",
    "\n",
    "## 마지막 폴더의 마지막 이미지\n",
    "print(dataset.y[-1, :])\n",
    "plt.imshow(dataset.X[-1, :, :, :].reshape(RESIZED_IMAGE))"
   ]
  },
  {
   "cell_type": "code",
   "execution_count": 7,
   "metadata": {},
   "outputs": [
    {
     "name": "stdout",
     "output_type": "stream",
     "text": [
      "(29406, 32, 32, 1)\n",
      "(9803, 32, 32, 1)\n",
      "(29406, 43)\n",
      "(9803, 43)\n"
     ]
    }
   ],
   "source": [
    "# 훈련용 데이터와 테스트용 데이터 분리\n",
    "from sklearn.model_selection import train_test_split\n",
    "\n",
    "idx_train, idx_test = train_test_split(range(dataset.X.shape[0]), test_size=0.25, random_state=101) \n",
    "                       # 데이터 차원이 다르므로 따로 받아옴\n",
    "                                       \n",
    "X_train = dataset.X[idx_train, :, :, :]\n",
    "X_test = dataset.X[idx_test, :, :, :]\n",
    "y_train = dataset.y[idx_train, :]\n",
    "y_test = dataset.y[idx_test, :]\n",
    "                                       \n",
    "print(X_train.shape)\n",
    "print(X_test.shape)\n",
    "print(y_train.shape)\n",
    "print(y_test.shape)"
   ]
  },
  {
   "cell_type": "markdown",
   "metadata": {},
   "source": [
    "### 모델 훈련과 예측"
   ]
  },
  {
   "cell_type": "code",
   "execution_count": 8,
   "metadata": {},
   "outputs": [],
   "source": [
    "def minibatcher(X, y, batch_size, shuffle):\n",
    "    assert X.shape[0] == y.shape[0] # (test주도 개발방식에 맞는 코드)assert : 디버깅 모드 / 릴리즈 모드일때는 작동을 안함\n",
    "    n_samples = X.shape[0]\n",
    "    \n",
    "    if shuffle:\n",
    "        idx = np.random.permutation(n_samples) # 29406개 sample을 섞어서 순서를 세워둠\n",
    "    else :\n",
    "        idx = list(range(n_samples))\n",
    "        \n",
    "    for k in range(int(np.ceil(n_samples/batch_size))):\n",
    "        from_idx = k * batch_size\n",
    "        to_idx = (k+1) * batch_size\n",
    "        yield X[idx[from_idx:to_idx], :, :, :], y[idx[from_idx:to_idx], :]        \n",
    "        # yield 일종의 스레드 기법; 안정적으로 작업이 진행되게 하게끔 하기위한 하나의 방법 \n",
    "        # (현재 데이터를 하나씩 끌어오고 있음. 이것을 좀더 안정적으로 처리 ?>?)"
   ]
  },
  {
   "cell_type": "code",
   "execution_count": 9,
   "metadata": {},
   "outputs": [
    {
     "name": "stdout",
     "output_type": "stream",
     "text": [
      "(10000, 32, 32, 1) (10000, 43)\n",
      "(10000, 32, 32, 1) (10000, 43)\n",
      "(9406, 32, 32, 1) (9406, 43)\n"
     ]
    }
   ],
   "source": [
    "for mb in minibatcher(X_train, y_train, 10000, True):# 10000개씩 끊어서 실행\n",
    "    print(mb[0].shape, mb[1].shape)"
   ]
  },
  {
   "cell_type": "markdown",
   "metadata": {},
   "source": [
    "### FC Layer"
   ]
  },
  {
   "cell_type": "code",
   "execution_count": 10,
   "metadata": {},
   "outputs": [],
   "source": [
    "def fc_no_activation_layer(in_tensors, n_units) :\n",
    "    W = tf.get_variable(\"fc_W\", [in_tensors.get_shape()[1], n_units], \n",
    "                        tf.float32, tf.contrib.layers.xavier_initializer()) # xavier 쓸거라서 get_variable사용함 \n",
    "    b = tf.get_variable(\"fc_b\", [n_units], tf.float32, tf.constant_initializer(0.0))\n",
    "    \n",
    "    return tf.matmul(in_tensors, W) + b\n",
    "\n",
    "def fc_layer(in_tensors, n_units) :\n",
    "    return tf.nn.leaky_relu(fc_no_activation_layer(in_tensors, n_units)) # leaky_relu : 최소값을 음수까지 쓸수있도록"
   ]
  },
  {
   "cell_type": "markdown",
   "metadata": {},
   "source": [
    "### Convolution Layer\n",
    "\n",
    "       convolution layer -> relu -> max pooling -> drop out"
   ]
  },
  {
   "cell_type": "code",
   "execution_count": 11,
   "metadata": {},
   "outputs": [],
   "source": [
    "def conv_layer(in_tensors, kernel_size, n_units):\n",
    "    W = tf.get_variable(\"conv_W\", [kernel_size, kernel_size, in_tensors.get_shape()[3], n_units],\n",
    "                        tf.float32, tf.contrib.layers.xavier_initializer())\n",
    "    b = tf.get_variable(\"conv_b\", [n_units], tf.float32, tf.constant_initializer(0.0))\n",
    "    return tf.nn.leaky_relu(tf.nn.conv2d(in_tensors, W, [1, 1, 1, 1], \"SAME\")) # [1, 1, 1, 1] : stride 한칸씩 이동, padding=\"SAME\"\n",
    "\n",
    "def maxpool_layer(in_tensors, sampling): # sampling : 필터사이즈\n",
    "    return tf.nn.max_pool(in_tensors, ksize=[1, sampling, sampling, 1], strides=[1, sampling, sampling, 1], padding=\"SAME\")\n",
    "#                                      필터사이즈랑 스트라이드 사이즈 똑같이 하겠다\n",
    "\n",
    "def dropout(in_tensors, keep_proba, is_training):\n",
    "    return tf.cond(is_training, lambda:tf.nn.dropout(in_tensors, keep_proba), lambda:in_tensors) \n",
    " # true면 훈련중, false면 test중 / lambda 쓰는 이유가 뭐라구용.....? 조건주는거..?\n",
    " # lambda:tf.nn.dropout(in_tensors, keep_proba) : True면 dropout 하고 몇 %만 남기고 나머지는 끊어 버려라\n",
    " # lambda:in_tensors : False면 dropout 안하고 그냥in_tensors값"
   ]
  },
  {
   "cell_type": "markdown",
   "metadata": {},
   "source": [
    "#### summary\n",
    "\n",
    "    - convolution 1st : 5*5, 32 필터\n",
    "    - convolution 2nd : 5*5, 64 필터\n",
    "    - FC(fully connected) : 1024 unit(출력개수 1024개로 연결)\n",
    "    - Dropout : 총 40% (40% 버리고 60% 훈련)(첫번째 20%, 두번째 20% 총 40%)\n",
    "    - Activation Function : Softmax"
   ]
  },
  {
   "cell_type": "code",
   "execution_count": 12,
   "metadata": {},
   "outputs": [],
   "source": [
    "# 모델 구성\n",
    "def model(in_tensors, is_training):\n",
    "    \n",
    "    # 1st conv layer : 5*5, 32 filter, 2x maxpool, 20% drop out\n",
    "    with tf.variable_scope(\"L1\"):\n",
    "        l1 = maxpool_layer(conv_layer(in_tensors, 5, 32), 2)\n",
    "         # 입력데이터, 필터크기, 출력개수(layer unit의 개수, filter 개수) # 출력값이 maxpool에게는 입력값이므로 전체 넣어주기, maxpool 개수 2\n",
    "        l1_out = dropout(l1, 0.8, is_training) \n",
    "         # 입력값, 남기는거(20% 버릴거니까 남기는건 80%), 출력값인가?ㅋㅋㅋㅋ\n",
    "    \n",
    "    \n",
    "    # 2nd conv layer : 5*5, 64 filter, 2x maxpool, 20% drop out\n",
    "    with tf.variable_scope(\"L2\"):\n",
    "        l2 = maxpool_layer(conv_layer(l1_out, 5, 64), 2)\n",
    "        l2_out = dropout(l2, 0.8, is_training)   \n",
    "    \n",
    "    \n",
    "    # 평면화(1차원으로 평면화)\n",
    "    # 전처리 끝나고 나서 FC로 넘길때 차원(4차원 안되니까 2차원으로) 풀어서 넘겨줌 \n",
    "    # FC에게 값을 부드럽게 넘겨주기 위해서 값을 1차원으로 풀어서 넘겨줌\n",
    "    # 그럼 FC 에서 개수 정할때 자연스럽게 차원하나 높여주게 됨 그래서 2차원되니까 걍 1차원으로 풀어주라고오오오오오오오옹놀오란올\n",
    "    with tf.variable_scope(\"flatten\"):\n",
    "        l2_out_flat = tf.layers.flatten(l2_out) # flatten : 다차원으로 1차원으로 펼쳐주는 함수 \n",
    "    \n",
    "    \n",
    "    # FC : 1024 neurons, 40% dropout\n",
    "    with tf.variable_scope(\"L3\"):\n",
    "        l3 = fc_layer(l2_out_flat, 1024)\n",
    "        l3_out = dropout(l3, 0.6, is_training)\n",
    "    \n",
    "    \n",
    "    # output\n",
    "    with tf.variable_scope(\"out\"):\n",
    "        out_tensors = fc_no_activation_layer(l3_out, N_CLASSES) # 최종출력개수 실제 출력의 개수(N_CLASSES) 지정해줘야함 \n",
    "        \n",
    "    return out_tensors"
   ]
  },
  {
   "cell_type": "code",
   "execution_count": 14,
   "metadata": {},
   "outputs": [],
   "source": [
    "# 실제로 사용할(최종적으로) 함수 : 얘만 호출하면 그동안 만들었던 모든 함수 실행되도록 하자 \n",
    "\n",
    "from sklearn.metrics import classification_report, confusion_matrix\n",
    "\n",
    "\n",
    "def train_model(X_train, y_train, X_test, y_test, learning_rate, max_epochs, batch_size):\n",
    "    \n",
    "    in_X_tensors_batch = tf.placeholder(tf.float32, shape=(None, RESIZED_IMAGE[0], RESIZED_IMAGE[1], 1)) \n",
    "                                                                # 크기도 되도록이면 변수로 지정하자 / shape 색상수 1\n",
    "    in_y_tensors_batch = tf.placeholder(tf.float32, shape = (None, N_CLASSES)) # N_CLASSES : 최종 가중치에 대한 결과값\n",
    "    is_training = tf.placeholder(tf.bool) # TRUE FALSE 중 하나만 들어가면 되니 bool 사용\n",
    "    \n",
    "    logit = model(in_X_tensors_batch, is_training) # model함수에서 만들은 최종결과 받아올수있음\n",
    "    out_y_pred = tf.nn.softmax(logit) # 결과에 대한 예측값\n",
    "    loss_score = tf.nn.softmax_cross_entropy_with_logits_v2(logits=logit, labels = in_y_tensors_batch)\n",
    "    loss = tf.reduce_mean(loss_score) # 비용\n",
    "    train = tf.train.AdamOptimizer(learning_rate).minimize(loss)\n",
    "    \n",
    "    sess = tf.Session()\n",
    "    sess.run(tf.global_variables_initializer())\n",
    "    \n",
    "    for epochs in range(max_epochs):\n",
    "        print(\"Epoch : \", epochs)\n",
    "        tf_score = []\n",
    "        \n",
    "        for mb in minibatcher(X_train, y_train, batch_size, True):\n",
    "            tf_output = sess.run([train, loss], feed_dict = {in_X_tensors_batch:mb[0], \n",
    "                                                 in_y_tensors_batch:mb[1],\n",
    "                                                 is_training:True}) # tf_output : 변수 하나로 쓰면 list로 값 전달되요...\n",
    "            tf_score.append(tf_output[1])\n",
    "            \n",
    "        print(\"     training_loss_score = \", np.mean(tf_score))        \n",
    "        \n",
    "    \n",
    "    # Test\n",
    "    print(\"TEST SET PERFORMANCE\")\n",
    "    y_test_pred, test_loss = sess.run([out_y_pred, loss], feed_dict = {in_X_tensors_batch:X_test, \n",
    "                                                 in_y_tensors_batch:y_test,\n",
    "                                                 is_training:False})\n",
    "    \n",
    "    print(\"test_loss_score\", test_loss)\n",
    "    y_test_pred_classified = np.argmax(y_test_pred, axis=1).astype(np.int32)\n",
    "    y_test_true_classified = np.argmax(y_test, axis=1).astype(np.int32)\n",
    "    print(classification_report(y_test_true_classified, y_test_pred_classified))\n",
    "    \n",
    "    ## \n",
    "    cm = confusion_matrix(y_test_true_classified, y_test_pred_classified)\n",
    "\n",
    "    plt.imshow(cm, interpolation=\"nearest\", cmap=plt.cm.Blues)\n",
    "    plt.colorbar()\n",
    "    plt.tight_layout()\n",
    "\n",
    "    plt.imshow(np.log2(cm+1), interpolation=\"nearest\", cmap=plt.get_cmap(\"tab20\"))\n",
    "    plt.colorbar()\n",
    "    plt.tight_layout()"
   ]
  },
  {
   "cell_type": "code",
   "execution_count": 15,
   "metadata": {},
   "outputs": [
    {
     "name": "stdout",
     "output_type": "stream",
     "text": [
      "WARNING:tensorflow:\n",
      "The TensorFlow contrib module will not be included in TensorFlow 2.0.\n",
      "For more information, please see:\n",
      "  * https://github.com/tensorflow/community/blob/master/rfcs/20180907-contrib-sunset.md\n",
      "  * https://github.com/tensorflow/addons\n",
      "  * https://github.com/tensorflow/io (for I/O related ops)\n",
      "If you depend on functionality not listed there, please file an issue.\n",
      "\n",
      "WARNING:tensorflow:From <ipython-input-11-ae615a8946bb>:12: calling dropout (from tensorflow.python.ops.nn_ops) with keep_prob is deprecated and will be removed in a future version.\n",
      "Instructions for updating:\n",
      "Please use `rate` instead of `keep_prob`. Rate should be set to `rate = 1 - keep_prob`.\n",
      "WARNING:tensorflow:From <ipython-input-12-337166932bf7>:23: flatten (from tensorflow.python.layers.core) is deprecated and will be removed in a future version.\n",
      "Instructions for updating:\n",
      "Use keras.layers.flatten instead.\n",
      "WARNING:tensorflow:From C:\\Users\\acorn\\AppData\\Local\\Continuum\\anaconda3\\envs\\tf1\\lib\\site-packages\\tensorflow_core\\python\\layers\\core.py:332: Layer.apply (from tensorflow.python.keras.engine.base_layer) is deprecated and will be removed in a future version.\n",
      "Instructions for updating:\n",
      "Please use `layer.__call__` method instead.\n",
      "Epoch :  0\n",
      "     training_loss_score =  4.52819\n",
      "Epoch :  1\n",
      "     training_loss_score =  0.7159366\n",
      "Epoch :  2\n",
      "     training_loss_score =  0.36047843\n",
      "Epoch :  3\n",
      "     training_loss_score =  0.22782047\n",
      "Epoch :  4\n",
      "     training_loss_score =  0.16415915\n",
      "Epoch :  5\n",
      "     training_loss_score =  0.12713024\n",
      "Epoch :  6\n",
      "     training_loss_score =  0.108850084\n",
      "Epoch :  7\n",
      "     training_loss_score =  0.08729171\n",
      "Epoch :  8\n",
      "     training_loss_score =  0.07975148\n",
      "Epoch :  9\n",
      "     training_loss_score =  0.071247295\n",
      "TEST SET PERFORMANCE\n",
      "test_loss_score 0.056822386\n",
      "              precision    recall  f1-score   support\n",
      "\n",
      "           0       1.00      0.94      0.97        67\n",
      "           1       0.98      0.99      0.98       539\n",
      "           2       0.97      0.99      0.98       558\n",
      "           3       0.98      0.98      0.98       364\n",
      "           4       1.00      0.99      0.99       487\n",
      "           5       0.99      0.95      0.97       479\n",
      "           6       1.00      1.00      1.00       105\n",
      "           7       0.99      0.98      0.98       364\n",
      "           8       0.99      1.00      0.99       340\n",
      "           9       1.00      1.00      1.00       384\n",
      "          10       0.99      0.99      0.99       513\n",
      "          11       1.00      0.97      0.99       334\n",
      "          12       0.99      0.99      0.99       545\n",
      "          13       0.99      0.99      0.99       537\n",
      "          14       0.99      1.00      0.99       213\n",
      "          15       0.99      0.99      0.99       164\n",
      "          16       1.00      1.00      1.00        98\n",
      "          17       1.00      1.00      1.00       281\n",
      "          18       0.98      1.00      0.99       286\n",
      "          19       0.98      1.00      0.99        56\n",
      "          20       0.99      0.95      0.97        78\n",
      "          21       0.99      0.98      0.98        95\n",
      "          22       0.99      1.00      0.99        97\n",
      "          23       0.99      0.99      0.99       123\n",
      "          24       1.00      1.00      1.00        77\n",
      "          25       0.98      0.99      0.99       401\n",
      "          26       0.97      0.99      0.98       135\n",
      "          27       0.97      1.00      0.98        60\n",
      "          28       0.99      0.99      0.99       123\n",
      "          29       0.97      1.00      0.99        69\n",
      "          30       0.98      0.97      0.98       115\n",
      "          31       0.99      0.98      0.99       178\n",
      "          32       0.98      1.00      0.99        55\n",
      "          33       0.98      0.99      0.99       177\n",
      "          34       1.00      0.99      1.00       103\n",
      "          35       1.00      1.00      1.00       277\n",
      "          36       1.00      0.99      0.99        78\n",
      "          37       0.98      0.98      0.98        63\n",
      "          38       1.00      1.00      1.00       540\n",
      "          39       1.00      1.00      1.00        60\n",
      "          40       0.98      1.00      0.99        85\n",
      "          41       1.00      1.00      1.00        47\n",
      "          42       1.00      1.00      1.00        53\n",
      "\n",
      "    accuracy                           0.99      9803\n",
      "   macro avg       0.99      0.99      0.99      9803\n",
      "weighted avg       0.99      0.99      0.99      9803\n",
      "\n"
     ]
    },
    {
     "data": {
      "image/png": "[encoded data removed]",
      "text/plain": [
       "<Figure size 432x288 with 3 Axes>"
      ]
     },
     "metadata": {
      "needs_background": "light"
     },
     "output_type": "display_data"
    }
   ],
   "source": [
    "tf.reset_default_graph()\n",
    "\n",
    "train_model(X_train, y_train, X_test, y_test, 0.001, 10, 256) \n",
    "    # learning_rate = 0.001 / epoch 데이터의 반복횟수 10 / 256개로 나누기"
   ]
  },
  {
   "cell_type": "code",
   "execution_count": null,
   "metadata": {},
   "outputs": [],
   "source": []
  },
  {
   "cell_type": "code",
   "execution_count": null,
   "metadata": {},
   "outputs": [],
   "source": []
  },
  {
   "cell_type": "code",
   "execution_count": null,
   "metadata": {},
   "outputs": [],
   "source": []
  },
  {
   "cell_type": "code",
   "execution_count": null,
   "metadata": {},
   "outputs": [],
   "source": []
  },
  {
   "cell_type": "code",
   "execution_count": null,
   "metadata": {},
   "outputs": [],
   "source": []
  },
  {
   "cell_type": "code",
   "execution_count": null,
   "metadata": {},
   "outputs": [],
   "source": []
  },
  {
   "cell_type": "code",
   "execution_count": null,
   "metadata": {},
   "outputs": [],
   "source": []
  },
  {
   "cell_type": "code",
   "execution_count": null,
   "metadata": {},
   "outputs": [],
   "source": []
  },
  {
   "cell_type": "code",
   "execution_count": null,
   "metadata": {},
   "outputs": [],
   "source": []
  },
  {
   "cell_type": "code",
   "execution_count": null,
   "metadata": {},
   "outputs": [],
   "source": []
  },
  {
   "cell_type": "code",
   "execution_count": null,
   "metadata": {},
   "outputs": [],
   "source": []
  },
  {
   "cell_type": "code",
   "execution_count": null,
   "metadata": {},
   "outputs": [],
   "source": []
  },
  {
   "cell_type": "code",
   "execution_count": null,
   "metadata": {},
   "outputs": [],
   "source": []
  },
  {
   "cell_type": "code",
   "execution_count": null,
   "metadata": {},
   "outputs": [],
   "source": []
  }
 ],
 "metadata": {
  "kernelspec": {
   "display_name": "Python 3",
   "language": "python",
   "name": "python3"
  },
  "language_info": {
   "codemirror_mode": {
    "name": "ipython",
    "version": 3
   },
   "file_extension": ".py",
   "mimetype": "text/x-python",
   "name": "python",
   "nbconvert_exporter": "python",
   "pygments_lexer": "ipython3",
   "version": "3.7.6"
  }
 },
 "nbformat": 4,
 "nbformat_minor": 4
}

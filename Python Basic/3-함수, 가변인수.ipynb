{
 "cells": [
  {
   "cell_type": "markdown",
   "metadata": {},
   "source": [
    "## 1. 함수의 정의 : 일정한 작업을 수행하는 코드블럭\n",
    "\n",
    "## 2. 함수의 장점\n",
    "\n",
    "    1) 반복적인 코드를 없애주어 코드의 길이를 짧게 만들어 준다.\n",
    "    2) 프로그램의 유지보수를 쉽게 만들어준다.\n",
    "    \n",
    "## 3. 함수의 구현\n",
    "\n",
    "    def 함수이름(...):\n",
    "        코드 정의\n",
    "        ...\n",
    "        [return ...]\n",
    "        \n",
    "## 4. 함수의 호출 방식\n",
    "\n",
    "    1) 인자(인수)가 없는 방식 (jump)\n",
    "    2) 인자가 있는 방식 (jump)\n",
    "    3) 반환값(return값)이 있는 방식 (return)\n",
    "        return의 두 가지 기능\n",
    "            - 값을 반환 (return 옆에 값을 놔줘야한다 그래야 반환됨)\n",
    "            - 함수의 강제 종료\n",
    "    \n",
    "## 5. 함수의 설계\n",
    "\n",
    "    1) 재사용성\n",
    "    2) 단일 기능\n",
    "  \n",
    "## 6. 함수의 종류\n",
    "\n",
    "    1) 사용자 정의 함수\n",
    "    2) 내장 함수(Built-In)\n",
    "    3) 외장 함수"
   ]
  },
  {
   "cell_type": "code",
   "execution_count": 14,
   "metadata": {},
   "outputs": [],
   "source": [
    "# 인자가 없는 방식\n",
    "\n",
    "def line():\n",
    "    for v in range(30):\n",
    "        print(\"*\", end=\"\")\n",
    "    print()"
   ]
  },
  {
   "cell_type": "code",
   "execution_count": 16,
   "metadata": {},
   "outputs": [
    {
     "name": "stdout",
     "output_type": "stream",
     "text": [
      "******************************\n",
      "     친구 관리 프로그램    \n",
      "******************************\n",
      "1. 친구 추가\n",
      "2. 친구 삭제\n",
      "3. 친구 리스트 출력\n",
      "******************************\n"
     ]
    }
   ],
   "source": [
    "line()\n",
    "print(\"     친구 관리 프로그램    \")\n",
    "line()\n",
    "print(\"1. 친구 추가\")\n",
    "print(\"2. 친구 삭제\")\n",
    "print(\"3. 친구 리스트 출력\")\n",
    "line()"
   ]
  },
  {
   "cell_type": "code",
   "execution_count": 18,
   "metadata": {},
   "outputs": [],
   "source": [
    "# 인자가 있는 방식\n",
    "#*실인자(argument) : 함수를 호출할때 가지고 가는 인자(실제 넘어가는 값) ex) 밑칸에 30, 10, 50\n",
    "#*매개변수(parameter) : 매개변수의 개수만큼 실인자도 호출해야함, 순서도 동일하게 ex) 밑에 cnt\n",
    "\n"
   ]
  },
  {
   "cell_type": "code",
   "execution_count": 19,
   "metadata": {},
   "outputs": [
    {
     "name": "stdout",
     "output_type": "stream",
     "text": [
      "******************************\n",
      "     친구 관리 프로그램    \n",
      "**********\n",
      "1. 친구 추가\n",
      "2. 친구 삭제\n",
      "3. 친구 리스트 출력\n",
      "**************************************************\n"
     ]
    }
   ],
   "source": [
    "def line(cnt):\n",
    "    for v in range(cnt):\n",
    "        print(\"*\", end=\"\")\n",
    "    print()\n",
    "    \n",
    "    \n",
    "\n",
    "line(30)\n",
    "print(\"     친구 관리 프로그램    \")\n",
    "line(10)\n",
    "print(\"1. 친구 추가\")\n",
    "print(\"2. 친구 삭제\")\n",
    "print(\"3. 친구 리스트 출력\")\n",
    "line(50)"
   ]
  },
  {
   "cell_type": "code",
   "execution_count": 21,
   "metadata": {},
   "outputs": [
    {
     "name": "stdout",
     "output_type": "stream",
     "text": [
      "******************************\n",
      "     친구 관리 프로그램    \n",
      "==========\n",
      "1. 친구 추가\n",
      "2. 친구 삭제\n",
      "3. 친구 리스트 출력\n",
      "//////////////////////////////////////////////////\n"
     ]
    }
   ],
   "source": [
    "def line(cnt, style):\n",
    "    for v in range(cnt):\n",
    "        print(style, end=\"\")\n",
    "    print()\n",
    "    \n",
    "    \n",
    "\n",
    "line(30, \"*\")\n",
    "print(\"     친구 관리 프로그램    \")\n",
    "line(10, \"=\")\n",
    "print(\"1. 친구 추가\")\n",
    "print(\"2. 친구 삭제\")\n",
    "print(\"3. 친구 리스트 출력\")\n",
    "line(50, \"/\")"
   ]
  },
  {
   "cell_type": "code",
   "execution_count": 31,
   "metadata": {},
   "outputs": [],
   "source": [
    "# 반환값(return값)이 있는 방식 (return)\n",
    "\n",
    "def swap(num1, num2):\n",
    "    temp = num1\n",
    "    num1 = num2                           # or      num2, num1 = num1, num2      가운데세줄지우고 대체가능, 파이썬에서만\n",
    "    num2 = temp\n",
    "    return num1, num2"
   ]
  },
  {
   "cell_type": "code",
   "execution_count": 22,
   "metadata": {},
   "outputs": [
    {
     "name": "stdout",
     "output_type": "stream",
     "text": [
      "두 수의 교환\n",
      "결과 :  5 10\n"
     ]
    }
   ],
   "source": [
    "# Swap 알고리즘\n",
    "\n",
    "# num1 = 10\n",
    "# num2 = 5\n",
    "\n",
    "# print(\"두 수의 교환\")\n",
    "\n",
    "# temp = num1\n",
    "# num1 = num2\n",
    "# num2 = temp\n",
    "\n",
    "# print(\"결과 : \", num1, num2)"
   ]
  },
  {
   "cell_type": "code",
   "execution_count": 34,
   "metadata": {},
   "outputs": [
    {
     "name": "stdout",
     "output_type": "stream",
     "text": [
      "두 수의 교환\n",
      "결과 :  5 10\n"
     ]
    }
   ],
   "source": [
    "num1 = 10\n",
    "num2 = 5\n",
    "\n",
    "print(\"두 수의 교환\")\n",
    "\n",
    "n1, n2 = swap(num1, num2)            # n1, n2가 return값 받음\n",
    "\n",
    "print(\"결과 : \", n1, n2)"
   ]
  },
  {
   "cell_type": "code",
   "execution_count": 37,
   "metadata": {},
   "outputs": [
    {
     "name": "stdout",
     "output_type": "stream",
     "text": [
      "두 수의 교환\n",
      "결과 ;  (5, 10)\n"
     ]
    }
   ],
   "source": [
    "# 위에 식 or\n",
    "\n",
    "\n",
    "num1 = 10\n",
    "num2 = 5\n",
    "\n",
    "print(\"두 수의 교환\")\n",
    "\n",
    "print(\"결과 ; \", swap(num1, num2))"
   ]
  },
  {
   "cell_type": "code",
   "execution_count": null,
   "metadata": {},
   "outputs": [],
   "source": [
    "# 전자계산기 예제를 함수화 시키기"
   ]
  },
  {
   "cell_type": "code",
   "execution_count": 64,
   "metadata": {},
   "outputs": [],
   "source": [
    "#전자계산기 - 함수\n",
    "\n",
    "def v1():\n",
    "    if cal == '+':\n",
    "        result = num1 + num2 \n",
    "        print(\"결과 : {} {} {} = {}\".format(num1, cal, num2, result))\n",
    "\n",
    "        \n",
    "    elif cal == '-':\n",
    "        result = num1 - num2\n",
    "        print(\"결과 : {} {} {} = {}\".format(num1, cal, num2, result))\n",
    "\n",
    "        \n",
    "    elif cal == '*':\n",
    "        result = num1 * num2\n",
    "        print(\"결과 : {} {} {} = {}\".format(num1, cal, num2, result))\n",
    "\n",
    "        \n",
    "    elif cal == '/':\n",
    "        result = num1 / num2\n",
    "        print(\"결과 : {} {} {} = {}\".format(num1, cal, num2, result))\n",
    "        \n",
    "            \n",
    "    else:\n",
    "        print(\"끝\")\n",
    "    "
   ]
  },
  {
   "cell_type": "code",
   "execution_count": 65,
   "metadata": {},
   "outputs": [
    {
     "name": "stdout",
     "output_type": "stream",
     "text": [
      "숫자 : 5\n",
      "연산자 : +\n",
      "숫자 : 2\n",
      "결과 : 5 + 2 = 7\n",
      "숫자 : \n"
     ]
    },
    {
     "ename": "ValueError",
     "evalue": "invalid literal for int() with base 10: ''",
     "output_type": "error",
     "traceback": [
      "\u001b[1;31m---------------------------------------------------------------------------\u001b[0m",
      "\u001b[1;31mValueError\u001b[0m                                Traceback (most recent call last)",
      "\u001b[1;32m<ipython-input-65-eba735c258aa>\u001b[0m in \u001b[0;36m<module>\u001b[1;34m\u001b[0m\n\u001b[0;32m      3\u001b[0m \u001b[1;32mfor\u001b[0m \u001b[0mi\u001b[0m \u001b[1;32min\u001b[0m \u001b[0mrange\u001b[0m\u001b[1;33m(\u001b[0m\u001b[1;36m1000\u001b[0m\u001b[1;33m)\u001b[0m\u001b[1;33m:\u001b[0m\u001b[1;33m\u001b[0m\u001b[1;33m\u001b[0m\u001b[0m\n\u001b[0;32m      4\u001b[0m \u001b[1;33m\u001b[0m\u001b[0m\n\u001b[1;32m----> 5\u001b[1;33m     \u001b[0mnum1\u001b[0m \u001b[1;33m=\u001b[0m \u001b[0mint\u001b[0m\u001b[1;33m(\u001b[0m\u001b[0minput\u001b[0m\u001b[1;33m(\u001b[0m\u001b[1;34m\"숫자 : \"\u001b[0m\u001b[1;33m)\u001b[0m\u001b[1;33m)\u001b[0m\u001b[1;33m\u001b[0m\u001b[1;33m\u001b[0m\u001b[0m\n\u001b[0m\u001b[0;32m      6\u001b[0m     \u001b[0mcal\u001b[0m \u001b[1;33m=\u001b[0m \u001b[0minput\u001b[0m\u001b[1;33m(\u001b[0m\u001b[1;34m\"연산자 : \"\u001b[0m\u001b[1;33m)\u001b[0m\u001b[1;33m\u001b[0m\u001b[1;33m\u001b[0m\u001b[0m\n\u001b[0;32m      7\u001b[0m     \u001b[0mnum2\u001b[0m \u001b[1;33m=\u001b[0m \u001b[0mint\u001b[0m\u001b[1;33m(\u001b[0m\u001b[0minput\u001b[0m\u001b[1;33m(\u001b[0m\u001b[1;34m\"숫자 : \"\u001b[0m\u001b[1;33m)\u001b[0m\u001b[1;33m)\u001b[0m\u001b[1;33m\u001b[0m\u001b[1;33m\u001b[0m\u001b[0m\n",
      "\u001b[1;31mValueError\u001b[0m: invalid literal for int() with base 10: ''"
     ]
    }
   ],
   "source": [
    "#전자계산기 - 식\n",
    "\n",
    "for i in range(1000):\n",
    "    \n",
    "    num1 = int(input(\"숫자 : \"))\n",
    "    cal = input(\"연산자 : \")\n",
    "    num2 = int(input(\"숫자 : \"))\n",
    "    v1()"
   ]
  },
  {
   "cell_type": "code",
   "execution_count": null,
   "metadata": {},
   "outputs": [],
   "source": [
    "# 제어문 예제들 다 함수화 시키기"
   ]
  },
  {
   "cell_type": "markdown",
   "metadata": {},
   "source": [
    "## 파이썬에서 함수를 지원하기 위한 문법"
   ]
  },
  {
   "cell_type": "code",
   "execution_count": 9,
   "metadata": {},
   "outputs": [
    {
     "name": "stdout",
     "output_type": "stream",
     "text": [
      "전국 대표\n",
      "홍길동 지역 대표\n",
      "지역 대표\n"
     ]
    }
   ],
   "source": [
    "# 변수의 유효(생존)범위 : 전역 변수, 지역 변수\n",
    "\n",
    "player = \"전국 대표\"                          # player는 전역 변수\n",
    "\n",
    "def funcSoccer():\n",
    "    global player\n",
    "    \n",
    "    name = \"홍길동\"                           # name은 지역 변수, 다른 구역에서 사용할수없음\n",
    "    player = \"지역 대표\"                      # 가장 마지막의 것을 가장 먼저 사용 = LIFO\n",
    "    print(name, player)\n",
    "    \n",
    "#######################################\n",
    "\n",
    "# print(name)\n",
    "\n",
    "print(player)\n",
    "funcSoccer()\n",
    "print(player)"
   ]
  },
  {
   "cell_type": "code",
   "execution_count": 56,
   "metadata": {},
   "outputs": [
    {
     "name": "stdout",
     "output_type": "stream",
     "text": [
      "******************************\n",
      "******************************\n",
      "*********************************************\n",
      "--------------------------------------------------\n",
      "안녕하세요!!!! 홍길동\n",
      "반드시 이름을 입력하세요\n",
      "--------------------------------------------------\n",
      "안녕하세요!!! 서울에 사는 20님.. 당신의 나이는 홍길동세 입니다\n",
      "안녕하세요!!! 인천에 사는 무명씨님.. 당신의 나이는 30세 입니다\n",
      "안녕하세요!!! 경기도에 사는 임꺽정님.. 당신의 나이는 25세 입니다\n",
      "안녕하세요!!! 수원에 사는 신돌석님.. 당신의 나이는 22세 입니다\n"
     ]
    }
   ],
   "source": [
    "# default 인수\n",
    "\n",
    "\n",
    "def line(cnt=30):                                      # ()안에 특정입력을 안하면 cnt=30으로 지정했기에 line()는 *30개 나옴\n",
    "    for v in range(cnt):\n",
    "        print(\"*\", end=\"\")\n",
    "    print()\n",
    "\n",
    "def hello(name=None):\n",
    "    if name == None:\n",
    "        print(\"반드시 이름을 입력하세요\")\n",
    "        return                                       # 밑에꺼 실행 안하고 중간에 끝나게 된다\n",
    "    \n",
    "    print(\"안녕하세요!!!!\", name)\n",
    "    \n",
    "    \n",
    "def hello2(addr, age, name=\"무명씨\"):                              #default 인수를 주려면 끝에서부터 채워줘야한다\n",
    "    print(\"안녕하세요!!! {}에 사는 {}님.. 당신의 나이는 {}세 입니다\".format(addr, name, age))\n",
    "####################################함수는 생긴대로 똑같이 호출해줘야한다\n",
    "\n",
    "line(30)\n",
    "line()\n",
    "line(45)\n",
    "\n",
    "print(\"-\"*50)\n",
    "\n",
    "hello(\"홍길동\")\n",
    "hello()\n",
    "\n",
    "print(\"-\"*50)\n",
    "\n",
    "hello2(\"서울\", \"홍길동\", 20)\n",
    "hello2(\"인천\",30)                                                    #default 인수 끝에 가있으니 따로 작성하지 않아도 됨\n",
    "hello2(name=\"임꺽정\", addr=\"경기도\", age=25)                        #default 인수 땜에 자리가 바뀌니 변수명을 직접 입력해준다\n",
    "hello2(\"수원\", name=\"신돌석\", age=22)"
   ]
  },
  {
   "cell_type": "code",
   "execution_count": 40,
   "metadata": {},
   "outputs": [],
   "source": [
    "# 가변 인수 : 개수가 정해지지 않은 \n",
    "# *: 일반 곱셈, 가변 인수(packing), unpacking\n",
    "# ** : 제곱연산, 가변 인수(dict 처리)"
   ]
  },
  {
   "cell_type": "code",
   "execution_count": 43,
   "metadata": {},
   "outputs": [
    {
     "name": "stdout",
     "output_type": "stream",
     "text": [
      "('홍길동',)\n",
      "<class 'tuple'>\n",
      "홍길동\n",
      "홍\n",
      "******************************\n",
      "(['홍길동', '임꺽정', '신돌석'],)\n",
      "<class 'tuple'>\n",
      "['홍길동', '임꺽정', '신돌석']\n",
      "홍길동\n",
      "******************************\n",
      "(('홍길동', '임꺽정', '신돌석'),)\n",
      "<class 'tuple'>\n",
      "('홍길동', '임꺽정', '신돌석')\n",
      "홍길동\n"
     ]
    }
   ],
   "source": [
    "#가변인수(packing)\n",
    "\n",
    "def greeting(*name):                               # * : 아스테리스크\n",
    "    print(name)\n",
    "    print(type(name))\n",
    "    print(name[0])\n",
    "    print(name[0][0])                                 #첫번째단어의 첫번째 글자 나타냄\n",
    "    \n",
    "    \n",
    "\n",
    "\n",
    "greeting(\"홍길동\")\n",
    "\n",
    "print(\"*\"*30)\n",
    "\n",
    "greeting([\"홍길동\", \"임꺽정\", \"신돌석\"])\n",
    "\n",
    "print(\"*\"*30)\n",
    "\n",
    "greeting((\"홍길동\", \"임꺽정\", \"신돌석\"))\n"
   ]
  },
  {
   "cell_type": "code",
   "execution_count": 38,
   "metadata": {},
   "outputs": [
    {
     "name": "stdout",
     "output_type": "stream",
     "text": [
      "A 님 환영합니다.\n",
      "A 님 환영합니다.\n",
      "B 님 환영합니다.\n",
      "C 님 환영합니다.\n"
     ]
    }
   ],
   "source": [
    "#가변인수(packing)\n",
    "    \n",
    "def greeting2(weight=0, height=0, *name):                  #<- name 여러명 집합체이니까 for문 / 가변인수 *가 이미 맨뒤에있어서 default값 그냥 있어도 됨\n",
    "    for n in name:\n",
    "        print(n, \"님 환영합니다.\")                           #packing : 여러개 데이터 하나로 묶어주기\n",
    "        \n",
    "        \n",
    "\n",
    "greeting2(0, 0, \"A\")                          # default인수는 채워줘야함\n",
    "greeting2(50, 170, \"A\", \"B\", \"C\")\n"
   ]
  },
  {
   "cell_type": "code",
   "execution_count": 39,
   "metadata": {},
   "outputs": [
    {
     "name": "stdout",
     "output_type": "stream",
     "text": [
      "1 (2, 3, 4, 5)\n"
     ]
    }
   ],
   "source": [
    "#가변인수(packing)\n",
    "\n",
    "def asterisk_test(a, *args):\n",
    "    print(a, args)\n",
    "    \n",
    "    \n",
    "asterisk_test(1, 2, 3, 4, 5)                   # '*'가변인수 : 여러개 변수를 하나로 묶어주는 packing의 기능\n"
   ]
  },
  {
   "cell_type": "code",
   "execution_count": 35,
   "metadata": {},
   "outputs": [
    {
     "name": "stdout",
     "output_type": "stream",
     "text": [
      "1 (2, 3, 4, 5)\n"
     ]
    }
   ],
   "source": [
    "def asterisk_test(a, args):\n",
    "    print(a, args)\n",
    "    \n",
    "    \n",
    "asterisk_test(1, (2, 3, 4, 5))           # 아예 묶어서 넘겨주기"
   ]
  },
  {
   "cell_type": "code",
   "execution_count": 36,
   "metadata": {},
   "outputs": [
    {
     "name": "stdout",
     "output_type": "stream",
     "text": [
      "1 2 3 4 5\n"
     ]
    }
   ],
   "source": [
    "# unpacking\n",
    "\n",
    "def asterisk_test(a, args):\n",
    "    print(a, *args)\n",
    "    \n",
    "    \n",
    "asterisk_test(1, (2, 3, 4, 5))                   # ' *'를 통해서 unpacking 되었다."
   ]
  },
  {
   "cell_type": "code",
   "execution_count": 46,
   "metadata": {},
   "outputs": [
    {
     "name": "stdout",
     "output_type": "stream",
     "text": [
      "[1, 2] [3, 4] [5, 6]\n",
      "([1, 2], [3, 4], [5, 6])\n",
      "[1, 2] [3, 4] [5, 6]\n"
     ]
    }
   ],
   "source": [
    "# unpacking\n",
    "\n",
    "a, b, c = ([1, 2], [3, 4], [5, 6])       # 3개의 변수에 각각의 값이 들어감 unpacking됨\n",
    "print(a, b, c)\n",
    "\n",
    "# unpacking 아닌거\n",
    "\n",
    "d = ([1, 2], [3, 4], [5, 6])              # 1개의 변수만 있어 packing됨\n",
    "print(d)\n",
    "\n",
    "# unpacking\n",
    "\n",
    "d = ([1, 2], [3, 4], [5, 6])              # 1개의 변수만 있어 packing되어야 하지만 '*'이 있으면 unpacking 됨을 알수있음\n",
    "print(*d)\n"
   ]
  },
  {
   "cell_type": "code",
   "execution_count": 50,
   "metadata": {},
   "outputs": [
    {
     "name": "stdout",
     "output_type": "stream",
     "text": [
      "0 0\n",
      "{'name': '홍길동', 'age': 20, 'addr': '서울'}\n",
      "******************************\n",
      "0 0\n",
      "{'name': '홍길동'}\n"
     ]
    }
   ],
   "source": [
    "# ** : 가변 인수(dict 처리)(dict : 키와 값을 하나로 묶어주는), 가변인수 맨 마지막에 줘야함\n",
    "\n",
    "def info(weight=0, height=0, **other):\n",
    "    print(weight, height)\n",
    "    print(other)\n",
    "    \n",
    "##########################################\n",
    "\n",
    "info(0, 0, name=\"홍길동\", age=20, addr=\"서울\")   \n",
    "\n",
    "print(\"*\"*30)\n",
    "\n",
    "info(name=\"홍길동\")            # default 같이 사용 가능\n"
   ]
  },
  {
   "cell_type": "code",
   "execution_count": 54,
   "metadata": {},
   "outputs": [
    {
     "name": "stdout",
     "output_type": "stream",
     "text": [
      "10 1 2 3\n"
     ]
    }
   ],
   "source": [
    "def asterisk_test(a, b, c, d):\n",
    "    print(a, b, c, d)\n",
    "    \n",
    "#######################################\n",
    "\n",
    "data = {\"d\":3, \"b\":1, \"c\":2}          # 변수명과 키값은 당연히 일치해야함 / 키 이름으로 변수값을 찾아가기 때문에 순서는 상관없음\n",
    "asterisk_test(10, **data)             # 내가 주는 data가 dict형임을 알려주고, 각각의 변수에 배분시키도록 '**'넣음\n"
   ]
  },
  {
   "cell_type": "markdown",
   "metadata": {},
   "source": [
    "## 내장 함수"
   ]
  },
  {
   "cell_type": "code",
   "execution_count": 59,
   "metadata": {},
   "outputs": [
    {
     "name": "stdout",
     "output_type": "stream",
     "text": [
      "True\n",
      "False\n",
      "True\n",
      "True\n"
     ]
    }
   ],
   "source": [
    "# all() : 전부가 참일때 참으로 리턴, any() : 하나만 참이여도 참으로 리턴  / T or F(0과 빈값 인 경우) 로만 답함\n",
    "\n",
    "print(all([1, 2, 3, -1, -2]))\n",
    "\n",
    "print(all([1, 2, 3, 0, -1, -2]))\n",
    "\n",
    "print(any([0, None, 3, -1, -2]))\n",
    "\n",
    "print(any([\"\", 0, 3, 0, -1, -2]))"
   ]
  },
  {
   "cell_type": "code",
   "execution_count": null,
   "metadata": {},
   "outputs": [],
   "source": [
    "# 가위바위보 예제를 함수화 시키기"
   ]
  },
  {
   "cell_type": "code",
   "execution_count": 2,
   "metadata": {},
   "outputs": [],
   "source": [
    "# 가위바위보 - 함수\n",
    "\n",
    "def cal1():\n",
    "    if number == 0:\n",
    "        computer = \"가위\"\n",
    "    elif number == 1:\n",
    "        computer = \"바위\"\n",
    "    elif number == 2:\n",
    "        computer = \"보\"\n",
    "    print(\"컴퓨터 : {}\".format(computer))\n",
    "    \n",
    "    \n",
    "    if user == computer:\n",
    "        print(\"무\")\n",
    "        \n",
    "    elif user == \"가위\":\n",
    "        if computer == \"바위\":\n",
    "            print(\"패\")\n",
    "            \n",
    "        else:\n",
    "            print(\"승\")\n",
    "            \n",
    "    elif user == \"바위\":\n",
    "        if computer == \"보\":\n",
    "            print(\"패\")\n",
    "            \n",
    "        else:\n",
    "            print(\"승\")\n",
    "            \n",
    "    elif user == \"보\":\n",
    "        if computer == \"가위\":\n",
    "            print(\"패\")\n",
    "            \n",
    "        else:\n",
    "            print(\"승\")\n",
    "            \n",
    "\n",
    "    else:\n",
    "        print(\"끝\")\n"
   ]
  },
  {
   "cell_type": "code",
   "execution_count": null,
   "metadata": {},
   "outputs": [
    {
     "name": "stdout",
     "output_type": "stream",
     "text": [
      "(가위, 바위, 보)중에서 하나 : 가위\n",
      "컴퓨터 : 가위\n",
      "무\n",
      "(가위, 바위, 보)중에서 하나 : ㅇ\n",
      "컴퓨터 : 보\n",
      "끝\n"
     ]
    }
   ],
   "source": [
    "# 가위바위보 - 식\n",
    "\n",
    "\n",
    "for i in range(1000):\n",
    "    user = input(\"(가위, 바위, 보)중에서 하나 : \")\n",
    "    import random\n",
    "    number = random.randint(0,2)\n",
    "    \n",
    "    cal1()\n",
    "    \n"
   ]
  },
  {
   "cell_type": "code",
   "execution_count": null,
   "metadata": {},
   "outputs": [],
   "source": [
    "# 숫자를 입력받아서 짝수의 합과 홀수의 합을 구하는거 함수화 시키기**"
   ]
  },
  {
   "cell_type": "code",
   "execution_count": 1,
   "metadata": {},
   "outputs": [],
   "source": [
    "# 짝수의 합, 홀수의 합 - 함수\n",
    "\n",
    "def var1():\n",
    "    \n",
    "    even = 0\n",
    "    odd = 0\n",
    "\n",
    "    \n",
    "    if num == 0:\n",
    "        print(\"끝\")\n",
    "        \n",
    "    elif num % 2 == 0:\n",
    "        print(\"짝수합 : {}\".format(num))\n",
    "        even += num\n",
    "        \n",
    "    else:\n",
    "        print(\"홀수합 : {}\".format(num))\n",
    "        odd += num\n",
    "  \n"
   ]
  },
  {
   "cell_type": "code",
   "execution_count": null,
   "metadata": {},
   "outputs": [
    {
     "name": "stdout",
     "output_type": "stream",
     "text": [
      "숫자 : 2\n",
      "짝수합 : 2\n",
      "숫자 : 3\n",
      "홀수합 : 3\n",
      "숫자 : 5\n",
      "홀수합 : 5\n"
     ]
    }
   ],
   "source": [
    "# 짝수의 합, 홀수의 합 - 식\n",
    "\n",
    "for i in range(1000):\n",
    "    num = int(input(\"숫자 : \"))\n",
    "    var1()\n",
    "    \n",
    "    "
   ]
  },
  {
   "cell_type": "code",
   "execution_count": null,
   "metadata": {},
   "outputs": [],
   "source": [
    "# 팩토리얼 예제를 함수화 시키기"
   ]
  },
  {
   "cell_type": "code",
   "execution_count": 1,
   "metadata": {},
   "outputs": [],
   "source": [
    "# 팩토리얼 예제 - 함수\n",
    "\n",
    "def val4():\n",
    "    result = 1\n",
    "    for n in range(1,num+1):\n",
    "        result = result*n\n",
    "    print(\"{}의 팩토리얼은 {}이다\".format(num, result))"
   ]
  },
  {
   "cell_type": "code",
   "execution_count": null,
   "metadata": {},
   "outputs": [
    {
     "name": "stdout",
     "output_type": "stream",
     "text": [
      "정수 입력 : 3\n",
      "3의 팩토리얼은 6이다\n",
      "정수 입력 : 4\n",
      "4의 팩토리얼은 24이다\n"
     ]
    }
   ],
   "source": [
    "# 팩토리얼 예제 - 식\n",
    "\n",
    "for i in range(100):\n",
    "    num = int(input(\"정수 입력 : \"))\n",
    "    val4()"
   ]
  },
  {
   "cell_type": "code",
   "execution_count": null,
   "metadata": {},
   "outputs": [],
   "source": [
    "# 자리수의 합 예제를 함수화 시키기***"
   ]
  },
  {
   "cell_type": "code",
   "execution_count": 1,
   "metadata": {},
   "outputs": [],
   "source": [
    "# 자리수의 합 예제 - 함수\n",
    "\n",
    "def var5():\n",
    "    sum = 0\n",
    "    \n",
    "    for r in range(len(number)):\n",
    "        if number == 0:\n",
    "            break\n",
    "            \n",
    "    else:\n",
    "        sum += int(number[r])\n",
    "        print(\"자리수 합 : {}\".format(sum))"
   ]
  },
  {
   "cell_type": "code",
   "execution_count": null,
   "metadata": {},
   "outputs": [
    {
     "name": "stdout",
     "output_type": "stream",
     "text": [
      "숫자 : 23\n",
      "자리수 합 : 3\n",
      "숫자 : 66\n",
      "자리수 합 : 6\n",
      "숫자 : 84\n",
      "자리수 합 : 4\n"
     ]
    }
   ],
   "source": [
    "# 자리수의 합 예제 - 식\n",
    "\n",
    "for b in range(100):\n",
    "    number = str(input(\"숫자 : \"))\n",
    "    var5()\n",
    "    "
   ]
  },
  {
   "cell_type": "code",
   "execution_count": null,
   "metadata": {},
   "outputs": [],
   "source": [
    "# 숫자 맞추기 예제를 함수화 시키기***"
   ]
  },
  {
   "cell_type": "code",
   "execution_count": 1,
   "metadata": {},
   "outputs": [],
   "source": [
    "# 숫자 맞추기 예제 - 함수\n",
    "\n",
    "def val6():\n",
    "    count = 0\n",
    "    if computer == player:\n",
    "        print(\"정답!! 시도횟수 : {}번\".format(count))\n",
    "        \n",
    "    elif computer > player:\n",
    "        print(\"Up\")\n",
    "    else:\n",
    "        print(\"Down\")\n",
    "    count += 1\n"
   ]
  },
  {
   "cell_type": "code",
   "execution_count": null,
   "metadata": {},
   "outputs": [
    {
     "name": "stdout",
     "output_type": "stream",
     "text": [
      "1부터 100사이의 숫자를 입력 : 50\n",
      "Up\n",
      "1부터 100사이의 숫자를 입력 : 60\n",
      "Down\n",
      "1부터 100사이의 숫자를 입력 : 55\n",
      "Up\n",
      "1부터 100사이의 숫자를 입력 : 56\n",
      "Up\n",
      "1부터 100사이의 숫자를 입력 : 57\n",
      "Down\n"
     ]
    }
   ],
   "source": [
    "# 숫자 맞추기 예제 - 식\n",
    "\n",
    "for x in range(100):\n",
    "    import random\n",
    "    computer = random.randint(1,100)\n",
    "    player = int(input(\"1부터 100사이의 숫자를 입력 : \"))\n",
    "    val6()"
   ]
  },
  {
   "cell_type": "code",
   "execution_count": 11,
   "metadata": {},
   "outputs": [
    {
     "name": "stdout",
     "output_type": "stream",
     "text": [
      "<enumerate object at 0x000000000534C138>\n"
     ]
    }
   ],
   "source": [
    "# enumerate(ilerator) : 순서가 있는 자료형(list, tuple)을 입력받아 인덱스 값을 포함해서 리턴\n",
    "\n",
    "enum1 = enumerate([\"홍길동\",\"임꺽정\", 3.14, 1000, True])\n",
    "print(enum1)                             # 어떤 메모리(heap)에 저장된 주소값 나옴\n"
   ]
  },
  {
   "cell_type": "code",
   "execution_count": 12,
   "metadata": {},
   "outputs": [
    {
     "name": "stdout",
     "output_type": "stream",
     "text": [
      "<enumerate object at 0x000000000534C408>\n",
      "(0, '홍길동')\n",
      "(1, '임꺽정')\n",
      "(2, 3.14)\n",
      "(3, 1000)\n",
      "(4, True)\n"
     ]
    }
   ],
   "source": [
    "enum1 = enumerate([\"홍길동\",\"임꺽정\", 3.14, 1000, True])\n",
    "print(enum1)\n",
    "\n",
    "for v in enum1:                            # 요소들에 자동적으로 인덱스(0, 1, 2 ..)를 붙여주고 tuple()로 묶어 따로 두었다.\n",
    "    print(v)"
   ]
  },
  {
   "cell_type": "code",
   "execution_count": 13,
   "metadata": {},
   "outputs": [
    {
     "name": "stdout",
     "output_type": "stream",
     "text": [
      "<enumerate object at 0x000000000534C5E8>\n",
      "0 홍길동\n",
      "1 임꺽정\n",
      "2 3.14\n",
      "3 1000\n",
      "4 True\n"
     ]
    }
   ],
   "source": [
    "enum1 = enumerate([\"홍길동\",\"임꺽정\", 3.14, 1000, True])\n",
    "print(enum1)\n",
    "\n",
    "for i, v in enum1:               # 인덱스 따로 요소 따로 가져올수도 있다.\n",
    "    print(i, v)"
   ]
  },
  {
   "cell_type": "code",
   "execution_count": 14,
   "metadata": {},
   "outputs": [
    {
     "name": "stdout",
     "output_type": "stream",
     "text": [
      "<enumerate object at 0x000000000534C408>\n",
      "0 . 홍길동\n",
      "1 . 임꺽정\n",
      "2 . 3.14\n",
      "3 . 1000\n",
      "4 . True\n"
     ]
    }
   ],
   "source": [
    "enum1 = enumerate([\"홍길동\",\"임꺽정\", 3.14, 1000, True])\n",
    "print(enum1)\n",
    "\n",
    "for i, v in enum1:                 # 꾸미기 \n",
    "    print(i,\".\", v)"
   ]
  },
  {
   "cell_type": "code",
   "execution_count": 9,
   "metadata": {},
   "outputs": [
    {
     "name": "stdout",
     "output_type": "stream",
     "text": [
      "<enumerate object at 0x000000000531A4A8>\n",
      "100 . 홍길동\n",
      "101 . 임꺽정\n",
      "102 . 3.14\n",
      "103 . 1000\n",
      "104 . True\n"
     ]
    }
   ],
   "source": [
    "enum1 = enumerate([\"홍길동\",\"임꺽정\", 3.14, 1000, True], start=100)             # 인덱스 100부터 시작\n",
    "print(enum1)\n",
    "\n",
    "for i, v in enum1:\n",
    "    print(i,\".\", v)"
   ]
  },
  {
   "cell_type": "code",
   "execution_count": 22,
   "metadata": {},
   "outputs": [
    {
     "name": "stdout",
     "output_type": "stream",
     "text": [
      "3+4\n",
      "7\n",
      "7\n",
      "7\n"
     ]
    }
   ],
   "source": [
    "# eval(expression) : 표현식을 파이썬에서 실행 가능하게 만들어주는 역할\n",
    "#(=evaluation 약어)\n",
    "\n",
    "print(\"3+4\")                        #이때는 그냥 3+4 라는 문자였지만\n",
    "\n",
    "print(eval(\"3+4\"))                 # eval을 추가해주면 더하기가 실행가능해져 그 값을 내준다\n",
    "\n",
    "print(int(\"3\") + int(\"4\"))         # 이 형태도 더하기가 가능하지만 eval은 더 간단하게 나타낼수 있다\n",
    "\n",
    "print(eval(\"3\") + eval(\"4\"))       # 이 형태도 가능하다"
   ]
  },
  {
   "cell_type": "code",
   "execution_count": 23,
   "metadata": {},
   "outputs": [
    {
     "name": "stdout",
     "output_type": "stream",
     "text": [
      "수식을 입력하세요 : 4-5\n",
      "-1\n"
     ]
    }
   ],
   "source": [
    "expr = input(\"수식을 입력하세요 : \")\n",
    "print(eval(expr))                     # 하나하나 수식전환 할 필요없이 계산 바로 진행해줌"
   ]
  },
  {
   "cell_type": "code",
   "execution_count": 28,
   "metadata": {},
   "outputs": [
    {
     "data": {
      "text/plain": [
       "(2, 1)"
      ]
     },
     "execution_count": 28,
     "metadata": {},
     "output_type": "execute_result"
    }
   ],
   "source": [
    "# divmod : 몫과 나머지 연산자를 동시에 수행해서 동시에 보여주는 함수\n",
    "\n",
    "divmod(9, 4)      "
   ]
  },
  {
   "cell_type": "code",
   "execution_count": 27,
   "metadata": {},
   "outputs": [
    {
     "data": {
      "text/plain": [
       "(2, 1)"
      ]
     },
     "execution_count": 27,
     "metadata": {},
     "output_type": "execute_result"
    }
   ],
   "source": [
    "\"divmod(9,4)\"       # \"\"로 묶여있어서 이때는 그냥 문자이지만\n",
    "\n",
    "eval(\"divmod(9, 4)\")       # eval 넣어주면 계산됨 "
   ]
  },
  {
   "cell_type": "code",
   "execution_count": null,
   "metadata": {},
   "outputs": [],
   "source": [
    "# map(function, iterable) : 집합의 각 요소가 함수에 의해 수행된 결과를 묶어서 리턴\n",
    "#                           map 에서는 큰 데이터를 연관된것끼리 묶어서 쪼개서 수행하고 Reduce 는 묶어서 리턴"
   ]
  },
  {
   "cell_type": "code",
   "execution_count": 39,
   "metadata": {},
   "outputs": [
    {
     "name": "stdout",
     "output_type": "stream",
     "text": [
      "12\n",
      "--------------------------------------------------\n",
      "[12, 22, 32, 42, 52]\n",
      "--------------------------------------------------\n",
      "12\n",
      "22\n",
      "32\n",
      "42\n",
      "52\n",
      "--------------------------------------------------\n",
      "[12, 22, 32, 42, 52]\n"
     ]
    }
   ],
   "source": [
    "def calc(x):\n",
    "    return x+2\n",
    "\n",
    "#\n",
    "\n",
    "a = calc(10)                          #10을 넘겨줬으니까 위의 calc함수식에서 2를 더해 print 된 값은 12\n",
    "print(a)\n",
    "\n",
    "\n",
    "print(\"-\"*50) #\n",
    "\n",
    "\n",
    "data = [10, 20, 30, 40, 50]\n",
    "b = []\n",
    "for v in data:\n",
    "    a = calc(v)\n",
    "    b.append(a)\n",
    "    \n",
    "print(b)\n",
    "\n",
    "\n",
    "print(\"-\"*50) #\n",
    "\n",
    "\n",
    "# 위의 코드를 map으로 처리\n",
    "\n",
    "# print(map(calc,data))         <- map 주소만 나오게 되므로 반복문 작성\n",
    "\n",
    "for v in map(calc, data):\n",
    "    print(v)\n",
    "    \n",
    "    \n",
    "print(\"-\"*50) #\n",
    "    \n",
    "    \n",
    "print(list(map(calc, data)))"
   ]
  },
  {
   "cell_type": "code",
   "execution_count": 1,
   "metadata": {},
   "outputs": [
    {
     "name": "stdout",
     "output_type": "stream",
     "text": [
      "('a1', 'b1')\n",
      "('a2', 'b2')\n",
      "('a3', 'b3')\n"
     ]
    }
   ],
   "source": [
    "# zip(iterable) : 동일한 갯수로 이루어진 자료형을 묶어주는 역할\n",
    "    \n",
    "a = [\"a1\", \"a2\", \"a3\"]\n",
    "b = [\"b1\", \"b2\", \"b3\"]\n",
    "\n",
    "# print(zip(a, b))                <- 주소만 나오게 되므로 반복문 작성\n",
    "\n",
    "for v in zip(a, b):                   # tuple로 묶어서 나오게 됨\n",
    "    print(v)\n",
    "    \n",
    "    \n",
    "print(\"-\"*50) #\n",
    "\n",
    "\n",
    "for v, w in zip(a, b):                   # 데이터 따로 빼서 보고 싶은 경우\n",
    "    print(v, w)\n",
    "    \n",
    "    \n",
    "print(\"-\"*50) #\n",
    "\n",
    "    \n",
    "print(list(zip(a, b)))                    # list로 묶어서 보고 싶은 경우"
   ]
  },
  {
   "cell_type": "code",
   "execution_count": 46,
   "metadata": {},
   "outputs": [
    {
     "name": "stdout",
     "output_type": "stream",
     "text": [
      "('a1', 'b1', 'c1')\n",
      "('a2', 'b2', 'c2')\n",
      "('a3', 'b3', 'c3')\n",
      "--------------------------------------------------\n",
      "[('a1', 'b1', 'c1'), ('a2', 'b2', 'c2'), ('a3', 'b3', 'c3')]\n",
      "--------------------------------------------------\n",
      "0 a1 b1 c1\n",
      "1 a2 b2 c2\n",
      "2 a3 b3 c3\n"
     ]
    }
   ],
   "source": [
    "a = [\"a1\", \"a2\", \"a3\"]\n",
    "b = [\"b1\", \"b2\", \"b3\"]\n",
    "c = [\"c1\", \"c2\", \"c3\", \"c4\"]           # c4는 갯수가 안맞음으로 손실됨. 갯수 맞추는거에 유의!\n",
    "\n",
    "\n",
    "for v in zip(a, b, c):                   # tuple로 묶어서 나오게 됨\n",
    "    print(v)\n",
    "    \n",
    "    \n",
    "print(\"-\"*50) #\n",
    "\n",
    "    \n",
    "print(list(zip(a, b, c)))      \n",
    "    \n",
    "    \n",
    "print(\"-\"*50) #\n",
    "\n",
    "    \n",
    "for i, (v, w, x) in enumerate(zip(a, b, c)):\n",
    "    print(i, v, w, x)"
   ]
  },
  {
   "cell_type": "code",
   "execution_count": null,
   "metadata": {},
   "outputs": [],
   "source": [
    "\"\"\"##in test##\n",
    "함수만들기\n",
    "\n",
    "order(\"large\", \"버섯\")로 호출했을 때 결과는 다음과 같다.\n",
    "------------------------------------------------------------------\n",
    "large size 피자를 주문하셨습니다.\n",
    "토핑 : 버섯\n",
    "\n",
    "\n",
    "order(\"large\", \"버섯\", \"파인애플\", \"토마토\")로 호출했을 때 결과는 다음과 같다.\n",
    "------------------------------------------------------------------\n",
    "large size 피자를 주문하셨습니다.\n",
    "토핑 : 버섯, 파인애플, 토마토\n",
    "\n",
    "\"\"\""
   ]
  },
  {
   "cell_type": "code",
   "execution_count": 124,
   "metadata": {},
   "outputs": [
    {
     "name": "stdout",
     "output_type": "stream",
     "text": [
      "('S', '버섯')\n",
      "('M', '파인애플')\n",
      "('L', '토마토')\n"
     ]
    }
   ],
   "source": [
    "# 피자 문제풀이 칸\n",
    "\n",
    "order1 = [\"S\",\"M\",\"L\"]\n",
    "order2 = [\"버섯\",\"파인애플\", \"토마토\"]\n",
    "\n",
    "if order1 == \"L\"\n",
    "\n",
    "for v in zip(order1, order2):\n",
    "    print(v)\n"
   ]
  },
  {
   "cell_type": "markdown",
   "metadata": {},
   "source": [
    "## 외장 함수\n",
    "\n",
    "    import 파일명"
   ]
  },
  {
   "cell_type": "code",
   "execution_count": 50,
   "metadata": {},
   "outputs": [],
   "source": [
    "import math\n",
    "dir(math)                           # 어떤 math 함수가 들어있는지 알려줌\n"
   ]
  },
  {
   "cell_type": "markdown",
   "metadata": {},
   "source": [
    "## 날짜형 함수"
   ]
  },
  {
   "cell_type": "code",
   "execution_count": 7,
   "metadata": {},
   "outputs": [
    {
     "name": "stdout",
     "output_type": "stream",
     "text": [
      "2019-12-11\n",
      "2019 12 11\n"
     ]
    }
   ],
   "source": [
    "import datetime \n",
    "\n",
    "# 현재 날짜 \n",
    "\n",
    "today = datetime.date.today()\n",
    "print(today)\n",
    "print(today.year, today.month, today.day)\n"
   ]
  },
  {
   "cell_type": "code",
   "execution_count": 8,
   "metadata": {},
   "outputs": [
    {
     "name": "stdout",
     "output_type": "stream",
     "text": [
      "2019-12-11 11:44:15.530900\n"
     ]
    }
   ],
   "source": [
    "# 현재 시간\n",
    "\n",
    "ctime = datetime.datetime.today()\n",
    "print(ctime)\n"
   ]
  },
  {
   "cell_type": "code",
   "execution_count": 15,
   "metadata": {},
   "outputs": [
    {
     "name": "stdout",
     "output_type": "stream",
     "text": [
      "-1 day, 0:00:00\n",
      "2019-12-10\n",
      "2019-12-11 03:44:15.530900\n"
     ]
    }
   ],
   "source": [
    "# 날짜, 시간 연산\n",
    "\n",
    "mydays = datetime.timedelta(days=-1)                            # 날짜 하루 뺄수있게\n",
    "print(mydays)\n",
    "print(today + mydays)\n",
    "\n",
    "myhours = datetime.timedelta(hours=-8)\n",
    "print(ctime + myhours)"
   ]
  },
  {
   "cell_type": "code",
   "execution_count": 10,
   "metadata": {},
   "outputs": [
    {
     "name": "stdout",
     "output_type": "stream",
     "text": [
      "12/11/2019\n",
      "2019-12-11 11:44:15\n"
     ]
    }
   ],
   "source": [
    "# 날짜 형식\n",
    "\n",
    "print(today.strftime(\"%m/%d/%Y\"))\n",
    "print(ctime.strftime(\"%Y-%m-%d %H:%M:%S\"))\n"
   ]
  },
  {
   "cell_type": "code",
   "execution_count": 20,
   "metadata": {},
   "outputs": [
    {
     "name": "stdout",
     "output_type": "stream",
     "text": [
      "<class 'datetime.datetime'>\n",
      "<class 'str'>\n",
      "--------------------------------------------------\n",
      "<class 'str'>\n",
      "<class 'datetime.datetime'>\n"
     ]
    }
   ],
   "source": [
    "# 날짜 형식 변환 - strftime(): 날짜를 문자열로, strptime(): 문자열을 날짜로 \n",
    "\n",
    "print(type(ctime))\n",
    "d = ctime.strftime(\"%Y-%m-%d %H:%M:%S\")\n",
    "print(type(d))\n",
    "\n",
    "\n",
    "print(\"-\"*50)\n",
    "\n",
    "\n",
    "strdate = \"2019-12-11 11:44:15\"\n",
    "print(type(strdate))\n",
    "d2 = datetime.datetime.strptime(strdate, \"%Y-%m-%d %H:%M:%S\")          # strdate 옆에 형식 작성해주기\n",
    "print(type(d2))"
   ]
  },
  {
   "cell_type": "markdown",
   "metadata": {},
   "source": [
    "## 명령행 인자 (Command Line Argument)\n",
    "\n",
    "    프로그램이 실행될 때 다양한 목적으로 사용될 수 있도록 해주는 인자"
   ]
  },
  {
   "cell_type": "code",
   "execution_count": null,
   "metadata": {},
   "outputs": [],
   "source": [
    "# pycharm에서 한거\n",
    "\n",
    "import sys\n",
    "\n",
    "# print(sys.argv[0])\n",
    "# print(sys.argv[1])\n",
    "\n",
    "#for arg in sys.argv:\n",
    "#    print(arg)\n",
    "\n",
    "#print(sys.argv[0:])"
   ]
  },
  {
   "cell_type": "code",
   "execution_count": null,
   "metadata": {},
   "outputs": [],
   "source": [
    "\"\"\"pycharm 이용\n",
    "PhoneBook.py\n",
    "--------------------\n",
    "데이터는 임의로 준비\n",
    "    홍길동. 010-1111-1111. 서울시 강남구\n",
    "    홍길리. 010-2222-1111. 서울시 강북구\n",
    "    홍길니. 010-1111-2112. 서울시 강동구\n",
    "    홍길디. 010-1211-1111. 서울시 강서구\n",
    "    ...\n",
    "    \n",
    "프로그램 실행 결과 \n",
    "---------------------\n",
    "python PhoneBook.py 홍길니                    #도스창에 저리 입력하면 밑에 뜨도록\n",
    "\n",
    "이름 : 홍길니\n",
    "전화번호 : 010-1111-2112\n",
    "주소 : 서울시 강동구\n",
    "\n",
    "\"\"\""
   ]
  },
  {
   "cell_type": "code",
   "execution_count": 24,
   "metadata": {},
   "outputs": [
    {
     "name": "stdout",
     "output_type": "stream",
     "text": [
      "['C:\\\\YS\\\\pythonwork\\\\Basic', 'C:\\\\Users\\\\acorn\\\\Anaconda3\\\\python37.zip', 'C:\\\\Users\\\\acorn\\\\Anaconda3\\\\DLLs', 'C:\\\\Users\\\\acorn\\\\Anaconda3\\\\lib', 'C:\\\\Users\\\\acorn\\\\Anaconda3', '', 'C:\\\\Users\\\\acorn\\\\Anaconda3\\\\lib\\\\site-packages', 'C:\\\\Users\\\\acorn\\\\Anaconda3\\\\lib\\\\site-packages\\\\win32', 'C:\\\\Users\\\\acorn\\\\Anaconda3\\\\lib\\\\site-packages\\\\win32\\\\lib', 'C:\\\\Users\\\\acorn\\\\Anaconda3\\\\lib\\\\site-packages\\\\Pythonwin', 'C:\\\\Users\\\\acorn\\\\Anaconda3\\\\lib\\\\site-packages\\\\IPython\\\\extensions', 'C:\\\\Users\\\\acorn\\\\.ipython']\n",
      "--------------------------------------------------\n",
      "win32\n",
      "--------------------------------------------------\n",
      "3.7.4 (default, Aug  9 2019, 18:34:13) [MSC v.1915 64 bit (AMD64)]\n"
     ]
    }
   ],
   "source": [
    "import sys\n",
    "\n",
    "print(sys.path)\n",
    "\n",
    "print(\"-\"*50)\n",
    "\n",
    "print(sys.platform)                         #윈도우 몇인지 알려줌\n",
    "\n",
    "print(\"-\"*50)\n",
    "\n",
    "print(sys.version)                           #현재 파이썬의 버전 알려줌\n",
    "\n",
    "# sys.exit()                                   #프로그램 완전히 종료시킴"
   ]
  },
  {
   "cell_type": "code",
   "execution_count": 25,
   "metadata": {},
   "outputs": [
    {
     "name": "stdout",
     "output_type": "stream",
     "text": [
      "C:\\YS\\pythonwork\\Basic\n"
     ]
    }
   ],
   "source": [
    "import os                     # 실제 운영체제에서 쓰는거 쓸수 있음\n",
    "\n",
    "print(os.getcwd())                #현재 작업하고있는 위치 알려줌\n",
    "\n",
    "\n",
    "print(\"-\"*50)\n",
    "\n",
    "\n",
    "print(os.system(\"dir\"))"
   ]
  },
  {
   "cell_type": "code",
   "execution_count": null,
   "metadata": {},
   "outputs": [],
   "source": [
    "# ostest.py 로 저장\n",
    "\n",
    "\n",
    "import os\n",
    "\n",
    "os.system(\"dir\")\n",
    "\n",
    "cmd = input(\"화면을 지우시겠습니까?(y/n)\")\n",
    "\n",
    "if cmd == \"y\":\n",
    "    os.system(\"cls\")\n",
    "    "
   ]
  },
  {
   "cell_type": "markdown",
   "metadata": {},
   "source": [
    "## 파일처리 함수\n",
    "\n",
    "    open(파일명(경로 포함). 모드) : 파일을 로드\n",
    "        - 모드 : r(읽기), w(저장), a(추가), rb(이진수읽기), wb, ab               # 어떤 목적으로 파일을 불러오는지\n",
    "        \n",
    "        \n",
    "    close() : 파일을 언로드                                           # open과 함께 써준다\n",
    "    \n",
    "    읽어올 때 : readline(), readlines(), read()\n",
    "    저장할 때 : write()\n",
    "    "
   ]
  },
  {
   "cell_type": "code",
   "execution_count": 37,
   "metadata": {},
   "outputs": [
    {
     "name": "stdout",
     "output_type": "stream",
     "text": [
      "<_io.TextIOWrapper name='C:\\\\YS\\\\pythonwork\\\\filetest.txt' mode='r' encoding='cp949'>\n",
      "abcdefg\n",
      "\n",
      "hijklmn\n",
      "\n",
      "opqrstu\n",
      "\n",
      "ㄱㄴㄷㄹ\n",
      "\n",
      "ㅁㅂㅅㅇ\n",
      "\n",
      "ㅈㅊㅋㅌ\n",
      "\n",
      "ㅍㅎ\n"
     ]
    }
   ],
   "source": [
    "f = open(\"C:\\\\YS\\\\pythonwork\\\\filetest.txt\",\"r\") # 파일을 메모리로 불러와서 읽히는 방법 # 절대경로:경로가 바뀌지않음 /어떤코드에 붙여도 항상 불러올수있음\n",
    "print(f)\n",
    "\n",
    "print(f.readline())                            # readline은 한줄씩 읽어오는 함수\n",
    "print(f.readline())\n",
    "print(f.readline())\n",
    "print(f.readline())\n",
    "print(f.readline())\n",
    "print(f.readline())\n",
    "print(f.readline())\n",
    "\n",
    "f.close()"
   ]
  },
  {
   "cell_type": "code",
   "execution_count": null,
   "metadata": {},
   "outputs": [],
   "source": [
    "# 절대 경로와 상대 경로"
   ]
  },
  {
   "cell_type": "code",
   "execution_count": 44,
   "metadata": {},
   "outputs": [
    {
     "name": "stdout",
     "output_type": "stream",
     "text": [
      "<_io.TextIOWrapper name='..\\\\filetest.txt' mode='r' encoding='cp949'>\n"
     ]
    }
   ],
   "source": [
    "f = open(\"..\\\\filetest.txt\",\"r\")       #..은 상위위치 나타냄 = 상대경로\n",
    "\n",
    "print(f)\n",
    "f.close()"
   ]
  },
  {
   "cell_type": "code",
   "execution_count": 45,
   "metadata": {},
   "outputs": [
    {
     "name": "stdout",
     "output_type": "stream",
     "text": [
      "<_io.TextIOWrapper name='C:\\\\YS\\\\pythonwork\\\\basic\\\\data\\\\filetest.txt' mode='r' encoding='cp949'>\n"
     ]
    }
   ],
   "source": [
    "f = open(\"C:\\\\YS\\\\pythonwork\\\\basic\\\\data\\\\filetest.txt\",\"r\")    # 절대경로 : 시작위치 정해져있음\n",
    "print(f)\n",
    "f.close()"
   ]
  },
  {
   "cell_type": "code",
   "execution_count": 46,
   "metadata": {},
   "outputs": [
    {
     "name": "stdout",
     "output_type": "stream",
     "text": [
      "<_io.TextIOWrapper name='data\\\\filetest.txt' mode='r' encoding='cp949'>\n"
     ]
    }
   ],
   "source": [
    "f = open(\"data\\\\filetest.txt\",\"r\")   # 상대경로 # filetest가 pythonwork 폴더와 data 폴더 두곳에 있으니 data 폴더에있는 것이라고 표시까지 해주기\n",
    "print(f)\n",
    "f.close()"
   ]
  },
  {
   "cell_type": "code",
   "execution_count": 47,
   "metadata": {},
   "outputs": [
    {
     "name": "stdout",
     "output_type": "stream",
     "text": [
      "<_io.TextIOWrapper name='.\\\\data\\\\filetest.txt' mode='r' encoding='cp949'>\n"
     ]
    }
   ],
   "source": [
    "f = open(\".\\\\data\\\\filetest.txt\",\"r\") #'.'=현재위치를 기준으로 해서 나타내라는 표시\n",
    "print(f)\n",
    "f.close()"
   ]
  },
  {
   "cell_type": "code",
   "execution_count": 52,
   "metadata": {},
   "outputs": [
    {
     "name": "stdout",
     "output_type": "stream",
     "text": [
      "abcdefg\n",
      "\n",
      "hijklmn\n",
      "\n",
      "opqrstu\n",
      "\n",
      "ㄱㄴㄷㄹ\n",
      "\n",
      "ㅁㅂㅅㅇ\n",
      "\n",
      "ㅈㅊㅋㅌ\n",
      "\n",
      "ㅍㅎ\n",
      "<class 'str'>\n"
     ]
    }
   ],
   "source": [
    "f = open(\"data\\\\filetest.txt\",\"r\") \n",
    "\n",
    "while True:\n",
    "    line = f.readline()\n",
    "    \n",
    "    if not line:                    # 라인의 값이 없다면, 읽어들일 줄이 없다면 stop\n",
    "        break\n",
    "        \n",
    "    print(line)\n",
    "    \n",
    "f.close()\n",
    "\n",
    "print(type(line))               # 외부장치로부터 입력받는 것은 다 문자열"
   ]
  },
  {
   "cell_type": "code",
   "execution_count": 55,
   "metadata": {},
   "outputs": [
    {
     "name": "stdout",
     "output_type": "stream",
     "text": [
      "abcdefg\n",
      "hijklmn\n",
      "opqrstu\n",
      "ㄱㄴㄷㄹ\n",
      "ㅁㅂㅅㅇ\n",
      "ㅈㅊㅋㅌ\n",
      "ㅍㅎ\n",
      "<class 'str'>\n"
     ]
    }
   ],
   "source": [
    "f = open(\"data\\\\filetest.txt\",\"r\") \n",
    "\n",
    "while True:\n",
    "    line = f.readline()\n",
    "    \n",
    "    if not line:                    # 라인의 값이 없다면, 읽어들일 줄이 없다면 stop\n",
    "        break\n",
    "        \n",
    "    print(line, end=\"\")          # print 자체에 enter키가 들어가있기 때문에 \n",
    "    \n",
    "f.close()\n",
    "\n",
    "print(type(line)) "
   ]
  },
  {
   "cell_type": "code",
   "execution_count": 56,
   "metadata": {},
   "outputs": [
    {
     "name": "stdout",
     "output_type": "stream",
     "text": [
      "['abcdefg\\n', 'hijklmn\\n', 'opqrstu\\n', 'ㄱㄴㄷㄹ\\n', 'ㅁㅂㅅㅇ\\n', 'ㅈㅊㅋㅌ\\n', 'ㅍㅎ']\n"
     ]
    }
   ],
   "source": [
    "# readlines() : 모든 행을 한꺼번에 읽어서 각각의 행을 요소로 갖는 리스트형으로 리턴 / 반복문을 쓸 필요가 없음\n",
    "\n",
    "f = open(\"data\\\\filetest.txt\",\"r\") \n",
    "lines = f.readlines()\n",
    "print(lines)                                  # 하나의 list로 묶어서 가져옴 / 맨끝에 줄바꿈 인자(\\n)가 다 들어가있음"
   ]
  },
  {
   "cell_type": "code",
   "execution_count": 61,
   "metadata": {},
   "outputs": [
    {
     "name": "stdout",
     "output_type": "stream",
     "text": [
      "['abcdefg\\n', 'hijklmn\\n', 'opqrstu\\n', 'ㄱㄴㄷㄹ\\n', 'ㅁㅂㅅㅇ\\n', 'ㅈㅊㅋㅌ\\n', 'ㅍㅎ']\n",
      "abcdefg\n",
      "\n",
      "hijklmn\n",
      "\n",
      "opqrstu\n",
      "\n",
      "ㄱㄴㄷㄹ\n",
      "\n",
      "ㅁㅂㅅㅇ\n",
      "\n",
      "ㅈㅊㅋㅌ\n",
      "\n",
      "ㅍㅎ\n",
      "<class 'list'>\n"
     ]
    }
   ],
   "source": [
    "f = open(\"data\\\\filetest.txt\",\"r\") \n",
    "lines = f.readlines()\n",
    "print(lines) \n",
    "\n",
    "for v in lines:                    # 한줄씩 나타내주기\n",
    "    print(v)\n",
    "    \n",
    "f.close()                  # 항상 해주기\n",
    "\n",
    "print(type(lines))              # 각각의 행을 list로 묶어 나타냈음을 볼 수 있다."
   ]
  },
  {
   "cell_type": "code",
   "execution_count": 63,
   "metadata": {},
   "outputs": [
    {
     "name": "stdout",
     "output_type": "stream",
     "text": [
      "abcdefg\n",
      "hijklmn\n",
      "opqrstu\n",
      "ㄱㄴㄷㄹ\n",
      "ㅁㅂㅅㅇ\n",
      "ㅈㅊㅋㅌ\n",
      "ㅍㅎ\n",
      "<class 'str'>\n"
     ]
    }
   ],
   "source": [
    "# read() : 모든 행을 한꺼번에 읽어서 문자열로 리턴\n",
    "\n",
    "f = open(\"data\\\\filetest.txt\",\"r\") \n",
    "data = f.read()\n",
    "print(data)\n",
    "print(type(data))              # 전체 데이터를 하나의 문자열로 나타냈음을 볼수있다."
   ]
  },
  {
   "cell_type": "code",
   "execution_count": 76,
   "metadata": {},
   "outputs": [
    {
     "name": "stdout",
     "output_type": "stream",
     "text": [
      "abcdefg\n",
      "hijklmn\n"
     ]
    }
   ],
   "source": [
    "f = open(\"data\\\\filetest.txt\",\"r\") \n",
    "data = f.read()\n",
    "\n",
    "sdata = data.split(\"\\n\")\n",
    "print(sdata[0])                            # 엔터키로 분리하면 각 한줄씩 접근할 수 있다.\n",
    "print(sdata[1])\n",
    "\n",
    "f.close()"
   ]
  },
  {
   "cell_type": "code",
   "execution_count": 74,
   "metadata": {},
   "outputs": [
    {
     "name": "stdout",
     "output_type": "stream",
     "text": [
      "0  :  abcdefg\n",
      "1  :  hijklmn\n",
      "2  :  opqrstu\n",
      "3  :  ㄱㄴㄷㄹ\n",
      "4  :  ㅁㅂㅅㅇ\n",
      "5  :  ㅈㅊㅋㅌ\n",
      "6  :  ㅍㅎ\n"
     ]
    }
   ],
   "source": [
    "f = open(\"data\\\\filetest.txt\",\"r\") \n",
    "data = f.read()\n",
    "\n",
    "sdata = data.split(\"\\n\")\n",
    "\n",
    "count = 0\n",
    "for line in sdata:\n",
    "    print(count,\" : \", line)\n",
    "    count += 1\n",
    "f.close()"
   ]
  },
  {
   "cell_type": "code",
   "execution_count": 79,
   "metadata": {},
   "outputs": [
    {
     "name": "stdout",
     "output_type": "stream",
     "text": [
      "0 : abcdefg\n",
      "1 : hijklmn\n",
      "2 : opqrstu\n",
      "3 : ㄱㄴㄷㄹ\n",
      "4 : ㅁㅂㅅㅇ\n",
      "5 : ㅈㅊㅋㅌ\n",
      "6 : ㅍㅎ\n"
     ]
    }
   ],
   "source": [
    "f = open(\"data\\\\filetest.txt\",\"r\") \n",
    "data = f.read()\n",
    "\n",
    "sdata = data.split(\"\\n\")\n",
    "\n",
    "for i,v in enumerate(sdata):\n",
    "    print(i,\":\", v)\n",
    "\n",
    "f.close()"
   ]
  },
  {
   "cell_type": "code",
   "execution_count": 87,
   "metadata": {},
   "outputs": [],
   "source": [
    "# write 사용\n",
    "\n",
    "f = open(\"data\\\\filetest2.txt\", \"w\")            # 저장하기용이므로 w 사용, 파일 없을 경우 저장할때는 자동생성됨\n",
    "\n",
    "\n",
    "f.write(\"이름 : 홍길동. \")\n",
    "f.write(\"전화 : 010-1111-1111. \")\n",
    "f.write(\"주소 : 서울시 강남구\\n\")\n",
    "\n",
    "f.write(\"이름 : johnson. \")\n",
    "f.write(\"전화 : 010-1122-2211. \")\n",
    "f.write(\"주소 : 서울시 강남구\\n\")        # filetest2 파일 들어가면 생성되어있고 작성되어있음을 볼 수 있다.\n",
    "\n",
    "f.close()"
   ]
  },
  {
   "cell_type": "code",
   "execution_count": 88,
   "metadata": {},
   "outputs": [],
   "source": [
    "f = open(\"data\\\\filetest2.txt\", \"a\")      # w를 쓰면 앞에 내용(홍길동, johnson)이 사라지고 새로운 내용만 남아있는 결과를 볼 수 있음\n",
    "                                            # a를 쓰면 추가됨을 볼 수 있음\n",
    "f.write(\"이름 : 유비. \")\n",
    "f.write(\"전화 : 010-5555-1555. \")\n",
    "f.write(\"주소 : 서울시 강북구\\n\")\n",
    "\n",
    "f.close()"
   ]
  },
  {
   "cell_type": "code",
   "execution_count": 96,
   "metadata": {},
   "outputs": [],
   "source": [
    "# csv (Comma Sperator Value) : , 로 구분되어있는 데이터들\n",
    "\n",
    "nums = [1, 2, 3, 4, 5, 6, 7, 8, 9]\n",
    "count = len(nums)\n",
    "\n",
    "f = open(\"data\\\\filetest3.csv\", 'w')\n",
    "\n",
    "for i in range(count):\n",
    "    if i < count -1:                                  # 마지막 전까지는 다 , 붙여주고 \n",
    "        f.write(str(nums[i]) + \",\")                  # str(1)로 하면 그냥 0-8까지 수 세는 것이므로 nums[#]로 작성해줌 #중간에 , 찍는법\n",
    "    else:\n",
    "        f.write(str(nums[i]))                        # 마지막은 ,  빼주기\n",
    "    \n",
    "f.close()                                   # 해당 폴더에 filetest3가 생긴것을 볼 수있음, notepad++ 을 통해 파일 안에 확인\n",
    "\n"
   ]
  },
  {
   "cell_type": "code",
   "execution_count": 98,
   "metadata": {},
   "outputs": [],
   "source": [
    "# close 자꾸 까먹을때\n",
    "\n",
    "nums = [1, 2, 3, 4, 5, 6, 7, 8, 9]\n",
    "count = len(nums)\n",
    "\n",
    "\n",
    "with open(\"data\\\\filetest3.csv\", 'w') as f1:       # f라는 변수는 with라는 공간 안에서만 쓸수 있음을 나타냄 / close 구문 안써도됨   \n",
    "    for i in range(count):\n",
    "        if i < count -1:                                 \n",
    "            f1.write(str(nums[i]) + \",\")  \n",
    "        else:\n",
    "            f1.write(str(nums[i]))\n",
    "            \n"
   ]
  },
  {
   "cell_type": "code",
   "execution_count": 102,
   "metadata": {},
   "outputs": [
    {
     "name": "stdout",
     "output_type": "stream",
     "text": [
      "abcdefg\n",
      "hijklmn\n",
      "opqrstu\n",
      "ㄱㄴㄷㄹ\n",
      "ㅁㅂㅅㅇ\n",
      "ㅈㅊㅋㅌ\n",
      "ㅍㅎ\n",
      "---------------\n",
      "\n",
      "파일 포인터 :  61\n"
     ]
    }
   ],
   "source": [
    "# 파일 접근 방법\n",
    "# 원칙적으로 순차 접근 방식이다. \n",
    "# 임의로 접근하는 함수를 제공 : seek(), tell()\n",
    "# 기준 위치 : 0 (default, 파일의 시작위치), 1(파일의 현재 위치), 2(파일의 끝 위치)\n",
    "\n",
    "\n",
    "\n",
    "with open(\"data\\\\filetest.txt\", \"r\") as f:\n",
    "    for line in f:                         # 반복문으로 돌리면 기본적으로 readline이 숨겨져있음\n",
    "        print(line, end=\"\")\n",
    "        \n",
    "    print(\"\\n---------------\\n\")\n",
    "    \n",
    "    print(\"파일 포인터 : \", f.tell())         # 쭉 읽어서 맨 마지막 위치(메모리의 위치)를 나타내줌"
   ]
  },
  {
   "cell_type": "code",
   "execution_count": 103,
   "metadata": {},
   "outputs": [
    {
     "name": "stdout",
     "output_type": "stream",
     "text": [
      "파일 포인터 :  0\n"
     ]
    }
   ],
   "source": [
    "with open(\"data\\\\filetest.txt\", \"r\") as f:\n",
    "        \n",
    "    print(\"파일 포인터 : \", f.tell())       # 아무것도 없으니 0의 위치에 있음"
   ]
  },
  {
   "cell_type": "code",
   "execution_count": 115,
   "metadata": {},
   "outputs": [
    {
     "name": "stdout",
     "output_type": "stream",
     "text": [
      "파일 포인터 :  0\n"
     ]
    }
   ],
   "source": [
    "# 기준 위치 : 0 (default, 파일의 시작위치), 1(파일의 현재 위치), 2(파일의 끝 위치)\n",
    "\n",
    "with open(\"data\\\\filetest.txt\", \"r\") as f:\n",
    " \n",
    "        \n",
    "    f.seek(0,0)                        # seek가 0을 나타내므로 파일 포인터는 맨 앞에 가있음을 알 수 있다.\n",
    "    print(\"파일 포인터 : \", f.tell())         \n",
    "    \n",
    "\n"
   ]
  },
  {
   "cell_type": "code",
   "execution_count": 116,
   "metadata": {},
   "outputs": [
    {
     "name": "stdout",
     "output_type": "stream",
     "text": [
      "ijklmn\n",
      "\n"
     ]
    }
   ],
   "source": [
    "with open(\"data\\\\filetest.txt\", \"r\") as f:\n",
    "\n",
    "        \n",
    "    f.seek(10, 0)           # 10번째 포인터를 시작으로 한줄 읽기\n",
    "    print(f.readline())"
   ]
  },
  {
   "cell_type": "code",
   "execution_count": 117,
   "metadata": {},
   "outputs": [
    {
     "name": "stdout",
     "output_type": "stream",
     "text": [
      "['1-변수와 자료형.ipynb', '2-제어문.ipynb', '3-함수.ipynb', 'data']\n"
     ]
    }
   ],
   "source": [
    "# 동시에 여러 개의 파일을 불러오는 방법\n",
    "\n",
    "import glob\n",
    "\n",
    "files = glob.glob(\"*\")\n",
    "print(files)                                    # 파일 목록들 가져옴 이름만 가져옴"
   ]
  },
  {
   "cell_type": "code",
   "execution_count": 119,
   "metadata": {},
   "outputs": [
    {
     "name": "stdout",
     "output_type": "stream",
     "text": [
      "['1-변수와 자료형.ipynb', '2-제어문.ipynb', '3-함수.ipynb']\n"
     ]
    }
   ],
   "source": [
    "import glob\n",
    "\n",
    "files = glob.glob(\"*.ipynb\")          # 해당 확장자 파일만 불러올수있음\n",
    "print(files)         "
   ]
  },
  {
   "cell_type": "code",
   "execution_count": 121,
   "metadata": {},
   "outputs": [
    {
     "name": "stdout",
     "output_type": "stream",
     "text": [
      "['1-변수와 자료형.ipynb', '2-제어문.ipynb', '3-함수.ipynb']\n"
     ]
    }
   ],
   "source": [
    "import glob\n",
    "\n",
    "files = glob.glob(\"*.*\")          # 폴더를 뺀 모든 확장자 파일 다 가져옴\n",
    "print(files)        "
   ]
  },
  {
   "cell_type": "markdown",
   "metadata": {},
   "source": [
    "## 재귀 함수(Recursive Function)"
   ]
  },
  {
   "cell_type": "code",
   "execution_count": 11,
   "metadata": {},
   "outputs": [],
   "source": [
    "def countDown(n):\n",
    "    if n == 0:\n",
    "        print(\"완료\")\n",
    "        return\n",
    "    else:\n",
    "        print(n)                   # 일반"
   ]
  },
  {
   "cell_type": "code",
   "execution_count": 9,
   "metadata": {},
   "outputs": [
    {
     "name": "stdout",
     "output_type": "stream",
     "text": [
      "5\n",
      "5\n",
      "4\n",
      "3\n",
      "2\n",
      "1\n",
      "완료\n"
     ]
    }
   ],
   "source": [
    "countDown(5)\n",
    "\n",
    "for i in range(5, -1, -1):          # 5부터 -1까지 -1씩 / 밖에서 반복하다 0 될 때 끝남\n",
    "    countDown(i)"
   ]
  },
  {
   "cell_type": "code",
   "execution_count": 16,
   "metadata": {},
   "outputs": [],
   "source": [
    "def countDown(n):\n",
    "    if n == 0:\n",
    "        print(\"완료\")\n",
    "        return\n",
    "    else:\n",
    "        print(n)\n",
    "        countDown(n-1)                               # 재귀 함수 : 자기가 자기 호출함 / 자기자신안에서 반복하다 0이 될때 끝남"
   ]
  },
  {
   "cell_type": "code",
   "execution_count": 17,
   "metadata": {},
   "outputs": [
    {
     "name": "stdout",
     "output_type": "stream",
     "text": [
      "5\n",
      "4\n",
      "3\n",
      "2\n",
      "1\n",
      "완료\n"
     ]
    }
   ],
   "source": [
    "countDown(5)"
   ]
  },
  {
   "cell_type": "code",
   "execution_count": 37,
   "metadata": {},
   "outputs": [
    {
     "name": "stdout",
     "output_type": "stream",
     "text": [
      "5\n",
      "4\n",
      "3\n",
      "2\n",
      "1\n"
     ]
    },
    {
     "data": {
      "text/plain": [
       "120"
      ]
     },
     "execution_count": 37,
     "metadata": {},
     "output_type": "execute_result"
    }
   ],
   "source": [
    "def factorial_iter(n):\n",
    "    count = 1                             # 곱셈이니까 0보단 1\n",
    "    \n",
    "    while n>0:\n",
    "        print(n)\n",
    "        count = count * n                # 일반\n",
    "        n = n - 1\n",
    "    \n",
    "    return count                         \n",
    "\n",
    "\n",
    "\n",
    "factorial_iter(5)"
   ]
  },
  {
   "cell_type": "code",
   "execution_count": 39,
   "metadata": {},
   "outputs": [
    {
     "name": "stdout",
     "output_type": "stream",
     "text": [
      "5\n",
      "4\n",
      "3\n",
      "2\n",
      "120\n"
     ]
    }
   ],
   "source": [
    "def factorial_recu(n):\n",
    "    if n == 1:\n",
    "        return 1\n",
    "   \n",
    "    print(n)\n",
    "    return n * factorial_recu(n-1)              # 재귀  \n",
    "\n",
    "\n",
    "\n",
    "\n",
    "print(factorial_recu(5))"
   ]
  },
  {
   "cell_type": "code",
   "execution_count": null,
   "metadata": {},
   "outputs": [],
   "source": []
  },
  {
   "cell_type": "code",
   "execution_count": null,
   "metadata": {},
   "outputs": [],
   "source": []
  },
  {
   "cell_type": "code",
   "execution_count": null,
   "metadata": {},
   "outputs": [],
   "source": []
  },
  {
   "cell_type": "code",
   "execution_count": null,
   "metadata": {},
   "outputs": [],
   "source": []
  },
  {
   "cell_type": "code",
   "execution_count": null,
   "metadata": {},
   "outputs": [],
   "source": []
  },
  {
   "cell_type": "code",
   "execution_count": null,
   "metadata": {},
   "outputs": [],
   "source": []
  },
  {
   "cell_type": "code",
   "execution_count": null,
   "metadata": {},
   "outputs": [],
   "source": []
  },
  {
   "cell_type": "code",
   "execution_count": null,
   "metadata": {},
   "outputs": [],
   "source": []
  },
  {
   "cell_type": "code",
   "execution_count": null,
   "metadata": {},
   "outputs": [],
   "source": []
  }
 ],
 "metadata": {
  "kernelspec": {
   "display_name": "Python 3",
   "language": "python",
   "name": "python3"
  },
  "language_info": {
   "codemirror_mode": {
    "name": "ipython",
    "version": 3
   },
   "file_extension": ".py",
   "mimetype": "text/x-python",
   "name": "python",
   "nbconvert_exporter": "python",
   "pygments_lexer": "ipython3",
   "version": "3.7.4"
  }
 },
 "nbformat": 4,
 "nbformat_minor": 2
}

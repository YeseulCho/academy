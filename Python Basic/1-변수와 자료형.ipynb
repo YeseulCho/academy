{
 "cells": [
  {
   "cell_type": "markdown",
   "metadata": {},
   "source": [
    "# 가장 큰 제목\n",
    "## 두번째로 큰 제목\n",
    "### 세번째\n",
    "#### 네번째\n",
    "\n",
    "\n",
    "가장큰제목\n",
    "========="
   ]
  },
  {
   "cell_type": "markdown",
   "metadata": {},
   "source": [
    "구분선\n",
    "\n",
    "---"
   ]
  },
  {
   "cell_type": "markdown",
   "metadata": {},
   "source": [
    "* 사과\n",
    "* 배\n",
    "* 포도\n",
    "\n",
    "-----\n",
    "\n",
    "+ 파이썬\n",
    "    + R\n",
    "        - tensorflow"
   ]
  },
  {
   "cell_type": "markdown",
   "metadata": {},
   "source": [
    "------"
   ]
  },
  {
   "cell_type": "markdown",
   "metadata": {},
   "source": [
    "# 1. 변수(Variable)"
   ]
  },
  {
   "cell_type": "code",
   "execution_count": 2,
   "metadata": {},
   "outputs": [],
   "source": [
    "# 별도의 절차없이 변수를 사용\n",
    "a = 2+3"
   ]
  },
  {
   "cell_type": "code",
   "execution_count": 3,
   "metadata": {},
   "outputs": [
    {
     "name": "stdout",
     "output_type": "stream",
     "text": [
      "5\n"
     ]
    }
   ],
   "source": [
    "print(a)"
   ]
  },
  {
   "cell_type": "code",
   "execution_count": 1,
   "metadata": {},
   "outputs": [
    {
     "name": "stdout",
     "output_type": "stream",
     "text": [
      "10\n",
      "<class 'int'>\n",
      "3.14\n",
      "홍길동\n",
      "10\n",
      "<class 'str'>\n"
     ]
    }
   ],
   "source": [
    "# type을 가리지 않는다.\n",
    "a = 10\n",
    "print(a)\n",
    "print(type(a))\n",
    "\n",
    "a = 3.14\n",
    "print(a)\n",
    "\n",
    "a = \"홍길동\"\n",
    "print(a)\n",
    "\n",
    "a = \"10\"\n",
    "print(a)\n",
    "print(type(a))"
   ]
  },
  {
   "cell_type": "code",
   "execution_count": 2,
   "metadata": {},
   "outputs": [
    {
     "name": "stdout",
     "output_type": "stream",
     "text": [
      "8791446889136\n",
      "8791446888976\n",
      "8791446889040\n"
     ]
    }
   ],
   "source": [
    "# 수정 불가\n",
    "a = 10\n",
    "print(id(a))\n",
    "\n",
    "a = 5\n",
    "print(id(a))\n",
    "\n",
    "a = 7\n",
    "print(id(a))\n"
   ]
  },
  {
   "cell_type": "markdown",
   "metadata": {},
   "source": [
    "# 2. 자료형\n",
    "\n",
    "    + 종류\n",
    "            - 기본 자료형 : int, float, str, complex, function, \n",
    "            - 집합 자료형 : list, tuple, set, dict\n",
    "            \n",
    "    + 수정 가능성에 따른 불류\n",
    "            - 수정 불가능 : int, float, str, tuple, cool, complex\n",
    "            - 수정 가능 : list, dict, set"
   ]
  },
  {
   "cell_type": "code",
   "execution_count": 6,
   "metadata": {},
   "outputs": [
    {
     "name": "stdout",
     "output_type": "stream",
     "text": [
      "abc\n"
     ]
    }
   ],
   "source": [
    "# 문자열\n",
    "a = \"a\"\n",
    "a = \"ab\"\n",
    "a = \"abc\"\n",
    "# a = \"10\" + 10 # 에러 발생\n",
    "\n",
    "print(a)"
   ]
  },
  {
   "cell_type": "code",
   "execution_count": 8,
   "metadata": {},
   "outputs": [
    {
     "name": "stdout",
     "output_type": "stream",
     "text": [
      "쌍따옴표(혿따옴표) 3개는 \n",
      "여러줄의       문자열을 \n",
      "사용할수있다.\n"
     ]
    }
   ],
   "source": [
    "a = \"\"\"쌍따옴표(혿따옴표) 3개는 \n",
    "여러줄의       문자열을 \n",
    "사용할수있다.\"\"\"\n",
    "\n",
    "print(a)"
   ]
  },
  {
   "cell_type": "code",
   "execution_count": 12,
   "metadata": {},
   "outputs": [
    {
     "name": "stdout",
     "output_type": "stream",
     "text": [
      "abc\n",
      "\n",
      "def\n",
      "abc\tdef\n"
     ]
    }
   ],
   "source": [
    "# 특수 문자(제어문자) : \\문자\n",
    "\n",
    "a = \"abc\\n\\ndef\"\n",
    "print(a)\n",
    "\n",
    "b = \"abc\\tdef\"\n",
    "print(b)"
   ]
  },
  {
   "cell_type": "code",
   "execution_count": 24,
   "metadata": {},
   "outputs": [
    {
     "name": "stdout",
     "output_type": "stream",
     "text": [
      "\\n은 줄바꿈 문자입니다.\n",
      "\"\\t는 탭키의 기능이다.\"\n",
      "\\n은 줄 바꿈 문자입니다.\n"
     ]
    }
   ],
   "source": [
    "# escape문자 : \\\n",
    "\n",
    "# \\n은 줄바꿈 문자입니다.\n",
    "a = \"\\\\n은 줄바꿈 문자입니다.\"\n",
    "print(a)\n",
    "\n",
    "# \\t는 탭키의 기능이다.\n",
    "b = \"\\\"\\\\t는 탭키의 기능이다.\\\"\"\n",
    "print(b)\n",
    "\n",
    "c = r\"\\n은 줄 바꿈 문자입니다.\"\n",
    "print(c)"
   ]
  },
  {
   "cell_type": "code",
   "execution_count": 30,
   "metadata": {},
   "outputs": [
    {
     "name": "stdout",
     "output_type": "stream",
     "text": [
      "35\n"
     ]
    }
   ],
   "source": [
    "# \\ : 코드를 다음줄로 작성할 때(코드를 이어주는 기능)\n",
    "\n",
    "var1 = 10 * 2 - 3 + 5 \\\n",
    "      + 6 + 7\n",
    "print(var1)"
   ]
  },
  {
   "cell_type": "code",
   "execution_count": 1,
   "metadata": {},
   "outputs": [
    {
     "name": "stdout",
     "output_type": "stream",
     "text": [
      "('Python', ' is fun', 100)\n",
      "Python is fun100\n",
      "PythonPythonPython\n"
     ]
    }
   ],
   "source": [
    "# 문자열 연결\n",
    "\n",
    "head = \"Python\"\n",
    "tail = \" is fun\"\n",
    "num = 100\n",
    "\n",
    "str1 = head, tail, num\n",
    "print(str1)\n",
    "\n",
    "str2 = head + tail + str(num)\n",
    "print(str2)\n",
    "\n",
    "str3 = head * 3\n",
    "print(str3)"
   ]
  },
  {
   "cell_type": "code",
   "execution_count": 6,
   "metadata": {},
   "outputs": [
    {
     "name": "stdout",
     "output_type": "stream",
     "text": [
      "o\n",
      "n\n",
      "o\n",
      "t o o\n",
      "too\n"
     ]
    }
   ],
   "source": [
    "# Indexing\n",
    "\n",
    "str1 = \"Life is too short, you need python\"\n",
    "print(str1[10])\n",
    "print(str1[-1])\n",
    "print(str1[-2])\n",
    "print(str1[8], str1[9], str1[10])\n",
    "print(str1[8] + str1[9] + str1[10])"
   ]
  },
  {
   "cell_type": "code",
   "execution_count": 12,
   "metadata": {
    "scrolled": true
   },
   "outputs": [
    {
     "name": "stdout",
     "output_type": "stream",
     "text": [
      "Life\n",
      "s too short, you need python\n",
      "Life\n",
      "Life is too short, you need python\n",
      "ho\n"
     ]
    }
   ],
   "source": [
    "# Slicing\n",
    "print(str1[0 : 4])\n",
    "print(str1[6 : ])\n",
    "print(str1[ : 4])\n",
    "print(str1[ : ])\n",
    "print(str1[-3 : -1])"
   ]
  },
  {
   "cell_type": "code",
   "execution_count": 17,
   "metadata": {},
   "outputs": [
    {
     "name": "stdout",
     "output_type": "stream",
     "text": [
      "pithon\n",
      "python\n"
     ]
    }
   ],
   "source": [
    "# 수정\n",
    "str1 = \"pithon\"\n",
    "# str1 = \"python\"\n",
    "# str1[1] = \"y\" 절대 안됨\n",
    "print(str1)\n",
    "\n",
    "b = str1[:1] + \"y\" + str1[2:]\n",
    "print(b)"
   ]
  },
  {
   "cell_type": "code",
   "execution_count": 53,
   "metadata": {},
   "outputs": [
    {
     "name": "stdout",
     "output_type": "stream",
     "text": [
      "a,b,c,d,e,f,g\n",
      "====================\n",
      "['Life', 'is', 'too', 'short']\n",
      "['홍길동', ' 홍경래', ' 임경업', ' 임꺽정']\n",
      "====================\n",
      "2 18\n",
      "====================\n",
      "1 1\n",
      "-1\n",
      "====================\n",
      "python\n",
      "python\n",
      "Hello, python!\n",
      "1이3사5육칠팔구\n"
     ]
    }
   ],
   "source": [
    "# count(), find(), index(), join(), split(), ...\n",
    "str1 = \",\"\n",
    "str2 = \"abcdefg\"\n",
    "str3 = str1.join(str2)\n",
    "print(str3)\n",
    "\n",
    "print(\"=\" * 20)\n",
    "\n",
    "str1 = \"Life is too short\"\n",
    "str2 = str1.split()\n",
    "print(str2)\n",
    "\n",
    "str1 = \"홍길동, 홍경래, 임경업, 임꺽정\"\n",
    "str2 = str1.split(\",\")\n",
    "print(str2)\n",
    "\n",
    "print(\"=\" * 20)\n",
    "\n",
    "print(str1.count(\"홍\"), len(str1))\n",
    "\n",
    "print(\"=\" * 20)\n",
    "\n",
    "print(str1.index(\"길\"), str1.find(\"길\"))\n",
    "# print(str1. index(\"김\"))\n",
    "print(str1.find(\"김\"))\n",
    "\n",
    "print(\"=\" * 20)\n",
    "\n",
    "# 공백 제거 : lstrip(), rstrip(), strip()\n",
    "str1 = \"                     python\".lstrip()\n",
    "print(str1)\n",
    "\n",
    "str1 = \".,python\".lstrip(\".,\")\n",
    "print(str1)\n",
    "\n",
    "# 바꾸기 : replace(), maketrans(), traslate()\n",
    "str1 = \"Hello, World!\"\n",
    "str2 = str1.replace(\"World\",\"python\")\n",
    "\n",
    "str1 = \"일이삼사오육칠팔구\"\n",
    "str2 = str1.translate(str1.maketrans(\"일삼오\",\"135\"))\n",
    "print(str2)\n"
   ]
  },
  {
   "cell_type": "code",
   "execution_count": 61,
   "metadata": {},
   "outputs": [
    {
     "name": "stdout",
     "output_type": "stream",
     "text": [
      "덧셈결과: 3 + 4 = 7\n",
      "덧셈결과: 3 + 4 = 7\n",
      "덧셈결과: 3 + 4 = 7 \n",
      " 덧셈결과가 맞습니까?\n",
      "덧셈결과 : 3 + 4 = 7\n"
     ]
    }
   ],
   "source": [
    "# format(,), $\n",
    "\n",
    "\"덧셈결과 : 3 + 4 = 7\"\n",
    "# num1 = 3\n",
    "# num2 = 4\n",
    "num1, num2 = 3, 4\n",
    "\n",
    "print(\"{}결과: {} + {} = {}\".format(\"덧셈\", num1, num2, num1+num2))\n",
    "\n",
    "print(\"{0}결과: {2} + {3} = {1}\".format(\"덧셈\", num1+num2, num1, num2))\n",
    "\n",
    "print(\"{0}결과: {2} + {3} = {1} \\n {0}결과가 맞습니까?\".format(\"덧셈\", num1+num2, num1, num2))\n",
    "\n",
    "print(\"%s결과 : %d + %d = %d\"%(\"덧셈\", num1, num2, num1+num2))"
   ]
  },
  {
   "cell_type": "markdown",
   "metadata": {},
   "source": [
    "### list\n",
    "    + 임의의 객체를 순차적으로 저장하는 집합적 자료형\n",
    "    + 각 값에 대해서 인덱스가 부여\n",
    "    + 변경 가능\n",
    "    + [ ]사용\n",
    "   "
   ]
  },
  {
   "cell_type": "code",
   "execution_count": 66,
   "metadata": {},
   "outputs": [
    {
     "name": "stdout",
     "output_type": "stream",
     "text": [
      "['James', 178, 80.0, True]\n",
      "<class 'list'>\n",
      "178 True\n",
      "84274888\n",
      "['James', 180, 80.0, True]\n",
      "84274888\n"
     ]
    }
   ],
   "source": [
    "a = 10\n",
    "b = 11\n",
    "c = 12\n",
    "\n",
    "a = [10, 11, 12]\n",
    "a = [\"James\", 178, 80.0, True]\n",
    "\n",
    "print(a)\n",
    "print(type(a))\n",
    "print(a[1], a[3])\n",
    "print(id(a))\n",
    "\n",
    "a[1] = 180\n",
    "print(a)\n",
    "print(id(a))"
   ]
  },
  {
   "cell_type": "code",
   "execution_count": 70,
   "metadata": {},
   "outputs": [
    {
     "name": "stdout",
     "output_type": "stream",
     "text": [
      "[1, 2, 3, '가', 3.14, ['a', 'b', 'c']]\n",
      "['a', 'b', 'c']\n",
      "['a', 'b', 'c']\n",
      "b\n"
     ]
    }
   ],
   "source": [
    "# indexing\n",
    "\n",
    "a = [1, 2, 3, \"가\", 3.14, [\"a\", \"b\", \"c\"]]\n",
    "print(a)\n",
    "print(a[5])\n",
    "print(a[-1])\n",
    "print(a[5][1])"
   ]
  },
  {
   "cell_type": "code",
   "execution_count": 72,
   "metadata": {},
   "outputs": [
    {
     "name": "stdout",
     "output_type": "stream",
     "text": [
      "[10, 2, 3, 4, 5]\n",
      "[10, 2, 3, 4, 5]\n",
      "====================\n",
      "[1, 2, 3, 4, 5]\n",
      "[10, 2, 3, 4, 5]\n"
     ]
    }
   ],
   "source": [
    "# 복사(얕은 복사, 깊은 복사)\n",
    "\n",
    "# 얕은 복사\n",
    "\n",
    "a = [1, 2, 3, 4, 5]\n",
    "b = a\n",
    "b[0] = 10\n",
    "print(a)\n",
    "print(b)\n",
    "\n",
    "print(\"=\"*20)\n",
    "\n",
    "# 깊은 복사\n",
    "\n",
    "a = [1, 2, 3, 4, 5]\n",
    "b = a[:]\n",
    "b[0] = 10\n",
    "print(a)\n",
    "print(b)"
   ]
  },
  {
   "cell_type": "code",
   "execution_count": 77,
   "metadata": {},
   "outputs": [
    {
     "name": "stdout",
     "output_type": "stream",
     "text": [
      "[0, 1, 2, 3, 4, 5, 6, 7, 8, 9]\n",
      "[5, 6, 7, 8, 9, 10, 11]\n",
      "[5, 6, 7, 8, 9, 10, 11]\n",
      "[5, 7, 9, 11]\n",
      "[-4, -2, 0, 2, 4, 6, 8]\n",
      "[10, 9, 8, 7, 6, 5, 4, 3, 2]\n"
     ]
    }
   ],
   "source": [
    "# 리스트 만들기\n",
    "\n",
    "a = []\n",
    "a = list()\n",
    "a = [0, 1, 2, 3]\n",
    "\n",
    "a = list(range(10))\n",
    "print(a)\n",
    "\n",
    "a = list(range(5, 12))\n",
    "print(a)\n",
    "\n",
    "a = list(range(5, 12, 1))\n",
    "print(a)\n",
    "\n",
    "a = list(range(5, 12, 2))\n",
    "print(a)\n",
    "\n",
    "a = list(range(-4, 10, 2))\n",
    "print(a)\n",
    "\n",
    "a = list(range(10,1, -1))\n",
    "print(a)"
   ]
  },
  {
   "cell_type": "code",
   "execution_count": 81,
   "metadata": {},
   "outputs": [
    {
     "name": "stdout",
     "output_type": "stream",
     "text": [
      "[1, 2, 3, 4, 5, 6]\n",
      "[1, 2, 3, 1, 2, 3, 1, 2, 3]\n",
      "2hi\n"
     ]
    }
   ],
   "source": [
    "# 연산\n",
    "\n",
    "a = [1, 2, 3]\n",
    "b = [4, 5, 6]\n",
    "\n",
    "print(a + b)\n",
    "print(a * 3)\n",
    "print(str(a[1]) + \"hi\")"
   ]
  },
  {
   "cell_type": "code",
   "execution_count": 2,
   "metadata": {},
   "outputs": [
    {
     "data": {
      "text/plain": [
       "['a', 'b', 'c']"
      ]
     },
     "execution_count": 2,
     "metadata": {},
     "output_type": "execute_result"
    }
   ],
   "source": [
    "a = list()\n",
    "b = str()\n",
    "c = int()\n",
    "d = float()\n",
    "\n",
    "e = 'a', 'b', 'c'\n",
    "f = list(e)\n",
    "print(type(f))"
   ]
  },
  {
   "cell_type": "code",
   "execution_count": 97,
   "metadata": {},
   "outputs": [
    {
     "name": "stdout",
     "output_type": "stream",
     "text": [
      "[0, 1, 2, 3]\n",
      "[0, 1, 20, 2, 3]\n",
      "[0, 1, 20, 2, 3, 4]\n",
      "[0, 1, 20, 2, 3, 4, 5, 6, 7]\n",
      "[0, 1, 20, 2, 3, 4, 5, 6, 7, [6, 7, 8]]\n",
      "[0, 1, 20, 2, 3, 4, 5, 6, 7, [6, 7, 8], 12, 13]\n"
     ]
    }
   ],
   "source": [
    "# 추가 : insert(), append(), extent()\n",
    "\n",
    "a = [1, 2, 3]\n",
    "a.insert(0, 0)\n",
    "print(a)\n",
    "\n",
    "a.insert(2,20)\n",
    "print(a)\n",
    "\n",
    "a.append(4)\n",
    "print(a)\n",
    "\n",
    "a.extend([5, 6, 7])\n",
    "print(a)\n",
    "\n",
    "a.append([6, 7, 8])\n",
    "print(a)\n",
    "\n",
    "# a = a + [12, 13]\n",
    "a += [12, 13]\n",
    "print(a)"
   ]
  },
  {
   "cell_type": "code",
   "execution_count": 99,
   "metadata": {},
   "outputs": [
    {
     "name": "stdout",
     "output_type": "stream",
     "text": [
      "[1, 2, 3, 4]\n",
      "[4, 3, 2, 1]\n"
     ]
    }
   ],
   "source": [
    "    # 정렬\n",
    "\n",
    "    a = [1, 4, 3, 2]\n",
    "    a.sort()\n",
    "    print(a)\n",
    "    a.reverse()\n",
    "    print(a)"
   ]
  },
  {
   "cell_type": "code",
   "execution_count": 106,
   "metadata": {},
   "outputs": [
    {
     "name": "stdout",
     "output_type": "stream",
     "text": [
      "[1, 1, 2, 3]\n",
      "[1, 2, 1, 2, 3]\n",
      "[1, 2, 1, 3]\n",
      "[1, 2]\n",
      "3\n"
     ]
    }
   ],
   "source": [
    "# 제거\n",
    "\n",
    "a = [1, 2, 3, 1, 2, 3]\n",
    "a[1:3] = []\n",
    "print(a)\n",
    "\n",
    "a = [1, 2, 3, 1, 2, 3]\n",
    "a.remove(3)\n",
    "print(a)\n",
    "\n",
    "del a[3]\n",
    "print(a)\n",
    "\n",
    "# del a\n",
    "# print(a)  <- Error\n",
    "\n",
    "a = [1, 2, 3]\n",
    "b = a.pop()\n",
    "print(a)\n",
    "print(b)"
   ]
  },
  {
   "cell_type": "code",
   "execution_count": 108,
   "metadata": {},
   "outputs": [
    {
     "name": "stdout",
     "output_type": "stream",
     "text": [
      "True\n",
      "False\n"
     ]
    }
   ],
   "source": [
    "# 포함 여부\n",
    "\n",
    "a = [1, 2, 3, 4, 5]\n",
    "print(2 in a)\n",
    "print(2 not in a)"
   ]
  },
  {
   "cell_type": "markdown",
   "metadata": {},
   "source": [
    "### tuple\n",
    "\n",
    "    + list와 거의 동일\n",
    "    + \"( )\"를 사용\n",
    "    + 변경 불가"
   ]
  },
  {
   "cell_type": "code",
   "execution_count": 113,
   "metadata": {},
   "outputs": [
    {
     "name": "stdout",
     "output_type": "stream",
     "text": [
      "('a', 'b', 'c', 'd')\n",
      "<class 'tuple'>\n",
      "4\n",
      "1\n",
      "1\n"
     ]
    }
   ],
   "source": [
    "a = ('a', 'b', 'c', 'd')\n",
    "print(a)\n",
    "print(type(a))\n",
    "print(len(a))\n",
    "print(a.count('c'))\n",
    "print(a.index('b'))"
   ]
  },
  {
   "cell_type": "code",
   "execution_count": 117,
   "metadata": {
    "scrolled": true
   },
   "outputs": [
    {
     "name": "stdout",
     "output_type": "stream",
     "text": [
      "<class 'list'>\n",
      "['a', 10, 'c', 'd']\n",
      "('a', 10, 'c', 'd')\n"
     ]
    }
   ],
   "source": [
    "# a[1] = 10\n",
    "b = list(a)\n",
    "print(type(b))\n",
    "b[1] = 10\n",
    "print(b)\n",
    "\n",
    "c = tuple(b)\n",
    "print(c)"
   ]
  },
  {
   "cell_type": "code",
   "execution_count": 118,
   "metadata": {},
   "outputs": [
    {
     "name": "stdout",
     "output_type": "stream",
     "text": [
      "10 20 30\n"
     ]
    }
   ],
   "source": [
    "a, b, c = 10, 20, 30\n",
    "a = (10, 20, 30)   # packing\n",
    "a1, a2, a3 = a     # unpacking\n",
    "print(a1, a2, a3)"
   ]
  },
  {
   "cell_type": "markdown",
   "metadata": {},
   "source": [
    "### dict(dictionary)\n",
    "    + 순서가 없다\n",
    "    + {키:값}\n",
    "    + 키를 이용해서 값을 조회"
   ]
  },
  {
   "cell_type": "code",
   "execution_count": 128,
   "metadata": {},
   "outputs": [
    {
     "name": "stdout",
     "output_type": "stream",
     "text": [
      "{'name': '홍길동', 'phone': '111-1111', 'age': 25}\n",
      "<class 'dict'>\n",
      "홍길동 111-1111 25\n",
      "홍길동\n",
      "dict_keys(['name', 'phone', 'age'])\n",
      "dict_values(['홍길동', '111-1111', 25])\n",
      "dict_items([('name', '홍길동'), ('phone', '111-1111'), ('age', 25)])\n",
      "<class 'dict_items'>\n",
      "<class 'list'>\n"
     ]
    }
   ],
   "source": [
    "a = {\"name\":\"홍길동\", \"phone\":\"111-1111\", \"age\":25}\n",
    "print(a)\n",
    "print(type(a))\n",
    "\n",
    "# print(a[0])\n",
    "print(a[\"name\"], a[\"phone\"], a[\"age\"])\n",
    "print(a.get(\"name\"))\n",
    "\n",
    "print(a.keys())\n",
    "print(a.values())\n",
    "print(a.items())\n",
    "\n",
    "b = a.items()\n",
    "print(type(b))\n",
    "\n",
    "b = list(a.items())\n",
    "print(type(b))"
   ]
  },
  {
   "cell_type": "code",
   "execution_count": 129,
   "metadata": {},
   "outputs": [
    {
     "name": "stdout",
     "output_type": "stream",
     "text": [
      "{'name': '임꺽정', 'phone': '111-1111', 'age': 25}\n"
     ]
    }
   ],
   "source": [
    "a[\"name\"] = \"임꺽정\"\n",
    "print(a)"
   ]
  },
  {
   "cell_type": "code",
   "execution_count": 133,
   "metadata": {},
   "outputs": [
    {
     "ename": "KeyError",
     "evalue": "'age'",
     "output_type": "error",
     "traceback": [
      "\u001b[1;31m---------------------------------------------------------------------------\u001b[0m",
      "\u001b[1;31mKeyError\u001b[0m                                  Traceback (most recent call last)",
      "\u001b[1;32m<ipython-input-133-4f67061c6017>\u001b[0m in \u001b[0;36m<module>\u001b[1;34m\u001b[0m\n\u001b[1;32m----> 1\u001b[1;33m \u001b[1;32mdel\u001b[0m \u001b[0ma\u001b[0m\u001b[1;33m[\u001b[0m\u001b[1;34m\"age\"\u001b[0m\u001b[1;33m]\u001b[0m\u001b[1;33m\u001b[0m\u001b[1;33m\u001b[0m\u001b[0m\n\u001b[0m\u001b[0;32m      2\u001b[0m \u001b[0mprint\u001b[0m\u001b[1;33m(\u001b[0m\u001b[0ma\u001b[0m\u001b[1;33m)\u001b[0m\u001b[1;33m\u001b[0m\u001b[1;33m\u001b[0m\u001b[0m\n",
      "\u001b[1;31mKeyError\u001b[0m: 'age'"
     ]
    }
   ],
   "source": [
    "del a[\"age\"]\n",
    "print(a)"
   ]
  },
  {
   "cell_type": "code",
   "execution_count": 134,
   "metadata": {},
   "outputs": [
    {
     "name": "stdout",
     "output_type": "stream",
     "text": [
      "{}\n"
     ]
    }
   ],
   "source": [
    "a.clear()\n",
    "print(a)"
   ]
  },
  {
   "cell_type": "code",
   "execution_count": 136,
   "metadata": {},
   "outputs": [
    {
     "name": "stdout",
     "output_type": "stream",
     "text": [
      "{'name': '홍길동', 'phone': '111-1111', 'age': 20}\n"
     ]
    }
   ],
   "source": [
    "a = dict(name=\"홍길동\", phone=\"111-1111\", age=20)\n",
    "print(a)"
   ]
  },
  {
   "cell_type": "markdown",
   "metadata": {},
   "source": [
    "### set\n",
    "\n",
    "    + \"{ }\" 를 사용\n",
    "    + 순서가 없다.\n",
    "    + 중복 불가"
   ]
  },
  {
   "cell_type": "code",
   "execution_count": 140,
   "metadata": {},
   "outputs": [
    {
     "name": "stdout",
     "output_type": "stream",
     "text": [
      "{1, 2, 3}\n",
      "3\n"
     ]
    }
   ],
   "source": [
    "a = {1, 2, 3, 1}\n",
    "print(a)\n",
    "print(len(a))\n",
    "# print(a[0])"
   ]
  },
  {
   "cell_type": "code",
   "execution_count": 143,
   "metadata": {},
   "outputs": [
    {
     "name": "stdout",
     "output_type": "stream",
     "text": [
      "{1, 2, 3, 4, 5, 6, 7, 8, 9}\n",
      "{4, 5, 6}\n",
      "{1, 2, 3}\n"
     ]
    }
   ],
   "source": [
    "s1 = {1, 2, 3, 4, 5, 6}\n",
    "s2 = {4, 5, 6, 7, 8, 9}\n",
    "\n",
    "# 합집합\n",
    "print(s1.union(s2))\n",
    "\n",
    "# 교집합\n",
    "print(s1.intersection(s2))\n",
    "\n",
    "# 차집합\n",
    "print(s1.difference(s2))"
   ]
  },
  {
   "cell_type": "code",
   "execution_count": 154,
   "metadata": {},
   "outputs": [
    {
     "name": "stdout",
     "output_type": "stream",
     "text": [
      "{1, 2, 3, 4, 5, 6, 7, 8}\n",
      "{1, 2, 3, 4, 5, 6, 7, 9, 8}\n",
      "{1, 2, 3, 4, 5, 6, 7, 8}\n",
      "{1, 2, 3, 4, 5, 6, 7}\n",
      "{1, 2, 3, 4, 5, 6, 7}\n"
     ]
    }
   ],
   "source": [
    "# 여러 개 추가\n",
    "s1.update({7, 8})\n",
    "print(s1)\n",
    "\n",
    "# 한개 추가\n",
    "s1.add(9)\n",
    "print(s1)\n",
    "\n",
    "# 데이터 삭제\n",
    "s1.remove(9)\n",
    "print(s1)\n",
    "\n",
    "s1.discard(8)\n",
    "print(s1)\n",
    "\n",
    "# s1.remove(10)   <-없는 값 삭제하려하면 error뜸\n",
    "s1.discard(10)\n",
    "print(s1)"
   ]
  },
  {
   "cell_type": "code",
   "execution_count": 155,
   "metadata": {},
   "outputs": [
    {
     "name": "stdout",
     "output_type": "stream",
     "text": [
      "{1, 2, 3, 4}\n"
     ]
    }
   ],
   "source": [
    "a = {1, 2, 3, 4, 4, 2}\n",
    "b = set(a)\n",
    "print(b)"
   ]
  },
  {
   "cell_type": "markdown",
   "metadata": {},
   "source": [
    "# 3. 연산자\n",
    "\n",
    "### 1) 산술연산자\n",
    "        \n",
    "        *(곱셈)  /(몫)  +(덧셈)  -(뺄샘)  %(나머지)  //(나눴을때 소수점 없애고 정수값만 나타냄)  **(거듭제곱)\n",
    "        결과값이 수치로 나옴\n",
    "        \n",
    "        \n",
    "### 2) 비교연산자\n",
    "\n",
    "        >  <  >=  <=  ==(같다)  !=(같지않다)  \n",
    "        결과가 T or F 로 나옴\n",
    "        \n",
    "        \n",
    "### 3) 논리연산자(단락 회로)\n",
    "\n",
    "        and(이항 연산자, 모두 만족할때)  or(이항 연산자, 단 하나만 만족해도 ok)  not(단항 연산자, 토글(참은 거짓으로 거짓은 참으로))  \n",
    "        결과가 T of F 로 나옴\n",
    "\n",
    "\n",
    "### 4) 대입(치환, 할당) 연산자\n",
    "        \n",
    "        =  +=  -=  *=  /=  ... (대입은 대입인데 다른 연산자랑 합쳐서 사용)\n",
    "        \n",
    "        \n",
    "=================================================================================================================\n",
    "\n",
    "### 5) 포함 여부 연산자\n",
    "    \n",
    "        in      not in      \n",
    "        \n",
    "        \n",
    "### 6) 비트 연산자\n",
    "        (이진수로 다루는 연산자, 사람이 사용하긴 어렵지만 기계가 사용하기엔 빠른 쓰기는 불편하지만 속도는 빠름)\n",
    "        \n",
    "        &(and)  |(or)  ^(xor, exclusive or, 배타적인 연산자 / 암호, 복호 쓰는데 탁월)  ~  <<  >>  ...\n",
    "              \n",
    "            a\tb\ta&b\ta|b\ta^b\n",
    "            *********************************\n",
    "            T\tT\tT\tT\tF(서로 같으면 F)\n",
    "            T\tF\tF\tT\tT(서로 다르면 T)\n",
    "            F\tT\tF\tT\tT\n",
    "            F\tF\tT\tF\tF\n",
    "\n",
    "\n",
    "\n",
    "        "
   ]
  },
  {
   "cell_type": "code",
   "execution_count": 159,
   "metadata": {},
   "outputs": [
    {
     "name": "stdout",
     "output_type": "stream",
     "text": [
      "2\n",
      "1.6666666666666667\n",
      "1\n",
      "125\n"
     ]
    }
   ],
   "source": [
    "# 산술 연산자\n",
    "print( 5%3)\n",
    "print( 5/3)\n",
    "print(5//3)\n",
    "print(5**3)"
   ]
  },
  {
   "cell_type": "code",
   "execution_count": 161,
   "metadata": {},
   "outputs": [
    {
     "name": "stdout",
     "output_type": "stream",
     "text": [
      "3\n",
      "9\n"
     ]
    }
   ],
   "source": [
    "# 대입 연산자\n",
    "\n",
    "a = 1\n",
    "a = 5\n",
    "a = 3\n",
    "print(a)\n",
    "\n",
    "a = 1\n",
    "a += 5  # a = a + 5\n",
    "a += 3  # a = a + 3\n",
    "print(a)"
   ]
  },
  {
   "cell_type": "code",
   "execution_count": 165,
   "metadata": {},
   "outputs": [
    {
     "name": "stdout",
     "output_type": "stream",
     "text": [
      "False\n",
      "False\n",
      "6\n",
      "4\n"
     ]
    }
   ],
   "source": [
    "# 비트 연산자\n",
    "print(12>5 and 6<=3)\n",
    "print(12>5 & 6<=3)\n",
    "\n",
    "print(12 and 6)\n",
    "print(12 & 6)\n"
   ]
  },
  {
   "cell_type": "code",
   "execution_count": 169,
   "metadata": {},
   "outputs": [
    {
     "name": "stdout",
     "output_type": "stream",
     "text": [
      "암호화 :  35493079\n",
      "복호화 :  648723\n"
     ]
    }
   ],
   "source": [
    "password = 648723\n",
    "key = 34894532\n",
    "\n",
    "encode = password ^ key\n",
    "print(\"암호화 : \", encode)\n",
    "\n",
    "decode = encode ^ key\n",
    "print(\"복호화 : \", decode)"
   ]
  },
  {
   "cell_type": "code",
   "execution_count": 177,
   "metadata": {},
   "outputs": [
    {
     "name": "stdout",
     "output_type": "stream",
     "text": [
      "True True True False False False\n"
     ]
    }
   ],
   "source": [
    "# bool : True, False\n",
    "print(bool(\"hello\"), bool(10), bool(\" \"), bool([]), bool({}), bool(None))\n",
    "\n",
    "a = 10\n",
    "a = None"
   ]
  },
  {
   "cell_type": "markdown",
   "metadata": {},
   "source": [
    "# 5. 입력 기능"
   ]
  },
  {
   "cell_type": "code",
   "execution_count": 180,
   "metadata": {},
   "outputs": [
    {
     "name": "stdout",
     "output_type": "stream",
     "text": [
      "당신의 이름은55\n",
      "안녕하세요~~55님\n"
     ]
    }
   ],
   "source": [
    "name = input(\"당신의 이름은\")\n",
    "print(\"안녕하세요~~{}님\".format(name))"
   ]
  },
  {
   "cell_type": "code",
   "execution_count": 181,
   "metadata": {},
   "outputs": [
    {
     "name": "stdout",
     "output_type": "stream",
     "text": [
      "첫번째 숫자2\n",
      "두번째 숫자3\n",
      "결과 :  23\n"
     ]
    }
   ],
   "source": [
    "num1 = input(\"첫번째 숫자\")\n",
    "num2 = input(\"두번째 숫자\")\n",
    "\n",
    "print(\"결과 : \", num1 + num2)"
   ]
  },
  {
   "cell_type": "code",
   "execution_count": 186,
   "metadata": {},
   "outputs": [
    {
     "name": "stdout",
     "output_type": "stream",
     "text": [
      "첫번째 숫자2\n",
      "두번째 숫자3\n",
      "결과 :  5\n"
     ]
    }
   ],
   "source": [
    "num1 = int(input(\"첫번째 숫자\"))\n",
    "num2 = int(input(\"두번째 숫자\"))\n",
    "\n",
    "print(\"결과 : \", num1 + num2)"
   ]
  },
  {
   "cell_type": "code",
   "execution_count": null,
   "metadata": {},
   "outputs": [],
   "source": [
    "동전 교환 프로그램\n",
    "================\n",
    "교환할 돈은 얼마입니까? 2760 (엔터키)\n",
    "\n",
    "결과:\n",
    "오백원짜리 ===> ?개\n",
    "백원짜리 ===> ?개\n",
    "오십원짜리 ===> ?개\n",
    "십원짜리 ===> ?개\n",
    "나머지 바꾸지 못한 잔돈 ===> ?원"
   ]
  },
  {
   "cell_type": "code",
   "execution_count": 2,
   "metadata": {},
   "outputs": [
    {
     "name": "stdout",
     "output_type": "stream",
     "text": [
      "교환할 돈은 얼마입니까?2760\n",
      "오백원짜리 ===> 5개\n",
      "백원짜리 ===> 2개\n",
      "오십원짜리 ===> 1개\n",
      "십원짜리 ===> 1개\n",
      "나머지 바꾸지 못한 잔돈 ===> 0원\n"
     ]
    }
   ],
   "source": [
    "money, c500, c100, c50, c10 = 0, 0, 0, 0, 0  # 초기화 \n",
    "\n",
    "money = int(input(\"교환할 돈은 얼마입니까?\")) \n",
    "\n",
    "c500 = money // 500\n",
    "money %= 500\n",
    "\n",
    "c100 = money // 100\n",
    "money %= 100\n",
    "\n",
    "c50 = money // 50\n",
    "money %= 50\n",
    "\n",
    "c10 = money // 10\n",
    "money %= 10\n",
    "\n",
    "print(\"오백원짜리 ===> {}개\".format(c500))\n",
    "print(\"백원짜리 ===> {}개\".format(c100))\n",
    "print(\"오십원짜리 ===> {}개\".format(c50))\n",
    "print(\"십원짜리 ===> {}개\".format(c10))\n",
    "print(\"나머지 바꾸지 못한 잔돈 ===> %d원\"%(money))"
   ]
  },
  {
   "cell_type": "code",
   "execution_count": null,
   "metadata": {},
   "outputs": [],
   "source": []
  },
  {
   "cell_type": "code",
   "execution_count": null,
   "metadata": {},
   "outputs": [],
   "source": []
  },
  {
   "cell_type": "code",
   "execution_count": null,
   "metadata": {},
   "outputs": [],
   "source": []
  },
  {
   "cell_type": "code",
   "execution_count": null,
   "metadata": {},
   "outputs": [],
   "source": []
  }
 ],
 "metadata": {
  "kernelspec": {
   "display_name": "Python 3",
   "language": "python",
   "name": "python3"
  },
  "language_info": {
   "codemirror_mode": {
    "name": "ipython",
    "version": 3
   },
   "file_extension": ".py",
   "mimetype": "text/x-python",
   "name": "python",
   "nbconvert_exporter": "python",
   "pygments_lexer": "ipython3",
   "version": "3.7.4"
  }
 },
 "nbformat": 4,
 "nbformat_minor": 2
}

{
 "cells": [
  {
   "cell_type": "markdown",
   "metadata": {},
   "source": [
    "# 제어문\n",
    "\n",
    "    1) 조건문\n",
    "        if\n",
    "        \n",
    "    2) 반복문\n",
    "        while, for"
   ]
  },
  {
   "cell_type": "markdown",
   "metadata": {},
   "source": [
    "### 조건문 : if\n",
    "\n",
    "   1) if 조건식: \n",
    "            \n",
    "            문장\n",
    "            \n",
    "            문장\n",
    "            ...\n",
    "            \n",
    "      if 조건식: 문장\n",
    "      \n",
    "      \n",
    "   2) if 조건식:\n",
    "   \n",
    "           문장\n",
    "           \n",
    "      else: \n",
    "      \n",
    "          문장\n",
    "         \n",
    "         \n",
    "   3) if 조건식:\n",
    "   \n",
    "          문장\n",
    "          \n",
    "      elif 조건식:\n",
    "      \n",
    "          문장\n",
    "          \n",
    "      elif 조건식:\n",
    "      \n",
    "          문장\n",
    "          \n",
    "      [else:\n",
    "      \n",
    "          문장]"
   ]
  },
  {
   "cell_type": "code",
   "execution_count": 1,
   "metadata": {},
   "outputs": [
    {
     "name": "stdout",
     "output_type": "stream",
     "text": [
      "숫자 입력 : 2\n",
      "짝수입니다.\n"
     ]
    }
   ],
   "source": [
    "# 입력받은 숫자가 짝수/홀수 인지 구별하는 프로그램\n",
    "\n",
    "num1 = 0\n",
    "num1 = int(input(\"숫자 입력 : \"))\n",
    "\n",
    "if num1 % 2 == 0 :  \n",
    "    print(\"짝수입니다.\")\n",
    "    \n",
    "if num1 % 2 != 0 :  \n",
    "    print(\"홀수입니다.\")"
   ]
  },
  {
   "cell_type": "code",
   "execution_count": 8,
   "metadata": {},
   "outputs": [
    {
     "name": "stdout",
     "output_type": "stream",
     "text": [
      "숫자 입력 : 22\n",
      "짝수입니다.\n"
     ]
    }
   ],
   "source": [
    "# 입력받은 숫자가 짝수/홀수 인지 구별하는 프로그램\n",
    "\n",
    "num1 = 0\n",
    "num1 = int(input(\"숫자 입력 : \"))\n",
    "\n",
    "if num1 % 2 == 0 :  \n",
    "    print(\"짝수입니다.\")\n",
    "else:\n",
    "    print(\"홀수입니다.\")"
   ]
  },
  {
   "cell_type": "code",
   "execution_count": 14,
   "metadata": {},
   "outputs": [
    {
     "name": "stdout",
     "output_type": "stream",
     "text": [
      "알파벳 입력 : a\n",
      "정답\n"
     ]
    }
   ],
   "source": [
    "alpha_ = ('a','b','c','d')\n",
    "\n",
    "data = input(\"알파벳 입력 : \")\n",
    "\n",
    "if alpha_.count(data) >= 1 :\n",
    "    print(\"정답\")\n",
    "\n",
    "else :\n",
    "    print(\"오답\")"
   ]
  },
  {
   "cell_type": "code",
   "execution_count": 2,
   "metadata": {},
   "outputs": [
    {
     "name": "stdout",
     "output_type": "stream",
     "text": [
      "입력받은 값 : d\n",
      "정답\n"
     ]
    }
   ],
   "source": [
    "# 입력받은 값이 a, b, c, d 이면 \"정답\"이라고 출력하고 그렇지 않으면 \"오답\"이라고 출력\n",
    "\n",
    "# data = input(\"입력받은 값 : \")\n",
    "\n",
    "# if data == 'a' or data == 'b' or data == 'c' or data == 'd':\n",
    "#     print(\"정답\")\n",
    "# else:\n",
    "#     print(\"오답\")\n",
    "\n",
    "\n",
    "# data = input(\"입력받은 값 : \")\n",
    "\n",
    "# if data in ('a', 'b', 'c', 'd'):\n",
    "#     print(\"정답\")\n",
    "# else:\n",
    "#     print(\"오답\")\n",
    "    \n",
    "    \n",
    "# data = input(\"입력받은 값 : \")\n",
    "# correct = ('a', 'b', 'c', 'd') # tuple 사용\n",
    "\n",
    "# if correct.count(data) > 0:\n",
    "#     print(\"정답\")\n",
    "# else:\n",
    "#     print(\"오답\")\n",
    "\n",
    "    \n",
    "#ASC 코드 이용\n",
    "\n",
    "data = input(\"입력받은 값 : \")\n",
    "\n",
    "if data>='a' and data<='d':\n",
    "    print(\"정답\")\n",
    "else:\n",
    "    print(\"오답\")"
   ]
  },
  {
   "cell_type": "code",
   "execution_count": 7,
   "metadata": {},
   "outputs": [
    {
     "name": "stdout",
     "output_type": "stream",
     "text": [
      "65 97\n",
      "A a\n"
     ]
    }
   ],
   "source": [
    "# chr, ord\n",
    "print(ord(\"A\"), ord('a')) # ord : 유니코드 문자를 나타내는 문자열 -> 유니코드 코드 포인트 나타내는 정수\n",
    "print(chr(65), chr(97)) # chr : 유니코드 코드 포인트 정수 -> 유니코드 문자를 나타내는 문자열"
   ]
  },
  {
   "cell_type": "code",
   "execution_count": null,
   "metadata": {},
   "outputs": [],
   "source": [
    "\"\"\"\n",
    "윤년 계산 프로그램\n",
    "--------------------------------------------------------------\n",
    "1) 기원 연수가 4로 나누어 떨어지는 해는 우선 윤년으로 한다.\n",
    "2) 그 중에서 100으로 나누어 떨어지는 해는 평년으로 한다.\n",
    "3) 다만 400으로 나누어 떨어지는 해는 다시 윤년으로 정한다. \n",
    "\n",
    "연도를 입력 : 2019(엔터키)\n",
    "결과 : 윤년입니다 or 윤년이 아닙니다\n",
    "\"\"\""
   ]
  },
  {
   "cell_type": "code",
   "execution_count": 7,
   "metadata": {},
   "outputs": [
    {
     "name": "stdout",
     "output_type": "stream",
     "text": [
      "연도 : 2018\n",
      "평년\n"
     ]
    }
   ],
   "source": [
    "year = int(input(\"연도 : \"))\n",
    "\n",
    "if year % 4 != 0:\n",
    "    print(\"평년\")\n",
    "\n",
    "elif year % 100 != 0:\n",
    "    print(\"윤년\")\n",
    "    \n",
    "elif year % 400 == 0:\n",
    "    print(\"윤년\")\n",
    "\n",
    "else:\n",
    "    print(\"평년\")"
   ]
  },
  {
   "cell_type": "code",
   "execution_count": 29,
   "metadata": {},
   "outputs": [
    {
     "name": "stdout",
     "output_type": "stream",
     "text": [
      "당신의 학점은 C학점입니다\n"
     ]
    }
   ],
   "source": [
    "# 다중 조건문\n",
    "avg = 78\n",
    "grade = None\n",
    "\n",
    "if avg >= 90:\n",
    "    grade = \"A학점\"\n",
    "elif avg >= 80:\n",
    "    grade = \"B학점\"\n",
    "elif avg >= 70:\n",
    "    grade = \"C학점\"\n",
    "elif avg >= 60:\n",
    "    grade = \"D학점\"\n",
    "else:\n",
    "    grade = \"F학점\"\n",
    "    \n",
    "print(\"당신의 학점은 {}입니다\".format(grade))"
   ]
  },
  {
   "cell_type": "code",
   "execution_count": null,
   "metadata": {},
   "outputs": [],
   "source": [
    "\"\"\"\n",
    "전자 계산기 프로그램(사칙연산)\n",
    "---------------------------------\n",
    "연산자 : + (엔터)\n",
    "숫자1 : 10 (엔터)\n",
    "숫자2 : 5 (엔터)\n",
    "    \n",
    "결과 : 10 + 5 = 15\n",
    "\"\"\""
   ]
  },
  {
   "cell_type": "code",
   "execution_count": 31,
   "metadata": {},
   "outputs": [
    {
     "name": "stdout",
     "output_type": "stream",
     "text": [
      "숫자 입력 : 5\n",
      "연산자 입력 : 6\n",
      "숫자 입력 : 5\n",
      "입력값 오류! 다시 확인해주세요\n"
     ]
    }
   ],
   "source": [
    "num1 = 0\n",
    "num2 = 0\n",
    "cal = None\n",
    "result = None\n",
    "\n",
    "num1 = int(input(\"숫자 입력 : \"))\n",
    "cal = input(\"연산자 입력 : \")\n",
    "num2 = int(input(\"숫자 입력 : \"))\n",
    "\n",
    "if cal == \"/\":\n",
    "    if num2 == 0 :\n",
    "        print(\"0 외의 숫자 입력해주세요\")\n",
    "    else :\n",
    "        print(\"{} {} {} = {}\".format(num1, cal, num2, num1 / num2))\n",
    "    \n",
    "elif cal == \"+\" :\n",
    "    print(\"{} {} {} = {}\".format(num1, cal, num2, num1 + num2))\n",
    "    \n",
    "elif cal == \"-\" :\n",
    "    print(\"{} {} {} = {}\".format(num1, cal, num2, num1 - num2))\n",
    "    \n",
    "elif cal == \"*\" :\n",
    "    print(\"{} {} {} = {}\".format(num1, cal, num2, num1 * num2))\n",
    "    \n",
    "else :\n",
    "    print(\"입력값 오류! 다시 확인해주세요\")"
   ]
  },
  {
   "cell_type": "markdown",
   "metadata": {},
   "source": [
    "### 조건문의 중첩(Nested)\n",
    "\n",
    "if 조건식:\n",
    "\n",
    "    문장\n",
    "    \n",
    "    ...\n",
    "    \n",
    "    if 조건식:\n",
    "    \n",
    "        문장\n",
    "        \n",
    "        ...\n",
    "        \n",
    "else:\n",
    "\n",
    "    문장\n",
    "    \n",
    "    ...\n",
    "    \n",
    "    if 조건식:\n",
    "    \n",
    "        문장"
   ]
  },
  {
   "cell_type": "code",
   "execution_count": 15,
   "metadata": {},
   "outputs": [
    {
     "name": "stdout",
     "output_type": "stream",
     "text": [
      "\n"
     ]
    }
   ],
   "source": [
    "a, b, c = 8, 10, 3\n",
    "\n",
    "if a > b:\n",
    "    if a > c:\n",
    "        print(\"a가 제일 크다\")\n",
    "    else:\n",
    "        print(\"c가 제일 크다\")\n",
    "        \n",
    "else:\n",
    "    if b > c:\n",
    "        print(\"b가 제일 크다\")\n",
    "    else:\n",
    "        print(\"c가 제일 크다\")"
   ]
  },
  {
   "cell_type": "code",
   "execution_count": null,
   "metadata": {},
   "outputs": [],
   "source": [
    "# 아이디 : tom, 패스워드 : 1234\n",
    "\n",
    "id = input(\"아이디 : \")\n",
    "pw = input(\"패스워드 : \")\n",
    "\n",
    "if id != \"tom\":\n",
    "    if pw != \"1234\":\n",
    "        print(\"아이디와 패스워드가 틀렸습니다\")\n",
    "    else:\n",
    "        print(\"아이디가 틀렸습니다\")\n",
    "        \n",
    "else:\n",
    "    if pw != \"1234\":\n",
    "        print(\"패스워드가 틀렸습니다\")\n",
    "    else:\n",
    "        print(\"로그인합니다\")"
   ]
  },
  {
   "cell_type": "code",
   "execution_count": 4,
   "metadata": {},
   "outputs": [
    {
     "name": "stdout",
     "output_type": "stream",
     "text": [
      "4\n"
     ]
    }
   ],
   "source": [
    "# 랜덤\n",
    "\n",
    "import random\n",
    "\n",
    "print(random.randint(0, 10)) # 0 ~ 10 사이의 값을 임의로 추출"
   ]
  },
  {
   "cell_type": "code",
   "execution_count": null,
   "metadata": {},
   "outputs": [],
   "source": [
    "\"\"\"\n",
    "가위 바위 보 게임 프로그램\n",
    "--------------------------------------------------------\n",
    "(가위, 바위, 보) 중에서 하나를 선택 : 바위(엔터)\n",
    "결과 : 사용자가 이겼습니다 등등\n",
    "\"\"\""
   ]
  },
  {
   "cell_type": "code",
   "execution_count": 44,
   "metadata": {},
   "outputs": [
    {
     "name": "stdout",
     "output_type": "stream",
     "text": [
      "(가위, 바위, 보) 중에서 하나 내세요 : 바위\n",
      "컴퓨터 : 보\n",
      "패\n"
     ]
    }
   ],
   "source": [
    "# 가위 바위 보 게임 프로그램\n",
    "\n",
    "user = input(\"(가위, 바위, 보) 중에서 하나 내세요 : \")\n",
    "import random\n",
    "number = random.randint(0,2)\n",
    "\n",
    "if number == \"0\":\n",
    "    com = \"가위\"\n",
    "elif number == \"1\":\n",
    "    com = \"바위\"\n",
    "else :\n",
    "    com = \"보\"\n",
    "print(\"컴퓨터 : {}\".format(com))\n",
    "\n",
    "if user == com :\n",
    "    print(\"무\")\n",
    "    \n",
    "elif user == \"가위\":\n",
    "    if com == \"바위\":\n",
    "        print(\"패\")\n",
    "    else :\n",
    "        print(\"승\")\n",
    "        \n",
    "    \n",
    "elif user == \"바위\":\n",
    "    if com == \"보\":\n",
    "        print(\"패\")\n",
    "    else :\n",
    "        print(\"승\")\n",
    "        \n",
    "    \n",
    "elif user == \"보\":\n",
    "    if com == \"가위\":\n",
    "        print(\"패\")\n",
    "    else :\n",
    "        print(\"승\")\n",
    "        \n",
    "else :\n",
    "    print(\"잘못입력하셨습니다\")"
   ]
  },
  {
   "cell_type": "markdown",
   "metadata": {},
   "source": [
    "### 반복문 : while\n",
    "\n",
    "    while 조건식: \n",
    "        문장"
   ]
  },
  {
   "cell_type": "code",
   "execution_count": 50,
   "metadata": {},
   "outputs": [
    {
     "name": "stdout",
     "output_type": "stream",
     "text": [
      "**********\n",
      "**********\n",
      "**********"
     ]
    }
   ],
   "source": [
    "print(\"**********\")\n",
    "print(\"*\" * 10)\n",
    "\n",
    "cnt = 0\n",
    "while cnt < 10:\n",
    "    cnt = cnt + 1\n",
    "    print(\"*\", end=\"\")"
   ]
  },
  {
   "cell_type": "code",
   "execution_count": 60,
   "metadata": {},
   "outputs": [
    {
     "name": "stdout",
     "output_type": "stream",
     "text": [
      "1\n",
      "3\n",
      "6\n",
      "10\n",
      "15\n",
      "21\n",
      "28\n",
      "36\n",
      "45\n",
      "55\n",
      "결과 : 55\n"
     ]
    }
   ],
   "source": [
    "# 1 ~ 10 까지의 합계 : 55\n",
    "\n",
    "cnt = 0\n",
    "sum = 0\n",
    "\n",
    "while cnt < 10:\n",
    "    cnt += 1    \n",
    "    sum += cnt\n",
    "#     print(sum)\n",
    "    \n",
    "print(\"결과 :\", sum)"
   ]
  },
  {
   "cell_type": "code",
   "execution_count": 13,
   "metadata": {},
   "outputs": [
    {
     "name": "stdout",
     "output_type": "stream",
     "text": [
      "결과 :  1024\n"
     ]
    }
   ],
   "source": [
    "# 2의 10제곱 : 1024\n",
    "# while 문\n",
    "\n",
    "cnt = 0\n",
    "sum = 1\n",
    "\n",
    "while cnt < 10:\n",
    "    sum = sum * 2\n",
    "    cnt += 1\n",
    "    \n",
    "print(\"결과 : \", sum)"
   ]
  },
  {
   "cell_type": "code",
   "execution_count": 64,
   "metadata": {},
   "outputs": [
    {
     "name": "stdout",
     "output_type": "stream",
     "text": [
      "결과 :  1024\n"
     ]
    }
   ],
   "source": [
    "# 2의 10제곱 : 1024\n",
    "# for 문\n",
    "\n",
    "cnt = 0\n",
    "sum = 1\n",
    "\n",
    "for cnt in range(10):\n",
    "    sum = sum * 2\n",
    "    cnt += 1\n",
    "#     print(sum)\n",
    "\n",
    "print(\"결과 : \", sum)"
   ]
  },
  {
   "cell_type": "markdown",
   "metadata": {},
   "source": [
    "### 반복문 : for\n",
    "\n",
    "    for 변수 in 집합자료형:\n",
    "        문장\n",
    "        ..."
   ]
  },
  {
   "cell_type": "code",
   "execution_count": 41,
   "metadata": {},
   "outputs": [
    {
     "name": "stdout",
     "output_type": "stream",
     "text": [
      "10\n",
      "20\n",
      "홍길동\n",
      "3.14\n",
      "True\n",
      "********************\n",
      "10\n",
      "20\n",
      "홍길동\n",
      "3.14\n",
      "True\n"
     ]
    }
   ],
   "source": [
    "#while과 for 비교\n",
    "\n",
    "var1 = [10, 20, \"홍길동\", 3.14, True]\n",
    "\n",
    "cnt = 0\n",
    "while cnt < len(var1):\n",
    "    print(var1[cnt])\n",
    "    cnt += 1\n",
    "    \n",
    "print(\"*\"*20)\n",
    "\n",
    "for v in var1:\n",
    "    print(v)"
   ]
  },
  {
   "cell_type": "code",
   "execution_count": 42,
   "metadata": {},
   "outputs": [
    {
     "name": "stdout",
     "output_type": "stream",
     "text": [
      "**********"
     ]
    }
   ],
   "source": [
    "# for문 이용해서 * 찍어내기\n",
    "\n",
    "for v in range(10):\n",
    "    print(\"*\", end=\"\")"
   ]
  },
  {
   "cell_type": "markdown",
   "metadata": {},
   "source": [
    "### 강제 종료\n",
    "\n",
    "    - break : 완전 종료\n",
    "    - continue : 일시 종료"
   ]
  },
  {
   "cell_type": "code",
   "execution_count": 72,
   "metadata": {},
   "outputs": [
    {
     "name": "stdout",
     "output_type": "stream",
     "text": [
      "0\n",
      "1\n",
      "2\n",
      "3\n",
      "4\n"
     ]
    }
   ],
   "source": [
    "# break\n",
    "\n",
    "for v in range(10):\n",
    "    if v == 5:\n",
    "        break\n",
    "        \n",
    "    print(v)\n",
    "    # v == 5 나온거부터 print 되지않음"
   ]
  },
  {
   "cell_type": "code",
   "execution_count": 50,
   "metadata": {},
   "outputs": [
    {
     "name": "stdout",
     "output_type": "stream",
     "text": [
      "0\n",
      "1\n",
      "2\n",
      "3\n",
      "4\n",
      "6\n",
      "7\n",
      "8\n",
      "9\n"
     ]
    }
   ],
   "source": [
    "# continue \n",
    "\n",
    "for v in range(10):\n",
    "    if v == 5:\n",
    "        continue\n",
    "        \n",
    "    print(v)\n",
    "    # v == 5 만 안나옴"
   ]
  },
  {
   "cell_type": "code",
   "execution_count": null,
   "metadata": {},
   "outputs": [],
   "source": [
    "\"\"\"\n",
    "전자 계산기 프로그램 반복문을 이용해서 업그레이드 시키기, 계속 실행할수있도록\n",
    "(끝나는 조건은 연산자에 x를 입력하면 종료)\n",
    "\"\"\""
   ]
  },
  {
   "cell_type": "code",
   "execution_count": 77,
   "metadata": {},
   "outputs": [
    {
     "name": "stdout",
     "output_type": "stream",
     "text": [
      "숫자1 : 3\n",
      "연산자 :s\n",
      "숫자2 :3\n",
      "입력값 오류! 다시 확인해주세요\n",
      "숫자1 : 5\n",
      "연산자 :x\n",
      "숫자2 :3\n",
      "종료\n"
     ]
    }
   ],
   "source": [
    "# for문\n",
    "\n",
    "num1 = 0\n",
    "cal = None\n",
    "num2 = 0\n",
    "result = None\n",
    "\n",
    "\n",
    "for i in range(100000) :\n",
    "    \n",
    "    num1 = int(input(\"숫자1 : \"))\n",
    "    cal = input(\"연산자 :\")\n",
    "    num2 = int(input(\"숫자2 :\"))\n",
    "    \n",
    "    if cal == \"/\":\n",
    "        if num2 == 0 :\n",
    "            print(\"0 외의 숫자 입력해주세요\")\n",
    "        else :\n",
    "            print(\"{} {} {} = {}\".format(num1, cal, num2, num1 / num2))\n",
    "            \n",
    "    elif cal == \"+\" :\n",
    "        print(\"{} {} {} = {}\".format(num1, cal, num2, num1 + num2))\n",
    "        \n",
    "    elif cal == \"-\" :\n",
    "        print(\"{} {} {} = {}\".format(num1, cal, num2, num1 - num2))\n",
    "        \n",
    "    elif cal == \"*\" :\n",
    "        print(\"{} {} {} = {}\".format(num1, cal, num2, num1 * num2))\n",
    "                \n",
    "    elif cal == \"x\" :\n",
    "        print(\"종료\")\n",
    "        break\n",
    "\n",
    "    else :\n",
    "        print(\"입력값 오류! 다시 확인해주세요\")"
   ]
  },
  {
   "cell_type": "code",
   "execution_count": 66,
   "metadata": {},
   "outputs": [
    {
     "name": "stdout",
     "output_type": "stream",
     "text": [
      "숫자 : 3\n",
      "연산자 : +\n",
      "숫자 : 2\n",
      "결과 : 3 + 2 = 5\n",
      "숫자 : 5\n",
      "연산자 : x\n",
      "숫자 : 3\n"
     ]
    }
   ],
   "source": [
    "# while문 \n",
    "\n",
    "num1 = 0\n",
    "num2 = 0\n",
    "\n",
    "while cal != \"\":\n",
    "    \n",
    "    num1 = int(input(\"숫자 : \"))\n",
    "    cal = input(\"연산자 : \")\n",
    "    num2 = int(input(\"숫자 : \"))\n",
    "    \n",
    "    if cal in ('+'):\n",
    "        result = num1 + num2 \n",
    "        print(\"결과 : {} {} {} = {}\".format(num1, cal, num2, result))\n",
    "\n",
    "        \n",
    "    elif cal in ('-'):\n",
    "        result = num1 - num2\n",
    "        print(\"결과 : {} {} {} = {}\".format(num1, cal, num2, result))\n",
    "\n",
    "        \n",
    "    elif cal in ('*'):\n",
    "        result = num1 * num2\n",
    "        print(\"결과 : {} {} {} = {}\".format(num1, cal, num2, result))\n",
    "\n",
    "        \n",
    "    elif cal in ('/'):\n",
    "        result = num1 / num2\n",
    "        print(\"결과 : {} {} {} = {}\".format(num1, cal, num2, result))\n",
    "\n",
    "        \n",
    "    elif cal in ('x'):\n",
    "        break\n",
    "    "
   ]
  },
  {
   "cell_type": "code",
   "execution_count": null,
   "metadata": {},
   "outputs": [],
   "source": [
    "\"\"\"\n",
    "가위 바위 보 게임 반복문을 사용하여 업그레이드 시키기, 계속 실행할수있도록\n",
    "(끝나는 조건은 x나 q를 입력하면 종료)\n",
    "\n",
    "끝날 때 결과에 ?승 ?패 출력\n",
    "\"\"\""
   ]
  },
  {
   "cell_type": "code",
   "execution_count": 79,
   "metadata": {},
   "outputs": [
    {
     "name": "stdout",
     "output_type": "stream",
     "text": [
      "(가위, 바위, 보) 중에서 하나 내세요 : 가위\n",
      "컴퓨터 : 보\n",
      "승\n",
      "(가위, 바위, 보) 중에서 하나 내세요 : 바위\n",
      "컴퓨터 : 보\n",
      "패\n",
      "(가위, 바위, 보) 중에서 하나 내세요 : 보\n",
      "컴퓨터 : 보\n",
      "무\n",
      "(가위, 바위, 보) 중에서 하나 내세요 : 가위\n",
      "컴퓨터 : 보\n",
      "승\n",
      "(가위, 바위, 보) 중에서 하나 내세요 : x\n",
      "컴퓨터 : 보\n",
      "종료\n",
      "2승, 1무, 1패\n"
     ]
    }
   ],
   "source": [
    "win  = 0\n",
    "lose = 0\n",
    "same = 0\n",
    "\n",
    "for i in range(10000):\n",
    "\n",
    "    user = input(\"(가위, 바위, 보) 중에서 하나 내세요 : \")\n",
    "    import random\n",
    "    number = random.randint(0,2)\n",
    "\n",
    "    # 컴퓨터 지정\n",
    "    if number == \"0\":\n",
    "        com = \"가위\"\n",
    "    elif number == \"1\":\n",
    "        com = \"바위\"\n",
    "    else :\n",
    "        com = \"보\"\n",
    "    print(\"컴퓨터 : {}\".format(com))\n",
    "\n",
    "    # 게임중\n",
    "    if user == com :\n",
    "        print(\"무\")\n",
    "        same += 1\n",
    "\n",
    "    elif user == \"가위\":\n",
    "        if com == \"바위\":\n",
    "            print(\"패\")\n",
    "            lose += 1\n",
    "        else :\n",
    "            print(\"승\")\n",
    "            win += 1\n",
    "\n",
    "    elif user == \"바위\":\n",
    "        if com == \"보\":\n",
    "            print(\"패\")\n",
    "            lose += 1\n",
    "        else :\n",
    "            print(\"승\")\n",
    "            win += 1\n",
    "\n",
    "    elif user == \"보\":\n",
    "        if com == \"가위\":\n",
    "            print(\"패\")\n",
    "            lose += 1\n",
    "        else :\n",
    "            print(\"승\")\n",
    "            win += 1\n",
    "\n",
    "    # 종료\n",
    "    elif user == \"x\" or user == \"q\":\n",
    "        print(\"종료\")\n",
    "        print(\"{}승, {}무, {}패\".format(win, same, lose))\n",
    "        break\n",
    "\n",
    "    # 오류\n",
    "    else :\n",
    "        print(\"잘못입력하셨습니다\")\n"
   ]
  },
  {
   "cell_type": "code",
   "execution_count": null,
   "metadata": {},
   "outputs": [],
   "source": [
    "\"\"\"\n",
    "숫자를 입력받아서 짝수의 합과 홀수의 합을 구하시오(0을 입력하면 종료)\n",
    "\"\"\""
   ]
  },
  {
   "cell_type": "code",
   "execution_count": null,
   "metadata": {},
   "outputs": [],
   "source": [
    "odd = 0\n",
    "even = 0\n",
    "\n",
    "for i in range(10000) :\n",
    "\n",
    "    num = int(input(\"숫자 입력 : \"))\n",
    "\n",
    "    if num != 0 and num % 2 == 0:\n",
    "        odd += num\n",
    "        print(\"짝수 합 : {}, 홀수 합 : {}\".format(odd, even))\n",
    "\n",
    "    elif num % 2 != 0:\n",
    "        even += num\n",
    "        print(\"짝수 합 : {}, 홀수 합 : {}\".format(odd, even))\n",
    "\n",
    "    elif num == 0:\n",
    "        print(\"종료\")"
   ]
  },
  {
   "cell_type": "code",
   "execution_count": null,
   "metadata": {},
   "outputs": [],
   "source": []
  },
  {
   "cell_type": "code",
   "execution_count": null,
   "metadata": {},
   "outputs": [],
   "source": []
  },
  {
   "cell_type": "code",
   "execution_count": 48,
   "metadata": {},
   "outputs": [
    {
     "name": "stdout",
     "output_type": "stream",
     "text": [
      "숫자 : 53\n",
      "짝수합 : 0\n",
      "홀수합 : 53\n",
      "숫자 : 25\n",
      "짝수합 : 0\n",
      "홀수합 : 78\n",
      "숫자 : 22\n",
      "숫자 : 0\n"
     ]
    }
   ],
   "source": [
    "odd = 0\n",
    "even = 0\n",
    "\n",
    "while num > 0:\n",
    "    num = int(input(\"숫자 : \"))\n",
    "    if num == 0:\n",
    "        break\n",
    "        \n",
    "    elif num % 2 == 0:\n",
    "        even += num\n",
    "    else:\n",
    "        odd += num\n",
    "        \n",
    "        print(\"짝수합 : {}\".format(even))\n",
    "        print(\"홀수합 : {}\".format(odd))\n",
    "\n"
   ]
  },
  {
   "cell_type": "code",
   "execution_count": null,
   "metadata": {},
   "outputs": [],
   "source": [
    "\"\"\"\n",
    "친구 관리 프로그램\n",
    "------------------\n",
    "1. 친구 리스트 출력\n",
    "2. 친구 추가\n",
    "3. 친구 삭제\n",
    "4. 이름 변경\n",
    "9. 종료\n",
    "메뉴를 선택 : 2 (엔터)\n",
    "이름을 입력 : 홍길동 (입력된 이름은 리스트에 뜨도록)\n",
    "------------------\n",
    "1. 친구 리스트 출력\n",
    "2. 친구 추가\n",
    "3. 친구 삭제\n",
    "4. 이름 변경\n",
    "9. 종료\n",
    "메뉴를 선택 : 2 (엔터)\n",
    "이름을 입력 : 임꺽정\n",
    "--------------------\n",
    "1. 친구 리스트 출력\n",
    "2. 친구 추가\n",
    "3. 친구 삭제\n",
    "4. 이름 변경\n",
    "9. 종료\n",
    "메뉴를 선택 : 1 (엔터)\n",
    "[\"홍길동\", \"임꺽정\"]\n",
    "--------------------\n",
    "1. 친구 리스트 출력\n",
    "2. 친구 추가\n",
    "3. 친구 삭제\n",
    "4. 이름 변경\n",
    "9. 종료\n",
    "메뉴를 선택 : 4 (엔터)\n",
    "변경할 이름 선택 : 홍길동 (엔터)\n",
    "변경하고 싶은 이름 입력 : 홍길순 (엔터)\n",
    "--------------------\n",
    "1. 친구 리스트 출력\n",
    "2. 친구 추가\n",
    "3. 친구 삭제\n",
    "4. 이름 변경\n",
    "9. 종료\n",
    "메뉴를 선택 : 1 (엔터)\n",
    "[\"홍길순\", \"임꺽정\"]\n",
    "--------------------\n",
    "1. 친구 리스트 출력\n",
    "2. 친구 추가\n",
    "3. 친구 삭제\n",
    "4. 이름 변경\n",
    "9. 종료\n",
    "메뉴를 선택 : 3 (엔터)\n",
    "삭제할 이름 입력 : 홍길순\n",
    "--------------------\n",
    "1. 친구 리스트 출력\n",
    "2. 친구 추가\n",
    "3. 친구 삭제\n",
    "4. 이름 변경\n",
    "9. 종료\n",
    "메뉴를 선택 : 1 (엔터)\n",
    "[\"임꺽정\"]\n",
    "--------------------\n",
    "1. 친구 리스트 출력\n",
    "2. 친구 추가\n",
    "3. 친구 삭제\n",
    "4. 이름 변경\n",
    "9. 종료\n",
    "메뉴를 선택 : 9 (엔터)\n",
    "종료\n",
    "\n",
    "\n",
    "친구정보 list에 보관해야함\n",
    "\n",
    "\n",
    "\n",
    "\n",
    "\"\"\"\n",
    "\n",
    "friends = []   <-친구리스트\n",
    "menu = ()      <-선택\n",
    "\n",
    "집합 없이 반복은 while, 집합 있으면 for\n",
    "\n",
    "while menu != 9:\n",
    "    print(\"----------\")\n",
    "    print(\"1. 친구 리스트 출력\")\n",
    "    print(\"2. 친구 리스트 출력\")\n",
    "    print(\"3. 친구 리스트 출력\")\n",
    "    print(\"4. 친구 리스트 출력\")\n",
    "    print(\"9. 친구 리스트 출력\")\n",
    "    \n",
    "    menu = int(input(\"메뉴 선택 : \"))\n",
    "    \n",
    "    if menu == 9:\n",
    "        break\n",
    "        \n"
   ]
  },
  {
   "cell_type": "code",
   "execution_count": null,
   "metadata": {},
   "outputs": [],
   "source": [
    "friends = []   \n",
    "menu = ()      \n",
    "\n",
    "\n",
    "while menu != 9:\n",
    "    print(\"----------\")\n",
    "    print(\"1. 친구 리스트 출력\")\n",
    "    print(\"2. 친구 추가\")\n",
    "    print(\"3. 친구 삭제\")\n",
    "    print(\"4. 이름 변경\")\n",
    "    print(\"9. 종료\")\n",
    "    \n",
    "    menu = int(input(\"메뉴 선택 : \"))\n",
    "    \n",
    "    if menu == 9:\n",
    "        break\n",
    "        \n",
    "    elif menu == 2:\n",
    "        print(int(input(\"이름을 입력: \")))\n",
    "        print(\"친구 리스트 : \".format())\n",
    "        \n",
    "    elif menu == 3:\n",
    "        \n",
    "        "
   ]
  },
  {
   "cell_type": "code",
   "execution_count": null,
   "metadata": {},
   "outputs": [],
   "source": [
    "\"\"\"\n",
    "팩토리얼 계산\n",
    "===============\n",
    "\n",
    "정수 입력 : 3 (엔터)\n",
    "결과 : 3의 팩토리얼은 6이다.\n",
    "\"\"\""
   ]
  },
  {
   "cell_type": "code",
   "execution_count": 37,
   "metadata": {},
   "outputs": [
    {
     "name": "stdout",
     "output_type": "stream",
     "text": [
      "정수 입력 : 3\n",
      "3의 팩토리얼은 1이다\n",
      "3의 팩토리얼은 2이다\n",
      "3의 팩토리얼은 6이다\n"
     ]
    }
   ],
   "source": [
    "num = int(input(\"정수 입력 : \"))\n",
    "result = 1\n",
    "\n",
    "for n in range(1,num+1):\n",
    "    result = result*n\n",
    "    print(\"{}의 팩토리얼은 {}이다\".format(num, result))\n"
   ]
  },
  {
   "cell_type": "code",
   "execution_count": null,
   "metadata": {},
   "outputs": [],
   "source": [
    "\"\"\"\n",
    "자리수의 합\n",
    "============\n",
    "예를 들어 1234라고 입력했을 경우 (1 + 2 + 3 + 4)를 계산하는 프로그램\n",
    "(0을 입력하면 종료)\n",
    "\n",
    "\"\"\""
   ]
  },
  {
   "cell_type": "code",
   "execution_count": 27,
   "metadata": {},
   "outputs": [
    {
     "name": "stdout",
     "output_type": "stream",
     "text": [
      "숫자 : 406\n",
      "자리수 합 : 4\n",
      "자리수 합 : 0\n",
      "자리수 합 : 6\n"
     ]
    }
   ],
   "source": [
    "number = int(input(\"숫자 : \"))\n",
    "\n",
    "for n in str(number):\n",
    "    if number == 0:\n",
    "        break\n",
    "    \n",
    "    else:\n",
    "        result = int(n)\n",
    "        print(\"자리수 합 : {}\".format(result))\n",
    "    "
   ]
  },
  {
   "cell_type": "code",
   "execution_count": null,
   "metadata": {},
   "outputs": [],
   "source": [
    "\"\"\"\n",
    "숫자 맞추기 게임\n",
    "===================\n",
    "\n",
    "1부터 100사이의 숫자를 맞추시오\n",
    "숫자 입력 : 50\n",
    "낮음!\n",
    "\n",
    "숫자 입력 : 75\n",
    "낮음!\n",
    "\n",
    "...\n",
    "\n",
    "숫자 입력 : ex) 89\n",
    "정답입니다! 시도횟수 : # 번\n",
    "\"\"\""
   ]
  },
  {
   "cell_type": "code",
   "execution_count": 3,
   "metadata": {},
   "outputs": [
    {
     "name": "stdout",
     "output_type": "stream",
     "text": [
      "1부터 100사이의 숫자를 입력 : 50\n",
      "Up\n",
      "1부터 100사이의 숫자를 입력 : 75\n",
      "Up\n",
      "1부터 100사이의 숫자를 입력 : 85\n",
      "Down\n",
      "1부터 100사이의 숫자를 입력 : 80\n",
      "Up\n",
      "1부터 100사이의 숫자를 입력 : 83\n",
      "Down\n",
      "1부터 100사이의 숫자를 입력 : 81\n",
      "Up\n",
      "1부터 100사이의 숫자를 입력 : 82\n",
      "정답!! 시도횟수 : 6번\n"
     ]
    }
   ],
   "source": [
    "import random\n",
    "computer = random.randint(1, 100)\n",
    "count = 0\n",
    "\n",
    "while True:\n",
    "    player = int(input(\"1부터 100사이의 숫자를 입력 : \"))\n",
    "    if computer == player:\n",
    "        print(\"정답!! 시도횟수 : {}번\".format(count))\n",
    "        break\n",
    "        \n",
    "    elif computer > player:\n",
    "        print(\"Up\")\n",
    "    else:\n",
    "        print(\"Down\")\n",
    "    count += 1"
   ]
  },
  {
   "cell_type": "markdown",
   "metadata": {},
   "source": [
    "### 반복문의 중첩"
   ]
  },
  {
   "cell_type": "code",
   "execution_count": 1,
   "metadata": {},
   "outputs": [
    {
     "name": "stdout",
     "output_type": "stream",
     "text": [
      "**********\n",
      "**********\n",
      "**********\n"
     ]
    }
   ],
   "source": [
    "\"\"\"\n",
    "**********\n",
    "**********\n",
    "**********\n",
    "\"\"\"\n",
    "for v1 in range(3):\n",
    "    for v2 in range(10):\n",
    "        print(\"*\", end=\"\")\n",
    "    print()"
   ]
  },
  {
   "cell_type": "code",
   "execution_count": null,
   "metadata": {},
   "outputs": [],
   "source": [
    "\"\"\"\"\"\n",
    "*\n",
    "**\n",
    "***\n",
    "****\n",
    "*****\n",
    "******\n",
    "\"\"\"\"\""
   ]
  },
  {
   "cell_type": "code",
   "execution_count": 11,
   "metadata": {},
   "outputs": [
    {
     "name": "stdout",
     "output_type": "stream",
     "text": [
      "\n",
      "*\n",
      "**\n",
      "***\n",
      "****\n",
      "*****\n",
      "******\n"
     ]
    }
   ],
   "source": [
    "\n",
    "for v1 in range(7):\n",
    "    for v2 in range(v1):\n",
    "        print(\"*\", end=\"\")\n",
    "    print()"
   ]
  },
  {
   "cell_type": "code",
   "execution_count": null,
   "metadata": {},
   "outputs": [],
   "source": [
    "\"\"\"\n",
    "       *\n",
    "      ***\n",
    "     *****\n",
    "    *******\n",
    "\n",
    "\n",
    "(* 앞의 간격도 유의)\n",
    "\"\"\""
   ]
  },
  {
   "cell_type": "code",
   "execution_count": 1,
   "metadata": {},
   "outputs": [
    {
     "name": "stdout",
     "output_type": "stream",
     "text": [
      "     \n",
      "    *\n",
      "   ***\n",
      "  *****\n",
      " *******\n",
      "*\n"
     ]
    }
   ],
   "source": [
    "for v1 in range(5):\n",
    "    for v3 in range(5-v1):\n",
    "        print(\" \", end=\"\")\n",
    "    for v2 in range(v1*2-1):\n",
    "        print(\"*\", end=\"\")\n",
    "    print()\n",
    "    \n",
    "    \n",
    "print(\"*\")"
   ]
  },
  {
   "cell_type": "code",
   "execution_count": 2,
   "metadata": {},
   "outputs": [
    {
     "name": "stdout",
     "output_type": "stream",
     "text": [
      "숫자를 입력해주세요 :5\n",
      "     *\n",
      "    ***\n",
      "   *****\n",
      "  *******\n",
      " *********\n"
     ]
    }
   ],
   "source": [
    "x= int(input(\"숫자를 입력해주세요 :\" ))\n",
    "for i in range(1,x+1):\n",
    "    for j in range(x+1-i):\n",
    "        print(\" \", end=\"\")\n",
    "    for j in range(2*i-1):\n",
    "        print(\"*\", end=\"\")\n",
    "    print()"
   ]
  },
  {
   "cell_type": "code",
   "execution_count": null,
   "metadata": {},
   "outputs": [],
   "source": []
  },
  {
   "cell_type": "code",
   "execution_count": null,
   "metadata": {},
   "outputs": [],
   "source": []
  },
  {
   "cell_type": "code",
   "execution_count": null,
   "metadata": {},
   "outputs": [],
   "source": []
  },
  {
   "cell_type": "code",
   "execution_count": null,
   "metadata": {},
   "outputs": [],
   "source": []
  },
  {
   "cell_type": "code",
   "execution_count": null,
   "metadata": {},
   "outputs": [],
   "source": []
  },
  {
   "cell_type": "code",
   "execution_count": null,
   "metadata": {},
   "outputs": [],
   "source": []
  },
  {
   "cell_type": "code",
   "execution_count": null,
   "metadata": {},
   "outputs": [],
   "source": []
  },
  {
   "cell_type": "code",
   "execution_count": null,
   "metadata": {},
   "outputs": [],
   "source": []
  },
  {
   "cell_type": "code",
   "execution_count": null,
   "metadata": {},
   "outputs": [],
   "source": []
  }
 ],
 "metadata": {
  "kernelspec": {
   "display_name": "Python 3",
   "language": "python",
   "name": "python3"
  },
  "language_info": {
   "codemirror_mode": {
    "name": "ipython",
    "version": 3
   },
   "file_extension": ".py",
   "mimetype": "text/x-python",
   "name": "python",
   "nbconvert_exporter": "python",
   "pygments_lexer": "ipython3",
   "version": "3.7.4"
  }
 },
 "nbformat": 4,
 "nbformat_minor": 2
}

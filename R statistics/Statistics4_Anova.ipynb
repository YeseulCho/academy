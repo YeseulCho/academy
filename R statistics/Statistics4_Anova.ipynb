{
 "cells": [
  {
   "cell_type": "markdown",
   "metadata": {},
   "source": [
    " ## Statistics_Anova\n",
    " \n",
    "    최초 작성일 : 2020/03/06\n",
    "    작성자 : 조예슬 \n",
    " \n",
    "    < 작성 내용 >\n",
    "    \n",
    "        - oneway ANOVA\n",
    "        \n",
    "        - twoway ANOVA"
   ]
  },
  {
   "cell_type": "code",
   "execution_count": null,
   "metadata": {},
   "outputs": [],
   "source": []
  },
  {
   "cell_type": "code",
   "execution_count": 1,
   "metadata": {},
   "outputs": [],
   "source": [
    "#근데 집단이 세개 있다면?  t-test 비교를 세번 해야되기 때문에 불편하다. 그래서 ANOVA 방법을 사용한다.\n",
    "\n",
    "\n",
    "\n",
    "# ANOVA 방식\n",
    "\n",
    "# 집단이 3개 이상일 때 : One Way ANOVA  (일원 배치 분산 분석)\n",
    "\n",
    "#        - Independent T-test의 확장 \n",
    "\n",
    "# 시간의 따른 차이 검정 : Repeated Measured ANOVA (반복 측정 분산 분석)\n",
    "\n",
    "#         밥먹기 전 후 차이가 있냐 두가지 경우밖에 없으므로 - paired\n",
    "\n",
    "#         여러개 시간이 있다면 이럴 때 ANOVA를 쓴다. \n",
    "\n",
    "# 요인에 따른 차이 검정 : Two Way ANOVA (이원 배치 분산 ??)\n",
    "\n",
    "#         1000도, 1500도 치킨 맛 차이 이럴 경우 Independent Test를 하면 되는데\n",
    "\n",
    "#         1000도, 1500도 치킨 맛 차이 , 오븐, 기름에 튀겼을 때 맛차이 일 경우엔 t-test를 두번 하는게 아니고 two-way를 쓴다 \n",
    "\n",
    "# 시간 + 요인에 따른 차이 : Two Way Repeated Mesured ANOVA (?)\n",
    "\n",
    "#         집단에서 통증에 대해 실험군, 대조군일땐 t-test 쓰면 되긴 하다.\n",
    "\n",
    "#         하지만 실험군, 대조군이 늘어나면  One way ANOVA로 갈아타면 되는데\n",
    "\n",
    "#         만약 시점까지 존재하게 된다면 이걸 써야한다.  실험전, 실험후 + 실험군, 대조군\n",
    "\n",
    "\n",
    "\n",
    "# 우리가 만약에 베스킨이 있는데 퍼주는 용량을 g이 일정 이상 되어야 하는데  여러번 볼 때 100g이냐 아니냐 조사를 하면 T-Test를 쓰게 된다.\n",
    "\n",
    "# 그런데 각 매장별로 만족도를 조사해서 차이가 있는지 본다면, 이 경우에는 여러가지 집단이 되기 때문에 ANOVA를 쓴다. \n"
   ]
  },
  {
   "cell_type": "markdown",
   "metadata": {},
   "source": [
    "< 출처 >\n",
    "\n",
    "https://github.com/slmteruto/academy/blob/master/R_work/StatProject/2_T-test.R"
   ]
  },
  {
   "cell_type": "code",
   "execution_count": null,
   "metadata": {},
   "outputs": [],
   "source": []
  },
  {
   "cell_type": "markdown",
   "metadata": {},
   "source": [
    "## one way, 집단 3개 이상 일 때\n",
    "\n",
    "\n",
    "    1) 결과값이 연속변수 ex) age -----------→ 2. kruskal-Wallis H test : kruskal.test() → 사후검정 : posthocTGH()\n",
    "                ↓                           ↑\n",
    "                ↓                           ↑\n",
    "    2) 각각의 결과값이 정규분포 --------------\n",
    "        : shapiro.test(resid(out))\n",
    "                ↓\n",
    "                ↓\n",
    "    3) 각각의 정규분포가 서로 등분산 --------→ 3.Welch's ANOVA : oneway.test() → 사후검정 : mctp()\n",
    "        : bartlett.test()\n",
    "                ↓\n",
    "                ↓\n",
    "             1. ANOVA : aov() → 사후검정 : TukeyHSD()\n",
    "\n",
    "\n",
    "    - 사후검정 : 한 집단과 다른 집단과의 차이 알아보기\n",
    "\n"
   ]
  },
  {
   "cell_type": "code",
   "execution_count": null,
   "metadata": {},
   "outputs": [],
   "source": []
  },
  {
   "cell_type": "markdown",
   "metadata": {},
   "source": [
    "### 예시1. LDLC에 따른 진단결과\n",
    "\n",
    "    종속변수(결과변수) : LDLC(저밀도 콜레스테롤 수치)\n",
    "    원인변수(독립변수) : Dx(진단 결과) : STEMI, NSTEMI, unstable angina"
   ]
  },
  {
   "cell_type": "code",
   "execution_count": 5,
   "metadata": {},
   "outputs": [
    {
     "name": "stdout",
     "output_type": "stream",
     "text": [
      "'data.frame':\t857 obs. of  17 variables:\n",
      " $ age             : int  62 78 76 89 56 73 58 62 59 71 ...\n",
      " $ sex             : chr  \"Male\" \"Female\" \"Female\" \"Female\" ...\n",
      " $ cardiogenicShock: chr  \"No\" \"No\" \"Yes\" \"No\" ...\n",
      " $ entry           : chr  \"Femoral\" \"Femoral\" \"Femoral\" \"Femoral\" ...\n",
      " $ Dx              : chr  \"STEMI\" \"STEMI\" \"STEMI\" \"STEMI\" ...\n",
      " $ EF              : num  18 18.4 20 21.8 21.8 22 24.7 26.6 28.5 31.1 ...\n",
      " $ height          : num  168 148 NA 165 162 153 167 160 152 168 ...\n",
      " $ weight          : num  72 48 NA 50 64 59 78 50 67 60 ...\n",
      " $ BMI             : num  25.5 21.9 NA 18.4 24.4 ...\n",
      " $ obesity         : chr  \"Yes\" \"No\" \"No\" \"No\" ...\n",
      " $ TC              : num  215 NA NA 121 195 184 161 136 239 169 ...\n",
      " $ LDLC            : int  154 NA NA 73 151 112 91 88 161 88 ...\n",
      " $ HDLC            : int  35 NA NA 20 36 38 34 33 34 54 ...\n",
      " $ TG              : int  155 166 NA 89 63 137 196 30 118 141 ...\n",
      " $ DM              : chr  \"Yes\" \"No\" \"No\" \"No\" ...\n",
      " $ HBP             : chr  \"No\" \"Yes\" \"Yes\" \"No\" ...\n",
      " $ smoking         : chr  \"Smoker\" \"Never\" \"Never\" \"Never\" ...\n"
     ]
    },
    {
     "data": {
      "text/html": [
       "<table>\n",
       "<thead><tr><th scope=col>age</th><th scope=col>sex</th><th scope=col>cardiogenicShock</th><th scope=col>entry</th><th scope=col>Dx</th><th scope=col>EF</th><th scope=col>height</th><th scope=col>weight</th><th scope=col>BMI</th><th scope=col>obesity</th><th scope=col>TC</th><th scope=col>LDLC</th><th scope=col>HDLC</th><th scope=col>TG</th><th scope=col>DM</th><th scope=col>HBP</th><th scope=col>smoking</th></tr></thead>\n",
       "<tbody>\n",
       "\t<tr><td>62             </td><td>Male           </td><td>No             </td><td>Femoral        </td><td>STEMI          </td><td>18.0           </td><td>168            </td><td>72             </td><td>25.51020       </td><td>Yes            </td><td>215            </td><td>154            </td><td>35             </td><td>155            </td><td>Yes            </td><td>No             </td><td>Smoker         </td></tr>\n",
       "\t<tr><td>78             </td><td>Female         </td><td>No             </td><td>Femoral        </td><td>STEMI          </td><td>18.4           </td><td>148            </td><td>48             </td><td>21.91381       </td><td>No             </td><td> NA            </td><td> NA            </td><td>NA             </td><td>166            </td><td>No             </td><td>Yes            </td><td>Never          </td></tr>\n",
       "\t<tr><td>76             </td><td>Female         </td><td>Yes            </td><td>Femoral        </td><td>STEMI          </td><td>20.0           </td><td> NA            </td><td>NA             </td><td>      NA       </td><td>No             </td><td> NA            </td><td> NA            </td><td>NA             </td><td> NA            </td><td>No             </td><td>Yes            </td><td>Never          </td></tr>\n",
       "\t<tr><td>89             </td><td>Female         </td><td>No             </td><td>Femoral        </td><td>STEMI          </td><td>21.8           </td><td>165            </td><td>50             </td><td>18.36547       </td><td>No             </td><td>121            </td><td> 73            </td><td>20             </td><td> 89            </td><td>No             </td><td>No             </td><td>Never          </td></tr>\n",
       "\t<tr><td>56             </td><td>Male           </td><td>No             </td><td>Radial         </td><td>NSTEMI         </td><td>21.8           </td><td>162            </td><td>64             </td><td>24.38653       </td><td>No             </td><td>195            </td><td>151            </td><td>36             </td><td> 63            </td><td>Yes            </td><td>Yes            </td><td>Smoker         </td></tr>\n",
       "\t<tr><td>73             </td><td>Female         </td><td>No             </td><td>Radial         </td><td>Unstable Angina</td><td>22.0           </td><td>153            </td><td>59             </td><td>25.20398       </td><td>Yes            </td><td>184            </td><td>112            </td><td>38             </td><td>137            </td><td>Yes            </td><td>Yes            </td><td>Never          </td></tr>\n",
       "</tbody>\n",
       "</table>\n"
      ],
      "text/latex": [
       "\\begin{tabular}{r|lllllllllllllllll}\n",
       " age & sex & cardiogenicShock & entry & Dx & EF & height & weight & BMI & obesity & TC & LDLC & HDLC & TG & DM & HBP & smoking\\\\\n",
       "\\hline\n",
       "\t 62              & Male            & No              & Femoral         & STEMI           & 18.0            & 168             & 72              & 25.51020        & Yes             & 215             & 154             & 35              & 155             & Yes             & No              & Smoker         \\\\\n",
       "\t 78              & Female          & No              & Femoral         & STEMI           & 18.4            & 148             & 48              & 21.91381        & No              &  NA             &  NA             & NA              & 166             & No              & Yes             & Never          \\\\\n",
       "\t 76              & Female          & Yes             & Femoral         & STEMI           & 20.0            &  NA             & NA              &       NA        & No              &  NA             &  NA             & NA              &  NA             & No              & Yes             & Never          \\\\\n",
       "\t 89              & Female          & No              & Femoral         & STEMI           & 21.8            & 165             & 50              & 18.36547        & No              & 121             &  73             & 20              &  89             & No              & No              & Never          \\\\\n",
       "\t 56              & Male            & No              & Radial          & NSTEMI          & 21.8            & 162             & 64              & 24.38653        & No              & 195             & 151             & 36              &  63             & Yes             & Yes             & Smoker         \\\\\n",
       "\t 73              & Female          & No              & Radial          & Unstable Angina & 22.0            & 153             & 59              & 25.20398        & Yes             & 184             & 112             & 38              & 137             & Yes             & Yes             & Never          \\\\\n",
       "\\end{tabular}\n"
      ],
      "text/markdown": [
       "\n",
       "| age | sex | cardiogenicShock | entry | Dx | EF | height | weight | BMI | obesity | TC | LDLC | HDLC | TG | DM | HBP | smoking |\n",
       "|---|---|---|---|---|---|---|---|---|---|---|---|---|---|---|---|---|\n",
       "| 62              | Male            | No              | Femoral         | STEMI           | 18.0            | 168             | 72              | 25.51020        | Yes             | 215             | 154             | 35              | 155             | Yes             | No              | Smoker          |\n",
       "| 78              | Female          | No              | Femoral         | STEMI           | 18.4            | 148             | 48              | 21.91381        | No              |  NA             |  NA             | NA              | 166             | No              | Yes             | Never           |\n",
       "| 76              | Female          | Yes             | Femoral         | STEMI           | 20.0            |  NA             | NA              |       NA        | No              |  NA             |  NA             | NA              |  NA             | No              | Yes             | Never           |\n",
       "| 89              | Female          | No              | Femoral         | STEMI           | 21.8            | 165             | 50              | 18.36547        | No              | 121             |  73             | 20              |  89             | No              | No              | Never           |\n",
       "| 56              | Male            | No              | Radial          | NSTEMI          | 21.8            | 162             | 64              | 24.38653        | No              | 195             | 151             | 36              |  63             | Yes             | Yes             | Smoker          |\n",
       "| 73              | Female          | No              | Radial          | Unstable Angina | 22.0            | 153             | 59              | 25.20398        | Yes             | 184             | 112             | 38              | 137             | Yes             | Yes             | Never           |\n",
       "\n"
      ],
      "text/plain": [
       "  age sex    cardiogenicShock entry   Dx              EF   height weight\n",
       "1 62  Male   No               Femoral STEMI           18.0 168    72    \n",
       "2 78  Female No               Femoral STEMI           18.4 148    48    \n",
       "3 76  Female Yes              Femoral STEMI           20.0  NA    NA    \n",
       "4 89  Female No               Femoral STEMI           21.8 165    50    \n",
       "5 56  Male   No               Radial  NSTEMI          21.8 162    64    \n",
       "6 73  Female No               Radial  Unstable Angina 22.0 153    59    \n",
       "  BMI      obesity TC  LDLC HDLC TG  DM  HBP smoking\n",
       "1 25.51020 Yes     215 154  35   155 Yes No  Smoker \n",
       "2 21.91381 No       NA  NA  NA   166 No  Yes Never  \n",
       "3       NA No       NA  NA  NA    NA No  Yes Never  \n",
       "4 18.36547 No      121  73  20    89 No  No  Never  \n",
       "5 24.38653 No      195 151  36    63 Yes Yes Smoker \n",
       "6 25.20398 Yes     184 112  38   137 Yes Yes Never  "
      ]
     },
     "metadata": {},
     "output_type": "display_data"
    }
   ],
   "source": [
    "# acs 데이터 준비\n",
    "\n",
    "# library(moonBook)\n",
    "str(acs)\n",
    "head(acs)"
   ]
  },
  {
   "cell_type": "code",
   "execution_count": 6,
   "metadata": {},
   "outputs": [
    {
     "data": {
      "image/png": "[encoded data removed]",
      "text/plain": [
       "Plot with title \"Distribution of ' LDLC ' by ' Dx '\""
      ]
     },
     "metadata": {},
     "output_type": "display_data"
    }
   ],
   "source": [
    "# 정규분포 확인 : 그래프 그려보기\n",
    "\n",
    "moonBook::densityplot(LDLC ~ Dx, data=acs)\n",
    "# 그래프로 봤을 떄 초록색 STEMI만 정규분포라고 추측할 수 있다"
   ]
  },
  {
   "cell_type": "code",
   "execution_count": 7,
   "metadata": {},
   "outputs": [
    {
     "data": {
      "text/plain": [
       "\n",
       "\tShapiro-Wilk normality test\n",
       "\n",
       "data:  acs$LDLC[acs$Dx == \"NSTEMI\"]\n",
       "W = 0.89996, p-value = 1.56e-08\n"
      ]
     },
     "metadata": {},
     "output_type": "display_data"
    },
    {
     "data": {
      "text/plain": [
       "\n",
       "\tShapiro-Wilk normality test\n",
       "\n",
       "data:  acs$LDLC[acs$Dx == \"STEMI\"]\n",
       "W = 0.99574, p-value = 0.6066\n"
      ]
     },
     "metadata": {},
     "output_type": "display_data"
    },
    {
     "data": {
      "text/plain": [
       "\n",
       "\tShapiro-Wilk normality test\n",
       "\n",
       "data:  acs$LDLC[acs$Dx == \"Unstable Angina\"]\n",
       "W = 0.96889, p-value = 2.136e-07\n"
      ]
     },
     "metadata": {},
     "output_type": "display_data"
    }
   ],
   "source": [
    "# 정규분포 확인 : shapiro.test 하나하나 다 계산\n",
    "\n",
    "shapiro.test(acs$LDLC[acs$Dx==\"NSTEMI\"])\n",
    "# p-value 0.05보다 작음 / 정규분포X\n",
    "\n",
    "shapiro.test(acs$LDLC[acs$Dx==\"STEMI\"])\n",
    "# p-value 0.05보다 큼 / 정규분포O\n",
    "\n",
    "shapiro.test(acs$LDLC[acs$Dx==\"Unstable Angina\"])\n",
    "# p-value 0.05보다 작음 / 정규분포X"
   ]
  },
  {
   "cell_type": "code",
   "execution_count": 11,
   "metadata": {},
   "outputs": [
    {
     "data": {
      "text/plain": [
       "Call:\n",
       "   aov(formula = LDLC ~ Dx, data = acs)\n",
       "\n",
       "Terms:\n",
       "                     Dx Residuals\n",
       "Sum of Squares    18765   1386306\n",
       "Deg. of Freedom       2       830\n",
       "\n",
       "Residual standard error: 40.86866\n",
       "Estimated effects may be unbalanced\n",
       "24 observations deleted due to missingness"
      ]
     },
     "metadata": {},
     "output_type": "display_data"
    },
    {
     "data": {
      "text/plain": [
       "\n",
       "\tShapiro-Wilk normality test\n",
       "\n",
       "data:  resid(out)\n",
       "W = 0.97137, p-value = 1.024e-11\n"
      ]
     },
     "metadata": {},
     "output_type": "display_data"
    }
   ],
   "source": [
    "# 정규분포 확인 : shapiro.test aov를 이용하여 한번에 계산\n",
    "\n",
    "out = aov(LDLC ~ Dx, data=acs)\n",
    "out\n",
    "# Residuals(잔차) : 평균에서 멀어진 값들에 대한 차이, 오차값\n",
    "\n",
    "# resid(out)\n",
    "# resid : 잔차 구해주는 함수, 한번에 정규성 확인 가능\n",
    "\n",
    "shapiro.test(resid(out))\n",
    "# p-value 0.05보다 작음 / 정규분포X"
   ]
  },
  {
   "cell_type": "code",
   "execution_count": 12,
   "metadata": {},
   "outputs": [
    {
     "data": {
      "text/plain": [
       "\n",
       "\tBartlett test of homogeneity of variances\n",
       "\n",
       "data:  LDLC by Dx\n",
       "Bartlett's K-squared = 3.3668, df = 2, p-value = 0.1857\n"
      ]
     },
     "metadata": {},
     "output_type": "display_data"
    }
   ],
   "source": [
    "# 세 그룹의 등분산 확인\n",
    "# bartlett.test : 세집단 이상일 때 사용하는 등분산\n",
    "\n",
    "bartlett.test(LDLC ~ Dx, data=acs)\n",
    "# p-value 0.05보다 큼 / 등분산O\n",
    "# 데이터의 흩어짐 정도는 비슷했다는 것을 알 수 있음 "
   ]
  },
  {
   "cell_type": "markdown",
   "metadata": {},
   "source": [
    "#### 조건에 따른 p-value값 알아보기"
   ]
  },
  {
   "cell_type": "code",
   "execution_count": 26,
   "metadata": {},
   "outputs": [
    {
     "data": {
      "text/plain": [
       "             Df  Sum Sq Mean Sq F value  Pr(>F)   \n",
       "Dx            2   18765    9382   5.617 0.00377 **\n",
       "Residuals   830 1386305    1670                   \n",
       "---\n",
       "Signif. codes:  0 '***' 0.001 '**' 0.01 '*' 0.05 '.' 0.1 ' ' 1\n",
       "24 observations deleted due to missingness"
      ]
     },
     "metadata": {},
     "output_type": "display_data"
    },
    {
     "data": {
      "image/png": "[encoded data removed]",
      "text/plain": [
       "plot without title"
      ]
     },
     "metadata": {},
     "output_type": "display_data"
    }
   ],
   "source": [
    "# 정규분포O and 등분산O 일때 세 그룹의 평균 비교 -> aov()  (one way anova 사용)\n",
    "## 위 데이터, 정규분포는 아니지만....\n",
    "\n",
    "boxplot(LDLC ~ Dx, data=acs)\n",
    "\n",
    "out = aov(LDLC ~ Dx, data=acs)\n",
    "summary(out)\n",
    "# Pr = 0.00377  0.05보다 작음 \n",
    "# 대립가설 성립 = 차이가 있음 / 즉, 진단결과에 따른 LDLC의 차이가 있다"
   ]
  },
  {
   "cell_type": "code",
   "execution_count": 19,
   "metadata": {},
   "outputs": [
    {
     "data": {
      "text/plain": [
       "\n",
       "\tOne-way analysis of means (not assuming equal variances)\n",
       "\n",
       "data:  LDLC and Dx\n",
       "F = 4.96, num df = 2.00, denom df = 382.11, p-value = 0.007471\n"
      ]
     },
     "metadata": {},
     "output_type": "display_data"
    }
   ],
   "source": [
    "# 정규분포O(정규분포 하나) and 등분산X -> oneway.test()   (oneway ANOVA)\n",
    "\n",
    "oneway.test(LDLC ~ Dx, data=acs, var.equal=F)\n",
    "# 등분산일때 var.equal=T, 등분산 아닐때 var.equal=F\n",
    "# p-value = 0.007471  0.05보다 작음\n",
    "# # 대립가설 성립 = 차이가 있음 / 즉, 진단결과에 따른 LDLC의 차이가 있다"
   ]
  },
  {
   "cell_type": "code",
   "execution_count": 28,
   "metadata": {},
   "outputs": [
    {
     "data": {
      "text/plain": [
       "\n",
       "\tKruskal-Wallis rank sum test\n",
       "\n",
       "data:  LDLC by Dx\n",
       "Kruskal-Wallis chi-squared = 10.733, df = 2, p-value = 0.004669\n"
      ]
     },
     "metadata": {},
     "output_type": "display_data"
    }
   ],
   "source": [
    "# 연속변수X or 정규분포X -> kruskal.test()\n",
    "# 세 그룹의 평균을 비교하는 비모수 방법\n",
    "\n",
    "kruskal.test(LDLC ~ Dx, data=acs)\n",
    "# p-value = 0.004669  0.05보다 작음 \n",
    "# 대립가설 성립 = 차이가 있음 / 즉, 진단결과에 따른 LDLC의 차이가 있다"
   ]
  },
  {
   "cell_type": "markdown",
   "metadata": {},
   "source": [
    "#### 사후 검정 : 한 집단과 다른 집단과의 차이 알아보기"
   ]
  },
  {
   "cell_type": "code",
   "execution_count": 21,
   "metadata": {},
   "outputs": [
    {
     "data": {
      "text/plain": [
       "  Tukey multiple comparisons of means\n",
       "    95% family-wise confidence level\n",
       "\n",
       "Fit: aov(formula = LDLC ~ Dx, data = acs)\n",
       "\n",
       "$Dx\n",
       "                             diff       lwr        upr     p adj\n",
       "STEMI-NSTEMI            -9.370105 -19.04130  0.3010954 0.0599378\n",
       "Unstable Angina-NSTEMI -13.217357 -22.47817 -3.9565482 0.0024227\n",
       "Unstable Angina-STEMI   -3.847252 -11.25450  3.5599980 0.4419434\n"
      ]
     },
     "metadata": {},
     "output_type": "display_data"
    }
   ],
   "source": [
    "# avo() 사용했을 때 사후검정 -> TukeyHSD()\n",
    "# 정규분포이고 등분산일 때\n",
    "\n",
    "TukeyHSD(out)\n",
    "# STEMI-NSTEMI의 p adj = 0.0599378 / 0.05보다 큼 / 집단사이의 차이가 없다\n",
    "# Unstable Angina-NSTEMI의 p adj = 0.0024227 / 0.05보다 작음 / 집단사이의 차이가 있다\n",
    "# Unstable Angina-STEMI의 p adj = 0.4419434 / 0.05보다 큼 / 집단사이의 차이가 완벽하게 없다"
   ]
  },
  {
   "cell_type": "code",
   "execution_count": 31,
   "metadata": {
    "scrolled": true
   },
   "outputs": [
    {
     "name": "stdout",
     "output_type": "stream",
     "text": [
      "'data.frame':\t72 obs. of  2 variables:\n",
      " $ count: num  10 7 20 14 14 12 10 23 17 20 ...\n",
      " $ spray: Factor w/ 6 levels \"A\",\"B\",\"C\",\"D\",..: 1 1 1 1 1 1 1 1 1 1 ...\n"
     ]
    },
    {
     "data": {
      "text/html": [
       "<table>\n",
       "<thead><tr><th scope=col>count</th><th scope=col>spray</th></tr></thead>\n",
       "<tbody>\n",
       "\t<tr><td>10</td><td>A </td></tr>\n",
       "\t<tr><td> 7</td><td>A </td></tr>\n",
       "\t<tr><td>20</td><td>A </td></tr>\n",
       "\t<tr><td>14</td><td>A </td></tr>\n",
       "\t<tr><td>14</td><td>A </td></tr>\n",
       "\t<tr><td>12</td><td>A </td></tr>\n",
       "</tbody>\n",
       "</table>\n"
      ],
      "text/latex": [
       "\\begin{tabular}{r|ll}\n",
       " count & spray\\\\\n",
       "\\hline\n",
       "\t 10 & A \\\\\n",
       "\t  7 & A \\\\\n",
       "\t 20 & A \\\\\n",
       "\t 14 & A \\\\\n",
       "\t 14 & A \\\\\n",
       "\t 12 & A \\\\\n",
       "\\end{tabular}\n"
      ],
      "text/markdown": [
       "\n",
       "| count | spray |\n",
       "|---|---|\n",
       "| 10 | A  |\n",
       "|  7 | A  |\n",
       "| 20 | A  |\n",
       "| 14 | A  |\n",
       "| 14 | A  |\n",
       "| 12 | A  |\n",
       "\n"
      ],
      "text/plain": [
       "  count spray\n",
       "1 10    A    \n",
       "2  7    A    \n",
       "3 20    A    \n",
       "4 14    A    \n",
       "5 14    A    \n",
       "6 12    A    "
      ]
     },
     "metadata": {},
     "output_type": "display_data"
    },
    {
     "name": "stderr",
     "output_type": "stream",
     "text": [
      "Registered S3 methods overwritten by 'ufs':\n",
      "  method                     from               \n",
      "  grid.draw.ggProportionPlot userfriendlyscience\n",
      "  pander.associationMatrix   userfriendlyscience\n",
      "  pander.dataShape           userfriendlyscience\n",
      "  pander.descr               userfriendlyscience\n",
      "  pander.normalityAssessment userfriendlyscience\n",
      "  print.CramersV             userfriendlyscience\n",
      "  print.associationMatrix    userfriendlyscience\n",
      "  print.confIntOmegaSq       userfriendlyscience\n",
      "  print.confIntV             userfriendlyscience\n",
      "  print.dataShape            userfriendlyscience\n",
      "  print.descr                userfriendlyscience\n",
      "  print.ggProportionPlot     userfriendlyscience\n",
      "  print.meanConfInt          userfriendlyscience\n",
      "  print.multiVarFreq         userfriendlyscience\n",
      "  print.normalityAssessment  userfriendlyscience\n",
      "  print.scaleDiagnosis       userfriendlyscience\n",
      "  print.scaleStructure       userfriendlyscience\n",
      "  print.scatterMatrix        userfriendlyscience\n"
     ]
    },
    {
     "data": {
      "text/plain": [
       "   n means variances\n",
       "A 12  14.5      22.3\n",
       "B 12  15.3      18.2\n",
       "C 12   2.1       3.9\n",
       "D 12   4.9       6.3\n",
       "E 12   3.5       3.0\n",
       "F 12  16.7      38.6\n",
       "\n",
       "      diff   ci.lo ci.hi    t df    p\n",
       "B-A   0.83  -4.896   6.6 0.45 22    1\n",
       "C-A -12.42 -17.226  -7.6 8.41 15 <.01\n",
       "D-A  -9.58 -14.525  -4.6 6.21 17 <.01\n",
       "E-A -11.00 -15.764  -6.2 7.58 14 <.01\n",
       "F-A   2.17  -4.895   9.2 0.96 21  .92\n",
       "C-B -13.25 -17.645  -8.9 9.75 15 <.01\n",
       "D-B -10.42 -14.965  -5.9 7.29 18 <.01\n",
       "E-B -11.83 -16.175  -7.5 8.89 15 <.01\n",
       "F-B   1.33  -5.526   8.2 0.61 19  .99\n",
       "D-C   2.83  -0.048   5.7 3.08 21  .06\n",
       "E-C   1.42  -0.949   3.8 1.87 22  .45\n",
       "F-C  14.58   8.357  20.8 7.75 13 <.01\n",
       "E-D  -1.42  -4.185   1.4 1.61 20   .6\n",
       "F-D  11.75   5.437  18.1 6.08 14 <.01\n",
       "F-E  13.17   6.969  19.4 7.07 13 <.01"
      ]
     },
     "metadata": {},
     "output_type": "display_data"
    },
    {
     "data": {
      "image/png": "[encoded data removed]",
      "text/plain": [
       "Plot with title \"Distribution of ' count ' by ' spray '\""
      ]
     },
     "metadata": {},
     "output_type": "display_data"
    }
   ],
   "source": [
    "# kruskal.test() 사용했을 때 사후검정 -> posthocTGH\n",
    "# 정규분포이고 등분산 아닐 때\n",
    "\n",
    "# install.packages(\"userfriendlyscience\")\n",
    "# library(userfriendlyscience)\n",
    "\n",
    "# 다른 예제 사용해보자\n",
    "str(InsectSprays)\n",
    "head(InsectSprays)\n",
    "\n",
    "moonBook::densityplot(count ~ spray, data=InsectSprays)\n",
    "\n",
    "posthocTGH(x=InsectSprays$spray, y=InsectSprays$count, method=\"games-howell\")\n",
    "# tukey 방법 쓸때는 method=\"tukey\" 써주고 나머지는 다 games-howell \n",
    "# p값 보고 두 집단의 평균을 비교해보자"
   ]
  },
  {
   "cell_type": "code",
   "execution_count": 34,
   "metadata": {
    "scrolled": true
   },
   "outputs": [
    {
     "name": "stdout",
     "output_type": "stream",
     "text": [
      "\n",
      " #----------------Nonparametric Multiple Comparisons for relative effects---------------# \n",
      " \n",
      " - Alternative Hypothesis:  True differences of relative effects are not equal to 0 \n",
      " - Estimation Method:  Global Pseudo Ranks \n",
      " - Type of Contrast : Tukey \n",
      " - Confidence Level: 95 % \n",
      " - Method = Fisher with 290 DF \n",
      " \n",
      " #--------------------------------------------------------------------------------------# \n",
      " \n",
      "\n",
      " #----------------Nonparametric Multiple Comparisons for relative effects---------------# \n",
      " \n",
      " - Alternative Hypothesis:  True differences of relative effects are not equal to 0 \n",
      " - Estimation Method: Global Pseudo ranks \n",
      " - Type of Contrast : Tukey \n",
      " - Confidence Level: 95 % \n",
      " - Method = Fisher with 290 DF \n",
      " \n",
      " #--------------------------------------------------------------------------------------# \n",
      " \n",
      " #----Data Info-------------------------------------------------------------------------# \n",
      "           Sample Size    Effect     Lower     Upper\n",
      "1          NSTEMI  148 0.5466111 0.5189087 0.5740277\n",
      "2           STEMI  294 0.4961078 0.4723244 0.5199088\n",
      "3 Unstable Angina  391 0.4572811 0.4350779 0.4796554\n",
      "\n",
      " #----Contrast--------------------------------------------------------------------------# \n",
      "       1  2 3\n",
      "2 - 1 -1  1 0\n",
      "3 - 1 -1  0 1\n",
      "3 - 2  0 -1 1\n",
      "\n",
      " #----Analysis--------------------------------------------------------------------------# \n",
      "      Estimator  Lower  Upper Statistic     p.Value\n",
      "2 - 1    -0.051 -0.117  0.016    -1.785 0.174776867\n",
      "3 - 1    -0.089 -0.152 -0.026    -3.310 0.002973772\n",
      "3 - 2    -0.039 -0.092  0.014    -1.725 0.195746608\n",
      "\n",
      " #----Overall---------------------------------------------------------------------------# \n",
      "  Quantile     p.Value\n",
      "1 2.351162 0.002973772\n",
      "\n",
      " #--------------------------------------------------------------------------------------# \n"
     ]
    }
   ],
   "source": [
    "# oneway.test() 를 사용했을 때 사후 검정 -> mctp()\n",
    "# Welch's ANOVA의 사후검정방법\n",
    "\n",
    "# install.packages(\"nparcomp\")\n",
    "# library(nparcomp)\n",
    "\n",
    "result <- mctp(LDLC ~ Dx, data=acs)\n",
    "summary(result)\n",
    "# analysis 보면 각 값에 따른 p.Value 값 확인 가능"
   ]
  },
  {
   "cell_type": "code",
   "execution_count": null,
   "metadata": {},
   "outputs": [],
   "source": []
  },
  {
   "cell_type": "markdown",
   "metadata": {},
   "source": [
    "### 예시2. iris\n",
    "품종별로 Sepal.Width의 평균 차이가 있는가? 차이가 있다면 어느 품종과 차이가 있는가?"
   ]
  },
  {
   "cell_type": "code",
   "execution_count": 35,
   "metadata": {},
   "outputs": [
    {
     "name": "stdout",
     "output_type": "stream",
     "text": [
      "'data.frame':\t150 obs. of  5 variables:\n",
      " $ Sepal.Length: num  5.1 4.9 4.7 4.6 5 5.4 4.6 5 4.4 4.9 ...\n",
      " $ Sepal.Width : num  3.5 3 3.2 3.1 3.6 3.9 3.4 3.4 2.9 3.1 ...\n",
      " $ Petal.Length: num  1.4 1.4 1.3 1.5 1.4 1.7 1.4 1.5 1.4 1.5 ...\n",
      " $ Petal.Width : num  0.2 0.2 0.2 0.2 0.2 0.4 0.3 0.2 0.2 0.1 ...\n",
      " $ Species     : Factor w/ 3 levels \"setosa\",\"versicolor\",..: 1 1 1 1 1 1 1 1 1 1 ...\n"
     ]
    },
    {
     "data": {
      "text/html": [
       "<table>\n",
       "<thead><tr><th scope=col>Sepal.Length</th><th scope=col>Sepal.Width</th><th scope=col>Petal.Length</th><th scope=col>Petal.Width</th><th scope=col>Species</th></tr></thead>\n",
       "<tbody>\n",
       "\t<tr><td>5.1   </td><td>3.5   </td><td>1.4   </td><td>0.2   </td><td>setosa</td></tr>\n",
       "\t<tr><td>4.9   </td><td>3.0   </td><td>1.4   </td><td>0.2   </td><td>setosa</td></tr>\n",
       "\t<tr><td>4.7   </td><td>3.2   </td><td>1.3   </td><td>0.2   </td><td>setosa</td></tr>\n",
       "\t<tr><td>4.6   </td><td>3.1   </td><td>1.5   </td><td>0.2   </td><td>setosa</td></tr>\n",
       "\t<tr><td>5.0   </td><td>3.6   </td><td>1.4   </td><td>0.2   </td><td>setosa</td></tr>\n",
       "\t<tr><td>5.4   </td><td>3.9   </td><td>1.7   </td><td>0.4   </td><td>setosa</td></tr>\n",
       "</tbody>\n",
       "</table>\n"
      ],
      "text/latex": [
       "\\begin{tabular}{r|lllll}\n",
       " Sepal.Length & Sepal.Width & Petal.Length & Petal.Width & Species\\\\\n",
       "\\hline\n",
       "\t 5.1    & 3.5    & 1.4    & 0.2    & setosa\\\\\n",
       "\t 4.9    & 3.0    & 1.4    & 0.2    & setosa\\\\\n",
       "\t 4.7    & 3.2    & 1.3    & 0.2    & setosa\\\\\n",
       "\t 4.6    & 3.1    & 1.5    & 0.2    & setosa\\\\\n",
       "\t 5.0    & 3.6    & 1.4    & 0.2    & setosa\\\\\n",
       "\t 5.4    & 3.9    & 1.7    & 0.4    & setosa\\\\\n",
       "\\end{tabular}\n"
      ],
      "text/markdown": [
       "\n",
       "| Sepal.Length | Sepal.Width | Petal.Length | Petal.Width | Species |\n",
       "|---|---|---|---|---|\n",
       "| 5.1    | 3.5    | 1.4    | 0.2    | setosa |\n",
       "| 4.9    | 3.0    | 1.4    | 0.2    | setosa |\n",
       "| 4.7    | 3.2    | 1.3    | 0.2    | setosa |\n",
       "| 4.6    | 3.1    | 1.5    | 0.2    | setosa |\n",
       "| 5.0    | 3.6    | 1.4    | 0.2    | setosa |\n",
       "| 5.4    | 3.9    | 1.7    | 0.4    | setosa |\n",
       "\n"
      ],
      "text/plain": [
       "  Sepal.Length Sepal.Width Petal.Length Petal.Width Species\n",
       "1 5.1          3.5         1.4          0.2         setosa \n",
       "2 4.9          3.0         1.4          0.2         setosa \n",
       "3 4.7          3.2         1.3          0.2         setosa \n",
       "4 4.6          3.1         1.5          0.2         setosa \n",
       "5 5.0          3.6         1.4          0.2         setosa \n",
       "6 5.4          3.9         1.7          0.4         setosa "
      ]
     },
     "metadata": {},
     "output_type": "display_data"
    }
   ],
   "source": [
    "# 데이터 준비\n",
    "\n",
    "str(iris) # 5개 변수에 150개 # species 3개\n",
    "head(iris)"
   ]
  },
  {
   "cell_type": "code",
   "execution_count": 37,
   "metadata": {},
   "outputs": [
    {
     "data": {
      "text/plain": [
       "\n",
       "\tShapiro-Wilk normality test\n",
       "\n",
       "data:  resid(out)\n",
       "W = 0.98948, p-value = 0.323\n"
      ]
     },
     "metadata": {},
     "output_type": "display_data"
    }
   ],
   "source": [
    "# 정규분포 확인\n",
    "\n",
    "out <- aov(Sepal.Width ~ Species, data=iris)\n",
    "shapiro.test(resid(out))\n",
    "# p-value = 0.323  0.05보다 크므로 정규분포O"
   ]
  },
  {
   "cell_type": "code",
   "execution_count": 39,
   "metadata": {},
   "outputs": [
    {
     "data": {
      "text/plain": [
       "\n",
       "\tBartlett test of homogeneity of variances\n",
       "\n",
       "data:  Sepal.Width by Species\n",
       "Bartlett's K-squared = 2.0911, df = 2, p-value = 0.3515\n"
      ]
     },
     "metadata": {},
     "output_type": "display_data"
    }
   ],
   "source": [
    "# 등분산 확인\n",
    "\n",
    "bartlett.test(Sepal.Width ~ Species, data=iris)\n",
    "# p-value = 0.3515  0.05보다 크므로 등분산O"
   ]
  },
  {
   "cell_type": "code",
   "execution_count": 41,
   "metadata": {},
   "outputs": [
    {
     "data": {
      "text/plain": [
       "             Df Sum Sq Mean Sq F value Pr(>F)    \n",
       "Species       2  11.35   5.672   49.16 <2e-16 ***\n",
       "Residuals   147  16.96   0.115                   \n",
       "---\n",
       "Signif. codes:  0 '***' 0.001 '**' 0.01 '*' 0.05 '.' 0.1 ' ' 1"
      ]
     },
     "metadata": {},
     "output_type": "display_data"
    }
   ],
   "source": [
    "# ANOVA 이용해서 p-value값 알아보기\n",
    "\n",
    "summary(out)\n",
    "# Pr 0.05보다 작으므로 대립가설 / 품종별 Sepal.Width 차이가 있다"
   ]
  },
  {
   "cell_type": "code",
   "execution_count": 42,
   "metadata": {},
   "outputs": [
    {
     "data": {
      "text/plain": [
       "  Tukey multiple comparisons of means\n",
       "    95% family-wise confidence level\n",
       "\n",
       "Fit: aov(formula = Sepal.Width ~ Species, data = iris)\n",
       "\n",
       "$Species\n",
       "                       diff         lwr        upr     p adj\n",
       "versicolor-setosa    -0.658 -0.81885528 -0.4971447 0.0000000\n",
       "virginica-setosa     -0.454 -0.61485528 -0.2931447 0.0000000\n",
       "virginica-versicolor  0.204  0.04314472  0.3648553 0.0087802\n"
      ]
     },
     "metadata": {},
     "output_type": "display_data"
    }
   ],
   "source": [
    "# TukeyHSD 이용해서 사후검정 \n",
    "\n",
    "TukeyHSD(out)\n",
    "# p adj 보고 판단 / 모든 품종마다 Sepal.Width 차이가 있네여..."
   ]
  },
  {
   "cell_type": "code",
   "execution_count": null,
   "metadata": {},
   "outputs": [],
   "source": []
  },
  {
   "cell_type": "markdown",
   "metadata": {},
   "source": [
    "### 예시3. 시, 군, 구 별 출산율 차이\n",
    "시, 군, 구에 따라서 합계 출산율의 차이가 있는가? 있다면 어느것과 차이가 있는가? "
   ]
  },
  {
   "cell_type": "code",
   "execution_count": 43,
   "metadata": {},
   "outputs": [
    {
     "name": "stdout",
     "output_type": "stream",
     "text": [
      "'data.frame':\t226 obs. of  4 variables:\n",
      " $ cities    : Factor w/ 226 levels \"강원 강릉시\",..: 31 30 43 35 29 22 46 28 33 20 ...\n",
      " $ birth_rate: num  1.29 1.16 1.1 1.18 1.07 ...\n",
      " $ ad_layer  : Factor w/ 3 levels \"자치구\",\"자치군\",..: 3 3 3 3 3 3 3 3 3 3 ...\n",
      " $ ID        : int  1 2 3 4 5 6 7 8 9 10 ...\n"
     ]
    },
    {
     "data": {
      "text/html": [
       "<table>\n",
       "<thead><tr><th scope=col>cities</th><th scope=col>birth_rate</th><th scope=col>ad_layer</th><th scope=col>ID</th></tr></thead>\n",
       "<tbody>\n",
       "\t<tr><td>경기 수원시  </td><td>1.292        </td><td>자치시       </td><td>1            </td></tr>\n",
       "\t<tr><td>경기 성남시  </td><td>1.159        </td><td>자치시       </td><td>2            </td></tr>\n",
       "\t<tr><td>경기 의정부시</td><td>1.104        </td><td>자치시       </td><td>3            </td></tr>\n",
       "\t<tr><td>경기 안양시  </td><td>1.177        </td><td>자치시       </td><td>4            </td></tr>\n",
       "\t<tr><td>경기 부천시  </td><td>1.072        </td><td>자치시       </td><td>5            </td></tr>\n",
       "\t<tr><td>경기 광명시  </td><td>1.235        </td><td>자치시       </td><td>6            </td></tr>\n",
       "</tbody>\n",
       "</table>\n"
      ],
      "text/latex": [
       "\\begin{tabular}{r|llll}\n",
       " cities & birth\\_rate & ad\\_layer & ID\\\\\n",
       "\\hline\n",
       "\t 경기 수원시   & 1.292         & 자치시        & 1            \\\\\n",
       "\t 경기 성남시   & 1.159         & 자치시        & 2            \\\\\n",
       "\t 경기 의정부시 & 1.104         & 자치시        & 3            \\\\\n",
       "\t 경기 안양시   & 1.177         & 자치시        & 4            \\\\\n",
       "\t 경기 부천시   & 1.072         & 자치시        & 5            \\\\\n",
       "\t 경기 광명시   & 1.235         & 자치시        & 6            \\\\\n",
       "\\end{tabular}\n"
      ],
      "text/markdown": [
       "\n",
       "| cities | birth_rate | ad_layer | ID |\n",
       "|---|---|---|---|\n",
       "| 경기 수원시   | 1.292         | 자치시        | 1             |\n",
       "| 경기 성남시   | 1.159         | 자치시        | 2             |\n",
       "| 경기 의정부시 | 1.104         | 자치시        | 3             |\n",
       "| 경기 안양시   | 1.177         | 자치시        | 4             |\n",
       "| 경기 부천시   | 1.072         | 자치시        | 5             |\n",
       "| 경기 광명시   | 1.235         | 자치시        | 6             |\n",
       "\n"
      ],
      "text/plain": [
       "  cities        birth_rate ad_layer ID\n",
       "1 경기 수원시   1.292      자치시   1 \n",
       "2 경기 성남시   1.159      자치시   2 \n",
       "3 경기 의정부시 1.104      자치시   3 \n",
       "4 경기 안양시   1.177      자치시   4 \n",
       "5 경기 부천시   1.072      자치시   5 \n",
       "6 경기 광명시   1.235      자치시   6 "
      ]
     },
     "metadata": {},
     "output_type": "display_data"
    }
   ],
   "source": [
    "# 데이터 준비\n",
    "\n",
    "mydata <- read.csv(\"C:/Users/cho ye seul/Documents/예슬/Acorn/rwork/StatProject/data/anova_one_way.csv\")\n",
    "str(mydata) # 4개의 변수 226개\n",
    "head(mydata)"
   ]
  },
  {
   "cell_type": "code",
   "execution_count": 46,
   "metadata": {},
   "outputs": [
    {
     "data": {
      "text/plain": [
       "\n",
       "\tShapiro-Wilk normality test\n",
       "\n",
       "data:  resid(out2)\n",
       "W = 0.95078, p-value = 5.788e-07\n"
      ]
     },
     "metadata": {},
     "output_type": "display_data"
    }
   ],
   "source": [
    "# 정규분포 확인\n",
    "\n",
    "out2 <- aov(birth_rate ~ ad_layer, data=mydata)\n",
    "shapiro.test(resid(out2))\n",
    "# p-value 0.05보다 작음 정규분포X"
   ]
  },
  {
   "cell_type": "code",
   "execution_count": 47,
   "metadata": {},
   "outputs": [
    {
     "data": {
      "text/plain": [
       "\n",
       "\tKruskal-Wallis rank sum test\n",
       "\n",
       "data:  birth_rate by ad_layer\n",
       "Kruskal-Wallis chi-squared = 74.612, df = 2, p-value < 2.2e-16\n"
      ]
     },
     "metadata": {},
     "output_type": "display_data"
    }
   ],
   "source": [
    "# p-value 값 알기\n",
    "# 정규분포가 아니므로 kruskal-Wallis H test 사용\n",
    "\n",
    "kruskal.test(birth_rate ~ ad_layer, data=mydata)\n",
    "# p-value 0.05 보다 작음 대립가설 성립\n",
    "# 시, 군, 구에 따라 출산율 차이가 있다(좀 말이 안되는 소리같긴하지만.. 차이가 있다니 뭐..)"
   ]
  },
  {
   "cell_type": "code",
   "execution_count": 49,
   "metadata": {},
   "outputs": [
    {
     "data": {
      "text/plain": [
       "        n means variances\n",
       "자치구 69   1.1     0.041\n",
       "자치군 82   1.5     0.081\n",
       "자치시 75   1.4     0.032\n",
       "\n",
       "                diff ci.lo   ci.hi   t  df    p\n",
       "자치군-자치구  0.347  0.25  0.4413 8.7 145 <.01\n",
       "자치시-자치구  0.253  0.18  0.3287 7.9 136 <.01\n",
       "자치시-자치군 -0.094 -0.18 -0.0052 2.5 138  .04"
      ]
     },
     "metadata": {},
     "output_type": "display_data"
    }
   ],
   "source": [
    "# posthocTGH를 사용하여 사후검정\n",
    "\n",
    "posthocTGH(x=mydata$ad_layer, y=mydata$birth_rate, method=\"games-howell\")\n",
    "# p 값을 확인하여 각 집단별 차이를 알아보자 \n",
    "# p 값이 다 0.05보다 작네 다 차이있데요"
   ]
  },
  {
   "cell_type": "code",
   "execution_count": null,
   "metadata": {},
   "outputs": [],
   "source": []
  },
  {
   "cell_type": "markdown",
   "metadata": {},
   "source": [
    "### 예시4. 다가구 지원조례 채택 여부\n",
    "Two Way ANOVA 경우 알아보기"
   ]
  },
  {
   "cell_type": "code",
   "execution_count": 50,
   "metadata": {},
   "outputs": [
    {
     "name": "stdout",
     "output_type": "stream",
     "text": [
      "'data.frame':\t226 obs. of  5 variables:\n",
      " $ cities    : Factor w/ 226 levels \"강원 강릉시\",..: 31 30 43 35 29 22 46 28 33 20 ...\n",
      " $ birth_rate: num  1.29 1.16 1.1 1.18 1.07 ...\n",
      " $ ad_layer  : Factor w/ 3 levels \"자치구\",\"자치군\",..: 3 3 3 3 3 3 3 3 3 3 ...\n",
      " $ multichild: Factor w/ 2 levels \"NO\",\"YES\": 1 1 1 1 1 1 1 1 2 1 ...\n",
      " $ ID        : int  1 2 3 4 5 6 7 8 9 10 ...\n"
     ]
    },
    {
     "data": {
      "text/html": [
       "<table>\n",
       "<thead><tr><th scope=col>cities</th><th scope=col>birth_rate</th><th scope=col>ad_layer</th><th scope=col>multichild</th><th scope=col>ID</th></tr></thead>\n",
       "<tbody>\n",
       "\t<tr><td>경기 수원시  </td><td>1.292        </td><td>자치시       </td><td>NO           </td><td>1            </td></tr>\n",
       "\t<tr><td>경기 성남시  </td><td>1.159        </td><td>자치시       </td><td>NO           </td><td>2            </td></tr>\n",
       "\t<tr><td>경기 의정부시</td><td>1.104        </td><td>자치시       </td><td>NO           </td><td>3            </td></tr>\n",
       "\t<tr><td>경기 안양시  </td><td>1.177        </td><td>자치시       </td><td>NO           </td><td>4            </td></tr>\n",
       "\t<tr><td>경기 부천시  </td><td>1.072        </td><td>자치시       </td><td>NO           </td><td>5            </td></tr>\n",
       "\t<tr><td>경기 광명시  </td><td>1.235        </td><td>자치시       </td><td>NO           </td><td>6            </td></tr>\n",
       "</tbody>\n",
       "</table>\n"
      ],
      "text/latex": [
       "\\begin{tabular}{r|lllll}\n",
       " cities & birth\\_rate & ad\\_layer & multichild & ID\\\\\n",
       "\\hline\n",
       "\t 경기 수원시   & 1.292         & 자치시        & NO            & 1            \\\\\n",
       "\t 경기 성남시   & 1.159         & 자치시        & NO            & 2            \\\\\n",
       "\t 경기 의정부시 & 1.104         & 자치시        & NO            & 3            \\\\\n",
       "\t 경기 안양시   & 1.177         & 자치시        & NO            & 4            \\\\\n",
       "\t 경기 부천시   & 1.072         & 자치시        & NO            & 5            \\\\\n",
       "\t 경기 광명시   & 1.235         & 자치시        & NO            & 6            \\\\\n",
       "\\end{tabular}\n"
      ],
      "text/markdown": [
       "\n",
       "| cities | birth_rate | ad_layer | multichild | ID |\n",
       "|---|---|---|---|---|\n",
       "| 경기 수원시   | 1.292         | 자치시        | NO            | 1             |\n",
       "| 경기 성남시   | 1.159         | 자치시        | NO            | 2             |\n",
       "| 경기 의정부시 | 1.104         | 자치시        | NO            | 3             |\n",
       "| 경기 안양시   | 1.177         | 자치시        | NO            | 4             |\n",
       "| 경기 부천시   | 1.072         | 자치시        | NO            | 5             |\n",
       "| 경기 광명시   | 1.235         | 자치시        | NO            | 6             |\n",
       "\n"
      ],
      "text/plain": [
       "  cities        birth_rate ad_layer multichild ID\n",
       "1 경기 수원시   1.292      자치시   NO         1 \n",
       "2 경기 성남시   1.159      자치시   NO         2 \n",
       "3 경기 의정부시 1.104      자치시   NO         3 \n",
       "4 경기 안양시   1.177      자치시   NO         4 \n",
       "5 경기 부천시   1.072      자치시   NO         5 \n",
       "6 경기 광명시   1.235      자치시   NO         6 "
      ]
     },
     "metadata": {},
     "output_type": "display_data"
    }
   ],
   "source": [
    "# 데이터 준비\n",
    "\n",
    "mydata <- read.csv(\"C:/Users/cho ye seul/Documents/예슬/Acorn/rwork/StatProject/data/anova_two_way.csv\")\n",
    "str(mydata) # 5개의 변수 226개\n",
    "head(mydata)"
   ]
  },
  {
   "cell_type": "code",
   "execution_count": 51,
   "metadata": {},
   "outputs": [
    {
     "data": {
      "text/plain": [
       "\n",
       "\tShapiro-Wilk normality test\n",
       "\n",
       "data:  resid(out)\n",
       "W = 0.95725, p-value = 2.862e-06\n"
      ]
     },
     "metadata": {},
     "output_type": "display_data"
    }
   ],
   "source": [
    "# 정규분포\n",
    "\n",
    "out <- aov(birth_rate ~ ad_layer + multichild + ad_layer:multichild, data=mydata)\n",
    "# 이두개를 더해서 각각을 조합할수 있도록 :으로 연결시켜준다 \n",
    "# 그래야 2개를 조합했을때에 대한 종합적인 분석을 알아낼수있다\n",
    "# 이거는 birth_rate가 독립변수고\n",
    "# ad_layer, multichild, ad_layer:multichild 종속변수 3개인거\n",
    "\n",
    "shapiro.test(resid(out))\n",
    "# p-value 0.05보다 작아 정규분포X"
   ]
  },
  {
   "cell_type": "code",
   "execution_count": 53,
   "metadata": {},
   "outputs": [
    {
     "data": {
      "text/plain": [
       "                     Df Sum Sq Mean Sq F value Pr(>F)    \n",
       "ad_layer              2  4.722  2.3608  46.312 <2e-16 ***\n",
       "multichild            1  0.108  0.1082   2.122 0.1466    \n",
       "ad_layer:multichild   2  0.377  0.1886   3.699 0.0263 *  \n",
       "Residuals           220 11.215  0.0510                   \n",
       "---\n",
       "Signif. codes:  0 '***' 0.001 '**' 0.01 '*' 0.05 '.' 0.1 ' ' 1"
      ]
     },
     "metadata": {},
     "output_type": "display_data"
    },
    {
     "data": {
      "text/plain": [
       "  Tukey multiple comparisons of means\n",
       "    95% family-wise confidence level\n",
       "\n",
       "Fit: aov(formula = birth_rate ~ ad_layer + multichild + ad_layer:multichild, data = mydata)\n",
       "\n",
       "$ad_layer\n",
       "                     diff        lwr          upr     p adj\n",
       "자치군-자치구  0.34704259  0.2600076  0.434077548 0.0000000\n",
       "자치시-자치구  0.25300406  0.1641325  0.341875611 0.0000000\n",
       "자치시-자치군 -0.09403854 -0.1791619 -0.008915135 0.0263119\n",
       "\n",
       "$multichild\n",
       "            diff         lwr       upr     p adj\n",
       "YES-NO 0.0877627 -0.03114048 0.2066659 0.1471898\n",
       "\n",
       "$`ad_layer:multichild`\n",
       "                             diff         lwr         upr     p adj\n",
       "자치군:NO-자치구:NO    0.33269631  0.22321791  0.44217472 0.0000000\n",
       "자치시:NO-자치구:NO    0.25969520  0.14704477  0.37234563 0.0000000\n",
       "자치구:YES-자치구:NO   0.03739375 -0.26402560  0.33881310 0.9992350\n",
       "자치군:YES-자치구:NO   0.68234375  0.34779759  1.01688991 0.0000002\n",
       "자치시:YES-자치구:NO   0.20992708 -0.06721660  0.48707076 0.2524103\n",
       "자치시:NO-자치군:NO   -0.07300111 -0.18027855  0.03427632 0.3709479\n",
       "자치구:YES-자치군:NO  -0.29530256 -0.59475532  0.00415019 0.0557066\n",
       "자치군:YES-자치군:NO   0.34964744  0.01687205  0.68242282 0.0331697\n",
       "자치시:YES-자치군:NO  -0.12276923 -0.39777277  0.15223431 0.7938268\n",
       "자치구:YES-자치시:NO  -0.22230145 -0.52292838  0.07832548 0.2778173\n",
       "자치군:YES-자치시:NO   0.42264855  0.08881617  0.75648093 0.0045349\n",
       "자치시:YES-자치시:NO  -0.04976812 -0.32604976  0.22651353 0.9954370\n",
       "자치군:YES-자치구:YES  0.64495000  0.20951050  1.08038950 0.0004339\n",
       "자치시:YES-자치구:YES  0.17253333 -0.22052525  0.56559192 0.8052735\n",
       "자치시:YES-자치군:YES -0.47241667 -0.89141852 -0.05341481 0.0170592\n"
      ]
     },
     "metadata": {},
     "output_type": "display_data"
    }
   ],
   "source": [
    "# 정규분포는 아닌데 쌤은 그냥 정규분포O의 절차로 수업을 진행하셨다\n",
    "\n",
    "# p-value값 알아보기\n",
    "\n",
    "summary(out)\n",
    "# 두개를 조합했을 때 summary에서 나타나는 결과값 \n",
    "# -> ad_layer:multichild  Pr = 0.0263  / 0.05보다 작으므로 대립가설 / 약하지만 차이가 있음을 알수있다 \n",
    "\n",
    "\n",
    "# 사후검정\n",
    "\n",
    "TukeyHSD(out)"
   ]
  },
  {
   "cell_type": "code",
   "execution_count": null,
   "metadata": {},
   "outputs": [],
   "source": []
  },
  {
   "cell_type": "markdown",
   "metadata": {},
   "source": [
    "### 연속변수나 정규분포가 아닐 경우 \n",
    "     t-test : MWW, wilcoxen rank sum t-test\n",
    "     paired t-test : wilcoxen signed rank test\n",
    "     one way repeated measures anova : friedman test"
   ]
  },
  {
   "cell_type": "code",
   "execution_count": 54,
   "metadata": {
    "scrolled": true
   },
   "outputs": [
    {
     "data": {
      "text/html": [
       "<table>\n",
       "<thead><tr><th scope=col>Round Out</th><th scope=col>Narrow Angle</th><th scope=col>Wide Angle</th></tr></thead>\n",
       "<tbody>\n",
       "\t<tr><td>5.40</td><td>5.50</td><td>5.55</td></tr>\n",
       "\t<tr><td>5.85</td><td>5.70</td><td>5.75</td></tr>\n",
       "\t<tr><td>5.20</td><td>5.60</td><td>5.50</td></tr>\n",
       "\t<tr><td>5.55</td><td>5.50</td><td>5.40</td></tr>\n",
       "\t<tr><td>5.90</td><td>5.85</td><td>5.70</td></tr>\n",
       "\t<tr><td>5.45</td><td>5.55</td><td>5.60</td></tr>\n",
       "\t<tr><td>5.40</td><td>5.40</td><td>5.35</td></tr>\n",
       "\t<tr><td>5.45</td><td>5.50</td><td>5.35</td></tr>\n",
       "\t<tr><td>5.25</td><td>5.15</td><td>5.00</td></tr>\n",
       "\t<tr><td>5.85</td><td>5.80</td><td>5.70</td></tr>\n",
       "\t<tr><td>5.25</td><td>5.20</td><td>5.10</td></tr>\n",
       "\t<tr><td>5.65</td><td>5.55</td><td>5.45</td></tr>\n",
       "\t<tr><td>5.60</td><td>5.35</td><td>5.45</td></tr>\n",
       "\t<tr><td>5.05</td><td>5.00</td><td>4.95</td></tr>\n",
       "\t<tr><td>5.50</td><td>5.50</td><td>5.40</td></tr>\n",
       "\t<tr><td>5.45</td><td>5.55</td><td>5.50</td></tr>\n",
       "\t<tr><td>5.55</td><td>5.55</td><td>5.35</td></tr>\n",
       "\t<tr><td>5.45</td><td>5.50</td><td>5.55</td></tr>\n",
       "\t<tr><td>5.50</td><td>5.45</td><td>5.25</td></tr>\n",
       "\t<tr><td>5.65</td><td>5.60</td><td>5.40</td></tr>\n",
       "\t<tr><td>5.70</td><td>5.65</td><td>5.55</td></tr>\n",
       "\t<tr><td>6.30</td><td>6.30</td><td>6.25</td></tr>\n",
       "</tbody>\n",
       "</table>\n"
      ],
      "text/latex": [
       "\\begin{tabular}{r|lll}\n",
       " Round Out & Narrow Angle & Wide Angle\\\\\n",
       "\\hline\n",
       "\t 5.40 & 5.50 & 5.55\\\\\n",
       "\t 5.85 & 5.70 & 5.75\\\\\n",
       "\t 5.20 & 5.60 & 5.50\\\\\n",
       "\t 5.55 & 5.50 & 5.40\\\\\n",
       "\t 5.90 & 5.85 & 5.70\\\\\n",
       "\t 5.45 & 5.55 & 5.60\\\\\n",
       "\t 5.40 & 5.40 & 5.35\\\\\n",
       "\t 5.45 & 5.50 & 5.35\\\\\n",
       "\t 5.25 & 5.15 & 5.00\\\\\n",
       "\t 5.85 & 5.80 & 5.70\\\\\n",
       "\t 5.25 & 5.20 & 5.10\\\\\n",
       "\t 5.65 & 5.55 & 5.45\\\\\n",
       "\t 5.60 & 5.35 & 5.45\\\\\n",
       "\t 5.05 & 5.00 & 4.95\\\\\n",
       "\t 5.50 & 5.50 & 5.40\\\\\n",
       "\t 5.45 & 5.55 & 5.50\\\\\n",
       "\t 5.55 & 5.55 & 5.35\\\\\n",
       "\t 5.45 & 5.50 & 5.55\\\\\n",
       "\t 5.50 & 5.45 & 5.25\\\\\n",
       "\t 5.65 & 5.60 & 5.40\\\\\n",
       "\t 5.70 & 5.65 & 5.55\\\\\n",
       "\t 6.30 & 6.30 & 6.25\\\\\n",
       "\\end{tabular}\n"
      ],
      "text/markdown": [
       "\n",
       "| Round Out | Narrow Angle | Wide Angle |\n",
       "|---|---|---|\n",
       "| 5.40 | 5.50 | 5.55 |\n",
       "| 5.85 | 5.70 | 5.75 |\n",
       "| 5.20 | 5.60 | 5.50 |\n",
       "| 5.55 | 5.50 | 5.40 |\n",
       "| 5.90 | 5.85 | 5.70 |\n",
       "| 5.45 | 5.55 | 5.60 |\n",
       "| 5.40 | 5.40 | 5.35 |\n",
       "| 5.45 | 5.50 | 5.35 |\n",
       "| 5.25 | 5.15 | 5.00 |\n",
       "| 5.85 | 5.80 | 5.70 |\n",
       "| 5.25 | 5.20 | 5.10 |\n",
       "| 5.65 | 5.55 | 5.45 |\n",
       "| 5.60 | 5.35 | 5.45 |\n",
       "| 5.05 | 5.00 | 4.95 |\n",
       "| 5.50 | 5.50 | 5.40 |\n",
       "| 5.45 | 5.55 | 5.50 |\n",
       "| 5.55 | 5.55 | 5.35 |\n",
       "| 5.45 | 5.50 | 5.55 |\n",
       "| 5.50 | 5.45 | 5.25 |\n",
       "| 5.65 | 5.60 | 5.40 |\n",
       "| 5.70 | 5.65 | 5.55 |\n",
       "| 6.30 | 6.30 | 6.25 |\n",
       "\n"
      ],
      "text/plain": [
       "   Round Out Narrow Angle Wide Angle\n",
       "1  5.40      5.50         5.55      \n",
       "2  5.85      5.70         5.75      \n",
       "3  5.20      5.60         5.50      \n",
       "4  5.55      5.50         5.40      \n",
       "5  5.90      5.85         5.70      \n",
       "6  5.45      5.55         5.60      \n",
       "7  5.40      5.40         5.35      \n",
       "8  5.45      5.50         5.35      \n",
       "9  5.25      5.15         5.00      \n",
       "10 5.85      5.80         5.70      \n",
       "11 5.25      5.20         5.10      \n",
       "12 5.65      5.55         5.45      \n",
       "13 5.60      5.35         5.45      \n",
       "14 5.05      5.00         4.95      \n",
       "15 5.50      5.50         5.40      \n",
       "16 5.45      5.55         5.50      \n",
       "17 5.55      5.55         5.35      \n",
       "18 5.45      5.50         5.55      \n",
       "19 5.50      5.45         5.25      \n",
       "20 5.65      5.60         5.40      \n",
       "21 5.70      5.65         5.55      \n",
       "22 6.30      6.30         6.25      "
      ]
     },
     "metadata": {},
     "output_type": "display_data"
    }
   ],
   "source": [
    "# 데이터 준비\n",
    "\n",
    "RoundingTimes <-\n",
    "  matrix(c(5.40, 5.50, 5.55,\n",
    "           5.85, 5.70, 5.75,\n",
    "           5.20, 5.60, 5.50,\n",
    "           5.55, 5.50, 5.40,\n",
    "           5.90, 5.85, 5.70,\n",
    "           5.45, 5.55, 5.60,\n",
    "           5.40, 5.40, 5.35,\n",
    "           5.45, 5.50, 5.35,\n",
    "           5.25, 5.15, 5.00,\n",
    "           5.85, 5.80, 5.70,\n",
    "           5.25, 5.20, 5.10,\n",
    "           5.65, 5.55, 5.45,\n",
    "           5.60, 5.35, 5.45,\n",
    "           5.05, 5.00, 4.95,\n",
    "           5.50, 5.50, 5.40,\n",
    "           5.45, 5.55, 5.50,\n",
    "           5.55, 5.55, 5.35,\n",
    "           5.45, 5.50, 5.55,\n",
    "           5.50, 5.45, 5.25,\n",
    "           5.65, 5.60, 5.40,\n",
    "           5.70, 5.65, 5.55,\n",
    "           6.30, 6.30, 6.25),\n",
    "         nrow = 22,\n",
    "         byrow = TRUE,\n",
    "         dimnames = list(1 : 22, c(\"Round Out\", \"Narrow Angle\", \"Wide Angle\")))\n",
    "\n",
    "RoundingTimes"
   ]
  },
  {
   "cell_type": "code",
   "execution_count": 58,
   "metadata": {
    "scrolled": true
   },
   "outputs": [
    {
     "data": {
      "text/plain": [
       "\n",
       "\tShapiro-Wilk normality test\n",
       "\n",
       "data:  resid(out)\n",
       "W = 0.93013, p-value = 0.001112\n"
      ]
     },
     "metadata": {},
     "output_type": "display_data"
    },
    {
     "data": {
      "image/png": "[encoded data removed]",
      "text/plain": [
       "plot without title"
      ]
     },
     "metadata": {},
     "output_type": "display_data"
    }
   ],
   "source": [
    "# 정규분포\n",
    "\n",
    "## long형으로 바꿔주기\n",
    "# library(reshape)\n",
    "rt1 <- reshape::melt(RoundingTimes)\n",
    "# rt1\n",
    "\n",
    "out <- aov(value ~ X2, data=rt1)\n",
    "shapiro.test(resid(out))\n",
    "# p-value 0.001112 0.05보다 낮은 값, 정규분포X\n",
    "\n",
    "## 정규분포여부 그래프로 확인\n",
    "boxplot(value ~ X2, data=rt1)\n",
    "# 정규분포 아님을 볼수있다"
   ]
  },
  {
   "cell_type": "markdown",
   "metadata": {},
   "source": [
    "#### friedman.test\n",
    "    \n",
    "    The Friedman test determines if there are differences among groups for two-way data structured in a specific way, namely in an unreplicated complete block design. \n",
    "    \n",
    "    This test is free from the assumptions of a normal distribution and equal variances(of the residuals)\n",
    "    \n",
    "    < 출처 >\n",
    "    \n",
    "    https://rcompanion.org/handbook/F_10.html"
   ]
  },
  {
   "cell_type": "code",
   "execution_count": 60,
   "metadata": {},
   "outputs": [
    {
     "data": {
      "text/plain": [
       "\n",
       "\tFriedman rank sum test\n",
       "\n",
       "data:  RoundingTimes\n",
       "Friedman chi-squared = 11.143, df = 2, p-value = 0.003805\n"
      ]
     },
     "metadata": {},
     "output_type": "display_data"
    }
   ],
   "source": [
    "# p-value 값 확인 -> friedman.test()\n",
    "\n",
    "friedman.test(RoundingTimes)\n",
    "# p-value = 0.003805  0.05보다 낮으므로 "
   ]
  },
  {
   "cell_type": "code",
   "execution_count": 62,
   "metadata": {},
   "outputs": [
    {
     "name": "stderr",
     "output_type": "stream",
     "text": [
      "Loading required package: coin\n",
      "Warning message:\n",
      "\"package 'coin' was built under R version 3.6.3\"Loading required package: colorspace\n"
     ]
    },
    {
     "name": "stdout",
     "output_type": "stream",
     "text": [
      "$Friedman.Test\n",
      "\n",
      "\tAsymptotic General Symmetry Test\n",
      "\n",
      "data:  value by\n",
      "\t X2 (Narrow Angle, Round Out, Wide Angle) \n",
      "\t stratified by X1\n",
      "maxT = 3.2404, p-value = 0.003427\n",
      "alternative hypothesis: two.sided\n",
      "\n",
      "\n",
      "$PostHoc.Test\n",
      "                                     \n",
      "Round Out - Narrow Angle  0.623922150\n",
      "Wide Angle - Narrow Angle 0.053835134\n",
      "Wide Angle - Round Out    0.003552689\n",
      "\n"
     ]
    },
    {
     "data": {
      "text/plain": [
       "$Friedman.Test\n",
       "\n",
       "\tAsymptotic General Symmetry Test\n",
       "\n",
       "data:  value by\n",
       "\t X2 (Narrow Angle, Round Out, Wide Angle) \n",
       "\t stratified by X1\n",
       "maxT = 3.2404, p-value = 0.00339\n",
       "alternative hypothesis: two.sided\n",
       "\n",
       "\n",
       "$PostHoc.Test\n",
       "                                     \n",
       "Round Out - Narrow Angle  0.623922150\n",
       "Wide Angle - Narrow Angle 0.053835134\n",
       "Wide Angle - Round Out    0.003552689\n"
      ]
     },
     "metadata": {},
     "output_type": "display_data"
    },
    {
     "data": {
      "image/png": "[encoded data removed]",
      "text/plain": [
       "Plot with title \"Boxplots (of the differences)\""
      ]
     },
     "metadata": {},
     "output_type": "display_data"
    }
   ],
   "source": [
    "# 사후 검정 -> frideman.test.with.post.hoc\n",
    "# https://www.r-statistics.com/2010/02/post-hoc-analysis-for-friedmans-test-r-code/\n",
    "# 좀 많이 복잡...\n",
    "\n",
    "# install.packages(\"coin\")\n",
    "friedman.test.with.post.hoc <- function(formu, data, to.print.friedman = T, to.post.hoc.if.signif = T,  \n",
    "                                        to.plot.parallel = T, to.plot.boxplot = T, signif.P = .05, \n",
    "                                        color.blocks.in.cor.plot = T, jitter.Y.in.cor.plot =F)\n",
    "{\n",
    "  # formu is a formula of the shape: \tY ~ X | block\n",
    "  # data is a long data.frame with three columns:    [[ Y (numeric), X (factor), block (factor) ]]\n",
    "  \n",
    "  # Note: This function doesn't handle NA's! In case of NA in Y in one of the blocks, then that entire block should be removed.\n",
    "  \n",
    "  \n",
    "  # Loading needed packages\n",
    "  if(!require(coin))\n",
    "  {\n",
    "    print(\"You are missing the package 'coin', we will now try to install it...\")\n",
    "    install.packages(\"coin\")\n",
    "    library(coin)\n",
    "  }\n",
    "  \n",
    "  if(!require(multcomp))\n",
    "  {\n",
    "    print(\"You are missing the package 'multcomp', we will now try to install it...\")\n",
    "    install.packages(\"multcomp\")\n",
    "    library(multcomp)\n",
    "  }\n",
    "  \n",
    "  if(!require(colorspace))\n",
    "  {\n",
    "    print(\"You are missing the package 'colorspace', we will now try to install it...\")\n",
    "    install.packages(\"colorspace\")\n",
    "    library(colorspace)\n",
    "  }\n",
    "  \n",
    "  \n",
    "  # get the names out of the formula\n",
    "  formu.names <- all.vars(formu)\n",
    "  Y.name <- formu.names[1]\n",
    "  X.name <- formu.names[2]\n",
    "  block.name <- formu.names[3]\n",
    "  \n",
    "  if(dim(data)[2] >3) data <- data[,c(Y.name,X.name,block.name)]\t# In case we have a \"data\" data frame with more then the three columns we need. This code will clean it from them...\n",
    "  \n",
    "  # Note: the function doesn't handle NA's. In case of NA in one of the block T outcomes, that entire block should be removed.\n",
    "  \n",
    "  # stopping in case there is NA in the Y vector\n",
    "  if(sum(is.na(data[,Y.name])) > 0) stop(\"Function stopped: This function doesn't handle NA's. In case of NA in Y in one of the blocks, then that entire block should be removed.\")\n",
    "  \n",
    "  # make sure that the number of factors goes with the actual values present in the data:\n",
    "  data[,X.name ] <- factor(data[,X.name ])\n",
    "  data[,block.name ] <- factor(data[,block.name ])\n",
    "  number.of.X.levels <- length(levels(data[,X.name ]))\n",
    "  if(number.of.X.levels == 2) { warning(paste(\"'\",X.name,\"'\", \"has only two levels. Consider using paired wilcox.test instead of friedman test\"))}\n",
    "  \n",
    "  # making the object that will hold the friedman test and the other.\n",
    "  the.sym.test <- symmetry_test(formu, data = data,\t### all pairwise comparisons\n",
    "                                teststat = \"max\",\n",
    "                                xtrafo = function(Y.data) { trafo( Y.data, factor_trafo = function(x) { model.matrix(~ x - 1) %*% t(contrMat(table(x), \"Tukey\")) } ) },\n",
    "                                ytrafo = function(Y.data){ trafo(Y.data, numeric_trafo = rank, block = data[,block.name] ) }\n",
    "  )\n",
    "  # if(to.print.friedman) { print(the.sym.test) }\n",
    "  \n",
    "  \n",
    "  if(to.post.hoc.if.signif)\n",
    "  {\n",
    "    if(pvalue(the.sym.test) < signif.P)\n",
    "    {\n",
    "      # the post hoc test\n",
    "      The.post.hoc.P.values <- pvalue(the.sym.test, method = \"single-step\")\t# this is the post hoc of the friedman test\n",
    "      \n",
    "      \n",
    "      # plotting\n",
    "      if(to.plot.parallel & to.plot.boxplot)\tpar(mfrow = c(1,2)) # if we are plotting two plots, let's make sure we'll be able to see both\n",
    "      \n",
    "      if(to.plot.parallel)\n",
    "      {\n",
    "        X.names <- levels(data[, X.name])\n",
    "        X.for.plot <- seq_along(X.names)\n",
    "        plot.xlim <- c(.7 , length(X.for.plot)+.3)\t# adding some spacing from both sides of the plot\n",
    "        \n",
    "        if(color.blocks.in.cor.plot)\n",
    "        {\n",
    "          blocks.col <- rainbow_hcl(length(levels(data[,block.name])))\n",
    "        } else {\n",
    "          blocks.col <- 1 # black\n",
    "        }\n",
    "        \n",
    "        data2 <- data\n",
    "        if(jitter.Y.in.cor.plot) {\n",
    "          data2[,Y.name] <- jitter(data2[,Y.name])\n",
    "          par.cor.plot.text <- \"Parallel coordinates plot (with Jitter)\"\n",
    "        } else {\n",
    "          par.cor.plot.text <- \"Parallel coordinates plot\"\n",
    "        }\n",
    "        \n",
    "        # adding a Parallel coordinates plot\n",
    "        matplot(as.matrix(reshape(data2,  idvar=X.name, timevar=block.name,\n",
    "                                  direction=\"wide\")[,-1])  ,\n",
    "                type = \"l\",  lty = 1, axes = FALSE, ylab = Y.name,\n",
    "                xlim = plot.xlim,\n",
    "                col = blocks.col,\n",
    "                main = par.cor.plot.text)\n",
    "        axis(1, at = X.for.plot , labels = X.names) # plot X axis\n",
    "        axis(2) # plot Y axis\n",
    "        points(tapply(data[,Y.name], data[,X.name], median) ~ X.for.plot, col = \"red\",pch = 4, cex = 2, lwd = 5)\n",
    "      }\n",
    "      \n",
    "      if(to.plot.boxplot)\n",
    "      {\n",
    "        # first we create a function to create a new Y, by substracting different combinations of X levels from each other.\n",
    "        subtract.a.from.b <- function(a.b , the.data)\n",
    "        {\n",
    "          the.data[,a.b[2]] - the.data[,a.b[1]]\n",
    "        }\n",
    "        \n",
    "        temp.wide <- reshape(data,  idvar=X.name, timevar=block.name,\n",
    "                             direction=\"wide\") \t#[,-1]\n",
    "        wide.data <- as.matrix(t(temp.wide[,-1]))\n",
    "        colnames(wide.data) <- temp.wide[,1]\n",
    "        \n",
    "        Y.b.minus.a.combos <- apply(with(data,combn(levels(data[,X.name]), 2)), 2, subtract.a.from.b, the.data =wide.data)\n",
    "        names.b.minus.a.combos <- apply(with(data,combn(levels(data[,X.name]), 2)), 2, function(a.b) {paste(a.b[2],a.b[1],sep=\" - \")})\n",
    "        \n",
    "        the.ylim <- range(Y.b.minus.a.combos)\n",
    "        the.ylim[2] <- the.ylim[2] + max(sd(Y.b.minus.a.combos))\t# adding some space for the labels\n",
    "        is.signif.color <- ifelse(The.post.hoc.P.values < .05 , \"green\", \"grey\")\n",
    "        \n",
    "        boxplot(Y.b.minus.a.combos,\n",
    "                names = names.b.minus.a.combos ,\n",
    "                col = is.signif.color,\n",
    "                main = \"Boxplots (of the differences)\",\n",
    "                ylim = the.ylim\n",
    "        )\n",
    "        legend(\"topright\", legend = paste(names.b.minus.a.combos, rep(\" ; PostHoc P.value:\", number.of.X.levels),round(The.post.hoc.P.values,5)) , fill =  is.signif.color )\n",
    "        abline(h = 0, col = \"blue\")\n",
    "        \n",
    "      }\n",
    "      \n",
    "      list.to.return <- list(Friedman.Test = the.sym.test, PostHoc.Test = The.post.hoc.P.values)\n",
    "      if(to.print.friedman) {print(list.to.return)}\n",
    "      return(list.to.return)\n",
    "      \n",
    "    }\telse {\n",
    "      print(\"The results where not significant, There is no need for a post hoc test\")\n",
    "      return(the.sym.test)\n",
    "    }\n",
    "  }\n",
    "  \n",
    "  # Original credit (for linking online, to the package that performs the post hoc test) goes to \"David Winsemius\", see:\n",
    "  # http://tolstoy.newcastle.edu.au/R/e8/help/09/10/1416.html\n",
    "}\n",
    "\n",
    "friedman.test.with.post.hoc(value ~ X2 | X1, rt1)\n",
    "\n",
    "\n",
    "# 본페로니 검정 \n",
    "# 0.05 / 3 \n",
    "## 여러개가 나오면 0.05로만 볼 수 없으니, 각각으로 나눠야 정확하게 나옴\n",
    "## 즉, 0.016보다 작아야 차이가 있는것 ........"
   ]
  },
  {
   "cell_type": "code",
   "execution_count": null,
   "metadata": {},
   "outputs": [],
   "source": []
  },
  {
   "cell_type": "markdown",
   "metadata": {},
   "source": [
    "## Two Way Repeated Mesures ANOVA"
   ]
  },
  {
   "cell_type": "markdown",
   "metadata": {},
   "source": [
    "### 예시1. 여드름 치료제에 대한 임상테스트 결과"
   ]
  },
  {
   "cell_type": "code",
   "execution_count": 86,
   "metadata": {},
   "outputs": [
    {
     "name": "stdout",
     "output_type": "stream",
     "text": [
      "'data.frame':\t14 obs. of  6 variables:\n",
      " $ group : int  1 1 1 1 1 1 1 2 2 2 ...\n",
      " $ id    : int  1 2 3 4 5 6 7 8 9 10 ...\n",
      " $ month0: int  60 52 62 58 65 58 53 55 55 60 ...\n",
      " $ month1: int  41 38 36 34 34 42 38 42 54 55 ...\n",
      " $ month3: int  25 23 22 21 28 26 25 33 46 46 ...\n",
      " $ month6: int  16 12 14 13 18 16 21 22 26 23 ...\n"
     ]
    },
    {
     "data": {
      "text/html": [
       "<table>\n",
       "<thead><tr><th scope=col>group</th><th scope=col>id</th><th scope=col>month0</th><th scope=col>month1</th><th scope=col>month3</th><th scope=col>month6</th></tr></thead>\n",
       "<tbody>\n",
       "\t<tr><td>1 </td><td> 1</td><td>60</td><td>41</td><td>25</td><td>16</td></tr>\n",
       "\t<tr><td>1 </td><td> 2</td><td>52</td><td>38</td><td>23</td><td>12</td></tr>\n",
       "\t<tr><td>1 </td><td> 3</td><td>62</td><td>36</td><td>22</td><td>14</td></tr>\n",
       "\t<tr><td>1 </td><td> 4</td><td>58</td><td>34</td><td>21</td><td>13</td></tr>\n",
       "\t<tr><td>1 </td><td> 5</td><td>65</td><td>34</td><td>28</td><td>18</td></tr>\n",
       "\t<tr><td>1 </td><td> 6</td><td>58</td><td>42</td><td>26</td><td>16</td></tr>\n",
       "\t<tr><td>1 </td><td> 7</td><td>53</td><td>38</td><td>25</td><td>21</td></tr>\n",
       "\t<tr><td>2 </td><td> 8</td><td>55</td><td>42</td><td>33</td><td>22</td></tr>\n",
       "\t<tr><td>2 </td><td> 9</td><td>55</td><td>54</td><td>46</td><td>26</td></tr>\n",
       "\t<tr><td>2 </td><td>10</td><td>60</td><td>55</td><td>46</td><td>23</td></tr>\n",
       "\t<tr><td>2 </td><td>11</td><td>63</td><td>45</td><td>40</td><td>25</td></tr>\n",
       "\t<tr><td>2 </td><td>12</td><td>52</td><td>41</td><td>35</td><td>22</td></tr>\n",
       "\t<tr><td>2 </td><td>13</td><td>61</td><td>38</td><td>32</td><td>18</td></tr>\n",
       "\t<tr><td>2 </td><td>14</td><td>58</td><td>43</td><td>39</td><td>21</td></tr>\n",
       "</tbody>\n",
       "</table>\n"
      ],
      "text/latex": [
       "\\begin{tabular}{r|llllll}\n",
       " group & id & month0 & month1 & month3 & month6\\\\\n",
       "\\hline\n",
       "\t 1  &  1 & 60 & 41 & 25 & 16\\\\\n",
       "\t 1  &  2 & 52 & 38 & 23 & 12\\\\\n",
       "\t 1  &  3 & 62 & 36 & 22 & 14\\\\\n",
       "\t 1  &  4 & 58 & 34 & 21 & 13\\\\\n",
       "\t 1  &  5 & 65 & 34 & 28 & 18\\\\\n",
       "\t 1  &  6 & 58 & 42 & 26 & 16\\\\\n",
       "\t 1  &  7 & 53 & 38 & 25 & 21\\\\\n",
       "\t 2  &  8 & 55 & 42 & 33 & 22\\\\\n",
       "\t 2  &  9 & 55 & 54 & 46 & 26\\\\\n",
       "\t 2  & 10 & 60 & 55 & 46 & 23\\\\\n",
       "\t 2  & 11 & 63 & 45 & 40 & 25\\\\\n",
       "\t 2  & 12 & 52 & 41 & 35 & 22\\\\\n",
       "\t 2  & 13 & 61 & 38 & 32 & 18\\\\\n",
       "\t 2  & 14 & 58 & 43 & 39 & 21\\\\\n",
       "\\end{tabular}\n"
      ],
      "text/markdown": [
       "\n",
       "| group | id | month0 | month1 | month3 | month6 |\n",
       "|---|---|---|---|---|---|\n",
       "| 1  |  1 | 60 | 41 | 25 | 16 |\n",
       "| 1  |  2 | 52 | 38 | 23 | 12 |\n",
       "| 1  |  3 | 62 | 36 | 22 | 14 |\n",
       "| 1  |  4 | 58 | 34 | 21 | 13 |\n",
       "| 1  |  5 | 65 | 34 | 28 | 18 |\n",
       "| 1  |  6 | 58 | 42 | 26 | 16 |\n",
       "| 1  |  7 | 53 | 38 | 25 | 21 |\n",
       "| 2  |  8 | 55 | 42 | 33 | 22 |\n",
       "| 2  |  9 | 55 | 54 | 46 | 26 |\n",
       "| 2  | 10 | 60 | 55 | 46 | 23 |\n",
       "| 2  | 11 | 63 | 45 | 40 | 25 |\n",
       "| 2  | 12 | 52 | 41 | 35 | 22 |\n",
       "| 2  | 13 | 61 | 38 | 32 | 18 |\n",
       "| 2  | 14 | 58 | 43 | 39 | 21 |\n",
       "\n"
      ],
      "text/plain": [
       "   group id month0 month1 month3 month6\n",
       "1  1      1 60     41     25     16    \n",
       "2  1      2 52     38     23     12    \n",
       "3  1      3 62     36     22     14    \n",
       "4  1      4 58     34     21     13    \n",
       "5  1      5 65     34     28     18    \n",
       "6  1      6 58     42     26     16    \n",
       "7  1      7 53     38     25     21    \n",
       "8  2      8 55     42     33     22    \n",
       "9  2      9 55     54     46     26    \n",
       "10 2     10 60     55     46     23    \n",
       "11 2     11 63     45     40     25    \n",
       "12 2     12 52     41     35     22    \n",
       "13 2     13 61     38     32     18    \n",
       "14 2     14 58     43     39     21    "
      ]
     },
     "metadata": {},
     "output_type": "display_data"
    }
   ],
   "source": [
    "# 데이터 준비\n",
    "\n",
    "mydata <- read.csv(\"C:/Users/cho ye seul/Documents/예슬/Acorn/rwork/StatProject/data/10_rmanova.csv\")\n",
    "str(mydata) # 4개의 변수 226개\n",
    "mydata"
   ]
  },
  {
   "cell_type": "code",
   "execution_count": 91,
   "metadata": {
    "scrolled": true
   },
   "outputs": [
    {
     "name": "stdout",
     "output_type": "stream",
     "text": [
      "'data.frame':\t56 obs. of  4 variables:\n",
      " $ group: int  1 1 1 1 1 1 1 2 2 2 ...\n",
      " $ id   : int  1 2 3 4 5 6 7 8 9 10 ...\n",
      " $ time : num  0 0 0 0 0 0 0 0 0 0 ...\n",
      " $ month: int  60 52 62 58 65 58 53 55 55 60 ...\n",
      " - attr(*, \"reshapeLong\")=List of 4\n",
      "  ..$ varying:List of 1\n",
      "  .. ..$ month: chr  \"month0\" \"month1\" \"month3\" \"month6\"\n",
      "  .. ..- attr(*, \"v.names\")= chr \"month\"\n",
      "  .. ..- attr(*, \"times\")= num  0 1 3 6\n",
      "  ..$ v.names: chr \"month\"\n",
      "  ..$ idvar  : chr \"id\"\n",
      "  ..$ timevar: chr \"time\"\n"
     ]
    },
    {
     "data": {
      "text/html": [
       "<table>\n",
       "<thead><tr><th></th><th scope=col>group</th><th scope=col>id</th><th scope=col>time</th><th scope=col>month</th></tr></thead>\n",
       "<tbody>\n",
       "\t<tr><th scope=row>1.0</th><td>1 </td><td>1 </td><td>0 </td><td>60</td></tr>\n",
       "\t<tr><th scope=row>2.0</th><td>1 </td><td>2 </td><td>0 </td><td>52</td></tr>\n",
       "\t<tr><th scope=row>3.0</th><td>1 </td><td>3 </td><td>0 </td><td>62</td></tr>\n",
       "\t<tr><th scope=row>4.0</th><td>1 </td><td>4 </td><td>0 </td><td>58</td></tr>\n",
       "\t<tr><th scope=row>5.0</th><td>1 </td><td>5 </td><td>0 </td><td>65</td></tr>\n",
       "\t<tr><th scope=row>6.0</th><td>1 </td><td>6 </td><td>0 </td><td>58</td></tr>\n",
       "</tbody>\n",
       "</table>\n"
      ],
      "text/latex": [
       "\\begin{tabular}{r|llll}\n",
       "  & group & id & time & month\\\\\n",
       "\\hline\n",
       "\t1.0 & 1  & 1  & 0  & 60\\\\\n",
       "\t2.0 & 1  & 2  & 0  & 52\\\\\n",
       "\t3.0 & 1  & 3  & 0  & 62\\\\\n",
       "\t4.0 & 1  & 4  & 0  & 58\\\\\n",
       "\t5.0 & 1  & 5  & 0  & 65\\\\\n",
       "\t6.0 & 1  & 6  & 0  & 58\\\\\n",
       "\\end{tabular}\n"
      ],
      "text/markdown": [
       "\n",
       "| <!--/--> | group | id | time | month |\n",
       "|---|---|---|---|---|\n",
       "| 1.0 | 1  | 1  | 0  | 60 |\n",
       "| 2.0 | 1  | 2  | 0  | 52 |\n",
       "| 3.0 | 1  | 3  | 0  | 62 |\n",
       "| 4.0 | 1  | 4  | 0  | 58 |\n",
       "| 5.0 | 1  | 5  | 0  | 65 |\n",
       "| 6.0 | 1  | 6  | 0  | 58 |\n",
       "\n"
      ],
      "text/plain": [
       "    group id time month\n",
       "1.0 1     1  0    60   \n",
       "2.0 1     2  0    52   \n",
       "3.0 1     3  0    62   \n",
       "4.0 1     4  0    58   \n",
       "5.0 1     5  0    65   \n",
       "6.0 1     6  0    58   "
      ]
     },
     "metadata": {},
     "output_type": "display_data"
    },
    {
     "name": "stdout",
     "output_type": "stream",
     "text": [
      "'data.frame':\t56 obs. of  4 variables:\n",
      " $ group: int  1 1 1 1 1 1 1 2 2 2 ...\n",
      " $ id   : int  1 2 3 4 5 6 7 8 9 10 ...\n",
      " $ time : Factor w/ 4 levels \"month0\",\"month1\",..: 1 1 1 1 1 1 1 1 1 1 ...\n",
      " $ month: int  60 52 62 58 65 58 53 55 55 60 ...\n"
     ]
    },
    {
     "data": {
      "text/html": [
       "<table>\n",
       "<thead><tr><th scope=col>group</th><th scope=col>id</th><th scope=col>time</th><th scope=col>month</th></tr></thead>\n",
       "<tbody>\n",
       "\t<tr><td>1     </td><td>1     </td><td>month0</td><td>60    </td></tr>\n",
       "\t<tr><td>1     </td><td>2     </td><td>month0</td><td>52    </td></tr>\n",
       "\t<tr><td>1     </td><td>3     </td><td>month0</td><td>62    </td></tr>\n",
       "\t<tr><td>1     </td><td>4     </td><td>month0</td><td>58    </td></tr>\n",
       "\t<tr><td>1     </td><td>5     </td><td>month0</td><td>65    </td></tr>\n",
       "\t<tr><td>1     </td><td>6     </td><td>month0</td><td>58    </td></tr>\n",
       "</tbody>\n",
       "</table>\n"
      ],
      "text/latex": [
       "\\begin{tabular}{r|llll}\n",
       " group & id & time & month\\\\\n",
       "\\hline\n",
       "\t 1      & 1      & month0 & 60    \\\\\n",
       "\t 1      & 2      & month0 & 52    \\\\\n",
       "\t 1      & 3      & month0 & 62    \\\\\n",
       "\t 1      & 4      & month0 & 58    \\\\\n",
       "\t 1      & 5      & month0 & 65    \\\\\n",
       "\t 1      & 6      & month0 & 58    \\\\\n",
       "\\end{tabular}\n"
      ],
      "text/markdown": [
       "\n",
       "| group | id | time | month |\n",
       "|---|---|---|---|\n",
       "| 1      | 1      | month0 | 60     |\n",
       "| 1      | 2      | month0 | 52     |\n",
       "| 1      | 3      | month0 | 62     |\n",
       "| 1      | 4      | month0 | 58     |\n",
       "| 1      | 5      | month0 | 65     |\n",
       "| 1      | 6      | month0 | 58     |\n",
       "\n"
      ],
      "text/plain": [
       "  group id time   month\n",
       "1 1     1  month0 60   \n",
       "2 1     2  month0 52   \n",
       "3 1     3  month0 62   \n",
       "4 1     4  month0 58   \n",
       "5 1     5  month0 65   \n",
       "6 1     6  month0 58   "
      ]
     },
     "metadata": {},
     "output_type": "display_data"
    }
   ],
   "source": [
    "# long형으로 구조 변경\n",
    "library(reshape2)\n",
    "\n",
    "## 변경 방법1\n",
    "ac1 <- reshape(mydata, direction = \"long\", varying = 3:6, sep=\"\")\n",
    "str(ac1) # 4개변수 56개 데이터\n",
    "head(ac1)\n",
    "# direction : \"wide\" or \"long\"으로 형태지정\n",
    "# varying : mydata의 3번째 column 부터 6번째 column까지  하나의 column으로 하겠다는 의미\n",
    "\n",
    "\n",
    "## 변경 방법2\n",
    "ac2 <- reshape2::melt(mydata, id=c(\"group\", \"id\"), variable.name = \"time\",\n",
    "                     value.name=\"month\", measure.vars = c(\"month0\", \"month1\", \"month3\", \"month6\"))\n",
    "                    # id값, 변수값, 값이름\n",
    "str(ac2) # 4개 변수 56개 데이터\n",
    "head(ac2)"
   ]
  },
  {
   "cell_type": "code",
   "execution_count": 81,
   "metadata": {},
   "outputs": [
    {
     "data": {
      "text/html": [
       "'factor'"
      ],
      "text/latex": [
       "'factor'"
      ],
      "text/markdown": [
       "'factor'"
      ],
      "text/plain": [
       "[1] \"factor\""
      ]
     },
     "metadata": {},
     "output_type": "display_data"
    },
    {
     "name": "stdout",
     "output_type": "stream",
     "text": [
      "'data.frame':\t56 obs. of  4 variables:\n",
      " $ group: Factor w/ 2 levels \"1\",\"2\": 1 1 1 1 1 1 1 2 2 2 ...\n",
      " $ id   : Factor w/ 14 levels \"1\",\"2\",\"3\",\"4\",..: 1 2 3 4 5 6 7 8 9 10 ...\n",
      " $ time : Factor w/ 4 levels \"0\",\"1\",\"3\",\"6\": 1 1 1 1 1 1 1 1 1 1 ...\n",
      " $ month: int  60 52 62 58 65 58 53 55 55 60 ...\n",
      " - attr(*, \"reshapeLong\")=List of 4\n",
      "  ..$ varying:List of 1\n",
      "  .. ..$ month: chr  \"month0\" \"month1\" \"month3\" \"month6\"\n",
      "  .. ..- attr(*, \"v.names\")= chr \"month\"\n",
      "  .. ..- attr(*, \"times\")= num  0 1 3 6\n",
      "  ..$ v.names: chr \"month\"\n",
      "  ..$ idvar  : chr \"id\"\n",
      "  ..$ timevar: chr \"time\"\n"
     ]
    },
    {
     "data": {
      "image/png": "[encoded data removed]",
      "text/plain": [
       "plot without title"
      ]
     },
     "metadata": {},
     "output_type": "display_data"
    }
   ],
   "source": [
    "# 시각화\n",
    "\n",
    "## ?interaction.plot # factor를 사용함\n",
    "\n",
    "## 현재 상태는 int 형태\n",
    "class(ac1$group)\n",
    "\n",
    "## 시각화 시키기 위해선 factor 형태로 바꿔주기\n",
    "ac1$group <- factor(ac1$group)\n",
    "ac1$id <- factor(ac1$id) \n",
    "ac1$time <- factor(ac1$time)\n",
    "\n",
    "## factor로 바뀜을 볼수있음\n",
    "str(ac1)\n",
    "\n",
    "## 시각화 시키기\n",
    "interaction.plot(ac1$time, ac1$group, ac1$month)\n",
    "## 그래프를 통해서도 각 그룹의 차이가 얼마나 나는지 확인이 가능하다\n",
    "## 밑의 과정들을 통해 수치적으로 정확하게 알아보자"
   ]
  },
  {
   "cell_type": "code",
   "execution_count": 90,
   "metadata": {},
   "outputs": [
    {
     "data": {
      "text/plain": [
       "\n",
       "Error: id\n",
       "      Df Sum Sq Mean Sq\n",
       "group  1  472.2   472.2\n",
       "\n",
       "Error: Within\n",
       "           Df Sum Sq Mean Sq F value Pr(>F)    \n",
       "group       1    242     242   5.665 0.0211 *  \n",
       "time        1  10375   10375 242.362 <2e-16 ***\n",
       "group:time  1     69      69   1.613 0.2098    \n",
       "Residuals  51   2183      43                   \n",
       "---\n",
       "Signif. codes:  0 '***' 0.001 '**' 0.01 '*' 0.05 '.' 0.1 ' ' 1"
      ]
     },
     "metadata": {},
     "output_type": "display_data"
    }
   ],
   "source": [
    "# p-value 값 확인\n",
    "\n",
    "# 정규분포라는 가정하에 진행\n",
    "\n",
    "out <- aov(month ~ group*time + Error(id), data=ac1) \n",
    "# 앞에서는 요인을 하나 더 추가해서 보는거였다면, \n",
    "# 위에꺼는 다른 요인을 조합해서 서로 다른 관점에서 보려고 하는거기 때문에 'group*time' 곱하기로 작성 \n",
    "# 다른관점에서 조합이 되는 것이라서 + 가아닌 *로 한다 \n",
    "# Error옵션을 해주면 자세한 출력결과를 보여준다\n",
    "\n",
    "summary(out) #Error부분이 상세정보"
   ]
  },
  {
   "cell_type": "code",
   "execution_count": 83,
   "metadata": {},
   "outputs": [
    {
     "data": {
      "text/html": [
       "0.00833333333333333"
      ],
      "text/latex": [
       "0.00833333333333333"
      ],
      "text/markdown": [
       "0.00833333333333333"
      ],
      "text/plain": [
       "[1] 0.008333333"
      ]
     },
     "metadata": {},
     "output_type": "display_data"
    },
    {
     "data": {
      "text/plain": [
       "\n",
       "\tWelch Two Sample t-test\n",
       "\n",
       "data:  month by group\n",
       "t = 0.24919, df = 11.655, p-value = 0.8076\n",
       "alternative hypothesis: true difference in means is not equal to 0\n",
       "95 percent confidence interval:\n",
       " -4.441354  5.584211\n",
       "sample estimates:\n",
       "mean in group 1 mean in group 2 \n",
       "       58.28571        57.71429 \n"
      ]
     },
     "metadata": {},
     "output_type": "display_data"
    },
    {
     "data": {
      "text/plain": [
       "\n",
       "\tWelch Two Sample t-test\n",
       "\n",
       "data:  month by group\n",
       "t = -2.858, df = 8.6388, p-value = 0.01962\n",
       "alternative hypothesis: true difference in means is not equal to 0\n",
       "95 percent confidence interval:\n",
       " -14.116013  -1.598273\n",
       "sample estimates:\n",
       "mean in group 1 mean in group 2 \n",
       "       37.57143        45.42857 \n"
      ]
     },
     "metadata": {},
     "output_type": "display_data"
    },
    {
     "data": {
      "text/plain": [
       "\n",
       "\tWelch Two Sample t-test\n",
       "\n",
       "data:  month by group\n",
       "t = -6.1016, df = 8.0666, p-value = 0.0002795\n",
       "alternative hypothesis: true difference in means is not equal to 0\n",
       "95 percent confidence interval:\n",
       " -19.873769  -8.983373\n",
       "sample estimates:\n",
       "mean in group 1 mean in group 2 \n",
       "       24.28571        38.71429 \n"
      ]
     },
     "metadata": {},
     "output_type": "display_data"
    },
    {
     "data": {
      "text/plain": [
       "\n",
       "\tWelch Two Sample t-test\n",
       "\n",
       "data:  month by group\n",
       "t = -4.3701, df = 11.706, p-value = 0.0009661\n",
       "alternative hypothesis: true difference in means is not equal to 0\n",
       "95 percent confidence interval:\n",
       " -10.071179  -3.357393\n",
       "sample estimates:\n",
       "mean in group 1 mean in group 2 \n",
       "       15.71429        22.42857 \n"
      ]
     },
     "metadata": {},
     "output_type": "display_data"
    }
   ],
   "source": [
    "# 사후 검정\n",
    "\n",
    "# 정규분포라는 가정하에 진행\n",
    "\n",
    "ac_0 <- ac1[ac1$time == \"0\", ] # 시점별로 쪼개주기 \n",
    "ac_1 <- ac1[ac1$time == \"1\", ] \n",
    "ac_3 <- ac1[ac1$time == \"3\", ] \n",
    "ac_6 <- ac1[ac1$time == \"6\", ] \n",
    "\n",
    "0.05 / 6 \n",
    "# 앞에 있는 두 그룹과 조합이 된거 4C2 = 4*3/2 = 6 \n",
    "# 4개중에 2개를 뽑은거기 때문에, 6으로 나눠준다 \n",
    "# 0.05 / 6 = 0.008333333  /  0.008이 값의 기준이 된다\n",
    "# 0.008보다 작은게 차이가 있다는 뜻이 된다\n",
    "\n",
    "t.test(month ~ group, data=ac_0) # p-value = 0.8076 / 차이가 없다\n",
    "t.test(month ~ group, data=ac_1) # p-value = 0.01962 / 0.008기준과 차이가 작게 있다\n",
    "t.test(month ~ group, data=ac_3) # p-value = 0.0002795 / 차이가 크다\n",
    "t.test(month ~ group, data=ac_6) # p-value = 0.0009661 / 차이가 크다"
   ]
  }
 ],
 "metadata": {
  "kernelspec": {
   "display_name": "R",
   "language": "R",
   "name": "ir"
  },
  "language_info": {
   "codemirror_mode": "r",
   "file_extension": ".r",
   "mimetype": "text/x-r-source",
   "name": "R",
   "pygments_lexer": "r",
   "version": "3.6.1"
  }
 },
 "nbformat": 4,
 "nbformat_minor": 2
}

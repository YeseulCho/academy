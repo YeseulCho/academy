{
 "cells": [
  {
   "cell_type": "markdown",
   "metadata": {},
   "source": [
    " ## Statistics_Power analysis\n",
    " \n",
    "    최초 작성일 : 2020/03/03\n",
    "    작성자 : 조예슬 \n",
    " \n",
    "    < 작성 내용 >\n",
    "\n",
    "        - Poer analysis\n",
    "\n",
    "        - effect size(cohen's d)"
   ]
  },
  {
   "cell_type": "code",
   "execution_count": null,
   "metadata": {},
   "outputs": [],
   "source": []
  },
  {
   "cell_type": "markdown",
   "metadata": {},
   "source": [
    "    신뢰구간(Confidence interval, CI)과 효과크기(effect size)를 사용하면 통계 결과의 자세한 설명이 가능\n",
    "\n",
    "    - 모집단 : 표본조사에서 조사의 대상이 되는 집단 전체\n",
    "\n",
    "    - 표본 : 조사를 하기 위하여 모집단에서 뽑은 일부분, 임의 추출\n",
    "\n",
    "## 검정력 분석(Power analysis)\n",
    "\n",
    "    적정한 표본의 개수 산출\n",
    "    \n",
    "    -\n",
    "\n",
    "    임상시험에서는 실험군과 대조군의 모집이 필요하고, 실험군과 대조군의 모집 인원에 따라 연구비의 규모가 달라진다. \n",
    "    \n",
    "    가장 이상적인 건, 최소의 인원으로 충분히 의미있는 결과를 뽑아내는 것\n",
    "    \n",
    "    이때 최소 인원이 몇 명인지 계산하는 것이 Power analysis\n",
    "    \n",
    "    -\n",
    "    \n",
    "    실험의 결과에 대한 P 값이 0.05보다 크게 나와서 통계적으로 의미가 없어 보일때, \n",
    "    \n",
    "    이에 정말 의미 없는(실험군과 대조군 간에 차이가 없는)건지 아니면, \n",
    "    \n",
    "    대상자(n)수가 작아서 의미가 없어 보이는 건지 확인하기 위한 절차\n",
    "    \n",
    "    \n",
    "### Two sample t test에서 검정력 분석\n",
    "\n",
    "    < 공식 >\n",
    "    \n",
    "    pwr.t.test(d='effect size', power=.8, sig.level=.05, type=\"two.sample\", alternative=\"two.sided\")\n",
    "    \n",
    "    : effect size 따로 계산하기, power level 0.8, 유의 수준 0.05, two.sample 양측 검정 기준\n",
    "\n",
    "\n",
    "\n",
    "### 효과크기(Effect size)\n",
    "\n",
    "    실험에 사용된 처치에 대한 효과의 크기를 표준화하여 해결\n",
    "\n",
    "    서로 다른 방법과 단위로 측정된 유사한 관측 값에 대한 통계 결과는 효과크기를 통하여 비교할 수 있다.\n",
    "    \n",
    "    효과 크기가 0일 경우 : 실험 집단의 평균과 통제 집단의 평균이 같다는 뜻\n",
    "                    \n",
    "                         : 실험의 효과가 없다는 것을 의미\n",
    "    \n",
    "    효과 크기가 +일 경우 : 실험 집단의 평균이 통제 집단의 평균보다 크다는 것\n",
    "    \n",
    "                         : 실험의 효과가 높다는 것을 의미\n",
    "                         \n",
    "                         : 효과 크기가 0.80 이상일 경우 효과가 높다고 본다.\n",
    "    \n",
    "    효과 크기가 -일 경우 : 실험 집단의 평균이 통제 집단의 평균보다 작다는 것\n",
    "    \n",
    "                         : 실험의 효과가 낮다는 것을 의미\n",
    "\n",
    "    효과 크기 추정 방법 : 피어슨의 상관계수r, 오즈비(odds ratio, OR), Cohen's d\n",
    "    \n",
    "### Cohen's d - 평균의 차이를 비교하기 위한 효과크기\n",
    "\n",
    "    두 군이 등분산성을 만족한다면, 표준화된 평균의 차이를 계산할 수 있다.\n",
    "\n",
    "    cohen's d = abs(mean1 - mean2)/sqrt((sd1^2 + sd2^2)/Sp)\n",
    "    \n",
    "    : mean1 실험군의 평균, mean2 대조군의 평균, Sp(pooled standard deviation)\n",
    "    \n",
    "    - 실험군과 대조군의 n 수가 같은 경우\n",
    "    \n",
    "    Sp = sqrt((sd1^2 + sd2^2)/2)\n",
    "    \n",
    "    - 실험군과 대조군의 n 수가 다른경우(가중치 계산 해주기)\n",
    "    \n",
    "    Sp = sqrt(((sd1^2(n1-1) + sd^2(n2-1))/((n1-1) + (n2-1)))\n",
    "    \n",
    "    \n",
    "    "
   ]
  },
  {
   "cell_type": "code",
   "execution_count": 12,
   "metadata": {},
   "outputs": [
    {
     "name": "stderr",
     "output_type": "stream",
     "text": [
      "Warning message:\n",
      "\"package 'pwr' was built under R version 3.6.3\""
     ]
    }
   ],
   "source": [
    "# install.packages(\"pwr\")\n",
    "library(pwr)"
   ]
  },
  {
   "cell_type": "code",
   "execution_count": 3,
   "metadata": {
    "scrolled": true
   },
   "outputs": [
    {
     "data": {
      "text/plain": [
       "\n",
       " 1  2 \n",
       "20 20 "
      ]
     },
     "metadata": {},
     "output_type": "display_data"
    }
   ],
   "source": [
    "# 데이터 불러오기\n",
    "\n",
    "ky <- read.csv(\"C:/Users/cho ye seul/Documents/예슬/Acorn/rwork/StatProject/data/KY.csv\", header=T)\n",
    "# ky\n",
    "\n",
    "table(ky$group)\n",
    "# n의 개수가 동일함\n",
    "# Sp는 실험군과 대조군의 n수가 같은 경우의 공식을 사용하면 되겠다!!"
   ]
  },
  {
   "cell_type": "code",
   "execution_count": 6,
   "metadata": {},
   "outputs": [
    {
     "name": "stdout",
     "output_type": "stream",
     "text": [
      "14.5 / 36.95"
     ]
    }
   ],
   "source": [
    "# 두 집단의 평균\n",
    "\n",
    "mean1 <- mean(ky$score[ky$group==1])\n",
    "mean2 <- mean(ky$score[ky$group==2])\n",
    "cat(mean1, \"/\", mean2)"
   ]
  },
  {
   "cell_type": "code",
   "execution_count": 8,
   "metadata": {},
   "outputs": [
    {
     "name": "stdout",
     "output_type": "stream",
     "text": [
      "18.69844 / 26.78467"
     ]
    }
   ],
   "source": [
    "# 두 집단의 표준편차\n",
    "\n",
    "sd1 <- sd(ky$score[ky$group==1])\n",
    "sd2 <- sd(ky$score[ky$group==2])\n",
    "cat(sd1, \"/\", sd2)"
   ]
  },
  {
   "cell_type": "code",
   "execution_count": 9,
   "metadata": {},
   "outputs": [
    {
     "data": {
      "text/html": [
       "0.971938886167391"
      ],
      "text/latex": [
       "0.971938886167391"
      ],
      "text/markdown": [
       "0.971938886167391"
      ],
      "text/plain": [
       "[1] 0.9719389"
      ]
     },
     "metadata": {},
     "output_type": "display_data"
    }
   ],
   "source": [
    "# cohen's d를 이용한 effect size\n",
    "\n",
    "effsize <- abs(mean1 - mean2)/sqrt((sd1^2 + sd2^2)/2)\n",
    "effsize\n",
    "# effsize가 0.97이면, group에 따른 score 효과가 굉장히 높다는건데..\n",
    "# 두 그룹이 뭘 나타내는거지....ㅎ"
   ]
  },
  {
   "cell_type": "code",
   "execution_count": 13,
   "metadata": {},
   "outputs": [
    {
     "data": {
      "text/plain": [
       "\n",
       "     Two-sample t test power calculation \n",
       "\n",
       "              n = 17.63116\n",
       "              d = 0.9719389\n",
       "      sig.level = 0.05\n",
       "          power = 0.8\n",
       "    alternative = two.sided\n",
       "\n",
       "NOTE: n is number in *each* group\n"
      ]
     },
     "metadata": {},
     "output_type": "display_data"
    }
   ],
   "source": [
    "# pwr.t.test : Poser calculations for t-tests of means\n",
    "\n",
    "pwr.t.test(d=effsize, type=\"two.sample\", alternative=\"two.sided\", power=.8, sig.level=.05)\n",
    "\n",
    "# n = 17.63116 : 적정 n 수, 실험군과 대조군 각각에서 필요한 n 수\n",
    "# 각각 18명씩 총 36명의 대상자가 있어야한다는 결론을 얻을 수 있음"
   ]
  },
  {
   "cell_type": "code",
   "execution_count": null,
   "metadata": {},
   "outputs": [],
   "source": []
  },
  {
   "cell_type": "markdown",
   "metadata": {},
   "source": [
    "< 이론 출처 >\n",
    "\n",
    "    https://jinmedi.tistory.com/388"
   ]
  }
 ],
 "metadata": {
  "kernelspec": {
   "display_name": "R",
   "language": "R",
   "name": "ir"
  },
  "language_info": {
   "codemirror_mode": "r",
   "file_extension": ".r",
   "mimetype": "text/x-r-source",
   "name": "R",
   "pygments_lexer": "r",
   "version": "3.6.1"
  }
 },
 "nbformat": 4,
 "nbformat_minor": 2
}

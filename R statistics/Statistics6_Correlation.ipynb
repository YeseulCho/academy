{
 "cells": [
  {
   "cell_type": "markdown",
   "metadata": {},
   "source": [
    " ## Statistics_Correlation\n",
    " \n",
    "    최초 작성일 : 2020/03/06\n",
    "    작성자 : 조예슬 \n",
    " \n",
    "    < 작성 내용 >\n",
    "    \n",
    "        - 상관분석\n",
    "        \n",
    "        - 분석한 것 그래프로 나타내기"
   ]
  },
  {
   "cell_type": "code",
   "execution_count": null,
   "metadata": {},
   "outputs": [],
   "source": []
  },
  {
   "cell_type": "markdown",
   "metadata": {},
   "source": [
    "### 상관분석\n",
    "\n",
    "    두 변수간에 어떤 선형적 관계를 가지는지 분석하는 기법으로 상관계수를 이용하여 측정\n",
    "    \n",
    "    - 상관계수 R\n",
    "     : X와 Y가 함께 변하는 정도 / X와 Y가 각각 변하는 정도\n",
    "     : r = +1 : X, Y가 완전히 동일\n",
    "     : r = -1 : X, Y가 반대방향으로 완전히 동일\n",
    "     : r = 0 : X, Y 선형의 상관관계가 아니다\n",
    "             : 두 변수가 곡선관계일 수 있다\n",
    "\n",
    "     : 분석에서 매우 높은 상관계수가 나왔다면, 두 변량사이의 상관정도를 결정짓기 전에 데이터 내에 bias가 있는지 반드시 확인해볼것\n",
    "     \n",
    "#### 상관 계수 종류\n",
    "\n",
    "    - Pearson\n",
    "     : 상관 분석에서 기본적으로 사용되는 피어슨 상관계수\n",
    "     : 연속형 변수의 상관관계 측정 \n",
    "     : 모수 검정(parametric test)\n",
    "     : ex) 신장, 몸무게\n",
    "     \n",
    "    - Kendall\n",
    "     : 켄달 상관계수(τ, tau)\n",
    "     : 변수값 대신 순위로 바꿔서 이용하는 상관계수\n",
    "     : 샘플사이즈가 적거나, 데이터의 동률이 많을 때 유용\n",
    "     : 비모수 검정(non-parametric test)\n",
    "     : ex) 학교등급, 졸업학위 level\n",
    "     \n",
    "    - Spearman\n",
    "     : 스피어만 상관 계수(ρ, rho)\n",
    "     : 변수값 대신 순위로 바꿔서 이용하는 상관계수\n",
    "     : 데이터 내 편차와 에러에 민감하며, 일반적으로 켄달 상관계수보다 높은 값을 가짐\n",
    "     : 비모수 검정(non-parametric test)\n",
    "     : ex) 학교등급, 졸업학위 level\n",
    "             \n",
    "\n",
    "    But, 상관분석을 보며 원인-결과로 설명하는 것은 옳지 않다\n",
    "        A와 B가 positive correlation이란 사실은\n",
    "        A가 증가하는게 원인이 되서 B가 증가하는지,\n",
    "        B가 증가하는게 원인이 되서 A가 증가하는지, 알 수 없다.\n",
    "    \n",
    "    따라서, 원인-결과 분석을 하고 싶다면, \n",
    "            Y(결과) = aX(원인) + b 의 회귀분석을 수행할 것!!!   \n",
    "     "
   ]
  },
  {
   "cell_type": "markdown",
   "metadata": {},
   "source": [
    "< 출처 >\n",
    "\n",
    "https://bioinformaticsandme.tistory.com/58?category=808983"
   ]
  },
  {
   "cell_type": "code",
   "execution_count": null,
   "metadata": {},
   "outputs": [],
   "source": []
  },
  {
   "cell_type": "code",
   "execution_count": 2,
   "metadata": {},
   "outputs": [
    {
     "name": "stderr",
     "output_type": "stream",
     "text": [
      "Warning message:\n",
      "\"package 'UsingR' was built under R version 3.6.3\"Loading required package: MASS\n",
      "Loading required package: HistData\n",
      "Warning message:\n",
      "\"package 'HistData' was built under R version 3.6.3\"Loading required package: Hmisc\n",
      "Warning message:\n",
      "\"package 'Hmisc' was built under R version 3.6.3\"Loading required package: lattice\n",
      "Loading required package: survival\n",
      "Warning message:\n",
      "\"package 'survival' was built under R version 3.6.3\"Loading required package: Formula\n",
      "Loading required package: ggplot2\n",
      "Warning message:\n",
      "\"package 'ggplot2' was built under R version 3.6.2\"\n",
      "Attaching package: 'Hmisc'\n",
      "\n",
      "The following objects are masked from 'package:base':\n",
      "\n",
      "    format.pval, units\n",
      "\n",
      "\n",
      "Attaching package: 'UsingR'\n",
      "\n",
      "The following object is masked from 'package:survival':\n",
      "\n",
      "    cancer\n",
      "\n"
     ]
    }
   ],
   "source": [
    "# install.packages(\"UsingR\")\n",
    "library(UsingR)"
   ]
  },
  {
   "cell_type": "markdown",
   "metadata": {},
   "source": [
    "### 예시1. 부모키가 자식키에 영향을 미치는지 여부 알아보기\n",
    "\n",
    "    귀무가설 : 부모키는 자식키에 영향을 미치지 않는다\n",
    "    대립가설 : 부모키는 자식키에 영향을 미친다"
   ]
  },
  {
   "cell_type": "code",
   "execution_count": 12,
   "metadata": {
    "scrolled": true
   },
   "outputs": [
    {
     "name": "stdout",
     "output_type": "stream",
     "text": [
      "'data.frame':\t928 obs. of  2 variables:\n",
      " $ child : num  61.7 61.7 61.7 61.7 61.7 62.2 62.2 62.2 62.2 62.2 ...\n",
      " $ parent: num  70.5 68.5 65.5 64.5 64 67.5 67.5 67.5 66.5 66.5 ...\n"
     ]
    },
    {
     "data": {
      "text/html": [
       "<table>\n",
       "<thead><tr><th scope=col>child</th><th scope=col>parent</th></tr></thead>\n",
       "<tbody>\n",
       "\t<tr><td>61.7</td><td>70.5</td></tr>\n",
       "\t<tr><td>61.7</td><td>68.5</td></tr>\n",
       "\t<tr><td>61.7</td><td>65.5</td></tr>\n",
       "\t<tr><td>61.7</td><td>64.5</td></tr>\n",
       "\t<tr><td>61.7</td><td>64.0</td></tr>\n",
       "\t<tr><td>62.2</td><td>67.5</td></tr>\n",
       "</tbody>\n",
       "</table>\n"
      ],
      "text/latex": [
       "\\begin{tabular}{r|ll}\n",
       " child & parent\\\\\n",
       "\\hline\n",
       "\t 61.7 & 70.5\\\\\n",
       "\t 61.7 & 68.5\\\\\n",
       "\t 61.7 & 65.5\\\\\n",
       "\t 61.7 & 64.5\\\\\n",
       "\t 61.7 & 64.0\\\\\n",
       "\t 62.2 & 67.5\\\\\n",
       "\\end{tabular}\n"
      ],
      "text/markdown": [
       "\n",
       "| child | parent |\n",
       "|---|---|\n",
       "| 61.7 | 70.5 |\n",
       "| 61.7 | 68.5 |\n",
       "| 61.7 | 65.5 |\n",
       "| 61.7 | 64.5 |\n",
       "| 61.7 | 64.0 |\n",
       "| 62.2 | 67.5 |\n",
       "\n"
      ],
      "text/plain": [
       "  child parent\n",
       "1 61.7  70.5  \n",
       "2 61.7  68.5  \n",
       "3 61.7  65.5  \n",
       "4 61.7  64.5  \n",
       "5 61.7  64.0  \n",
       "6 62.2  67.5  "
      ]
     },
     "metadata": {},
     "output_type": "display_data"
    },
    {
     "data": {
      "image/png": "[encoded data removed]",
      "text/plain": [
       "plot without title"
      ]
     },
     "metadata": {},
     "output_type": "display_data"
    }
   ],
   "source": [
    "# 데이터 준비\n",
    "\n",
    "str(galton)\n",
    "head(galton)\n",
    "\n",
    "# 그래프를 그려서 관계 먼저 확인해보장\n",
    "# child 가 결과, parent 원인\n",
    "plot(child ~ parent, data=galton)\n",
    "# 오.. 그래프 뭐야.....\n",
    "# 약간 양의 상관관계인 것 같다"
   ]
  },
  {
   "cell_type": "code",
   "execution_count": 13,
   "metadata": {},
   "outputs": [
    {
     "data": {
      "text/html": [
       "0.458762368292822"
      ],
      "text/latex": [
       "0.458762368292822"
      ],
      "text/markdown": [
       "0.458762368292822"
      ],
      "text/plain": [
       "[1] 0.4587624"
      ]
     },
     "metadata": {},
     "output_type": "display_data"
    },
    {
     "data": {
      "text/plain": [
       "\n",
       "\tPearson's product-moment correlation\n",
       "\n",
       "data:  galton$child and galton$parent\n",
       "t = 15.711, df = 926, p-value < 2.2e-16\n",
       "alternative hypothesis: true correlation is not equal to 0\n",
       "95 percent confidence interval:\n",
       " 0.4064067 0.5081153\n",
       "sample estimates:\n",
       "      cor \n",
       "0.4587624 \n"
      ]
     },
     "metadata": {},
     "output_type": "display_data"
    }
   ],
   "source": [
    "# 회귀분석전 관계가 있는 상관관계 먼저 파악\n",
    "\n",
    "# child, parent 값 모두 연속 변수\n",
    "# 연속변수 : 변수의 각 값 사이에 무수히 많은 또 다른 값들이 존재하는 경우를 의미\n",
    "#          : ex) 사람의 키, 몸무게, 나이, 한 가구의 소득\n",
    "\n",
    "cor(galton$child, galton$parent)\n",
    "# cor 안에 method 부분에 함수 지정 가능, 따로 지정하지 않으면 pearson 함수 들어감\n",
    "# 결과 0.45.. 어느 정도 관계가 있다는 것.....\n",
    "\n",
    "cor.test(galton$child, galton$parent)\n",
    "# test 넣어주면 더 디테일하게 볼수있음\n",
    "# p-value < 2.2e-16  0.05보다 작음 / 대립가설 성립 / 아주 의미있다\n",
    "# 관계있음을 알수있다 = 부모키가 크면 자식키도 크다 \n",
    "\n",
    "# 여기까지 상관계수 기본 끝\n",
    "# 주의할점 0.45의 값은 기울기가 아니다!!\n",
    "# 최고값이 1일때 이 분포의 상관정도를 나타낸 값이다 "
   ]
  },
  {
   "cell_type": "code",
   "execution_count": 14,
   "metadata": {},
   "outputs": [
    {
     "data": {
      "text/plain": [
       "\n",
       "Call:\n",
       "lm(formula = child ~ parent, data = galton)\n",
       "\n",
       "Residuals:\n",
       "    Min      1Q  Median      3Q     Max \n",
       "-7.8050 -1.3661  0.0487  1.6339  5.9264 \n",
       "\n",
       "Coefficients:\n",
       "            Estimate Std. Error t value Pr(>|t|)    \n",
       "(Intercept) 23.94153    2.81088   8.517   <2e-16 ***\n",
       "parent       0.64629    0.04114  15.711   <2e-16 ***\n",
       "---\n",
       "Signif. codes:  0 '***' 0.001 '**' 0.01 '*' 0.05 '.' 0.1 ' ' 1\n",
       "\n",
       "Residual standard error: 2.239 on 926 degrees of freedom\n",
       "Multiple R-squared:  0.2105,\tAdjusted R-squared:  0.2096 \n",
       "F-statistic: 246.8 on 1 and 926 DF,  p-value: < 2.2e-16\n"
      ]
     },
     "metadata": {},
     "output_type": "display_data"
    }
   ],
   "source": [
    "# 이 분포를 대표하는 선을 그리고 싶을때\n",
    "# 이 분포를 대표하는 선형 모델을 만들자\n",
    "\n",
    "out <- lm(child ~ parent, data=galton) # lm : linear model 선을 그려주는 함수\n",
    "summary(out) \n",
    "# intercept : 23.94153 (y 절편) \n",
    "# parent : 0.64629 (기울기) \n",
    "# y = 23.94153 + 0.64629*X 에 해당하는 직선이 이 분포를 가장 잘 대변함"
   ]
  },
  {
   "cell_type": "code",
   "execution_count": 21,
   "metadata": {},
   "outputs": [
    {
     "data": {
      "image/png": "[encoded data removed]",
      "text/plain": [
       "plot without title"
      ]
     },
     "metadata": {},
     "output_type": "display_data"
    }
   ],
   "source": [
    "# 이 직선을 분포 위에 올리기 위해선 abline() 함수 활용\n",
    "\n",
    "plot(child ~ parent, data=galton)\n",
    "abline(out, col=\"red\") \n",
    "# 키를 반올림해서 잰것이기 때문에\n",
    "# 값들의 분포가 아주 동일하게 떨어져있는것을 볼 수 있다\n",
    "# 점 안에 여러 값들이 들어가 있다(=누적되어있다)\n",
    "# 누적되어 있는 점들을 직관적으로 들어내주자"
   ]
  },
  {
   "cell_type": "code",
   "execution_count": 20,
   "metadata": {},
   "outputs": [
    {
     "data": {
      "image/png": "[encoded data removed]",
      "text/plain": [
       "plot without title"
      ]
     },
     "metadata": {},
     "output_type": "display_data"
    }
   ],
   "source": [
    "# 누적값들 직관적으로 들어내주기 : jitter()함수 이용하여 분산시키자\n",
    "\n",
    "plot(jitter(child, 5) ~ jitter(parent, 5), data=galton)\n",
    "\n",
    "# 그냥 5라는 정도로 옵션주기\n",
    "# 점들이 일정한 자리에 있지않고 흩으러져서 놓여진걸 볼 수 있다\n",
    "# 앞에서 보여진 데이터 보다 설득력있게 이야기 전개 가능\n",
    "# 이 위에 선형 모델 올려주기\n",
    "abline(out, col='red')"
   ]
  },
  {
   "cell_type": "code",
   "execution_count": 22,
   "metadata": {},
   "outputs": [
    {
     "data": {
      "image/png": "[encoded data removed]",
      "text/plain": [
       "plot without title"
      ]
     },
     "metadata": {},
     "output_type": "display_data"
    }
   ],
   "source": [
    "# 더 이쁘게 그려보자...\n",
    "\n",
    "sunflowerplot(galton) \n",
    "# 겹쳐져있는 개수 알수있음 \n",
    "# 안쪽에 많은 데이터가 겹쳐있고, 바깥쪽으로 갈수록 데이터가 적은 것을 볼 수 있다\n",
    "\n",
    "# 하지만 점들이 너무 많아진다면\n",
    "# 이것들도 누적되어서 보일 수 있다"
   ]
  },
  {
   "cell_type": "code",
   "execution_count": 31,
   "metadata": {
    "scrolled": true
   },
   "outputs": [
    {
     "data": {
      "text/html": [
       "<table>\n",
       "<thead><tr><th scope=col>ad</th><th scope=col>lu</th><th scope=col>sz</th></tr></thead>\n",
       "<tbody>\n",
       "\t<tr><td>14.4</td><td>22.9</td><td>16.4</td></tr>\n",
       "\t<tr><td>14.0</td><td>22.5</td><td>16.1</td></tr>\n",
       "\t<tr><td>13.2</td><td>22.2</td><td>15.3</td></tr>\n",
       "\t<tr><td>13.2</td><td>22.3</td><td>15.5</td></tr>\n",
       "\t<tr><td>14.7</td><td>22.5</td><td>15.4</td></tr>\n",
       "\t<tr><td>15.5</td><td>22.2</td><td>15.3</td></tr>\n",
       "\t<tr><td>15.6</td><td>21.1</td><td>15.3</td></tr>\n",
       "\t<tr><td>14.9</td><td>21.7</td><td>17.1</td></tr>\n",
       "\t<tr><td>15.1</td><td>21.8</td><td>18.8</td></tr>\n",
       "\t<tr><td>15.2</td><td>22.4</td><td>19.8</td></tr>\n",
       "\t<tr><td>15.0</td><td>22.2</td><td>18.1</td></tr>\n",
       "\t<tr><td>16.3</td><td>22.8</td><td>17.9</td></tr>\n",
       "\t<tr><td>12.0</td><td>22.0</td><td>20.5</td></tr>\n",
       "\t<tr><td>14.4</td><td>21.2</td><td>20.7</td></tr>\n",
       "\t<tr><td>13.7</td><td>22.4</td><td>21.1</td></tr>\n",
       "\t<tr><td>14.7</td><td>21.4</td><td>21.3</td></tr>\n",
       "\t<tr><td>15.2</td><td>21.1</td><td>21.2</td></tr>\n",
       "\t<tr><td>16.3</td><td>21.1</td><td>20.8</td></tr>\n",
       "\t<tr><td>18.1</td><td>21.0</td><td>20.6</td></tr>\n",
       "\t<tr><td>18.1</td><td>20.2</td><td>20.9</td></tr>\n",
       "\t<tr><td>19.1</td><td>20.7</td><td>20.8</td></tr>\n",
       "\t<tr><td>19.3</td><td>21.2</td><td>20.9</td></tr>\n",
       "\t<tr><td>19.7</td><td>21.2</td><td>20.9</td></tr>\n",
       "\t<tr><td>20.6</td><td>21.3</td><td>20.8</td></tr>\n",
       "\t<tr><td>21.4</td><td>20.7</td><td>21.1</td></tr>\n",
       "\t<tr><td>21.0</td><td>20.9</td><td>21.0</td></tr>\n",
       "\t<tr><td>20.2</td><td>20.8</td><td>21.3</td></tr>\n",
       "\t<tr><td>20.0</td><td>19.9</td><td>21.5</td></tr>\n",
       "\t<tr><td>20.2</td><td>19.5</td><td>22.1</td></tr>\n",
       "\t<tr><td>19.3</td><td>20.0</td><td>21.6</td></tr>\n",
       "\t<tr><td>...</td><td>...</td><td>...</td></tr>\n",
       "\t<tr><td>30.7</td><td>24.0</td><td>37.0</td></tr>\n",
       "\t<tr><td>33.3</td><td>27.9</td><td>37.6</td></tr>\n",
       "\t<tr><td>32.6</td><td>26.9</td><td>38.1</td></tr>\n",
       "\t<tr><td>35.8</td><td>29.3</td><td>39.8</td></tr>\n",
       "\t<tr><td>35.7</td><td>32.4</td><td>40.1</td></tr>\n",
       "\t<tr><td>39.4</td><td>35.4</td><td>40.9</td></tr>\n",
       "\t<tr><td>39.2</td><td>38.2</td><td>41.4</td></tr>\n",
       "\t<tr><td>39.9</td><td>38.3</td><td>42.1</td></tr>\n",
       "\t<tr><td>38.1</td><td>37.3</td><td>41.4</td></tr>\n",
       "\t<tr><td>38.6</td><td>37.7</td><td>40.0</td></tr>\n",
       "\t<tr><td>38.1</td><td>38.5</td><td>39.3</td></tr>\n",
       "\t<tr><td>37.1</td><td>40.0</td><td>41.5</td></tr>\n",
       "\t<tr><td>34.2</td><td>38.7</td><td>42.0</td></tr>\n",
       "\t<tr><td>34.6</td><td>35.4</td><td>41.0</td></tr>\n",
       "\t<tr><td>35.5</td><td>33.1</td><td>40.6</td></tr>\n",
       "\t<tr><td>36.4</td><td>33.3</td><td>39.8</td></tr>\n",
       "\t<tr><td>37.0</td><td>34.3</td><td>38.2</td></tr>\n",
       "\t<tr><td>34.2</td><td>35.5</td><td>37.5</td></tr>\n",
       "\t<tr><td>32.7</td><td>35.2</td><td>35.9</td></tr>\n",
       "\t<tr><td>32.3</td><td>31.5</td><td>34.9</td></tr>\n",
       "\t<tr><td>32.9</td><td>30.5</td><td>34.4</td></tr>\n",
       "\t<tr><td>29.1</td><td>26.9</td><td>32.9</td></tr>\n",
       "\t<tr><td>30.2</td><td>25.9</td><td>32.1</td></tr>\n",
       "\t<tr><td>30.0</td><td>28.4</td><td>33.4</td></tr>\n",
       "\t<tr><td>28.4</td><td>26.8</td><td>32.1</td></tr>\n",
       "\t<tr><td>28.3</td><td>27.4</td><td>31.3</td></tr>\n",
       "\t<tr><td>25.6</td><td>27.1</td><td>29.7</td></tr>\n",
       "\t<tr><td>24.7</td><td>26.3</td><td>29.6</td></tr>\n",
       "\t<tr><td>25.4</td><td>23.9</td><td>29.5</td></tr>\n",
       "\t<tr><td>25.4</td><td>23.8</td><td>32.0</td></tr>\n",
       "</tbody>\n",
       "</table>\n"
      ],
      "text/latex": [
       "\\begin{tabular}{r|lll}\n",
       " ad & lu & sz\\\\\n",
       "\\hline\n",
       "\t 14.4 & 22.9 & 16.4\\\\\n",
       "\t 14.0 & 22.5 & 16.1\\\\\n",
       "\t 13.2 & 22.2 & 15.3\\\\\n",
       "\t 13.2 & 22.3 & 15.5\\\\\n",
       "\t 14.7 & 22.5 & 15.4\\\\\n",
       "\t 15.5 & 22.2 & 15.3\\\\\n",
       "\t 15.6 & 21.1 & 15.3\\\\\n",
       "\t 14.9 & 21.7 & 17.1\\\\\n",
       "\t 15.1 & 21.8 & 18.8\\\\\n",
       "\t 15.2 & 22.4 & 19.8\\\\\n",
       "\t 15.0 & 22.2 & 18.1\\\\\n",
       "\t 16.3 & 22.8 & 17.9\\\\\n",
       "\t 12.0 & 22.0 & 20.5\\\\\n",
       "\t 14.4 & 21.2 & 20.7\\\\\n",
       "\t 13.7 & 22.4 & 21.1\\\\\n",
       "\t 14.7 & 21.4 & 21.3\\\\\n",
       "\t 15.2 & 21.1 & 21.2\\\\\n",
       "\t 16.3 & 21.1 & 20.8\\\\\n",
       "\t 18.1 & 21.0 & 20.6\\\\\n",
       "\t 18.1 & 20.2 & 20.9\\\\\n",
       "\t 19.1 & 20.7 & 20.8\\\\\n",
       "\t 19.3 & 21.2 & 20.9\\\\\n",
       "\t 19.7 & 21.2 & 20.9\\\\\n",
       "\t 20.6 & 21.3 & 20.8\\\\\n",
       "\t 21.4 & 20.7 & 21.1\\\\\n",
       "\t 21.0 & 20.9 & 21.0\\\\\n",
       "\t 20.2 & 20.8 & 21.3\\\\\n",
       "\t 20.0 & 19.9 & 21.5\\\\\n",
       "\t 20.2 & 19.5 & 22.1\\\\\n",
       "\t 19.3 & 20.0 & 21.6\\\\\n",
       "\t ... & ... & ...\\\\\n",
       "\t 30.7 & 24.0 & 37.0\\\\\n",
       "\t 33.3 & 27.9 & 37.6\\\\\n",
       "\t 32.6 & 26.9 & 38.1\\\\\n",
       "\t 35.8 & 29.3 & 39.8\\\\\n",
       "\t 35.7 & 32.4 & 40.1\\\\\n",
       "\t 39.4 & 35.4 & 40.9\\\\\n",
       "\t 39.2 & 38.2 & 41.4\\\\\n",
       "\t 39.9 & 38.3 & 42.1\\\\\n",
       "\t 38.1 & 37.3 & 41.4\\\\\n",
       "\t 38.6 & 37.7 & 40.0\\\\\n",
       "\t 38.1 & 38.5 & 39.3\\\\\n",
       "\t 37.1 & 40.0 & 41.5\\\\\n",
       "\t 34.2 & 38.7 & 42.0\\\\\n",
       "\t 34.6 & 35.4 & 41.0\\\\\n",
       "\t 35.5 & 33.1 & 40.6\\\\\n",
       "\t 36.4 & 33.3 & 39.8\\\\\n",
       "\t 37.0 & 34.3 & 38.2\\\\\n",
       "\t 34.2 & 35.5 & 37.5\\\\\n",
       "\t 32.7 & 35.2 & 35.9\\\\\n",
       "\t 32.3 & 31.5 & 34.9\\\\\n",
       "\t 32.9 & 30.5 & 34.4\\\\\n",
       "\t 29.1 & 26.9 & 32.9\\\\\n",
       "\t 30.2 & 25.9 & 32.1\\\\\n",
       "\t 30.0 & 28.4 & 33.4\\\\\n",
       "\t 28.4 & 26.8 & 32.1\\\\\n",
       "\t 28.3 & 27.4 & 31.3\\\\\n",
       "\t 25.6 & 27.1 & 29.7\\\\\n",
       "\t 24.7 & 26.3 & 29.6\\\\\n",
       "\t 25.4 & 23.9 & 29.5\\\\\n",
       "\t 25.4 & 23.8 & 32.0\\\\\n",
       "\\end{tabular}\n"
      ],
      "text/markdown": [
       "\n",
       "| ad | lu | sz |\n",
       "|---|---|---|\n",
       "| 14.4 | 22.9 | 16.4 |\n",
       "| 14.0 | 22.5 | 16.1 |\n",
       "| 13.2 | 22.2 | 15.3 |\n",
       "| 13.2 | 22.3 | 15.5 |\n",
       "| 14.7 | 22.5 | 15.4 |\n",
       "| 15.5 | 22.2 | 15.3 |\n",
       "| 15.6 | 21.1 | 15.3 |\n",
       "| 14.9 | 21.7 | 17.1 |\n",
       "| 15.1 | 21.8 | 18.8 |\n",
       "| 15.2 | 22.4 | 19.8 |\n",
       "| 15.0 | 22.2 | 18.1 |\n",
       "| 16.3 | 22.8 | 17.9 |\n",
       "| 12.0 | 22.0 | 20.5 |\n",
       "| 14.4 | 21.2 | 20.7 |\n",
       "| 13.7 | 22.4 | 21.1 |\n",
       "| 14.7 | 21.4 | 21.3 |\n",
       "| 15.2 | 21.1 | 21.2 |\n",
       "| 16.3 | 21.1 | 20.8 |\n",
       "| 18.1 | 21.0 | 20.6 |\n",
       "| 18.1 | 20.2 | 20.9 |\n",
       "| 19.1 | 20.7 | 20.8 |\n",
       "| 19.3 | 21.2 | 20.9 |\n",
       "| 19.7 | 21.2 | 20.9 |\n",
       "| 20.6 | 21.3 | 20.8 |\n",
       "| 21.4 | 20.7 | 21.1 |\n",
       "| 21.0 | 20.9 | 21.0 |\n",
       "| 20.2 | 20.8 | 21.3 |\n",
       "| 20.0 | 19.9 | 21.5 |\n",
       "| 20.2 | 19.5 | 22.1 |\n",
       "| 19.3 | 20.0 | 21.6 |\n",
       "| ... | ... | ... |\n",
       "| 30.7 | 24.0 | 37.0 |\n",
       "| 33.3 | 27.9 | 37.6 |\n",
       "| 32.6 | 26.9 | 38.1 |\n",
       "| 35.8 | 29.3 | 39.8 |\n",
       "| 35.7 | 32.4 | 40.1 |\n",
       "| 39.4 | 35.4 | 40.9 |\n",
       "| 39.2 | 38.2 | 41.4 |\n",
       "| 39.9 | 38.3 | 42.1 |\n",
       "| 38.1 | 37.3 | 41.4 |\n",
       "| 38.6 | 37.7 | 40.0 |\n",
       "| 38.1 | 38.5 | 39.3 |\n",
       "| 37.1 | 40.0 | 41.5 |\n",
       "| 34.2 | 38.7 | 42.0 |\n",
       "| 34.6 | 35.4 | 41.0 |\n",
       "| 35.5 | 33.1 | 40.6 |\n",
       "| 36.4 | 33.3 | 39.8 |\n",
       "| 37.0 | 34.3 | 38.2 |\n",
       "| 34.2 | 35.5 | 37.5 |\n",
       "| 32.7 | 35.2 | 35.9 |\n",
       "| 32.3 | 31.5 | 34.9 |\n",
       "| 32.9 | 30.5 | 34.4 |\n",
       "| 29.1 | 26.9 | 32.9 |\n",
       "| 30.2 | 25.9 | 32.1 |\n",
       "| 30.0 | 28.4 | 33.4 |\n",
       "| 28.4 | 26.8 | 32.1 |\n",
       "| 28.3 | 27.4 | 31.3 |\n",
       "| 25.6 | 27.1 | 29.7 |\n",
       "| 24.7 | 26.3 | 29.6 |\n",
       "| 25.4 | 23.9 | 29.5 |\n",
       "| 25.4 | 23.8 | 32.0 |\n",
       "\n"
      ],
      "text/plain": [
       "      ad   lu   sz  \n",
       "1     14.4 22.9 16.4\n",
       "2     14.0 22.5 16.1\n",
       "3     13.2 22.2 15.3\n",
       "4     13.2 22.3 15.5\n",
       "5     14.7 22.5 15.4\n",
       "6     15.5 22.2 15.3\n",
       "7     15.6 21.1 15.3\n",
       "8     14.9 21.7 17.1\n",
       "9     15.1 21.8 18.8\n",
       "10    15.2 22.4 19.8\n",
       "11    15.0 22.2 18.1\n",
       "12    16.3 22.8 17.9\n",
       "13    12.0 22.0 20.5\n",
       "14    14.4 21.2 20.7\n",
       "15    13.7 22.4 21.1\n",
       "16    14.7 21.4 21.3\n",
       "17    15.2 21.1 21.2\n",
       "18    16.3 21.1 20.8\n",
       "19    18.1 21.0 20.6\n",
       "20    18.1 20.2 20.9\n",
       "21    19.1 20.7 20.8\n",
       "22    19.3 21.2 20.9\n",
       "23    19.7 21.2 20.9\n",
       "24    20.6 21.3 20.8\n",
       "25    21.4 20.7 21.1\n",
       "26    21.0 20.9 21.0\n",
       "27    20.2 20.8 21.3\n",
       "28    20.0 19.9 21.5\n",
       "29    20.2 19.5 22.1\n",
       "30    19.3 20.0 21.6\n",
       "...   ...  ...  ... \n",
       "17539 30.7 24.0 37.0\n",
       "17540 33.3 27.9 37.6\n",
       "17541 32.6 26.9 38.1\n",
       "17542 35.8 29.3 39.8\n",
       "17543 35.7 32.4 40.1\n",
       "17544 39.4 35.4 40.9\n",
       "17545 39.2 38.2 41.4\n",
       "17546 39.9 38.3 42.1\n",
       "17547 38.1 37.3 41.4\n",
       "17548 38.6 37.7 40.0\n",
       "17549 38.1 38.5 39.3\n",
       "17550 37.1 40.0 41.5\n",
       "17551 34.2 38.7 42.0\n",
       "17552 34.6 35.4 41.0\n",
       "17553 35.5 33.1 40.6\n",
       "17554 36.4 33.3 39.8\n",
       "17555 37.0 34.3 38.2\n",
       "17556 34.2 35.5 37.5\n",
       "17557 32.7 35.2 35.9\n",
       "17558 32.3 31.5 34.9\n",
       "17559 32.9 30.5 34.4\n",
       "17560 29.1 26.9 32.9\n",
       "17561 30.2 25.9 32.1\n",
       "17562 30.0 28.4 33.4\n",
       "17563 28.4 26.8 32.1\n",
       "17564 28.3 27.4 31.3\n",
       "17565 25.6 27.1 29.7\n",
       "17566 24.7 26.3 29.6\n",
       "17567 25.4 23.9 29.5\n",
       "17568 25.4 23.8 32.0"
      ]
     },
     "metadata": {},
     "output_type": "display_data"
    }
   ],
   "source": [
    "# 큰 데이터 준비\n",
    "# install.packages(\"SwissAir\")\n",
    "library(SwissAir)\n",
    "\n",
    "# data(\"AirQual\")\n",
    "str(AirQual)\n",
    "head(AirQual)\n",
    "\n",
    "# 그냥,, 실습하기 좋은 데이터로 만들기\n",
    "Ox <- AirQual[,c(\"ad.O3\", \"lu.O3\", \"sz.O3\")] + \n",
    "    AirQual[, c(\"ad.NOx\", \"lu.NOx\", \"sz.NOx\")] -\n",
    "    AirQual[, c(\"ad.NO\", \"lu.NO\", \"sz.NO\")]\n",
    "\n",
    "names(Ox) <- c(\"ad\", \"lu\", \"sz\")\n",
    "\n",
    "Ox"
   ]
  },
  {
   "cell_type": "code",
   "execution_count": 32,
   "metadata": {},
   "outputs": [
    {
     "data": {
      "image/png": "[encoded data removed]",
      "text/plain": [
       "plot without title"
      ]
     },
     "metadata": {},
     "output_type": "display_data"
    }
   ],
   "source": [
    "# 그래프\n",
    "plot(lu ~ sz, data=Ox)\n",
    "# 이렇게 많은 데이터 다뤄볼것이야..\n",
    "# 겹쳐진 부분이 너무 많은 데이터를 어떻게 하면 더 직관적이게 보여줄수있는가?\n",
    "# 를 알아보자\n",
    "# 앞쪽의 농도가 뒷쪽의 농도보다 더 짙다고 추정할 수 있다\n",
    "# 농도나 컬러를 이용해서 보게 됨"
   ]
  },
  {
   "cell_type": "code",
   "execution_count": 36,
   "metadata": {},
   "outputs": [
    {
     "data": {
      "image/png": "[encoded data removed]",
      "text/plain": [
       "plot without title"
      ]
     },
     "metadata": {},
     "output_type": "display_data"
    }
   ],
   "source": [
    "# 농도나 컬러를 이용해서 보게 됨\n",
    "# install.packages(\"hexbin\")\n",
    "library(hexbin)\n",
    "\n",
    "bin <- hexbin(Ox$lu, Ox$sz, xbins = 50)\n",
    "# bin을 plot에 올리기\n",
    "plot(bin)\n",
    "# 농도를 이용해서 값들이 보이는것을 볼 수 있다\n",
    "# 색의 짙은 정도를 자동적으로 보여준당\n",
    "# 육각형 도형들을 이용해서 표현했는데"
   ]
  },
  {
   "cell_type": "code",
   "execution_count": 37,
   "metadata": {},
   "outputs": [
    {
     "data": {
      "image/png": "[encoded data removed]",
      "text/plain": [
       "plot without title"
      ]
     },
     "metadata": {},
     "output_type": "display_data"
    }
   ],
   "source": [
    "# 컬러를 이용해서 표현해보자\n",
    "\n",
    "smoothScatter(Ox$lu, Ox$sz)\n",
    "# 더 확연하게 확인 가능"
   ]
  },
  {
   "cell_type": "code",
   "execution_count": 39,
   "metadata": {},
   "outputs": [
    {
     "name": "stderr",
     "output_type": "stream",
     "text": [
      "Warning message:\n",
      "\"package 'IDPmisc' was built under R version 3.6.3\"\n",
      "Attaching package: 'IDPmisc'\n",
      "\n",
      "The following object is masked from 'package:Hmisc':\n",
      "\n",
      "    zoom\n",
      "\n"
     ]
    }
   ],
   "source": [
    "# install.packages(\"IDPmisc\")\n",
    "library(IDPmisc)"
   ]
  },
  {
   "cell_type": "code",
   "execution_count": 40,
   "metadata": {},
   "outputs": [
    {
     "data": {
      "image/png": "[encoded data removed]",
      "text/plain": [
       "plot without title"
      ]
     },
     "metadata": {},
     "output_type": "display_data"
    }
   ],
   "source": [
    "# 온도 색으로 밀도 표현\n",
    "iplot(Ox$lu, Ox$sz)"
   ]
  },
  {
   "cell_type": "markdown",
   "metadata": {},
   "source": [
    "< 출처 >\n",
    "\n",
    "https://jinmedi.tistory.com/413?category=358093"
   ]
  },
  {
   "cell_type": "code",
   "execution_count": null,
   "metadata": {},
   "outputs": [],
   "source": []
  },
  {
   "cell_type": "markdown",
   "metadata": {},
   "source": [
    "### 예시2. 인구증가율\n",
    "    pop_growth : 인구증가율\n",
    "    elderly_rate : 65세 이상 노인인구 비율\n",
    "    finance : 재정 자립도\n",
    "    cultural_center : 인구 10만명당 문화기반 시설수"
   ]
  },
  {
   "cell_type": "code",
   "execution_count": 42,
   "metadata": {},
   "outputs": [
    {
     "name": "stdout",
     "output_type": "stream",
     "text": [
      "'data.frame':\t157 obs. of  7 variables:\n",
      " $ 군별           : Factor w/ 157 levels \"강원 강릉시\",..: 31 30 43 35 29 22 46 28 33 20 ...\n",
      " $ pop_growth     : num  1.06 -0.26 0.69 -0.47 -0.64 -0.88 2.67 0.52 -1.05 2.14 ...\n",
      " $ birth_rate     : num  1.29 1.16 1.1 1.18 1.07 ...\n",
      " $ elderly_rate   : num  8.71 11.26 12.63 10.32 10.13 ...\n",
      " $ finance        : num  0.729 0.768 0.606 0.721 0.662 0.691 0.636 0.575 0.666 0.659 ...\n",
      " $ cultural_center: num  2.79 2.16 1.38 2.34 2.94 2.32 2.61 4.08 3.44 3.02 ...\n",
      " $ dummy          : int  1 1 1 1 1 1 1 1 1 1 ...\n"
     ]
    },
    {
     "data": {
      "text/html": [
       "<table>\n",
       "<thead><tr><th scope=col>군별</th><th scope=col>pop_growth</th><th scope=col>birth_rate</th><th scope=col>elderly_rate</th><th scope=col>finance</th><th scope=col>cultural_center</th><th scope=col>dummy</th></tr></thead>\n",
       "<tbody>\n",
       "\t<tr><td>경기 수원시  </td><td> 1.06        </td><td>1.292        </td><td> 8.71        </td><td>0.729        </td><td>2.79         </td><td>1            </td></tr>\n",
       "\t<tr><td>경기 성남시  </td><td>-0.26        </td><td>1.159        </td><td>11.26        </td><td>0.768        </td><td>2.16         </td><td>1            </td></tr>\n",
       "\t<tr><td>경기 의정부시</td><td> 0.69        </td><td>1.104        </td><td>12.63        </td><td>0.606        </td><td>1.38         </td><td>1            </td></tr>\n",
       "\t<tr><td>경기 안양시  </td><td>-0.47        </td><td>1.177        </td><td>10.32        </td><td>0.721        </td><td>2.34         </td><td>1            </td></tr>\n",
       "\t<tr><td>경기 부천시  </td><td>-0.64        </td><td>1.072        </td><td>10.13        </td><td>0.662        </td><td>2.94         </td><td>1            </td></tr>\n",
       "\t<tr><td>경기 광명시  </td><td>-0.88        </td><td>1.235        </td><td>10.77        </td><td>0.691        </td><td>2.32         </td><td>1            </td></tr>\n",
       "</tbody>\n",
       "</table>\n"
      ],
      "text/latex": [
       "\\begin{tabular}{r|lllllll}\n",
       " 군별 & pop\\_growth & birth\\_rate & elderly\\_rate & finance & cultural\\_center & dummy\\\\\n",
       "\\hline\n",
       "\t 경기 수원시   &  1.06         & 1.292         &  8.71         & 0.729         & 2.79          & 1            \\\\\n",
       "\t 경기 성남시   & -0.26         & 1.159         & 11.26         & 0.768         & 2.16          & 1            \\\\\n",
       "\t 경기 의정부시 &  0.69         & 1.104         & 12.63         & 0.606         & 1.38          & 1            \\\\\n",
       "\t 경기 안양시   & -0.47         & 1.177         & 10.32         & 0.721         & 2.34          & 1            \\\\\n",
       "\t 경기 부천시   & -0.64         & 1.072         & 10.13         & 0.662         & 2.94          & 1            \\\\\n",
       "\t 경기 광명시   & -0.88         & 1.235         & 10.77         & 0.691         & 2.32          & 1            \\\\\n",
       "\\end{tabular}\n"
      ],
      "text/markdown": [
       "\n",
       "| 군별 | pop_growth | birth_rate | elderly_rate | finance | cultural_center | dummy |\n",
       "|---|---|---|---|---|---|---|\n",
       "| 경기 수원시   |  1.06         | 1.292         |  8.71         | 0.729         | 2.79          | 1             |\n",
       "| 경기 성남시   | -0.26         | 1.159         | 11.26         | 0.768         | 2.16          | 1             |\n",
       "| 경기 의정부시 |  0.69         | 1.104         | 12.63         | 0.606         | 1.38          | 1             |\n",
       "| 경기 안양시   | -0.47         | 1.177         | 10.32         | 0.721         | 2.34          | 1             |\n",
       "| 경기 부천시   | -0.64         | 1.072         | 10.13         | 0.662         | 2.94          | 1             |\n",
       "| 경기 광명시   | -0.88         | 1.235         | 10.77         | 0.691         | 2.32          | 1             |\n",
       "\n"
      ],
      "text/plain": [
       "  군별          pop_growth birth_rate elderly_rate finance cultural_center\n",
       "1 경기 수원시    1.06      1.292       8.71        0.729   2.79           \n",
       "2 경기 성남시   -0.26      1.159      11.26        0.768   2.16           \n",
       "3 경기 의정부시  0.69      1.104      12.63        0.606   1.38           \n",
       "4 경기 안양시   -0.47      1.177      10.32        0.721   2.34           \n",
       "5 경기 부천시   -0.64      1.072      10.13        0.662   2.94           \n",
       "6 경기 광명시   -0.88      1.235      10.77        0.691   2.32           \n",
       "  dummy\n",
       "1 1    \n",
       "2 1    \n",
       "3 1    \n",
       "4 1    \n",
       "5 1    \n",
       "6 1    "
      ]
     },
     "metadata": {},
     "output_type": "display_data"
    }
   ],
   "source": [
    "# 데이터 준비\n",
    "\n",
    "mydata <- read.csv(\"C:/Users/cho ye seul/Documents/예슬/Acorn/rwork/StatProject/data/cor.csv\")\n",
    "str(mydata) # 7개의 변수 157개 데이터\n",
    "head(mydata)"
   ]
  },
  {
   "cell_type": "code",
   "execution_count": 44,
   "metadata": {},
   "outputs": [
    {
     "data": {
      "image/png": "[encoded data removed]",
      "text/plain": [
       "plot without title"
      ]
     },
     "metadata": {},
     "output_type": "display_data"
    }
   ],
   "source": [
    "# 그래프부터 살펴보기\n",
    "\n",
    "plot(mydata$pop_growth, mydata$elderly_rate)\n",
    "# 왼쪽으로 굉장히 치우쳐져 있는듯 하다"
   ]
  },
  {
   "cell_type": "code",
   "execution_count": 46,
   "metadata": {},
   "outputs": [
    {
     "data": {
      "text/html": [
       "-0.406921779156732"
      ],
      "text/latex": [
       "-0.406921779156732"
      ],
      "text/markdown": [
       "-0.406921779156732"
      ],
      "text/plain": [
       "[1] -0.4069218"
      ]
     },
     "metadata": {},
     "output_type": "display_data"
    },
    {
     "data": {
      "text/html": [
       "-0.434216126647951"
      ],
      "text/latex": [
       "-0.434216126647951"
      ],
      "text/markdown": [
       "-0.434216126647951"
      ],
      "text/plain": [
       "[1] -0.4342161"
      ]
     },
     "metadata": {},
     "output_type": "display_data"
    }
   ],
   "source": [
    "# 상관관계 알아보기\n",
    "\n",
    "## pearson\n",
    "cor(mydata$pop_growth, mydata$elderly_rate, method=\"pearson\")\n",
    "# 모수, 정규분포\n",
    "# 음의 방향 -0.41\n",
    "\n",
    "## spearman\n",
    "cor(mydata$pop_growth, mydata$elderly_rate, method=\"spearman\")\n",
    "# 서열\n",
    "# 음의 방향 -0.43"
   ]
  },
  {
   "cell_type": "code",
   "execution_count": 47,
   "metadata": {},
   "outputs": [
    {
     "data": {
      "text/html": [
       "<table>\n",
       "<tbody>\n",
       "\t<tr><td> 1.0000000 </td><td> 0.16152885</td><td>-0.40692178</td><td> 0.23078789</td><td>-0.20736363</td></tr>\n",
       "\t<tr><td> 0.1615289 </td><td> 1.00000000</td><td> 0.05672361</td><td>-0.09981501</td><td> 0.08881914</td></tr>\n",
       "\t<tr><td>-0.4069218 </td><td> 0.05672361</td><td> 1.00000000</td><td>-0.43573354</td><td> 0.49885306</td></tr>\n",
       "\t<tr><td> 0.2307879 </td><td>-0.09981501</td><td>-0.43573354</td><td> 1.00000000</td><td>-0.06016467</td></tr>\n",
       "\t<tr><td>-0.2073636 </td><td> 0.08881914</td><td> 0.49885306</td><td>-0.06016467</td><td> 1.00000000</td></tr>\n",
       "</tbody>\n",
       "</table>\n"
      ],
      "text/latex": [
       "\\begin{tabular}{lllll}\n",
       "\t  1.0000000  &  0.16152885 & -0.40692178 &  0.23078789 & -0.20736363\\\\\n",
       "\t  0.1615289  &  1.00000000 &  0.05672361 & -0.09981501 &  0.08881914\\\\\n",
       "\t -0.4069218  &  0.05672361 &  1.00000000 & -0.43573354 &  0.49885306\\\\\n",
       "\t  0.2307879  & -0.09981501 & -0.43573354 &  1.00000000 & -0.06016467\\\\\n",
       "\t -0.2073636  &  0.08881914 &  0.49885306 & -0.06016467 &  1.00000000\\\\\n",
       "\\end{tabular}\n"
      ],
      "text/markdown": [
       "\n",
       "|  1.0000000  |  0.16152885 | -0.40692178 |  0.23078789 | -0.20736363 |\n",
       "|  0.1615289  |  1.00000000 |  0.05672361 | -0.09981501 |  0.08881914 |\n",
       "| -0.4069218  |  0.05672361 |  1.00000000 | -0.43573354 |  0.49885306 |\n",
       "|  0.2307879  | -0.09981501 | -0.43573354 |  1.00000000 | -0.06016467 |\n",
       "| -0.2073636  |  0.08881914 |  0.49885306 | -0.06016467 |  1.00000000 |\n",
       "\n"
      ],
      "text/plain": [
       "     [,1]       [,2]        [,3]        [,4]        [,5]       \n",
       "[1,]  1.0000000  0.16152885 -0.40692178  0.23078789 -0.20736363\n",
       "[2,]  0.1615289  1.00000000  0.05672361 -0.09981501  0.08881914\n",
       "[3,] -0.4069218  0.05672361  1.00000000 -0.43573354  0.49885306\n",
       "[4,]  0.2307879 -0.09981501 -0.43573354  1.00000000 -0.06016467\n",
       "[5,] -0.2073636  0.08881914  0.49885306 -0.06016467  1.00000000"
      ]
     },
     "metadata": {},
     "output_type": "display_data"
    }
   ],
   "source": [
    "# 많은 변수에 대해서 상관분석 해야한다면\n",
    "\n",
    "x <- cbind(mydata$pop_growth, mydata$birth_rate, mydata$elderly_rate,\n",
    "          mydata$finance, mydata$cultural_center)\n",
    "\n",
    "cor(x)\n",
    "# 각 값에 대한 상관관계 알 수 있다\n",
    "# 양인지 음인지.. 크기는 몇인지......"
   ]
  }
 ],
 "metadata": {
  "kernelspec": {
   "display_name": "R",
   "language": "R",
   "name": "ir"
  },
  "language_info": {
   "codemirror_mode": "r",
   "file_extension": ".r",
   "mimetype": "text/x-r-source",
   "name": "R",
   "pygments_lexer": "r",
   "version": "3.6.1"
  }
 },
 "nbformat": 4,
 "nbformat_minor": 2
}

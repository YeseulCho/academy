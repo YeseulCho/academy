{
 "cells": [
  {
   "cell_type": "markdown",
   "metadata": {},
   "source": [
    " ## Statistics_Wilcox.test\n",
    " \n",
    "    최초 작성일 : 2020/03/05\n",
    "    작성자 : 조예슬 \n",
    " \n",
    "    < 작성 내용 >\n",
    "    \n",
    "        - Wilcoxen test"
   ]
  },
  {
   "cell_type": "code",
   "execution_count": null,
   "metadata": {},
   "outputs": [],
   "source": []
  },
  {
   "cell_type": "markdown",
   "metadata": {},
   "source": [
    "    두 그룹의 평균 비교\n",
    "\n",
    "- T-test(=student T-test, Independent T-test) : 모수적 방식\n",
    "\n",
    "\n",
    "- Mann-Whitney U Test(=Wilcoxen rank-sum test, Mann-Whitney-Wilcoxen test(MWW)) : 비모수적 방식\n",
    "\n",
    "\n",
    "- Welch's T-Test\n",
    "\n",
    "\n",
    "    < T-test 사용 조건 >\n",
    "    \n",
    "    : 결과값이 연속변수 여부\n",
    "        연속변수이면, T-test\n",
    "        연속변수 아니면, Mann-Whitney U Test\n",
    "    \n",
    "    : 정규 분포 여부\n",
    "        정규분포이면, T-test\n",
    "        정규분포 아니면, Mann-Whitney U test\n",
    "        \n",
    "    : 등분산 여부\n",
    "        등분산이면, T-test\n",
    "        등분산 아니면, Welch's T-test"
   ]
  },
  {
   "cell_type": "code",
   "execution_count": null,
   "metadata": {},
   "outputs": [],
   "source": []
  },
  {
   "cell_type": "markdown",
   "metadata": {},
   "source": [
    "## Wilcoxon test\n",
    "\n",
    "    - R에서는 wilcox.test()함수를 동일하게 사용하고, \n",
    "    \n",
    "      옵션에서 \"paired = TRUE\" 여부에 따라서 짝을 이룬 표본 여부를 구분함\n",
    "      \n",
    "      : Wilcoxon rank sum test(Mann-Whitney U-test) : 두 집단이 독립적인 경우\n",
    "      \n",
    "      : Wilcoxon signed rank test : 짝을 이룬 집단인 경우 / paired=TRUE\n",
    "      \n",
    "### Wilcoxon rank sum test(Mann-Whitney U-test)\n",
    "\n",
    "    정규분포를 따르지 않는 두 모집단에 대한 비모수 검정에 사용\n",
    "    \n",
    "    ex) USA와 nonUSA간의 car price 비교하기\n",
    "    \n",
    "    귀무가설 : p-value값 0.05보다 클 경우\n",
    "             : 두 집단간에 차이 없다\n",
    "    대립가설 : p-value값 0.05보다 작을 경우\n",
    "             : 두 집단간에 차이 있다    \n",
    "    \n",
    "    - 방법\n",
    "    \n",
    "    : wilcox.test(y ~ Factor, data=dataframe, alternative=c(\"two.sided\", \"less\", \"greater\"), conf.int=FALSE, conf.level=0.95)\n",
    "    \n",
    "    : wilcox.test(x, y, alternative=c(\"two.sided\", \"less\", \"greater\"), conf.int=FALSE, conf.level=0.95)\n",
    "    \n",
    "### Wilcoxon signed rank test\n",
    "\n",
    "    ex) 10명의 당뇨병 환자를 선별하여 1달 동안 '위약(placebo)(sample1)'을 투여한 기간의 혈압과 '신약(new medicine)(sample2)'을 투여한 1달 기간 동안의 혈당 수치를 측정하여 짝을 이루어 혈당 차이를 유의수준 5%에서 비교하는 방법 (모집단 정규분포 따르지 않을 경우)\n",
    "    \n",
    "    귀무가설 : 당뇨병 치료제 효과 없다(mu1 = mu2, difference = 0)\n",
    "    대립가설 : 당뇨병 치료제 효과 있다(혈당 낮춘다 mu1 > mu2, 우측검정(right-sidedtest))\n",
    "    \n",
    "    당뇨병 치료제 효과가 있어서 혈당을 낮추었는지를 검정하는 것이므로\n",
    "    alternative = c(\"greater\"), 옵션(mu1 > mu2)\n",
    "    \n",
    "    - 방법\n",
    "    : wilcox.test(x1, x2, alternative=c(\"greater\"), paired=TRUE, conf.level=0.95)"
   ]
  },
  {
   "cell_type": "markdown",
   "metadata": {},
   "source": [
    "< 출처 >\n",
    "\n",
    "https://rfriend.tistory.com/130"
   ]
  },
  {
   "cell_type": "code",
   "execution_count": null,
   "metadata": {},
   "outputs": [],
   "source": []
  },
  {
   "cell_type": "code",
   "execution_count": null,
   "metadata": {},
   "outputs": [],
   "source": []
  },
  {
   "cell_type": "markdown",
   "metadata": {},
   "source": [
    "## Wilcoxon rank sum test\n",
    "\n",
    "정규분포는 아니나, 연속변수일 경우"
   ]
  },
  {
   "cell_type": "markdown",
   "metadata": {},
   "source": [
    "### 예시1. 환자 진찰결과"
   ]
  },
  {
   "cell_type": "code",
   "execution_count": 6,
   "metadata": {},
   "outputs": [
    {
     "name": "stderr",
     "output_type": "stream",
     "text": [
      "Warning message:\n",
      "\"package 'moonBook' was built under R version 3.6.2\""
     ]
    }
   ],
   "source": [
    "# library(moonBook)"
   ]
  },
  {
   "cell_type": "code",
   "execution_count": 7,
   "metadata": {},
   "outputs": [
    {
     "name": "stdout",
     "output_type": "stream",
     "text": [
      "'data.frame':\t857 obs. of  17 variables:\n",
      " $ age             : int  62 78 76 89 56 73 58 62 59 71 ...\n",
      " $ sex             : chr  \"Male\" \"Female\" \"Female\" \"Female\" ...\n",
      " $ cardiogenicShock: chr  \"No\" \"No\" \"Yes\" \"No\" ...\n",
      " $ entry           : chr  \"Femoral\" \"Femoral\" \"Femoral\" \"Femoral\" ...\n",
      " $ Dx              : chr  \"STEMI\" \"STEMI\" \"STEMI\" \"STEMI\" ...\n",
      " $ EF              : num  18 18.4 20 21.8 21.8 22 24.7 26.6 28.5 31.1 ...\n",
      " $ height          : num  168 148 NA 165 162 153 167 160 152 168 ...\n",
      " $ weight          : num  72 48 NA 50 64 59 78 50 67 60 ...\n",
      " $ BMI             : num  25.5 21.9 NA 18.4 24.4 ...\n",
      " $ obesity         : chr  \"Yes\" \"No\" \"No\" \"No\" ...\n",
      " $ TC              : num  215 NA NA 121 195 184 161 136 239 169 ...\n",
      " $ LDLC            : int  154 NA NA 73 151 112 91 88 161 88 ...\n",
      " $ HDLC            : int  35 NA NA 20 36 38 34 33 34 54 ...\n",
      " $ TG              : int  155 166 NA 89 63 137 196 30 118 141 ...\n",
      " $ DM              : chr  \"Yes\" \"No\" \"No\" \"No\" ...\n",
      " $ HBP             : chr  \"No\" \"Yes\" \"Yes\" \"No\" ...\n",
      " $ smoking         : chr  \"Smoker\" \"Never\" \"Never\" \"Never\" ...\n"
     ]
    },
    {
     "data": {
      "text/html": [
       "<table>\n",
       "<thead><tr><th scope=col>age</th><th scope=col>sex</th><th scope=col>cardiogenicShock</th><th scope=col>entry</th><th scope=col>Dx</th><th scope=col>EF</th><th scope=col>height</th><th scope=col>weight</th><th scope=col>BMI</th><th scope=col>obesity</th><th scope=col>TC</th><th scope=col>LDLC</th><th scope=col>HDLC</th><th scope=col>TG</th><th scope=col>DM</th><th scope=col>HBP</th><th scope=col>smoking</th></tr></thead>\n",
       "<tbody>\n",
       "\t<tr><td>62             </td><td>Male           </td><td>No             </td><td>Femoral        </td><td>STEMI          </td><td>18.0           </td><td>168            </td><td>72             </td><td>25.51020       </td><td>Yes            </td><td>215            </td><td>154            </td><td>35             </td><td>155            </td><td>Yes            </td><td>No             </td><td>Smoker         </td></tr>\n",
       "\t<tr><td>78             </td><td>Female         </td><td>No             </td><td>Femoral        </td><td>STEMI          </td><td>18.4           </td><td>148            </td><td>48             </td><td>21.91381       </td><td>No             </td><td> NA            </td><td> NA            </td><td>NA             </td><td>166            </td><td>No             </td><td>Yes            </td><td>Never          </td></tr>\n",
       "\t<tr><td>76             </td><td>Female         </td><td>Yes            </td><td>Femoral        </td><td>STEMI          </td><td>20.0           </td><td> NA            </td><td>NA             </td><td>      NA       </td><td>No             </td><td> NA            </td><td> NA            </td><td>NA             </td><td> NA            </td><td>No             </td><td>Yes            </td><td>Never          </td></tr>\n",
       "\t<tr><td>89             </td><td>Female         </td><td>No             </td><td>Femoral        </td><td>STEMI          </td><td>21.8           </td><td>165            </td><td>50             </td><td>18.36547       </td><td>No             </td><td>121            </td><td> 73            </td><td>20             </td><td> 89            </td><td>No             </td><td>No             </td><td>Never          </td></tr>\n",
       "\t<tr><td>56             </td><td>Male           </td><td>No             </td><td>Radial         </td><td>NSTEMI         </td><td>21.8           </td><td>162            </td><td>64             </td><td>24.38653       </td><td>No             </td><td>195            </td><td>151            </td><td>36             </td><td> 63            </td><td>Yes            </td><td>Yes            </td><td>Smoker         </td></tr>\n",
       "\t<tr><td>73             </td><td>Female         </td><td>No             </td><td>Radial         </td><td>Unstable Angina</td><td>22.0           </td><td>153            </td><td>59             </td><td>25.20398       </td><td>Yes            </td><td>184            </td><td>112            </td><td>38             </td><td>137            </td><td>Yes            </td><td>Yes            </td><td>Never          </td></tr>\n",
       "</tbody>\n",
       "</table>\n"
      ],
      "text/latex": [
       "\\begin{tabular}{r|lllllllllllllllll}\n",
       " age & sex & cardiogenicShock & entry & Dx & EF & height & weight & BMI & obesity & TC & LDLC & HDLC & TG & DM & HBP & smoking\\\\\n",
       "\\hline\n",
       "\t 62              & Male            & No              & Femoral         & STEMI           & 18.0            & 168             & 72              & 25.51020        & Yes             & 215             & 154             & 35              & 155             & Yes             & No              & Smoker         \\\\\n",
       "\t 78              & Female          & No              & Femoral         & STEMI           & 18.4            & 148             & 48              & 21.91381        & No              &  NA             &  NA             & NA              & 166             & No              & Yes             & Never          \\\\\n",
       "\t 76              & Female          & Yes             & Femoral         & STEMI           & 20.0            &  NA             & NA              &       NA        & No              &  NA             &  NA             & NA              &  NA             & No              & Yes             & Never          \\\\\n",
       "\t 89              & Female          & No              & Femoral         & STEMI           & 21.8            & 165             & 50              & 18.36547        & No              & 121             &  73             & 20              &  89             & No              & No              & Never          \\\\\n",
       "\t 56              & Male            & No              & Radial          & NSTEMI          & 21.8            & 162             & 64              & 24.38653        & No              & 195             & 151             & 36              &  63             & Yes             & Yes             & Smoker         \\\\\n",
       "\t 73              & Female          & No              & Radial          & Unstable Angina & 22.0            & 153             & 59              & 25.20398        & Yes             & 184             & 112             & 38              & 137             & Yes             & Yes             & Never          \\\\\n",
       "\\end{tabular}\n"
      ],
      "text/markdown": [
       "\n",
       "| age | sex | cardiogenicShock | entry | Dx | EF | height | weight | BMI | obesity | TC | LDLC | HDLC | TG | DM | HBP | smoking |\n",
       "|---|---|---|---|---|---|---|---|---|---|---|---|---|---|---|---|---|\n",
       "| 62              | Male            | No              | Femoral         | STEMI           | 18.0            | 168             | 72              | 25.51020        | Yes             | 215             | 154             | 35              | 155             | Yes             | No              | Smoker          |\n",
       "| 78              | Female          | No              | Femoral         | STEMI           | 18.4            | 148             | 48              | 21.91381        | No              |  NA             |  NA             | NA              | 166             | No              | Yes             | Never           |\n",
       "| 76              | Female          | Yes             | Femoral         | STEMI           | 20.0            |  NA             | NA              |       NA        | No              |  NA             |  NA             | NA              |  NA             | No              | Yes             | Never           |\n",
       "| 89              | Female          | No              | Femoral         | STEMI           | 21.8            | 165             | 50              | 18.36547        | No              | 121             |  73             | 20              |  89             | No              | No              | Never           |\n",
       "| 56              | Male            | No              | Radial          | NSTEMI          | 21.8            | 162             | 64              | 24.38653        | No              | 195             | 151             | 36              |  63             | Yes             | Yes             | Smoker          |\n",
       "| 73              | Female          | No              | Radial          | Unstable Angina | 22.0            | 153             | 59              | 25.20398        | Yes             | 184             | 112             | 38              | 137             | Yes             | Yes             | Never           |\n",
       "\n"
      ],
      "text/plain": [
       "  age sex    cardiogenicShock entry   Dx              EF   height weight\n",
       "1 62  Male   No               Femoral STEMI           18.0 168    72    \n",
       "2 78  Female No               Femoral STEMI           18.4 148    48    \n",
       "3 76  Female Yes              Femoral STEMI           20.0  NA    NA    \n",
       "4 89  Female No               Femoral STEMI           21.8 165    50    \n",
       "5 56  Male   No               Radial  NSTEMI          21.8 162    64    \n",
       "6 73  Female No               Radial  Unstable Angina 22.0 153    59    \n",
       "  BMI      obesity TC  LDLC HDLC TG  DM  HBP smoking\n",
       "1 25.51020 Yes     215 154  35   155 Yes No  Smoker \n",
       "2 21.91381 No       NA  NA  NA   166 No  Yes Never  \n",
       "3       NA No       NA  NA  NA    NA No  Yes Never  \n",
       "4 18.36547 No      121  73  20    89 No  No  Never  \n",
       "5 24.38653 No      195 151  36    63 Yes Yes Smoker \n",
       "6 25.20398 Yes     184 112  38   137 Yes Yes Never  "
      ]
     },
     "metadata": {},
     "output_type": "display_data"
    }
   ],
   "source": [
    "# 데이터 알아보기\n",
    "# 경기도에 소재한 한 대학병원에서 2년동안 내원한 관상동맥증후군 환자(Dx : 진찰결과)\n",
    "\n",
    "str(acs) # 17개의 변수가 있는 857개의 관측 데이터\n",
    "head(acs)"
   ]
  },
  {
   "cell_type": "code",
   "execution_count": 8,
   "metadata": {},
   "outputs": [
    {
     "name": "stdout",
     "output_type": "stream",
     "text": [
      "60.61053 / 68.67596"
     ]
    }
   ],
   "source": [
    "# 성별에 따른 평균 나이\n",
    "\n",
    "mean_M <- mean(acs$age[acs$sex == \"Male\"])\n",
    "mean_F <- mean(acs$age[acs$sex == \"Female\"])\n",
    "cat(mean_M, \"/\", mean_F)"
   ]
  },
  {
   "cell_type": "code",
   "execution_count": 9,
   "metadata": {
    "scrolled": true
   },
   "outputs": [
    {
     "data": {
      "image/png": "[encoded data removed]",
      "text/plain": [
       "Plot with title \"Distribution of ' age ' by ' sex '\""
      ]
     },
     "metadata": {},
     "output_type": "display_data"
    }
   ],
   "source": [
    "# 두 집단 그래프 그려보면서 정규분포 여부 확인해보기\n",
    "\n",
    "moonBook::densityplot(age ~ sex, data=acs)\n",
    "# age : 결과변수, 종속변수 / sex : 원인변수, 독립변수\n",
    "# 그래프를 통해서는 둘다 정규분포가 아닌것 같다..\n",
    "# 그러니 shapiro test를 통해 정확하게 확인해보기!!"
   ]
  },
  {
   "cell_type": "code",
   "execution_count": 12,
   "metadata": {},
   "outputs": [
    {
     "data": {
      "text/plain": [
       "\n",
       "\tShapiro-Wilk normality test\n",
       "\n",
       "data:  acs$age[acs$sex == \"Male\"]\n",
       "W = 0.99631, p-value = 0.2098\n"
      ]
     },
     "metadata": {},
     "output_type": "display_data"
    },
    {
     "data": {
      "text/plain": [
       "\n",
       "\tShapiro-Wilk normality test\n",
       "\n",
       "data:  acs$age[acs$sex == \"Female\"]\n",
       "W = 0.96138, p-value = 6.34e-07\n"
      ]
     },
     "metadata": {},
     "output_type": "display_data"
    }
   ],
   "source": [
    "# 정규분포 테스트 (Shapiro test) : 통계의 검정 방법들은 정규분포라고 가정한 후에 진행되므로!!\n",
    "## 귀무가설 : 정규분포가 맞다\n",
    "## 대립가설 : 정규분포가 아니다\n",
    "\n",
    "shapiro.test(acs$age[acs$sex == \"Male\"])\n",
    "# p-value = 0.2098\n",
    "# 0.05보다 큰 값을 가지므로, 귀무가설 성립\n",
    "\n",
    "shapiro.test(acs$age[acs$sex == \"Female\"])\n",
    "# p-value = 6.34e-07\n",
    "# 0.05보다 작은 값을 가지므로, 대립가설 성립\n",
    "\n",
    "# 그래프 상으로는 두 집단 다 정규분포가 아닐것이라 생각했지만\n",
    "# shapiro test를 통해서 Male 집단은 정규분포가 성립함을 확일 할 수 있었음"
   ]
  },
  {
   "cell_type": "code",
   "execution_count": 13,
   "metadata": {},
   "outputs": [
    {
     "data": {
      "text/plain": [
       "\n",
       "\tF test to compare two variances\n",
       "\n",
       "data:  age by sex\n",
       "F = 0.91353, num df = 286, denom df = 569, p-value = 0.3866\n",
       "alternative hypothesis: true ratio of variances is not equal to 1\n",
       "95 percent confidence interval:\n",
       " 0.7495537 1.1209741\n",
       "sample estimates:\n",
       "ratio of variances \n",
       "         0.9135342 \n"
      ]
     },
     "metadata": {},
     "output_type": "display_data"
    }
   ],
   "source": [
    "# 등분산 테스트 : t-test 사용 전에 등분산인지 아닌지 먼저 확인해보기\n",
    "# 귀무가설 : 등분산이 맞다\n",
    "# 대립가설 : 등분산이 아니다 \n",
    "\n",
    "var.test(age ~ sex, data=acs)\n",
    "# p-value = 0.3866\n",
    "# p-value값이 0.05보다 크므로 귀무가설 성립\n",
    "# 등분산이다"
   ]
  },
  {
   "cell_type": "markdown",
   "metadata": {},
   "source": [
    "#### 정규분포 테스트 시에 \n",
    "#### Male은 귀무가설을 성립하였지만, Female은 귀무가설을 기각하였다\n",
    "#### 주어진 데이터는 t-test 사용 불가\n",
    "#### 따라서 wilcox 사용"
   ]
  },
  {
   "cell_type": "code",
   "execution_count": 14,
   "metadata": {},
   "outputs": [
    {
     "data": {
      "text/plain": [
       "\n",
       "\tWilcoxon rank sum test with continuity correction\n",
       "\n",
       "data:  age by sex\n",
       "W = 115271, p-value < 2.2e-16\n",
       "alternative hypothesis: true location shift is not equal to 0\n"
      ]
     },
     "metadata": {},
     "output_type": "display_data"
    }
   ],
   "source": [
    "# wilcox\n",
    "## 귀무가설 : 남성과 여성의 평균나이 차이가 없다\n",
    "## 대립가설 : 남성과 여성의 평균나이 차이가 있다\n",
    "wilcox.test(age ~ sex, data=acs)\n",
    "\n",
    "# p-value < 2.2e-16\n",
    "# 0.05보다 작음 \n",
    "# 대립가설 성립 / 남성과 여성의 평균나이 차이가 있다"
   ]
  },
  {
   "cell_type": "code",
   "execution_count": null,
   "metadata": {},
   "outputs": [],
   "source": []
  },
  {
   "cell_type": "markdown",
   "metadata": {},
   "source": [
    "### 예시2. 각 도시별 출생률"
   ]
  },
  {
   "cell_type": "code",
   "execution_count": 16,
   "metadata": {},
   "outputs": [
    {
     "name": "stdout",
     "output_type": "stream",
     "text": [
      "'data.frame':\t157 obs. of  3 variables:\n",
      " $ cities    : Factor w/ 157 levels \"강원 강릉시\",..: 31 30 43 35 29 22 46 28 33 20 ...\n",
      " $ birth_rate: num  1.29 1.16 1.1 1.18 1.07 ...\n",
      " $ dummy     : int  1 1 1 1 1 1 1 1 1 1 ...\n"
     ]
    },
    {
     "data": {
      "text/html": [
       "<table>\n",
       "<thead><tr><th scope=col>cities</th><th scope=col>birth_rate</th><th scope=col>dummy</th></tr></thead>\n",
       "<tbody>\n",
       "\t<tr><td>경기 수원시  </td><td>1.292        </td><td>1            </td></tr>\n",
       "\t<tr><td>경기 성남시  </td><td>1.159        </td><td>1            </td></tr>\n",
       "\t<tr><td>경기 의정부시</td><td>1.104        </td><td>1            </td></tr>\n",
       "\t<tr><td>경기 안양시  </td><td>1.177        </td><td>1            </td></tr>\n",
       "\t<tr><td>경기 부천시  </td><td>1.072        </td><td>1            </td></tr>\n",
       "\t<tr><td>경기 광명시  </td><td>1.235        </td><td>1            </td></tr>\n",
       "</tbody>\n",
       "</table>\n"
      ],
      "text/latex": [
       "\\begin{tabular}{r|lll}\n",
       " cities & birth\\_rate & dummy\\\\\n",
       "\\hline\n",
       "\t 경기 수원시   & 1.292         & 1            \\\\\n",
       "\t 경기 성남시   & 1.159         & 1            \\\\\n",
       "\t 경기 의정부시 & 1.104         & 1            \\\\\n",
       "\t 경기 안양시   & 1.177         & 1            \\\\\n",
       "\t 경기 부천시   & 1.072         & 1            \\\\\n",
       "\t 경기 광명시   & 1.235         & 1            \\\\\n",
       "\\end{tabular}\n"
      ],
      "text/markdown": [
       "\n",
       "| cities | birth_rate | dummy |\n",
       "|---|---|---|\n",
       "| 경기 수원시   | 1.292         | 1             |\n",
       "| 경기 성남시   | 1.159         | 1             |\n",
       "| 경기 의정부시 | 1.104         | 1             |\n",
       "| 경기 안양시   | 1.177         | 1             |\n",
       "| 경기 부천시   | 1.072         | 1             |\n",
       "| 경기 광명시   | 1.235         | 1             |\n",
       "\n"
      ],
      "text/plain": [
       "  cities        birth_rate dummy\n",
       "1 경기 수원시   1.292      1    \n",
       "2 경기 성남시   1.159      1    \n",
       "3 경기 의정부시 1.104      1    \n",
       "4 경기 안양시   1.177      1    \n",
       "5 경기 부천시   1.072      1    \n",
       "6 경기 광명시   1.235      1    "
      ]
     },
     "metadata": {},
     "output_type": "display_data"
    },
    {
     "name": "stdout",
     "output_type": "stream",
     "text": [
      "1.472159 / 1.37812"
     ]
    }
   ],
   "source": [
    "# 각도시별 출생률 나타내는 데이터 파일 \n",
    "\n",
    "mydata <- read.csv(\"C:/Users/cho ye seul/Documents/예슬/Acorn/rwork/StatProject/data/independent.csv\")\n",
    "str(mydata) # 3개의 변수에 20개의 데이터\n",
    "head(mydata)\n",
    "\n",
    "# dummy라는 컬럼은 0은 군을 나타내고 1은 시를 나타내는 컬럼이다\n",
    "# 시와 군에 따라 합계 출산율의 차이가 있는지 없는지를 보려고 한다\n",
    "# 귀무 가설 : 차이가 없다\n",
    "# 대립 가설 : 차이가 있다 \n",
    "\n",
    "# 시, 군 별로 평균알기\n",
    "gun.mean <- mean(mydata$birth_rate[mydata$dummy==0])\n",
    "si.mean <- mean(mydata$birth_rate[mydata$dummy==1])\n",
    "cat(gun.mean, \"/\",  si.mean)\n",
    "# 평균만 보고서는 차이 유무 나타내기 어려움"
   ]
  },
  {
   "cell_type": "code",
   "execution_count": 18,
   "metadata": {},
   "outputs": [
    {
     "data": {
      "text/plain": [
       "\n",
       "\tShapiro-Wilk normality test\n",
       "\n",
       "data:  mydata$birth_rate[mydata$dummy == 0]\n",
       "W = 0.95857, p-value = 0.009702\n"
      ]
     },
     "metadata": {},
     "output_type": "display_data"
    },
    {
     "data": {
      "text/plain": [
       "\n",
       "\tShapiro-Wilk normality test\n",
       "\n",
       "data:  mydata$birth_rate[mydata$dummy == 1]\n",
       "W = 0.94006, p-value = 0.001476\n"
      ]
     },
     "metadata": {},
     "output_type": "display_data"
    }
   ],
   "source": [
    "# 정규분포 테스트\n",
    "\n",
    "shapiro.test(mydata$birth_rate[mydata$dummy==0])\n",
    "# p-value = 0.009702\n",
    "# 0.05보다 크므로 정규분포O\n",
    "\n",
    "shapiro.test(mydata$birth_rate[mydata$dummy==1])\n",
    "# p-value = 0.001476 \n",
    "# 0.05보다 작으므로 정규분포X\n",
    "\n",
    "# 하나라도 정규분포가 아니라면 wilcox 사용하자"
   ]
  },
  {
   "cell_type": "code",
   "execution_count": 19,
   "metadata": {},
   "outputs": [
    {
     "data": {
      "text/plain": [
       "\n",
       "\tWilcoxon rank sum test with continuity correction\n",
       "\n",
       "data:  mydata$birth_rate by mydata$dummy\n",
       "W = 3655.5, p-value = 0.04152\n",
       "alternative hypothesis: true location shift is not equal to 0\n"
      ]
     },
     "metadata": {},
     "output_type": "display_data"
    }
   ],
   "source": [
    "# Wilcox \n",
    "\n",
    "wilcox.test(mydata$birth_rate ~ mydata$dummy, data=mydata) \n",
    "# p-value = 0.04152\n",
    "# 0.05보다 작다 대립가설 성립"
   ]
  },
  {
   "cell_type": "code",
   "execution_count": null,
   "metadata": {},
   "outputs": [],
   "source": []
  },
  {
   "cell_type": "code",
   "execution_count": null,
   "metadata": {},
   "outputs": [],
   "source": []
  },
  {
   "cell_type": "markdown",
   "metadata": {},
   "source": [
    "## Wilcoxen signed rank test\n",
    "\n",
    "연속변수가 아니거나 정규분포가 아닐 경우"
   ]
  },
  {
   "cell_type": "markdown",
   "metadata": {},
   "source": [
    "### 예시1. sleep"
   ]
  },
  {
   "cell_type": "code",
   "execution_count": 32,
   "metadata": {},
   "outputs": [
    {
     "name": "stdout",
     "output_type": "stream",
     "text": [
      "'data.frame':\t20 obs. of  3 variables:\n",
      " $ extra: num  0.7 -1.6 -0.2 -1.2 -0.1 3.4 3.7 0.8 0 2 ...\n",
      " $ group: Factor w/ 2 levels \"1\",\"2\": 1 1 1 1 1 1 1 1 1 1 ...\n",
      " $ ID   : Factor w/ 10 levels \"1\",\"2\",\"3\",\"4\",..: 1 2 3 4 5 6 7 8 9 10 ...\n"
     ]
    },
    {
     "data": {
      "text/html": [
       "<table>\n",
       "<thead><tr><th scope=col>extra</th><th scope=col>group</th><th scope=col>ID</th></tr></thead>\n",
       "<tbody>\n",
       "\t<tr><td> 0.7</td><td>1   </td><td>1   </td></tr>\n",
       "\t<tr><td>-1.6</td><td>1   </td><td>2   </td></tr>\n",
       "\t<tr><td>-0.2</td><td>1   </td><td>3   </td></tr>\n",
       "\t<tr><td>-1.2</td><td>1   </td><td>4   </td></tr>\n",
       "\t<tr><td>-0.1</td><td>1   </td><td>5   </td></tr>\n",
       "\t<tr><td> 3.4</td><td>1   </td><td>6   </td></tr>\n",
       "</tbody>\n",
       "</table>\n"
      ],
      "text/latex": [
       "\\begin{tabular}{r|lll}\n",
       " extra & group & ID\\\\\n",
       "\\hline\n",
       "\t  0.7 & 1    & 1   \\\\\n",
       "\t -1.6 & 1    & 2   \\\\\n",
       "\t -0.2 & 1    & 3   \\\\\n",
       "\t -1.2 & 1    & 4   \\\\\n",
       "\t -0.1 & 1    & 5   \\\\\n",
       "\t  3.4 & 1    & 6   \\\\\n",
       "\\end{tabular}\n"
      ],
      "text/markdown": [
       "\n",
       "| extra | group | ID |\n",
       "|---|---|---|\n",
       "|  0.7 | 1    | 1    |\n",
       "| -1.6 | 1    | 2    |\n",
       "| -0.2 | 1    | 3    |\n",
       "| -1.2 | 1    | 4    |\n",
       "| -0.1 | 1    | 5    |\n",
       "|  3.4 | 1    | 6    |\n",
       "\n"
      ],
      "text/plain": [
       "  extra group ID\n",
       "1  0.7  1     1 \n",
       "2 -1.6  1     2 \n",
       "3 -0.2  1     3 \n",
       "4 -1.2  1     4 \n",
       "5 -0.1  1     5 \n",
       "6  3.4  1     6 "
      ]
     },
     "metadata": {},
     "output_type": "display_data"
    }
   ],
   "source": [
    "# 같은 집단에서\n",
    "str(sleep)\n",
    "head(sleep)"
   ]
  },
  {
   "cell_type": "code",
   "execution_count": 34,
   "metadata": {
    "scrolled": true
   },
   "outputs": [
    {
     "data": {
      "text/html": [
       "<table>\n",
       "<thead><tr><th scope=col>extra</th></tr></thead>\n",
       "<tbody>\n",
       "\t<tr><td> 0.7</td></tr>\n",
       "\t<tr><td>-1.6</td></tr>\n",
       "\t<tr><td>-0.2</td></tr>\n",
       "\t<tr><td>-1.2</td></tr>\n",
       "\t<tr><td>-0.1</td></tr>\n",
       "\t<tr><td> 3.4</td></tr>\n",
       "\t<tr><td> 3.7</td></tr>\n",
       "\t<tr><td> 0.8</td></tr>\n",
       "\t<tr><td> 0.0</td></tr>\n",
       "\t<tr><td> 2.0</td></tr>\n",
       "</tbody>\n",
       "</table>\n"
      ],
      "text/latex": [
       "\\begin{tabular}{r|l}\n",
       " extra\\\\\n",
       "\\hline\n",
       "\t  0.7\\\\\n",
       "\t -1.6\\\\\n",
       "\t -0.2\\\\\n",
       "\t -1.2\\\\\n",
       "\t -0.1\\\\\n",
       "\t  3.4\\\\\n",
       "\t  3.7\\\\\n",
       "\t  0.8\\\\\n",
       "\t  0.0\\\\\n",
       "\t  2.0\\\\\n",
       "\\end{tabular}\n"
      ],
      "text/markdown": [
       "\n",
       "| extra |\n",
       "|---|\n",
       "|  0.7 |\n",
       "| -1.6 |\n",
       "| -0.2 |\n",
       "| -1.2 |\n",
       "| -0.1 |\n",
       "|  3.4 |\n",
       "|  3.7 |\n",
       "|  0.8 |\n",
       "|  0.0 |\n",
       "|  2.0 |\n",
       "\n"
      ],
      "text/plain": [
       "   extra\n",
       "1   0.7 \n",
       "2  -1.6 \n",
       "3  -0.2 \n",
       "4  -1.2 \n",
       "5  -0.1 \n",
       "6   3.4 \n",
       "7   3.7 \n",
       "8   0.8 \n",
       "9   0.0 \n",
       "10  2.0 "
      ]
     },
     "metadata": {},
     "output_type": "display_data"
    },
    {
     "data": {
      "text/html": [
       "<table>\n",
       "<thead><tr><th></th><th scope=col>extra</th></tr></thead>\n",
       "<tbody>\n",
       "\t<tr><th scope=row>11</th><td> 1.9</td></tr>\n",
       "\t<tr><th scope=row>12</th><td> 0.8</td></tr>\n",
       "\t<tr><th scope=row>13</th><td> 1.1</td></tr>\n",
       "\t<tr><th scope=row>14</th><td> 0.1</td></tr>\n",
       "\t<tr><th scope=row>15</th><td>-0.1</td></tr>\n",
       "\t<tr><th scope=row>16</th><td> 4.4</td></tr>\n",
       "\t<tr><th scope=row>17</th><td> 5.5</td></tr>\n",
       "\t<tr><th scope=row>18</th><td> 1.6</td></tr>\n",
       "\t<tr><th scope=row>19</th><td> 4.6</td></tr>\n",
       "\t<tr><th scope=row>20</th><td> 3.4</td></tr>\n",
       "</tbody>\n",
       "</table>\n"
      ],
      "text/latex": [
       "\\begin{tabular}{r|l}\n",
       "  & extra\\\\\n",
       "\\hline\n",
       "\t11 &  1.9\\\\\n",
       "\t12 &  0.8\\\\\n",
       "\t13 &  1.1\\\\\n",
       "\t14 &  0.1\\\\\n",
       "\t15 & -0.1\\\\\n",
       "\t16 &  4.4\\\\\n",
       "\t17 &  5.5\\\\\n",
       "\t18 &  1.6\\\\\n",
       "\t19 &  4.6\\\\\n",
       "\t20 &  3.4\\\\\n",
       "\\end{tabular}\n"
      ],
      "text/markdown": [
       "\n",
       "| <!--/--> | extra |\n",
       "|---|---|\n",
       "| 11 |  1.9 |\n",
       "| 12 |  0.8 |\n",
       "| 13 |  1.1 |\n",
       "| 14 |  0.1 |\n",
       "| 15 | -0.1 |\n",
       "| 16 |  4.4 |\n",
       "| 17 |  5.5 |\n",
       "| 18 |  1.6 |\n",
       "| 19 |  4.6 |\n",
       "| 20 |  3.4 |\n",
       "\n"
      ],
      "text/plain": [
       "   extra\n",
       "11  1.9 \n",
       "12  0.8 \n",
       "13  1.1 \n",
       "14  0.1 \n",
       "15 -0.1 \n",
       "16  4.4 \n",
       "17  5.5 \n",
       "18  1.6 \n",
       "19  4.6 \n",
       "20  3.4 "
      ]
     },
     "metadata": {},
     "output_type": "display_data"
    }
   ],
   "source": [
    "# 특정변수만 뽑아내기\n",
    "before <- subset(sleep, group==1, extra)\n",
    "before\n",
    "\n",
    "after <- subset(sleep, group==2, extra)\n",
    "after"
   ]
  },
  {
   "cell_type": "code",
   "execution_count": 35,
   "metadata": {
    "collapsed": true
   },
   "outputs": [
    {
     "name": "stderr",
     "output_type": "stream",
     "text": [
      "Warning message:\n",
      "\"package 'PairedData' was built under R version 3.6.3\"Loading required package: MASS\n",
      "Loading required package: gld\n",
      "Warning message:\n",
      "\"package 'gld' was built under R version 3.6.2\"Loading required package: mvtnorm\n",
      "Loading required package: lattice\n",
      "\n",
      "Attaching package: 'lattice'\n",
      "\n",
      "The following object is masked from 'package:moonBook':\n",
      "\n",
      "    densityplot\n",
      "\n",
      "Loading required package: ggplot2\n",
      "Warning message:\n",
      "\"package 'ggplot2' was built under R version 3.6.2\"\n",
      "Attaching package: 'PairedData'\n",
      "\n",
      "The following object is masked from 'package:base':\n",
      "\n",
      "    summary\n",
      "\n"
     ]
    }
   ],
   "source": [
    "# 한쌍의 데이터를 전문적으로 처리하는 패키지\n",
    "# install.packages(\"PairedData\")\n",
    "library(PairedData)"
   ]
  },
  {
   "cell_type": "code",
   "execution_count": 38,
   "metadata": {},
   "outputs": [
    {
     "data": {
      "text/html": [
       "<table>\n",
       "<thead><tr><th scope=col>before</th><th scope=col>after</th></tr></thead>\n",
       "<tbody>\n",
       "\t<tr><td> 0.7</td><td> 1.9</td></tr>\n",
       "\t<tr><td>-1.6</td><td> 0.8</td></tr>\n",
       "\t<tr><td>-0.2</td><td> 1.1</td></tr>\n",
       "\t<tr><td>-1.2</td><td> 0.1</td></tr>\n",
       "\t<tr><td>-0.1</td><td>-0.1</td></tr>\n",
       "\t<tr><td> 3.4</td><td> 4.4</td></tr>\n",
       "\t<tr><td> 3.7</td><td> 5.5</td></tr>\n",
       "\t<tr><td> 0.8</td><td> 1.6</td></tr>\n",
       "\t<tr><td> 0.0</td><td> 4.6</td></tr>\n",
       "\t<tr><td> 2.0</td><td> 3.4</td></tr>\n",
       "</tbody>\n",
       "</table>\n"
      ],
      "text/latex": [
       "\\begin{tabular}{r|ll}\n",
       " before & after\\\\\n",
       "\\hline\n",
       "\t  0.7 &  1.9\\\\\n",
       "\t -1.6 &  0.8\\\\\n",
       "\t -0.2 &  1.1\\\\\n",
       "\t -1.2 &  0.1\\\\\n",
       "\t -0.1 & -0.1\\\\\n",
       "\t  3.4 &  4.4\\\\\n",
       "\t  3.7 &  5.5\\\\\n",
       "\t  0.8 &  1.6\\\\\n",
       "\t  0.0 &  4.6\\\\\n",
       "\t  2.0 &  3.4\\\\\n",
       "\\end{tabular}\n"
      ],
      "text/markdown": [
       "\n",
       "| before | after |\n",
       "|---|---|\n",
       "|  0.7 |  1.9 |\n",
       "| -1.6 |  0.8 |\n",
       "| -0.2 |  1.1 |\n",
       "| -1.2 |  0.1 |\n",
       "| -0.1 | -0.1 |\n",
       "|  3.4 |  4.4 |\n",
       "|  3.7 |  5.5 |\n",
       "|  0.8 |  1.6 |\n",
       "|  0.0 |  4.6 |\n",
       "|  2.0 |  3.4 |\n",
       "\n"
      ],
      "text/plain": [
       "   before after\n",
       "1   0.7    1.9 \n",
       "2  -1.6    0.8 \n",
       "3  -0.2    1.1 \n",
       "4  -1.2    0.1 \n",
       "5  -0.1   -0.1 \n",
       "6   3.4    4.4 \n",
       "7   3.7    5.5 \n",
       "8   0.8    1.6 \n",
       "9   0.0    4.6 \n",
       "10  2.0    3.4 "
      ]
     },
     "metadata": {},
     "output_type": "display_data"
    }
   ],
   "source": [
    "# 합치기\n",
    "sleep2 <- paired(before, after)\n",
    "sleep2"
   ]
  },
  {
   "cell_type": "code",
   "execution_count": 40,
   "metadata": {
    "collapsed": true
   },
   "outputs": [
    {
     "data": {
      "image/png": "[encoded data removed]",
      "text/plain": [
       "plot without title"
      ]
     },
     "metadata": {},
     "output_type": "display_data"
    }
   ],
   "source": [
    "# 그래프 그리기\n",
    "\n",
    "plot(sleep2, type=\"profile\") + theme_bw()\n",
    "\n",
    "# 진심 이거 뭔그래프야..\n",
    "# 해석 어떻게 하는거.."
   ]
  },
  {
   "cell_type": "code",
   "execution_count": 41,
   "metadata": {},
   "outputs": [
    {
     "data": {
      "text/plain": [
       "\n",
       "\tShapiro-Wilk normality test\n",
       "\n",
       "data:  sleep$extra[sleep$group == 1]\n",
       "W = 0.92581, p-value = 0.4079\n"
      ]
     },
     "metadata": {},
     "output_type": "display_data"
    },
    {
     "data": {
      "text/plain": [
       "\n",
       "\tShapiro-Wilk normality test\n",
       "\n",
       "data:  sleep$extra[sleep$group == 2]\n",
       "W = 0.9193, p-value = 0.3511\n"
      ]
     },
     "metadata": {},
     "output_type": "display_data"
    }
   ],
   "source": [
    "# 정규분포 \n",
    "\n",
    "shapiro.test(sleep$extra[sleep$group==1]) # p-value = 0.4079\n",
    "shapiro.test(sleep$extra[sleep$group==2]) # p-value = 0.3511\n",
    "# with(sleep, shapiro.test(extra[group==1]) # with 쓰면 sleep$ 안붙여줘도됨\n",
    "# 0.05보다 크므로 정규분포O"
   ]
  },
  {
   "cell_type": "code",
   "execution_count": 43,
   "metadata": {},
   "outputs": [
    {
     "data": {
      "text/plain": [
       "\n",
       "\tF test to compare two variances\n",
       "\n",
       "data:  sleep$extra[sleep$group == 1] and sleep$extra[sleep$group == 2]\n",
       "F = 0.79834, num df = 9, denom df = 9, p-value = 0.7427\n",
       "alternative hypothesis: true ratio of variances is not equal to 1\n",
       "95 percent confidence interval:\n",
       " 0.198297 3.214123\n",
       "sample estimates:\n",
       "ratio of variances \n",
       "         0.7983426 \n"
      ]
     },
     "metadata": {},
     "output_type": "display_data"
    }
   ],
   "source": [
    "# 등분산\n",
    "\n",
    "var.test(sleep$extra[sleep$group==1], sleep$extra[sleep$group==2])\n",
    "# 0.7427 / 0.05보다 크므로 등분산O"
   ]
  },
  {
   "cell_type": "code",
   "execution_count": 46,
   "metadata": {},
   "outputs": [
    {
     "data": {
      "text/plain": [
       "\n",
       "\tPaired t-test\n",
       "\n",
       "data:  sleep$extra by sleep$group\n",
       "t = -4.0621, df = 9, p-value = 0.002833\n",
       "alternative hypothesis: true difference in means is not equal to 0\n",
       "95 percent confidence interval:\n",
       " -2.4598858 -0.7001142\n",
       "sample estimates:\n",
       "mean of the differences \n",
       "                  -1.58 \n"
      ]
     },
     "metadata": {},
     "output_type": "display_data"
    }
   ],
   "source": [
    "# t.test\n",
    "t.test(sleep$extra ~ sleep$group, data=sleep, paired = T)\n",
    "\n",
    "# 0.05보다 작음 / 대립가설 채택 / 전후 다르다"
   ]
  },
  {
   "cell_type": "code",
   "execution_count": 47,
   "metadata": {},
   "outputs": [
    {
     "data": {
      "text/plain": [
       "\n",
       "\tWilcoxon signed rank test with continuity correction\n",
       "\n",
       "data:  extra[group == 2] - extra[group == 1]\n",
       "V = 45, p-value = 0.009091\n",
       "alternative hypothesis: true location is not equal to 0\n"
      ]
     },
     "metadata": {},
     "output_type": "display_data"
    }
   ],
   "source": [
    "# 만약 정규분포가 아니라면!!!!!\n",
    "\n",
    "with(sleep, wilcox.test(extra[group==2]-extra[group==1], exact=F))\n",
    "# 두 집단의 차이 비교\n",
    "# p-value = 0.009091 / 0.05보다 작아 대립가설 채택 / 차이가 있음\n",
    "# exact=F : 경고메시지 안뜨게하기 \n",
    "#         : 정규분포로할지말지에 대한 경고메시지가 뜬거...?  \n",
    "#         : 원래값은 정규분포 값이여서 경고메시지 뜬다..."
   ]
  }
 ],
 "metadata": {
  "kernelspec": {
   "display_name": "R",
   "language": "R",
   "name": "ir"
  },
  "language_info": {
   "codemirror_mode": "r",
   "file_extension": ".r",
   "mimetype": "text/x-r-source",
   "name": "R",
   "pygments_lexer": "r",
   "version": "3.6.1"
  }
 },
 "nbformat": 4,
 "nbformat_minor": 2
}

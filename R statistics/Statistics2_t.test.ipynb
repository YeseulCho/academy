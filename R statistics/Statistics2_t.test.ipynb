{
 "cells": [
  {
   "cell_type": "markdown",
   "metadata": {},
   "source": [
    " ## Statistics_t-test\n",
    " \n",
    "    최초 작성일 : 2020/03/05\n",
    "    작성자 : 조예슬 \n",
    " \n",
    "    < 작성 내용 >\n",
    "    \n",
    "        - Shapiro-Wilks test : 정규성 검정\n",
    "\n",
    "        - t-test : 독립 표본, 대응 표본, 단일 표본"
   ]
  },
  {
   "cell_type": "code",
   "execution_count": null,
   "metadata": {},
   "outputs": [],
   "source": []
  },
  {
   "cell_type": "markdown",
   "metadata": {},
   "source": [
    "    두 그룹의 평균 비교\n",
    "\n",
    "- T-test(=student T-test, Independent T-test) : 모수적 방식\n",
    "\n",
    "\n",
    "- Mann-Whitney U Test(=Wilcoxen rank-sum test, Mann-Whitney-Wilcoxen test(MWW)) : 비모수적 방식\n",
    "\n",
    "\n",
    "- Welch's T-Test\n",
    "\n",
    "\n",
    "    < T-test 사용 조건 >\n",
    "    \n",
    "    : 결과값이 연속변수 여부\n",
    "        연속변수이면, T-test\n",
    "        연속변수 아니면, Mann-Whitney U Test\n",
    "    \n",
    "    : 정규 분포 여부\n",
    "        정규분포이면, T-test\n",
    "        정규분포 아니면, Mann-Whitney U test\n",
    "        \n",
    "    : 등분산 여부\n",
    "        등분산이면, T-test\n",
    "        등분산 아니면, Welch's T-test"
   ]
  },
  {
   "cell_type": "code",
   "execution_count": null,
   "metadata": {},
   "outputs": [],
   "source": []
  },
  {
   "cell_type": "markdown",
   "metadata": {},
   "source": [
    "### Shapiro-Wilks test : 정규성 검정\n",
    "\n",
    "    주어진 자료가 있을 때, 그 자료의 데이터들이 정규분포를 따르는지 검정하는 방법\n",
    "    \n",
    "    통계의 여러 검정법들은 데이터의 정규분포를 가정하고 수행 됨\n",
    "    \n",
    "    따라서 데이터 자체에 대한 정규성 검정 진행이 필요\n",
    "    \n",
    "    만약 자료가 정규성을 만족하지 않는다면 분석 결과에 대한 타당성이 떨어짐\n",
    "    \n",
    "    - 정규성 검정 종류\n",
    "      : Shpiro-Wilks test, Kolmogorove-Smirnov test, Quantile-Quantile plot"
   ]
  },
  {
   "cell_type": "code",
   "execution_count": 36,
   "metadata": {},
   "outputs": [
    {
     "data": {
      "text/plain": [
       "\n",
       "\tShapiro-Wilk normality test\n",
       "\n",
       "data:  women$weight\n",
       "W = 0.96036, p-value = 0.6986\n"
      ]
     },
     "metadata": {},
     "output_type": "display_data"
    }
   ],
   "source": [
    "# 가정 : 미국 여자 성인들의 몸무게는 정규분포를 따른다\n",
    "## 귀무가설 : 정규분포를 따른다\n",
    "## 대립가설 : 정규분포를 따르지 않는다\n",
    "\n",
    "# 정규성 검정\n",
    "shapiro.test(women$weight)"
   ]
  },
  {
   "cell_type": "markdown",
   "metadata": {},
   "source": [
    "#### 정규성 검정 해석 결과\n",
    "\n",
    "    - p-value = 0.6986\n",
    "      : 0.05보다 크기 때문에 귀무가설 채택\n",
    "      : 정규분포를 따른다고 볼 수 있음"
   ]
  },
  {
   "cell_type": "code",
   "execution_count": 81,
   "metadata": {},
   "outputs": [
    {
     "data": {
      "image/png": "[encoded data removed]",
      "text/plain": [
       "Plot with title \"Normal Q-Q Plot\""
      ]
     },
     "metadata": {},
     "output_type": "display_data"
    }
   ],
   "source": [
    "# 정규분포 같네...\n",
    "qqnorm(women$weight)"
   ]
  },
  {
   "cell_type": "code",
   "execution_count": null,
   "metadata": {},
   "outputs": [],
   "source": []
  },
  {
   "cell_type": "code",
   "execution_count": 40,
   "metadata": {},
   "outputs": [
    {
     "data": {
      "text/plain": [
       "\n",
       "\tShapiro-Wilk normality test\n",
       "\n",
       "data:  iris$Petal.Length\n",
       "W = 0.87627, p-value = 7.412e-10\n"
      ]
     },
     "metadata": {},
     "output_type": "display_data"
    }
   ],
   "source": [
    "# 가정 : Petal.Length(꽃의 꽃잎의 길이) 정규분포를 따른다.\n",
    "## 귀무가설 : 정규분포를 따른다\n",
    "## 대립가설 : 정규분포를 따르지 않는다\n",
    "\n",
    "# 정규성 검정\n",
    "shapiro.test(iris$Petal.Length)"
   ]
  },
  {
   "cell_type": "markdown",
   "metadata": {},
   "source": [
    "#### 정규성 검정 해석 결과\n",
    "\n",
    "    - p-value = 7.412e-10\n",
    "      : 0.05보다 작기 때문에 대립가설 채택\n",
    "      : 정규분포를 따르지 않음"
   ]
  },
  {
   "cell_type": "code",
   "execution_count": 82,
   "metadata": {},
   "outputs": [
    {
     "data": {
      "image/png": "[encoded data removed]",
      "text/plain": [
       "Plot with title \"Normal Q-Q Plot\""
      ]
     },
     "metadata": {},
     "output_type": "display_data"
    }
   ],
   "source": [
    "# 정규분포 아니네... 휘어진거봐...\n",
    "qqnorm(iris$Petal.Length)"
   ]
  },
  {
   "cell_type": "code",
   "execution_count": null,
   "metadata": {},
   "outputs": [],
   "source": []
  },
  {
   "cell_type": "code",
   "execution_count": null,
   "metadata": {},
   "outputs": [],
   "source": []
  },
  {
   "cell_type": "markdown",
   "metadata": {},
   "source": [
    "## 독립표본 t-test (Independent two sample t-test)\n",
    "\n",
    "    - 독립적이기 위해 만족해야할 조건\n",
    "    : 두 개의 표본이 서로 관계 없는 모집단에서 추출 될 것\n",
    "    : 표본 간에는 아무런 관계가 없을 것\n",
    "    \n",
    "    - var.test\n",
    "    : 등분산성 만족 여부 확인\n",
    "    : p-value값 0.05보다 크면 등분산성 만족O\n",
    "      p-value값 0.05보다 작으면 등분산성 만족X\n",
    "      \n",
    "    - t.test 방법\n",
    "    : 분석을 원하는 두 집단의 평균을 각각 별개의 벡터 객체로 만들어 입력\n",
    "      t.test(group1의 관측치, group2의 관측치, t-test유형, 신뢰범위)\n",
    "      \n",
    "    : 하나의 데이터 프레임에서 집단을 구분하고자 하는 기준을 입력\n",
    "      t.test(관측치 ~  집단 구분 기준, 데이터프레임, t-test유형, 신뢰범위)\n",
    "      "
   ]
  },
  {
   "cell_type": "code",
   "execution_count": 11,
   "metadata": {},
   "outputs": [
    {
     "data": {
      "text/html": [
       "<table>\n",
       "<thead><tr><th></th><th scope=col>mpg</th><th scope=col>cyl</th><th scope=col>disp</th><th scope=col>hp</th><th scope=col>drat</th><th scope=col>wt</th><th scope=col>qsec</th><th scope=col>vs</th><th scope=col>am</th><th scope=col>gear</th><th scope=col>carb</th></tr></thead>\n",
       "<tbody>\n",
       "\t<tr><th scope=row>Mazda RX4</th><td>21.0 </td><td>6    </td><td>160  </td><td>110  </td><td>3.90 </td><td>2.620</td><td>16.46</td><td>0    </td><td>1    </td><td>4    </td><td>4    </td></tr>\n",
       "\t<tr><th scope=row>Mazda RX4 Wag</th><td>21.0 </td><td>6    </td><td>160  </td><td>110  </td><td>3.90 </td><td>2.875</td><td>17.02</td><td>0    </td><td>1    </td><td>4    </td><td>4    </td></tr>\n",
       "\t<tr><th scope=row>Datsun 710</th><td>22.8 </td><td>4    </td><td>108  </td><td> 93  </td><td>3.85 </td><td>2.320</td><td>18.61</td><td>1    </td><td>1    </td><td>4    </td><td>1    </td></tr>\n",
       "\t<tr><th scope=row>Hornet 4 Drive</th><td>21.4 </td><td>6    </td><td>258  </td><td>110  </td><td>3.08 </td><td>3.215</td><td>19.44</td><td>1    </td><td>0    </td><td>3    </td><td>1    </td></tr>\n",
       "\t<tr><th scope=row>Hornet Sportabout</th><td>18.7 </td><td>8    </td><td>360  </td><td>175  </td><td>3.15 </td><td>3.440</td><td>17.02</td><td>0    </td><td>0    </td><td>3    </td><td>2    </td></tr>\n",
       "\t<tr><th scope=row>Valiant</th><td>18.1 </td><td>6    </td><td>225  </td><td>105  </td><td>2.76 </td><td>3.460</td><td>20.22</td><td>1    </td><td>0    </td><td>3    </td><td>1    </td></tr>\n",
       "</tbody>\n",
       "</table>\n"
      ],
      "text/latex": [
       "\\begin{tabular}{r|lllllllllll}\n",
       "  & mpg & cyl & disp & hp & drat & wt & qsec & vs & am & gear & carb\\\\\n",
       "\\hline\n",
       "\tMazda RX4 & 21.0  & 6     & 160   & 110   & 3.90  & 2.620 & 16.46 & 0     & 1     & 4     & 4    \\\\\n",
       "\tMazda RX4 Wag & 21.0  & 6     & 160   & 110   & 3.90  & 2.875 & 17.02 & 0     & 1     & 4     & 4    \\\\\n",
       "\tDatsun 710 & 22.8  & 4     & 108   &  93   & 3.85  & 2.320 & 18.61 & 1     & 1     & 4     & 1    \\\\\n",
       "\tHornet 4 Drive & 21.4  & 6     & 258   & 110   & 3.08  & 3.215 & 19.44 & 1     & 0     & 3     & 1    \\\\\n",
       "\tHornet Sportabout & 18.7  & 8     & 360   & 175   & 3.15  & 3.440 & 17.02 & 0     & 0     & 3     & 2    \\\\\n",
       "\tValiant & 18.1  & 6     & 225   & 105   & 2.76  & 3.460 & 20.22 & 1     & 0     & 3     & 1    \\\\\n",
       "\\end{tabular}\n"
      ],
      "text/markdown": [
       "\n",
       "| <!--/--> | mpg | cyl | disp | hp | drat | wt | qsec | vs | am | gear | carb |\n",
       "|---|---|---|---|---|---|---|---|---|---|---|---|\n",
       "| Mazda RX4 | 21.0  | 6     | 160   | 110   | 3.90  | 2.620 | 16.46 | 0     | 1     | 4     | 4     |\n",
       "| Mazda RX4 Wag | 21.0  | 6     | 160   | 110   | 3.90  | 2.875 | 17.02 | 0     | 1     | 4     | 4     |\n",
       "| Datsun 710 | 22.8  | 4     | 108   |  93   | 3.85  | 2.320 | 18.61 | 1     | 1     | 4     | 1     |\n",
       "| Hornet 4 Drive | 21.4  | 6     | 258   | 110   | 3.08  | 3.215 | 19.44 | 1     | 0     | 3     | 1     |\n",
       "| Hornet Sportabout | 18.7  | 8     | 360   | 175   | 3.15  | 3.440 | 17.02 | 0     | 0     | 3     | 2     |\n",
       "| Valiant | 18.1  | 6     | 225   | 105   | 2.76  | 3.460 | 20.22 | 1     | 0     | 3     | 1     |\n",
       "\n"
      ],
      "text/plain": [
       "                  mpg  cyl disp hp  drat wt    qsec  vs am gear carb\n",
       "Mazda RX4         21.0 6   160  110 3.90 2.620 16.46 0  1  4    4   \n",
       "Mazda RX4 Wag     21.0 6   160  110 3.90 2.875 17.02 0  1  4    4   \n",
       "Datsun 710        22.8 4   108   93 3.85 2.320 18.61 1  1  4    1   \n",
       "Hornet 4 Drive    21.4 6   258  110 3.08 3.215 19.44 1  0  3    1   \n",
       "Hornet Sportabout 18.7 8   360  175 3.15 3.440 17.02 0  0  3    2   \n",
       "Valiant           18.1 6   225  105 2.76 3.460 20.22 1  0  3    1   "
      ]
     },
     "metadata": {},
     "output_type": "display_data"
    }
   ],
   "source": [
    "# Q : 자동차 기어 종류(am, 0=오토, 1=수동)에 따른 mpg의 차이가 통계적으로 유의한가?\n",
    "\n",
    "# str(mtcars) # 11개의 변수가 있는 32개의 관측 데이터\n",
    "head(mtcars)"
   ]
  },
  {
   "cell_type": "code",
   "execution_count": 18,
   "metadata": {},
   "outputs": [
    {
     "data": {
      "text/plain": [
       "\n",
       "\tF test to compare two variances\n",
       "\n",
       "data:  mtcars$mpg[mtcars$am == 1] and mtcars$mpg[mtcars$am == 0]\n",
       "F = 2.5869, num df = 12, denom df = 18, p-value = 0.06691\n",
       "alternative hypothesis: true ratio of variances is not equal to 1\n",
       "95 percent confidence interval:\n",
       " 0.934280 8.040391\n",
       "sample estimates:\n",
       "ratio of variances \n",
       "          2.586911 \n"
      ]
     },
     "metadata": {},
     "output_type": "display_data"
    }
   ],
   "source": [
    "# 두 표본의 등분산성 확인\n",
    "\n",
    "var.test(mtcars$mpg[mtcars$am==1], mtcars$mpg[mtcars$am==0])\n",
    "\n",
    "# p-value = 0.06691로 0.05보다 큼\n",
    "# 등분산성 만족"
   ]
  },
  {
   "cell_type": "code",
   "execution_count": 19,
   "metadata": {},
   "outputs": [
    {
     "data": {
      "text/plain": [
       "\n",
       "\tTwo Sample t-test\n",
       "\n",
       "data:  mtcars$mpg[mtcars$am == 1] and mtcars$mpg[mtcars$am == 0]\n",
       "t = 4.1061, df = 30, p-value = 0.000285\n",
       "alternative hypothesis: true difference in means is not equal to 0\n",
       "95 percent confidence interval:\n",
       "  3.64151 10.84837\n",
       "sample estimates:\n",
       "mean of x mean of y \n",
       " 24.39231  17.14737 \n"
      ]
     },
     "metadata": {},
     "output_type": "display_data"
    }
   ],
   "source": [
    "# t.test(group1의 관측치, group2의 관측치, t-test유형, 신뢰범위)\n",
    "\n",
    "t.test(mtcars$mpg[mtcars$am==1], mtcars$mpg[mtcars$am==0], \n",
    "       paired=FALSE, var.equal=TRUE, conf.level=0.95)\n",
    "## 독립표본 t-test의 경우 \n",
    "## t-test 유형 : var.equal = True / 신뢰범위는 default로 0.95로 지정되어있음"
   ]
  },
  {
   "cell_type": "code",
   "execution_count": 20,
   "metadata": {},
   "outputs": [
    {
     "data": {
      "text/plain": [
       "\n",
       "\tTwo Sample t-test\n",
       "\n",
       "data:  mpg by am\n",
       "t = -4.1061, df = 30, p-value = 0.000285\n",
       "alternative hypothesis: true difference in means is not equal to 0\n",
       "95 percent confidence interval:\n",
       " -10.84837  -3.64151\n",
       "sample estimates:\n",
       "mean in group 0 mean in group 1 \n",
       "       17.14737        24.39231 \n"
      ]
     },
     "metadata": {},
     "output_type": "display_data"
    }
   ],
   "source": [
    "# t.test(관측치 ~  집단 구분 기준, 데이터프레임, t-test유형, 신뢰범위)\n",
    "\n",
    "t.test(mpg ~ am, data=mtcars, var.equal=TRUE, conf.level = 0.95)"
   ]
  },
  {
   "cell_type": "markdown",
   "metadata": {},
   "source": [
    "#### 독립표본 t.test 결과 해석\n",
    "\n",
    "    - 아래쪽 집단 별 mpg 평균\n",
    "      : 오토는 17.14, 수동은 24.39\n",
    "      : 평균 차이가 있음을 알 수 있다\n",
    "      \n",
    "    - 위 평균 차가 유의한지 판단하기 위해서는 p-value 확인\n",
    "      : p-value = 0.000285\n",
    "      : 0.05 이하이므로 오토와 수동 자동차의 mpg 차이는 유의하다고 볼 수 있음\n",
    "      "
   ]
  },
  {
   "cell_type": "code",
   "execution_count": null,
   "metadata": {},
   "outputs": [],
   "source": []
  },
  {
   "cell_type": "markdown",
   "metadata": {},
   "source": [
    "## 대응표본 t-test (Paired sample t-test)\n",
    "\n",
    "    동일한 집단의 전-후 차이 비교하기 위해 사용\n",
    "    \n",
    "    특정 변인의 영향을 측정하기 위해 사용\n",
    "    \n",
    "    ex) 초콜렛 섭취 전후에 다른 수면 시간에 미치는 영향 알아보기\n",
    "    \n",
    "    주의할 점 : 실험 전-후를 비교하는 것이기 때문에 입력하는 관측치의 수가 반드시 같아야 함"
   ]
  },
  {
   "cell_type": "code",
   "execution_count": 24,
   "metadata": {},
   "outputs": [
    {
     "data": {
      "text/plain": [
       "\n",
       "\tPaired t-test\n",
       "\n",
       "data:  mid and final\n",
       "t = -4.4721, df = 9, p-value = 0.00155\n",
       "alternative hypothesis: true difference in means is not equal to 0\n",
       "95 percent confidence interval:\n",
       " -3.0116674 -0.9883326\n",
       "sample estimates:\n",
       "mean of the differences \n",
       "                     -2 \n"
      ]
     },
     "metadata": {},
     "output_type": "display_data"
    }
   ],
   "source": [
    "# 중간고사 이후 과외 받은 10명의 학생의 중간고사 -기말고사 점수 데이터\n",
    "\n",
    "# 데이터 준비\n",
    "mid <- c(16, 20, 21, 22, 23, 22, 27, 25, 27, 28)\n",
    "final <- c(19, 22, 24, 24, 25, 25, 26, 26, 28, 32)\n",
    "\n",
    "# 대응표본 t-test\n",
    "t.test(mid, final, paired = TRUE)"
   ]
  },
  {
   "cell_type": "markdown",
   "metadata": {},
   "source": [
    "#### 대응표본 t-test 결과 해석\n",
    "\n",
    "    - p-value = 0.00155\n",
    "     : 0.05보다 작은 값을 가짐\n",
    "     : 과외를 받은 저과 이후의 평균 성적 차이는 통계적으로 유의미 하다고 볼 수 있음"
   ]
  },
  {
   "cell_type": "code",
   "execution_count": null,
   "metadata": {},
   "outputs": [],
   "source": []
  },
  {
   "cell_type": "markdown",
   "metadata": {},
   "source": [
    "## 단일표본 t-test(One sample t-test)\n",
    "\n",
    "    한 집단의 평균이 특정 기준보다 유의미하게 다른지\n",
    "    \n",
    "    혹은 큰지/작은지 알아본느 분석 방법\n",
    "    \n",
    "    - 문법\n",
    "    t.test(관측치, alternative = 판별 방향, mu = 특정기준, conf.level = 신뢰수준)\n",
    "    \n",
    "    : alternative 에는 \"greater\", \"less\", \"two.sided\" 있음\n",
    "      각각 큰지, 작은지, 같은지 를 구분하라는 명령"
   ]
  },
  {
   "cell_type": "code",
   "execution_count": 32,
   "metadata": {},
   "outputs": [
    {
     "data": {
      "text/html": [
       "25.1"
      ],
      "text/latex": [
       "25.1"
      ],
      "text/markdown": [
       "25.1"
      ],
      "text/plain": [
       "[1] 25.1"
      ]
     },
     "metadata": {},
     "output_type": "display_data"
    }
   ],
   "source": [
    "# 기말고사 점수가 24점보다 유의하게 높은가?\n",
    "## 귀무가설 : 24점보다 유의하게 높다\n",
    "## 대립가설 : 24점보다 유의하게 높지 않다\n",
    "\n",
    "# 데이터 \n",
    "final2 <- c(19, 22, 24, 24, 25, 25, 26, 26, 28, 32)\n",
    "\n",
    "# 기말고사 평균 점수\n",
    "mean_final2 <- mean(final2)\n",
    "mean_final2"
   ]
  },
  {
   "cell_type": "code",
   "execution_count": 34,
   "metadata": {},
   "outputs": [
    {
     "data": {
      "text/plain": [
       "\n",
       "\tOne Sample t-test\n",
       "\n",
       "data:  final2\n",
       "t = 1.0093, df = 9, p-value = 0.1696\n",
       "alternative hypothesis: true mean is greater than 24\n",
       "95 percent confidence interval:\n",
       " 23.10218      Inf\n",
       "sample estimates:\n",
       "mean of x \n",
       "     25.1 \n"
      ]
     },
     "metadata": {},
     "output_type": "display_data"
    }
   ],
   "source": [
    "# 단일 표본 t-test\n",
    "\n",
    "t.test(final2, alternative=\"greater\", mu=24, conf.level=.95)"
   ]
  },
  {
   "cell_type": "markdown",
   "metadata": {},
   "source": [
    "#### 단일 표본 t-test 결과 해석\n",
    "\n",
    "    - p-value = 0.1696\n",
    "      : 0.05보다 큼\n",
    "      : 귀무가설X, 대립가설O\n",
    "      : 95% 신뢰수준에서 학생들의 기말고사 성적은 24점보다 유의적으로 높지 않다."
   ]
  },
  {
   "cell_type": "markdown",
   "metadata": {},
   "source": [
    "< 출처 >\n",
    "\n",
    "https://urosie.tistory.com/107\n",
    "\n",
    "http://www.dodomira.com/2016/04/02/r%EC%9D%84-%EC%82%AC%EC%9A%A9%ED%95%9C-t-test/"
   ]
  },
  {
   "cell_type": "code",
   "execution_count": null,
   "metadata": {},
   "outputs": [],
   "source": []
  },
  {
   "cell_type": "markdown",
   "metadata": {},
   "source": [
    "## 예시1. 건전지 수명"
   ]
  },
  {
   "cell_type": "code",
   "execution_count": 51,
   "metadata": {},
   "outputs": [
    {
     "data": {
      "text/html": [
       "996"
      ],
      "text/latex": [
       "996"
      ],
      "text/markdown": [
       "996"
      ],
      "text/plain": [
       "[1] 996"
      ]
     },
     "metadata": {},
     "output_type": "display_data"
    }
   ],
   "source": [
    "# 단일표본(1개의 집단) t-test 예시\n",
    "\n",
    "# A회사의 건전지 수명이 1000시간일 때, 무작위로 뽑은 10개의 건전지 수명에 대해 \n",
    "# 샘플이 모집단과 다르다고 할 수 있는가?\n",
    "## 귀무가설 : 모집단의 평균과 같다\n",
    "## 대립가설 : 모집단의 평균과 다르다\n",
    "\n",
    "# 데이터 준비\n",
    "battery <- c(980, 1008, 968, 1032, 1012, 1002, 996, 1017, 990, 955)\n",
    "\n",
    "# 평균시간 구하기\n",
    "mean_b <- mean(battery)\n",
    "mean_b\n",
    "# 1000시간과 별 차이가 없다 그러니 디테일하게 알아보자!"
   ]
  },
  {
   "cell_type": "code",
   "execution_count": 53,
   "metadata": {},
   "outputs": [
    {
     "data": {
      "text/plain": [
       "\n",
       "\tShapiro-Wilk normality test\n",
       "\n",
       "data:  battery\n",
       "W = 0.98274, p-value = 0.9781\n"
      ]
     },
     "metadata": {},
     "output_type": "display_data"
    }
   ],
   "source": [
    "# 정규분포 여부 확인하기\n",
    "## 귀무가설 : 정규분포O\n",
    "## 대립가설 : 정규분포X\n",
    "\n",
    "shapiro.test(battery)\n",
    "# p-value = 0.9781\n",
    "# p-value 0.05보다 크므로 귀무가설 성립. 정규분포O"
   ]
  },
  {
   "cell_type": "code",
   "execution_count": 54,
   "metadata": {},
   "outputs": [
    {
     "data": {
      "text/plain": [
       "\n",
       "\tOne Sample t-test\n",
       "\n",
       "data:  battery\n",
       "t = -0.54045, df = 9, p-value = 0.602\n",
       "alternative hypothesis: true mean is not equal to 1000\n",
       "95 percent confidence interval:\n",
       "  979.2573 1012.7427\n",
       "sample estimates:\n",
       "mean of x \n",
       "      996 \n"
      ]
     },
     "metadata": {},
     "output_type": "display_data"
    }
   ],
   "source": [
    "# 정규분포이므로 t.test로 검정 진행 / 모집단 평균 알고잇으니 mu 사용\n",
    "\n",
    "t.test(battery, mu=1000)\n",
    "# p-value = 0.602\n",
    "# p-value 값이 0.05보다 크므로 수명 1000시간 맞다고 판단"
   ]
  },
  {
   "cell_type": "code",
   "execution_count": null,
   "metadata": {},
   "outputs": [],
   "source": []
  },
  {
   "cell_type": "markdown",
   "metadata": {},
   "source": [
    "## 예시2. 학급 성적"
   ]
  },
  {
   "cell_type": "code",
   "execution_count": 56,
   "metadata": {},
   "outputs": [
    {
     "data": {
      "text/html": [
       "56.1764705882353"
      ],
      "text/latex": [
       "56.1764705882353"
      ],
      "text/markdown": [
       "56.1764705882353"
      ],
      "text/plain": [
       "[1] 56.17647"
      ]
     },
     "metadata": {},
     "output_type": "display_data"
    }
   ],
   "source": [
    "# 단일표본(1개의 집단) t-test 예시\n",
    "\n",
    "# 수업 전 한 학급의 수학 평균 성적은 55점\n",
    "# 수업 진행후 학생들의 성적은 수업의 여부와 관계있는가?\n",
    "\n",
    "# 데이터 준비\n",
    "score <- c(58, 49, 39, 99, 32, 88, 62, 30, 55, 65, 44, 55, 57, 53, 88, 42, 39)\n",
    "\n",
    "# 평균 알아보기\n",
    "mean_s <- mean(score)\n",
    "mean_s\n",
    "# 55점보다 살짝 높넹  더 디테일하게 알아보자"
   ]
  },
  {
   "cell_type": "code",
   "execution_count": 58,
   "metadata": {},
   "outputs": [
    {
     "data": {
      "text/plain": [
       "\n",
       "\tShapiro-Wilk normality test\n",
       "\n",
       "data:  score\n",
       "W = 0.91143, p-value = 0.1058\n"
      ]
     },
     "metadata": {},
     "output_type": "display_data"
    }
   ],
   "source": [
    "# 정규분포 여부 확인\n",
    "\n",
    "shapiro.test(score)\n",
    "# p-value = 0.1058\n",
    "# p-value값이 0.05보다 크므로 t.test 사용 가능"
   ]
  },
  {
   "cell_type": "code",
   "execution_count": 60,
   "metadata": {},
   "outputs": [
    {
     "data": {
      "text/plain": [
       "\n",
       "\tOne Sample t-test\n",
       "\n",
       "data:  score\n",
       "t = 0.24546, df = 16, p-value = 0.4046\n",
       "alternative hypothesis: true mean is greater than 55\n",
       "95 percent confidence interval:\n",
       " 47.80855      Inf\n",
       "sample estimates:\n",
       "mean of x \n",
       " 56.17647 \n"
      ]
     },
     "metadata": {},
     "output_type": "display_data"
    }
   ],
   "source": [
    "# t.test 사용\n",
    "\n",
    "t.test(score, mu=55, alternative = \"greater\")\n",
    "# p-value = 0.4046\n",
    "# p-value 0.05 이상이므로 귀무가설\n",
    "# 성적이 올랐다고 하기에는 조금 아쉬운 값"
   ]
  },
  {
   "cell_type": "code",
   "execution_count": null,
   "metadata": {},
   "outputs": [],
   "source": []
  },
  {
   "cell_type": "markdown",
   "metadata": {},
   "source": [
    "## 예시3. 출생률"
   ]
  },
  {
   "cell_type": "code",
   "execution_count": 67,
   "metadata": {},
   "outputs": [
    {
     "name": "stdout",
     "output_type": "stream",
     "text": [
      "'data.frame':\t20 obs. of  3 variables:\n",
      " $ cities    : Factor w/ 20 levels \"경기 고양시\",..: 10 9 17 13 8 3 19 7 12 1 ...\n",
      " $ ID        : int  1 2 3 4 5 6 7 8 9 10 ...\n",
      " $ birth_rate: num  1.29 1.16 1.1 1.18 1.07 ...\n"
     ]
    },
    {
     "data": {
      "text/html": [
       "<table>\n",
       "<thead><tr><th scope=col>cities</th><th scope=col>ID</th><th scope=col>birth_rate</th></tr></thead>\n",
       "<tbody>\n",
       "\t<tr><td>경기 수원시  </td><td>1            </td><td>1.292        </td></tr>\n",
       "\t<tr><td>경기 성남시  </td><td>2            </td><td>1.159        </td></tr>\n",
       "\t<tr><td>경기 의정부시</td><td>3            </td><td>1.104        </td></tr>\n",
       "\t<tr><td>경기 안양시  </td><td>4            </td><td>1.177        </td></tr>\n",
       "\t<tr><td>경기 부천시  </td><td>5            </td><td>1.072        </td></tr>\n",
       "\t<tr><td>경기 광명시  </td><td>6            </td><td>1.235        </td></tr>\n",
       "</tbody>\n",
       "</table>\n"
      ],
      "text/latex": [
       "\\begin{tabular}{r|lll}\n",
       " cities & ID & birth\\_rate\\\\\n",
       "\\hline\n",
       "\t 경기 수원시   & 1             & 1.292        \\\\\n",
       "\t 경기 성남시   & 2             & 1.159        \\\\\n",
       "\t 경기 의정부시 & 3             & 1.104        \\\\\n",
       "\t 경기 안양시   & 4             & 1.177        \\\\\n",
       "\t 경기 부천시   & 5             & 1.072        \\\\\n",
       "\t 경기 광명시   & 6             & 1.235        \\\\\n",
       "\\end{tabular}\n"
      ],
      "text/markdown": [
       "\n",
       "| cities | ID | birth_rate |\n",
       "|---|---|---|\n",
       "| 경기 수원시   | 1             | 1.292         |\n",
       "| 경기 성남시   | 2             | 1.159         |\n",
       "| 경기 의정부시 | 3             | 1.104         |\n",
       "| 경기 안양시   | 4             | 1.177         |\n",
       "| 경기 부천시   | 5             | 1.072         |\n",
       "| 경기 광명시   | 6             | 1.235         |\n",
       "\n"
      ],
      "text/plain": [
       "  cities        ID birth_rate\n",
       "1 경기 수원시   1  1.292     \n",
       "2 경기 성남시   2  1.159     \n",
       "3 경기 의정부시 3  1.104     \n",
       "4 경기 안양시   4  1.177     \n",
       "5 경기 부천시   5  1.072     \n",
       "6 경기 광명시   6  1.235     "
      ]
     },
     "metadata": {},
     "output_type": "display_data"
    },
    {
     "data": {
      "text/html": [
       "1.24615"
      ],
      "text/latex": [
       "1.24615"
      ],
      "text/markdown": [
       "1.24615"
      ],
      "text/plain": [
       "[1] 1.24615"
      ]
     },
     "metadata": {},
     "output_type": "display_data"
    }
   ],
   "source": [
    "# 각도시별 출생률 나타내는 데이터 파일 \n",
    "# 20개 도시 추출(우리나라 75개의 자치도시 중에 20개만 추출)\n",
    "# 모집단의 평균 출산율은 1.37812\n",
    "\n",
    "# 귀무 가설 : 20개 도시의 합계 출산율이 모집단의 합계 출산율과 같다\n",
    "# 대립 가설 : 20개 도시의 합계 출산율이 모집단의 합계 출산율과 다르다 \n",
    "\n",
    "mydata <- read.csv(\"C:/Users/cho ye seul/Documents/예슬/Acorn/rwork/StatProject/data/onesample.csv\")\n",
    "str(mydata) # 3개의 변수에 20개의 데이터\n",
    "head(mydata)\n",
    "\n",
    "# 출산율 평균 알아보기\n",
    "mean_birth <- mean(mydata$birth_rate)\n",
    "mean_birth\n",
    "# 모집단과 별로 차이가 안나는데.. detail하게 알아보자"
   ]
  },
  {
   "cell_type": "code",
   "execution_count": 69,
   "metadata": {},
   "outputs": [
    {
     "data": {
      "text/plain": [
       "\n",
       "\tShapiro-Wilk normality test\n",
       "\n",
       "data:  mydata$birth_rate\n",
       "W = 0.92991, p-value = 0.1538\n"
      ]
     },
     "metadata": {},
     "output_type": "display_data"
    }
   ],
   "source": [
    "# 정규분포 검증\n",
    "\n",
    "shapiro.test(mydata$birth_rate)\n",
    "# p-value = 0.1538\n",
    "# p-value값이 0.05보다 크므로 정규분포O"
   ]
  },
  {
   "cell_type": "code",
   "execution_count": 71,
   "metadata": {},
   "outputs": [
    {
     "data": {
      "text/plain": [
       "\n",
       "\tOne Sample t-test\n",
       "\n",
       "data:  mydata$birth_rate\n",
       "t = -4.6387, df = 19, p-value = 0.0001791\n",
       "alternative hypothesis: true mean is not equal to 1.37812\n",
       "95 percent confidence interval:\n",
       " 1.186604 1.305696\n",
       "sample estimates:\n",
       "mean of x \n",
       "  1.24615 \n"
      ]
     },
     "metadata": {},
     "output_type": "display_data"
    }
   ],
   "source": [
    "# t.test\n",
    "\n",
    "t.test(mydata$birth_rate, mu=1.37812)\n",
    "## p-value = 0.0001791\n",
    "## p-value가 0.05보다 작으므로 대립가설 성립"
   ]
  },
  {
   "cell_type": "code",
   "execution_count": null,
   "metadata": {},
   "outputs": [],
   "source": []
  },
  {
   "cell_type": "markdown",
   "metadata": {},
   "source": [
    "## 예시4. 자동차 연비"
   ]
  },
  {
   "cell_type": "code",
   "execution_count": 72,
   "metadata": {},
   "outputs": [
    {
     "name": "stdout",
     "output_type": "stream",
     "text": [
      "'data.frame':\t32 obs. of  11 variables:\n",
      " $ mpg : num  21 21 22.8 21.4 18.7 18.1 14.3 24.4 22.8 19.2 ...\n",
      " $ cyl : num  6 6 4 6 8 6 8 4 4 6 ...\n",
      " $ disp: num  160 160 108 258 360 ...\n",
      " $ hp  : num  110 110 93 110 175 105 245 62 95 123 ...\n",
      " $ drat: num  3.9 3.9 3.85 3.08 3.15 2.76 3.21 3.69 3.92 3.92 ...\n",
      " $ wt  : num  2.62 2.88 2.32 3.21 3.44 ...\n",
      " $ qsec: num  16.5 17 18.6 19.4 17 ...\n",
      " $ vs  : num  0 0 1 1 0 1 0 1 1 1 ...\n",
      " $ am  : num  1 1 1 0 0 0 0 0 0 0 ...\n",
      " $ gear: num  4 4 4 3 3 3 3 4 4 4 ...\n",
      " $ carb: num  4 4 1 1 2 1 4 2 2 4 ...\n"
     ]
    },
    {
     "data": {
      "text/html": [
       "<table>\n",
       "<thead><tr><th></th><th scope=col>mpg</th><th scope=col>cyl</th><th scope=col>disp</th><th scope=col>hp</th><th scope=col>drat</th><th scope=col>wt</th><th scope=col>qsec</th><th scope=col>vs</th><th scope=col>am</th><th scope=col>gear</th><th scope=col>carb</th></tr></thead>\n",
       "<tbody>\n",
       "\t<tr><th scope=row>Mazda RX4</th><td>21.0 </td><td>6    </td><td>160  </td><td>110  </td><td>3.90 </td><td>2.620</td><td>16.46</td><td>0    </td><td>1    </td><td>4    </td><td>4    </td></tr>\n",
       "\t<tr><th scope=row>Mazda RX4 Wag</th><td>21.0 </td><td>6    </td><td>160  </td><td>110  </td><td>3.90 </td><td>2.875</td><td>17.02</td><td>0    </td><td>1    </td><td>4    </td><td>4    </td></tr>\n",
       "\t<tr><th scope=row>Datsun 710</th><td>22.8 </td><td>4    </td><td>108  </td><td> 93  </td><td>3.85 </td><td>2.320</td><td>18.61</td><td>1    </td><td>1    </td><td>4    </td><td>1    </td></tr>\n",
       "\t<tr><th scope=row>Hornet 4 Drive</th><td>21.4 </td><td>6    </td><td>258  </td><td>110  </td><td>3.08 </td><td>3.215</td><td>19.44</td><td>1    </td><td>0    </td><td>3    </td><td>1    </td></tr>\n",
       "\t<tr><th scope=row>Hornet Sportabout</th><td>18.7 </td><td>8    </td><td>360  </td><td>175  </td><td>3.15 </td><td>3.440</td><td>17.02</td><td>0    </td><td>0    </td><td>3    </td><td>2    </td></tr>\n",
       "\t<tr><th scope=row>Valiant</th><td>18.1 </td><td>6    </td><td>225  </td><td>105  </td><td>2.76 </td><td>3.460</td><td>20.22</td><td>1    </td><td>0    </td><td>3    </td><td>1    </td></tr>\n",
       "</tbody>\n",
       "</table>\n"
      ],
      "text/latex": [
       "\\begin{tabular}{r|lllllllllll}\n",
       "  & mpg & cyl & disp & hp & drat & wt & qsec & vs & am & gear & carb\\\\\n",
       "\\hline\n",
       "\tMazda RX4 & 21.0  & 6     & 160   & 110   & 3.90  & 2.620 & 16.46 & 0     & 1     & 4     & 4    \\\\\n",
       "\tMazda RX4 Wag & 21.0  & 6     & 160   & 110   & 3.90  & 2.875 & 17.02 & 0     & 1     & 4     & 4    \\\\\n",
       "\tDatsun 710 & 22.8  & 4     & 108   &  93   & 3.85  & 2.320 & 18.61 & 1     & 1     & 4     & 1    \\\\\n",
       "\tHornet 4 Drive & 21.4  & 6     & 258   & 110   & 3.08  & 3.215 & 19.44 & 1     & 0     & 3     & 1    \\\\\n",
       "\tHornet Sportabout & 18.7  & 8     & 360   & 175   & 3.15  & 3.440 & 17.02 & 0     & 0     & 3     & 2    \\\\\n",
       "\tValiant & 18.1  & 6     & 225   & 105   & 2.76  & 3.460 & 20.22 & 1     & 0     & 3     & 1    \\\\\n",
       "\\end{tabular}\n"
      ],
      "text/markdown": [
       "\n",
       "| <!--/--> | mpg | cyl | disp | hp | drat | wt | qsec | vs | am | gear | carb |\n",
       "|---|---|---|---|---|---|---|---|---|---|---|---|\n",
       "| Mazda RX4 | 21.0  | 6     | 160   | 110   | 3.90  | 2.620 | 16.46 | 0     | 1     | 4     | 4     |\n",
       "| Mazda RX4 Wag | 21.0  | 6     | 160   | 110   | 3.90  | 2.875 | 17.02 | 0     | 1     | 4     | 4     |\n",
       "| Datsun 710 | 22.8  | 4     | 108   |  93   | 3.85  | 2.320 | 18.61 | 1     | 1     | 4     | 1     |\n",
       "| Hornet 4 Drive | 21.4  | 6     | 258   | 110   | 3.08  | 3.215 | 19.44 | 1     | 0     | 3     | 1     |\n",
       "| Hornet Sportabout | 18.7  | 8     | 360   | 175   | 3.15  | 3.440 | 17.02 | 0     | 0     | 3     | 2     |\n",
       "| Valiant | 18.1  | 6     | 225   | 105   | 2.76  | 3.460 | 20.22 | 1     | 0     | 3     | 1     |\n",
       "\n"
      ],
      "text/plain": [
       "                  mpg  cyl disp hp  drat wt    qsec  vs am gear carb\n",
       "Mazda RX4         21.0 6   160  110 3.90 2.620 16.46 0  1  4    4   \n",
       "Mazda RX4 Wag     21.0 6   160  110 3.90 2.875 17.02 0  1  4    4   \n",
       "Datsun 710        22.8 4   108   93 3.85 2.320 18.61 1  1  4    1   \n",
       "Hornet 4 Drive    21.4 6   258  110 3.08 3.215 19.44 1  0  3    1   \n",
       "Hornet Sportabout 18.7 8   360  175 3.15 3.440 17.02 0  0  3    2   \n",
       "Valiant           18.1 6   225  105 2.76 3.460 20.22 1  0  3    1   "
      ]
     },
     "metadata": {},
     "output_type": "display_data"
    }
   ],
   "source": [
    "# 오토나 수동에 따라 연비가 같을까? 다를까? \n",
    "# am : 0은 오토, 1은 수동 / 연비는 mpg\n",
    "# 귀무 가설 : 차이가 없다\n",
    "# 대립 가설 : 차이가 있다 \n",
    "str(mtcars)\n",
    "head(mtcars)"
   ]
  },
  {
   "cell_type": "code",
   "execution_count": 73,
   "metadata": {},
   "outputs": [
    {
     "name": "stdout",
     "output_type": "stream",
     "text": [
      "17.14737 / 24.39231"
     ]
    }
   ],
   "source": [
    "# 평균 알아보기\n",
    "auto.mean <- mean(mtcars$mpg[mtcars$am==0])\n",
    "handle.mean <- mean(mtcars$mpg[mtcars$am==1])\n",
    "cat(auto.mean, \"/\", handle.mean)\n",
    "# 차이가 많이 나넹"
   ]
  },
  {
   "cell_type": "code",
   "execution_count": 76,
   "metadata": {},
   "outputs": [
    {
     "data": {
      "text/plain": [
       "\n",
       "\tShapiro-Wilk normality test\n",
       "\n",
       "data:  mtcars$mpg[mtcars$am == 0]\n",
       "W = 0.97677, p-value = 0.8987\n"
      ]
     },
     "metadata": {},
     "output_type": "display_data"
    },
    {
     "data": {
      "text/plain": [
       "\n",
       "\tShapiro-Wilk normality test\n",
       "\n",
       "data:  mtcars$mpg[mtcars$am == 1]\n",
       "W = 0.9458, p-value = 0.5363\n"
      ]
     },
     "metadata": {},
     "output_type": "display_data"
    }
   ],
   "source": [
    "# 일단 정규분포 여부 확인해보기\n",
    "\n",
    "shapiro.test(mtcars$mpg[mtcars$am==0]) # p-value = 0.8987\n",
    "shapiro.test(mtcars$mpg[mtcars$am==1]) # p-value =  0.5363\n",
    "# 0 오토의 값은 매우높다\n",
    "# 그래도 일단, p-value 0.05보다 크므로 정규분포O"
   ]
  },
  {
   "cell_type": "code",
   "execution_count": 78,
   "metadata": {},
   "outputs": [
    {
     "data": {
      "text/plain": [
       "\n",
       "\tF test to compare two variances\n",
       "\n",
       "data:  mtcars$mpg[mtcars$am == 0] and mtcars$mpg[mtcars$am == 1]\n",
       "F = 0.38656, num df = 18, denom df = 12, p-value = 0.06691\n",
       "alternative hypothesis: true ratio of variances is not equal to 1\n",
       "95 percent confidence interval:\n",
       " 0.1243721 1.0703429\n",
       "sample estimates:\n",
       "ratio of variances \n",
       "         0.3865615 \n"
      ]
     },
     "metadata": {},
     "output_type": "display_data"
    }
   ],
   "source": [
    "# 등분산 여부 확인\n",
    "\n",
    "var.test(mtcars$mpg[mtcars$am==0], mtcars$mpg[mtcars$am==1])\n",
    "# p-value 0.06691 \n",
    "# 0.05보다 크므로 등분산O"
   ]
  },
  {
   "cell_type": "code",
   "execution_count": 83,
   "metadata": {},
   "outputs": [
    {
     "data": {
      "text/plain": [
       "\n",
       "\tWelch Two Sample t-test\n",
       "\n",
       "data:  mpg by am\n",
       "t = -3.7671, df = 18.332, p-value = 0.001374\n",
       "alternative hypothesis: true difference in means is not equal to 0\n",
       "95 percent confidence interval:\n",
       " -11.280194  -3.209684\n",
       "sample estimates:\n",
       "mean in group 0 mean in group 1 \n",
       "       17.14737        24.39231 \n"
      ]
     },
     "metadata": {},
     "output_type": "display_data"
    }
   ],
   "source": [
    "# t.test 확인\n",
    "\n",
    "t.test(mpg ~ am, data=mtcars, var.test=T)\n",
    "# 등분산일때 var.test=T 사용\n",
    "# 만약, 등분산이 아니라면 var.test=F 사용\n",
    "\n",
    "# p-value = 0.001374 \n",
    "# p-value가 0.05보다 작으므로 대립가설 성립 / 오토나 수동에 따라 연비는 다르다"
   ]
  },
  {
   "cell_type": "code",
   "execution_count": null,
   "metadata": {},
   "outputs": [],
   "source": []
  },
  {
   "cell_type": "markdown",
   "metadata": {},
   "source": [
    "## 예시5. ID"
   ]
  },
  {
   "cell_type": "code",
   "execution_count": 84,
   "metadata": {},
   "outputs": [
    {
     "name": "stdout",
     "output_type": "stream",
     "text": [
      "'data.frame':\t10 obs. of  3 variables:\n",
      " $ ID    : int  1 2 3 4 5 6 7 8 9 10\n",
      " $ before: num  200 191 193 213 241 ...\n",
      " $ After : num  393 393 345 393 434 ...\n"
     ]
    },
    {
     "data": {
      "text/html": [
       "<table>\n",
       "<thead><tr><th scope=col>ID</th><th scope=col>before</th><th scope=col>After</th></tr></thead>\n",
       "<tbody>\n",
       "\t<tr><td>1    </td><td>200.1</td><td>392.9</td></tr>\n",
       "\t<tr><td>2    </td><td>190.9</td><td>393.2</td></tr>\n",
       "\t<tr><td>3    </td><td>192.7</td><td>345.1</td></tr>\n",
       "\t<tr><td>4    </td><td>213.0</td><td>393.0</td></tr>\n",
       "\t<tr><td>5    </td><td>241.4</td><td>434.0</td></tr>\n",
       "\t<tr><td>6    </td><td>196.9</td><td>427.9</td></tr>\n",
       "</tbody>\n",
       "</table>\n"
      ],
      "text/latex": [
       "\\begin{tabular}{r|lll}\n",
       " ID & before & After\\\\\n",
       "\\hline\n",
       "\t 1     & 200.1 & 392.9\\\\\n",
       "\t 2     & 190.9 & 393.2\\\\\n",
       "\t 3     & 192.7 & 345.1\\\\\n",
       "\t 4     & 213.0 & 393.0\\\\\n",
       "\t 5     & 241.4 & 434.0\\\\\n",
       "\t 6     & 196.9 & 427.9\\\\\n",
       "\\end{tabular}\n"
      ],
      "text/markdown": [
       "\n",
       "| ID | before | After |\n",
       "|---|---|---|\n",
       "| 1     | 200.1 | 392.9 |\n",
       "| 2     | 190.9 | 393.2 |\n",
       "| 3     | 192.7 | 345.1 |\n",
       "| 4     | 213.0 | 393.0 |\n",
       "| 5     | 241.4 | 434.0 |\n",
       "| 6     | 196.9 | 427.9 |\n",
       "\n"
      ],
      "text/plain": [
       "  ID before After\n",
       "1 1  200.1  392.9\n",
       "2 2  190.9  393.2\n",
       "3 3  192.7  345.1\n",
       "4 4  213.0  393.0\n",
       "5 5  241.4  434.0\n",
       "6 6  196.9  427.9"
      ]
     },
     "metadata": {},
     "output_type": "display_data"
    }
   ],
   "source": [
    "# 데이터 준비\n",
    "\n",
    "pd <- read.csv(\"C:/Users/cho ye seul/Documents/예슬/Acorn/rwork/StatProject/data/pairedData.csv\")\n",
    "str(pd)\n",
    "head(pd)"
   ]
  },
  {
   "cell_type": "code",
   "execution_count": 85,
   "metadata": {},
   "outputs": [
    {
     "name": "stderr",
     "output_type": "stream",
     "text": [
      "Warning message:\n",
      "\"package 'reshape2' was built under R version 3.6.2\""
     ]
    }
   ],
   "source": [
    "# 데이터 구조 변경 함수\n",
    "# 데이터를 long형으로 구조 변경(melt, cast)\n",
    "library(reshape2)"
   ]
  },
  {
   "cell_type": "code",
   "execution_count": 86,
   "metadata": {
    "scrolled": true
   },
   "outputs": [
    {
     "data": {
      "text/html": [
       "<table>\n",
       "<thead><tr><th scope=col>ID</th><th scope=col>GROUP</th><th scope=col>RESULT</th></tr></thead>\n",
       "<tbody>\n",
       "\t<tr><td> 1    </td><td>before</td><td>200.1 </td></tr>\n",
       "\t<tr><td> 2    </td><td>before</td><td>190.9 </td></tr>\n",
       "\t<tr><td> 3    </td><td>before</td><td>192.7 </td></tr>\n",
       "\t<tr><td> 4    </td><td>before</td><td>213.0 </td></tr>\n",
       "\t<tr><td> 5    </td><td>before</td><td>241.4 </td></tr>\n",
       "\t<tr><td> 6    </td><td>before</td><td>196.9 </td></tr>\n",
       "\t<tr><td> 7    </td><td>before</td><td>172.2 </td></tr>\n",
       "\t<tr><td> 8    </td><td>before</td><td>185.5 </td></tr>\n",
       "\t<tr><td> 9    </td><td>before</td><td>205.2 </td></tr>\n",
       "\t<tr><td>10    </td><td>before</td><td>193.7 </td></tr>\n",
       "\t<tr><td> 1    </td><td>After </td><td>392.9 </td></tr>\n",
       "\t<tr><td> 2    </td><td>After </td><td>393.2 </td></tr>\n",
       "\t<tr><td> 3    </td><td>After </td><td>345.1 </td></tr>\n",
       "\t<tr><td> 4    </td><td>After </td><td>393.0 </td></tr>\n",
       "\t<tr><td> 5    </td><td>After </td><td>434.0 </td></tr>\n",
       "\t<tr><td> 6    </td><td>After </td><td>427.9 </td></tr>\n",
       "\t<tr><td> 7    </td><td>After </td><td>422.0 </td></tr>\n",
       "\t<tr><td> 8    </td><td>After </td><td>383.9 </td></tr>\n",
       "\t<tr><td> 9    </td><td>After </td><td>392.3 </td></tr>\n",
       "\t<tr><td>10    </td><td>After </td><td>352.2 </td></tr>\n",
       "</tbody>\n",
       "</table>\n"
      ],
      "text/latex": [
       "\\begin{tabular}{r|lll}\n",
       " ID & GROUP & RESULT\\\\\n",
       "\\hline\n",
       "\t  1     & before & 200.1 \\\\\n",
       "\t  2     & before & 190.9 \\\\\n",
       "\t  3     & before & 192.7 \\\\\n",
       "\t  4     & before & 213.0 \\\\\n",
       "\t  5     & before & 241.4 \\\\\n",
       "\t  6     & before & 196.9 \\\\\n",
       "\t  7     & before & 172.2 \\\\\n",
       "\t  8     & before & 185.5 \\\\\n",
       "\t  9     & before & 205.2 \\\\\n",
       "\t 10     & before & 193.7 \\\\\n",
       "\t  1     & After  & 392.9 \\\\\n",
       "\t  2     & After  & 393.2 \\\\\n",
       "\t  3     & After  & 345.1 \\\\\n",
       "\t  4     & After  & 393.0 \\\\\n",
       "\t  5     & After  & 434.0 \\\\\n",
       "\t  6     & After  & 427.9 \\\\\n",
       "\t  7     & After  & 422.0 \\\\\n",
       "\t  8     & After  & 383.9 \\\\\n",
       "\t  9     & After  & 392.3 \\\\\n",
       "\t 10     & After  & 352.2 \\\\\n",
       "\\end{tabular}\n"
      ],
      "text/markdown": [
       "\n",
       "| ID | GROUP | RESULT |\n",
       "|---|---|---|\n",
       "|  1     | before | 200.1  |\n",
       "|  2     | before | 190.9  |\n",
       "|  3     | before | 192.7  |\n",
       "|  4     | before | 213.0  |\n",
       "|  5     | before | 241.4  |\n",
       "|  6     | before | 196.9  |\n",
       "|  7     | before | 172.2  |\n",
       "|  8     | before | 185.5  |\n",
       "|  9     | before | 205.2  |\n",
       "| 10     | before | 193.7  |\n",
       "|  1     | After  | 392.9  |\n",
       "|  2     | After  | 393.2  |\n",
       "|  3     | After  | 345.1  |\n",
       "|  4     | After  | 393.0  |\n",
       "|  5     | After  | 434.0  |\n",
       "|  6     | After  | 427.9  |\n",
       "|  7     | After  | 422.0  |\n",
       "|  8     | After  | 383.9  |\n",
       "|  9     | After  | 392.3  |\n",
       "| 10     | After  | 352.2  |\n",
       "\n"
      ],
      "text/plain": [
       "   ID GROUP  RESULT\n",
       "1   1 before 200.1 \n",
       "2   2 before 190.9 \n",
       "3   3 before 192.7 \n",
       "4   4 before 213.0 \n",
       "5   5 before 241.4 \n",
       "6   6 before 196.9 \n",
       "7   7 before 172.2 \n",
       "8   8 before 185.5 \n",
       "9   9 before 205.2 \n",
       "10 10 before 193.7 \n",
       "11  1 After  392.9 \n",
       "12  2 After  393.2 \n",
       "13  3 After  345.1 \n",
       "14  4 After  393.0 \n",
       "15  5 After  434.0 \n",
       "16  6 After  427.9 \n",
       "17  7 After  422.0 \n",
       "18  8 After  383.9 \n",
       "19  9 After  392.3 \n",
       "20 10 After  352.2 "
      ]
     },
     "metadata": {},
     "output_type": "display_data"
    }
   ],
   "source": [
    "# 데이터 구조 변경하기\n",
    "# 데이터가 서로 다른 컬럼에 위치해있다\n",
    "# 데이터를 long형으로(같은 컬럼에 위치해있도록) 구조 변경\n",
    "\n",
    "melt(pd, id=(\"ID\"), variable.name = \"GROUP\", value.name = \"RESULT\")\n",
    "# id 기준값, 나머진 이름변수, 변수 이름"
   ]
  },
  {
   "cell_type": "code",
   "execution_count": 87,
   "metadata": {},
   "outputs": [
    {
     "name": "stderr",
     "output_type": "stream",
     "text": [
      "Warning message:\n",
      "\"package 'tidyr' was built under R version 3.6.3\"\n",
      "Attaching package: 'tidyr'\n",
      "\n",
      "The following object is masked from 'package:reshape2':\n",
      "\n",
      "    smiths\n",
      "\n"
     ]
    }
   ],
   "source": [
    "# gather 함수\n",
    "# install.packages(\"tidyr\")\n",
    "library(tidyr)\n",
    "\n",
    "# gather() : wide형식에서 long형식으로 전환\n",
    "# spread() : long형식에서 중간 혹은 wide 형식으로 전환"
   ]
  },
  {
   "cell_type": "code",
   "execution_count": 88,
   "metadata": {
    "scrolled": true
   },
   "outputs": [
    {
     "data": {
      "text/html": [
       "<table>\n",
       "<thead><tr><th scope=col>ID</th><th scope=col>GROUP</th><th scope=col>RESULT</th></tr></thead>\n",
       "<tbody>\n",
       "\t<tr><td> 1    </td><td>before</td><td>200.1 </td></tr>\n",
       "\t<tr><td> 2    </td><td>before</td><td>190.9 </td></tr>\n",
       "\t<tr><td> 3    </td><td>before</td><td>192.7 </td></tr>\n",
       "\t<tr><td> 4    </td><td>before</td><td>213.0 </td></tr>\n",
       "\t<tr><td> 5    </td><td>before</td><td>241.4 </td></tr>\n",
       "\t<tr><td> 6    </td><td>before</td><td>196.9 </td></tr>\n",
       "\t<tr><td> 7    </td><td>before</td><td>172.2 </td></tr>\n",
       "\t<tr><td> 8    </td><td>before</td><td>185.5 </td></tr>\n",
       "\t<tr><td> 9    </td><td>before</td><td>205.2 </td></tr>\n",
       "\t<tr><td>10    </td><td>before</td><td>193.7 </td></tr>\n",
       "\t<tr><td> 1    </td><td>After </td><td>392.9 </td></tr>\n",
       "\t<tr><td> 2    </td><td>After </td><td>393.2 </td></tr>\n",
       "\t<tr><td> 3    </td><td>After </td><td>345.1 </td></tr>\n",
       "\t<tr><td> 4    </td><td>After </td><td>393.0 </td></tr>\n",
       "\t<tr><td> 5    </td><td>After </td><td>434.0 </td></tr>\n",
       "\t<tr><td> 6    </td><td>After </td><td>427.9 </td></tr>\n",
       "\t<tr><td> 7    </td><td>After </td><td>422.0 </td></tr>\n",
       "\t<tr><td> 8    </td><td>After </td><td>383.9 </td></tr>\n",
       "\t<tr><td> 9    </td><td>After </td><td>392.3 </td></tr>\n",
       "\t<tr><td>10    </td><td>After </td><td>352.2 </td></tr>\n",
       "</tbody>\n",
       "</table>\n"
      ],
      "text/latex": [
       "\\begin{tabular}{r|lll}\n",
       " ID & GROUP & RESULT\\\\\n",
       "\\hline\n",
       "\t  1     & before & 200.1 \\\\\n",
       "\t  2     & before & 190.9 \\\\\n",
       "\t  3     & before & 192.7 \\\\\n",
       "\t  4     & before & 213.0 \\\\\n",
       "\t  5     & before & 241.4 \\\\\n",
       "\t  6     & before & 196.9 \\\\\n",
       "\t  7     & before & 172.2 \\\\\n",
       "\t  8     & before & 185.5 \\\\\n",
       "\t  9     & before & 205.2 \\\\\n",
       "\t 10     & before & 193.7 \\\\\n",
       "\t  1     & After  & 392.9 \\\\\n",
       "\t  2     & After  & 393.2 \\\\\n",
       "\t  3     & After  & 345.1 \\\\\n",
       "\t  4     & After  & 393.0 \\\\\n",
       "\t  5     & After  & 434.0 \\\\\n",
       "\t  6     & After  & 427.9 \\\\\n",
       "\t  7     & After  & 422.0 \\\\\n",
       "\t  8     & After  & 383.9 \\\\\n",
       "\t  9     & After  & 392.3 \\\\\n",
       "\t 10     & After  & 352.2 \\\\\n",
       "\\end{tabular}\n"
      ],
      "text/markdown": [
       "\n",
       "| ID | GROUP | RESULT |\n",
       "|---|---|---|\n",
       "|  1     | before | 200.1  |\n",
       "|  2     | before | 190.9  |\n",
       "|  3     | before | 192.7  |\n",
       "|  4     | before | 213.0  |\n",
       "|  5     | before | 241.4  |\n",
       "|  6     | before | 196.9  |\n",
       "|  7     | before | 172.2  |\n",
       "|  8     | before | 185.5  |\n",
       "|  9     | before | 205.2  |\n",
       "| 10     | before | 193.7  |\n",
       "|  1     | After  | 392.9  |\n",
       "|  2     | After  | 393.2  |\n",
       "|  3     | After  | 345.1  |\n",
       "|  4     | After  | 393.0  |\n",
       "|  5     | After  | 434.0  |\n",
       "|  6     | After  | 427.9  |\n",
       "|  7     | After  | 422.0  |\n",
       "|  8     | After  | 383.9  |\n",
       "|  9     | After  | 392.3  |\n",
       "| 10     | After  | 352.2  |\n",
       "\n"
      ],
      "text/plain": [
       "   ID GROUP  RESULT\n",
       "1   1 before 200.1 \n",
       "2   2 before 190.9 \n",
       "3   3 before 192.7 \n",
       "4   4 before 213.0 \n",
       "5   5 before 241.4 \n",
       "6   6 before 196.9 \n",
       "7   7 before 172.2 \n",
       "8   8 before 185.5 \n",
       "9   9 before 205.2 \n",
       "10 10 before 193.7 \n",
       "11  1 After  392.9 \n",
       "12  2 After  393.2 \n",
       "13  3 After  345.1 \n",
       "14  4 After  393.0 \n",
       "15  5 After  434.0 \n",
       "16  6 After  427.9 \n",
       "17  7 After  422.0 \n",
       "18  8 After  383.9 \n",
       "19  9 After  392.3 \n",
       "20 10 After  352.2 "
      ]
     },
     "metadata": {},
     "output_type": "display_data"
    }
   ],
   "source": [
    "# 데이터 형태 변환\n",
    "\n",
    "pd2 <- gather(pd, key=\"GROUP\", value = \"RESULT\", -ID)\n",
    "pd2\n",
    "\n",
    "# 아항 저 -해주는게 아예 필요없는 컬럼은 앞으로 아예 빼주는구낭...\n",
    "# 그래서 key, value 값만 남게 해주네 오케이이이이"
   ]
  },
  {
   "cell_type": "code",
   "execution_count": 89,
   "metadata": {},
   "outputs": [
    {
     "data": {
      "text/plain": [
       "\n",
       "\tShapiro-Wilk normality test\n",
       "\n",
       "data:  pd2$RESULT[pd2$GROUP == \"before\"]\n",
       "W = 0.90938, p-value = 0.2768\n"
      ]
     },
     "metadata": {},
     "output_type": "display_data"
    },
    {
     "data": {
      "text/plain": [
       "\n",
       "\tShapiro-Wilk normality test\n",
       "\n",
       "data:  pd2$RESULT[pd2$GROUP == \"After\"]\n",
       "W = 0.91121, p-value = 0.2894\n"
      ]
     },
     "metadata": {},
     "output_type": "display_data"
    }
   ],
   "source": [
    "# 정규분포 여부 확인\n",
    "\n",
    "shapiro.test(pd2$RESULT[pd2$GROUP==\"before\"]) # p-value = 0.2768\n",
    "shapiro.test(pd2$RESULT[pd2$GROUP==\"After\"]) # p-value = 0.2894\n",
    "\n",
    "# p-value 0.05보다 크므로 정규분포O"
   ]
  },
  {
   "cell_type": "code",
   "execution_count": 91,
   "metadata": {},
   "outputs": [
    {
     "data": {
      "text/plain": [
       "\n",
       "\tF test to compare two variances\n",
       "\n",
       "data:  pd2$RESULT[pd2$GROUP == \"before\"] and pd2$RESULT[pd2$GROUP == \"After\"]\n",
       "F = 0.39488, num df = 9, denom df = 9, p-value = 0.1825\n",
       "alternative hypothesis: true ratio of variances is not equal to 1\n",
       "95 percent confidence interval:\n",
       " 0.09808242 1.58978163\n",
       "sample estimates:\n",
       "ratio of variances \n",
       "         0.3948793 \n"
      ]
     },
     "metadata": {},
     "output_type": "display_data"
    }
   ],
   "source": [
    "# 등분산 여부 확인\n",
    "\n",
    "var.test(pd2$RESULT[pd2$GROUP==\"before\"], pd2$RESULT[pd2$GROUP==\"After\"])\n",
    "# p-value 0.05보다 크므로 등분산0"
   ]
  },
  {
   "cell_type": "code",
   "execution_count": 92,
   "metadata": {},
   "outputs": [
    {
     "data": {
      "text/plain": [
       "\n",
       "\tPaired t-test\n",
       "\n",
       "data:  pd2$RESULT by pd2$GROUP\n",
       "t = 20.883, df = 9, p-value = 6.2e-09\n",
       "alternative hypothesis: true difference in means is not equal to 0\n",
       "95 percent confidence interval:\n",
       " 173.4219 215.5581\n",
       "sample estimates:\n",
       "mean of the differences \n",
       "                 194.49 \n"
      ]
     },
     "metadata": {},
     "output_type": "display_data"
    }
   ],
   "source": [
    "# 정규분포니까 t.test해보자\n",
    "\n",
    "t.test(pd2$RESULT ~ pd2$GROUP, data=pd2, paired=T)\n",
    "# 등분산이므로 paired=T\n",
    "\n",
    "# p-value = 6.2e-09 \n",
    "# p-value가 0.05보다 작으므로 대립가설 채택 / 전후 차이가 있다"
   ]
  },
  {
   "cell_type": "code",
   "execution_count": 95,
   "metadata": {},
   "outputs": [
    {
     "data": {
      "text/html": [
       "<table>\n",
       "<thead><tr><th scope=col>RESULT</th></tr></thead>\n",
       "<tbody>\n",
       "\t<tr><td>200.1</td></tr>\n",
       "\t<tr><td>190.9</td></tr>\n",
       "\t<tr><td>192.7</td></tr>\n",
       "\t<tr><td>213.0</td></tr>\n",
       "\t<tr><td>241.4</td></tr>\n",
       "\t<tr><td>196.9</td></tr>\n",
       "\t<tr><td>172.2</td></tr>\n",
       "\t<tr><td>185.5</td></tr>\n",
       "\t<tr><td>205.2</td></tr>\n",
       "\t<tr><td>193.7</td></tr>\n",
       "</tbody>\n",
       "</table>\n"
      ],
      "text/latex": [
       "\\begin{tabular}{r|l}\n",
       " RESULT\\\\\n",
       "\\hline\n",
       "\t 200.1\\\\\n",
       "\t 190.9\\\\\n",
       "\t 192.7\\\\\n",
       "\t 213.0\\\\\n",
       "\t 241.4\\\\\n",
       "\t 196.9\\\\\n",
       "\t 172.2\\\\\n",
       "\t 185.5\\\\\n",
       "\t 205.2\\\\\n",
       "\t 193.7\\\\\n",
       "\\end{tabular}\n"
      ],
      "text/markdown": [
       "\n",
       "| RESULT |\n",
       "|---|\n",
       "| 200.1 |\n",
       "| 190.9 |\n",
       "| 192.7 |\n",
       "| 213.0 |\n",
       "| 241.4 |\n",
       "| 196.9 |\n",
       "| 172.2 |\n",
       "| 185.5 |\n",
       "| 205.2 |\n",
       "| 193.7 |\n",
       "\n"
      ],
      "text/plain": [
       "   RESULT\n",
       "1  200.1 \n",
       "2  190.9 \n",
       "3  192.7 \n",
       "4  213.0 \n",
       "5  241.4 \n",
       "6  196.9 \n",
       "7  172.2 \n",
       "8  185.5 \n",
       "9  205.2 \n",
       "10 193.7 "
      ]
     },
     "metadata": {},
     "output_type": "display_data"
    },
    {
     "data": {
      "text/html": [
       "<table>\n",
       "<thead><tr><th></th><th scope=col>RESULT</th></tr></thead>\n",
       "<tbody>\n",
       "\t<tr><th scope=row>11</th><td>392.9</td></tr>\n",
       "\t<tr><th scope=row>12</th><td>393.2</td></tr>\n",
       "\t<tr><th scope=row>13</th><td>345.1</td></tr>\n",
       "\t<tr><th scope=row>14</th><td>393.0</td></tr>\n",
       "\t<tr><th scope=row>15</th><td>434.0</td></tr>\n",
       "\t<tr><th scope=row>16</th><td>427.9</td></tr>\n",
       "\t<tr><th scope=row>17</th><td>422.0</td></tr>\n",
       "\t<tr><th scope=row>18</th><td>383.9</td></tr>\n",
       "\t<tr><th scope=row>19</th><td>392.3</td></tr>\n",
       "\t<tr><th scope=row>20</th><td>352.2</td></tr>\n",
       "</tbody>\n",
       "</table>\n"
      ],
      "text/latex": [
       "\\begin{tabular}{r|l}\n",
       "  & RESULT\\\\\n",
       "\\hline\n",
       "\t11 & 392.9\\\\\n",
       "\t12 & 393.2\\\\\n",
       "\t13 & 345.1\\\\\n",
       "\t14 & 393.0\\\\\n",
       "\t15 & 434.0\\\\\n",
       "\t16 & 427.9\\\\\n",
       "\t17 & 422.0\\\\\n",
       "\t18 & 383.9\\\\\n",
       "\t19 & 392.3\\\\\n",
       "\t20 & 352.2\\\\\n",
       "\\end{tabular}\n"
      ],
      "text/markdown": [
       "\n",
       "| <!--/--> | RESULT |\n",
       "|---|---|\n",
       "| 11 | 392.9 |\n",
       "| 12 | 393.2 |\n",
       "| 13 | 345.1 |\n",
       "| 14 | 393.0 |\n",
       "| 15 | 434.0 |\n",
       "| 16 | 427.9 |\n",
       "| 17 | 422.0 |\n",
       "| 18 | 383.9 |\n",
       "| 19 | 392.3 |\n",
       "| 20 | 352.2 |\n",
       "\n"
      ],
      "text/plain": [
       "   RESULT\n",
       "11 392.9 \n",
       "12 393.2 \n",
       "13 345.1 \n",
       "14 393.0 \n",
       "15 434.0 \n",
       "16 427.9 \n",
       "17 422.0 \n",
       "18 383.9 \n",
       "19 392.3 \n",
       "20 352.2 "
      ]
     },
     "metadata": {},
     "output_type": "display_data"
    }
   ],
   "source": [
    "# 그래프로 시각화 시키기\n",
    "\n",
    "# densityplot(pd2$RESULT ~ pd2$GROUP, data=pd2)\n",
    "# 하나의 독립적인 변수에만 사용가능해서 사용할 수 없다\n",
    "\n",
    "# 그러므로 하나씩 뽑아서 쓰자!!\n",
    "\n",
    "before <- subset(pd2, GROUP==\"before\", RESULT)\n",
    "before\n",
    "\n",
    "after <- subset(pd2, GROUP==\"After\", RESULT)\n",
    "after"
   ]
  },
  {
   "cell_type": "code",
   "execution_count": 97,
   "metadata": {
    "collapsed": true
   },
   "outputs": [
    {
     "name": "stderr",
     "output_type": "stream",
     "text": [
      "Warning message:\n",
      "\"package 'PairedData' was built under R version 3.6.3\"Loading required package: MASS\n",
      "Loading required package: gld\n",
      "Warning message:\n",
      "\"package 'gld' was built under R version 3.6.2\"Loading required package: mvtnorm\n",
      "Loading required package: lattice\n",
      "\n",
      "Attaching package: 'lattice'\n",
      "\n",
      "The following object is masked from 'package:moonBook':\n",
      "\n",
      "    densityplot\n",
      "\n",
      "Loading required package: ggplot2\n",
      "Warning message:\n",
      "\"package 'ggplot2' was built under R version 3.6.2\"\n",
      "Attaching package: 'PairedData'\n",
      "\n",
      "The following object is masked from 'package:base':\n",
      "\n",
      "    summary\n",
      "\n"
     ]
    }
   ],
   "source": [
    "# 한쌍의 데이터를 전문적으로 처리하는 패키지\n",
    "# install.packages(\"PairedData\")\n",
    "library(PairedData)"
   ]
  },
  {
   "cell_type": "code",
   "execution_count": 99,
   "metadata": {},
   "outputs": [
    {
     "data": {
      "text/html": [
       "<table>\n",
       "<thead><tr><th scope=col>before</th><th scope=col>after</th></tr></thead>\n",
       "<tbody>\n",
       "\t<tr><td>200.1</td><td>392.9</td></tr>\n",
       "\t<tr><td>190.9</td><td>393.2</td></tr>\n",
       "\t<tr><td>192.7</td><td>345.1</td></tr>\n",
       "\t<tr><td>213.0</td><td>393.0</td></tr>\n",
       "\t<tr><td>241.4</td><td>434.0</td></tr>\n",
       "\t<tr><td>196.9</td><td>427.9</td></tr>\n",
       "\t<tr><td>172.2</td><td>422.0</td></tr>\n",
       "\t<tr><td>185.5</td><td>383.9</td></tr>\n",
       "\t<tr><td>205.2</td><td>392.3</td></tr>\n",
       "\t<tr><td>193.7</td><td>352.2</td></tr>\n",
       "</tbody>\n",
       "</table>\n"
      ],
      "text/latex": [
       "\\begin{tabular}{r|ll}\n",
       " before & after\\\\\n",
       "\\hline\n",
       "\t 200.1 & 392.9\\\\\n",
       "\t 190.9 & 393.2\\\\\n",
       "\t 192.7 & 345.1\\\\\n",
       "\t 213.0 & 393.0\\\\\n",
       "\t 241.4 & 434.0\\\\\n",
       "\t 196.9 & 427.9\\\\\n",
       "\t 172.2 & 422.0\\\\\n",
       "\t 185.5 & 383.9\\\\\n",
       "\t 205.2 & 392.3\\\\\n",
       "\t 193.7 & 352.2\\\\\n",
       "\\end{tabular}\n"
      ],
      "text/markdown": [
       "\n",
       "| before | after |\n",
       "|---|---|\n",
       "| 200.1 | 392.9 |\n",
       "| 190.9 | 393.2 |\n",
       "| 192.7 | 345.1 |\n",
       "| 213.0 | 393.0 |\n",
       "| 241.4 | 434.0 |\n",
       "| 196.9 | 427.9 |\n",
       "| 172.2 | 422.0 |\n",
       "| 185.5 | 383.9 |\n",
       "| 205.2 | 392.3 |\n",
       "| 193.7 | 352.2 |\n",
       "\n"
      ],
      "text/plain": [
       "   before after\n",
       "1  200.1  392.9\n",
       "2  190.9  393.2\n",
       "3  192.7  345.1\n",
       "4  213.0  393.0\n",
       "5  241.4  434.0\n",
       "6  196.9  427.9\n",
       "7  172.2  422.0\n",
       "8  185.5  383.9\n",
       "9  205.2  392.3\n",
       "10 193.7  352.2"
      ]
     },
     "metadata": {},
     "output_type": "display_data"
    }
   ],
   "source": [
    "# 합치기\n",
    "# 근데 이럴거면 그냥 원본꺼 가져와도 되는거 아니냥...\n",
    "# 일단 쓰라니까 써보자\n",
    "\n",
    "pd3 <- paired(before, after)\n",
    "pd3"
   ]
  },
  {
   "cell_type": "code",
   "execution_count": 100,
   "metadata": {
    "scrolled": true
   },
   "outputs": [
    {
     "data": {
      "image/png": "[encoded data removed]",
      "text/plain": [
       "plot without title"
      ]
     },
     "metadata": {},
     "output_type": "display_data"
    }
   ],
   "source": [
    "# 그래프로 나타내기\n",
    "plot(pd3, type=\"profile\" + theme_bw())\n",
    "\n",
    "# 이그래프가 그래서 뭐 어쨌다는걸까....?\n",
    "# 연관성이 있기는 하는건가...?\n",
    "# 해석해주실분...?"
   ]
  }
 ],
 "metadata": {
  "kernelspec": {
   "display_name": "R",
   "language": "R",
   "name": "ir"
  },
  "language_info": {
   "codemirror_mode": "r",
   "file_extension": ".r",
   "mimetype": "text/x-r-source",
   "name": "R",
   "pygments_lexer": "r",
   "version": "3.6.1"
  }
 },
 "nbformat": 4,
 "nbformat_minor": 2
}
